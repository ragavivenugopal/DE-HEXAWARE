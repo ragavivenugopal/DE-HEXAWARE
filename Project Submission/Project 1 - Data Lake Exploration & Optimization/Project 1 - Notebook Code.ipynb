{
 "cells": [
  {
   "cell_type": "markdown",
   "metadata": {
    "application/vnd.databricks.v1+cell": {
     "cellMetadata": {},
     "inputWidgets": {},
     "nuid": "fb0b7f09-f2a8-4824-85d8-ffd2b8895cf5",
     "showTitle": false,
     "tableResultSettingsMap": {},
     "title": ""
    }
   },
   "source": [
    "### Config (ADLS Gen2 via SAS) + DB setup"
   ]
  },
  {
   "cell_type": "code",
   "execution_count": 0,
   "metadata": {
    "application/vnd.databricks.v1+cell": {
     "cellMetadata": {
      "byteLimit": 2048000,
      "rowLimit": 10000
     },
     "inputWidgets": {},
     "nuid": "58524cb8-73f5-4bb5-9bd1-bf4f3ed3d483",
     "showTitle": false,
     "tableResultSettingsMap": {},
     "title": ""
    }
   },
   "outputs": [
    {
     "output_type": "stream",
     "name": "stdout",
     "output_type": "stream",
     "text": [
      "RAW_PATH : abfss://mycontainer@sivagamistudentstorage.dfs.core.windows.net/raw/employees_csv\nDELTA_PATH: abfss://mycontainer@sivagamistudentstorage.dfs.core.windows.net/silver/employees_delta\n"
     ]
    },
    {
     "output_type": "execute_result",
     "data": {
      "text/plain": [
       "DataFrame[]"
      ]
     },
     "execution_count": 2,
     "metadata": {},
     "output_type": "execute_result"
    }
   ],
   "source": [
    "from pyspark.sql import SparkSession\n",
    "from pyspark.sql.functions import col, to_date\n",
    "from pyspark.sql.types import IntegerType, DoubleType, DateType\n",
    "\n",
    "\n",
    "SAS_TOKEN = \"sv=2024-11-04&ss=bfqt&srt=sco&sp=rwdlacupyx&se=2025-08-24T00:33:44Z&st=2025-08-23T16:18:44Z&spr=https&sig=23T04F6gi0UoDFPg6LFEylxjw4da2Zicur8%2Fpl7CRLg%3D\"\n",
    "\n",
    "# Your storage info\n",
    "ACCOUNT_NAME = \"sivagamistudentstorage\"\n",
    "CONTAINER    = \"mycontainer\"\n",
    "\n",
    "# Lake paths \n",
    "\n",
    "LAKE_BASE   = f\"abfss://{CONTAINER}@{ACCOUNT_NAME}.dfs.core.windows.net\"\n",
    "RAW_PATH    = f\"{LAKE_BASE}/raw/employees_csv\"         \n",
    "DELTA_PATH  = f\"{LAKE_BASE}/silver/employees_delta\"  \n",
    "\n",
    "print(\"RAW_PATH :\", RAW_PATH)\n",
    "print(\"DELTA_PATH:\", DELTA_PATH)\n",
    "\n",
    "# Configure Spark to use SAS for ADLS Gen2 \n",
    "\n",
    "fqdn = f\"{ACCOUNT_NAME}.dfs.core.windows.net\"\n",
    "spark.conf.set(f\"fs.azure.account.auth.type.{fqdn}\", \"SAS\")\n",
    "spark.conf.set(f\"fs.azure.sas.token.provider.type.{fqdn}\", \"org.apache.hadoop.fs.azurebfs.sas.FixedSASTokenProvider\")\n",
    "spark.conf.set(f\"fs.azure.sas.fixed.token.{fqdn}\", SAS_TOKEN)\n",
    "\n",
    "# Lightweight performance defaults\n",
    "\n",
    "spark.conf.set(\"spark.sql.adaptive.enabled\", True)\n",
    "spark.conf.set(\"spark.databricks.delta.optimizeWrite.enabled\", True)\n",
    "spark.conf.set(\"spark.databricks.delta.autoCompact.enabled\", True)\n",
    "\n",
    "# Create / use a workspace-local database (you’re not using Unity Catalog)\n",
    "spark.sql(\"CREATE DATABASE IF NOT EXISTS employees_demo\")\n",
    "spark.sql(\"USE employees_demo\")\n"
   ]
  },
  {
   "cell_type": "markdown",
   "metadata": {
    "application/vnd.databricks.v1+cell": {
     "cellMetadata": {},
     "inputWidgets": {},
     "nuid": "380d028c-52f0-4f0b-a29d-e7e4356f9219",
     "showTitle": false,
     "tableResultSettingsMap": {},
     "title": ""
    }
   },
   "source": [
    "### Read CSV from the lake (RAW zone)"
   ]
  },
  {
   "cell_type": "code",
   "execution_count": 0,
   "metadata": {
    "application/vnd.databricks.v1+cell": {
     "cellMetadata": {
      "byteLimit": 2048000,
      "rowLimit": 10000
     },
     "inputWidgets": {},
     "nuid": "bfb6745b-c3da-4eff-977e-81f91017ea58",
     "showTitle": false,
     "tableResultSettingsMap": {},
     "title": ""
    }
   },
   "outputs": [
    {
     "output_type": "stream",
     "name": "stdout",
     "output_type": "stream",
     "text": [
      "+-----------+----------+---------+--------+------------+---------+--------+------+--------------+----------+-------------+\n|EMPLOYEE_ID|FIRST_NAME|LAST_NAME|   EMAIL|PHONE_NUMBER|HIRE_DATE|  JOB_ID|SALARY|COMMISSION_PCT|MANAGER_ID|DEPARTMENT_ID|\n+-----------+----------+---------+--------+------------+---------+--------+------+--------------+----------+-------------+\n|        198|    Donald| OConnell|DOCONNEL|650.507.9833|21-JUN-07|SH_CLERK|  2600|            - |       124|           50|\n|        199|   Douglas|    Grant|  DGRANT|650.507.9844|13-JAN-08|SH_CLERK|  2600|            - |       124|           50|\n|        200|  Jennifer|   Whalen| JWHALEN|515.123.4444|17-SEP-03| AD_ASST|  4400|            - |       101|           10|\n|        201|   Michael|Hartstein|MHARTSTE|515.123.5555|17-FEB-04|  MK_MAN| 13000|            - |       100|           20|\n|        202|       Pat|      Fay|    PFAY|603.123.6666|17-AUG-05|  MK_REP|  6000|            - |       201|           20|\n+-----------+----------+---------+--------+------------+---------+--------+------+--------------+----------+-------------+\nonly showing top 5 rows\nroot\n |-- EMPLOYEE_ID: integer (nullable = true)\n |-- FIRST_NAME: string (nullable = true)\n |-- LAST_NAME: string (nullable = true)\n |-- EMAIL: string (nullable = true)\n |-- PHONE_NUMBER: string (nullable = true)\n |-- HIRE_DATE: string (nullable = true)\n |-- JOB_ID: string (nullable = true)\n |-- SALARY: integer (nullable = true)\n |-- COMMISSION_PCT: string (nullable = true)\n |-- MANAGER_ID: string (nullable = true)\n |-- DEPARTMENT_ID: integer (nullable = true)\n\nRows: 50\n"
     ]
    }
   ],
   "source": [
    "# Point to the exact file in RAW\n",
    "raw_csv = f\"{RAW_PATH}/employees.csv\"\n",
    "\n",
    "# Read with header + infer schema\n",
    "df_raw = (spark.read\n",
    "          .option(\"header\", True)\n",
    "          .option(\"inferSchema\", True)\n",
    "          .csv(raw_csv))\n",
    "\n",
    "df_raw.show(5)\n",
    "df_raw.printSchema()\n",
    "print(\"Rows:\", df_raw.count())\n"
   ]
  },
  {
   "cell_type": "markdown",
   "metadata": {
    "application/vnd.databricks.v1+cell": {
     "cellMetadata": {},
     "inputWidgets": {},
     "nuid": "42338753-35c6-40cf-a9e3-68689200c7f5",
     "showTitle": false,
     "tableResultSettingsMap": {},
     "title": ""
    }
   },
   "source": [
    "### Minimal typing/cleanup + Temp View"
   ]
  },
  {
   "cell_type": "code",
   "execution_count": 0,
   "metadata": {
    "application/vnd.databricks.v1+cell": {
     "cellMetadata": {
      "byteLimit": 2048000,
      "rowLimit": 10000
     },
     "inputWidgets": {},
     "nuid": "8dedf05c-c7f7-40cb-b7ff-8d38a9c679aa",
     "showTitle": false,
     "tableResultSettingsMap": {},
     "title": ""
    }
   },
   "outputs": [],
   "source": [
    "# Cast common columns (adjust names if your CSV differs)\n",
    "df = (df_raw\n",
    "      .withColumn(\"EMPLOYEE_ID\",   col(\"EMPLOYEE_ID\").cast(IntegerType()))\n",
    "      .withColumn(\"SALARY\",        col(\"SALARY\").cast(DoubleType()))\n",
    "      .withColumn(\"COMMISSION_PCT\",col(\"COMMISSION_PCT\").cast(DoubleType()))\n",
    "      .withColumn(\"MANAGER_ID\",    col(\"MANAGER_ID\").cast(IntegerType()))\n",
    "      .withColumn(\"DEPARTMENT_ID\", col(\"DEPARTMENT_ID\").cast(IntegerType()))\n",
    "\n",
    "\n",
    "      .withColumn(\"HIRE_DATE\",     to_date(col(\"HIRE_DATE\"), \"dd-MMM-yy\").cast(DateType()))\n",
    "      )\n",
    "\n",
    "df.createOrReplaceTempView(\"employees_raw\")"
   ]
  },
  {
   "cell_type": "code",
   "execution_count": 0,
   "metadata": {
    "application/vnd.databricks.v1+cell": {
     "cellMetadata": {
      "byteLimit": 2048000,
      "rowLimit": 10000
     },
     "inputWidgets": {},
     "nuid": "24a830fa-d005-4191-a398-a16465362a8c",
     "showTitle": false,
     "tableResultSettingsMap": {},
     "title": ""
    }
   },
   "outputs": [
    {
     "output_type": "stream",
     "name": "stdout",
     "output_type": "stream",
     "text": [
      "+-----+-------+-------+-------+\n|total|min_sal|max_sal|avg_sal|\n+-----+-------+-------+-------+\n|   50| 2100.0|24000.0|6182.32|\n+-----+-------+-------+-------+\n\n"
     ]
    }
   ],
   "source": [
    "# Quick sanity\n",
    "spark.sql(\"\"\"\n",
    "SELECT COUNT(*) total,\n",
    "       MIN(SALARY) min_sal,\n",
    "       MAX(SALARY) max_sal,\n",
    "       ROUND(AVG(SALARY),2) avg_sal\n",
    "FROM employees_raw\n",
    "\"\"\").show()"
   ]
  },
  {
   "cell_type": "markdown",
   "metadata": {
    "application/vnd.databricks.v1+cell": {
     "cellMetadata": {},
     "inputWidgets": {},
     "nuid": "48095aa5-72a9-4cb8-aff4-2b47bc809f12",
     "showTitle": false,
     "tableResultSettingsMap": {},
     "title": ""
    }
   },
   "source": [
    "### Write Delta (Silver) to the lake + Register table"
   ]
  },
  {
   "cell_type": "code",
   "execution_count": 0,
   "metadata": {
    "application/vnd.databricks.v1+cell": {
     "cellMetadata": {
      "byteLimit": 2048000,
      "rowLimit": 10000
     },
     "inputWidgets": {},
     "nuid": "7667e4bc-c319-425c-ad45-1eeb8de7c160",
     "showTitle": false,
     "tableResultSettingsMap": {},
     "title": ""
    }
   },
   "outputs": [
    {
     "output_type": "stream",
     "name": "stdout",
     "output_type": "stream",
     "text": [
      "+------+------------------------------------+--------------------------------------------+-----------+--------------------------------------------------------------------------------------+-----------------------+-------------------+----------------+-----------------+--------+-----------+-------------------------------------+----------------+----------------+-----------------------------------------+---------------------------------------------------------------+-------------+\n|format|id                                  |name                                        |description|location                                                                              |createdAt              |lastModified       |partitionColumns|clusteringColumns|numFiles|sizeInBytes|properties                           |minReaderVersion|minWriterVersion|tableFeatures                            |statistics                                                     |clusterByAuto|\n+------+------------------------------------+--------------------------------------------+-----------+--------------------------------------------------------------------------------------+-----------------------+-------------------+----------------+-----------------+--------+-----------+-------------------------------------+----------------+----------------+-----------------------------------------+---------------------------------------------------------------+-------------+\n|delta |d553f380-77a4-45f9-8492-69686973ad75|spark_catalog.employees_demo.employees_delta|NULL       |abfss://mycontainer@sivagamistudentstorage.dfs.core.windows.net/silver/employees_delta|2025-08-23 16:50:13.406|2025-08-23 16:50:18|[]              |[]               |1       |5332       |{delta.enableDeletionVectors -> true}|3               |7               |[appendOnly, deletionVectors, invariants]|{numRowsDeletedByDeletionVectors -> 0, numDeletionVectors -> 0}|false        |\n+------+------------------------------------+--------------------------------------------+-----------+--------------------------------------------------------------------------------------+-----------------------+-------------------+----------------+-----------------+--------+-----------+-------------------------------------+----------------+----------------+-----------------------------------------+---------------------------------------------------------------+-------------+\n\n+-----+\n|total|\n+-----+\n|   50|\n+-----+\n\n"
     ]
    }
   ],
   "source": [
    "# Write to Delta (Silver)\n",
    "(df.coalesce(1)\n",
    "   .write\n",
    "   .format(\"delta\")\n",
    "   .mode(\"overwrite\")\n",
    "   .save(DELTA_PATH))\n",
    "\n",
    "# Register external Delta table\n",
    "spark.sql(\"DROP TABLE IF EXISTS employees_delta\")\n",
    "spark.sql(f\"\"\"\n",
    "CREATE TABLE employees_delta\n",
    "USING DELTA\n",
    "LOCATION '{DELTA_PATH}'\n",
    "\"\"\")\n",
    "spark.sql(\"DESCRIBE DETAIL employees_delta\").show(truncate=False)\n",
    "spark.sql(\"SELECT COUNT(*) AS total FROM employees_delta\").show()\n"
   ]
  },
  {
   "cell_type": "markdown",
   "metadata": {
    "application/vnd.databricks.v1+cell": {
     "cellMetadata": {},
     "inputWidgets": {},
     "nuid": "8d7bc9fc-ab7d-46a9-8d31-c32568098dc7",
     "showTitle": false,
     "tableResultSettingsMap": {},
     "title": ""
    }
   },
   "source": [
    "###  PySparkSQL exploration queries"
   ]
  },
  {
   "cell_type": "code",
   "execution_count": 0,
   "metadata": {
    "application/vnd.databricks.v1+cell": {
     "cellMetadata": {
      "byteLimit": 2048000,
      "rowLimit": 10000
     },
     "inputWidgets": {},
     "nuid": "76cf3216-533b-4eda-b159-3188f23c3f9f",
     "showTitle": false,
     "tableResultSettingsMap": {},
     "title": ""
    }
   },
   "outputs": [
    {
     "output_type": "stream",
     "name": "stdout",
     "output_type": "stream",
     "text": [
      "+----------+---------+-------+-------+\n|FIRST_NAME|LAST_NAME| JOB_ID| SALARY|\n+----------+---------+-------+-------+\n|    Steven|     King|AD_PRES|24000.0|\n|     Neena|  Kochhar|  AD_VP|17000.0|\n|       Lex|  De Haan|  AD_VP|17000.0|\n|   Michael|Hartstein| MK_MAN|13000.0|\n|   Shelley|  Higgins| AC_MGR|12008.0|\n+----------+---------+-------+-------+\n\n"
     ]
    }
   ],
   "source": [
    "# Top 5 highest paid\n",
    "spark.sql(\"\"\"\n",
    "SELECT FIRST_NAME, LAST_NAME, JOB_ID, SALARY\n",
    "FROM employees_delta\n",
    "ORDER BY SALARY DESC\n",
    "LIMIT 5\n",
    "\"\"\").show()"
   ]
  },
  {
   "cell_type": "code",
   "execution_count": 0,
   "metadata": {
    "application/vnd.databricks.v1+cell": {
     "cellMetadata": {
      "byteLimit": 2048000,
      "rowLimit": 10000
     },
     "inputWidgets": {},
     "nuid": "0f1c4e28-bc26-422e-8b1a-71a77823178d",
     "showTitle": false,
     "tableResultSettingsMap": {},
     "title": ""
    }
   },
   "outputs": [
    {
     "output_type": "stream",
     "name": "stdout",
     "output_type": "stream",
     "text": [
      "+-------------+---------+\n|DEPARTMENT_ID|emp_count|\n+-------------+---------+\n|           50|       23|\n|          100|        6|\n|           30|        6|\n|           60|        5|\n|           90|        3|\n|           20|        2|\n|          110|        2|\n|           10|        1|\n|           40|        1|\n|           70|        1|\n+-------------+---------+\n\n"
     ]
    }
   ],
   "source": [
    "# Employees per department\n",
    "spark.sql(\"\"\"\n",
    "SELECT DEPARTMENT_ID, COUNT(*) AS emp_count\n",
    "FROM employees_delta\n",
    "GROUP BY DEPARTMENT_ID\n",
    "ORDER BY emp_count DESC\n",
    "\"\"\").show()"
   ]
  },
  {
   "cell_type": "code",
   "execution_count": 0,
   "metadata": {
    "application/vnd.databricks.v1+cell": {
     "cellMetadata": {
      "byteLimit": 2048000,
      "rowLimit": 10000
     },
     "inputWidgets": {},
     "nuid": "c3f496ad-754e-45c9-bb65-8ddc5e4cf54b",
     "showTitle": false,
     "tableResultSettingsMap": {},
     "title": ""
    }
   },
   "outputs": [
    {
     "output_type": "stream",
     "name": "stdout",
     "output_type": "stream",
     "text": [
      "+----------+----------+---------+\n|    JOB_ID|avg_salary|emp_count|\n+----------+----------+---------+\n|   AD_PRES|   24000.0|        1|\n|     AD_VP|   17000.0|        2|\n|    MK_MAN|   13000.0|        1|\n|    AC_MGR|   12008.0|        1|\n|    FI_MGR|   12008.0|        1|\n|    PU_MAN|   11000.0|        1|\n|    PR_REP|   10000.0|        1|\n|AC_ACCOUNT|    8300.0|        1|\n|FI_ACCOUNT|    7920.0|        5|\n|    ST_MAN|    7280.0|        5|\n|    HR_REP|    6500.0|        1|\n|    MK_REP|    6000.0|        1|\n|   IT_PROG|    5760.0|        5|\n|   AD_ASST|    4400.0|        1|\n|  PU_CLERK|    2780.0|        5|\n|  ST_CLERK|    2750.0|       16|\n|  SH_CLERK|    2600.0|        2|\n+----------+----------+---------+\n\n"
     ]
    }
   ],
   "source": [
    "# Average salary by job role\n",
    "spark.sql(\"\"\"\n",
    "SELECT JOB_ID, ROUND(AVG(SALARY),2) AS avg_salary, COUNT(*) AS emp_count\n",
    "FROM employees_delta\n",
    "GROUP BY JOB_ID\n",
    "ORDER BY avg_salary DESC\n",
    "\"\"\").show()"
   ]
  },
  {
   "cell_type": "code",
   "execution_count": 0,
   "metadata": {
    "application/vnd.databricks.v1+cell": {
     "cellMetadata": {
      "byteLimit": 2048000,
      "rowLimit": 10000
     },
     "inputWidgets": {},
     "nuid": "d55d1ee5-21e8-4789-a364-72d9d8a2855e",
     "showTitle": false,
     "tableResultSettingsMap": {},
     "title": ""
    }
   },
   "outputs": [
    {
     "output_type": "stream",
     "name": "stdout",
     "output_type": "stream",
     "text": [
      "+----------+--------------+\n|MANAGER_ID|direct_reports|\n+----------+--------------+\n|       100|             9|\n|       101|             5|\n|       108|             5|\n|       114|             5|\n|       123|             4|\n|       121|             4|\n|       103|             4|\n|       122|             4|\n|       120|             4|\n|       124|             2|\n|       102|             1|\n|       205|             1|\n|       201|             1|\n+----------+--------------+\n\n"
     ]
    }
   ],
   "source": [
    "# Manager-employee counts\n",
    "spark.sql(\"\"\"\n",
    "SELECT MANAGER_ID, COUNT(*) AS direct_reports\n",
    "FROM employees_delta\n",
    "WHERE MANAGER_ID IS NOT NULL\n",
    "GROUP BY MANAGER_ID\n",
    "ORDER BY direct_reports DESC\n",
    "\"\"\").show()"
   ]
  },
  {
   "cell_type": "markdown",
   "metadata": {
    "application/vnd.databricks.v1+cell": {
     "cellMetadata": {},
     "inputWidgets": {},
     "nuid": "ef5c3cb6-2fda-4fd0-8563-66c785bfcddd",
     "showTitle": false,
     "tableResultSettingsMap": {},
     "title": ""
    }
   },
   "source": [
    "### Optimize Delta"
   ]
  },
  {
   "cell_type": "code",
   "execution_count": 0,
   "metadata": {
    "application/vnd.databricks.v1+cell": {
     "cellMetadata": {
      "byteLimit": 2048000,
      "rowLimit": 10000
     },
     "inputWidgets": {},
     "nuid": "b7873fbf-6265-4d7a-9774-ee05bec03042",
     "showTitle": false,
     "tableResultSettingsMap": {},
     "title": ""
    }
   },
   "outputs": [
    {
     "output_type": "execute_result",
     "data": {
      "text/plain": [
       "DataFrame[]"
      ]
     },
     "execution_count": 11,
     "metadata": {},
     "output_type": "execute_result"
    }
   ],
   "source": [
    "# Compact small files\n",
    "spark.sql(\"OPTIMIZE employees_delta\")\n",
    "\n",
    "# Compute stats to help the optimizer\n",
    "spark.sql(\"ANALYZE TABLE employees_delta COMPUTE STATISTICS\")\n",
    "spark.sql(\"ANALYZE TABLE employees_delta COMPUTE STATISTICS FOR COLUMNS SALARY, DEPARTMENT_ID, JOB_ID\")\n"
   ]
  },
  {
   "cell_type": "markdown",
   "metadata": {
    "application/vnd.databricks.v1+cell": {
     "cellMetadata": {},
     "inputWidgets": {},
     "nuid": "cd5be759-ae47-4219-9815-9a305b7f559f",
     "showTitle": false,
     "tableResultSettingsMap": {},
     "title": ""
    }
   },
   "source": [
    "### Example: filtered query + plan "
   ]
  },
  {
   "cell_type": "code",
   "execution_count": 0,
   "metadata": {
    "application/vnd.databricks.v1+cell": {
     "cellMetadata": {
      "byteLimit": 2048000,
      "rowLimit": 10000
     },
     "inputWidgets": {},
     "nuid": "832ad722-404f-4d6e-8a6e-a87cdabb7935",
     "showTitle": false,
     "tableResultSettingsMap": {},
     "title": ""
    }
   },
   "outputs": [
    {
     "output_type": "stream",
     "name": "stdout",
     "output_type": "stream",
     "text": [
      "+-------------+---------+--------+-------+\n|DEPARTMENT_ID|emp_count| avg_sal|max_sal|\n+-------------+---------+--------+-------+\n|           90|        3|19333.33|24000.0|\n|           30|        1| 11000.0|11000.0|\n|          110|        2| 10154.0|12008.0|\n|           70|        1| 10000.0|10000.0|\n|           20|        2|  9500.0|13000.0|\n|          100|        6| 8601.33|12008.0|\n|           60|        2|  7500.0| 9000.0|\n|           50|        5|  7280.0| 8200.0|\n|           40|        1|  6500.0| 6500.0|\n+-------------+---------+--------+-------+\n\n+-------------------------------------------------------------------------------------------------------------------------------------------------------------------------------------------------------------------------------------------------------------------------------------------------------------------------------------------------------------------------------------------------------------------------------------------------------------------------------------------------------------------------------------------------------------------------------------------------------------------------------------------------------------------------------------------------------------------------------------------------------------------------------------------------------------------------------------------------------------------------------------------------------------------------------------------------------------------------------------------------------------------------------------------------------------------------------------------------------------------------------------------------------------------------------------------------------------------------------------------------------------------------------------------------------------------------------------------------------------------------------------------------------------------------------------------------------------------------------------------------------------------------------------------------------------------------------------------------------------------------------------------------------------------------------------------------------------------------------------------------------------------------------------------------------------------------------------------------------------------------------------------------------------------------------------------------------------------------------------------------------------------------------------------------------------------------------------------------------------------------------------------------------------------------------------------------------------------------------------------------------------------------------------------------------------------------------------------------------------------------------------------------------------------------------------------------------------------------------------------------------------------------------------------------------------------------------------------------------------------------------------------------------------------------------------------------------------------------------------------------------------------------------------------------------------------------------------------------------------------------------------------------------------------------------------------------------------------------------------------------------------------------------------------------------------------------------------------------------------------------------------------------------------------------------------------------------------------------------------------------------------------------------------------------------------------------------------------------------------------------------------------------------------------------------------------------------------------------------------------------------------------------------------------------------------------------------------------------------------------------------------------------------------------------------------------------------------------------------------------------------------------------------------------------------------------------------+\n|plan                                                                                                                                                                                                                                                                                                                                                                                                                                                                                                                                                                                                                                                                                                                                                                                                                                                                                                                                                                                                                                                                                                                                                                                                                                                                                                                                                                                                                                                                                                                                                                                                                                                                                                                                                                                                                                                                                                                                                                                                                                                                                                                                                                                                                                                                                                                                                                                                                                                                                                                                                                                                                                                                                                                                                                                                                                                                                                                                                                                                                                                                                                                                                                                                                                                                                                                                                                                                                                                                                                                                                                                                                                                                                                                                                                                                                           |\n+-------------------------------------------------------------------------------------------------------------------------------------------------------------------------------------------------------------------------------------------------------------------------------------------------------------------------------------------------------------------------------------------------------------------------------------------------------------------------------------------------------------------------------------------------------------------------------------------------------------------------------------------------------------------------------------------------------------------------------------------------------------------------------------------------------------------------------------------------------------------------------------------------------------------------------------------------------------------------------------------------------------------------------------------------------------------------------------------------------------------------------------------------------------------------------------------------------------------------------------------------------------------------------------------------------------------------------------------------------------------------------------------------------------------------------------------------------------------------------------------------------------------------------------------------------------------------------------------------------------------------------------------------------------------------------------------------------------------------------------------------------------------------------------------------------------------------------------------------------------------------------------------------------------------------------------------------------------------------------------------------------------------------------------------------------------------------------------------------------------------------------------------------------------------------------------------------------------------------------------------------------------------------------------------------------------------------------------------------------------------------------------------------------------------------------------------------------------------------------------------------------------------------------------------------------------------------------------------------------------------------------------------------------------------------------------------------------------------------------------------------------------------------------------------------------------------------------------------------------------------------------------------------------------------------------------------------------------------------------------------------------------------------------------------------------------------------------------------------------------------------------------------------------------------------------------------------------------------------------------------------------------------------------------------------------------------------------------------------------------------------------------------------------------------------------------------------------------------------------------------------------------------------------------------------------------------------------------------------------------------------------------------------------------------------------------------------------------------------------------------------------------------------------------------------------------------------------+\n|== Physical Plan ==\\nAdaptiveSparkPlan (13)\\n+- == Initial Plan ==\\n   ColumnarToRow (12)\\n   +- PhotonResultStage (11)\\n      +- PhotonSort (10)\\n         +- PhotonShuffleExchangeSource (9)\\n            +- PhotonShuffleMapStage (8)\\n               +- PhotonShuffleExchangeSink (7)\\n                  +- PhotonGroupingAgg (6)\\n                     +- PhotonShuffleExchangeSource (5)\\n                        +- PhotonShuffleMapStage (4)\\n                           +- PhotonShuffleExchangeSink (3)\\n                              +- PhotonGroupingAgg (2)\\n                                 +- PhotonScan parquet spark_catalog.employees_demo.employees_delta (1)\\n\\n\\n(1) PhotonScan parquet spark_catalog.employees_demo.employees_delta\\nOutput [2]: [SALARY#3049, DEPARTMENT_ID#3052]\\nDictionaryFilters: [(SALARY#3049 >= 5000.0)]\\nLocation: PreparedDeltaFileIndex [abfss://mycontainer@sivagamistudentstorage.dfs.core.windows.net/silver/employees_delta]\\nReadSchema: struct<SALARY:double,DEPARTMENT_ID:int>\\nRequiredDataFilters: [isnotnull(SALARY#3049), (SALARY#3049 >= 5000.0)]\\n\\n(2) PhotonGroupingAgg\\nInput [2]: [SALARY#3049, DEPARTMENT_ID#3052]\\nArguments: [DEPARTMENT_ID#3052], [partial_count(1) AS count#3064L, partial_avg(SALARY#3049) AS (sum#3067, count#3068L), partial_max(SALARY#3049) AS max#3070], [count#3063L, sum#3065, count#3066L, max#3069], [DEPARTMENT_ID#3052, count#3064L, sum#3067, count#3068L, max#3070], false\\n\\n(3) PhotonShuffleExchangeSink\\nInput [5]: [DEPARTMENT_ID#3052, count#3064L, sum#3067, count#3068L, max#3070]\\nArguments: hashpartitioning(DEPARTMENT_ID#3052, 200)\\n\\n(4) PhotonShuffleMapStage\\nInput [5]: [DEPARTMENT_ID#3052, count#3064L, sum#3067, count#3068L, max#3070]\\nArguments: ENSURE_REQUIREMENTS, [id=#1561]\\n\\n(5) PhotonShuffleExchangeSource\\nInput [5]: [DEPARTMENT_ID#3052, count#3064L, sum#3067, count#3068L, max#3070]\\n\\n(6) PhotonGroupingAgg\\nInput [5]: [DEPARTMENT_ID#3052, count#3064L, sum#3067, count#3068L, max#3070]\\nArguments: [DEPARTMENT_ID#3052], [finalmerge_count(merge count#3064L) AS count(1)#3053L, finalmerge_avg(merge sum#3067, count#3068L) AS avg(SALARY#3049)#3055, finalmerge_max(merge max#3070) AS max(SALARY#3049)#3056], [count(1)#3053L, avg(SALARY#3049)#3055, max(SALARY#3049)#3056], [DEPARTMENT_ID#3052, count(1)#3053L AS emp_count#3013L, round(avg(SALARY#3049)#3055, 2) AS avg_sal#3014, max(SALARY#3049)#3056 AS max_sal#3015], true\\n\\n(7) PhotonShuffleExchangeSink\\nInput [4]: [DEPARTMENT_ID#3052, emp_count#3013L, avg_sal#3014, max_sal#3015]\\nArguments: rangepartitioning(avg_sal#3014 DESC NULLS LAST, 200)\\n\\n(8) PhotonShuffleMapStage\\nInput [4]: [DEPARTMENT_ID#3052, emp_count#3013L, avg_sal#3014, max_sal#3015]\\nArguments: ENSURE_REQUIREMENTS, [id=#1567]\\n\\n(9) PhotonShuffleExchangeSource\\nInput [4]: [DEPARTMENT_ID#3052, emp_count#3013L, avg_sal#3014, max_sal#3015]\\n\\n(10) PhotonSort\\nInput [4]: [DEPARTMENT_ID#3052, emp_count#3013L, avg_sal#3014, max_sal#3015]\\nArguments: [avg_sal#3014 DESC NULLS LAST]\\n\\n(11) PhotonResultStage\\nInput [4]: [DEPARTMENT_ID#3052, emp_count#3013L, avg_sal#3014, max_sal#3015]\\n\\n(12) ColumnarToRow\\nInput [4]: [DEPARTMENT_ID#3052, emp_count#3013L, avg_sal#3014, max_sal#3015]\\n\\n(13) AdaptiveSparkPlan\\nOutput [4]: [DEPARTMENT_ID#3052, emp_count#3013L, avg_sal#3014, max_sal#3015]\\nArguments: isFinalPlan=false\\n\\n\\n== Photon Explanation ==\\nThe query is fully supported by Photon.\\n== Optimizer Statistics (table names per statistics state) ==\\n  missing = \\n  partial = employees_delta\\n  full    = \\nCorrective actions: consider running the following command on all tables with missing or partial statistics\\n  ANALYZE TABLE <table-name> COMPUTE STATISTICS FOR ALL COLUMNS\\n|\n+-------------------------------------------------------------------------------------------------------------------------------------------------------------------------------------------------------------------------------------------------------------------------------------------------------------------------------------------------------------------------------------------------------------------------------------------------------------------------------------------------------------------------------------------------------------------------------------------------------------------------------------------------------------------------------------------------------------------------------------------------------------------------------------------------------------------------------------------------------------------------------------------------------------------------------------------------------------------------------------------------------------------------------------------------------------------------------------------------------------------------------------------------------------------------------------------------------------------------------------------------------------------------------------------------------------------------------------------------------------------------------------------------------------------------------------------------------------------------------------------------------------------------------------------------------------------------------------------------------------------------------------------------------------------------------------------------------------------------------------------------------------------------------------------------------------------------------------------------------------------------------------------------------------------------------------------------------------------------------------------------------------------------------------------------------------------------------------------------------------------------------------------------------------------------------------------------------------------------------------------------------------------------------------------------------------------------------------------------------------------------------------------------------------------------------------------------------------------------------------------------------------------------------------------------------------------------------------------------------------------------------------------------------------------------------------------------------------------------------------------------------------------------------------------------------------------------------------------------------------------------------------------------------------------------------------------------------------------------------------------------------------------------------------------------------------------------------------------------------------------------------------------------------------------------------------------------------------------------------------------------------------------------------------------------------------------------------------------------------------------------------------------------------------------------------------------------------------------------------------------------------------------------------------------------------------------------------------------------------------------------------------------------------------------------------------------------------------------------------------------------------------------------------------------------------------------------------+\n\n"
     ]
    }
   ],
   "source": [
    "query = \"\"\"\n",
    "SELECT DEPARTMENT_ID,\n",
    "       COUNT(*) AS emp_count,\n",
    "       ROUND(AVG(SALARY),2) AS avg_sal,\n",
    "       MAX(SALARY) AS max_sal\n",
    "FROM employees_delta\n",
    "WHERE SALARY >= 5000\n",
    "GROUP BY DEPARTMENT_ID\n",
    "ORDER BY avg_sal DESC\n",
    "\"\"\"\n",
    "                     \n",
    "spark.sql(query).show()\n",
    "                     \n",
    "# Explain plan to verify partition/pruning/skipping benefits\n",
    "spark.sql(f\"EXPLAIN FORMATTED {query}\").show(truncate=False)\n",
    "\n",
    "                   "
   ]
  },
  {
   "cell_type": "markdown",
   "metadata": {
    "application/vnd.databricks.v1+cell": {
     "cellMetadata": {},
     "inputWidgets": {},
     "nuid": "8537c4b4-ea5e-4acf-ba2e-92769176a95d",
     "showTitle": false,
     "tableResultSettingsMap": {},
     "title": ""
    }
   },
   "source": [
    "### Quick chart in Databricks UI"
   ]
  },
  {
   "cell_type": "code",
   "execution_count": 0,
   "metadata": {
    "application/vnd.databricks.v1+cell": {
     "cellMetadata": {
      "byteLimit": 2048000,
      "rowLimit": 10000
     },
     "inputWidgets": {},
     "nuid": "c93484d7-db85-4344-a93d-acc6ca3e62ca",
     "showTitle": false,
     "tableResultSettingsMap": {},
     "title": ""
    }
   },
   "outputs": [
    {
     "output_type": "display_data",
     "data": {
      "text/html": [
       "<style scoped>\n",
       "  .table-result-container {\n",
       "    max-height: 300px;\n",
       "    overflow: auto;\n",
       "  }\n",
       "  table, th, td {\n",
       "    border: 1px solid black;\n",
       "    border-collapse: collapse;\n",
       "  }\n",
       "  th, td {\n",
       "    padding: 5px;\n",
       "  }\n",
       "  th {\n",
       "    text-align: left;\n",
       "  }\n",
       "</style><div class='table-result-container'><table class='table-result'><thead style='background-color: white'><tr><th>DEPARTMENT_ID</th><th>avg_salary</th></tr></thead><tbody><tr><td>10</td><td>4400.0</td></tr><tr><td>20</td><td>9500.0</td></tr><tr><td>30</td><td>4150.0</td></tr><tr><td>40</td><td>6500.0</td></tr><tr><td>50</td><td>3721.74</td></tr><tr><td>60</td><td>5760.0</td></tr><tr><td>70</td><td>10000.0</td></tr><tr><td>90</td><td>19333.33</td></tr><tr><td>100</td><td>8601.33</td></tr><tr><td>110</td><td>10154.0</td></tr></tbody></table></div>"
      ]
     },
     "metadata": {
      "application/vnd.databricks.v1+output": {
       "addedWidgets": {},
       "aggData": [],
       "aggError": "",
       "aggOverflow": false,
       "aggSchema": [],
       "aggSeriesLimitReached": false,
       "aggType": "",
       "arguments": {},
       "columnCustomDisplayInfos": {},
       "data": [
        [
         10,
         4400.0
        ],
        [
         20,
         9500.0
        ],
        [
         30,
         4150.0
        ],
        [
         40,
         6500.0
        ],
        [
         50,
         3721.74
        ],
        [
         60,
         5760.0
        ],
        [
         70,
         10000.0
        ],
        [
         90,
         19333.33
        ],
        [
         100,
         8601.33
        ],
        [
         110,
         10154.0
        ]
       ],
       "datasetInfos": [],
       "dbfsResultPath": null,
       "isJsonSchema": true,
       "metadata": {},
       "overflow": false,
       "plotOptions": {
        "customPlotOptions": {},
        "displayType": "table",
        "pivotAggregation": null,
        "pivotColumns": null,
        "xColumns": null,
        "yColumns": null
       },
       "removedWidgets": [],
       "schema": [
        {
         "metadata": "{}",
         "name": "DEPARTMENT_ID",
         "type": "\"integer\""
        },
        {
         "metadata": "{}",
         "name": "avg_salary",
         "type": "\"double\""
        }
       ],
       "type": "table"
      }
     },
     "output_type": "display_data"
    },
    {
     "output_type": "display_data",
     "data": {
      "text/plain": [
       "Databricks visualization. Run in Databricks to view."
      ]
     },
     "metadata": {
      "application/vnd.databricks.v1.subcommand+json": {
       "baseErrorDetails": null,
       "bindings": {},
       "collapsed": false,
       "command": "%python\n__backend_agg_display_orig = display\n__backend_agg_dfs = []\ndef __backend_agg_display_new(df):\n    __backend_agg_df_modules = [\"pandas.core.frame\", \"databricks.koalas.frame\", \"pyspark.sql.dataframe\", \"pyspark.pandas.frame\", \"pyspark.sql.connect.dataframe\"]\n    if (type(df).__module__ in __backend_agg_df_modules and type(df).__name__ == 'DataFrame') or isinstance(df, list):\n        __backend_agg_dfs.append(df)\n\ndisplay = __backend_agg_display_new\n\ndef __backend_agg_user_code_fn():\n    import base64\n    exec(base64.standard_b64decode(\"ZGVwdF9hdmcgPSBzcGFyay5zcWwoIiIiClNFTEVDVCBERVBBUlRNRU5UX0lELCBST1VORChBVkcoU0FMQVJZKSwyKSBBUyBhdmdfc2FsYXJ5CkZST00gZW1wbG95ZWVzX2RlbHRhCkdST1VQIEJZIERFUEFSVE1FTlRfSUQKT1JERVIgQlkgREVQQVJUTUVOVF9JRAoiIiIpCmRpc3BsYXkoZGVwdF9hdmcpIAo=\").decode())\n\ntry:\n    # run user code\n    __backend_agg_user_code_fn()\n\n    #reset display function\n    display = __backend_agg_display_orig\n\n    if len(__backend_agg_dfs) > 0:\n        # create a temp view\n        if type(__backend_agg_dfs[0]).__module__ == \"databricks.koalas.frame\":\n            # koalas dataframe\n            __backend_agg_dfs[0].to_spark().createOrReplaceTempView(\"DatabricksView7bac363\")\n        elif type(__backend_agg_dfs[0]).__module__ == \"pandas.core.frame\" or isinstance(__backend_agg_dfs[0], list):\n            # pandas dataframe\n            spark.createDataFrame(__backend_agg_dfs[0]).createOrReplaceTempView(\"DatabricksView7bac363\")\n        else:\n            __backend_agg_dfs[0].createOrReplaceTempView(\"DatabricksView7bac363\")\n        #run backend agg\n        display(spark.sql(\"\"\"WITH q AS (select * from DatabricksView7bac363) SELECT `DEPARTMENT_ID`,AVG(`avg_salary`) `column_2d03713988`,`DEPARTMENT_ID` FROM q GROUP BY `DEPARTMENT_ID`\"\"\"))\n    else:\n        displayHTML(\"dataframe no longer exists. If you're using dataframe.display(), use display(dataframe) instead.\")\n\n\nfinally:\n    spark.sql(\"drop view if exists DatabricksView7bac363\")\n    display = __backend_agg_display_orig\n    del __backend_agg_display_new\n    del __backend_agg_display_orig\n    del __backend_agg_dfs\n    del __backend_agg_user_code_fn\n\n",
       "commandTitle": "Visualization 1",
       "commandType": "auto",
       "commandVersion": 0,
       "commentThread": [],
       "commentsVisible": false,
       "contentSha256Hex": null,
       "customPlotOptions": {
        "redashChart": [
         {
          "key": "type",
          "value": "CHART"
         },
         {
          "key": "options",
          "value": {
           "alignYAxesAtZero": true,
           "coefficient": 1,
           "columnConfigurationMap": {
            "series": {
             "column": "DEPARTMENT_ID",
             "id": "column_2d03713990"
            },
            "x": {
             "column": "DEPARTMENT_ID",
             "id": "column_2d03713987"
            },
            "y": [
             {
              "column": "avg_salary",
              "id": "column_2d03713988",
              "transform": "AVG"
             }
            ]
           },
           "dateTimeFormat": "DD/MM/YYYY HH:mm",
           "direction": {
            "type": "counterclockwise"
           },
           "error_y": {
            "type": "data",
            "visible": true
           },
           "globalSeriesType": "column",
           "hideYAxes": false,
           "isAggregationOn": true,
           "legend": {
            "traceorder": "normal"
           },
           "missingValuesAsZero": true,
           "numberFormat": "0,0.[00000]",
           "percentFormat": "0[.]00%",
           "series": {
            "error_y": {
             "type": "data",
             "visible": true
            },
            "stacking": null
           },
           "seriesOptions": {
            "10": {
             "name": "20",
             "yAxis": 0
            },
            "100": {
             "name": "40"
            },
            "110": {
             "name": "60"
            },
            "20": {
             "name": "80"
            },
            "column_2d03713988": {
             "name": "avg_salary",
             "type": "column",
             "yAxis": 0
            }
           },
           "showDataLabels": false,
           "sizemode": "diameter",
           "sortX": true,
           "sortY": true,
           "swappedAxes": false,
           "textFormat": "",
           "useAggregationsUi": true,
           "valuesOptions": {},
           "version": 2,
           "xAxis": {
            "labels": {
             "enabled": true
            },
            "title": {
             "text": "Department"
            },
            "type": "-"
           },
           "yAxis": [
            {
             "title": {
              "text": "Salary"
             },
             "type": "-"
            },
            {
             "opposite": true,
             "title": {
              "text": null
             },
             "type": "-"
            }
           ]
          }
         }
        ]
       },
       "datasetPreviewNameToCmdIdMap": {},
       "diffDeletes": [],
       "diffInserts": [],
       "displayType": "redashChart",
       "error": null,
       "errorDetails": null,
       "errorSummary": null,
       "errorTraceType": null,
       "finishTime": 0,
       "globalVars": {},
       "guid": "",
       "height": "auto",
       "hideCommandCode": false,
       "hideCommandResult": false,
       "iPythonMetadata": null,
       "inputWidgets": {},
       "isLockedInExamMode": false,
       "latestUser": "a user",
       "latestUserId": null,
       "listResultMetadata": null,
       "metadata": {},
       "nuid": "66af670f-6854-4b2d-b156-cf3f6942eb8e",
       "origId": 0,
       "parentHierarchy": [],
       "pivotAggregation": null,
       "pivotColumns": null,
       "position": 20.0,
       "resultDbfsErrorMessage": null,
       "resultDbfsStatus": "INLINED_IN_TREE",
       "results": null,
       "showCommandTitle": false,
       "startTime": 0,
       "state": "input",
       "streamStates": {},
       "subcommandOptions": {
        "queryPlan": {
         "groups": [
          {
           "column": "DEPARTMENT_ID",
           "type": "column"
          },
          {
           "column": "DEPARTMENT_ID",
           "type": "column"
          }
         ],
         "selects": [
          {
           "column": "DEPARTMENT_ID",
           "type": "column"
          },
          {
           "alias": "column_2d03713988",
           "args": [
            {
             "column": "avg_salary",
             "type": "column"
            }
           ],
           "function": "AVG",
           "type": "function"
          },
          {
           "column": "DEPARTMENT_ID",
           "type": "column"
          }
         ]
        }
       },
       "submitTime": 0,
       "subtype": "tableResultSubCmd.visualization",
       "tableResultIndex": 0,
       "tableResultSettingsMap": {},
       "useConsistentColors": false,
       "version": "CommandV1",
       "width": "auto",
       "workflows": [],
       "xColumns": null,
       "yColumns": null
      }
     },
     "output_type": "display_data"
    }
   ],
   "source": [
    "dept_avg = spark.sql(\"\"\"\n",
    "SELECT DEPARTMENT_ID, ROUND(AVG(SALARY),2) AS avg_salary\n",
    "FROM employees_delta\n",
    "GROUP BY DEPARTMENT_ID\n",
    "ORDER BY DEPARTMENT_ID\n",
    "\"\"\")\n",
    "display(dept_avg) \n"
   ]
  }
 ],
 "metadata": {
  "application/vnd.databricks.v1+notebook": {
   "computePreferences": null,
   "dashboards": [],
   "environmentMetadata": {
    "base_environment": "",
    "environment_version": "3"
   },
   "inputWidgetPreferences": null,
   "language": "python",
   "notebookMetadata": {
    "pythonIndentUnit": 4
   },
   "notebookName": "ProjectCode",
   "widgets": {}
  },
  "language_info": {
   "name": "python"
  }
 },
 "nbformat": 4,
 "nbformat_minor": 0
}