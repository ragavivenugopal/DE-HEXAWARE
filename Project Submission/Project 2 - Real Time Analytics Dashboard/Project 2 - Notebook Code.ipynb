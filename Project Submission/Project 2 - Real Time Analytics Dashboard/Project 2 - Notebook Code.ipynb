{
 "cells": [
  {
   "cell_type": "code",
   "execution_count": 0,
   "metadata": {
    "application/vnd.databricks.v1+cell": {
     "cellMetadata": {
      "byteLimit": 2048000,
      "rowLimit": 10000
     },
     "inputWidgets": {},
     "nuid": "0a476887-32a9-46d9-8842-0b26e55bd495",
     "showTitle": false,
     "tableResultSettingsMap": {},
     "title": ""
    }
   },
   "outputs": [],
   "source": [
    "# Configuration \n",
    "eventhubs_connection_string = \"YOUR_KEY_HERE\"\n",
    "\n",
    "eventhubs_name = \"crypto-stream\"\n",
    "\n",
    "# For testing - we'll use sample data first\n",
    "use_sample_data = True"
   ]
  },
  {
   "cell_type": "markdown",
   "metadata": {
    "application/vnd.databricks.v1+cell": {
     "cellMetadata": {
      "byteLimit": 2048000,
      "rowLimit": 10000
     },
     "inputWidgets": {},
     "nuid": "87a38921-1344-4c0d-96da-19961b2fa4bb",
     "showTitle": false,
     "tableResultSettingsMap": {},
     "title": ""
    }
   },
   "source": [
    "## Sample data generator for testing"
   ]
  },
  {
   "cell_type": "code",
   "execution_count": 0,
   "metadata": {
    "application/vnd.databricks.v1+cell": {
     "cellMetadata": {
      "byteLimit": 2048000,
      "rowLimit": 10000
     },
     "inputWidgets": {},
     "nuid": "29692895-d3e2-4cf4-a14a-dc5939f1ee6f",
     "showTitle": false,
     "tableResultSettingsMap": {},
     "title": ""
    }
   },
   "outputs": [
    {
     "name": "stdout",
     "output_type": "stream",
     "text": [
      "Sample data: {'exchange': 'coinbase', 'symbol': 'BTCUSDT', 'price': 42505.72, 'volume': 830744.8, 'price_change': -720.59, 'timestamp': 1756437923314.821}\n"
     ]
    }
   ],
   "source": [
    "\n",
    "import json\n",
    "import random\n",
    "import time\n",
    "from datetime import datetime\n",
    "\n",
    "def generate_sample_crypto_data():\n",
    "    symbols = ['BTCUSDT', 'ETHUSDT', 'ADAUSDT', 'DOGEUSDT', 'SOLUSDT']\n",
    "    exchanges = ['binance', 'coinbase', 'kraken']\n",
    "     \n",
    "    data = {\n",
    "        'exchange': random.choice(exchanges),\n",
    "        'symbol': random.choice(symbols),\n",
    "        'price': round(random.uniform(100, 50000), 2),\n",
    "        'volume': round(random.uniform(1000, 1000000), 2),\n",
    "        'price_change': round(random.uniform(-1000, 1000), 2),\n",
    "        'timestamp': datetime.now().timestamp() * 1000\n",
    "    }\n",
    "    return data\n",
    "\n",
    "# Test it\n",
    "print(\"Sample data:\", generate_sample_crypto_data())\n"
   ]
  },
  {
   "cell_type": "markdown",
   "metadata": {
    "application/vnd.databricks.v1+cell": {
     "cellMetadata": {
      "byteLimit": 2048000,
      "rowLimit": 10000
     },
     "inputWidgets": {},
     "nuid": "06180439-cf84-44ec-a2b7-5c320a1e9d87",
     "showTitle": false,
     "tableResultSettingsMap": {},
     "title": ""
    }
   },
   "source": [
    "## Configuration"
   ]
  },
  {
   "cell_type": "code",
   "execution_count": 0,
   "metadata": {
    "application/vnd.databricks.v1+cell": {
     "cellMetadata": {
      "byteLimit": 2048000,
      "rowLimit": 10000
     },
     "inputWidgets": {},
     "nuid": "27f672be-feb8-475f-874c-2466dac95f01",
     "showTitle": false,
     "tableResultSettingsMap": {},
     "title": ""
    }
   },
   "outputs": [
    {
     "name": "stdout",
     "output_type": "stream",
     "text": [
      "Configuration and libraries loaded successfully\n"
     ]
    }
   ],
   "source": [
    "# Configuration\n",
    "binance_api_url = \"https://api.binance.us/api/v3/ticker/24hr\"\n",
    "target_symbols = ['BTCUSDT', 'ETHUSDT', 'ADAUSDT', 'DOGEUSDT', 'SOLUSDT', 'XRPUSDT', 'DOTUSDT']\n",
    "\n",
    "# Import libraries\n",
    "import requests\n",
    "import pandas as pd\n",
    "import matplotlib.pyplot as plt\n",
    "from datetime import datetime\n",
    "import time\n",
    "from IPython.display import display, clear_output\n",
    "import numpy as np\n",
    "\n",
    "# Set professional styling\n",
    "plt.style.use('default')\n",
    "plt.rcParams['figure.facecolor'] = '#f8f9fa'\n",
    "plt.rcParams['axes.facecolor'] = 'white'\n",
    "plt.rcParams['grid.color'] = '#e9ecef'\n",
    "plt.rcParams['text.color'] = '#2c3e50'\n",
    "plt.rcParams['axes.labelcolor'] = '#2c3e50'\n",
    "plt.rcParams['xtick.color'] = '#2c3e50'\n",
    "plt.rcParams['ytick.color'] = '#2c3e50'\n",
    "\n",
    "print(\"Configuration and libraries loaded successfully\")"
   ]
  },
  {
   "cell_type": "markdown",
   "metadata": {
    "application/vnd.databricks.v1+cell": {
     "cellMetadata": {
      "byteLimit": 2048000,
      "rowLimit": 10000
     },
     "inputWidgets": {},
     "nuid": "0c0acea8-f65e-4cc8-86fe-5b3b05cf6495",
     "showTitle": false,
     "tableResultSettingsMap": {},
     "title": ""
    }
   },
   "source": [
    "## Data Fetcher Function"
   ]
  },
  {
   "cell_type": "code",
   "execution_count": 0,
   "metadata": {
    "application/vnd.databricks.v1+cell": {
     "cellMetadata": {
      "byteLimit": 2048000,
      "rowLimit": 10000
     },
     "inputWidgets": {},
     "nuid": "4d44af9b-b84a-4864-a262-7559c934ca91",
     "showTitle": false,
     "tableResultSettingsMap": {},
     "title": ""
    }
   },
   "outputs": [
    {
     "name": "stdout",
     "output_type": "stream",
     "text": [
      "Fetched 7 records\n",
      "DOGEUSDT: $0.22 (+0.40%)\n",
      "XRPUSDT: $2.94 (-1.17%)\n",
      "ADAUSDT: $0.85 (-0.92%)\n"
     ]
    }
   ],
   "source": [
    "def fetch_binance_data():\n",
    "    \"\"\"Fetch real-time data from Binance API\"\"\"\n",
    "    try:\n",
    "        response = requests.get(binance_api_url, timeout=10)\n",
    "        \n",
    "        if response.status_code != 200:\n",
    "            print(f\"API returned status: {response.status_code}\")\n",
    "            return []\n",
    "            \n",
    "        all_data = response.json()\n",
    "        processed_data = []\n",
    "        \n",
    "        for item in all_data:\n",
    "            if item['symbol'] in target_symbols:\n",
    "                price_change = float(item['priceChangePercent'])\n",
    "                processed_data.append({\n",
    "                    'symbol': item['symbol'],\n",
    "                    'price': float(item['lastPrice']),\n",
    "                    'volume': float(item['volume']),\n",
    "                    'price_change_percent': price_change,\n",
    "                    'high_price': float(item['highPrice']),\n",
    "                    'low_price': float(item['lowPrice']),\n",
    "                    'quote_volume': float(item['quoteVolume']),\n",
    "                    'timestamp': datetime.now().strftime('%H:%M:%S'),\n",
    "                    'is_positive': price_change >= 0\n",
    "                })\n",
    "        \n",
    "        # Sort by volume (market activity)\n",
    "        processed_data.sort(key=lambda x: x['volume'], reverse=True)\n",
    "        return processed_data\n",
    "        \n",
    "    except Exception as e:\n",
    "        print(f\"Error fetching data: {e}\")\n",
    "        return []\n",
    "\n",
    "    finally:\n",
    "        clear_output(wait=True)\n",
    "\n",
    "# Test the data fetcher\n",
    "test_data = fetch_binance_data()\n",
    "print(f\"Fetched {len(test_data)} records\")\n",
    "if test_data:\n",
    "    for item in test_data[:3]:  # Show first 3\n",
    "        print(f\"{item['symbol']}: ${item['price']:,.2f} ({item['price_change_percent']:+.2f}%)\")"
   ]
  },
  {
   "cell_type": "markdown",
   "metadata": {
    "application/vnd.databricks.v1+cell": {
     "cellMetadata": {
      "byteLimit": 2048000,
      "rowLimit": 10000
     },
     "inputWidgets": {},
     "nuid": "5f0879c9-dcff-4957-9c34-5ac9522f4241",
     "showTitle": false,
     "tableResultSettingsMap": {},
     "title": ""
    }
   },
   "source": [
    "## Dashboard Graphs"
   ]
  },
  {
   "cell_type": "code",
   "execution_count": 0,
   "metadata": {
    "application/vnd.databricks.v1+cell": {
     "cellMetadata": {
      "byteLimit": 2048000,
      "rowLimit": 10000
     },
     "inputWidgets": {},
     "nuid": "05cabda6-12c6-4aec-9179-860ff47aa6a1",
     "showTitle": false,
     "tableResultSettingsMap": {},
     "title": ""
    }
   },
   "outputs": [],
   "source": [
    "def create_professional_dashboard(data):\n",
    "    \"\"\"Create a clean, professional dashboard without emojis\"\"\"\n",
    "    if not data:\n",
    "        print(\"No data available for dashboard\")\n",
    "        return\n",
    "    \n",
    "    clear_output(wait=True)\n",
    "    \n",
    "    # Create figure with subplots\n",
    "    fig = plt.figure(figsize=(16, 12))\n",
    "    fig.suptitle('Real-Time Cryptocurrency Analytics Dashboard', \n",
    "                 fontsize=16, fontweight='bold', y=0.98)\n",
    "    \n",
    "    # Create grid layout\n",
    "    gs = fig.add_gridspec(3, 2, hspace=0.3, wspace=0.3)\n",
    "    ax1 = fig.add_subplot(gs[0, 0])  # Prices\n",
    "    ax2 = fig.add_subplot(gs[0, 1])  # Price changes\n",
    "    ax3 = fig.add_subplot(gs[1, 0])  # Volume\n",
    "    ax4 = fig.add_subplot(gs[1, 1])  # Price ranges\n",
    "    ax5 = fig.add_subplot(gs[2, 0])  # Market sentiment\n",
    "    ax6 = fig.add_subplot(gs[2, 1])  # Performance table\n",
    "    \n",
    "    # Extract data\n",
    "    symbols = [item['symbol'] for item in data]\n",
    "    prices = [item['price'] for item in data]\n",
    "    changes = [item['price_change_percent'] for item in data]\n",
    "    volumes = [item['volume'] for item in data]\n",
    "    \n",
    "    # Color scheme\n",
    "    positive_color = '#2ecc71'  # Green\n",
    "    negative_color = '#e74c3c'  # Red\n",
    "    neutral_color = '#3498db'   # Blue\n",
    "    colors = [positive_color if ch >= 0 else negative_color for ch in changes]\n",
    "    \n",
    "    # 1. CURRENT PRICES\n",
    "    bars = ax1.bar(symbols, prices, color=colors, alpha=0.8, edgecolor='white', linewidth=1)\n",
    "    ax1.set_title('Current Prices (USDT)', fontsize=12, fontweight='bold')\n",
    "    ax1.set_ylabel('Price', fontweight='bold')\n",
    "    ax1.tick_params(axis='x', rotation=45)\n",
    "    ax1.grid(True, alpha=0.3)\n",
    "    \n",
    "    # Add price labels\n",
    "    for bar, price in zip(bars, prices):\n",
    "        ax1.text(bar.get_x() + bar.get_width()/2, bar.get_height() * 1.01, \n",
    "                f'${price:,.0f}', ha='center', va='bottom', \n",
    "                fontweight='bold', fontsize=9)\n",
    "    \n",
    "    # 2. PRICE CHANGES (24h)\n",
    "    ax2.barh(symbols, changes, color=colors, alpha=0.8, edgecolor='white', linewidth=1)\n",
    "    ax2.set_title('24-Hour Price Change (%)', fontsize=12, fontweight='bold')\n",
    "    ax2.axvline(x=0, color='black', linestyle='--', alpha=0.7)\n",
    "    ax2.set_xlabel('Percentage Change', fontweight='bold')\n",
    "    ax2.grid(True, alpha=0.3)\n",
    "    \n",
    "    # Add percentage labels\n",
    "    for i, (change, symbol) in enumerate(zip(changes, symbols)):\n",
    "        ax2.text(change + (0.3 if change >= 0 else -0.3), i, \n",
    "                f'{change:+.1f}%', ha='left' if change >= 0 else 'right', \n",
    "                va='center', fontweight='bold', fontsize=9)\n",
    "    \n",
    "    # 3. TRADING VOLUME\n",
    "    ax3.bar(symbols, volumes, color=neutral_color, alpha=0.8, edgecolor='white', linewidth=1)\n",
    "    ax3.set_title('24-Hour Trading Volume', fontsize=12, fontweight='bold')\n",
    "    ax3.set_ylabel('Volume', fontweight='bold')\n",
    "    ax3.tick_params(axis='x', rotation=45)\n",
    "    ax3.grid(True, alpha=0.3)\n",
    "    ax3.ticklabel_format(style='scientific', axis='y', scilimits=(6,6))\n",
    "    \n",
    "    # 4. PRICE RANGES\n",
    "    for i, item in enumerate(data):\n",
    "        # Plot high-low range\n",
    "        ax4.plot([i, i], [item['low_price'], item['high_price']], \n",
    "                color='#34495e', linewidth=3, alpha=0.7, marker='|', markersize=8)\n",
    "        # Plot current price\n",
    "        ax4.plot(i, item['price'], 'o', color=positive_color if item['is_positive'] else negative_color, \n",
    "                markersize=8, label='Current Price' if i == 0 else \"\")\n",
    "    \n",
    "    ax4.set_title('Price Ranges (High - Low)', fontsize=12, fontweight='bold')\n",
    "    ax4.set_xticks(range(len(symbols)))\n",
    "    ax4.set_xticklabels(symbols, rotation=45)\n",
    "    ax4.set_ylabel('Price (USDT)', fontweight='bold')\n",
    "    ax4.legend()\n",
    "    ax4.grid(True, alpha=0.3)\n",
    "    \n",
    "    # 5. MARKET SENTIMENT\n",
    "    positive_count = sum(1 for ch in changes if ch >= 0)\n",
    "    negative_count = len(changes) - positive_count\n",
    "    sentiment_labels = ['Positive', 'Negative']\n",
    "    sentiment_sizes = [positive_count, negative_count]\n",
    "    sentiment_colors = [positive_color, negative_color]\n",
    "    \n",
    "    wedges, texts, autotexts = ax5.pie(sentiment_sizes, labels=sentiment_labels, colors=sentiment_colors,\n",
    "                                      autopct='%1.0f%%', startangle=90, textprops={'fontweight': 'bold'})\n",
    "    ax5.set_title('Market Sentiment', fontsize=12, fontweight='bold')\n",
    "    \n",
    "    # 6. PERFORMANCE TABLE\n",
    "    table_data = []\n",
    "    for item in data:\n",
    "        change_color = positive_color if item['price_change_percent'] >= 0 else negative_color\n",
    "        table_data.append([\n",
    "            item['symbol'],\n",
    "            f\"${item['price']:,.2f}\",\n",
    "            f\"{item['price_change_percent']:+.2f}%\",\n",
    "            f\"{item['volume']:,.0f}\"\n",
    "        ])\n",
    "    \n",
    "    ax6.axis('off')\n",
    "    table = ax6.table(cellText=table_data,\n",
    "                     colLabels=['Symbol', 'Price', 'Change%', 'Volume'],\n",
    "                     cellLoc='center',\n",
    "                     loc='center',\n",
    "                     colColours=['#34495e'] * 4,\n",
    "                     cellColours=[['#f8f9fa'] * 4] * len(data))\n",
    "    \n",
    "    table.auto_set_font_size(False)\n",
    "    table.set_fontsize(9)\n",
    "    table.scale(1.2, 1.5)\n",
    "    \n",
    "    # Set text colors for positive/negative changes\n",
    "    for i in range(1, len(table_data) + 1):\n",
    "        change_value = float(table_data[i-1][2].replace('%', '').replace('+', '').replace('-', ''))\n",
    "        if '+' in table_data[i-1][2]:\n",
    "            table[(i, 2)].set_text_props(color=positive_color, weight='bold')\n",
    "        else:\n",
    "            table[(i, 2)].set_text_props(color=negative_color, weight='bold')\n",
    "    \n",
    "    # Add timestamp and info\n",
    "    plt.figtext(0.02, 0.02, \n",
    "               f'Last Updated: {datetime.now().strftime(\"%Y-%m-%d %H:%M:%S\")} | '\n",
    "               f'Data Source: Binance API | '\n",
    "               f'Tracking: {len(data)} cryptocurrencies',\n",
    "               fontsize=9, style='italic', color='#7f8c8d')\n",
    "    \n",
    "    # Add explanation\n",
    "    explanation_text = (\n",
    "        'Dashboard Explanation:\\n'\n",
    "        '• Green bars: Prices increasing\\n'\n",
    "        '• Red bars: Prices decreasing\\n'\n",
    "        '• Blue bars: Trading volume\\n'\n",
    "        '• Price ranges show daily high/low with current price'\n",
    "    )\n",
    "    plt.figtext(0.02, 0.96, explanation_text, fontsize=9, style='italic', \n",
    "               bbox=dict(boxstyle=\"round,pad=0.5\", facecolor=\"#ecf0f1\", alpha=0.8))\n",
    "    \n",
    "    plt.tight_layout()\n",
    "    plt.subplots_adjust(top=0.93, bottom=0.08)\n",
    "    plt.show()\n",
    "    \n",
    "    # Console output\n",
    "    print(\"LIVE CRYPTOCURRENCY DATA:\")\n",
    "    print(\"=\" * 65)\n",
    "    for item in data:\n",
    "        trend_indicator = \"(UP)\" if item['is_positive'] else \"(DOWN)\"\n",
    "        print(f\"{item['symbol']}: ${item['price']:>8,.2f} {trend_indicator:5} \"\n",
    "              f\"Change: {item['price_change_percent']:+.2f}% | \"\n",
    "              f\"Volume: {item['volume']:,.0f}\")\n",
    "    print(\"=\" * 65)\n",
    "    print(f\"Market Summary: {positive_count} assets positive, {negative_count} assets negative\")"
   ]
  },
  {
   "cell_type": "markdown",
   "metadata": {
    "application/vnd.databricks.v1+cell": {
     "cellMetadata": {
      "byteLimit": 2048000,
      "rowLimit": 10000
     },
     "inputWidgets": {},
     "nuid": "fa1ba64a-0d82-4cf0-8449-af85f1513d85",
     "showTitle": false,
     "tableResultSettingsMap": {},
     "title": ""
    }
   },
   "source": [
    "## Dashboard Runner"
   ]
  },
  {
   "cell_type": "code",
   "execution_count": 0,
   "metadata": {
    "application/vnd.databricks.v1+cell": {
     "cellMetadata": {
      "byteLimit": 2048000,
      "rowLimit": 10000
     },
     "inputWidgets": {},
     "nuid": "7d7b02a5-3f30-4322-885b-acec41b3c7c4",
     "showTitle": false,
     "tableResultSettingsMap": {},
     "title": ""
    }
   },
   "outputs": [],
   "source": [
    "def run_dashboard(update_interval=15):\n",
    "    \"\"\"Run the real-time dashboard\"\"\"\n",
    "    print(\"Starting Real-Time Cryptocurrency Dashboard\")\n",
    "    print(\"=\" * 50)\n",
    "    print(\"Features:\")\n",
    "    print(\"- Live price updates every 15 seconds\")\n",
    "    print(\"- Professional visualizations\")\n",
    "    print(\"- Market sentiment analysis\")\n",
    "    print(\"- Trading volume metrics\")\n",
    "    print(\"=\" * 50)\n",
    "    print(\"Press the STOP button to exit the dashboard\")\n",
    "    print(\"=\" * 50)\n",
    "    \n",
    "    try:\n",
    "        update_count = 0\n",
    "        while True:\n",
    "            update_count += 1\n",
    "            current_time = datetime.now().strftime(\"%H:%M:%S\")\n",
    "            \n",
    "            print(f\"\\nUpdate #{update_count} - {current_time}\")\n",
    "            print(\"Fetching live market data...\")\n",
    "            \n",
    "            # Fetch new data\n",
    "            current_data = fetch_binance_data()\n",
    "            \n",
    "            if current_data:\n",
    "                print(\"Data received successfully\")\n",
    "                print(\"Updating dashboard...\")\n",
    "                \n",
    "                # Update dashboard\n",
    "                create_professional_dashboard(current_data)\n",
    "                \n",
    "                print(f\"Dashboard updated successfully at {current_time}\")\n",
    "                print(f\"Next update in {update_interval} seconds...\")\n",
    "                \n",
    "            else:\n",
    "                print(\"Warning: No data received - please check internet connection\")\n",
    "            \n",
    "            # Wait for next update\n",
    "            time.sleep(update_interval)\n",
    "            \n",
    "    except KeyboardInterrupt:\n",
    "        print(\"\\nDashboard stopped by user\")\n",
    "        print(\"Thank you for using the Cryptocurrency Analytics Dashboard\")\n",
    "    except Exception as e:\n",
    "        print(f\"Error: Dashboard stopped unexpectedly - {e}\")\n",
    "\n",
    "# Start the dashboard\n",
    "run_dashboard(update_interval=30)"
   ]
  },
  {
   "cell_type": "code",
   "execution_count": 0,
   "metadata": {
    "application/vnd.databricks.v1+cell": {
     "cellMetadata": {
      "byteLimit": 2048000,
      "rowLimit": 10000
     },
     "inputWidgets": {},
     "nuid": "799d788c-6aff-4caa-9fd8-d3c5ffc71393",
     "showTitle": false,
     "tableResultSettingsMap": {},
     "title": ""
    }
   },
   "outputs": [],
   "source": []
  }
 ],
 "metadata": {
  "application/vnd.databricks.v1+notebook": {
   "computePreferences": null,
   "dashboards": [
    {
     "elements": [
      {
       "dashboardResultIndex": null,
       "elementNUID": "7d7b02a5-3f30-4322-885b-acec41b3c7c4",
       "elementType": "command",
       "guid": "163ea263-35f1-46c2-945b-470b81af7341",
       "options": null,
       "position": {
        "height": 17,
        "width": 22,
        "x": 0,
        "y": 0,
        "z": null
       },
       "resultIndex": null
      }
     ],
     "globalVars": {},
     "guid": "",
     "layoutOption": {
      "grid": true,
      "stack": false
     },
     "nuid": "7d9bb8d1-f57c-4195-b84e-9626ea01b372",
     "origId": 7181492611826210,
     "title": "Crypto Dashboard",
     "version": "DashboardViewV1",
     "width": 1024
    }
   ],
   "environmentMetadata": {
    "base_environment": "",
    "environment_version": "3"
   },
   "inputWidgetPreferences": null,
   "language": "python",
   "notebookMetadata": {
    "pythonIndentUnit": 4
   },
   "notebookName": "Crypto Real-Time Dashboard",
   "widgets": {}
  },
  "language_info": {
   "name": "python"
  }
 },
 "nbformat": 4,
 "nbformat_minor": 0
}
