{
 "cells": [
  {
   "cell_type": "markdown",
   "metadata": {
    "application/vnd.databricks.v1+cell": {
     "cellMetadata": {},
     "inputWidgets": {},
     "nuid": "f4814043-5a29-4334-af7e-204967c0ad91",
     "showTitle": false,
     "tableResultSettingsMap": {},
     "title": ""
    }
   },
   "source": [
    "# PySpark SQL Case Study: Analysis of Credit Card, Loan, and Transaction Data\n",
    "This case study leverages PySpark and Spark SQL to perform insightful data analysis on three key financial datasets—credit card usage, loan records, and transaction history.\n"
   ]
  },
  {
   "cell_type": "markdown",
   "metadata": {
    "application/vnd.databricks.v1+cell": {
     "cellMetadata": {},
     "inputWidgets": {},
     "nuid": "575a7a0e-0ba6-4c0f-a48f-48b99130f097",
     "showTitle": false,
     "tableResultSettingsMap": {},
     "title": ""
    }
   },
   "source": [
    "### Step 1: Uploading and Reading the Data\n",
    "We begin by uploading the datasets into the environment and reading them into Spark DataFrames for further processing."
   ]
  },
  {
   "cell_type": "markdown",
   "metadata": {
    "application/vnd.databricks.v1+cell": {
     "cellMetadata": {},
     "inputWidgets": {},
     "nuid": "94ba44f9-4516-4410-b71b-4e7443e03f96",
     "showTitle": false,
     "tableResultSettingsMap": {},
     "title": ""
    }
   },
   "source": [
    "#### Credit Card Dataset Overview\n",
    "The credit card dataset contains information on user demographics, usage patterns, and credit activity, which will help us understand spending behavior and credit utilization."
   ]
  },
  {
   "cell_type": "code",
   "execution_count": 0,
   "metadata": {
    "application/vnd.databricks.v1+cell": {
     "cellMetadata": {
      "byteLimit": 2048000,
      "rowLimit": 10000
     },
     "inputWidgets": {},
     "nuid": "d09c5c69-71cf-466f-a955-bc68c49eb50d",
     "showTitle": false,
     "tableResultSettingsMap": {},
     "title": ""
    }
   },
   "outputs": [
    {
     "output_type": "stream",
     "name": "stdout",
     "output_type": "stream",
     "text": [
      "+---------+----------+---------+-----------+---------+------+---+------+---------+-------------+--------------+---------------+------+\n|RowNumber|CustomerId|  Surname|CreditScore|Geography|Gender|Age|Tenure|  Balance|NumOfProducts|IsActiveMember|EstimatedSalary|Exited|\n+---------+----------+---------+-----------+---------+------+---+------+---------+-------------+--------------+---------------+------+\n|        1|  15634602| Hargrave|        619|   France|Female| 42|     2|        0|            1|             1|      101348.88|     1|\n|        2|  15647311|     Hill|        608|    Spain|Female| 41|     1| 83807.86|            1|             1|      112542.58|     0|\n|        3|  15619304|     Onio|        502|   France|Female| 42|     8| 159660.8|            3|             0|      113931.57|     1|\n|        4|  15701354|     Boni|        699|   France|Female| 39|     1|        0|            2|             0|       93826.63|     0|\n|        5|  15737888| Mitchell|        850|    Spain|Female| 43|     2|125510.82|            1|             1|        79084.1|     0|\n|        6|  15574012|      Chu|        645|    Spain|  Male| 44|     8|113755.78|            2|             0|      149756.71|     1|\n|        7|  15592531| Bartlett|        822|   France|  Male| 50|     7|        0|            2|             1|        10062.8|     0|\n|        8|  15656148|   Obinna|        376|  Germany|Female| 29|     4|115046.74|            4|             0|      119346.88|     1|\n|        9|  15792365|       He|        501|   France|  Male| 44|     4|142051.07|            2|             1|        74940.5|     0|\n|       10|  15592389|       H?|        684|   France|  Male| 27|     2|134603.88|            1|             1|       71725.73|     0|\n|       11|  15767821|   Bearce|        528|   France|  Male| 31|     6|102016.72|            2|             0|       80181.12|     0|\n|       12|  15737173|  Andrews|        497|    Spain|  Male| 24|     3|        0|            2|             0|       76390.01|     0|\n|       13|  15632264|      Kay|        476|   France|Female| 34|    10|        0|            2|             0|       26260.98|     0|\n|       14|  15691483|     Chin|        549|   France|Female| 25|     5|        0|            2|             0|      190857.79|     0|\n|       15|  15600882|    Scott|        635|    Spain|Female| 35|     7|        0|            2|             1|       65951.65|     0|\n|       16|  15643966|  Goforth|        616|  Germany|  Male| 45|     3|143129.41|            2|             1|       64327.26|     0|\n|       17|  15737452|    Romeo|        653|  Germany|  Male| 58|     1|132602.88|            1|             0|        5097.67|     1|\n|       18|  15788218|Henderson|        549|    Spain|Female| 24|     9|        0|            2|             1|       14406.41|     0|\n|       19|  15661507|  Muldrow|        587|    Spain|  Male| 45|     6|        0|            1|             0|      158684.81|     0|\n|       20|  15568982|      Hao|        726|   France|Female| 24|     6|        0|            2|             1|       54724.03|     0|\n+---------+----------+---------+-----------+---------+------+---+------+---------+-------------+--------------+---------------+------+\nonly showing top 20 rows\nroot\n |-- RowNumber: string (nullable = true)\n |-- CustomerId: string (nullable = true)\n |-- Surname: string (nullable = true)\n |-- CreditScore: string (nullable = true)\n |-- Geography: string (nullable = true)\n |-- Gender: string (nullable = true)\n |-- Age: string (nullable = true)\n |-- Tenure: string (nullable = true)\n |-- Balance: string (nullable = true)\n |-- NumOfProducts: string (nullable = true)\n |-- IsActiveMember: string (nullable = true)\n |-- EstimatedSalary: string (nullable = true)\n |-- Exited: string (nullable = true)\n\n"
     ]
    }
   ],
   "source": [
    "# Reading credit_card.csv\n",
    "credit_df = spark.read.option(\"header\", True).csv(\"/Volumes/workspace/default/data/credit card.csv\")\n",
    "credit_df.show()\n",
    "credit_df.printSchema()\n",
    "credit_df.createOrReplaceTempView(\"credit_card\")\n"
   ]
  },
  {
   "cell_type": "markdown",
   "metadata": {
    "application/vnd.databricks.v1+cell": {
     "cellMetadata": {},
     "inputWidgets": {},
     "nuid": "23383ec1-92a5-4bec-84f8-c1faaffa21f9",
     "showTitle": false,
     "tableResultSettingsMap": {},
     "title": ""
    }
   },
   "source": [
    "1. Credit card users in Spain"
   ]
  },
  {
   "cell_type": "code",
   "execution_count": 0,
   "metadata": {
    "application/vnd.databricks.v1+cell": {
     "cellMetadata": {
      "byteLimit": 2048000,
      "implicitDf": true,
      "rowLimit": 10000
     },
     "inputWidgets": {},
     "nuid": "ec36b311-3d71-4e38-bae6-9e1266008a04",
     "showTitle": false,
     "tableResultSettingsMap": {},
     "title": ""
    }
   },
   "outputs": [
    {
     "output_type": "display_data",
     "data": {
      "text/html": [
       "<style scoped>\n",
       "  .table-result-container {\n",
       "    max-height: 300px;\n",
       "    overflow: auto;\n",
       "  }\n",
       "  table, th, td {\n",
       "    border: 1px solid black;\n",
       "    border-collapse: collapse;\n",
       "  }\n",
       "  th, td {\n",
       "    padding: 5px;\n",
       "  }\n",
       "  th {\n",
       "    text-align: left;\n",
       "  }\n",
       "</style><div class='table-result-container'><table class='table-result'><thead style='background-color: white'><tr><th>spain_users</th></tr></thead><tbody><tr><td>2477</td></tr></tbody></table></div>"
      ]
     },
     "metadata": {
      "application/vnd.databricks.v1+output": {
       "addedWidgets": {},
       "aggData": [],
       "aggError": "",
       "aggOverflow": false,
       "aggSchema": [],
       "aggSeriesLimitReached": false,
       "aggType": "",
       "arguments": {},
       "columnCustomDisplayInfos": {},
       "data": [
        [
         2477
        ]
       ],
       "datasetInfos": [
        {
         "name": "_sqldf",
         "schema": {
          "fields": [
           {
            "metadata": {},
            "name": "spain_users",
            "nullable": false,
            "type": "long"
           }
          ],
          "type": "struct"
         },
         "tableIdentifier": null,
         "typeStr": "pyspark.sql.connect.dataframe.DataFrame"
        }
       ],
       "dbfsResultPath": null,
       "isJsonSchema": true,
       "metadata": {
        "createTempViewForImplicitDf": true,
        "dataframeName": "_sqldf",
        "executionCount": 13
       },
       "overflow": false,
       "plotOptions": {
        "customPlotOptions": {},
        "displayType": "table",
        "pivotAggregation": null,
        "pivotColumns": null,
        "xColumns": null,
        "yColumns": null
       },
       "removedWidgets": [],
       "schema": [
        {
         "metadata": "{}",
         "name": "spain_users",
         "type": "\"long\""
        }
       ],
       "type": "table"
      }
     },
     "output_type": "display_data"
    }
   ],
   "source": [
    "%sql\n",
    "SELECT COUNT(*) AS spain_users\n",
    "FROM credit_card\n",
    "WHERE Geography = 'Spain'\n"
   ]
  },
  {
   "cell_type": "markdown",
   "metadata": {
    "application/vnd.databricks.v1+cell": {
     "cellMetadata": {},
     "inputWidgets": {},
     "nuid": "b608680f-8971-47ec-b766-0ea01299bade",
     "showTitle": false,
     "tableResultSettingsMap": {},
     "title": ""
    }
   },
   "source": [
    "2. Members eligible and active in the bank"
   ]
  },
  {
   "cell_type": "code",
   "execution_count": 0,
   "metadata": {
    "application/vnd.databricks.v1+cell": {
     "cellMetadata": {
      "byteLimit": 2048000,
      "implicitDf": true,
      "rowLimit": 10000
     },
     "inputWidgets": {},
     "nuid": "722797bd-1f83-4a70-ae5d-38a3ff9d1771",
     "showTitle": false,
     "tableResultSettingsMap": {},
     "title": ""
    }
   },
   "outputs": [
    {
     "output_type": "display_data",
     "data": {
      "text/html": [
       "<style scoped>\n",
       "  .table-result-container {\n",
       "    max-height: 300px;\n",
       "    overflow: auto;\n",
       "  }\n",
       "  table, th, td {\n",
       "    border: 1px solid black;\n",
       "    border-collapse: collapse;\n",
       "  }\n",
       "  th, td {\n",
       "    padding: 5px;\n",
       "  }\n",
       "  th {\n",
       "    text-align: left;\n",
       "  }\n",
       "</style><div class='table-result-container'><table class='table-result'><thead style='background-color: white'><tr><th>eligible_active_members</th></tr></thead><tbody><tr><td>4416</td></tr></tbody></table></div>"
      ]
     },
     "metadata": {
      "application/vnd.databricks.v1+output": {
       "addedWidgets": {},
       "aggData": [],
       "aggError": "",
       "aggOverflow": false,
       "aggSchema": [],
       "aggSeriesLimitReached": false,
       "aggType": "",
       "arguments": {},
       "columnCustomDisplayInfos": {},
       "data": [
        [
         4416
        ]
       ],
       "datasetInfos": [
        {
         "name": "_sqldf",
         "schema": {
          "fields": [
           {
            "metadata": {},
            "name": "eligible_active_members",
            "nullable": false,
            "type": "long"
           }
          ],
          "type": "struct"
         },
         "tableIdentifier": null,
         "typeStr": "pyspark.sql.connect.dataframe.DataFrame"
        }
       ],
       "dbfsResultPath": null,
       "isJsonSchema": true,
       "metadata": {
        "createTempViewForImplicitDf": true,
        "dataframeName": "_sqldf",
        "executionCount": 14
       },
       "overflow": false,
       "plotOptions": {
        "customPlotOptions": {},
        "displayType": "table",
        "pivotAggregation": null,
        "pivotColumns": null,
        "xColumns": null,
        "yColumns": null
       },
       "removedWidgets": [],
       "schema": [
        {
         "metadata": "{}",
         "name": "eligible_active_members",
         "type": "\"long\""
        }
       ],
       "type": "table"
      }
     },
     "output_type": "display_data"
    }
   ],
   "source": [
    "%sql\n",
    "SELECT COUNT(*) AS eligible_active_members\n",
    "FROM credit_card\n",
    "WHERE IsActiveMember = 1 AND Exited = 0\n"
   ]
  },
  {
   "cell_type": "markdown",
   "metadata": {
    "application/vnd.databricks.v1+cell": {
     "cellMetadata": {},
     "inputWidgets": {},
     "nuid": "0a3b6a17-963e-4455-88bb-ebf679c81a09",
     "showTitle": false,
     "tableResultSettingsMap": {},
     "title": ""
    }
   },
   "source": [
    "####LOAN\n"
   ]
  },
  {
   "cell_type": "code",
   "execution_count": 0,
   "metadata": {
    "application/vnd.databricks.v1+cell": {
     "cellMetadata": {
      "byteLimit": 2048000,
      "rowLimit": 10000
     },
     "inputWidgets": {},
     "nuid": "a3a9e871-091a-4966-96af-e196a219439c",
     "showTitle": false,
     "tableResultSettingsMap": {},
     "title": ""
    }
   },
   "outputs": [
    {
     "output_type": "stream",
     "name": "stdout",
     "output_type": "stream",
     "text": [
      "+-----------+---+------+-------------------+--------------+-----------+------+-----------+-------------+------------------+-----------+-------+------------+----------------+------------------+\n|Customer_ID|Age|Gender|         Occupation|Marital Status|Family Size|Income|Expenditure|Use Frequency|     Loan Category|Loan Amount|Overdue| Debt Record| Returned Cheque| Dishonour of Bill|\n+-----------+---+------+-------------------+--------------+-----------+------+-----------+-------------+------------------+-----------+-------+------------+----------------+------------------+\n|    IB14001| 30|  MALE|       BANK MANAGER|        SINGLE|          4| 50000|      22199|            6|           HOUSING| 10,00,000 |      5|      42,898|               6|                 9|\n|    IB14008| 44|  MALE|          PROFESSOR|       MARRIED|          6| 51000|      19999|            4|          SHOPPING|     50,000|      3|      33,999|               1|                 5|\n|    IB14012| 30|FEMALE|            DENTIST|        SINGLE|          3| 58450|      27675|            5|        TRAVELLING|     75,000|      6|      20,876|               3|                 1|\n|    IB14018| 29|  MALE|            TEACHER|       MARRIED|          5| 45767|      12787|            3|         GOLD LOAN|  6,00,000 |      7|      11,000|               0|                 4|\n|    IB14022| 34|  MALE|             POLICE|        SINGLE|          4| 43521|      11999|            3|        AUTOMOBILE|  2,00,000 |      2|      43,898|               1|                 2|\n|    IB14024| 55|FEMALE|              NURSE|       MARRIED|          6| 34999|      19888|            4|        AUTOMOBILE|     47,787|      1|      50,000|               0|                 3|\n|    IB14025| 39|FEMALE|            TEACHER|       MARRIED|          6| 46619|      18675|            4|           HOUSING| 12,09,867 |      8|      29,999|               6|                 8|\n|    IB14027| 51|  MALE|     SYSTEM MANAGER|       MARRIED|          3| 49999|      19111|            5|       RESTAURANTS|     60,676|      8|      13,000|               2|                 5|\n|    IB14029| 24|FEMALE|            TEACHER|        SINGLE|          3| 45008|      17454|            4|        AUTOMOBILE|  3,99,435 |      9|      51,987|               4|                 7|\n|    IB14031| 37|FEMALE|  SOFTWARE ENGINEER|       MARRIED|          5| 55999|      23999|            5|        AUTOMOBILE|     60,999|      2|           0|               5|                 3|\n|    IB14032| 24|  MALE|       DATA ANALYST|        SINGLE|          4| 60111|      28999|            6|        AUTOMOBILE|     35,232|      5|      33,333|               1|                 2|\n|    IB14034| 32|  MALE|   PRODUCT ENGINEER|       MARRIED|          6|  NULL|      29000|            7|COMPUTER SOFTWARES|     80,660|      6|       4,500|               5|                 4|\n|    IB14037| 54|FEMALE|            TEACHER|       MARRIED|          5| 48099|      19999|            4|       RESTAURANTS|     30,999|      1|      12,000|               7|                 5|\n|    IB14039| 45|  MALE|    ACCOUNT MANAGER|       MARRIED|          7| 45777|      18452|            4|         GOLD LOAN|  9,87,611 |      7|      39,999|               8|                 1|\n|    IB14041| 59|FEMALE|ASSISTANT PROFESSOR|       MARRIED|          4| 50999|      22999|            5|  EDUCATIONAL LOAN|  5,99,934 |      3|       9,000|               9|                 9|\n|    IB14042| 25|FEMALE|             DOCTOR|        SINGLE|          4| 60111|      27111|            5|        TRAVELLING| 12,90,929 |      4|      18,000|               1|                 0|\n|    IB14045| 31|  MALE|       STORE KEEPER|        SINGLE|          5| 40999|      11999|            3|       BOOK STORES|  1,67,654 |      1|       4,500|               0|                 1|\n|    IB14049| 49|  MALE|       BANK MANAGER|       MARRIED|          4| 45999|      14500|            4|        TRAVELLING|     79,999|      4|       6,700|               7|                 3|\n|    IB14050| 56|  MALE|     CIVIL ENGINEER|       MARRIED|          4|  NULL|      13999|            3|           HOUSING| 10,65,577 |      6|      19,999|               4|                 2|\n|    IB14054| 58|FEMALE|             DOCTOR|       MARRIED|          5| 60000|      25000|            5|           HOUSING|  9,00,000 |      5|      21,000|               9|                 0|\n+-----------+---+------+-------------------+--------------+-----------+------+-----------+-------------+------------------+-----------+-------+------------+----------------+------------------+\nonly showing top 20 rows\nroot\n |-- Customer_ID: string (nullable = true)\n |-- Age: string (nullable = true)\n |-- Gender: string (nullable = true)\n |-- Occupation: string (nullable = true)\n |-- Marital Status: string (nullable = true)\n |-- Family Size: string (nullable = true)\n |-- Income: string (nullable = true)\n |-- Expenditure: string (nullable = true)\n |-- Use Frequency: string (nullable = true)\n |-- Loan Category: string (nullable = true)\n |-- Loan Amount: string (nullable = true)\n |-- Overdue: string (nullable = true)\n |--  Debt Record: string (nullable = true)\n |--  Returned Cheque: string (nullable = true)\n |--  Dishonour of Bill: string (nullable = true)\n\n"
     ]
    }
   ],
   "source": [
    "# Reading loan.csv\n",
    "loan_df = spark.read.option(\"header\", True).csv(\"/Volumes/workspace/default/data/loan.csv\")\n",
    "loan_df.show()\n",
    "loan_df.printSchema()\n",
    "loan_df.createOrReplaceTempView(\"loan\")\n"
   ]
  },
  {
   "cell_type": "markdown",
   "metadata": {
    "application/vnd.databricks.v1+cell": {
     "cellMetadata": {},
     "inputWidgets": {},
     "nuid": "7c0c4298-2e8f-4633-aced-87848961497e",
     "showTitle": false,
     "tableResultSettingsMap": {},
     "title": ""
    }
   },
   "source": [
    "1. Number of loans in each category"
   ]
  },
  {
   "cell_type": "code",
   "execution_count": 0,
   "metadata": {
    "application/vnd.databricks.v1+cell": {
     "cellMetadata": {
      "byteLimit": 2048000,
      "implicitDf": true,
      "rowLimit": 10000
     },
     "inputWidgets": {},
     "nuid": "09290754-36e1-4597-ad87-670981df0c28",
     "showTitle": false,
     "tableResultSettingsMap": {},
     "title": ""
    }
   },
   "outputs": [
    {
     "output_type": "display_data",
     "data": {
      "text/html": [
       "<style scoped>\n",
       "  .table-result-container {\n",
       "    max-height: 300px;\n",
       "    overflow: auto;\n",
       "  }\n",
       "  table, th, td {\n",
       "    border: 1px solid black;\n",
       "    border-collapse: collapse;\n",
       "  }\n",
       "  th, td {\n",
       "    padding: 5px;\n",
       "  }\n",
       "  th {\n",
       "    text-align: left;\n",
       "  }\n",
       "</style><div class='table-result-container'><table class='table-result'><thead style='background-color: white'><tr><th>Loan Category</th><th>total_loans</th></tr></thead><tbody><tr><td>AUTOMOBILE</td><td>60</td></tr><tr><td>COMPUTER SOFTWARES</td><td>35</td></tr><tr><td>BUILDING</td><td>7</td></tr><tr><td>RESTAURANTS</td><td>41</td></tr><tr><td>ELECTRONICS</td><td>14</td></tr><tr><td>DINNING</td><td>14</td></tr><tr><td>BOOK STORES</td><td>7</td></tr><tr><td>AGRICULTURE</td><td>12</td></tr><tr><td>HOUSING</td><td>67</td></tr><tr><td>BUSINESS</td><td>24</td></tr><tr><td>HOME APPLIANCES</td><td>14</td></tr><tr><td>SHOPPING</td><td>35</td></tr><tr><td>RESTAURANT</td><td>20</td></tr><tr><td>EDUCATIONAL LOAN</td><td>20</td></tr><tr><td>TRAVELLING</td><td>53</td></tr><tr><td>GOLD LOAN</td><td>77</td></tr></tbody></table></div>"
      ]
     },
     "metadata": {
      "application/vnd.databricks.v1+output": {
       "addedWidgets": {},
       "aggData": [],
       "aggError": "",
       "aggOverflow": false,
       "aggSchema": [],
       "aggSeriesLimitReached": false,
       "aggType": "",
       "arguments": {},
       "columnCustomDisplayInfos": {},
       "data": [
        [
         "AUTOMOBILE",
         60
        ],
        [
         "COMPUTER SOFTWARES",
         35
        ],
        [
         "BUILDING",
         7
        ],
        [
         "RESTAURANTS",
         41
        ],
        [
         "ELECTRONICS",
         14
        ],
        [
         "DINNING",
         14
        ],
        [
         "BOOK STORES",
         7
        ],
        [
         "AGRICULTURE",
         12
        ],
        [
         "HOUSING",
         67
        ],
        [
         "BUSINESS",
         24
        ],
        [
         "HOME APPLIANCES",
         14
        ],
        [
         "SHOPPING",
         35
        ],
        [
         "RESTAURANT",
         20
        ],
        [
         "EDUCATIONAL LOAN",
         20
        ],
        [
         "TRAVELLING",
         53
        ],
        [
         "GOLD LOAN",
         77
        ]
       ],
       "datasetInfos": [
        {
         "name": "_sqldf",
         "schema": {
          "fields": [
           {
            "metadata": {},
            "name": "Loan Category",
            "nullable": true,
            "type": "string"
           },
           {
            "metadata": {},
            "name": "total_loans",
            "nullable": false,
            "type": "long"
           }
          ],
          "type": "struct"
         },
         "tableIdentifier": null,
         "typeStr": "pyspark.sql.connect.dataframe.DataFrame"
        }
       ],
       "dbfsResultPath": null,
       "isJsonSchema": true,
       "metadata": {
        "createTempViewForImplicitDf": true,
        "dataframeName": "_sqldf",
        "executionCount": 16
       },
       "overflow": false,
       "plotOptions": {
        "customPlotOptions": {},
        "displayType": "table",
        "pivotAggregation": null,
        "pivotColumns": null,
        "xColumns": null,
        "yColumns": null
       },
       "removedWidgets": [],
       "schema": [
        {
         "metadata": "{}",
         "name": "Loan Category",
         "type": "\"string\""
        },
        {
         "metadata": "{}",
         "name": "total_loans",
         "type": "\"long\""
        }
       ],
       "type": "table"
      }
     },
     "output_type": "display_data"
    }
   ],
   "source": [
    "%sql\n",
    "SELECT `Loan Category`, COUNT(*) AS total_loans\n",
    "FROM loan\n",
    "GROUP BY `Loan Category`\n"
   ]
  },
  {
   "cell_type": "markdown",
   "metadata": {
    "application/vnd.databricks.v1+cell": {
     "cellMetadata": {},
     "inputWidgets": {},
     "nuid": "4b114db0-81c0-4941-9265-5e6c57365fe3",
     "showTitle": false,
     "tableResultSettingsMap": {},
     "title": ""
    }
   },
   "source": [
    "2. Number of people who have taken more than 1 lakh loan"
   ]
  },
  {
   "cell_type": "code",
   "execution_count": 0,
   "metadata": {
    "application/vnd.databricks.v1+cell": {
     "cellMetadata": {
      "byteLimit": 2048000,
      "implicitDf": true,
      "rowLimit": 10000
     },
     "inputWidgets": {},
     "nuid": "855d1b83-e157-419b-ba5b-9c43a57d8978",
     "showTitle": false,
     "tableResultSettingsMap": {},
     "title": ""
    }
   },
   "outputs": [
    {
     "output_type": "display_data",
     "data": {
      "text/html": [
       "<style scoped>\n",
       "  .table-result-container {\n",
       "    max-height: 300px;\n",
       "    overflow: auto;\n",
       "  }\n",
       "  table, th, td {\n",
       "    border: 1px solid black;\n",
       "    border-collapse: collapse;\n",
       "  }\n",
       "  th, td {\n",
       "    padding: 5px;\n",
       "  }\n",
       "  th {\n",
       "    text-align: left;\n",
       "  }\n",
       "</style><div class='table-result-container'><table class='table-result'><thead style='background-color: white'><tr><th>count_above_1_lakh</th></tr></thead><tbody><tr><td>450</td></tr></tbody></table></div>"
      ]
     },
     "metadata": {
      "application/vnd.databricks.v1+output": {
       "addedWidgets": {},
       "aggData": [],
       "aggError": "",
       "aggOverflow": false,
       "aggSchema": [],
       "aggSeriesLimitReached": false,
       "aggType": "",
       "arguments": {},
       "columnCustomDisplayInfos": {},
       "data": [
        [
         450
        ]
       ],
       "datasetInfos": [
        {
         "name": "_sqldf",
         "schema": {
          "fields": [
           {
            "metadata": {},
            "name": "count_above_1_lakh",
            "nullable": false,
            "type": "long"
           }
          ],
          "type": "struct"
         },
         "tableIdentifier": null,
         "typeStr": "pyspark.sql.connect.dataframe.DataFrame"
        }
       ],
       "dbfsResultPath": null,
       "isJsonSchema": true,
       "metadata": {
        "createTempViewForImplicitDf": true,
        "dataframeName": "_sqldf",
        "executionCount": 17
       },
       "overflow": false,
       "plotOptions": {
        "customPlotOptions": {},
        "displayType": "table",
        "pivotAggregation": null,
        "pivotColumns": null,
        "xColumns": null,
        "yColumns": null
       },
       "removedWidgets": [],
       "schema": [
        {
         "metadata": "{}",
         "name": "count_above_1_lakh",
         "type": "\"long\""
        }
       ],
       "type": "table"
      }
     },
     "output_type": "display_data"
    }
   ],
   "source": [
    "%sql\n",
    "SELECT COUNT(*) AS count_above_1_lakh\n",
    "FROM loan\n",
    "WHERE TRY_CAST(REPLACE(TRIM(`Loan Amount`), ',', '') AS INT) > 100000\n",
    "\n"
   ]
  },
  {
   "cell_type": "markdown",
   "metadata": {
    "application/vnd.databricks.v1+cell": {
     "cellMetadata": {},
     "inputWidgets": {},
     "nuid": "c3b82a16-129f-47fb-bfa9-52453278b272",
     "showTitle": false,
     "tableResultSettingsMap": {},
     "title": ""
    }
   },
   "source": [
    "3. Number of people with income greater than 60000 rupees"
   ]
  },
  {
   "cell_type": "code",
   "execution_count": 0,
   "metadata": {
    "application/vnd.databricks.v1+cell": {
     "cellMetadata": {
      "byteLimit": 2048000,
      "implicitDf": true,
      "rowLimit": 10000
     },
     "inputWidgets": {},
     "nuid": "38d60f68-b789-411f-bce1-6d51f02bccee",
     "showTitle": false,
     "tableResultSettingsMap": {},
     "title": ""
    }
   },
   "outputs": [
    {
     "output_type": "display_data",
     "data": {
      "text/html": [
       "<style scoped>\n",
       "  .table-result-container {\n",
       "    max-height: 300px;\n",
       "    overflow: auto;\n",
       "  }\n",
       "  table, th, td {\n",
       "    border: 1px solid black;\n",
       "    border-collapse: collapse;\n",
       "  }\n",
       "  th, td {\n",
       "    padding: 5px;\n",
       "  }\n",
       "  th {\n",
       "    text-align: left;\n",
       "  }\n",
       "</style><div class='table-result-container'><table class='table-result'><thead style='background-color: white'><tr><th>high_income_people</th></tr></thead><tbody><tr><td>198</td></tr></tbody></table></div>"
      ]
     },
     "metadata": {
      "application/vnd.databricks.v1+output": {
       "addedWidgets": {},
       "aggData": [],
       "aggError": "",
       "aggOverflow": false,
       "aggSchema": [],
       "aggSeriesLimitReached": false,
       "aggType": "",
       "arguments": {},
       "columnCustomDisplayInfos": {},
       "data": [
        [
         198
        ]
       ],
       "datasetInfos": [
        {
         "name": "_sqldf",
         "schema": {
          "fields": [
           {
            "metadata": {},
            "name": "high_income_people",
            "nullable": false,
            "type": "long"
           }
          ],
          "type": "struct"
         },
         "tableIdentifier": null,
         "typeStr": "pyspark.sql.connect.dataframe.DataFrame"
        }
       ],
       "dbfsResultPath": null,
       "isJsonSchema": true,
       "metadata": {
        "createTempViewForImplicitDf": true,
        "dataframeName": "_sqldf",
        "executionCount": 18
       },
       "overflow": false,
       "plotOptions": {
        "customPlotOptions": {},
        "displayType": "table",
        "pivotAggregation": null,
        "pivotColumns": null,
        "xColumns": null,
        "yColumns": null
       },
       "removedWidgets": [],
       "schema": [
        {
         "metadata": "{}",
         "name": "high_income_people",
         "type": "\"long\""
        }
       ],
       "type": "table"
      }
     },
     "output_type": "display_data"
    }
   ],
   "source": [
    "%sql\n",
    "SELECT COUNT(*) AS high_income_people\n",
    "FROM loan\n",
    "WHERE CAST(Income AS INT) > 60000\n"
   ]
  },
  {
   "cell_type": "markdown",
   "metadata": {
    "application/vnd.databricks.v1+cell": {
     "cellMetadata": {},
     "inputWidgets": {},
     "nuid": "4006a3b6-47de-4688-a9f5-89f156966028",
     "showTitle": false,
     "tableResultSettingsMap": {},
     "title": ""
    }
   },
   "source": [
    "4. People with 2 or more returned cheques and income less than 50000"
   ]
  },
  {
   "cell_type": "code",
   "execution_count": 0,
   "metadata": {
    "application/vnd.databricks.v1+cell": {
     "cellMetadata": {
      "byteLimit": 2048000,
      "implicitDf": true,
      "rowLimit": 10000
     },
     "inputWidgets": {},
     "nuid": "7e170fb9-903f-4010-b52d-dcbd46623fae",
     "showTitle": false,
     "tableResultSettingsMap": {},
     "title": ""
    }
   },
   "outputs": [
    {
     "output_type": "display_data",
     "data": {
      "text/html": [
       "<style scoped>\n",
       "  .table-result-container {\n",
       "    max-height: 300px;\n",
       "    overflow: auto;\n",
       "  }\n",
       "  table, th, td {\n",
       "    border: 1px solid black;\n",
       "    border-collapse: collapse;\n",
       "  }\n",
       "  th, td {\n",
       "    padding: 5px;\n",
       "  }\n",
       "  th {\n",
       "    text-align: left;\n",
       "  }\n",
       "</style><div class='table-result-container'><table class='table-result'><thead style='background-color: white'><tr><th>people_count</th></tr></thead><tbody><tr><td>137</td></tr></tbody></table></div>"
      ]
     },
     "metadata": {
      "application/vnd.databricks.v1+output": {
       "addedWidgets": {},
       "aggData": [],
       "aggError": "",
       "aggOverflow": false,
       "aggSchema": [],
       "aggSeriesLimitReached": false,
       "aggType": "",
       "arguments": {},
       "columnCustomDisplayInfos": {},
       "data": [
        [
         137
        ]
       ],
       "datasetInfos": [
        {
         "name": "_sqldf",
         "schema": {
          "fields": [
           {
            "metadata": {},
            "name": "people_count",
            "nullable": false,
            "type": "long"
           }
          ],
          "type": "struct"
         },
         "tableIdentifier": null,
         "typeStr": "pyspark.sql.connect.dataframe.DataFrame"
        }
       ],
       "dbfsResultPath": null,
       "isJsonSchema": true,
       "metadata": {
        "createTempViewForImplicitDf": true,
        "dataframeName": "_sqldf",
        "executionCount": 19
       },
       "overflow": false,
       "plotOptions": {
        "customPlotOptions": {},
        "displayType": "table",
        "pivotAggregation": null,
        "pivotColumns": null,
        "xColumns": null,
        "yColumns": null
       },
       "removedWidgets": [],
       "schema": [
        {
         "metadata": "{}",
         "name": "people_count",
         "type": "\"long\""
        }
       ],
       "type": "table"
      }
     },
     "output_type": "display_data"
    }
   ],
   "source": [
    "%sql\n",
    "SELECT COUNT(*) AS people_count\n",
    "FROM loan\n",
    "WHERE TRY_CAST(` Returned Cheque` AS INT) >= 2\n",
    "  AND TRY_CAST(Income AS INT) < 50000\n"
   ]
  },
  {
   "cell_type": "markdown",
   "metadata": {
    "application/vnd.databricks.v1+cell": {
     "cellMetadata": {},
     "inputWidgets": {},
     "nuid": "975bf844-9393-427b-bf10-bd81b57bb3c5",
     "showTitle": false,
     "tableResultSettingsMap": {},
     "title": ""
    }
   },
   "source": [
    "5. People with 2+ returned cheques and are single"
   ]
  },
  {
   "cell_type": "code",
   "execution_count": 0,
   "metadata": {
    "application/vnd.databricks.v1+cell": {
     "cellMetadata": {
      "byteLimit": 2048000,
      "implicitDf": true,
      "rowLimit": 10000
     },
     "inputWidgets": {},
     "nuid": "3ed3d1e7-4da0-4393-932a-ba3036a975ad",
     "showTitle": false,
     "tableResultSettingsMap": {},
     "title": ""
    }
   },
   "outputs": [
    {
     "output_type": "display_data",
     "data": {
      "text/html": [
       "<style scoped>\n",
       "  .table-result-container {\n",
       "    max-height: 300px;\n",
       "    overflow: auto;\n",
       "  }\n",
       "  table, th, td {\n",
       "    border: 1px solid black;\n",
       "    border-collapse: collapse;\n",
       "  }\n",
       "  th, td {\n",
       "    padding: 5px;\n",
       "  }\n",
       "  th {\n",
       "    text-align: left;\n",
       "  }\n",
       "</style><div class='table-result-container'><table class='table-result'><thead style='background-color: white'><tr><th>single_with_2plus_returned</th></tr></thead><tbody><tr><td>0</td></tr></tbody></table></div>"
      ]
     },
     "metadata": {
      "application/vnd.databricks.v1+output": {
       "addedWidgets": {},
       "aggData": [],
       "aggError": "",
       "aggOverflow": false,
       "aggSchema": [],
       "aggSeriesLimitReached": false,
       "aggType": "",
       "arguments": {},
       "columnCustomDisplayInfos": {},
       "data": [
        [
         0
        ]
       ],
       "datasetInfos": [
        {
         "name": "_sqldf",
         "schema": {
          "fields": [
           {
            "metadata": {},
            "name": "single_with_2plus_returned",
            "nullable": false,
            "type": "long"
           }
          ],
          "type": "struct"
         },
         "tableIdentifier": null,
         "typeStr": "pyspark.sql.connect.dataframe.DataFrame"
        }
       ],
       "dbfsResultPath": null,
       "isJsonSchema": true,
       "metadata": {
        "createTempViewForImplicitDf": true,
        "dataframeName": "_sqldf",
        "executionCount": 20
       },
       "overflow": false,
       "plotOptions": {
        "customPlotOptions": {},
        "displayType": "table",
        "pivotAggregation": null,
        "pivotColumns": null,
        "xColumns": null,
        "yColumns": null
       },
       "removedWidgets": [],
       "schema": [
        {
         "metadata": "{}",
         "name": "single_with_2plus_returned",
         "type": "\"long\""
        }
       ],
       "type": "table"
      }
     },
     "output_type": "display_data"
    }
   ],
   "source": [
    "%sql\n",
    "SELECT COUNT(*) AS single_with_2plus_returned\n",
    "FROM loan\n",
    "WHERE TRY_CAST(` Returned Cheque` AS INT) >= 2\n",
    "  AND `Marital Status` = 'Single'\n"
   ]
  },
  {
   "cell_type": "markdown",
   "metadata": {
    "application/vnd.databricks.v1+cell": {
     "cellMetadata": {},
     "inputWidgets": {},
     "nuid": "5a81bfe4-6ccb-4ab3-b3ca-d8b30429cd80",
     "showTitle": false,
     "tableResultSettingsMap": {},
     "title": ""
    }
   },
   "source": [
    "6. People with expenditure over 50000/month"
   ]
  },
  {
   "cell_type": "code",
   "execution_count": 0,
   "metadata": {
    "application/vnd.databricks.v1+cell": {
     "cellMetadata": {
      "byteLimit": 2048000,
      "implicitDf": true,
      "rowLimit": 10000
     },
     "inputWidgets": {},
     "nuid": "b1d5ea33-2980-43a1-bef8-a4bc927f5d09",
     "showTitle": false,
     "tableResultSettingsMap": {},
     "title": ""
    }
   },
   "outputs": [
    {
     "output_type": "display_data",
     "data": {
      "text/html": [
       "<style scoped>\n",
       "  .table-result-container {\n",
       "    max-height: 300px;\n",
       "    overflow: auto;\n",
       "  }\n",
       "  table, th, td {\n",
       "    border: 1px solid black;\n",
       "    border-collapse: collapse;\n",
       "  }\n",
       "  th, td {\n",
       "    padding: 5px;\n",
       "  }\n",
       "  th {\n",
       "    text-align: left;\n",
       "  }\n",
       "</style><div class='table-result-container'><table class='table-result'><thead style='background-color: white'><tr><th>high_spenders</th></tr></thead><tbody><tr><td>6</td></tr></tbody></table></div>"
      ]
     },
     "metadata": {
      "application/vnd.databricks.v1+output": {
       "addedWidgets": {},
       "aggData": [],
       "aggError": "",
       "aggOverflow": false,
       "aggSchema": [],
       "aggSeriesLimitReached": false,
       "aggType": "",
       "arguments": {},
       "columnCustomDisplayInfos": {},
       "data": [
        [
         6
        ]
       ],
       "datasetInfos": [
        {
         "name": "_sqldf",
         "schema": {
          "fields": [
           {
            "metadata": {},
            "name": "high_spenders",
            "nullable": false,
            "type": "long"
           }
          ],
          "type": "struct"
         },
         "tableIdentifier": null,
         "typeStr": "pyspark.sql.connect.dataframe.DataFrame"
        }
       ],
       "dbfsResultPath": null,
       "isJsonSchema": true,
       "metadata": {
        "createTempViewForImplicitDf": true,
        "dataframeName": "_sqldf",
        "executionCount": 21
       },
       "overflow": false,
       "plotOptions": {
        "customPlotOptions": {},
        "displayType": "table",
        "pivotAggregation": null,
        "pivotColumns": null,
        "xColumns": null,
        "yColumns": null
       },
       "removedWidgets": [],
       "schema": [
        {
         "metadata": "{}",
         "name": "high_spenders",
         "type": "\"long\""
        }
       ],
       "type": "table"
      }
     },
     "output_type": "display_data"
    }
   ],
   "source": [
    "%sql\n",
    "SELECT COUNT(*) AS high_spenders\n",
    "FROM loan\n",
    "WHERE CAST(Expenditure AS INT) > 50000\n"
   ]
  },
  {
   "cell_type": "markdown",
   "metadata": {
    "application/vnd.databricks.v1+cell": {
     "cellMetadata": {},
     "inputWidgets": {},
     "nuid": "facc83d0-e717-4374-a4b9-f97dea458e96",
     "showTitle": false,
     "tableResultSettingsMap": {},
     "title": ""
    }
   },
   "source": [
    "7. Members eligible for a credit card"
   ]
  },
  {
   "cell_type": "code",
   "execution_count": 0,
   "metadata": {
    "application/vnd.databricks.v1+cell": {
     "cellMetadata": {
      "byteLimit": 2048000,
      "implicitDf": true,
      "rowLimit": 10000
     },
     "inputWidgets": {},
     "nuid": "8ea54615-b0c3-48cd-bcab-8accd70f2742",
     "showTitle": false,
     "tableResultSettingsMap": {},
     "title": ""
    }
   },
   "outputs": [
    {
     "output_type": "display_data",
     "data": {
      "text/html": [
       "<style scoped>\n",
       "  .table-result-container {\n",
       "    max-height: 300px;\n",
       "    overflow: auto;\n",
       "  }\n",
       "  table, th, td {\n",
       "    border: 1px solid black;\n",
       "    border-collapse: collapse;\n",
       "  }\n",
       "  th, td {\n",
       "    padding: 5px;\n",
       "  }\n",
       "  th {\n",
       "    text-align: left;\n",
       "  }\n",
       "</style><div class='table-result-container'><table class='table-result'><thead style='background-color: white'><tr><th>eligible_members</th></tr></thead><tbody><tr><td>0</td></tr></tbody></table></div>"
      ]
     },
     "metadata": {
      "application/vnd.databricks.v1+output": {
       "addedWidgets": {},
       "aggData": [],
       "aggError": "",
       "aggOverflow": false,
       "aggSchema": [],
       "aggSeriesLimitReached": false,
       "aggType": "",
       "arguments": {},
       "columnCustomDisplayInfos": {},
       "data": [
        [
         0
        ]
       ],
       "datasetInfos": [
        {
         "name": "_sqldf",
         "schema": {
          "fields": [
           {
            "metadata": {},
            "name": "eligible_members",
            "nullable": false,
            "type": "long"
           }
          ],
          "type": "struct"
         },
         "tableIdentifier": null,
         "typeStr": "pyspark.sql.connect.dataframe.DataFrame"
        }
       ],
       "dbfsResultPath": null,
       "isJsonSchema": true,
       "metadata": {
        "createTempViewForImplicitDf": true,
        "dataframeName": "_sqldf",
        "executionCount": 22
       },
       "overflow": false,
       "plotOptions": {
        "customPlotOptions": {},
        "displayType": "table",
        "pivotAggregation": null,
        "pivotColumns": null,
        "xColumns": null,
        "yColumns": null
       },
       "removedWidgets": [],
       "schema": [
        {
         "metadata": "{}",
         "name": "eligible_members",
         "type": "\"long\""
        }
       ],
       "type": "table"
      }
     },
     "output_type": "display_data"
    }
   ],
   "source": [
    "%sql\n",
    "SELECT COUNT(*) AS eligible_members\n",
    "FROM loan\n",
    "WHERE TRY_CAST(Income AS INT) > 50000\n",
    "  AND ` Debt Record` = 'No'\n"
   ]
  },
  {
   "cell_type": "markdown",
   "metadata": {
    "application/vnd.databricks.v1+cell": {
     "cellMetadata": {},
     "inputWidgets": {},
     "nuid": "5819b0e1-cde6-47f7-8632-fffcb6f1a2f1",
     "showTitle": false,
     "tableResultSettingsMap": {},
     "title": ""
    }
   },
   "source": [
    "####TRANSACTION"
   ]
  },
  {
   "cell_type": "code",
   "execution_count": 0,
   "metadata": {
    "application/vnd.databricks.v1+cell": {
     "cellMetadata": {
      "byteLimit": 2048000,
      "rowLimit": 10000
     },
     "inputWidgets": {},
     "nuid": "4ec71c27-1b21-4985-b2fe-cda8cc59a5fe",
     "showTitle": false,
     "tableResultSettingsMap": {},
     "title": ""
    }
   },
   "outputs": [
    {
     "output_type": "stream",
     "name": "stdout",
     "output_type": "stream",
     "text": [
      "+-------------+--------------------+----------+----------------+-------------+-----------+\n|   Account No| TRANSACTION DETAILS|VALUE DATE| WITHDRAWAL AMT | DEPOSIT AMT |BALANCE AMT|\n+-------------+--------------------+----------+----------------+-------------+-----------+\n|409000611074'|TRF FROM  Indiafo...| 29-Jun-17|            NULL|      1000000|    1000000|\n|409000611074'|TRF FROM  Indiafo...|  5-Jul-17|            NULL|      1000000|    2000000|\n|409000611074'|FDRL/INTERNAL FUN...| 18-Jul-17|            NULL|       500000|    2500000|\n|409000611074'|TRF FRM  Indiafor...|  1-Aug-17|            NULL|      3000000|    5500000|\n|409000611074'|FDRL/INTERNAL FUN...| 16-Aug-17|            NULL|       500000|    6000000|\n|409000611074'|FDRL/INTERNAL FUN...| 16-Aug-17|            NULL|       500000|    6500000|\n|409000611074'|FDRL/INTERNAL FUN...| 16-Aug-17|            NULL|       500000|    7000000|\n|409000611074'|FDRL/INTERNAL FUN...| 16-Aug-17|            NULL|       500000|    7500000|\n|409000611074'|FDRL/INTERNAL FUN...| 16-Aug-17|            NULL|       500000|    8000000|\n|409000611074'|FDRL/INTERNAL FUN...| 16-Aug-17|            NULL|       500000|    8500000|\n|409000611074'|INDO GIBL Indiafo...| 16-Aug-17|          133900|         NULL|    8366100|\n|409000611074'|INDO GIBL Indiafo...| 16-Aug-17|           18000|         NULL|    8348100|\n|409000611074'|INDO GIBL Indiafo...| 16-Aug-17|            5000|         NULL|    8343100|\n|409000611074'|INDO GIBL Indiafo...| 16-Aug-17|          195800|         NULL|    8147300|\n|409000611074'|INDO GIBL Indiafo...| 16-Aug-17|           81600|         NULL|    8065700|\n|409000611074'|INDO GIBL Indiafo...| 16-Aug-17|           41800|         NULL|    8023900|\n|409000611074'|INDO GIBL Indiafo...| 16-Aug-17|           98500|         NULL|    7925400|\n|409000611074'|INDO GIBL Indiafo...| 16-Aug-17|          143800|         NULL|    7781600|\n|409000611074'|INDO GIBL Indiafo...| 16-Aug-17|          331650|         NULL|    7449950|\n|409000611074'|INDO GIBL Indiafo...| 16-Aug-17|          129000|         NULL|    7320950|\n+-------------+--------------------+----------+----------------+-------------+-----------+\nonly showing top 20 rows\nroot\n |-- Account No: string (nullable = true)\n |-- TRANSACTION DETAILS: string (nullable = true)\n |-- VALUE DATE: string (nullable = true)\n |--  WITHDRAWAL AMT : string (nullable = true)\n |--  DEPOSIT AMT : string (nullable = true)\n |-- BALANCE AMT: string (nullable = true)\n\n"
     ]
    }
   ],
   "source": [
    "# Reading transaction.csv\n",
    "txn_df = spark.read.option(\"header\", True).csv(\"/Volumes/workspace/default/data/txn.csv\")\n",
    "txn_df.show()\n",
    "txn_df.printSchema()\n",
    "txn_df.createOrReplaceTempView(\"transaction\")\n"
   ]
  },
  {
   "cell_type": "markdown",
   "metadata": {
    "application/vnd.databricks.v1+cell": {
     "cellMetadata": {},
     "inputWidgets": {},
     "nuid": "871eea5d-be2c-4522-a4cf-0e282095d607",
     "showTitle": false,
     "tableResultSettingsMap": {},
     "title": ""
    }
   },
   "source": [
    "1. Maximum withdrawal amount in transactions"
   ]
  },
  {
   "cell_type": "code",
   "execution_count": 0,
   "metadata": {
    "application/vnd.databricks.v1+cell": {
     "cellMetadata": {
      "byteLimit": 2048000,
      "implicitDf": true,
      "rowLimit": 10000
     },
     "inputWidgets": {},
     "nuid": "0af3f0c1-903f-44ef-b164-0f9b44a00def",
     "showTitle": false,
     "tableResultSettingsMap": {},
     "title": ""
    }
   },
   "outputs": [
    {
     "output_type": "display_data",
     "data": {
      "text/html": [
       "<style scoped>\n",
       "  .table-result-container {\n",
       "    max-height: 300px;\n",
       "    overflow: auto;\n",
       "  }\n",
       "  table, th, td {\n",
       "    border: 1px solid black;\n",
       "    border-collapse: collapse;\n",
       "  }\n",
       "  th, td {\n",
       "    padding: 5px;\n",
       "  }\n",
       "  th {\n",
       "    text-align: left;\n",
       "  }\n",
       "</style><div class='table-result-container'><table class='table-result'><thead style='background-color: white'><tr><th>max_withdrawal</th></tr></thead><tbody><tr><td>4.594475464E8</td></tr></tbody></table></div>"
      ]
     },
     "metadata": {
      "application/vnd.databricks.v1+output": {
       "addedWidgets": {},
       "aggData": [],
       "aggError": "",
       "aggOverflow": false,
       "aggSchema": [],
       "aggSeriesLimitReached": false,
       "aggType": "",
       "arguments": {},
       "columnCustomDisplayInfos": {},
       "data": [
        [
         4.594475464E8
        ]
       ],
       "datasetInfos": [
        {
         "name": "_sqldf",
         "schema": {
          "fields": [
           {
            "metadata": {},
            "name": "max_withdrawal",
            "nullable": true,
            "type": "double"
           }
          ],
          "type": "struct"
         },
         "tableIdentifier": null,
         "typeStr": "pyspark.sql.connect.dataframe.DataFrame"
        }
       ],
       "dbfsResultPath": null,
       "isJsonSchema": true,
       "metadata": {
        "createTempViewForImplicitDf": true,
        "dataframeName": "_sqldf",
        "executionCount": 24
       },
       "overflow": false,
       "plotOptions": {
        "customPlotOptions": {},
        "displayType": "table",
        "pivotAggregation": null,
        "pivotColumns": null,
        "xColumns": null,
        "yColumns": null
       },
       "removedWidgets": [],
       "schema": [
        {
         "metadata": "{}",
         "name": "max_withdrawal",
         "type": "\"double\""
        }
       ],
       "type": "table"
      }
     },
     "output_type": "display_data"
    }
   ],
   "source": [
    "%sql\n",
    "SELECT MAX(CAST(` WITHDRAWAL AMT ` AS DOUBLE)) AS max_withdrawal\n",
    "FROM transaction\n"
   ]
  },
  {
   "cell_type": "markdown",
   "metadata": {
    "application/vnd.databricks.v1+cell": {
     "cellMetadata": {},
     "inputWidgets": {},
     "nuid": "f7e7c29f-1033-4be4-8b92-4a435efae12a",
     "showTitle": false,
     "tableResultSettingsMap": {},
     "title": ""
    }
   },
   "source": [
    "2. Minimum withdrawal amount of an account"
   ]
  },
  {
   "cell_type": "code",
   "execution_count": 0,
   "metadata": {
    "application/vnd.databricks.v1+cell": {
     "cellMetadata": {
      "byteLimit": 2048000,
      "implicitDf": true,
      "rowLimit": 10000
     },
     "inputWidgets": {},
     "nuid": "0804c3cd-27b0-4653-8360-0474076a7539",
     "showTitle": false,
     "tableResultSettingsMap": {},
     "title": ""
    }
   },
   "outputs": [
    {
     "output_type": "display_data",
     "data": {
      "text/html": [
       "<style scoped>\n",
       "  .table-result-container {\n",
       "    max-height: 300px;\n",
       "    overflow: auto;\n",
       "  }\n",
       "  table, th, td {\n",
       "    border: 1px solid black;\n",
       "    border-collapse: collapse;\n",
       "  }\n",
       "  th, td {\n",
       "    padding: 5px;\n",
       "  }\n",
       "  th {\n",
       "    text-align: left;\n",
       "  }\n",
       "</style><div class='table-result-container'><table class='table-result'><thead style='background-color: white'><tr><th>Account No</th><th>min_withdrawal</th></tr></thead><tbody><tr><td>409000611074'</td><td>120.0</td></tr><tr><td>409000438620'</td><td>0.34</td></tr><tr><td>409000493201'</td><td>2.1</td></tr><tr><td>409000425051'</td><td>1.25</td></tr><tr><td>409000493210'</td><td>0.01</td></tr><tr><td>409000438611'</td><td>0.2</td></tr><tr><td>409000405747'</td><td>21.0</td></tr><tr><td>1196711'</td><td>0.25</td></tr><tr><td>1196428'</td><td>0.25</td></tr><tr><td>409000362497'</td><td>0.97</td></tr></tbody></table></div>"
      ]
     },
     "metadata": {
      "application/vnd.databricks.v1+output": {
       "addedWidgets": {},
       "aggData": [],
       "aggError": "",
       "aggOverflow": false,
       "aggSchema": [],
       "aggSeriesLimitReached": false,
       "aggType": "",
       "arguments": {},
       "columnCustomDisplayInfos": {},
       "data": [
        [
         "409000611074'",
         120.0
        ],
        [
         "409000438620'",
         0.34
        ],
        [
         "409000493201'",
         2.1
        ],
        [
         "409000425051'",
         1.25
        ],
        [
         "409000493210'",
         0.01
        ],
        [
         "409000438611'",
         0.2
        ],
        [
         "409000405747'",
         21.0
        ],
        [
         "1196711'",
         0.25
        ],
        [
         "1196428'",
         0.25
        ],
        [
         "409000362497'",
         0.97
        ]
       ],
       "datasetInfos": [
        {
         "name": "_sqldf",
         "schema": {
          "fields": [
           {
            "metadata": {},
            "name": "Account No",
            "nullable": true,
            "type": "string"
           },
           {
            "metadata": {},
            "name": "min_withdrawal",
            "nullable": true,
            "type": "double"
           }
          ],
          "type": "struct"
         },
         "tableIdentifier": null,
         "typeStr": "pyspark.sql.connect.dataframe.DataFrame"
        }
       ],
       "dbfsResultPath": null,
       "isJsonSchema": true,
       "metadata": {
        "createTempViewForImplicitDf": true,
        "dataframeName": "_sqldf",
        "executionCount": 25
       },
       "overflow": false,
       "plotOptions": {
        "customPlotOptions": {},
        "displayType": "table",
        "pivotAggregation": null,
        "pivotColumns": null,
        "xColumns": null,
        "yColumns": null
       },
       "removedWidgets": [],
       "schema": [
        {
         "metadata": "{}",
         "name": "Account No",
         "type": "\"string\""
        },
        {
         "metadata": "{}",
         "name": "min_withdrawal",
         "type": "\"double\""
        }
       ],
       "type": "table"
      }
     },
     "output_type": "display_data"
    }
   ],
   "source": [
    "%sql\n",
    "SELECT `Account No`, MIN(CAST(` WITHDRAWAL AMT ` AS DOUBLE)) AS min_withdrawal\n",
    "FROM transaction\n",
    "WHERE ` WITHDRAWAL AMT ` IS NOT NULL\n",
    "GROUP BY `Account No`\n"
   ]
  },
  {
   "cell_type": "markdown",
   "metadata": {
    "application/vnd.databricks.v1+cell": {
     "cellMetadata": {},
     "inputWidgets": {},
     "nuid": "1ff590d1-5ece-458f-b8a7-7928ec067bfa",
     "showTitle": false,
     "tableResultSettingsMap": {},
     "title": ""
    }
   },
   "source": [
    "3. Maximum deposit amount of an account"
   ]
  },
  {
   "cell_type": "code",
   "execution_count": 0,
   "metadata": {
    "application/vnd.databricks.v1+cell": {
     "cellMetadata": {
      "byteLimit": 2048000,
      "implicitDf": true,
      "rowLimit": 10000
     },
     "inputWidgets": {},
     "nuid": "82d8a25a-4891-484c-a4cf-0be4d649d4a6",
     "showTitle": false,
     "tableResultSettingsMap": {},
     "title": ""
    }
   },
   "outputs": [
    {
     "output_type": "display_data",
     "data": {
      "text/html": [
       "<style scoped>\n",
       "  .table-result-container {\n",
       "    max-height: 300px;\n",
       "    overflow: auto;\n",
       "  }\n",
       "  table, th, td {\n",
       "    border: 1px solid black;\n",
       "    border-collapse: collapse;\n",
       "  }\n",
       "  th, td {\n",
       "    padding: 5px;\n",
       "  }\n",
       "  th {\n",
       "    text-align: left;\n",
       "  }\n",
       "</style><div class='table-result-container'><table class='table-result'><thead style='background-color: white'><tr><th>Account No</th><th>max_deposit</th></tr></thead><tbody><tr><td>409000611074'</td><td>3000000.0</td></tr><tr><td>409000438620'</td><td>5.448E8</td></tr><tr><td>409000493201'</td><td>1000000.0</td></tr><tr><td>409000425051'</td><td>1.5E7</td></tr><tr><td>409000493210'</td><td>1.5E7</td></tr><tr><td>409000438611'</td><td>1.7025E8</td></tr><tr><td>409000405747'</td><td>2.021E8</td></tr><tr><td>1196711'</td><td>5.0E8</td></tr><tr><td>1196428'</td><td>2.119594422E8</td></tr><tr><td>409000362497'</td><td>2.0E8</td></tr></tbody></table></div>"
      ]
     },
     "metadata": {
      "application/vnd.databricks.v1+output": {
       "addedWidgets": {},
       "aggData": [],
       "aggError": "",
       "aggOverflow": false,
       "aggSchema": [],
       "aggSeriesLimitReached": false,
       "aggType": "",
       "arguments": {},
       "columnCustomDisplayInfos": {},
       "data": [
        [
         "409000611074'",
         3000000.0
        ],
        [
         "409000438620'",
         5.448E8
        ],
        [
         "409000493201'",
         1000000.0
        ],
        [
         "409000425051'",
         1.5E7
        ],
        [
         "409000493210'",
         1.5E7
        ],
        [
         "409000438611'",
         1.7025E8
        ],
        [
         "409000405747'",
         2.021E8
        ],
        [
         "1196711'",
         5.0E8
        ],
        [
         "1196428'",
         2.119594422E8
        ],
        [
         "409000362497'",
         2.0E8
        ]
       ],
       "datasetInfos": [
        {
         "name": "_sqldf",
         "schema": {
          "fields": [
           {
            "metadata": {},
            "name": "Account No",
            "nullable": true,
            "type": "string"
           },
           {
            "metadata": {},
            "name": "max_deposit",
            "nullable": true,
            "type": "double"
           }
          ],
          "type": "struct"
         },
         "tableIdentifier": null,
         "typeStr": "pyspark.sql.connect.dataframe.DataFrame"
        }
       ],
       "dbfsResultPath": null,
       "isJsonSchema": true,
       "metadata": {
        "createTempViewForImplicitDf": true,
        "dataframeName": "_sqldf",
        "executionCount": 26
       },
       "overflow": false,
       "plotOptions": {
        "customPlotOptions": {},
        "displayType": "table",
        "pivotAggregation": null,
        "pivotColumns": null,
        "xColumns": null,
        "yColumns": null
       },
       "removedWidgets": [],
       "schema": [
        {
         "metadata": "{}",
         "name": "Account No",
         "type": "\"string\""
        },
        {
         "metadata": "{}",
         "name": "max_deposit",
         "type": "\"double\""
        }
       ],
       "type": "table"
      }
     },
     "output_type": "display_data"
    }
   ],
   "source": [
    "%sql\n",
    "SELECT `Account No`, MAX(CAST(` DEPOSIT AMT ` AS DOUBLE)) AS max_deposit\n",
    "FROM transaction\n",
    "WHERE ` DEPOSIT AMT ` IS NOT NULL\n",
    "GROUP BY `Account No`\n"
   ]
  },
  {
   "cell_type": "markdown",
   "metadata": {
    "application/vnd.databricks.v1+cell": {
     "cellMetadata": {},
     "inputWidgets": {},
     "nuid": "19921e27-6020-47b1-a9e2-24561d8a2691",
     "showTitle": false,
     "tableResultSettingsMap": {},
     "title": ""
    }
   },
   "source": [
    "4. Minimum deposit amount of an account"
   ]
  },
  {
   "cell_type": "code",
   "execution_count": 0,
   "metadata": {
    "application/vnd.databricks.v1+cell": {
     "cellMetadata": {
      "byteLimit": 2048000,
      "implicitDf": true,
      "rowLimit": 10000
     },
     "inputWidgets": {},
     "nuid": "eca36749-75ed-4abd-a092-81c1fc1719d8",
     "showTitle": false,
     "tableResultSettingsMap": {},
     "title": ""
    }
   },
   "outputs": [
    {
     "output_type": "display_data",
     "data": {
      "text/html": [
       "<style scoped>\n",
       "  .table-result-container {\n",
       "    max-height: 300px;\n",
       "    overflow: auto;\n",
       "  }\n",
       "  table, th, td {\n",
       "    border: 1px solid black;\n",
       "    border-collapse: collapse;\n",
       "  }\n",
       "  th, td {\n",
       "    padding: 5px;\n",
       "  }\n",
       "  th {\n",
       "    text-align: left;\n",
       "  }\n",
       "</style><div class='table-result-container'><table class='table-result'><thead style='background-color: white'><tr><th>Account No</th><th>min_deposit</th></tr></thead><tbody><tr><td>409000611074'</td><td>1320.0</td></tr><tr><td>409000438620'</td><td>0.07</td></tr><tr><td>409000493201'</td><td>0.9</td></tr><tr><td>409000425051'</td><td>1.0</td></tr><tr><td>409000493210'</td><td>0.01</td></tr><tr><td>409000438611'</td><td>0.03</td></tr><tr><td>409000405747'</td><td>500.0</td></tr><tr><td>1196711'</td><td>1.01</td></tr><tr><td>1196428'</td><td>1.0</td></tr><tr><td>409000362497'</td><td>0.03</td></tr></tbody></table></div>"
      ]
     },
     "metadata": {
      "application/vnd.databricks.v1+output": {
       "addedWidgets": {},
       "aggData": [],
       "aggError": "",
       "aggOverflow": false,
       "aggSchema": [],
       "aggSeriesLimitReached": false,
       "aggType": "",
       "arguments": {},
       "columnCustomDisplayInfos": {},
       "data": [
        [
         "409000611074'",
         1320.0
        ],
        [
         "409000438620'",
         0.07
        ],
        [
         "409000493201'",
         0.9
        ],
        [
         "409000425051'",
         1.0
        ],
        [
         "409000493210'",
         0.01
        ],
        [
         "409000438611'",
         0.03
        ],
        [
         "409000405747'",
         500.0
        ],
        [
         "1196711'",
         1.01
        ],
        [
         "1196428'",
         1.0
        ],
        [
         "409000362497'",
         0.03
        ]
       ],
       "datasetInfos": [
        {
         "name": "_sqldf",
         "schema": {
          "fields": [
           {
            "metadata": {},
            "name": "Account No",
            "nullable": true,
            "type": "string"
           },
           {
            "metadata": {},
            "name": "min_deposit",
            "nullable": true,
            "type": "double"
           }
          ],
          "type": "struct"
         },
         "tableIdentifier": null,
         "typeStr": "pyspark.sql.connect.dataframe.DataFrame"
        }
       ],
       "dbfsResultPath": null,
       "isJsonSchema": true,
       "metadata": {
        "createTempViewForImplicitDf": true,
        "dataframeName": "_sqldf",
        "executionCount": 27
       },
       "overflow": false,
       "plotOptions": {
        "customPlotOptions": {},
        "displayType": "table",
        "pivotAggregation": null,
        "pivotColumns": null,
        "xColumns": null,
        "yColumns": null
       },
       "removedWidgets": [],
       "schema": [
        {
         "metadata": "{}",
         "name": "Account No",
         "type": "\"string\""
        },
        {
         "metadata": "{}",
         "name": "min_deposit",
         "type": "\"double\""
        }
       ],
       "type": "table"
      }
     },
     "output_type": "display_data"
    }
   ],
   "source": [
    "%sql\n",
    "SELECT `Account No`, MIN(CAST(` DEPOSIT AMT ` AS DOUBLE)) AS min_deposit\n",
    "FROM transaction\n",
    "WHERE ` DEPOSIT AMT ` IS NOT NULL\n",
    "GROUP BY `Account No`\n"
   ]
  },
  {
   "cell_type": "markdown",
   "metadata": {
    "application/vnd.databricks.v1+cell": {
     "cellMetadata": {},
     "inputWidgets": {},
     "nuid": "29f8bac3-f0d5-44bd-9bee-6390acfb494f",
     "showTitle": false,
     "tableResultSettingsMap": {},
     "title": ""
    }
   },
   "source": [
    "5. Sum of balance in every bank account"
   ]
  },
  {
   "cell_type": "code",
   "execution_count": 0,
   "metadata": {
    "application/vnd.databricks.v1+cell": {
     "cellMetadata": {
      "byteLimit": 2048000,
      "implicitDf": true,
      "rowLimit": 10000
     },
     "inputWidgets": {},
     "nuid": "503e0c1b-50f9-4c13-a983-336217bfba17",
     "showTitle": false,
     "tableResultSettingsMap": {},
     "title": ""
    }
   },
   "outputs": [
    {
     "output_type": "display_data",
     "data": {
      "text/html": [
       "<style scoped>\n",
       "  .table-result-container {\n",
       "    max-height: 300px;\n",
       "    overflow: auto;\n",
       "  }\n",
       "  table, th, td {\n",
       "    border: 1px solid black;\n",
       "    border-collapse: collapse;\n",
       "  }\n",
       "  th, td {\n",
       "    padding: 5px;\n",
       "  }\n",
       "  th {\n",
       "    text-align: left;\n",
       "  }\n",
       "</style><div class='table-result-container'><table class='table-result'><thead style='background-color: white'><tr><th>Account No</th><th>total_balance</th></tr></thead><tbody><tr><td>409000611074'</td><td>1.615533622E9</td></tr><tr><td>409000438620'</td><td>-7.122918679513672E12</td></tr><tr><td>409000493201'</td><td>1.0420831829499985E9</td></tr><tr><td>409000425051'</td><td>-3.7721184116499877E9</td></tr><tr><td>409000493210'</td><td>-3.2758495213209575E12</td></tr><tr><td>409000438611'</td><td>-2.4948657706833955E12</td></tr><tr><td>409000405747'</td><td>-2.4310804706700016E10</td></tr><tr><td>1196711'</td><td>-1.60476498101275E13</td></tr><tr><td>1196428'</td><td>-8.1418498130721E13</td></tr><tr><td>409000362497'</td><td>-5.2860004792808E13</td></tr></tbody></table></div>"
      ]
     },
     "metadata": {
      "application/vnd.databricks.v1+output": {
       "addedWidgets": {},
       "aggData": [],
       "aggError": "",
       "aggOverflow": false,
       "aggSchema": [],
       "aggSeriesLimitReached": false,
       "aggType": "",
       "arguments": {},
       "columnCustomDisplayInfos": {},
       "data": [
        [
         "409000611074'",
         1.615533622E9
        ],
        [
         "409000438620'",
         -7.122918679513672E12
        ],
        [
         "409000493201'",
         1.0420831829499985E9
        ],
        [
         "409000425051'",
         -3.7721184116499877E9
        ],
        [
         "409000493210'",
         -3.2758495213209575E12
        ],
        [
         "409000438611'",
         -2.4948657706833955E12
        ],
        [
         "409000405747'",
         -2.4310804706700016E10
        ],
        [
         "1196711'",
         -1.60476498101275E13
        ],
        [
         "1196428'",
         -8.1418498130721E13
        ],
        [
         "409000362497'",
         -5.2860004792808E13
        ]
       ],
       "datasetInfos": [
        {
         "name": "_sqldf",
         "schema": {
          "fields": [
           {
            "metadata": {},
            "name": "Account No",
            "nullable": true,
            "type": "string"
           },
           {
            "metadata": {},
            "name": "total_balance",
            "nullable": true,
            "type": "double"
           }
          ],
          "type": "struct"
         },
         "tableIdentifier": null,
         "typeStr": "pyspark.sql.connect.dataframe.DataFrame"
        }
       ],
       "dbfsResultPath": null,
       "isJsonSchema": true,
       "metadata": {
        "createTempViewForImplicitDf": true,
        "dataframeName": "_sqldf",
        "executionCount": 28
       },
       "overflow": false,
       "plotOptions": {
        "customPlotOptions": {},
        "displayType": "table",
        "pivotAggregation": null,
        "pivotColumns": null,
        "xColumns": null,
        "yColumns": null
       },
       "removedWidgets": [],
       "schema": [
        {
         "metadata": "{}",
         "name": "Account No",
         "type": "\"string\""
        },
        {
         "metadata": "{}",
         "name": "total_balance",
         "type": "\"double\""
        }
       ],
       "type": "table"
      }
     },
     "output_type": "display_data"
    }
   ],
   "source": [
    "%sql\n",
    "SELECT `Account No`, SUM(CAST(`BALANCE AMT` AS DOUBLE)) AS total_balance\n",
    "FROM transaction\n",
    "GROUP BY `Account No`\n"
   ]
  },
  {
   "cell_type": "markdown",
   "metadata": {
    "application/vnd.databricks.v1+cell": {
     "cellMetadata": {},
     "inputWidgets": {},
     "nuid": "bbd01f33-3f94-4a82-9547-1adc5bbefd60",
     "showTitle": false,
     "tableResultSettingsMap": {},
     "title": ""
    }
   },
   "source": [
    "6. Number of transactions on each date"
   ]
  },
  {
   "cell_type": "code",
   "execution_count": 0,
   "metadata": {
    "application/vnd.databricks.v1+cell": {
     "cellMetadata": {
      "byteLimit": 2048000,
      "implicitDf": true,
      "rowLimit": 10000
     },
     "inputWidgets": {},
     "nuid": "5c71e6d4-7f20-4137-9982-3ba2b4f10515",
     "showTitle": false,
     "tableResultSettingsMap": {},
     "title": ""
    }
   },
   "outputs": [
    {
     "output_type": "display_data",
     "data": {
      "text/html": [
       "<style scoped>\n",
       "  .table-result-container {\n",
       "    max-height: 300px;\n",
       "    overflow: auto;\n",
       "  }\n",
       "  table, th, td {\n",
       "    border: 1px solid black;\n",
       "    border-collapse: collapse;\n",
       "  }\n",
       "  th, td {\n",
       "    padding: 5px;\n",
       "  }\n",
       "  th {\n",
       "    text-align: left;\n",
       "  }\n",
       "</style><div class='table-result-container'><table class='table-result'><thead style='background-color: white'><tr><th>VALUE DATE</th><th>transaction_count</th></tr></thead><tbody><tr><td>1-Apr-17</td><td>1</td></tr><tr><td>1-Aug-15</td><td>75</td></tr><tr><td>1-Aug-16</td><td>85</td></tr><tr><td>1-Aug-17</td><td>65</td></tr><tr><td>1-Aug-18</td><td>144</td></tr><tr><td>1-Dec-15</td><td>96</td></tr><tr><td>1-Dec-16</td><td>106</td></tr><tr><td>1-Dec-17</td><td>45</td></tr><tr><td>1-Dec-18</td><td>97</td></tr><tr><td>1-Feb-16</td><td>97</td></tr><tr><td>1-Feb-17</td><td>81</td></tr><tr><td>1-Feb-18</td><td>87</td></tr><tr><td>1-Feb-19</td><td>79</td></tr><tr><td>1-Jan-15</td><td>3</td></tr><tr><td>1-Jan-16</td><td>59</td></tr><tr><td>1-Jan-18</td><td>53</td></tr><tr><td>1-Jan-19</td><td>57</td></tr><tr><td>1-Jul-15</td><td>25</td></tr><tr><td>1-Jul-16</td><td>111</td></tr><tr><td>1-Jul-17</td><td>243</td></tr><tr><td>1-Jun-15</td><td>20</td></tr><tr><td>1-Jun-16</td><td>121</td></tr><tr><td>1-Jun-17</td><td>53</td></tr><tr><td>1-Jun-18</td><td>92</td></tr><tr><td>1-Mar-16</td><td>109</td></tr><tr><td>1-Mar-17</td><td>103</td></tr><tr><td>1-Mar-18</td><td>90</td></tr><tr><td>1-Mar-19</td><td>81</td></tr><tr><td>1-May-15</td><td>10</td></tr><tr><td>1-May-17</td><td>37</td></tr><tr><td>1-May-18</td><td>62</td></tr><tr><td>1-Nov-16</td><td>53</td></tr><tr><td>1-Nov-17</td><td>55</td></tr><tr><td>1-Nov-18</td><td>106</td></tr><tr><td>1-Oct-15</td><td>84</td></tr><tr><td>1-Oct-16</td><td>47</td></tr><tr><td>1-Oct-17</td><td>2</td></tr><tr><td>1-Oct-18</td><td>180</td></tr><tr><td>1-Sep-15</td><td>93</td></tr><tr><td>1-Sep-16</td><td>82</td></tr><tr><td>1-Sep-17</td><td>169</td></tr><tr><td>1-Sep-18</td><td>194</td></tr><tr><td>10-Apr-15</td><td>11</td></tr><tr><td>10-Apr-17</td><td>101</td></tr><tr><td>10-Apr-18</td><td>66</td></tr><tr><td>10-Aug-15</td><td>136</td></tr><tr><td>10-Aug-16</td><td>95</td></tr><tr><td>10-Aug-17</td><td>64</td></tr><tr><td>10-Aug-18</td><td>216</td></tr><tr><td>10-Dec-15</td><td>105</td></tr><tr><td>10-Dec-16</td><td>6</td></tr><tr><td>10-Dec-18</td><td>137</td></tr><tr><td>10-Feb-15</td><td>11</td></tr><tr><td>10-Feb-16</td><td>104</td></tr><tr><td>10-Feb-17</td><td>102</td></tr><tr><td>10-Jan-15</td><td>12</td></tr><tr><td>10-Jan-17</td><td>109</td></tr><tr><td>10-Jan-18</td><td>71</td></tr><tr><td>10-Jan-19</td><td>110</td></tr><tr><td>10-Jul-15</td><td>44</td></tr><tr><td>10-Jul-17</td><td>82</td></tr><tr><td>10-Jul-18</td><td>374</td></tr><tr><td>10-Jun-15</td><td>23</td></tr><tr><td>10-Jun-16</td><td>140</td></tr><tr><td>10-Jun-17</td><td>1</td></tr><tr><td>10-Mar-15</td><td>11</td></tr><tr><td>10-Mar-16</td><td>106</td></tr><tr><td>10-Mar-17</td><td>164</td></tr><tr><td>10-Mar-18</td><td>1</td></tr><tr><td>10-May-16</td><td>134</td></tr><tr><td>10-May-17</td><td>32</td></tr><tr><td>10-May-18</td><td>183</td></tr><tr><td>10-Nov-15</td><td>148</td></tr><tr><td>10-Nov-16</td><td>181</td></tr><tr><td>10-Nov-17</td><td>167</td></tr><tr><td>10-Nov-18</td><td>1</td></tr><tr><td>10-Oct-16</td><td>123</td></tr><tr><td>10-Oct-17</td><td>106</td></tr><tr><td>10-Oct-18</td><td>99</td></tr><tr><td>10-Sep-15</td><td>101</td></tr><tr><td>10-Sep-16</td><td>3</td></tr><tr><td>10-Sep-18</td><td>344</td></tr><tr><td>11-Apr-15</td><td>7</td></tr><tr><td>11-Apr-16</td><td>182</td></tr><tr><td>11-Apr-17</td><td>91</td></tr><tr><td>11-Apr-18</td><td>69</td></tr><tr><td>11-Aug-15</td><td>124</td></tr><tr><td>11-Aug-16</td><td>104</td></tr><tr><td>11-Aug-17</td><td>128</td></tr><tr><td>11-Aug-18</td><td>10</td></tr><tr><td>11-Dec-15</td><td>159</td></tr><tr><td>11-Dec-17</td><td>90</td></tr><tr><td>11-Dec-18</td><td>254</td></tr><tr><td>11-Feb-15</td><td>8</td></tr><tr><td>11-Feb-16</td><td>113</td></tr><tr><td>11-Feb-19</td><td>157</td></tr><tr><td>11-Jan-16</td><td>175</td></tr><tr><td>11-Jan-17</td><td>125</td></tr><tr><td>11-Jan-18</td><td>239</td></tr><tr><td>11-Jan-19</td><td>74</td></tr><tr><td>11-Jul-15</td><td>29</td></tr><tr><td>11-Jul-16</td><td>157</td></tr><tr><td>11-Jul-17</td><td>94</td></tr><tr><td>11-Jul-18</td><td>93</td></tr><tr><td>11-Jun-15</td><td>21</td></tr><tr><td>11-Jun-18</td><td>240</td></tr><tr><td>11-Mar-15</td><td>13</td></tr><tr><td>11-Mar-16</td><td>134</td></tr><tr><td>11-May-15</td><td>17</td></tr><tr><td>11-May-16</td><td>145</td></tr><tr><td>11-May-17</td><td>86</td></tr><tr><td>11-May-18</td><td>186</td></tr><tr><td>11-Nov-15</td><td>13</td></tr><tr><td>11-Nov-16</td><td>117</td></tr><tr><td>11-Oct-16</td><td>1</td></tr><tr><td>11-Oct-17</td><td>73</td></tr><tr><td>11-Oct-18</td><td>303</td></tr><tr><td>11-Sep-15</td><td>138</td></tr><tr><td>11-Sep-17</td><td>109</td></tr><tr><td>11-Sep-18</td><td>176</td></tr><tr><td>12-Apr-16</td><td>138</td></tr><tr><td>12-Apr-17</td><td>94</td></tr><tr><td>12-Apr-18</td><td>151</td></tr><tr><td>12-Aug-15</td><td>104</td></tr><tr><td>12-Aug-16</td><td>174</td></tr><tr><td>12-Aug-17</td><td>58</td></tr><tr><td>12-Dec-16</td><td>36</td></tr><tr><td>12-Dec-17</td><td>367</td></tr><tr><td>12-Dec-18</td><td>86</td></tr><tr><td>12-Feb-15</td><td>12</td></tr><tr><td>12-Feb-16</td><td>132</td></tr><tr><td>12-Feb-18</td><td>112</td></tr><tr><td>12-Feb-19</td><td>159</td></tr><tr><td>12-Jan-15</td><td>4</td></tr><tr><td>12-Jan-16</td><td>111</td></tr><tr><td>12-Jan-17</td><td>130</td></tr><tr><td>12-Jan-18</td><td>81</td></tr><tr><td>12-Jul-15</td><td>1</td></tr><tr><td>12-Jul-16</td><td>115</td></tr><tr><td>12-Jul-17</td><td>55</td></tr><tr><td>12-Jul-18</td><td>223</td></tr><tr><td>12-Jun-15</td><td>19</td></tr><tr><td>12-Jun-17</td><td>93</td></tr><tr><td>12-Jun-18</td><td>194</td></tr><tr><td>12-Mar-15</td><td>8</td></tr><tr><td>12-Mar-18</td><td>132</td></tr><tr><td>12-May-15</td><td>25</td></tr><tr><td>12-May-16</td><td>142</td></tr><tr><td>12-May-17</td><td>98</td></tr><tr><td>12-May-18</td><td>26</td></tr><tr><td>12-Nov-15</td><td>96</td></tr><tr><td>12-Nov-16</td><td>65</td></tr><tr><td>12-Nov-17</td><td>1</td></tr><tr><td>12-Nov-18</td><td>128</td></tr><tr><td>12-Oct-15</td><td>127</td></tr><tr><td>12-Oct-16</td><td>12</td></tr><tr><td>12-Oct-17</td><td>55</td></tr><tr><td>12-Oct-18</td><td>128</td></tr><tr><td>12-Sep-16</td><td>151</td></tr><tr><td>12-Sep-17</td><td>71</td></tr><tr><td>12-Sep-18</td><td>365</td></tr><tr><td>13-Apr-15</td><td>16</td></tr><tr><td>13-Apr-16</td><td>172</td></tr><tr><td>13-Apr-17</td><td>103</td></tr><tr><td>13-Apr-18</td><td>98</td></tr><tr><td>13-Aug-15</td><td>108</td></tr><tr><td>13-Aug-16</td><td>5</td></tr><tr><td>13-Aug-17</td><td>53</td></tr><tr><td>13-Aug-18</td><td>463</td></tr><tr><td>13-Dec-16</td><td>124</td></tr><tr><td>13-Dec-17</td><td>77</td></tr><tr><td>13-Dec-18</td><td>229</td></tr><tr><td>13-Feb-15</td><td>10</td></tr><tr><td>13-Feb-17</td><td>123</td></tr><tr><td>13-Feb-18</td><td>50</td></tr><tr><td>13-Feb-19</td><td>78</td></tr><tr><td>13-Jan-15</td><td>4</td></tr><tr><td>13-Jan-16</td><td>105</td></tr><tr><td>13-Jan-17</td><td>144</td></tr><tr><td>13-Jan-18</td><td>1</td></tr><tr><td>13-Jul-15</td><td>58</td></tr><tr><td>13-Jul-16</td><td>108</td></tr><tr><td>13-Jul-17</td><td>75</td></tr><tr><td>13-Jul-18</td><td>124</td></tr><tr><td>13-Jun-15</td><td>20</td></tr><tr><td>13-Jun-16</td><td>155</td></tr><tr><td>13-Jun-17</td><td>81</td></tr><tr><td>13-Jun-18</td><td>102</td></tr><tr><td>13-Mar-15</td><td>15</td></tr><tr><td>13-Mar-16</td><td>1</td></tr><tr><td>13-Mar-17</td><td>18</td></tr><tr><td>13-Mar-18</td><td>74</td></tr><tr><td>13-May-15</td><td>24</td></tr><tr><td>13-May-16</td><td>183</td></tr><tr><td>13-May-17</td><td>1</td></tr><tr><td>13-May-18</td><td>7</td></tr><tr><td>13-Nov-15</td><td>127</td></tr><tr><td>13-Nov-16</td><td>17</td></tr><tr><td>13-Nov-17</td><td>108</td></tr><tr><td>13-Nov-18</td><td>153</td></tr><tr><td>13-Oct-15</td><td>123</td></tr><tr><td>13-Oct-16</td><td>110</td></tr><tr><td>13-Oct-17</td><td>229</td></tr><tr><td>13-Oct-18</td><td>1</td></tr><tr><td>13-Sep-15</td><td>1</td></tr><tr><td>13-Sep-16</td><td>1</td></tr><tr><td>13-Sep-17</td><td>94</td></tr><tr><td>13-Sep-18</td><td>109</td></tr><tr><td>14-Apr-15</td><td>3</td></tr><tr><td>14-Apr-16</td><td>1</td></tr><tr><td>14-Apr-17</td><td>3</td></tr><tr><td>14-Aug-15</td><td>159</td></tr><tr><td>14-Aug-17</td><td>139</td></tr><tr><td>14-Aug-18</td><td>178</td></tr><tr><td>14-Dec-15</td><td>149</td></tr><tr><td>14-Dec-16</td><td>85</td></tr><tr><td>14-Dec-17</td><td>135</td></tr><tr><td>14-Dec-18</td><td>114</td></tr><tr><td>14-Feb-15</td><td>11</td></tr><tr><td>14-Feb-17</td><td>96</td></tr><tr><td>14-Feb-18</td><td>71</td></tr><tr><td>14-Feb-19</td><td>257</td></tr><tr><td>14-Jan-15</td><td>5</td></tr><tr><td>14-Jan-16</td><td>79</td></tr><tr><td>14-Jan-17</td><td>2</td></tr><tr><td>14-Jan-19</td><td>140</td></tr><tr><td>14-Jul-15</td><td>49</td></tr><tr><td>14-Jul-16</td><td>93</td></tr><tr><td>14-Jul-17</td><td>333</td></tr><tr><td>14-Jul-18</td><td>1</td></tr><tr><td>14-Jun-16</td><td>108</td></tr><tr><td>14-Jun-17</td><td>76</td></tr><tr><td>14-Jun-18</td><td>93</td></tr><tr><td>14-Mar-15</td><td>9</td></tr><tr><td>14-Mar-16</td><td>153</td></tr><tr><td>14-Mar-17</td><td>173</td></tr><tr><td>14-Mar-18</td><td>70</td></tr><tr><td>14-May-15</td><td>16</td></tr><tr><td>14-May-18</td><td>163</td></tr><tr><td>14-Nov-15</td><td>1</td></tr><tr><td>14-Nov-16</td><td>46</td></tr><tr><td>14-Nov-17</td><td>75</td></tr><tr><td>14-Nov-18</td><td>220</td></tr><tr><td>14-Oct-15</td><td>113</td></tr><tr><td>14-Oct-16</td><td>98</td></tr><tr><td>14-Oct-18</td><td>1</td></tr><tr><td>14-Sep-15</td><td>208</td></tr><tr><td>14-Sep-16</td><td>79</td></tr><tr><td>14-Sep-17</td><td>72</td></tr><tr><td>14-Sep-18</td><td>150</td></tr><tr><td>15-Apr-15</td><td>11</td></tr><tr><td>15-Apr-16</td><td>103</td></tr><tr><td>15-Apr-17</td><td>63</td></tr><tr><td>15-Aug-15</td><td>1</td></tr><tr><td>15-Dec-15</td><td>137</td></tr><tr><td>15-Dec-16</td><td>83</td></tr><tr><td>15-Dec-17</td><td>82</td></tr><tr><td>15-Dec-18</td><td>62</td></tr><tr><td>15-Feb-16</td><td>154</td></tr><tr><td>15-Feb-17</td><td>113</td></tr><tr><td>15-Feb-18</td><td>70</td></tr><tr><td>15-Feb-19</td><td>161</td></tr><tr><td>15-Jan-15</td><td>11</td></tr><tr><td>15-Jan-16</td><td>119</td></tr><tr><td>15-Jan-18</td><td>209</td></tr><tr><td>15-Jan-19</td><td>177</td></tr><tr><td>15-Jul-15</td><td>44</td></tr><tr><td>15-Jul-16</td><td>160</td></tr><tr><td>15-Jul-17</td><td>79</td></tr><tr><td>15-Jun-15</td><td>28</td></tr><tr><td>15-Jun-16</td><td>99</td></tr><tr><td>15-Jun-17</td><td>66</td></tr><tr><td>15-Jun-18</td><td>120</td></tr><tr><td>15-Mar-16</td><td>140</td></tr><tr><td>15-Mar-17</td><td>160</td></tr><tr><td>15-Mar-18</td><td>55</td></tr><tr><td>15-May-15</td><td>18</td></tr><tr><td>15-May-17</td><td>84</td></tr><tr><td>15-May-18</td><td>95</td></tr><tr><td>15-Nov-16</td><td>114</td></tr><tr><td>15-Nov-17</td><td>85</td></tr><tr><td>15-Nov-18</td><td>122</td></tr><tr><td>15-Oct-15</td><td>123</td></tr><tr><td>15-Oct-16</td><td>81</td></tr><tr><td>15-Oct-18</td><td>135</td></tr><tr><td>15-Sep-15</td><td>104</td></tr><tr><td>15-Sep-16</td><td>69</td></tr><tr><td>15-Sep-17</td><td>77</td></tr><tr><td>15-Sep-18</td><td>143</td></tr><tr><td>16-Apr-15</td><td>12</td></tr><tr><td>16-Apr-16</td><td>151</td></tr><tr><td>16-Apr-18</td><td>145</td></tr><tr><td>16-Aug-15</td><td>1</td></tr><tr><td>16-Aug-16</td><td>106</td></tr><tr><td>16-Aug-17</td><td>109</td></tr><tr><td>16-Aug-18</td><td>147</td></tr><tr><td>16-Dec-15</td><td>98</td></tr><tr><td>16-Dec-16</td><td>141</td></tr><tr><td>16-Dec-17</td><td>45</td></tr><tr><td>16-Feb-15</td><td>16</td></tr><tr><td>16-Feb-16</td><td>114</td></tr><tr><td>16-Feb-17</td><td>87</td></tr><tr><td>16-Feb-18</td><td>232</td></tr><tr><td>16-Feb-19</td><td>69</td></tr><tr><td>16-Jan-15</td><td>8</td></tr><tr><td>16-Jan-16</td><td>75</td></tr><tr><td>16-Jan-17</td><td>146</td></tr><tr><td>16-Jan-18</td><td>50</td></tr><tr><td>16-Jan-19</td><td>223</td></tr><tr><td>16-Jul-15</td><td>63</td></tr><tr><td>16-Jul-16</td><td>74</td></tr><tr><td>16-Jul-18</td><td>288</td></tr><tr><td>16-Jun-15</td><td>27</td></tr><tr><td>16-Jun-16</td><td>120</td></tr><tr><td>16-Jun-17</td><td>70</td></tr><tr><td>16-Jun-18</td><td>3</td></tr><tr><td>16-Mar-15</td><td>8</td></tr><tr><td>16-Mar-16</td><td>109</td></tr><tr><td>16-Mar-17</td><td>353</td></tr><tr><td>16-Mar-18</td><td>64</td></tr><tr><td>16-May-15</td><td>11</td></tr><tr><td>16-May-16</td><td>187</td></tr><tr><td>16-May-17</td><td>70</td></tr><tr><td>16-May-18</td><td>198</td></tr><tr><td>16-Nov-15</td><td>160</td></tr><tr><td>16-Nov-16</td><td>91</td></tr><tr><td>16-Nov-17</td><td>105</td></tr><tr><td>16-Nov-18</td><td>100</td></tr><tr><td>16-Oct-15</td><td>113</td></tr><tr><td>16-Oct-17</td><td>146</td></tr><tr><td>16-Oct-18</td><td>199</td></tr><tr><td>16-Sep-15</td><td>133</td></tr><tr><td>16-Sep-16</td><td>84</td></tr><tr><td>16-Sep-17</td><td>55</td></tr><tr><td>17-Apr-15</td><td>15</td></tr><tr><td>17-Apr-17</td><td>124</td></tr><tr><td>17-Apr-18</td><td>88</td></tr><tr><td>17-Aug-15</td><td>132</td></tr><tr><td>17-Aug-16</td><td>88</td></tr><tr><td>17-Aug-17</td><td>32</td></tr><tr><td>17-Aug-18</td><td>143</td></tr><tr><td>17-Dec-15</td><td>91</td></tr><tr><td>17-Dec-16</td><td>74</td></tr><tr><td>17-Dec-18</td><td>100</td></tr><tr><td>17-Feb-15</td><td>11</td></tr><tr><td>17-Feb-16</td><td>102</td></tr><tr><td>17-Feb-17</td><td>94</td></tr><tr><td>17-Feb-18</td><td>52</td></tr><tr><td>17-Feb-19</td><td>1</td></tr><tr><td>17-Jan-15</td><td>16</td></tr><tr><td>17-Jan-17</td><td>135</td></tr><tr><td>17-Jan-18</td><td>57</td></tr><tr><td>17-Jan-19</td><td>167</td></tr><tr><td>17-Jul-15</td><td>129</td></tr><tr><td>17-Jul-16</td><td>1</td></tr><tr><td>17-Jul-17</td><td>69</td></tr><tr><td>17-Jul-18</td><td>172</td></tr><tr><td>17-Jun-15</td><td>24</td></tr><tr><td>17-Jun-16</td><td>117</td></tr><tr><td>17-Jun-17</td><td>118</td></tr><tr><td>17-Mar-15</td><td>9</td></tr><tr><td>17-Mar-16</td><td>105</td></tr><tr><td>17-Mar-17</td><td>97</td></tr><tr><td>17-Mar-18</td><td>50</td></tr><tr><td>17-May-16</td><td>149</td></tr><tr><td>17-May-17</td><td>177</td></tr><tr><td>17-May-18</td><td>132</td></tr><tr><td>17-Nov-15</td><td>97</td></tr><tr><td>17-Nov-16</td><td>96</td></tr><tr><td>17-Nov-17</td><td>76</td></tr><tr><td>17-Nov-18</td><td>74</td></tr><tr><td>17-Oct-15</td><td>72</td></tr><tr><td>17-Oct-16</td><td>114</td></tr><tr><td>17-Oct-17</td><td>101</td></tr><tr><td>17-Oct-18</td><td>109</td></tr><tr><td>17-Sep-15</td><td>79</td></tr><tr><td>17-Sep-16</td><td>65</td></tr><tr><td>17-Sep-18</td><td>163</td></tr><tr><td>18-Apr-15</td><td>11</td></tr><tr><td>18-Apr-16</td><td>145</td></tr><tr><td>18-Apr-17</td><td>71</td></tr><tr><td>18-Apr-18</td><td>83</td></tr><tr><td>18-Aug-15</td><td>95</td></tr><tr><td>18-Aug-16</td><td>57</td></tr><tr><td>18-Aug-17</td><td>113</td></tr><tr><td>18-Aug-18</td><td>95</td></tr><tr><td>18-Dec-15</td><td>94</td></tr><tr><td>18-Dec-17</td><td>93</td></tr><tr><td>18-Dec-18</td><td>111</td></tr><tr><td>18-Feb-15</td><td>10</td></tr><tr><td>18-Feb-16</td><td>103</td></tr><tr><td>18-Feb-17</td><td>97</td></tr><tr><td>18-Feb-19</td><td>133</td></tr><tr><td>18-Jan-16</td><td>116</td></tr><tr><td>18-Jan-17</td><td>101</td></tr><tr><td>18-Jan-18</td><td>207</td></tr><tr><td>18-Jan-19</td><td>71</td></tr><tr><td>18-Jul-15</td><td>2</td></tr><tr><td>18-Jul-16</td><td>131</td></tr><tr><td>18-Jul-17</td><td>233</td></tr><tr><td>18-Jul-18</td><td>133</td></tr><tr><td>18-Jun-15</td><td>21</td></tr><tr><td>18-Jun-16</td><td>99</td></tr><tr><td>18-Jun-18</td><td>124</td></tr><tr><td>18-Mar-15</td><td>10</td></tr><tr><td>18-Mar-16</td><td>133</td></tr><tr><td>18-Mar-17</td><td>108</td></tr><tr><td>18-May-15</td><td>16</td></tr><tr><td>18-May-16</td><td>131</td></tr><tr><td>18-May-17</td><td>48</td></tr><tr><td>18-May-18</td><td>130</td></tr><tr><td>18-Nov-15</td><td>85</td></tr><tr><td>18-Nov-16</td><td>102</td></tr><tr><td>18-Nov-17</td><td>53</td></tr><tr><td>18-Nov-18</td><td>1</td></tr><tr><td>18-Oct-16</td><td>94</td></tr><tr><td>18-Oct-17</td><td>75</td></tr><tr><td>18-Oct-18</td><td>49</td></tr><tr><td>18-Sep-15</td><td>97</td></tr><tr><td>18-Sep-16</td><td>4</td></tr><tr><td>18-Sep-17</td><td>88</td></tr><tr><td>18-Sep-18</td><td>127</td></tr><tr><td>19-Apr-16</td><td>92</td></tr><tr><td>19-Apr-17</td><td>92</td></tr><tr><td>19-Apr-18</td><td>71</td></tr><tr><td>19-Aug-15</td><td>99</td></tr><tr><td>19-Aug-16</td><td>114</td></tr><tr><td>19-Aug-17</td><td>65</td></tr><tr><td>19-Dec-15</td><td>97</td></tr><tr><td>19-Dec-16</td><td>101</td></tr><tr><td>19-Dec-17</td><td>113</td></tr><tr><td>19-Dec-18</td><td>74</td></tr><tr><td>19-Feb-15</td><td>13</td></tr><tr><td>19-Feb-16</td><td>76</td></tr><tr><td>19-Feb-18</td><td>21</td></tr><tr><td>19-Feb-19</td><td>47</td></tr><tr><td>19-Jan-15</td><td>13</td></tr><tr><td>19-Jan-16</td><td>89</td></tr><tr><td>19-Jan-17</td><td>128</td></tr><tr><td>19-Jan-18</td><td>78</td></tr><tr><td>19-Jan-19</td><td>95</td></tr><tr><td>19-Jul-16</td><td>102</td></tr><tr><td>19-Jul-17</td><td>60</td></tr><tr><td>19-Jul-18</td><td>122</td></tr><tr><td>19-Jun-15</td><td>17</td></tr><tr><td>19-Jun-17</td><td>71</td></tr><tr><td>19-Jun-18</td><td>157</td></tr><tr><td>19-Mar-15</td><td>15</td></tr><tr><td>19-Mar-16</td><td>95</td></tr><tr><td>19-Mar-18</td><td>56</td></tr><tr><td>19-May-15</td><td>17</td></tr><tr><td>19-May-16</td><td>149</td></tr><tr><td>19-May-17</td><td>82</td></tr><tr><td>19-May-18</td><td>55</td></tr><tr><td>19-Nov-15</td><td>97</td></tr><tr><td>19-Nov-16</td><td>91</td></tr><tr><td>19-Nov-18</td><td>105</td></tr><tr><td>19-Oct-15</td><td>126</td></tr><tr><td>19-Oct-16</td><td>85</td></tr><tr><td>19-Oct-17</td><td>11</td></tr><tr><td>19-Oct-18</td><td>104</td></tr><tr><td>19-Sep-15</td><td>85</td></tr><tr><td>19-Sep-16</td><td>73</td></tr><tr><td>19-Sep-17</td><td>358</td></tr><tr><td>19-Sep-18</td><td>140</td></tr><tr><td>2-Apr-16</td><td>151</td></tr><tr><td>2-Apr-18</td><td>1</td></tr><tr><td>2-Aug-16</td><td>95</td></tr><tr><td>2-Aug-17</td><td>53</td></tr><tr><td>2-Aug-18</td><td>81</td></tr><tr><td>2-Dec-15</td><td>97</td></tr><tr><td>2-Dec-16</td><td>114</td></tr><tr><td>2-Dec-17</td><td>72</td></tr><tr><td>2-Feb-15</td><td>7</td></tr><tr><td>2-Feb-16</td><td>90</td></tr><tr><td>2-Feb-17</td><td>103</td></tr><tr><td>2-Feb-18</td><td>99</td></tr><tr><td>2-Feb-19</td><td>110</td></tr><tr><td>2-Jan-15</td><td>10</td></tr><tr><td>2-Jan-16</td><td>80</td></tr><tr><td>2-Jan-17</td><td>62</td></tr><tr><td>2-Jan-18</td><td>88</td></tr><tr><td>2-Jan-19</td><td>98</td></tr><tr><td>2-Jul-15</td><td>20</td></tr><tr><td>2-Jul-16</td><td>97</td></tr><tr><td>2-Jul-18</td><td>72</td></tr><tr><td>2-Jun-15</td><td>16</td></tr><tr><td>2-Jun-16</td><td>117</td></tr><tr><td>2-Jun-17</td><td>64</td></tr><tr><td>2-Jun-18</td><td>114</td></tr><tr><td>2-Mar-15</td><td>8</td></tr><tr><td>2-Mar-16</td><td>88</td></tr><tr><td>2-Mar-17</td><td>103</td></tr><tr><td>2-Mar-18</td><td>6</td></tr><tr><td>2-Mar-19</td><td>84</td></tr><tr><td>2-May-15</td><td>12</td></tr><tr><td>2-May-16</td><td>86</td></tr><tr><td>2-May-17</td><td>100</td></tr><tr><td>2-May-18</td><td>128</td></tr><tr><td>2-Nov-15</td><td>91</td></tr><tr><td>2-Nov-16</td><td>103</td></tr><tr><td>2-Nov-17</td><td>92</td></tr><tr><td>2-Nov-18</td><td>121</td></tr><tr><td>2-Oct-17</td><td>1</td></tr><tr><td>2-Oct-18</td><td>2</td></tr><tr><td>2-Sep-15</td><td>79</td></tr><tr><td>2-Sep-16</td><td>80</td></tr><tr><td>20-Apr-15</td><td>11</td></tr><tr><td>20-Apr-16</td><td>133</td></tr><tr><td>20-Apr-17</td><td>83</td></tr><tr><td>20-Apr-18</td><td>296</td></tr><tr><td>20-Aug-15</td><td>79</td></tr><tr><td>20-Aug-16</td><td>65</td></tr><tr><td>20-Aug-18</td><td>188</td></tr><tr><td>20-Dec-16</td><td>102</td></tr><tr><td>20-Dec-17</td><td>76</td></tr><tr><td>20-Dec-18</td><td>150</td></tr><tr><td>20-Feb-15</td><td>10</td></tr><tr><td>20-Feb-16</td><td>110</td></tr><tr><td>20-Feb-17</td><td>104</td></tr><tr><td>20-Feb-18</td><td>91</td></tr><tr><td>20-Feb-19</td><td>113</td></tr><tr><td>20-Jan-15</td><td>8</td></tr><tr><td>20-Jan-16</td><td>87</td></tr><tr><td>20-Jan-17</td><td>111</td></tr><tr><td>20-Jan-18</td><td>55</td></tr><tr><td>20-Jul-15</td><td>117</td></tr><tr><td>20-Jul-16</td><td>104</td></tr><tr><td>20-Jul-17</td><td>51</td></tr><tr><td>20-Jul-18</td><td>281</td></tr><tr><td>20-Jun-15</td><td>18</td></tr><tr><td>20-Jun-16</td><td>117</td></tr><tr><td>20-Jun-17</td><td>52</td></tr><tr><td>20-Jun-18</td><td>159</td></tr><tr><td>20-Mar-15</td><td>7</td></tr><tr><td>20-Mar-17</td><td>122</td></tr><tr><td>20-Mar-18</td><td>71</td></tr><tr><td>20-May-15</td><td>14</td></tr><tr><td>20-May-16</td><td>158</td></tr><tr><td>20-May-17</td><td>60</td></tr><tr><td>20-Nov-15</td><td>90</td></tr><tr><td>20-Nov-16</td><td>11</td></tr><tr><td>20-Nov-17</td><td>113</td></tr><tr><td>20-Nov-18</td><td>138</td></tr><tr><td>20-Oct-15</td><td>109</td></tr><tr><td>20-Oct-16</td><td>82</td></tr><tr><td>20-Oct-17</td><td>24</td></tr><tr><td>20-Oct-18</td><td>143</td></tr><tr><td>20-Sep-15</td><td>2</td></tr><tr><td>20-Sep-16</td><td>76</td></tr><tr><td>20-Sep-17</td><td>60</td></tr><tr><td>20-Sep-18</td><td>58</td></tr><tr><td>21-Apr-15</td><td>10</td></tr><tr><td>21-Apr-16</td><td>133</td></tr><tr><td>21-Apr-17</td><td>89</td></tr><tr><td>21-Apr-18</td><td>163</td></tr><tr><td>21-Aug-15</td><td>103</td></tr><tr><td>21-Aug-16</td><td>1</td></tr><tr><td>21-Aug-17</td><td>68</td></tr><tr><td>21-Aug-18</td><td>138</td></tr><tr><td>21-Dec-15</td><td>130</td></tr><tr><td>21-Dec-16</td><td>125</td></tr><tr><td>21-Dec-17</td><td>71</td></tr><tr><td>21-Dec-18</td><td>115</td></tr><tr><td>21-Feb-15</td><td>21</td></tr><tr><td>21-Feb-17</td><td>85</td></tr><tr><td>21-Feb-18</td><td>77</td></tr><tr><td>21-Feb-19</td><td>107</td></tr><tr><td>21-Jan-15</td><td>5</td></tr><tr><td>21-Jan-16</td><td>76</td></tr><tr><td>21-Jan-17</td><td>94</td></tr><tr><td>21-Jan-19</td><td>142</td></tr><tr><td>21-Jul-15</td><td>80</td></tr><tr><td>21-Jul-16</td><td>93</td></tr><tr><td>21-Jul-17</td><td>121</td></tr><tr><td>21-Jul-18</td><td>144</td></tr><tr><td>21-Jun-16</td><td>97</td></tr><tr><td>21-Jun-17</td><td>71</td></tr><tr><td>21-Jun-18</td><td>97</td></tr><tr><td>21-Mar-15</td><td>10</td></tr><tr><td>21-Mar-16</td><td>133</td></tr><tr><td>21-Mar-17</td><td>105</td></tr><tr><td>21-Mar-18</td><td>55</td></tr><tr><td>21-May-15</td><td>16</td></tr><tr><td>21-May-16</td><td>63</td></tr><tr><td>21-May-18</td><td>134</td></tr><tr><td>21-Nov-15</td><td>84</td></tr><tr><td>21-Nov-16</td><td>108</td></tr><tr><td>21-Nov-17</td><td>71</td></tr><tr><td>21-Nov-18</td><td>49</td></tr><tr><td>21-Oct-15</td><td>97</td></tr><tr><td>21-Oct-16</td><td>123</td></tr><tr><td>21-Oct-17</td><td>72</td></tr><tr><td>21-Sep-15</td><td>114</td></tr><tr><td>21-Sep-16</td><td>65</td></tr><tr><td>21-Sep-17</td><td>88</td></tr><tr><td>21-Sep-18</td><td>128</td></tr><tr><td>22-Apr-15</td><td>10</td></tr><tr><td>22-Apr-16</td><td>180</td></tr><tr><td>22-Apr-17</td><td>2</td></tr><tr><td>22-Aug-15</td><td>70</td></tr><tr><td>22-Aug-16</td><td>100</td></tr><tr><td>22-Aug-17</td><td>301</td></tr><tr><td>22-Aug-18</td><td>4</td></tr><tr><td>22-Dec-15</td><td>94</td></tr><tr><td>22-Dec-16</td><td>112</td></tr><tr><td>22-Dec-17</td><td>98</td></tr><tr><td>22-Feb-16</td><td>93</td></tr><tr><td>22-Feb-17</td><td>152</td></tr><tr><td>22-Feb-18</td><td>78</td></tr><tr><td>22-Feb-19</td><td>92</td></tr><tr><td>22-Jan-15</td><td>5</td></tr><tr><td>22-Jan-16</td><td>98</td></tr><tr><td>22-Jan-18</td><td>74</td></tr><tr><td>22-Jan-19</td><td>89</td></tr><tr><td>22-Jul-15</td><td>82</td></tr><tr><td>22-Jul-16</td><td>121</td></tr><tr><td>22-Jul-17</td><td>1</td></tr><tr><td>22-Jun-15</td><td>33</td></tr><tr><td>22-Jun-16</td><td>108</td></tr><tr><td>22-Jun-17</td><td>78</td></tr><tr><td>22-Jun-18</td><td>129</td></tr><tr><td>22-Mar-16</td><td>128</td></tr><tr><td>22-Mar-17</td><td>105</td></tr><tr><td>22-Mar-18</td><td>79</td></tr><tr><td>22-May-15</td><td>13</td></tr><tr><td>22-May-17</td><td>82</td></tr><tr><td>22-May-18</td><td>71</td></tr><tr><td>22-Nov-16</td><td>108</td></tr><tr><td>22-Nov-17</td><td>64</td></tr><tr><td>22-Nov-18</td><td>167</td></tr><tr><td>22-Oct-16</td><td>1</td></tr><tr><td>22-Oct-18</td><td>101</td></tr><tr><td>22-Sep-15</td><td>93</td></tr><tr><td>22-Sep-16</td><td>72</td></tr><tr><td>22-Sep-17</td><td>125</td></tr><tr><td>23-Apr-15</td><td>10</td></tr><tr><td>23-Apr-16</td><td>1</td></tr><tr><td>23-Apr-18</td><td>80</td></tr><tr><td>23-Aug-15</td><td>1</td></tr><tr><td>23-Aug-16</td><td>75</td></tr><tr><td>23-Aug-17</td><td>59</td></tr><tr><td>23-Aug-18</td><td>135</td></tr><tr><td>23-Dec-15</td><td>120</td></tr><tr><td>23-Dec-16</td><td>143</td></tr><tr><td>23-Feb-15</td><td>12</td></tr><tr><td>23-Feb-16</td><td>105</td></tr><tr><td>23-Feb-17</td><td>133</td></tr><tr><td>23-Feb-18</td><td>119</td></tr><tr><td>23-Jan-15</td><td>16</td></tr><tr><td>23-Jan-17</td><td>124</td></tr><tr><td>23-Jan-18</td><td>165</td></tr><tr><td>23-Jan-19</td><td>95</td></tr><tr><td>23-Jul-15</td><td>86</td></tr><tr><td>23-Jul-16</td><td>1</td></tr><tr><td>23-Jul-18</td><td>148</td></tr><tr><td>23-Jun-15</td><td>21</td></tr><tr><td>23-Jun-16</td><td>87</td></tr><tr><td>23-Jun-17</td><td>197</td></tr><tr><td>23-Jun-18</td><td>2</td></tr><tr><td>23-Mar-15</td><td>6</td></tr><tr><td>23-Mar-16</td><td>139</td></tr><tr><td>23-Mar-17</td><td>97</td></tr><tr><td>23-Mar-18</td><td>74</td></tr><tr><td>23-May-15</td><td>11</td></tr><tr><td>23-May-16</td><td>149</td></tr><tr><td>23-May-17</td><td>63</td></tr><tr><td>23-May-18</td><td>165</td></tr><tr><td>23-Nov-15</td><td>108</td></tr><tr><td>23-Nov-16</td><td>123</td></tr><tr><td>23-Nov-17</td><td>77</td></tr><tr><td>23-Nov-18</td><td>31</td></tr><tr><td>23-Oct-15</td><td>110</td></tr><tr><td>23-Oct-17</td><td>91</td></tr><tr><td>23-Oct-18</td><td>137</td></tr><tr><td>23-Sep-15</td><td>96</td></tr><tr><td>23-Sep-16</td><td>127</td></tr><tr><td>24-Apr-15</td><td>13</td></tr><tr><td>24-Apr-17</td><td>95</td></tr><tr><td>24-Apr-18</td><td>91</td></tr><tr><td>24-Aug-15</td><td>108</td></tr><tr><td>24-Aug-16</td><td>76</td></tr><tr><td>24-Aug-17</td><td>186</td></tr><tr><td>24-Aug-18</td><td>128</td></tr><tr><td>24-Dec-15</td><td>72</td></tr><tr><td>24-Dec-16</td><td>6</td></tr><tr><td>24-Dec-18</td><td>148</td></tr><tr><td>24-Feb-15</td><td>9</td></tr><tr><td>24-Feb-16</td><td>94</td></tr><tr><td>24-Feb-17</td><td>71</td></tr><tr><td>24-Jan-15</td><td>5</td></tr><tr><td>24-Jan-17</td><td>99</td></tr><tr><td>24-Jan-18</td><td>107</td></tr><tr><td>24-Jan-19</td><td>79</td></tr><tr><td>24-Jul-15</td><td>82</td></tr><tr><td>24-Jul-17</td><td>74</td></tr><tr><td>24-Jul-18</td><td>98</td></tr><tr><td>24-Jun-15</td><td>20</td></tr><tr><td>24-Jun-16</td><td>121</td></tr><tr><td>24-Jun-17</td><td>1</td></tr><tr><td>24-Mar-15</td><td>13</td></tr><tr><td>24-Mar-16</td><td>10</td></tr><tr><td>24-Mar-17</td><td>147</td></tr><tr><td>24-May-16</td><td>132</td></tr><tr><td>24-May-17</td><td>76</td></tr><tr><td>24-May-18</td><td>114</td></tr><tr><td>24-Nov-15</td><td>108</td></tr><tr><td>24-Nov-16</td><td>119</td></tr><tr><td>24-Nov-17</td><td>83</td></tr><tr><td>24-Oct-16</td><td>105</td></tr><tr><td>24-Oct-17</td><td>114</td></tr><tr><td>24-Oct-18</td><td>79</td></tr><tr><td>24-Sep-15</td><td>133</td></tr><tr><td>24-Sep-16</td><td>4</td></tr><tr><td>24-Sep-17</td><td>1</td></tr><tr><td>24-Sep-18</td><td>212</td></tr><tr><td>25-Apr-15</td><td>11</td></tr><tr><td>25-Apr-16</td><td>161</td></tr><tr><td>25-Apr-17</td><td>64</td></tr><tr><td>25-Apr-18</td><td>60</td></tr><tr><td>25-Aug-15</td><td>108</td></tr><tr><td>25-Aug-16</td><td>69</td></tr><tr><td>25-Aug-17</td><td>33</td></tr><tr><td>25-Aug-18</td><td>1</td></tr><tr><td>25-Dec-17</td><td>1</td></tr><tr><td>25-Dec-18</td><td>1</td></tr><tr><td>25-Feb-15</td><td>9</td></tr><tr><td>25-Feb-16</td><td>97</td></tr><tr><td>25-Feb-19</td><td>137</td></tr><tr><td>25-Jan-16</td><td>135</td></tr><tr><td>25-Jan-17</td><td>114</td></tr><tr><td>25-Jan-18</td><td>76</td></tr><tr><td>25-Jan-19</td><td>80</td></tr><tr><td>25-Jul-15</td><td>85</td></tr><tr><td>25-Jul-16</td><td>146</td></tr><tr><td>25-Jul-17</td><td>102</td></tr><tr><td>25-Jul-18</td><td>118</td></tr><tr><td>25-Jun-15</td><td>18</td></tr><tr><td>25-Jun-18</td><td>126</td></tr><tr><td>25-Mar-15</td><td>7</td></tr><tr><td>25-Mar-16</td><td>10</td></tr><tr><td>25-Mar-17</td><td>10</td></tr><tr><td>25-May-15</td><td>15</td></tr><tr><td>25-May-16</td><td>118</td></tr><tr><td>25-May-17</td><td>64</td></tr><tr><td>25-May-18</td><td>97</td></tr><tr><td>25-Nov-15</td><td>21</td></tr><tr><td>25-Nov-16</td><td>139</td></tr><tr><td>25-Nov-17</td><td>53</td></tr><tr><td>25-Oct-16</td><td>88</td></tr><tr><td>25-Oct-17</td><td>76</td></tr><tr><td>25-Oct-18</td><td>94</td></tr><tr><td>25-Sep-15</td><td>18</td></tr><tr><td>25-Sep-17</td><td>155</td></tr><tr><td>25-Sep-18</td><td>130</td></tr><tr><td>26-Apr-16</td><td>151</td></tr><tr><td>26-Apr-17</td><td>51</td></tr><tr><td>26-Apr-18</td><td>80</td></tr><tr><td>26-Aug-15</td><td>89</td></tr><tr><td>26-Aug-16</td><td>125</td></tr><tr><td>26-Aug-17</td><td>1</td></tr><tr><td>26-Dec-15</td><td>55</td></tr><tr><td>26-Dec-16</td><td>106</td></tr><tr><td>26-Dec-17</td><td>98</td></tr><tr><td>26-Dec-18</td><td>119</td></tr><tr><td>26-Feb-15</td><td>12</td></tr><tr><td>26-Feb-16</td><td>111</td></tr><tr><td>26-Feb-18</td><td>81</td></tr><tr><td>26-Feb-19</td><td>84</td></tr><tr><td>26-Jul-16</td><td>98</td></tr><tr><td>26-Jul-17</td><td>49</td></tr><tr><td>26-Jul-18</td><td>175</td></tr><tr><td>26-Jun-15</td><td>25</td></tr><tr><td>26-Jun-18</td><td>117</td></tr><tr><td>26-Mar-15</td><td>12</td></tr><tr><td>26-Mar-16</td><td>51</td></tr><tr><td>26-Mar-17</td><td>13</td></tr><tr><td>26-Mar-18</td><td>185</td></tr><tr><td>26-May-15</td><td>13</td></tr><tr><td>26-May-16</td><td>126</td></tr><tr><td>26-May-17</td><td>95</td></tr><tr><td>26-May-18</td><td>35</td></tr><tr><td>26-Nov-15</td><td>91</td></tr><tr><td>26-Nov-16</td><td>16</td></tr><tr><td>26-Nov-18</td><td>120</td></tr><tr><td>26-Oct-15</td><td>114</td></tr><tr><td>26-Oct-16</td><td>84</td></tr><tr><td>26-Oct-17</td><td>90</td></tr><tr><td>26-Oct-18</td><td>109</td></tr><tr><td>26-Sep-16</td><td>89</td></tr><tr><td>26-Sep-17</td><td>87</td></tr><tr><td>26-Sep-18</td><td>164</td></tr><tr><td>27-Apr-15</td><td>15</td></tr><tr><td>27-Apr-16</td><td>129</td></tr><tr><td>27-Apr-17</td><td>64</td></tr><tr><td>27-Apr-18</td><td>172</td></tr><tr><td>27-Aug-15</td><td>90</td></tr><tr><td>27-Aug-18</td><td>261</td></tr><tr><td>27-Dec-16</td><td>103</td></tr><tr><td>27-Dec-17</td><td>88</td></tr><tr><td>27-Dec-18</td><td>167</td></tr><tr><td>27-Feb-15</td><td>10</td></tr><tr><td>27-Feb-16</td><td>1</td></tr><tr><td>27-Feb-17</td><td>159</td></tr><tr><td>27-Feb-18</td><td>138</td></tr><tr><td>27-Feb-19</td><td>85</td></tr><tr><td>27-Jan-15</td><td>12</td></tr><tr><td>27-Jan-16</td><td>98</td></tr><tr><td>27-Jan-17</td><td>120</td></tr><tr><td>27-Jul-15</td><td>111</td></tr><tr><td>27-Jul-16</td><td>82</td></tr><tr><td>27-Jul-17</td><td>567</td></tr><tr><td>27-Jul-18</td><td>264</td></tr><tr><td>27-Jun-15</td><td>20</td></tr><tr><td>27-Jun-16</td><td>135</td></tr><tr><td>27-Jun-17</td><td>72</td></tr><tr><td>27-Jun-18</td><td>64</td></tr><tr><td>27-Mar-15</td><td>9</td></tr><tr><td>27-Mar-17</td><td>143</td></tr><tr><td>27-Mar-18</td><td>109</td></tr><tr><td>27-May-15</td><td>15</td></tr><tr><td>27-May-16</td><td>146</td></tr><tr><td>27-Nov-15</td><td>122</td></tr><tr><td>27-Nov-16</td><td>9</td></tr><tr><td>27-Nov-17</td><td>86</td></tr><tr><td>27-Nov-18</td><td>161</td></tr><tr><td>27-Oct-15</td><td>110</td></tr><tr><td>27-Oct-16</td><td>105</td></tr><tr><td>27-Oct-17</td><td>243</td></tr><tr><td>27-Oct-18</td><td>4</td></tr><tr><td>27-Sep-16</td><td>62</td></tr><tr><td>27-Sep-17</td><td>70</td></tr><tr><td>27-Sep-18</td><td>156</td></tr><tr><td>28-Apr-15</td><td>11</td></tr><tr><td>28-Apr-16</td><td>115</td></tr><tr><td>28-Apr-17</td><td>100</td></tr><tr><td>28-Aug-15</td><td>99</td></tr><tr><td>28-Aug-16</td><td>1</td></tr><tr><td>28-Aug-17</td><td>93</td></tr><tr><td>28-Aug-18</td><td>101</td></tr><tr><td>28-Dec-15</td><td>150</td></tr><tr><td>28-Dec-16</td><td>105</td></tr><tr><td>28-Dec-17</td><td>202</td></tr><tr><td>28-Dec-18</td><td>72</td></tr><tr><td>28-Feb-15</td><td>13</td></tr><tr><td>28-Feb-17</td><td>116</td></tr><tr><td>28-Feb-18</td><td>86</td></tr><tr><td>28-Feb-19</td><td>73</td></tr><tr><td>28-Jan-15</td><td>5</td></tr><tr><td>28-Jan-16</td><td>99</td></tr><tr><td>28-Jan-17</td><td>2</td></tr><tr><td>28-Jan-19</td><td>119</td></tr><tr><td>28-Jul-15</td><td>79</td></tr><tr><td>28-Jul-16</td><td>91</td></tr><tr><td>28-Jul-17</td><td>93</td></tr><tr><td>28-Jul-18</td><td>4</td></tr><tr><td>28-Jun-16</td><td>122</td></tr><tr><td>28-Jun-17</td><td>84</td></tr><tr><td>28-Jun-18</td><td>138</td></tr><tr><td>28-Mar-15</td><td>5</td></tr><tr><td>28-Mar-16</td><td>119</td></tr><tr><td>28-Mar-17</td><td>68</td></tr><tr><td>28-Mar-18</td><td>75</td></tr><tr><td>28-May-15</td><td>14</td></tr><tr><td>28-May-18</td><td>80</td></tr><tr><td>28-Nov-16</td><td>129</td></tr><tr><td>28-Nov-17</td><td>100</td></tr><tr><td>28-Nov-18</td><td>110</td></tr><tr><td>28-Oct-15</td><td>107</td></tr><tr><td>28-Oct-16</td><td>113</td></tr><tr><td>28-Oct-17</td><td>1</td></tr><tr><td>28-Sep-15</td><td>114</td></tr><tr><td>28-Sep-16</td><td>70</td></tr><tr><td>28-Sep-17</td><td>92</td></tr><tr><td>28-Sep-18</td><td>155</td></tr><tr><td>29-Apr-15</td><td>7</td></tr><tr><td>29-Apr-16</td><td>117</td></tr><tr><td>29-Apr-17</td><td>67</td></tr><tr><td>29-Apr-18</td><td>10</td></tr><tr><td>29-Aug-15</td><td>69</td></tr><tr><td>29-Aug-16</td><td>75</td></tr><tr><td>29-Aug-17</td><td>84</td></tr><tr><td>29-Aug-18</td><td>101</td></tr><tr><td>29-Dec-15</td><td>104</td></tr><tr><td>29-Dec-16</td><td>117</td></tr><tr><td>29-Dec-17</td><td>93</td></tr><tr><td>29-Dec-18</td><td>71</td></tr><tr><td>29-Feb-16</td><td>127</td></tr><tr><td>29-Jan-15</td><td>11</td></tr><tr><td>29-Jan-16</td><td>80</td></tr><tr><td>29-Jan-17</td><td>1</td></tr><tr><td>29-Jan-18</td><td>94</td></tr><tr><td>29-Jan-19</td><td>151</td></tr><tr><td>29-Jul-15</td><td>84</td></tr><tr><td>29-Jul-16</td><td>81</td></tr><tr><td>29-Jul-17</td><td>52</td></tr><tr><td>29-Jun-15</td><td>34</td></tr><tr><td>29-Jun-16</td><td>107</td></tr><tr><td>29-Jun-17</td><td>81</td></tr><tr><td>29-Jun-18</td><td>61</td></tr><tr><td>29-Mar-16</td><td>93</td></tr><tr><td>29-Mar-17</td><td>109</td></tr><tr><td>29-Mar-18</td><td>37</td></tr><tr><td>29-May-15</td><td>12</td></tr><tr><td>29-May-17</td><td>76</td></tr><tr><td>29-May-18</td><td>192</td></tr><tr><td>29-Nov-16</td><td>106</td></tr><tr><td>29-Nov-17</td><td>119</td></tr><tr><td>29-Nov-18</td><td>78</td></tr><tr><td>29-Oct-15</td><td>102</td></tr><tr><td>29-Oct-16</td><td>68</td></tr><tr><td>29-Oct-18</td><td>109</td></tr><tr><td>29-Sep-15</td><td>105</td></tr><tr><td>29-Sep-16</td><td>104</td></tr><tr><td>29-Sep-17</td><td>266</td></tr><tr><td>29-Sep-18</td><td>92</td></tr><tr><td>3-Apr-15</td><td>1</td></tr><tr><td>3-Apr-17</td><td>109</td></tr><tr><td>3-Apr-18</td><td>98</td></tr><tr><td>3-Aug-15</td><td>101</td></tr><tr><td>3-Aug-16</td><td>99</td></tr><tr><td>3-Aug-17</td><td>68</td></tr><tr><td>3-Aug-18</td><td>121</td></tr><tr><td>3-Dec-15</td><td>101</td></tr><tr><td>3-Dec-16</td><td>86</td></tr><tr><td>3-Dec-18</td><td>122</td></tr><tr><td>3-Feb-15</td><td>12</td></tr><tr><td>3-Feb-16</td><td>97</td></tr><tr><td>3-Feb-17</td><td>108</td></tr><tr><td>3-Feb-18</td><td>56</td></tr><tr><td>3-Jan-15</td><td>4</td></tr><tr><td>3-Jan-17</td><td>105</td></tr><tr><td>3-Jan-18</td><td>70</td></tr><tr><td>3-Jan-19</td><td>88</td></tr><tr><td>3-Jul-15</td><td>32</td></tr><tr><td>3-Jul-16</td><td>1</td></tr><tr><td>3-Jul-17</td><td>63</td></tr><tr><td>3-Jul-18</td><td>83</td></tr><tr><td>3-Jun-15</td><td>12</td></tr><tr><td>3-Jun-16</td><td>120</td></tr><tr><td>3-Jun-17</td><td>48</td></tr><tr><td>3-Jun-18</td><td>1</td></tr><tr><td>3-Mar-15</td><td>10</td></tr><tr><td>3-Mar-16</td><td>95</td></tr><tr><td>3-Mar-17</td><td>104</td></tr><tr><td>3-Mar-18</td><td>56</td></tr><tr><td>3-May-16</td><td>105</td></tr><tr><td>3-May-17</td><td>78</td></tr><tr><td>3-May-18</td><td>141</td></tr><tr><td>3-Nov-15</td><td>91</td></tr><tr><td>3-Nov-16</td><td>94</td></tr><tr><td>3-Nov-17</td><td>71</td></tr><tr><td>3-Nov-18</td><td>77</td></tr><tr><td>3-Oct-15</td><td>76</td></tr><tr><td>3-Oct-16</td><td>95</td></tr><tr><td>3-Oct-17</td><td>106</td></tr><tr><td>3-Oct-18</td><td>113</td></tr><tr><td>3-Sep-15</td><td>83</td></tr><tr><td>3-Sep-16</td><td>86</td></tr><tr><td>3-Sep-18</td><td>139</td></tr><tr><td>30-Apr-15</td><td>14</td></tr><tr><td>30-Apr-16</td><td>112</td></tr><tr><td>30-Apr-17</td><td>4</td></tr><tr><td>30-Apr-18</td><td>60</td></tr><tr><td>30-Aug-16</td><td>80</td></tr><tr><td>30-Aug-17</td><td>65</td></tr><tr><td>30-Aug-18</td><td>99</td></tr><tr><td>30-Dec-15</td><td>93</td></tr><tr><td>30-Dec-16</td><td>106</td></tr><tr><td>30-Dec-17</td><td>48</td></tr><tr><td>30-Jan-15</td><td>13</td></tr><tr><td>30-Jan-16</td><td>84</td></tr><tr><td>30-Jan-17</td><td>147</td></tr><tr><td>30-Jan-18</td><td>65</td></tr><tr><td>30-Jan-19</td><td>83</td></tr><tr><td>30-Jul-15</td><td>72</td></tr><tr><td>30-Jul-16</td><td>72</td></tr><tr><td>30-Jul-18</td><td>151</td></tr><tr><td>30-Jun-15</td><td>25</td></tr><tr><td>30-Jun-16</td><td>124</td></tr><tr><td>30-Jun-17</td><td>57</td></tr><tr><td>30-Jun-18</td><td>87</td></tr><tr><td>30-Mar-15</td><td>8</td></tr><tr><td>30-Mar-16</td><td>136</td></tr><tr><td>30-Mar-17</td><td>93</td></tr><tr><td>30-Mar-18</td><td>8</td></tr><tr><td>30-May-15</td><td>10</td></tr><tr><td>30-May-16</td><td>140</td></tr><tr><td>30-May-17</td><td>72</td></tr><tr><td>30-May-18</td><td>91</td></tr><tr><td>30-Nov-15</td><td>126</td></tr><tr><td>30-Nov-16</td><td>119</td></tr><tr><td>30-Nov-17</td><td>84</td></tr><tr><td>30-Nov-18</td><td>80</td></tr><tr><td>30-Oct-15</td><td>58</td></tr><tr><td>30-Oct-17</td><td>96</td></tr><tr><td>30-Oct-18</td><td>176</td></tr><tr><td>30-Sep-15</td><td>92</td></tr><tr><td>30-Sep-16</td><td>116</td></tr><tr><td>30-Sep-17</td><td>4</td></tr><tr><td>30-Sep-18</td><td>3</td></tr><tr><td>31-Aug-15</td><td>91</td></tr><tr><td>31-Aug-16</td><td>74</td></tr><tr><td>31-Aug-17</td><td>76</td></tr><tr><td>31-Aug-18</td><td>105</td></tr><tr><td>31-Dec-15</td><td>100</td></tr><tr><td>31-Dec-16</td><td>102</td></tr><tr><td>31-Dec-17</td><td>6</td></tr><tr><td>31-Dec-18</td><td>123</td></tr><tr><td>31-Jan-15</td><td>4</td></tr><tr><td>31-Jan-16</td><td>3</td></tr><tr><td>31-Jan-17</td><td>89</td></tr><tr><td>31-Jan-18</td><td>239</td></tr><tr><td>31-Jan-19</td><td>99</td></tr><tr><td>31-Jul-15</td><td>72</td></tr><tr><td>31-Jul-16</td><td>2</td></tr><tr><td>31-Jul-17</td><td>83</td></tr><tr><td>31-Jul-18</td><td>176</td></tr><tr><td>31-Mar-15</td><td>8</td></tr><tr><td>31-Mar-16</td><td>124</td></tr><tr><td>31-Mar-17</td><td>118</td></tr><tr><td>31-Mar-18</td><td>109</td></tr><tr><td>31-May-16</td><td>112</td></tr><tr><td>31-May-17</td><td>72</td></tr><tr><td>31-May-18</td><td>132</td></tr><tr><td>31-Oct-15</td><td>84</td></tr><tr><td>31-Oct-16</td><td>41</td></tr><tr><td>31-Oct-17</td><td>75</td></tr><tr><td>31-Oct-18</td><td>102</td></tr><tr><td>4-Apr-15</td><td>15</td></tr><tr><td>4-Apr-16</td><td>138</td></tr><tr><td>4-Apr-17</td><td>54</td></tr><tr><td>4-Apr-18</td><td>154</td></tr><tr><td>4-Aug-15</td><td>92</td></tr><tr><td>4-Aug-16</td><td>94</td></tr><tr><td>4-Aug-17</td><td>284</td></tr><tr><td>4-Aug-18</td><td>79</td></tr><tr><td>4-Dec-15</td><td>94</td></tr><tr><td>4-Dec-16</td><td>6</td></tr><tr><td>4-Dec-17</td><td>117</td></tr><tr><td>4-Dec-18</td><td>81</td></tr><tr><td>4-Feb-15</td><td>13</td></tr><tr><td>4-Feb-16</td><td>90</td></tr><tr><td>4-Feb-17</td><td>72</td></tr><tr><td>4-Feb-19</td><td>97</td></tr><tr><td>4-Jan-16</td><td>120</td></tr><tr><td>4-Jan-17</td><td>94</td></tr><tr><td>4-Jan-18</td><td>60</td></tr><tr><td>4-Jan-19</td><td>96</td></tr><tr><td>4-Jul-15</td><td>30</td></tr><tr><td>4-Jul-16</td><td>143</td></tr><tr><td>4-Jul-17</td><td>206</td></tr><tr><td>4-Jul-18</td><td>115</td></tr><tr><td>4-Jun-15</td><td>15</td></tr><tr><td>4-Jun-16</td><td>101</td></tr><tr><td>4-Jun-17</td><td>1</td></tr><tr><td>4-Jun-18</td><td>111</td></tr><tr><td>4-Mar-15</td><td>10</td></tr><tr><td>4-Mar-16</td><td>95</td></tr><tr><td>4-Mar-17</td><td>82</td></tr><tr><td>4-Mar-19</td><td>51</td></tr><tr><td>4-May-15</td><td>5</td></tr><tr><td>4-May-16</td><td>110</td></tr><tr><td>4-May-17</td><td>120</td></tr><tr><td>4-May-18</td><td>92</td></tr><tr><td>4-Nov-15</td><td>83</td></tr><tr><td>4-Nov-16</td><td>95</td></tr><tr><td>4-Nov-17</td><td>14</td></tr><tr><td>4-Nov-18</td><td>2</td></tr><tr><td>4-Oct-16</td><td>69</td></tr><tr><td>4-Oct-17</td><td>70</td></tr><tr><td>4-Oct-18</td><td>119</td></tr><tr><td>4-Sep-15</td><td>101</td></tr><tr><td>4-Sep-16</td><td>1</td></tr><tr><td>4-Sep-17</td><td>99</td></tr><tr><td>4-Sep-18</td><td>119</td></tr><tr><td>5-Apr-16</td><td>115</td></tr><tr><td>5-Apr-17</td><td>117</td></tr><tr><td>5-Apr-18</td><td>82</td></tr><tr><td>5-Aug-15</td><td>80</td></tr><tr><td>5-Aug-16</td><td>86</td></tr><tr><td>5-Aug-17</td><td>55</td></tr><tr><td>5-Dec-15</td><td>82</td></tr><tr><td>5-Dec-16</td><td>116</td></tr><tr><td>5-Dec-17</td><td>218</td></tr><tr><td>5-Dec-18</td><td>74</td></tr><tr><td>5-Feb-15</td><td>9</td></tr><tr><td>5-Feb-16</td><td>98</td></tr><tr><td>5-Feb-18</td><td>39</td></tr><tr><td>5-Feb-19</td><td>90</td></tr><tr><td>5-Jan-15</td><td>12</td></tr><tr><td>5-Jan-16</td><td>91</td></tr><tr><td>5-Jan-17</td><td>113</td></tr><tr><td>5-Jan-18</td><td>73</td></tr><tr><td>5-Jan-19</td><td>68</td></tr><tr><td>5-Jul-16</td><td>124</td></tr><tr><td>5-Jul-17</td><td>75</td></tr><tr><td>5-Jul-18</td><td>133</td></tr><tr><td>5-Jun-15</td><td>15</td></tr><tr><td>5-Jun-17</td><td>64</td></tr><tr><td>5-Jun-18</td><td>84</td></tr><tr><td>5-Mar-15</td><td>9</td></tr><tr><td>5-Mar-16</td><td>89</td></tr><tr><td>5-Mar-18</td><td>63</td></tr><tr><td>5-Mar-19</td><td>111</td></tr><tr><td>5-May-15</td><td>17</td></tr><tr><td>5-May-16</td><td>139</td></tr><tr><td>5-May-17</td><td>75</td></tr><tr><td>5-May-18</td><td>72</td></tr><tr><td>5-Nov-15</td><td>91</td></tr><tr><td>5-Nov-16</td><td>99</td></tr><tr><td>5-Nov-18</td><td>91</td></tr><tr><td>5-Oct-15</td><td>95</td></tr><tr><td>5-Oct-16</td><td>78</td></tr><tr><td>5-Oct-17</td><td>63</td></tr><tr><td>5-Oct-18</td><td>132</td></tr><tr><td>5-Sep-15</td><td>60</td></tr><tr><td>5-Sep-16</td><td>53</td></tr><tr><td>5-Sep-17</td><td>80</td></tr><tr><td>5-Sep-18</td><td>101</td></tr><tr><td>6-Apr-15</td><td>8</td></tr><tr><td>6-Apr-16</td><td>114</td></tr><tr><td>6-Apr-17</td><td>76</td></tr><tr><td>6-Apr-18</td><td>69</td></tr><tr><td>6-Aug-15</td><td>84</td></tr><tr><td>6-Aug-16</td><td>91</td></tr><tr><td>6-Aug-18</td><td>134</td></tr><tr><td>6-Dec-16</td><td>86</td></tr><tr><td>6-Dec-17</td><td>78</td></tr><tr><td>6-Dec-18</td><td>66</td></tr><tr><td>6-Feb-15</td><td>14</td></tr><tr><td>6-Feb-16</td><td>76</td></tr><tr><td>6-Feb-17</td><td>100</td></tr><tr><td>6-Feb-18</td><td>72</td></tr><tr><td>6-Feb-19</td><td>67</td></tr><tr><td>6-Jan-15</td><td>6</td></tr><tr><td>6-Jan-16</td><td>101</td></tr><tr><td>6-Jan-17</td><td>111</td></tr><tr><td>6-Jan-18</td><td>38</td></tr><tr><td>6-Jul-15</td><td>33</td></tr><tr><td>6-Jul-16</td><td>115</td></tr><tr><td>6-Jul-17</td><td>72</td></tr><tr><td>6-Jul-18</td><td>99</td></tr><tr><td>6-Jun-15</td><td>13</td></tr><tr><td>6-Jun-16</td><td>116</td></tr><tr><td>6-Jun-17</td><td>78</td></tr><tr><td>6-Jun-18</td><td>84</td></tr><tr><td>6-Mar-17</td><td>127</td></tr><tr><td>6-Mar-18</td><td>63</td></tr><tr><td>6-May-15</td><td>12</td></tr><tr><td>6-May-16</td><td>112</td></tr><tr><td>6-May-17</td><td>50</td></tr><tr><td>6-May-18</td><td>1</td></tr><tr><td>6-Nov-15</td><td>90</td></tr><tr><td>6-Nov-17</td><td>90</td></tr><tr><td>6-Nov-18</td><td>104</td></tr><tr><td>6-Oct-15</td><td>90</td></tr><tr><td>6-Oct-16</td><td>74</td></tr><tr><td>6-Oct-17</td><td>82</td></tr><tr><td>6-Oct-18</td><td>181</td></tr><tr><td>6-Sep-15</td><td>2</td></tr><tr><td>6-Sep-16</td><td>99</td></tr><tr><td>6-Sep-17</td><td>86</td></tr><tr><td>6-Sep-18</td><td>109</td></tr><tr><td>7-Apr-15</td><td>16</td></tr><tr><td>7-Apr-16</td><td>131</td></tr><tr><td>7-Apr-17</td><td>111</td></tr><tr><td>7-Apr-18</td><td>291</td></tr><tr><td>7-Aug-15</td><td>100</td></tr><tr><td>7-Aug-16</td><td>1</td></tr><tr><td>7-Aug-17</td><td>64</td></tr><tr><td>7-Aug-18</td><td>58</td></tr><tr><td>7-Dec-15</td><td>134</td></tr><tr><td>7-Dec-16</td><td>88</td></tr><tr><td>7-Dec-17</td><td>69</td></tr><tr><td>7-Dec-18</td><td>113</td></tr><tr><td>7-Feb-15</td><td>1</td></tr><tr><td>7-Feb-17</td><td>105</td></tr><tr><td>7-Feb-18</td><td>62</td></tr><tr><td>7-Feb-19</td><td>98</td></tr><tr><td>7-Jan-15</td><td>4</td></tr><tr><td>7-Jan-16</td><td>84</td></tr><tr><td>7-Jan-17</td><td>77</td></tr><tr><td>7-Jan-18</td><td>1</td></tr><tr><td>7-Jan-19</td><td>77</td></tr><tr><td>7-Jul-15</td><td>33</td></tr><tr><td>7-Jul-16</td><td>27</td></tr><tr><td>7-Jul-17</td><td>80</td></tr><tr><td>7-Jul-18</td><td>80</td></tr><tr><td>7-Jun-16</td><td>103</td></tr><tr><td>7-Jun-17</td><td>66</td></tr><tr><td>7-Jun-18</td><td>262</td></tr><tr><td>7-Mar-15</td><td>11</td></tr><tr><td>7-Mar-16</td><td>66</td></tr><tr><td>7-Mar-17</td><td>128</td></tr><tr><td>7-Mar-18</td><td>319</td></tr><tr><td>7-May-15</td><td>16</td></tr><tr><td>7-May-16</td><td>109</td></tr><tr><td>7-May-18</td><td>80</td></tr><tr><td>7-Nov-15</td><td>100</td></tr><tr><td>7-Nov-16</td><td>128</td></tr><tr><td>7-Nov-17</td><td>91</td></tr><tr><td>7-Nov-18</td><td>158</td></tr><tr><td>7-Oct-15</td><td>86</td></tr><tr><td>7-Oct-16</td><td>110</td></tr><tr><td>7-Oct-17</td><td>382</td></tr><tr><td>7-Sep-15</td><td>110</td></tr><tr><td>7-Sep-16</td><td>97</td></tr><tr><td>7-Sep-17</td><td>94</td></tr><tr><td>7-Sep-18</td><td>96</td></tr><tr><td>8-Apr-15</td><td>7</td></tr><tr><td>8-Apr-16</td><td>161</td></tr><tr><td>8-Apr-17</td><td>3</td></tr><tr><td>8-Aug-15</td><td>92</td></tr><tr><td>8-Aug-16</td><td>97</td></tr><tr><td>8-Aug-17</td><td>48</td></tr><tr><td>8-Aug-18</td><td>174</td></tr><tr><td>8-Dec-15</td><td>112</td></tr><tr><td>8-Dec-16</td><td>91</td></tr><tr><td>8-Dec-17</td><td>135</td></tr><tr><td>8-Dec-18</td><td>1</td></tr><tr><td>8-Feb-16</td><td>129</td></tr><tr><td>8-Feb-17</td><td>97</td></tr><tr><td>8-Feb-18</td><td>76</td></tr><tr><td>8-Feb-19</td><td>144</td></tr><tr><td>8-Jan-15</td><td>4</td></tr><tr><td>8-Jan-16</td><td>115</td></tr><tr><td>8-Jan-18</td><td>95</td></tr><tr><td>8-Jan-19</td><td>150</td></tr><tr><td>8-Jul-15</td><td>38</td></tr><tr><td>8-Jul-16</td><td>114</td></tr><tr><td>8-Jul-18</td><td>7</td></tr><tr><td>8-Jun-15</td><td>21</td></tr><tr><td>8-Jun-16</td><td>103</td></tr><tr><td>8-Jun-17</td><td>70</td></tr><tr><td>8-Jun-18</td><td>223</td></tr><tr><td>8-Mar-16</td><td>121</td></tr><tr><td>8-Mar-17</td><td>113</td></tr><tr><td>8-Mar-18</td><td>58</td></tr><tr><td>8-May-15</td><td>15</td></tr><tr><td>8-May-17</td><td>163</td></tr><tr><td>8-May-18</td><td>282</td></tr><tr><td>8-Nov-15</td><td>4</td></tr><tr><td>8-Nov-16</td><td>107</td></tr><tr><td>8-Nov-17</td><td>402</td></tr><tr><td>8-Nov-18</td><td>37</td></tr><tr><td>8-Oct-15</td><td>97</td></tr><tr><td>8-Oct-16</td><td>5</td></tr><tr><td>8-Oct-18</td><td>108</td></tr><tr><td>8-Sep-15</td><td>93</td></tr><tr><td>8-Sep-16</td><td>93</td></tr><tr><td>8-Sep-17</td><td>187</td></tr><tr><td>8-Sep-18</td><td>2</td></tr><tr><td>9-Apr-15</td><td>11</td></tr><tr><td>9-Apr-18</td><td>90</td></tr><tr><td>9-Aug-16</td><td>90</td></tr><tr><td>9-Aug-17</td><td>92</td></tr><tr><td>9-Aug-18</td><td>360</td></tr><tr><td>9-Dec-15</td><td>93</td></tr><tr><td>9-Dec-16</td><td>132</td></tr><tr><td>9-Dec-17</td><td>1</td></tr><tr><td>9-Feb-15</td><td>10</td></tr><tr><td>9-Feb-16</td><td>100</td></tr><tr><td>9-Feb-17</td><td>113</td></tr><tr><td>9-Feb-18</td><td>252</td></tr><tr><td>9-Feb-19</td><td>1</td></tr><tr><td>9-Jan-15</td><td>4</td></tr><tr><td>9-Jan-17</td><td>141</td></tr><tr><td>9-Jan-18</td><td>299</td></tr><tr><td>9-Jan-19</td><td>130</td></tr><tr><td>9-Jul-15</td><td>26</td></tr><tr><td>9-Jul-17</td><td>1</td></tr><tr><td>9-Jul-18</td><td>292</td></tr><tr><td>9-Jun-15</td><td>20</td></tr><tr><td>9-Jun-16</td><td>102</td></tr><tr><td>9-Jun-17</td><td>71</td></tr><tr><td>9-Mar-15</td><td>8</td></tr><tr><td>9-Mar-16</td><td>101</td></tr><tr><td>9-Mar-17</td><td>97</td></tr><tr><td>9-Mar-18</td><td>71</td></tr><tr><td>9-May-15</td><td>14</td></tr><tr><td>9-May-16</td><td>159</td></tr><tr><td>9-May-17</td><td>73</td></tr><tr><td>9-May-18</td><td>108</td></tr><tr><td>9-Nov-15</td><td>152</td></tr><tr><td>9-Nov-16</td><td>39</td></tr><tr><td>9-Nov-17</td><td>91</td></tr><tr><td>9-Nov-18</td><td>290</td></tr><tr><td>9-Oct-15</td><td>101</td></tr><tr><td>9-Oct-16</td><td>1</td></tr><tr><td>9-Oct-17</td><td>83</td></tr><tr><td>9-Oct-18</td><td>297</td></tr><tr><td>9-Sep-15</td><td>91</td></tr><tr><td>9-Sep-16</td><td>124</td></tr></tbody></table></div>"
      ]
     },
     "metadata": {
      "application/vnd.databricks.v1+output": {
       "addedWidgets": {},
       "aggData": [],
       "aggError": "",
       "aggOverflow": false,
       "aggSchema": [],
       "aggSeriesLimitReached": false,
       "aggType": "",
       "arguments": {},
       "columnCustomDisplayInfos": {},
       "data": [
        [
         "1-Apr-17",
         1
        ],
        [
         "1-Aug-15",
         75
        ],
        [
         "1-Aug-16",
         85
        ],
        [
         "1-Aug-17",
         65
        ],
        [
         "1-Aug-18",
         144
        ],
        [
         "1-Dec-15",
         96
        ],
        [
         "1-Dec-16",
         106
        ],
        [
         "1-Dec-17",
         45
        ],
        [
         "1-Dec-18",
         97
        ],
        [
         "1-Feb-16",
         97
        ],
        [
         "1-Feb-17",
         81
        ],
        [
         "1-Feb-18",
         87
        ],
        [
         "1-Feb-19",
         79
        ],
        [
         "1-Jan-15",
         3
        ],
        [
         "1-Jan-16",
         59
        ],
        [
         "1-Jan-18",
         53
        ],
        [
         "1-Jan-19",
         57
        ],
        [
         "1-Jul-15",
         25
        ],
        [
         "1-Jul-16",
         111
        ],
        [
         "1-Jul-17",
         243
        ],
        [
         "1-Jun-15",
         20
        ],
        [
         "1-Jun-16",
         121
        ],
        [
         "1-Jun-17",
         53
        ],
        [
         "1-Jun-18",
         92
        ],
        [
         "1-Mar-16",
         109
        ],
        [
         "1-Mar-17",
         103
        ],
        [
         "1-Mar-18",
         90
        ],
        [
         "1-Mar-19",
         81
        ],
        [
         "1-May-15",
         10
        ],
        [
         "1-May-17",
         37
        ],
        [
         "1-May-18",
         62
        ],
        [
         "1-Nov-16",
         53
        ],
        [
         "1-Nov-17",
         55
        ],
        [
         "1-Nov-18",
         106
        ],
        [
         "1-Oct-15",
         84
        ],
        [
         "1-Oct-16",
         47
        ],
        [
         "1-Oct-17",
         2
        ],
        [
         "1-Oct-18",
         180
        ],
        [
         "1-Sep-15",
         93
        ],
        [
         "1-Sep-16",
         82
        ],
        [
         "1-Sep-17",
         169
        ],
        [
         "1-Sep-18",
         194
        ],
        [
         "10-Apr-15",
         11
        ],
        [
         "10-Apr-17",
         101
        ],
        [
         "10-Apr-18",
         66
        ],
        [
         "10-Aug-15",
         136
        ],
        [
         "10-Aug-16",
         95
        ],
        [
         "10-Aug-17",
         64
        ],
        [
         "10-Aug-18",
         216
        ],
        [
         "10-Dec-15",
         105
        ],
        [
         "10-Dec-16",
         6
        ],
        [
         "10-Dec-18",
         137
        ],
        [
         "10-Feb-15",
         11
        ],
        [
         "10-Feb-16",
         104
        ],
        [
         "10-Feb-17",
         102
        ],
        [
         "10-Jan-15",
         12
        ],
        [
         "10-Jan-17",
         109
        ],
        [
         "10-Jan-18",
         71
        ],
        [
         "10-Jan-19",
         110
        ],
        [
         "10-Jul-15",
         44
        ],
        [
         "10-Jul-17",
         82
        ],
        [
         "10-Jul-18",
         374
        ],
        [
         "10-Jun-15",
         23
        ],
        [
         "10-Jun-16",
         140
        ],
        [
         "10-Jun-17",
         1
        ],
        [
         "10-Mar-15",
         11
        ],
        [
         "10-Mar-16",
         106
        ],
        [
         "10-Mar-17",
         164
        ],
        [
         "10-Mar-18",
         1
        ],
        [
         "10-May-16",
         134
        ],
        [
         "10-May-17",
         32
        ],
        [
         "10-May-18",
         183
        ],
        [
         "10-Nov-15",
         148
        ],
        [
         "10-Nov-16",
         181
        ],
        [
         "10-Nov-17",
         167
        ],
        [
         "10-Nov-18",
         1
        ],
        [
         "10-Oct-16",
         123
        ],
        [
         "10-Oct-17",
         106
        ],
        [
         "10-Oct-18",
         99
        ],
        [
         "10-Sep-15",
         101
        ],
        [
         "10-Sep-16",
         3
        ],
        [
         "10-Sep-18",
         344
        ],
        [
         "11-Apr-15",
         7
        ],
        [
         "11-Apr-16",
         182
        ],
        [
         "11-Apr-17",
         91
        ],
        [
         "11-Apr-18",
         69
        ],
        [
         "11-Aug-15",
         124
        ],
        [
         "11-Aug-16",
         104
        ],
        [
         "11-Aug-17",
         128
        ],
        [
         "11-Aug-18",
         10
        ],
        [
         "11-Dec-15",
         159
        ],
        [
         "11-Dec-17",
         90
        ],
        [
         "11-Dec-18",
         254
        ],
        [
         "11-Feb-15",
         8
        ],
        [
         "11-Feb-16",
         113
        ],
        [
         "11-Feb-19",
         157
        ],
        [
         "11-Jan-16",
         175
        ],
        [
         "11-Jan-17",
         125
        ],
        [
         "11-Jan-18",
         239
        ],
        [
         "11-Jan-19",
         74
        ],
        [
         "11-Jul-15",
         29
        ],
        [
         "11-Jul-16",
         157
        ],
        [
         "11-Jul-17",
         94
        ],
        [
         "11-Jul-18",
         93
        ],
        [
         "11-Jun-15",
         21
        ],
        [
         "11-Jun-18",
         240
        ],
        [
         "11-Mar-15",
         13
        ],
        [
         "11-Mar-16",
         134
        ],
        [
         "11-May-15",
         17
        ],
        [
         "11-May-16",
         145
        ],
        [
         "11-May-17",
         86
        ],
        [
         "11-May-18",
         186
        ],
        [
         "11-Nov-15",
         13
        ],
        [
         "11-Nov-16",
         117
        ],
        [
         "11-Oct-16",
         1
        ],
        [
         "11-Oct-17",
         73
        ],
        [
         "11-Oct-18",
         303
        ],
        [
         "11-Sep-15",
         138
        ],
        [
         "11-Sep-17",
         109
        ],
        [
         "11-Sep-18",
         176
        ],
        [
         "12-Apr-16",
         138
        ],
        [
         "12-Apr-17",
         94
        ],
        [
         "12-Apr-18",
         151
        ],
        [
         "12-Aug-15",
         104
        ],
        [
         "12-Aug-16",
         174
        ],
        [
         "12-Aug-17",
         58
        ],
        [
         "12-Dec-16",
         36
        ],
        [
         "12-Dec-17",
         367
        ],
        [
         "12-Dec-18",
         86
        ],
        [
         "12-Feb-15",
         12
        ],
        [
         "12-Feb-16",
         132
        ],
        [
         "12-Feb-18",
         112
        ],
        [
         "12-Feb-19",
         159
        ],
        [
         "12-Jan-15",
         4
        ],
        [
         "12-Jan-16",
         111
        ],
        [
         "12-Jan-17",
         130
        ],
        [
         "12-Jan-18",
         81
        ],
        [
         "12-Jul-15",
         1
        ],
        [
         "12-Jul-16",
         115
        ],
        [
         "12-Jul-17",
         55
        ],
        [
         "12-Jul-18",
         223
        ],
        [
         "12-Jun-15",
         19
        ],
        [
         "12-Jun-17",
         93
        ],
        [
         "12-Jun-18",
         194
        ],
        [
         "12-Mar-15",
         8
        ],
        [
         "12-Mar-18",
         132
        ],
        [
         "12-May-15",
         25
        ],
        [
         "12-May-16",
         142
        ],
        [
         "12-May-17",
         98
        ],
        [
         "12-May-18",
         26
        ],
        [
         "12-Nov-15",
         96
        ],
        [
         "12-Nov-16",
         65
        ],
        [
         "12-Nov-17",
         1
        ],
        [
         "12-Nov-18",
         128
        ],
        [
         "12-Oct-15",
         127
        ],
        [
         "12-Oct-16",
         12
        ],
        [
         "12-Oct-17",
         55
        ],
        [
         "12-Oct-18",
         128
        ],
        [
         "12-Sep-16",
         151
        ],
        [
         "12-Sep-17",
         71
        ],
        [
         "12-Sep-18",
         365
        ],
        [
         "13-Apr-15",
         16
        ],
        [
         "13-Apr-16",
         172
        ],
        [
         "13-Apr-17",
         103
        ],
        [
         "13-Apr-18",
         98
        ],
        [
         "13-Aug-15",
         108
        ],
        [
         "13-Aug-16",
         5
        ],
        [
         "13-Aug-17",
         53
        ],
        [
         "13-Aug-18",
         463
        ],
        [
         "13-Dec-16",
         124
        ],
        [
         "13-Dec-17",
         77
        ],
        [
         "13-Dec-18",
         229
        ],
        [
         "13-Feb-15",
         10
        ],
        [
         "13-Feb-17",
         123
        ],
        [
         "13-Feb-18",
         50
        ],
        [
         "13-Feb-19",
         78
        ],
        [
         "13-Jan-15",
         4
        ],
        [
         "13-Jan-16",
         105
        ],
        [
         "13-Jan-17",
         144
        ],
        [
         "13-Jan-18",
         1
        ],
        [
         "13-Jul-15",
         58
        ],
        [
         "13-Jul-16",
         108
        ],
        [
         "13-Jul-17",
         75
        ],
        [
         "13-Jul-18",
         124
        ],
        [
         "13-Jun-15",
         20
        ],
        [
         "13-Jun-16",
         155
        ],
        [
         "13-Jun-17",
         81
        ],
        [
         "13-Jun-18",
         102
        ],
        [
         "13-Mar-15",
         15
        ],
        [
         "13-Mar-16",
         1
        ],
        [
         "13-Mar-17",
         18
        ],
        [
         "13-Mar-18",
         74
        ],
        [
         "13-May-15",
         24
        ],
        [
         "13-May-16",
         183
        ],
        [
         "13-May-17",
         1
        ],
        [
         "13-May-18",
         7
        ],
        [
         "13-Nov-15",
         127
        ],
        [
         "13-Nov-16",
         17
        ],
        [
         "13-Nov-17",
         108
        ],
        [
         "13-Nov-18",
         153
        ],
        [
         "13-Oct-15",
         123
        ],
        [
         "13-Oct-16",
         110
        ],
        [
         "13-Oct-17",
         229
        ],
        [
         "13-Oct-18",
         1
        ],
        [
         "13-Sep-15",
         1
        ],
        [
         "13-Sep-16",
         1
        ],
        [
         "13-Sep-17",
         94
        ],
        [
         "13-Sep-18",
         109
        ],
        [
         "14-Apr-15",
         3
        ],
        [
         "14-Apr-16",
         1
        ],
        [
         "14-Apr-17",
         3
        ],
        [
         "14-Aug-15",
         159
        ],
        [
         "14-Aug-17",
         139
        ],
        [
         "14-Aug-18",
         178
        ],
        [
         "14-Dec-15",
         149
        ],
        [
         "14-Dec-16",
         85
        ],
        [
         "14-Dec-17",
         135
        ],
        [
         "14-Dec-18",
         114
        ],
        [
         "14-Feb-15",
         11
        ],
        [
         "14-Feb-17",
         96
        ],
        [
         "14-Feb-18",
         71
        ],
        [
         "14-Feb-19",
         257
        ],
        [
         "14-Jan-15",
         5
        ],
        [
         "14-Jan-16",
         79
        ],
        [
         "14-Jan-17",
         2
        ],
        [
         "14-Jan-19",
         140
        ],
        [
         "14-Jul-15",
         49
        ],
        [
         "14-Jul-16",
         93
        ],
        [
         "14-Jul-17",
         333
        ],
        [
         "14-Jul-18",
         1
        ],
        [
         "14-Jun-16",
         108
        ],
        [
         "14-Jun-17",
         76
        ],
        [
         "14-Jun-18",
         93
        ],
        [
         "14-Mar-15",
         9
        ],
        [
         "14-Mar-16",
         153
        ],
        [
         "14-Mar-17",
         173
        ],
        [
         "14-Mar-18",
         70
        ],
        [
         "14-May-15",
         16
        ],
        [
         "14-May-18",
         163
        ],
        [
         "14-Nov-15",
         1
        ],
        [
         "14-Nov-16",
         46
        ],
        [
         "14-Nov-17",
         75
        ],
        [
         "14-Nov-18",
         220
        ],
        [
         "14-Oct-15",
         113
        ],
        [
         "14-Oct-16",
         98
        ],
        [
         "14-Oct-18",
         1
        ],
        [
         "14-Sep-15",
         208
        ],
        [
         "14-Sep-16",
         79
        ],
        [
         "14-Sep-17",
         72
        ],
        [
         "14-Sep-18",
         150
        ],
        [
         "15-Apr-15",
         11
        ],
        [
         "15-Apr-16",
         103
        ],
        [
         "15-Apr-17",
         63
        ],
        [
         "15-Aug-15",
         1
        ],
        [
         "15-Dec-15",
         137
        ],
        [
         "15-Dec-16",
         83
        ],
        [
         "15-Dec-17",
         82
        ],
        [
         "15-Dec-18",
         62
        ],
        [
         "15-Feb-16",
         154
        ],
        [
         "15-Feb-17",
         113
        ],
        [
         "15-Feb-18",
         70
        ],
        [
         "15-Feb-19",
         161
        ],
        [
         "15-Jan-15",
         11
        ],
        [
         "15-Jan-16",
         119
        ],
        [
         "15-Jan-18",
         209
        ],
        [
         "15-Jan-19",
         177
        ],
        [
         "15-Jul-15",
         44
        ],
        [
         "15-Jul-16",
         160
        ],
        [
         "15-Jul-17",
         79
        ],
        [
         "15-Jun-15",
         28
        ],
        [
         "15-Jun-16",
         99
        ],
        [
         "15-Jun-17",
         66
        ],
        [
         "15-Jun-18",
         120
        ],
        [
         "15-Mar-16",
         140
        ],
        [
         "15-Mar-17",
         160
        ],
        [
         "15-Mar-18",
         55
        ],
        [
         "15-May-15",
         18
        ],
        [
         "15-May-17",
         84
        ],
        [
         "15-May-18",
         95
        ],
        [
         "15-Nov-16",
         114
        ],
        [
         "15-Nov-17",
         85
        ],
        [
         "15-Nov-18",
         122
        ],
        [
         "15-Oct-15",
         123
        ],
        [
         "15-Oct-16",
         81
        ],
        [
         "15-Oct-18",
         135
        ],
        [
         "15-Sep-15",
         104
        ],
        [
         "15-Sep-16",
         69
        ],
        [
         "15-Sep-17",
         77
        ],
        [
         "15-Sep-18",
         143
        ],
        [
         "16-Apr-15",
         12
        ],
        [
         "16-Apr-16",
         151
        ],
        [
         "16-Apr-18",
         145
        ],
        [
         "16-Aug-15",
         1
        ],
        [
         "16-Aug-16",
         106
        ],
        [
         "16-Aug-17",
         109
        ],
        [
         "16-Aug-18",
         147
        ],
        [
         "16-Dec-15",
         98
        ],
        [
         "16-Dec-16",
         141
        ],
        [
         "16-Dec-17",
         45
        ],
        [
         "16-Feb-15",
         16
        ],
        [
         "16-Feb-16",
         114
        ],
        [
         "16-Feb-17",
         87
        ],
        [
         "16-Feb-18",
         232
        ],
        [
         "16-Feb-19",
         69
        ],
        [
         "16-Jan-15",
         8
        ],
        [
         "16-Jan-16",
         75
        ],
        [
         "16-Jan-17",
         146
        ],
        [
         "16-Jan-18",
         50
        ],
        [
         "16-Jan-19",
         223
        ],
        [
         "16-Jul-15",
         63
        ],
        [
         "16-Jul-16",
         74
        ],
        [
         "16-Jul-18",
         288
        ],
        [
         "16-Jun-15",
         27
        ],
        [
         "16-Jun-16",
         120
        ],
        [
         "16-Jun-17",
         70
        ],
        [
         "16-Jun-18",
         3
        ],
        [
         "16-Mar-15",
         8
        ],
        [
         "16-Mar-16",
         109
        ],
        [
         "16-Mar-17",
         353
        ],
        [
         "16-Mar-18",
         64
        ],
        [
         "16-May-15",
         11
        ],
        [
         "16-May-16",
         187
        ],
        [
         "16-May-17",
         70
        ],
        [
         "16-May-18",
         198
        ],
        [
         "16-Nov-15",
         160
        ],
        [
         "16-Nov-16",
         91
        ],
        [
         "16-Nov-17",
         105
        ],
        [
         "16-Nov-18",
         100
        ],
        [
         "16-Oct-15",
         113
        ],
        [
         "16-Oct-17",
         146
        ],
        [
         "16-Oct-18",
         199
        ],
        [
         "16-Sep-15",
         133
        ],
        [
         "16-Sep-16",
         84
        ],
        [
         "16-Sep-17",
         55
        ],
        [
         "17-Apr-15",
         15
        ],
        [
         "17-Apr-17",
         124
        ],
        [
         "17-Apr-18",
         88
        ],
        [
         "17-Aug-15",
         132
        ],
        [
         "17-Aug-16",
         88
        ],
        [
         "17-Aug-17",
         32
        ],
        [
         "17-Aug-18",
         143
        ],
        [
         "17-Dec-15",
         91
        ],
        [
         "17-Dec-16",
         74
        ],
        [
         "17-Dec-18",
         100
        ],
        [
         "17-Feb-15",
         11
        ],
        [
         "17-Feb-16",
         102
        ],
        [
         "17-Feb-17",
         94
        ],
        [
         "17-Feb-18",
         52
        ],
        [
         "17-Feb-19",
         1
        ],
        [
         "17-Jan-15",
         16
        ],
        [
         "17-Jan-17",
         135
        ],
        [
         "17-Jan-18",
         57
        ],
        [
         "17-Jan-19",
         167
        ],
        [
         "17-Jul-15",
         129
        ],
        [
         "17-Jul-16",
         1
        ],
        [
         "17-Jul-17",
         69
        ],
        [
         "17-Jul-18",
         172
        ],
        [
         "17-Jun-15",
         24
        ],
        [
         "17-Jun-16",
         117
        ],
        [
         "17-Jun-17",
         118
        ],
        [
         "17-Mar-15",
         9
        ],
        [
         "17-Mar-16",
         105
        ],
        [
         "17-Mar-17",
         97
        ],
        [
         "17-Mar-18",
         50
        ],
        [
         "17-May-16",
         149
        ],
        [
         "17-May-17",
         177
        ],
        [
         "17-May-18",
         132
        ],
        [
         "17-Nov-15",
         97
        ],
        [
         "17-Nov-16",
         96
        ],
        [
         "17-Nov-17",
         76
        ],
        [
         "17-Nov-18",
         74
        ],
        [
         "17-Oct-15",
         72
        ],
        [
         "17-Oct-16",
         114
        ],
        [
         "17-Oct-17",
         101
        ],
        [
         "17-Oct-18",
         109
        ],
        [
         "17-Sep-15",
         79
        ],
        [
         "17-Sep-16",
         65
        ],
        [
         "17-Sep-18",
         163
        ],
        [
         "18-Apr-15",
         11
        ],
        [
         "18-Apr-16",
         145
        ],
        [
         "18-Apr-17",
         71
        ],
        [
         "18-Apr-18",
         83
        ],
        [
         "18-Aug-15",
         95
        ],
        [
         "18-Aug-16",
         57
        ],
        [
         "18-Aug-17",
         113
        ],
        [
         "18-Aug-18",
         95
        ],
        [
         "18-Dec-15",
         94
        ],
        [
         "18-Dec-17",
         93
        ],
        [
         "18-Dec-18",
         111
        ],
        [
         "18-Feb-15",
         10
        ],
        [
         "18-Feb-16",
         103
        ],
        [
         "18-Feb-17",
         97
        ],
        [
         "18-Feb-19",
         133
        ],
        [
         "18-Jan-16",
         116
        ],
        [
         "18-Jan-17",
         101
        ],
        [
         "18-Jan-18",
         207
        ],
        [
         "18-Jan-19",
         71
        ],
        [
         "18-Jul-15",
         2
        ],
        [
         "18-Jul-16",
         131
        ],
        [
         "18-Jul-17",
         233
        ],
        [
         "18-Jul-18",
         133
        ],
        [
         "18-Jun-15",
         21
        ],
        [
         "18-Jun-16",
         99
        ],
        [
         "18-Jun-18",
         124
        ],
        [
         "18-Mar-15",
         10
        ],
        [
         "18-Mar-16",
         133
        ],
        [
         "18-Mar-17",
         108
        ],
        [
         "18-May-15",
         16
        ],
        [
         "18-May-16",
         131
        ],
        [
         "18-May-17",
         48
        ],
        [
         "18-May-18",
         130
        ],
        [
         "18-Nov-15",
         85
        ],
        [
         "18-Nov-16",
         102
        ],
        [
         "18-Nov-17",
         53
        ],
        [
         "18-Nov-18",
         1
        ],
        [
         "18-Oct-16",
         94
        ],
        [
         "18-Oct-17",
         75
        ],
        [
         "18-Oct-18",
         49
        ],
        [
         "18-Sep-15",
         97
        ],
        [
         "18-Sep-16",
         4
        ],
        [
         "18-Sep-17",
         88
        ],
        [
         "18-Sep-18",
         127
        ],
        [
         "19-Apr-16",
         92
        ],
        [
         "19-Apr-17",
         92
        ],
        [
         "19-Apr-18",
         71
        ],
        [
         "19-Aug-15",
         99
        ],
        [
         "19-Aug-16",
         114
        ],
        [
         "19-Aug-17",
         65
        ],
        [
         "19-Dec-15",
         97
        ],
        [
         "19-Dec-16",
         101
        ],
        [
         "19-Dec-17",
         113
        ],
        [
         "19-Dec-18",
         74
        ],
        [
         "19-Feb-15",
         13
        ],
        [
         "19-Feb-16",
         76
        ],
        [
         "19-Feb-18",
         21
        ],
        [
         "19-Feb-19",
         47
        ],
        [
         "19-Jan-15",
         13
        ],
        [
         "19-Jan-16",
         89
        ],
        [
         "19-Jan-17",
         128
        ],
        [
         "19-Jan-18",
         78
        ],
        [
         "19-Jan-19",
         95
        ],
        [
         "19-Jul-16",
         102
        ],
        [
         "19-Jul-17",
         60
        ],
        [
         "19-Jul-18",
         122
        ],
        [
         "19-Jun-15",
         17
        ],
        [
         "19-Jun-17",
         71
        ],
        [
         "19-Jun-18",
         157
        ],
        [
         "19-Mar-15",
         15
        ],
        [
         "19-Mar-16",
         95
        ],
        [
         "19-Mar-18",
         56
        ],
        [
         "19-May-15",
         17
        ],
        [
         "19-May-16",
         149
        ],
        [
         "19-May-17",
         82
        ],
        [
         "19-May-18",
         55
        ],
        [
         "19-Nov-15",
         97
        ],
        [
         "19-Nov-16",
         91
        ],
        [
         "19-Nov-18",
         105
        ],
        [
         "19-Oct-15",
         126
        ],
        [
         "19-Oct-16",
         85
        ],
        [
         "19-Oct-17",
         11
        ],
        [
         "19-Oct-18",
         104
        ],
        [
         "19-Sep-15",
         85
        ],
        [
         "19-Sep-16",
         73
        ],
        [
         "19-Sep-17",
         358
        ],
        [
         "19-Sep-18",
         140
        ],
        [
         "2-Apr-16",
         151
        ],
        [
         "2-Apr-18",
         1
        ],
        [
         "2-Aug-16",
         95
        ],
        [
         "2-Aug-17",
         53
        ],
        [
         "2-Aug-18",
         81
        ],
        [
         "2-Dec-15",
         97
        ],
        [
         "2-Dec-16",
         114
        ],
        [
         "2-Dec-17",
         72
        ],
        [
         "2-Feb-15",
         7
        ],
        [
         "2-Feb-16",
         90
        ],
        [
         "2-Feb-17",
         103
        ],
        [
         "2-Feb-18",
         99
        ],
        [
         "2-Feb-19",
         110
        ],
        [
         "2-Jan-15",
         10
        ],
        [
         "2-Jan-16",
         80
        ],
        [
         "2-Jan-17",
         62
        ],
        [
         "2-Jan-18",
         88
        ],
        [
         "2-Jan-19",
         98
        ],
        [
         "2-Jul-15",
         20
        ],
        [
         "2-Jul-16",
         97
        ],
        [
         "2-Jul-18",
         72
        ],
        [
         "2-Jun-15",
         16
        ],
        [
         "2-Jun-16",
         117
        ],
        [
         "2-Jun-17",
         64
        ],
        [
         "2-Jun-18",
         114
        ],
        [
         "2-Mar-15",
         8
        ],
        [
         "2-Mar-16",
         88
        ],
        [
         "2-Mar-17",
         103
        ],
        [
         "2-Mar-18",
         6
        ],
        [
         "2-Mar-19",
         84
        ],
        [
         "2-May-15",
         12
        ],
        [
         "2-May-16",
         86
        ],
        [
         "2-May-17",
         100
        ],
        [
         "2-May-18",
         128
        ],
        [
         "2-Nov-15",
         91
        ],
        [
         "2-Nov-16",
         103
        ],
        [
         "2-Nov-17",
         92
        ],
        [
         "2-Nov-18",
         121
        ],
        [
         "2-Oct-17",
         1
        ],
        [
         "2-Oct-18",
         2
        ],
        [
         "2-Sep-15",
         79
        ],
        [
         "2-Sep-16",
         80
        ],
        [
         "20-Apr-15",
         11
        ],
        [
         "20-Apr-16",
         133
        ],
        [
         "20-Apr-17",
         83
        ],
        [
         "20-Apr-18",
         296
        ],
        [
         "20-Aug-15",
         79
        ],
        [
         "20-Aug-16",
         65
        ],
        [
         "20-Aug-18",
         188
        ],
        [
         "20-Dec-16",
         102
        ],
        [
         "20-Dec-17",
         76
        ],
        [
         "20-Dec-18",
         150
        ],
        [
         "20-Feb-15",
         10
        ],
        [
         "20-Feb-16",
         110
        ],
        [
         "20-Feb-17",
         104
        ],
        [
         "20-Feb-18",
         91
        ],
        [
         "20-Feb-19",
         113
        ],
        [
         "20-Jan-15",
         8
        ],
        [
         "20-Jan-16",
         87
        ],
        [
         "20-Jan-17",
         111
        ],
        [
         "20-Jan-18",
         55
        ],
        [
         "20-Jul-15",
         117
        ],
        [
         "20-Jul-16",
         104
        ],
        [
         "20-Jul-17",
         51
        ],
        [
         "20-Jul-18",
         281
        ],
        [
         "20-Jun-15",
         18
        ],
        [
         "20-Jun-16",
         117
        ],
        [
         "20-Jun-17",
         52
        ],
        [
         "20-Jun-18",
         159
        ],
        [
         "20-Mar-15",
         7
        ],
        [
         "20-Mar-17",
         122
        ],
        [
         "20-Mar-18",
         71
        ],
        [
         "20-May-15",
         14
        ],
        [
         "20-May-16",
         158
        ],
        [
         "20-May-17",
         60
        ],
        [
         "20-Nov-15",
         90
        ],
        [
         "20-Nov-16",
         11
        ],
        [
         "20-Nov-17",
         113
        ],
        [
         "20-Nov-18",
         138
        ],
        [
         "20-Oct-15",
         109
        ],
        [
         "20-Oct-16",
         82
        ],
        [
         "20-Oct-17",
         24
        ],
        [
         "20-Oct-18",
         143
        ],
        [
         "20-Sep-15",
         2
        ],
        [
         "20-Sep-16",
         76
        ],
        [
         "20-Sep-17",
         60
        ],
        [
         "20-Sep-18",
         58
        ],
        [
         "21-Apr-15",
         10
        ],
        [
         "21-Apr-16",
         133
        ],
        [
         "21-Apr-17",
         89
        ],
        [
         "21-Apr-18",
         163
        ],
        [
         "21-Aug-15",
         103
        ],
        [
         "21-Aug-16",
         1
        ],
        [
         "21-Aug-17",
         68
        ],
        [
         "21-Aug-18",
         138
        ],
        [
         "21-Dec-15",
         130
        ],
        [
         "21-Dec-16",
         125
        ],
        [
         "21-Dec-17",
         71
        ],
        [
         "21-Dec-18",
         115
        ],
        [
         "21-Feb-15",
         21
        ],
        [
         "21-Feb-17",
         85
        ],
        [
         "21-Feb-18",
         77
        ],
        [
         "21-Feb-19",
         107
        ],
        [
         "21-Jan-15",
         5
        ],
        [
         "21-Jan-16",
         76
        ],
        [
         "21-Jan-17",
         94
        ],
        [
         "21-Jan-19",
         142
        ],
        [
         "21-Jul-15",
         80
        ],
        [
         "21-Jul-16",
         93
        ],
        [
         "21-Jul-17",
         121
        ],
        [
         "21-Jul-18",
         144
        ],
        [
         "21-Jun-16",
         97
        ],
        [
         "21-Jun-17",
         71
        ],
        [
         "21-Jun-18",
         97
        ],
        [
         "21-Mar-15",
         10
        ],
        [
         "21-Mar-16",
         133
        ],
        [
         "21-Mar-17",
         105
        ],
        [
         "21-Mar-18",
         55
        ],
        [
         "21-May-15",
         16
        ],
        [
         "21-May-16",
         63
        ],
        [
         "21-May-18",
         134
        ],
        [
         "21-Nov-15",
         84
        ],
        [
         "21-Nov-16",
         108
        ],
        [
         "21-Nov-17",
         71
        ],
        [
         "21-Nov-18",
         49
        ],
        [
         "21-Oct-15",
         97
        ],
        [
         "21-Oct-16",
         123
        ],
        [
         "21-Oct-17",
         72
        ],
        [
         "21-Sep-15",
         114
        ],
        [
         "21-Sep-16",
         65
        ],
        [
         "21-Sep-17",
         88
        ],
        [
         "21-Sep-18",
         128
        ],
        [
         "22-Apr-15",
         10
        ],
        [
         "22-Apr-16",
         180
        ],
        [
         "22-Apr-17",
         2
        ],
        [
         "22-Aug-15",
         70
        ],
        [
         "22-Aug-16",
         100
        ],
        [
         "22-Aug-17",
         301
        ],
        [
         "22-Aug-18",
         4
        ],
        [
         "22-Dec-15",
         94
        ],
        [
         "22-Dec-16",
         112
        ],
        [
         "22-Dec-17",
         98
        ],
        [
         "22-Feb-16",
         93
        ],
        [
         "22-Feb-17",
         152
        ],
        [
         "22-Feb-18",
         78
        ],
        [
         "22-Feb-19",
         92
        ],
        [
         "22-Jan-15",
         5
        ],
        [
         "22-Jan-16",
         98
        ],
        [
         "22-Jan-18",
         74
        ],
        [
         "22-Jan-19",
         89
        ],
        [
         "22-Jul-15",
         82
        ],
        [
         "22-Jul-16",
         121
        ],
        [
         "22-Jul-17",
         1
        ],
        [
         "22-Jun-15",
         33
        ],
        [
         "22-Jun-16",
         108
        ],
        [
         "22-Jun-17",
         78
        ],
        [
         "22-Jun-18",
         129
        ],
        [
         "22-Mar-16",
         128
        ],
        [
         "22-Mar-17",
         105
        ],
        [
         "22-Mar-18",
         79
        ],
        [
         "22-May-15",
         13
        ],
        [
         "22-May-17",
         82
        ],
        [
         "22-May-18",
         71
        ],
        [
         "22-Nov-16",
         108
        ],
        [
         "22-Nov-17",
         64
        ],
        [
         "22-Nov-18",
         167
        ],
        [
         "22-Oct-16",
         1
        ],
        [
         "22-Oct-18",
         101
        ],
        [
         "22-Sep-15",
         93
        ],
        [
         "22-Sep-16",
         72
        ],
        [
         "22-Sep-17",
         125
        ],
        [
         "23-Apr-15",
         10
        ],
        [
         "23-Apr-16",
         1
        ],
        [
         "23-Apr-18",
         80
        ],
        [
         "23-Aug-15",
         1
        ],
        [
         "23-Aug-16",
         75
        ],
        [
         "23-Aug-17",
         59
        ],
        [
         "23-Aug-18",
         135
        ],
        [
         "23-Dec-15",
         120
        ],
        [
         "23-Dec-16",
         143
        ],
        [
         "23-Feb-15",
         12
        ],
        [
         "23-Feb-16",
         105
        ],
        [
         "23-Feb-17",
         133
        ],
        [
         "23-Feb-18",
         119
        ],
        [
         "23-Jan-15",
         16
        ],
        [
         "23-Jan-17",
         124
        ],
        [
         "23-Jan-18",
         165
        ],
        [
         "23-Jan-19",
         95
        ],
        [
         "23-Jul-15",
         86
        ],
        [
         "23-Jul-16",
         1
        ],
        [
         "23-Jul-18",
         148
        ],
        [
         "23-Jun-15",
         21
        ],
        [
         "23-Jun-16",
         87
        ],
        [
         "23-Jun-17",
         197
        ],
        [
         "23-Jun-18",
         2
        ],
        [
         "23-Mar-15",
         6
        ],
        [
         "23-Mar-16",
         139
        ],
        [
         "23-Mar-17",
         97
        ],
        [
         "23-Mar-18",
         74
        ],
        [
         "23-May-15",
         11
        ],
        [
         "23-May-16",
         149
        ],
        [
         "23-May-17",
         63
        ],
        [
         "23-May-18",
         165
        ],
        [
         "23-Nov-15",
         108
        ],
        [
         "23-Nov-16",
         123
        ],
        [
         "23-Nov-17",
         77
        ],
        [
         "23-Nov-18",
         31
        ],
        [
         "23-Oct-15",
         110
        ],
        [
         "23-Oct-17",
         91
        ],
        [
         "23-Oct-18",
         137
        ],
        [
         "23-Sep-15",
         96
        ],
        [
         "23-Sep-16",
         127
        ],
        [
         "24-Apr-15",
         13
        ],
        [
         "24-Apr-17",
         95
        ],
        [
         "24-Apr-18",
         91
        ],
        [
         "24-Aug-15",
         108
        ],
        [
         "24-Aug-16",
         76
        ],
        [
         "24-Aug-17",
         186
        ],
        [
         "24-Aug-18",
         128
        ],
        [
         "24-Dec-15",
         72
        ],
        [
         "24-Dec-16",
         6
        ],
        [
         "24-Dec-18",
         148
        ],
        [
         "24-Feb-15",
         9
        ],
        [
         "24-Feb-16",
         94
        ],
        [
         "24-Feb-17",
         71
        ],
        [
         "24-Jan-15",
         5
        ],
        [
         "24-Jan-17",
         99
        ],
        [
         "24-Jan-18",
         107
        ],
        [
         "24-Jan-19",
         79
        ],
        [
         "24-Jul-15",
         82
        ],
        [
         "24-Jul-17",
         74
        ],
        [
         "24-Jul-18",
         98
        ],
        [
         "24-Jun-15",
         20
        ],
        [
         "24-Jun-16",
         121
        ],
        [
         "24-Jun-17",
         1
        ],
        [
         "24-Mar-15",
         13
        ],
        [
         "24-Mar-16",
         10
        ],
        [
         "24-Mar-17",
         147
        ],
        [
         "24-May-16",
         132
        ],
        [
         "24-May-17",
         76
        ],
        [
         "24-May-18",
         114
        ],
        [
         "24-Nov-15",
         108
        ],
        [
         "24-Nov-16",
         119
        ],
        [
         "24-Nov-17",
         83
        ],
        [
         "24-Oct-16",
         105
        ],
        [
         "24-Oct-17",
         114
        ],
        [
         "24-Oct-18",
         79
        ],
        [
         "24-Sep-15",
         133
        ],
        [
         "24-Sep-16",
         4
        ],
        [
         "24-Sep-17",
         1
        ],
        [
         "24-Sep-18",
         212
        ],
        [
         "25-Apr-15",
         11
        ],
        [
         "25-Apr-16",
         161
        ],
        [
         "25-Apr-17",
         64
        ],
        [
         "25-Apr-18",
         60
        ],
        [
         "25-Aug-15",
         108
        ],
        [
         "25-Aug-16",
         69
        ],
        [
         "25-Aug-17",
         33
        ],
        [
         "25-Aug-18",
         1
        ],
        [
         "25-Dec-17",
         1
        ],
        [
         "25-Dec-18",
         1
        ],
        [
         "25-Feb-15",
         9
        ],
        [
         "25-Feb-16",
         97
        ],
        [
         "25-Feb-19",
         137
        ],
        [
         "25-Jan-16",
         135
        ],
        [
         "25-Jan-17",
         114
        ],
        [
         "25-Jan-18",
         76
        ],
        [
         "25-Jan-19",
         80
        ],
        [
         "25-Jul-15",
         85
        ],
        [
         "25-Jul-16",
         146
        ],
        [
         "25-Jul-17",
         102
        ],
        [
         "25-Jul-18",
         118
        ],
        [
         "25-Jun-15",
         18
        ],
        [
         "25-Jun-18",
         126
        ],
        [
         "25-Mar-15",
         7
        ],
        [
         "25-Mar-16",
         10
        ],
        [
         "25-Mar-17",
         10
        ],
        [
         "25-May-15",
         15
        ],
        [
         "25-May-16",
         118
        ],
        [
         "25-May-17",
         64
        ],
        [
         "25-May-18",
         97
        ],
        [
         "25-Nov-15",
         21
        ],
        [
         "25-Nov-16",
         139
        ],
        [
         "25-Nov-17",
         53
        ],
        [
         "25-Oct-16",
         88
        ],
        [
         "25-Oct-17",
         76
        ],
        [
         "25-Oct-18",
         94
        ],
        [
         "25-Sep-15",
         18
        ],
        [
         "25-Sep-17",
         155
        ],
        [
         "25-Sep-18",
         130
        ],
        [
         "26-Apr-16",
         151
        ],
        [
         "26-Apr-17",
         51
        ],
        [
         "26-Apr-18",
         80
        ],
        [
         "26-Aug-15",
         89
        ],
        [
         "26-Aug-16",
         125
        ],
        [
         "26-Aug-17",
         1
        ],
        [
         "26-Dec-15",
         55
        ],
        [
         "26-Dec-16",
         106
        ],
        [
         "26-Dec-17",
         98
        ],
        [
         "26-Dec-18",
         119
        ],
        [
         "26-Feb-15",
         12
        ],
        [
         "26-Feb-16",
         111
        ],
        [
         "26-Feb-18",
         81
        ],
        [
         "26-Feb-19",
         84
        ],
        [
         "26-Jul-16",
         98
        ],
        [
         "26-Jul-17",
         49
        ],
        [
         "26-Jul-18",
         175
        ],
        [
         "26-Jun-15",
         25
        ],
        [
         "26-Jun-18",
         117
        ],
        [
         "26-Mar-15",
         12
        ],
        [
         "26-Mar-16",
         51
        ],
        [
         "26-Mar-17",
         13
        ],
        [
         "26-Mar-18",
         185
        ],
        [
         "26-May-15",
         13
        ],
        [
         "26-May-16",
         126
        ],
        [
         "26-May-17",
         95
        ],
        [
         "26-May-18",
         35
        ],
        [
         "26-Nov-15",
         91
        ],
        [
         "26-Nov-16",
         16
        ],
        [
         "26-Nov-18",
         120
        ],
        [
         "26-Oct-15",
         114
        ],
        [
         "26-Oct-16",
         84
        ],
        [
         "26-Oct-17",
         90
        ],
        [
         "26-Oct-18",
         109
        ],
        [
         "26-Sep-16",
         89
        ],
        [
         "26-Sep-17",
         87
        ],
        [
         "26-Sep-18",
         164
        ],
        [
         "27-Apr-15",
         15
        ],
        [
         "27-Apr-16",
         129
        ],
        [
         "27-Apr-17",
         64
        ],
        [
         "27-Apr-18",
         172
        ],
        [
         "27-Aug-15",
         90
        ],
        [
         "27-Aug-18",
         261
        ],
        [
         "27-Dec-16",
         103
        ],
        [
         "27-Dec-17",
         88
        ],
        [
         "27-Dec-18",
         167
        ],
        [
         "27-Feb-15",
         10
        ],
        [
         "27-Feb-16",
         1
        ],
        [
         "27-Feb-17",
         159
        ],
        [
         "27-Feb-18",
         138
        ],
        [
         "27-Feb-19",
         85
        ],
        [
         "27-Jan-15",
         12
        ],
        [
         "27-Jan-16",
         98
        ],
        [
         "27-Jan-17",
         120
        ],
        [
         "27-Jul-15",
         111
        ],
        [
         "27-Jul-16",
         82
        ],
        [
         "27-Jul-17",
         567
        ],
        [
         "27-Jul-18",
         264
        ],
        [
         "27-Jun-15",
         20
        ],
        [
         "27-Jun-16",
         135
        ],
        [
         "27-Jun-17",
         72
        ],
        [
         "27-Jun-18",
         64
        ],
        [
         "27-Mar-15",
         9
        ],
        [
         "27-Mar-17",
         143
        ],
        [
         "27-Mar-18",
         109
        ],
        [
         "27-May-15",
         15
        ],
        [
         "27-May-16",
         146
        ],
        [
         "27-Nov-15",
         122
        ],
        [
         "27-Nov-16",
         9
        ],
        [
         "27-Nov-17",
         86
        ],
        [
         "27-Nov-18",
         161
        ],
        [
         "27-Oct-15",
         110
        ],
        [
         "27-Oct-16",
         105
        ],
        [
         "27-Oct-17",
         243
        ],
        [
         "27-Oct-18",
         4
        ],
        [
         "27-Sep-16",
         62
        ],
        [
         "27-Sep-17",
         70
        ],
        [
         "27-Sep-18",
         156
        ],
        [
         "28-Apr-15",
         11
        ],
        [
         "28-Apr-16",
         115
        ],
        [
         "28-Apr-17",
         100
        ],
        [
         "28-Aug-15",
         99
        ],
        [
         "28-Aug-16",
         1
        ],
        [
         "28-Aug-17",
         93
        ],
        [
         "28-Aug-18",
         101
        ],
        [
         "28-Dec-15",
         150
        ],
        [
         "28-Dec-16",
         105
        ],
        [
         "28-Dec-17",
         202
        ],
        [
         "28-Dec-18",
         72
        ],
        [
         "28-Feb-15",
         13
        ],
        [
         "28-Feb-17",
         116
        ],
        [
         "28-Feb-18",
         86
        ],
        [
         "28-Feb-19",
         73
        ],
        [
         "28-Jan-15",
         5
        ],
        [
         "28-Jan-16",
         99
        ],
        [
         "28-Jan-17",
         2
        ],
        [
         "28-Jan-19",
         119
        ],
        [
         "28-Jul-15",
         79
        ],
        [
         "28-Jul-16",
         91
        ],
        [
         "28-Jul-17",
         93
        ],
        [
         "28-Jul-18",
         4
        ],
        [
         "28-Jun-16",
         122
        ],
        [
         "28-Jun-17",
         84
        ],
        [
         "28-Jun-18",
         138
        ],
        [
         "28-Mar-15",
         5
        ],
        [
         "28-Mar-16",
         119
        ],
        [
         "28-Mar-17",
         68
        ],
        [
         "28-Mar-18",
         75
        ],
        [
         "28-May-15",
         14
        ],
        [
         "28-May-18",
         80
        ],
        [
         "28-Nov-16",
         129
        ],
        [
         "28-Nov-17",
         100
        ],
        [
         "28-Nov-18",
         110
        ],
        [
         "28-Oct-15",
         107
        ],
        [
         "28-Oct-16",
         113
        ],
        [
         "28-Oct-17",
         1
        ],
        [
         "28-Sep-15",
         114
        ],
        [
         "28-Sep-16",
         70
        ],
        [
         "28-Sep-17",
         92
        ],
        [
         "28-Sep-18",
         155
        ],
        [
         "29-Apr-15",
         7
        ],
        [
         "29-Apr-16",
         117
        ],
        [
         "29-Apr-17",
         67
        ],
        [
         "29-Apr-18",
         10
        ],
        [
         "29-Aug-15",
         69
        ],
        [
         "29-Aug-16",
         75
        ],
        [
         "29-Aug-17",
         84
        ],
        [
         "29-Aug-18",
         101
        ],
        [
         "29-Dec-15",
         104
        ],
        [
         "29-Dec-16",
         117
        ],
        [
         "29-Dec-17",
         93
        ],
        [
         "29-Dec-18",
         71
        ],
        [
         "29-Feb-16",
         127
        ],
        [
         "29-Jan-15",
         11
        ],
        [
         "29-Jan-16",
         80
        ],
        [
         "29-Jan-17",
         1
        ],
        [
         "29-Jan-18",
         94
        ],
        [
         "29-Jan-19",
         151
        ],
        [
         "29-Jul-15",
         84
        ],
        [
         "29-Jul-16",
         81
        ],
        [
         "29-Jul-17",
         52
        ],
        [
         "29-Jun-15",
         34
        ],
        [
         "29-Jun-16",
         107
        ],
        [
         "29-Jun-17",
         81
        ],
        [
         "29-Jun-18",
         61
        ],
        [
         "29-Mar-16",
         93
        ],
        [
         "29-Mar-17",
         109
        ],
        [
         "29-Mar-18",
         37
        ],
        [
         "29-May-15",
         12
        ],
        [
         "29-May-17",
         76
        ],
        [
         "29-May-18",
         192
        ],
        [
         "29-Nov-16",
         106
        ],
        [
         "29-Nov-17",
         119
        ],
        [
         "29-Nov-18",
         78
        ],
        [
         "29-Oct-15",
         102
        ],
        [
         "29-Oct-16",
         68
        ],
        [
         "29-Oct-18",
         109
        ],
        [
         "29-Sep-15",
         105
        ],
        [
         "29-Sep-16",
         104
        ],
        [
         "29-Sep-17",
         266
        ],
        [
         "29-Sep-18",
         92
        ],
        [
         "3-Apr-15",
         1
        ],
        [
         "3-Apr-17",
         109
        ],
        [
         "3-Apr-18",
         98
        ],
        [
         "3-Aug-15",
         101
        ],
        [
         "3-Aug-16",
         99
        ],
        [
         "3-Aug-17",
         68
        ],
        [
         "3-Aug-18",
         121
        ],
        [
         "3-Dec-15",
         101
        ],
        [
         "3-Dec-16",
         86
        ],
        [
         "3-Dec-18",
         122
        ],
        [
         "3-Feb-15",
         12
        ],
        [
         "3-Feb-16",
         97
        ],
        [
         "3-Feb-17",
         108
        ],
        [
         "3-Feb-18",
         56
        ],
        [
         "3-Jan-15",
         4
        ],
        [
         "3-Jan-17",
         105
        ],
        [
         "3-Jan-18",
         70
        ],
        [
         "3-Jan-19",
         88
        ],
        [
         "3-Jul-15",
         32
        ],
        [
         "3-Jul-16",
         1
        ],
        [
         "3-Jul-17",
         63
        ],
        [
         "3-Jul-18",
         83
        ],
        [
         "3-Jun-15",
         12
        ],
        [
         "3-Jun-16",
         120
        ],
        [
         "3-Jun-17",
         48
        ],
        [
         "3-Jun-18",
         1
        ],
        [
         "3-Mar-15",
         10
        ],
        [
         "3-Mar-16",
         95
        ],
        [
         "3-Mar-17",
         104
        ],
        [
         "3-Mar-18",
         56
        ],
        [
         "3-May-16",
         105
        ],
        [
         "3-May-17",
         78
        ],
        [
         "3-May-18",
         141
        ],
        [
         "3-Nov-15",
         91
        ],
        [
         "3-Nov-16",
         94
        ],
        [
         "3-Nov-17",
         71
        ],
        [
         "3-Nov-18",
         77
        ],
        [
         "3-Oct-15",
         76
        ],
        [
         "3-Oct-16",
         95
        ],
        [
         "3-Oct-17",
         106
        ],
        [
         "3-Oct-18",
         113
        ],
        [
         "3-Sep-15",
         83
        ],
        [
         "3-Sep-16",
         86
        ],
        [
         "3-Sep-18",
         139
        ],
        [
         "30-Apr-15",
         14
        ],
        [
         "30-Apr-16",
         112
        ],
        [
         "30-Apr-17",
         4
        ],
        [
         "30-Apr-18",
         60
        ],
        [
         "30-Aug-16",
         80
        ],
        [
         "30-Aug-17",
         65
        ],
        [
         "30-Aug-18",
         99
        ],
        [
         "30-Dec-15",
         93
        ],
        [
         "30-Dec-16",
         106
        ],
        [
         "30-Dec-17",
         48
        ],
        [
         "30-Jan-15",
         13
        ],
        [
         "30-Jan-16",
         84
        ],
        [
         "30-Jan-17",
         147
        ],
        [
         "30-Jan-18",
         65
        ],
        [
         "30-Jan-19",
         83
        ],
        [
         "30-Jul-15",
         72
        ],
        [
         "30-Jul-16",
         72
        ],
        [
         "30-Jul-18",
         151
        ],
        [
         "30-Jun-15",
         25
        ],
        [
         "30-Jun-16",
         124
        ],
        [
         "30-Jun-17",
         57
        ],
        [
         "30-Jun-18",
         87
        ],
        [
         "30-Mar-15",
         8
        ],
        [
         "30-Mar-16",
         136
        ],
        [
         "30-Mar-17",
         93
        ],
        [
         "30-Mar-18",
         8
        ],
        [
         "30-May-15",
         10
        ],
        [
         "30-May-16",
         140
        ],
        [
         "30-May-17",
         72
        ],
        [
         "30-May-18",
         91
        ],
        [
         "30-Nov-15",
         126
        ],
        [
         "30-Nov-16",
         119
        ],
        [
         "30-Nov-17",
         84
        ],
        [
         "30-Nov-18",
         80
        ],
        [
         "30-Oct-15",
         58
        ],
        [
         "30-Oct-17",
         96
        ],
        [
         "30-Oct-18",
         176
        ],
        [
         "30-Sep-15",
         92
        ],
        [
         "30-Sep-16",
         116
        ],
        [
         "30-Sep-17",
         4
        ],
        [
         "30-Sep-18",
         3
        ],
        [
         "31-Aug-15",
         91
        ],
        [
         "31-Aug-16",
         74
        ],
        [
         "31-Aug-17",
         76
        ],
        [
         "31-Aug-18",
         105
        ],
        [
         "31-Dec-15",
         100
        ],
        [
         "31-Dec-16",
         102
        ],
        [
         "31-Dec-17",
         6
        ],
        [
         "31-Dec-18",
         123
        ],
        [
         "31-Jan-15",
         4
        ],
        [
         "31-Jan-16",
         3
        ],
        [
         "31-Jan-17",
         89
        ],
        [
         "31-Jan-18",
         239
        ],
        [
         "31-Jan-19",
         99
        ],
        [
         "31-Jul-15",
         72
        ],
        [
         "31-Jul-16",
         2
        ],
        [
         "31-Jul-17",
         83
        ],
        [
         "31-Jul-18",
         176
        ],
        [
         "31-Mar-15",
         8
        ],
        [
         "31-Mar-16",
         124
        ],
        [
         "31-Mar-17",
         118
        ],
        [
         "31-Mar-18",
         109
        ],
        [
         "31-May-16",
         112
        ],
        [
         "31-May-17",
         72
        ],
        [
         "31-May-18",
         132
        ],
        [
         "31-Oct-15",
         84
        ],
        [
         "31-Oct-16",
         41
        ],
        [
         "31-Oct-17",
         75
        ],
        [
         "31-Oct-18",
         102
        ],
        [
         "4-Apr-15",
         15
        ],
        [
         "4-Apr-16",
         138
        ],
        [
         "4-Apr-17",
         54
        ],
        [
         "4-Apr-18",
         154
        ],
        [
         "4-Aug-15",
         92
        ],
        [
         "4-Aug-16",
         94
        ],
        [
         "4-Aug-17",
         284
        ],
        [
         "4-Aug-18",
         79
        ],
        [
         "4-Dec-15",
         94
        ],
        [
         "4-Dec-16",
         6
        ],
        [
         "4-Dec-17",
         117
        ],
        [
         "4-Dec-18",
         81
        ],
        [
         "4-Feb-15",
         13
        ],
        [
         "4-Feb-16",
         90
        ],
        [
         "4-Feb-17",
         72
        ],
        [
         "4-Feb-19",
         97
        ],
        [
         "4-Jan-16",
         120
        ],
        [
         "4-Jan-17",
         94
        ],
        [
         "4-Jan-18",
         60
        ],
        [
         "4-Jan-19",
         96
        ],
        [
         "4-Jul-15",
         30
        ],
        [
         "4-Jul-16",
         143
        ],
        [
         "4-Jul-17",
         206
        ],
        [
         "4-Jul-18",
         115
        ],
        [
         "4-Jun-15",
         15
        ],
        [
         "4-Jun-16",
         101
        ],
        [
         "4-Jun-17",
         1
        ],
        [
         "4-Jun-18",
         111
        ],
        [
         "4-Mar-15",
         10
        ],
        [
         "4-Mar-16",
         95
        ],
        [
         "4-Mar-17",
         82
        ],
        [
         "4-Mar-19",
         51
        ],
        [
         "4-May-15",
         5
        ],
        [
         "4-May-16",
         110
        ],
        [
         "4-May-17",
         120
        ],
        [
         "4-May-18",
         92
        ],
        [
         "4-Nov-15",
         83
        ],
        [
         "4-Nov-16",
         95
        ],
        [
         "4-Nov-17",
         14
        ],
        [
         "4-Nov-18",
         2
        ],
        [
         "4-Oct-16",
         69
        ],
        [
         "4-Oct-17",
         70
        ],
        [
         "4-Oct-18",
         119
        ],
        [
         "4-Sep-15",
         101
        ],
        [
         "4-Sep-16",
         1
        ],
        [
         "4-Sep-17",
         99
        ],
        [
         "4-Sep-18",
         119
        ],
        [
         "5-Apr-16",
         115
        ],
        [
         "5-Apr-17",
         117
        ],
        [
         "5-Apr-18",
         82
        ],
        [
         "5-Aug-15",
         80
        ],
        [
         "5-Aug-16",
         86
        ],
        [
         "5-Aug-17",
         55
        ],
        [
         "5-Dec-15",
         82
        ],
        [
         "5-Dec-16",
         116
        ],
        [
         "5-Dec-17",
         218
        ],
        [
         "5-Dec-18",
         74
        ],
        [
         "5-Feb-15",
         9
        ],
        [
         "5-Feb-16",
         98
        ],
        [
         "5-Feb-18",
         39
        ],
        [
         "5-Feb-19",
         90
        ],
        [
         "5-Jan-15",
         12
        ],
        [
         "5-Jan-16",
         91
        ],
        [
         "5-Jan-17",
         113
        ],
        [
         "5-Jan-18",
         73
        ],
        [
         "5-Jan-19",
         68
        ],
        [
         "5-Jul-16",
         124
        ],
        [
         "5-Jul-17",
         75
        ],
        [
         "5-Jul-18",
         133
        ],
        [
         "5-Jun-15",
         15
        ],
        [
         "5-Jun-17",
         64
        ],
        [
         "5-Jun-18",
         84
        ],
        [
         "5-Mar-15",
         9
        ],
        [
         "5-Mar-16",
         89
        ],
        [
         "5-Mar-18",
         63
        ],
        [
         "5-Mar-19",
         111
        ],
        [
         "5-May-15",
         17
        ],
        [
         "5-May-16",
         139
        ],
        [
         "5-May-17",
         75
        ],
        [
         "5-May-18",
         72
        ],
        [
         "5-Nov-15",
         91
        ],
        [
         "5-Nov-16",
         99
        ],
        [
         "5-Nov-18",
         91
        ],
        [
         "5-Oct-15",
         95
        ],
        [
         "5-Oct-16",
         78
        ],
        [
         "5-Oct-17",
         63
        ],
        [
         "5-Oct-18",
         132
        ],
        [
         "5-Sep-15",
         60
        ],
        [
         "5-Sep-16",
         53
        ],
        [
         "5-Sep-17",
         80
        ],
        [
         "5-Sep-18",
         101
        ],
        [
         "6-Apr-15",
         8
        ],
        [
         "6-Apr-16",
         114
        ],
        [
         "6-Apr-17",
         76
        ],
        [
         "6-Apr-18",
         69
        ],
        [
         "6-Aug-15",
         84
        ],
        [
         "6-Aug-16",
         91
        ],
        [
         "6-Aug-18",
         134
        ],
        [
         "6-Dec-16",
         86
        ],
        [
         "6-Dec-17",
         78
        ],
        [
         "6-Dec-18",
         66
        ],
        [
         "6-Feb-15",
         14
        ],
        [
         "6-Feb-16",
         76
        ],
        [
         "6-Feb-17",
         100
        ],
        [
         "6-Feb-18",
         72
        ],
        [
         "6-Feb-19",
         67
        ],
        [
         "6-Jan-15",
         6
        ],
        [
         "6-Jan-16",
         101
        ],
        [
         "6-Jan-17",
         111
        ],
        [
         "6-Jan-18",
         38
        ],
        [
         "6-Jul-15",
         33
        ],
        [
         "6-Jul-16",
         115
        ],
        [
         "6-Jul-17",
         72
        ],
        [
         "6-Jul-18",
         99
        ],
        [
         "6-Jun-15",
         13
        ],
        [
         "6-Jun-16",
         116
        ],
        [
         "6-Jun-17",
         78
        ],
        [
         "6-Jun-18",
         84
        ],
        [
         "6-Mar-17",
         127
        ],
        [
         "6-Mar-18",
         63
        ],
        [
         "6-May-15",
         12
        ],
        [
         "6-May-16",
         112
        ],
        [
         "6-May-17",
         50
        ],
        [
         "6-May-18",
         1
        ],
        [
         "6-Nov-15",
         90
        ],
        [
         "6-Nov-17",
         90
        ],
        [
         "6-Nov-18",
         104
        ],
        [
         "6-Oct-15",
         90
        ],
        [
         "6-Oct-16",
         74
        ],
        [
         "6-Oct-17",
         82
        ],
        [
         "6-Oct-18",
         181
        ],
        [
         "6-Sep-15",
         2
        ],
        [
         "6-Sep-16",
         99
        ],
        [
         "6-Sep-17",
         86
        ],
        [
         "6-Sep-18",
         109
        ],
        [
         "7-Apr-15",
         16
        ],
        [
         "7-Apr-16",
         131
        ],
        [
         "7-Apr-17",
         111
        ],
        [
         "7-Apr-18",
         291
        ],
        [
         "7-Aug-15",
         100
        ],
        [
         "7-Aug-16",
         1
        ],
        [
         "7-Aug-17",
         64
        ],
        [
         "7-Aug-18",
         58
        ],
        [
         "7-Dec-15",
         134
        ],
        [
         "7-Dec-16",
         88
        ],
        [
         "7-Dec-17",
         69
        ],
        [
         "7-Dec-18",
         113
        ],
        [
         "7-Feb-15",
         1
        ],
        [
         "7-Feb-17",
         105
        ],
        [
         "7-Feb-18",
         62
        ],
        [
         "7-Feb-19",
         98
        ],
        [
         "7-Jan-15",
         4
        ],
        [
         "7-Jan-16",
         84
        ],
        [
         "7-Jan-17",
         77
        ],
        [
         "7-Jan-18",
         1
        ],
        [
         "7-Jan-19",
         77
        ],
        [
         "7-Jul-15",
         33
        ],
        [
         "7-Jul-16",
         27
        ],
        [
         "7-Jul-17",
         80
        ],
        [
         "7-Jul-18",
         80
        ],
        [
         "7-Jun-16",
         103
        ],
        [
         "7-Jun-17",
         66
        ],
        [
         "7-Jun-18",
         262
        ],
        [
         "7-Mar-15",
         11
        ],
        [
         "7-Mar-16",
         66
        ],
        [
         "7-Mar-17",
         128
        ],
        [
         "7-Mar-18",
         319
        ],
        [
         "7-May-15",
         16
        ],
        [
         "7-May-16",
         109
        ],
        [
         "7-May-18",
         80
        ],
        [
         "7-Nov-15",
         100
        ],
        [
         "7-Nov-16",
         128
        ],
        [
         "7-Nov-17",
         91
        ],
        [
         "7-Nov-18",
         158
        ],
        [
         "7-Oct-15",
         86
        ],
        [
         "7-Oct-16",
         110
        ],
        [
         "7-Oct-17",
         382
        ],
        [
         "7-Sep-15",
         110
        ],
        [
         "7-Sep-16",
         97
        ],
        [
         "7-Sep-17",
         94
        ],
        [
         "7-Sep-18",
         96
        ],
        [
         "8-Apr-15",
         7
        ],
        [
         "8-Apr-16",
         161
        ],
        [
         "8-Apr-17",
         3
        ],
        [
         "8-Aug-15",
         92
        ],
        [
         "8-Aug-16",
         97
        ],
        [
         "8-Aug-17",
         48
        ],
        [
         "8-Aug-18",
         174
        ],
        [
         "8-Dec-15",
         112
        ],
        [
         "8-Dec-16",
         91
        ],
        [
         "8-Dec-17",
         135
        ],
        [
         "8-Dec-18",
         1
        ],
        [
         "8-Feb-16",
         129
        ],
        [
         "8-Feb-17",
         97
        ],
        [
         "8-Feb-18",
         76
        ],
        [
         "8-Feb-19",
         144
        ],
        [
         "8-Jan-15",
         4
        ],
        [
         "8-Jan-16",
         115
        ],
        [
         "8-Jan-18",
         95
        ],
        [
         "8-Jan-19",
         150
        ],
        [
         "8-Jul-15",
         38
        ],
        [
         "8-Jul-16",
         114
        ],
        [
         "8-Jul-18",
         7
        ],
        [
         "8-Jun-15",
         21
        ],
        [
         "8-Jun-16",
         103
        ],
        [
         "8-Jun-17",
         70
        ],
        [
         "8-Jun-18",
         223
        ],
        [
         "8-Mar-16",
         121
        ],
        [
         "8-Mar-17",
         113
        ],
        [
         "8-Mar-18",
         58
        ],
        [
         "8-May-15",
         15
        ],
        [
         "8-May-17",
         163
        ],
        [
         "8-May-18",
         282
        ],
        [
         "8-Nov-15",
         4
        ],
        [
         "8-Nov-16",
         107
        ],
        [
         "8-Nov-17",
         402
        ],
        [
         "8-Nov-18",
         37
        ],
        [
         "8-Oct-15",
         97
        ],
        [
         "8-Oct-16",
         5
        ],
        [
         "8-Oct-18",
         108
        ],
        [
         "8-Sep-15",
         93
        ],
        [
         "8-Sep-16",
         93
        ],
        [
         "8-Sep-17",
         187
        ],
        [
         "8-Sep-18",
         2
        ],
        [
         "9-Apr-15",
         11
        ],
        [
         "9-Apr-18",
         90
        ],
        [
         "9-Aug-16",
         90
        ],
        [
         "9-Aug-17",
         92
        ],
        [
         "9-Aug-18",
         360
        ],
        [
         "9-Dec-15",
         93
        ],
        [
         "9-Dec-16",
         132
        ],
        [
         "9-Dec-17",
         1
        ],
        [
         "9-Feb-15",
         10
        ],
        [
         "9-Feb-16",
         100
        ],
        [
         "9-Feb-17",
         113
        ],
        [
         "9-Feb-18",
         252
        ],
        [
         "9-Feb-19",
         1
        ],
        [
         "9-Jan-15",
         4
        ],
        [
         "9-Jan-17",
         141
        ],
        [
         "9-Jan-18",
         299
        ],
        [
         "9-Jan-19",
         130
        ],
        [
         "9-Jul-15",
         26
        ],
        [
         "9-Jul-17",
         1
        ],
        [
         "9-Jul-18",
         292
        ],
        [
         "9-Jun-15",
         20
        ],
        [
         "9-Jun-16",
         102
        ],
        [
         "9-Jun-17",
         71
        ],
        [
         "9-Mar-15",
         8
        ],
        [
         "9-Mar-16",
         101
        ],
        [
         "9-Mar-17",
         97
        ],
        [
         "9-Mar-18",
         71
        ],
        [
         "9-May-15",
         14
        ],
        [
         "9-May-16",
         159
        ],
        [
         "9-May-17",
         73
        ],
        [
         "9-May-18",
         108
        ],
        [
         "9-Nov-15",
         152
        ],
        [
         "9-Nov-16",
         39
        ],
        [
         "9-Nov-17",
         91
        ],
        [
         "9-Nov-18",
         290
        ],
        [
         "9-Oct-15",
         101
        ],
        [
         "9-Oct-16",
         1
        ],
        [
         "9-Oct-17",
         83
        ],
        [
         "9-Oct-18",
         297
        ],
        [
         "9-Sep-15",
         91
        ],
        [
         "9-Sep-16",
         124
        ]
       ],
       "datasetInfos": [
        {
         "name": "_sqldf",
         "schema": {
          "fields": [
           {
            "metadata": {},
            "name": "VALUE DATE",
            "nullable": true,
            "type": "string"
           },
           {
            "metadata": {},
            "name": "transaction_count",
            "nullable": false,
            "type": "long"
           }
          ],
          "type": "struct"
         },
         "tableIdentifier": null,
         "typeStr": "pyspark.sql.connect.dataframe.DataFrame"
        }
       ],
       "dbfsResultPath": null,
       "isJsonSchema": true,
       "metadata": {
        "createTempViewForImplicitDf": true,
        "dataframeName": "_sqldf",
        "executionCount": 29
       },
       "overflow": false,
       "plotOptions": {
        "customPlotOptions": {},
        "displayType": "table",
        "pivotAggregation": null,
        "pivotColumns": null,
        "xColumns": null,
        "yColumns": null
       },
       "removedWidgets": [],
       "schema": [
        {
         "metadata": "{}",
         "name": "VALUE DATE",
         "type": "\"string\""
        },
        {
         "metadata": "{}",
         "name": "transaction_count",
         "type": "\"long\""
        }
       ],
       "type": "table"
      }
     },
     "output_type": "display_data"
    }
   ],
   "source": [
    "%sql\n",
    "SELECT `VALUE DATE`, COUNT(*) AS transaction_count\n",
    "FROM transaction\n",
    "GROUP BY `VALUE DATE`\n",
    "ORDER BY `VALUE DATE`\n"
   ]
  },
  {
   "cell_type": "markdown",
   "metadata": {
    "application/vnd.databricks.v1+cell": {
     "cellMetadata": {},
     "inputWidgets": {},
     "nuid": "b197136e-a747-4672-a921-280b24b79bf1",
     "showTitle": false,
     "tableResultSettingsMap": {},
     "title": ""
    }
   },
   "source": [
    "7. Customers with withdrawal amount more than 1 lakh"
   ]
  },
  {
   "cell_type": "code",
   "execution_count": 0,
   "metadata": {
    "application/vnd.databricks.v1+cell": {
     "cellMetadata": {
      "byteLimit": 2048000,
      "implicitDf": true,
      "rowLimit": 10000
     },
     "inputWidgets": {},
     "nuid": "ba1ba71e-74a0-4755-8d9a-7a688a158e48",
     "showTitle": false,
     "tableResultSettingsMap": {},
     "title": ""
    }
   },
   "outputs": [
    {
     "output_type": "display_data",
     "data": {
      "text/html": [
       "<style scoped>\n",
       "  .table-result-container {\n",
       "    max-height: 300px;\n",
       "    overflow: auto;\n",
       "  }\n",
       "  table, th, td {\n",
       "    border: 1px solid black;\n",
       "    border-collapse: collapse;\n",
       "  }\n",
       "  th, td {\n",
       "    padding: 5px;\n",
       "  }\n",
       "  th {\n",
       "    text-align: left;\n",
       "  }\n",
       "</style><div class='table-result-container'><table class='table-result'><thead style='background-color: white'><tr><th>Account No</th></tr></thead><tbody><tr><td>409000611074'</td></tr><tr><td>409000438620'</td></tr><tr><td>409000493201'</td></tr><tr><td>409000425051'</td></tr><tr><td>409000493210'</td></tr><tr><td>409000438611'</td></tr><tr><td>409000405747'</td></tr><tr><td>1196711'</td></tr><tr><td>1196428'</td></tr><tr><td>409000362497'</td></tr></tbody></table></div>"
      ]
     },
     "metadata": {
      "application/vnd.databricks.v1+output": {
       "addedWidgets": {},
       "aggData": [],
       "aggError": "",
       "aggOverflow": false,
       "aggSchema": [],
       "aggSeriesLimitReached": false,
       "aggType": "",
       "arguments": {},
       "columnCustomDisplayInfos": {},
       "data": [
        [
         "409000611074'"
        ],
        [
         "409000438620'"
        ],
        [
         "409000493201'"
        ],
        [
         "409000425051'"
        ],
        [
         "409000493210'"
        ],
        [
         "409000438611'"
        ],
        [
         "409000405747'"
        ],
        [
         "1196711'"
        ],
        [
         "1196428'"
        ],
        [
         "409000362497'"
        ]
       ],
       "datasetInfos": [
        {
         "name": "_sqldf",
         "schema": {
          "fields": [
           {
            "metadata": {},
            "name": "Account No",
            "nullable": true,
            "type": "string"
           }
          ],
          "type": "struct"
         },
         "tableIdentifier": null,
         "typeStr": "pyspark.sql.connect.dataframe.DataFrame"
        }
       ],
       "dbfsResultPath": null,
       "isJsonSchema": true,
       "metadata": {
        "createTempViewForImplicitDf": true,
        "dataframeName": "_sqldf",
        "executionCount": 30
       },
       "overflow": false,
       "plotOptions": {
        "customPlotOptions": {},
        "displayType": "table",
        "pivotAggregation": null,
        "pivotColumns": null,
        "xColumns": null,
        "yColumns": null
       },
       "removedWidgets": [],
       "schema": [
        {
         "metadata": "{}",
         "name": "Account No",
         "type": "\"string\""
        }
       ],
       "type": "table"
      }
     },
     "output_type": "display_data"
    }
   ],
   "source": [
    "%sql\n",
    "SELECT DISTINCT `Account No`\n",
    "FROM transaction\n",
    "WHERE CAST(` WITHDRAWAL AMT ` AS DOUBLE) > 100000\n"
   ]
  }
 ],
 "metadata": {
  "application/vnd.databricks.v1+notebook": {
   "computePreferences": null,
   "dashboards": [],
   "environmentMetadata": {
    "base_environment": "",
    "environment_version": "2"
   },
   "inputWidgetPreferences": null,
   "language": "python",
   "notebookMetadata": {
    "mostRecentlyExecutedCommandWithImplicitDF": {
     "commandId": 6657285763520042,
     "dataframes": [
      "_sqldf"
     ]
    },
    "pythonIndentUnit": 4
   },
   "notebookName": "Loan_PySpark",
   "widgets": {}
  },
  "language_info": {
   "name": "python"
  }
 },
 "nbformat": 4,
 "nbformat_minor": 0
}