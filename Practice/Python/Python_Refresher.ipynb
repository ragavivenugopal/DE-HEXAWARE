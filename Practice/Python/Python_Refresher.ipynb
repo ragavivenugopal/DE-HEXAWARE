{
  "nbformat": 4,
  "nbformat_minor": 0,
  "metadata": {
    "colab": {
      "provenance": []
    },
    "kernelspec": {
      "name": "python3",
      "display_name": "Python 3"
    },
    "language_info": {
      "name": "python"
    }
  },
  "cells": [
    {
      "cell_type": "markdown",
      "source": [
        "## Python Refresher"
      ],
      "metadata": {
        "id": "Eu48Z_uAB6SK"
      }
    },
    {
      "cell_type": "markdown",
      "source": [
        "Keywords & Identifiers"
      ],
      "metadata": {
        "id": "qrvgqMUNB-8q"
      }
    },
    {
      "cell_type": "code",
      "execution_count": 1,
      "metadata": {
        "colab": {
          "base_uri": "https://localhost:8080/"
        },
        "id": "Nh6qLVpZB2IS",
        "outputId": "eb21972a-89e3-4cc3-cd34-5325f2ad55b5"
      },
      "outputs": [
        {
          "output_type": "stream",
          "name": "stdout",
          "text": [
            "Python Keywords: ['False', 'None', 'True', 'and', 'as', 'assert', 'async', 'await', 'break', 'class', 'continue', 'def', 'del', 'elif', 'else', 'except', 'finally', 'for', 'from', 'global', 'if', 'import', 'in', 'is', 'lambda', 'nonlocal', 'not', 'or', 'pass', 'raise', 'return', 'try', 'while', 'with', 'yield']\n"
          ]
        }
      ],
      "source": [
        "import keyword\n",
        "print(\"Python Keywords:\", keyword.kwlist)"
      ]
    },
    {
      "cell_type": "markdown",
      "source": [
        " Variables & Operators"
      ],
      "metadata": {
        "id": "AUBDgVl1CGNw"
      }
    },
    {
      "cell_type": "code",
      "source": [
        "# Practice: Chaining multiple operators\n",
        "a = 10\n",
        "b = 20\n",
        "c = 30\n",
        "print(a < b < c)  # Should return True\n",
        "\n",
        "# Bitwise operations\n",
        "x, y = 5, 3\n",
        "print(\"Bitwise AND:\", x & y)\n",
        "print(\"Bitwise OR:\", x | y)"
      ],
      "metadata": {
        "colab": {
          "base_uri": "https://localhost:8080/"
        },
        "id": "iqGFzhsYCH2Y",
        "outputId": "a5e64ac0-f7f0-4b57-d8ee-cfaff83a00d1"
      },
      "execution_count": 2,
      "outputs": [
        {
          "output_type": "stream",
          "name": "stdout",
          "text": [
            "True\n",
            "Bitwise AND: 1\n",
            "Bitwise OR: 7\n"
          ]
        }
      ]
    },
    {
      "cell_type": "markdown",
      "source": [
        "Data Types - Numeric, Sequence, Boolean"
      ],
      "metadata": {
        "id": "I2K03ohJCLN2"
      }
    },
    {
      "cell_type": "code",
      "source": [
        "# Check type dynamically and convert between them\n",
        "data = [12, 4.5, True, complex(2, 3), \"34\"]\n",
        "converted = [int(str(i).strip(\"True\")) if str(i).isdigit() else i for i in data]\n",
        "print(converted)"
      ],
      "metadata": {
        "colab": {
          "base_uri": "https://localhost:8080/"
        },
        "id": "mnJFM5QbCNql",
        "outputId": "a3b11f4e-1c85-4c63-f78c-240f7871d3d6"
      },
      "execution_count": 3,
      "outputs": [
        {
          "output_type": "stream",
          "name": "stdout",
          "text": [
            "[12, 4.5, True, (2+3j), 34]\n"
          ]
        }
      ]
    },
    {
      "cell_type": "markdown",
      "source": [
        "If, If-Else, If-Elif-Else"
      ],
      "metadata": {
        "id": "6ri28yLTCQtO"
      }
    },
    {
      "cell_type": "code",
      "source": [
        "# Grade system\n",
        "score = 87\n",
        "if score >= 90:\n",
        "    grade = 'A'\n",
        "elif score >= 80:\n",
        "    grade = 'B'\n",
        "elif score >= 70:\n",
        "    grade = 'C'\n",
        "else:\n",
        "    grade = 'D'\n",
        "print(\"Grade:\", grade)"
      ],
      "metadata": {
        "colab": {
          "base_uri": "https://localhost:8080/"
        },
        "id": "K2cwoknrCSMw",
        "outputId": "ebd38d43-c755-4593-d8c6-eda8405511d5"
      },
      "execution_count": 4,
      "outputs": [
        {
          "output_type": "stream",
          "name": "stdout",
          "text": [
            "Grade: B\n"
          ]
        }
      ]
    },
    {
      "cell_type": "markdown",
      "source": [
        "Control Structure - Loops"
      ],
      "metadata": {
        "id": "IdwH6fNDCWAl"
      }
    },
    {
      "cell_type": "code",
      "source": [
        "# Nested Loop: Multiplication table with skipping 5\n",
        "for i in range(1, 11):\n",
        "    for j in range(1, 11):\n",
        "        if j == 5:\n",
        "            continue\n",
        "        print(f\"{i} x {j} = {i*j}\", end=\"\\t\")\n",
        "    print()"
      ],
      "metadata": {
        "colab": {
          "base_uri": "https://localhost:8080/"
        },
        "id": "YWeO8YndCYaM",
        "outputId": "b5dc12e7-0caa-41c6-e4c2-f168be022e16"
      },
      "execution_count": 5,
      "outputs": [
        {
          "output_type": "stream",
          "name": "stdout",
          "text": [
            "1 x 1 = 1\t1 x 2 = 2\t1 x 3 = 3\t1 x 4 = 4\t1 x 6 = 6\t1 x 7 = 7\t1 x 8 = 8\t1 x 9 = 9\t1 x 10 = 10\t\n",
            "2 x 1 = 2\t2 x 2 = 4\t2 x 3 = 6\t2 x 4 = 8\t2 x 6 = 12\t2 x 7 = 14\t2 x 8 = 16\t2 x 9 = 18\t2 x 10 = 20\t\n",
            "3 x 1 = 3\t3 x 2 = 6\t3 x 3 = 9\t3 x 4 = 12\t3 x 6 = 18\t3 x 7 = 21\t3 x 8 = 24\t3 x 9 = 27\t3 x 10 = 30\t\n",
            "4 x 1 = 4\t4 x 2 = 8\t4 x 3 = 12\t4 x 4 = 16\t4 x 6 = 24\t4 x 7 = 28\t4 x 8 = 32\t4 x 9 = 36\t4 x 10 = 40\t\n",
            "5 x 1 = 5\t5 x 2 = 10\t5 x 3 = 15\t5 x 4 = 20\t5 x 6 = 30\t5 x 7 = 35\t5 x 8 = 40\t5 x 9 = 45\t5 x 10 = 50\t\n",
            "6 x 1 = 6\t6 x 2 = 12\t6 x 3 = 18\t6 x 4 = 24\t6 x 6 = 36\t6 x 7 = 42\t6 x 8 = 48\t6 x 9 = 54\t6 x 10 = 60\t\n",
            "7 x 1 = 7\t7 x 2 = 14\t7 x 3 = 21\t7 x 4 = 28\t7 x 6 = 42\t7 x 7 = 49\t7 x 8 = 56\t7 x 9 = 63\t7 x 10 = 70\t\n",
            "8 x 1 = 8\t8 x 2 = 16\t8 x 3 = 24\t8 x 4 = 32\t8 x 6 = 48\t8 x 7 = 56\t8 x 8 = 64\t8 x 9 = 72\t8 x 10 = 80\t\n",
            "9 x 1 = 9\t9 x 2 = 18\t9 x 3 = 27\t9 x 4 = 36\t9 x 6 = 54\t9 x 7 = 63\t9 x 8 = 72\t9 x 9 = 81\t9 x 10 = 90\t\n",
            "10 x 1 = 10\t10 x 2 = 20\t10 x 3 = 30\t10 x 4 = 40\t10 x 6 = 60\t10 x 7 = 70\t10 x 8 = 80\t10 x 9 = 90\t10 x 10 = 100\t\n"
          ]
        }
      ]
    },
    {
      "cell_type": "markdown",
      "source": [
        "Break, Continue, Pass"
      ],
      "metadata": {
        "id": "EyxMYWOfCbVV"
      }
    },
    {
      "cell_type": "code",
      "source": [
        "# Prime number finder with break and pass\n",
        "for num in range(10, 20):\n",
        "    for i in range(2, num):\n",
        "        if num % i == 0:\n",
        "            break\n",
        "    else:\n",
        "        print(f\"{num} is Prime\")"
      ],
      "metadata": {
        "colab": {
          "base_uri": "https://localhost:8080/"
        },
        "id": "PKfY9O2_CcjM",
        "outputId": "082d3ef7-dedf-4d3c-a5f8-7437fe23e6be"
      },
      "execution_count": 6,
      "outputs": [
        {
          "output_type": "stream",
          "name": "stdout",
          "text": [
            "11 is Prime\n",
            "13 is Prime\n",
            "17 is Prime\n",
            "19 is Prime\n"
          ]
        }
      ]
    },
    {
      "cell_type": "markdown",
      "source": [
        "Input and Output"
      ],
      "metadata": {
        "id": "bFNPlnzVCe7g"
      }
    },
    {
      "cell_type": "code",
      "source": [
        "# Input two numbers and display their GCD\n",
        "import math\n",
        "a = int(input(\"Enter a: \"))\n",
        "b = int(input(\"Enter b: \"))\n",
        "print(f\"GCD of {a} and {b} is {math.gcd(a, b)}\")"
      ],
      "metadata": {
        "colab": {
          "base_uri": "https://localhost:8080/"
        },
        "id": "tdZ7wlzCCgaq",
        "outputId": "3138d13a-4318-44bb-9bf0-6bc0b766976e"
      },
      "execution_count": 7,
      "outputs": [
        {
          "output_type": "stream",
          "name": "stdout",
          "text": [
            "Enter a: 5\n",
            "Enter b: 6\n",
            "GCD of 5 and 6 is 1\n"
          ]
        }
      ]
    },
    {
      "cell_type": "markdown",
      "source": [
        "Lists - Methods and Slicing"
      ],
      "metadata": {
        "id": "Jj3-xNyzCl_2"
      }
    },
    {
      "cell_type": "code",
      "source": [
        "# Remove duplicates and sort using list methods\n",
        "data = [5, 1, 2, 5, 6, 2, 9]\n",
        "unique_sorted = sorted(list(set(data)))\n",
        "print(\"Unique & Sorted:\", unique_sorted)"
      ],
      "metadata": {
        "colab": {
          "base_uri": "https://localhost:8080/"
        },
        "id": "h7ehJu-bCoIG",
        "outputId": "626a4781-53cf-465f-bcef-8c0430cf30f2"
      },
      "execution_count": 8,
      "outputs": [
        {
          "output_type": "stream",
          "name": "stdout",
          "text": [
            "Unique & Sorted: [1, 2, 5, 6, 9]\n"
          ]
        }
      ]
    },
    {
      "cell_type": "markdown",
      "source": [
        "Dictionaries - Methods"
      ],
      "metadata": {
        "id": "Mkic6QxrCqe0"
      }
    },
    {
      "cell_type": "code",
      "source": [
        "# Merge two dicts with dictionary comprehension\n",
        "d1 = {'a': 1, 'b': 2}\n",
        "d2 = {'b': 3, 'c': 4}\n",
        "merged = {k: d2.get(k, d1.get(k)) for k in set(d1) | set(d2)}\n",
        "print(\"Merged Dict:\", merged)"
      ],
      "metadata": {
        "colab": {
          "base_uri": "https://localhost:8080/"
        },
        "id": "wEqe9YiLCsaI",
        "outputId": "ca3543e8-c931-42e3-89e7-2a189e77ad0e"
      },
      "execution_count": 9,
      "outputs": [
        {
          "output_type": "stream",
          "name": "stdout",
          "text": [
            "Merged Dict: {'b': 3, 'a': 1, 'c': 4}\n"
          ]
        }
      ]
    },
    {
      "cell_type": "markdown",
      "source": [
        "Sets - Methods"
      ],
      "metadata": {
        "id": "BdWSKY2wCupz"
      }
    },
    {
      "cell_type": "code",
      "source": [
        "# Set operations: intersection and difference\n",
        "set1 = {1, 2, 3, 4}\n",
        "set2 = {3, 4, 5}\n",
        "print(\"Intersection:\", set1 & set2)\n",
        "print(\"Difference:\", set1 - set2)"
      ],
      "metadata": {
        "colab": {
          "base_uri": "https://localhost:8080/"
        },
        "id": "gYoobhavCwsw",
        "outputId": "493c7bf7-89d1-450e-db3b-5ef8886d55b1"
      },
      "execution_count": 10,
      "outputs": [
        {
          "output_type": "stream",
          "name": "stdout",
          "text": [
            "Intersection: {3, 4}\n",
            "Difference: {1, 2}\n"
          ]
        }
      ]
    },
    {
      "cell_type": "markdown",
      "source": [
        "Map Function & Mapping"
      ],
      "metadata": {
        "id": "cqDzO2bCCy20"
      }
    },
    {
      "cell_type": "code",
      "source": [
        "# Square of numbers using map\n",
        "nums = [1, 2, 3, 4]\n",
        "squared = list(map(lambda x: x**2, nums))\n",
        "print(\"Squared:\", squared)"
      ],
      "metadata": {
        "colab": {
          "base_uri": "https://localhost:8080/"
        },
        "id": "CKzaZravCz5I",
        "outputId": "bc6ff3f0-07d4-4f40-d645-a06f6eeb71db"
      },
      "execution_count": 11,
      "outputs": [
        {
          "output_type": "stream",
          "name": "stdout",
          "text": [
            "Squared: [1, 4, 9, 16]\n"
          ]
        }
      ]
    },
    {
      "cell_type": "markdown",
      "source": [
        "String Functions"
      ],
      "metadata": {
        "id": "xOeNOAUMC2RG"
      }
    },
    {
      "cell_type": "code",
      "source": [
        "# Count character frequency using dict\n",
        "s = \"banana\"\n",
        "freq = {char: s.count(char) for char in set(s)}\n",
        "print(freq)"
      ],
      "metadata": {
        "colab": {
          "base_uri": "https://localhost:8080/"
        },
        "id": "nEXPfd1tC3VQ",
        "outputId": "fbcbedac-f536-42c5-e450-b42688f36dd0"
      },
      "execution_count": 12,
      "outputs": [
        {
          "output_type": "stream",
          "name": "stdout",
          "text": [
            "{'b': 1, 'a': 3, 'n': 2}\n"
          ]
        }
      ]
    },
    {
      "cell_type": "markdown",
      "source": [
        "Number Functions"
      ],
      "metadata": {
        "id": "t9DufP75C5qv"
      }
    },
    {
      "cell_type": "code",
      "source": [
        "# Check for Armstrong numbers\n",
        "for num in range(100, 1000):\n",
        "    digits = [int(x) for x in str(num)]\n",
        "    if sum([d**3 for d in digits]) == num:\n",
        "        print(f\"{num} is an Armstrong number\")"
      ],
      "metadata": {
        "colab": {
          "base_uri": "https://localhost:8080/"
        },
        "id": "uxuVO1NaC6-q",
        "outputId": "a76c7a71-1053-4f2d-f4a7-8ea49189245c"
      },
      "execution_count": 13,
      "outputs": [
        {
          "output_type": "stream",
          "name": "stdout",
          "text": [
            "153 is an Armstrong number\n",
            "370 is an Armstrong number\n",
            "371 is an Armstrong number\n",
            "407 is an Armstrong number\n"
          ]
        }
      ]
    },
    {
      "cell_type": "markdown",
      "source": [
        "Date and Time"
      ],
      "metadata": {
        "id": "AvXZeFRWC9hM"
      }
    },
    {
      "cell_type": "code",
      "source": [
        "from datetime import datetime, timedelta\n",
        "now = datetime.now()\n",
        "future = now + timedelta(days=10)\n",
        "print(\"Today:\", now.strftime(\"%Y-%m-%d\"))\n",
        "print(\"After 10 days:\", future.strftime(\"%Y-%m-%d\"))"
      ],
      "metadata": {
        "colab": {
          "base_uri": "https://localhost:8080/"
        },
        "id": "QRgyoJKoC_p9",
        "outputId": "599e7ba7-79ad-40f8-c490-6967966fbcbd"
      },
      "execution_count": 14,
      "outputs": [
        {
          "output_type": "stream",
          "name": "stdout",
          "text": [
            "Today: 2025-07-31\n",
            "After 10 days: 2025-08-10\n"
          ]
        }
      ]
    },
    {
      "cell_type": "markdown",
      "source": [
        "Functions - All Concepts"
      ],
      "metadata": {
        "id": "-hLKSKE4DEDi"
      }
    },
    {
      "cell_type": "code",
      "source": [
        "# Default, keyword, arbitrary, lambda\n",
        "def student(name, age=18, **details):\n",
        "    print(f\"Name: {name}, Age: {age}, Other: {details}\")\n",
        "\n",
        "student(\"Kavi\", course=\"Python\", batch=\"Evening\")\n",
        "\n",
        "# Lambda\n",
        "squares = list(map(lambda x: x**2, range(6)))\n",
        "print(\"Squares:\", squares)"
      ],
      "metadata": {
        "colab": {
          "base_uri": "https://localhost:8080/"
        },
        "id": "e4dJjHWiDGCX",
        "outputId": "87664638-843e-4669-b6ad-d9890a6e721e"
      },
      "execution_count": 15,
      "outputs": [
        {
          "output_type": "stream",
          "name": "stdout",
          "text": [
            "Name: Kavi, Age: 18, Other: {'course': 'Python', 'batch': 'Evening'}\n",
            "Squares: [0, 1, 4, 9, 16, 25]\n"
          ]
        }
      ]
    },
    {
      "cell_type": "markdown",
      "source": [
        "### OOPS"
      ],
      "metadata": {
        "id": "wAOKwgqXDJMh"
      }
    },
    {
      "cell_type": "code",
      "source": [
        "class Vehicle:\n",
        "    def __init__(self, name):\n",
        "        self.name = name\n",
        "    def move(self):\n",
        "        print(f\"{self.name} is moving.\")\n",
        "\n",
        "class Car(Vehicle):\n",
        "    def move(self):  # Method Overriding\n",
        "        print(f\"{self.name} drives on roads.\")\n",
        "\n",
        "# Polymorphism\n",
        "def travel(vehicle):\n",
        "    vehicle.move()\n",
        "\n",
        "v = Vehicle(\"Generic\")\n",
        "c = Car(\"Sedan\")\n",
        "travel(v)\n",
        "travel(c)"
      ],
      "metadata": {
        "colab": {
          "base_uri": "https://localhost:8080/"
        },
        "id": "PM7LPM43DMEM",
        "outputId": "24f3ab1d-e5a0-4a57-8f59-88a3eba27777"
      },
      "execution_count": 16,
      "outputs": [
        {
          "output_type": "stream",
          "name": "stdout",
          "text": [
            "Generic is moving.\n",
            "Sedan drives on roads.\n"
          ]
        }
      ]
    },
    {
      "cell_type": "markdown",
      "source": [
        "File Handling"
      ],
      "metadata": {
        "id": "WwFA770WDQzA"
      }
    },
    {
      "cell_type": "code",
      "source": [
        "# Write, read, and count words in a file\n",
        "with open(\"sample.txt\", \"w\") as f:\n",
        "    f.write(\"This is a Python file\\nWith multiple lines\\nAnd words.\")\n",
        "\n",
        "with open(\"sample.txt\", \"r\") as f:\n",
        "    content = f.read()\n",
        "    word_count = len(content.split())\n",
        "print(\"Word Count:\", word_count)"
      ],
      "metadata": {
        "colab": {
          "base_uri": "https://localhost:8080/"
        },
        "id": "B3qjDXJmDR0D",
        "outputId": "ee7d4904-8ed1-4f5f-a310-e1350c19e40b"
      },
      "execution_count": 17,
      "outputs": [
        {
          "output_type": "stream",
          "name": "stdout",
          "text": [
            "Word Count: 10\n"
          ]
        }
      ]
    },
    {
      "cell_type": "markdown",
      "source": [
        "Exception Handling"
      ],
      "metadata": {
        "id": "fGIR7DlNDZTc"
      }
    },
    {
      "cell_type": "code",
      "source": [
        "try:\n",
        "    val = int(\"abc\")\n",
        "except ValueError as e:\n",
        "    print(\"ValueError:\", e)\n",
        "finally:\n",
        "    print(\"Executed finally block\")"
      ],
      "metadata": {
        "colab": {
          "base_uri": "https://localhost:8080/"
        },
        "id": "8Np5fzf6Dapx",
        "outputId": "47128dd6-5863-48af-91d5-0d40684cf30f"
      },
      "execution_count": 18,
      "outputs": [
        {
          "output_type": "stream",
          "name": "stdout",
          "text": [
            "ValueError: invalid literal for int() with base 10: 'abc'\n",
            "Executed finally block\n"
          ]
        }
      ]
    },
    {
      "cell_type": "markdown",
      "source": [
        "Modules - User-defined & Standard"
      ],
      "metadata": {
        "id": "RxaYxx67Dcsj"
      }
    },
    {
      "cell_type": "code",
      "source": [
        "# Create a module in another .py file and import\n",
        "# utils.py\n",
        "get_ipython().run_cell_magic('writefile', 'utils.py', 'def square(n): return n * n')\n",
        "\n",
        "# Main file\n",
        "import utils\n",
        "print(\"Square:\", utils.square(5))"
      ],
      "metadata": {
        "colab": {
          "base_uri": "https://localhost:8080/"
        },
        "id": "Vl36EFefDemN",
        "outputId": "98558457-6a88-4a05-dd8a-5d9b7c0364e3"
      },
      "execution_count": 20,
      "outputs": [
        {
          "output_type": "stream",
          "name": "stdout",
          "text": [
            "Writing utils.py\n",
            "Square: 25\n"
          ]
        }
      ]
    }
  ]
}