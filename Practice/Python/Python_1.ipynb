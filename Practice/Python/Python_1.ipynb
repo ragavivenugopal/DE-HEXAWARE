{
  "nbformat": 4,
  "nbformat_minor": 0,
  "metadata": {
    "colab": {
      "provenance": []
    },
    "kernelspec": {
      "name": "python3",
      "display_name": "Python 3"
    },
    "language_info": {
      "name": "python"
    }
  },
  "cells": [
    {
      "cell_type": "markdown",
      "source": [
        "1. Pandas: Read CSV"
      ],
      "metadata": {
        "id": "LIVKGullIru4"
      }
    },
    {
      "cell_type": "code",
      "execution_count": 2,
      "metadata": {
        "colab": {
          "base_uri": "https://localhost:8080/"
        },
        "id": "Gzb38kUyIooC",
        "outputId": "b20fbded-9395-4a1f-a13f-860e03081a6c"
      },
      "outputs": [
        {
          "output_type": "stream",
          "name": "stdout",
          "text": [
            "   id     name    status  amount        date\n",
            "0   1    Alice  Approved    1200  2023-01-10\n",
            "1   2      Bob  Rejected     850  2023-02-15\n",
            "2   3  Charlie  Approved     960  2023-03-12\n",
            "3   4    Diana   Pending     740  2023-04-20\n",
            "4   5      Eli  Approved    1320  2023-01-25\n"
          ]
        }
      ],
      "source": [
        "import pandas as pd\n",
        "\n",
        "df = pd.read_csv('sample_data.csv')\n",
        "print(df.head())"
      ]
    },
    {
      "cell_type": "markdown",
      "source": [
        "2. Filter using query"
      ],
      "metadata": {
        "id": "1E5lM_wIIvcH"
      }
    },
    {
      "cell_type": "code",
      "source": [
        "filtered = df.query(\"status == 'Approved'\")\n",
        "print(filtered.head())"
      ],
      "metadata": {
        "colab": {
          "base_uri": "https://localhost:8080/"
        },
        "id": "dmA3M_45I5E8",
        "outputId": "59c36f4b-9cbc-40a4-a0cb-14311365b456"
      },
      "execution_count": 3,
      "outputs": [
        {
          "output_type": "stream",
          "name": "stdout",
          "text": [
            "   id     name    status  amount        date\n",
            "0   1    Alice  Approved    1200  2023-01-10\n",
            "2   3  Charlie  Approved     960  2023-03-12\n",
            "4   5      Eli  Approved    1320  2023-01-25\n",
            "6   7   George  Approved    1500  2023-03-30\n",
            "9  10     Jane  Approved    1100  2023-05-05\n"
          ]
        }
      ]
    },
    {
      "cell_type": "markdown",
      "source": [
        "3. Count by Status"
      ],
      "metadata": {
        "id": "lNvPJLd1I4rQ"
      }
    },
    {
      "cell_type": "code",
      "source": [
        "status_count = df['status'].value_counts()\n",
        "print(status_count)"
      ],
      "metadata": {
        "colab": {
          "base_uri": "https://localhost:8080/"
        },
        "id": "zDEANQmqI9GY",
        "outputId": "14a38cf7-45e0-42bd-c64d-eefed348ab6f"
      },
      "execution_count": 4,
      "outputs": [
        {
          "output_type": "stream",
          "name": "stdout",
          "text": [
            "status\n",
            "Approved    5\n",
            "Rejected    3\n",
            "Pending     2\n",
            "Name: count, dtype: int64\n"
          ]
        }
      ]
    },
    {
      "cell_type": "markdown",
      "source": [
        "4. Count by Month & Status"
      ],
      "metadata": {
        "id": "c5BknbDtI_fG"
      }
    },
    {
      "cell_type": "code",
      "source": [
        "df['date'] = pd.to_datetime(df['date'])\n",
        "monthly_status = df.groupby([df['date'].dt.month, 'status']).size()\n",
        "print(monthly_status)"
      ],
      "metadata": {
        "colab": {
          "base_uri": "https://localhost:8080/"
        },
        "id": "e3P1Ny8IJAcX",
        "outputId": "94fa094c-2760-49f2-f068-5a358b0b64e7"
      },
      "execution_count": 5,
      "outputs": [
        {
          "output_type": "stream",
          "name": "stdout",
          "text": [
            "date  status  \n",
            "1     Approved    2\n",
            "2     Rejected    2\n",
            "3     Approved    2\n",
            "4     Pending     2\n",
            "5     Approved    1\n",
            "      Rejected    1\n",
            "dtype: int64\n"
          ]
        }
      ]
    },
    {
      "cell_type": "markdown",
      "source": [
        "5. Create DataFrame with dynamic columns"
      ],
      "metadata": {
        "id": "lyBejGfwJDYu"
      }
    },
    {
      "cell_type": "code",
      "source": [
        "columns = list(df.columns)\n",
        "custom_df = pd.DataFrame(columns=columns)\n",
        "print(\"Empty DataFrame with same columns:\\n\", custom_df)"
      ],
      "metadata": {
        "colab": {
          "base_uri": "https://localhost:8080/"
        },
        "id": "oH9V7DlfJEcb",
        "outputId": "b2d015cc-ea0f-4d0a-b292-93ded46a4ba7"
      },
      "execution_count": 6,
      "outputs": [
        {
          "output_type": "stream",
          "name": "stdout",
          "text": [
            "Empty DataFrame with same columns:\n",
            " Empty DataFrame\n",
            "Columns: [id, name, status, amount, date]\n",
            "Index: []\n"
          ]
        }
      ]
    },
    {
      "cell_type": "markdown",
      "source": [
        "6. Inner Join"
      ],
      "metadata": {
        "id": "HK-fXg_yJH8o"
      }
    },
    {
      "cell_type": "code",
      "source": [
        "df1 = pd.DataFrame({'id': [1, 2], 'val1': ['A', 'B']})\n",
        "df2 = pd.DataFrame({'id': [1, 3], 'val2': ['X', 'Y']})\n",
        "joined = pd.merge(df1, df2, on='id', how='inner')\n",
        "print(joined)"
      ],
      "metadata": {
        "colab": {
          "base_uri": "https://localhost:8080/"
        },
        "id": "4dfxzIx-JJNC",
        "outputId": "0501494f-490b-45c9-e23f-3fb87149d5d9"
      },
      "execution_count": 7,
      "outputs": [
        {
          "output_type": "stream",
          "name": "stdout",
          "text": [
            "   id val1 val2\n",
            "0   1    A    X\n"
          ]
        }
      ]
    },
    {
      "cell_type": "markdown",
      "source": [
        "7. Aggregation on Join"
      ],
      "metadata": {
        "id": "cCOqKOHCJLht"
      }
    },
    {
      "cell_type": "code",
      "source": [
        "df_agg = joined.groupby('val1').agg({'id': 'count'})\n",
        "print(df_agg)"
      ],
      "metadata": {
        "colab": {
          "base_uri": "https://localhost:8080/"
        },
        "id": "Wddbrl8GJMol",
        "outputId": "00e7ab80-3233-410b-f4dd-266f77320145"
      },
      "execution_count": 8,
      "outputs": [
        {
          "output_type": "stream",
          "name": "stdout",
          "text": [
            "      id\n",
            "val1    \n",
            "A      1\n"
          ]
        }
      ]
    },
    {
      "cell_type": "markdown",
      "source": [
        "8. Sort DataFrame"
      ],
      "metadata": {
        "id": "SvW24Dl_JPe6"
      }
    },
    {
      "cell_type": "code",
      "source": [
        "sorted_df = df.sort_values(by='date', ascending=False)\n",
        "print(sorted_df.head())"
      ],
      "metadata": {
        "colab": {
          "base_uri": "https://localhost:8080/"
        },
        "id": "lVR78VCuJQyd",
        "outputId": "667327ca-2e72-4083-807d-4ecd9f72fefb"
      },
      "execution_count": 9,
      "outputs": [
        {
          "output_type": "stream",
          "name": "stdout",
          "text": [
            "   id    name    status  amount       date\n",
            "8   9     Ian  Rejected     600 2023-05-22\n",
            "9  10    Jane  Approved    1100 2023-05-05\n",
            "3   4   Diana   Pending     740 2023-04-20\n",
            "7   8  Hannah   Pending     900 2023-04-18\n",
            "6   7  George  Approved    1500 2023-03-30\n"
          ]
        }
      ]
    },
    {
      "cell_type": "markdown",
      "source": [
        "9. Write DataFrame to File"
      ],
      "metadata": {
        "id": "N_EyjHhGJTkU"
      }
    },
    {
      "cell_type": "code",
      "source": [
        "df.head(10).to_csv(\"output.csv\", index=False)"
      ],
      "metadata": {
        "id": "5PIzZM6wJUyA"
      },
      "execution_count": 10,
      "outputs": []
    },
    {
      "cell_type": "markdown",
      "source": [
        "10. Write DataFrame to JSON"
      ],
      "metadata": {
        "id": "YBvjmea3JbcF"
      }
    },
    {
      "cell_type": "code",
      "source": [
        "df.head(5).to_json(\"output.json\", orient=\"records\", lines=True)"
      ],
      "metadata": {
        "id": "AAP9BLl7Jcht"
      },
      "execution_count": 11,
      "outputs": []
    },
    {
      "cell_type": "markdown",
      "source": [
        "----"
      ],
      "metadata": {
        "id": "WBpzM2ibJs09"
      }
    },
    {
      "cell_type": "markdown",
      "source": [
        "### Data Processing with Python"
      ],
      "metadata": {
        "id": "WTSXyo8sJrTe"
      }
    },
    {
      "cell_type": "markdown",
      "source": [
        "NumPy for Computing"
      ],
      "metadata": {
        "id": "0GxjMcNxJv3M"
      }
    },
    {
      "cell_type": "code",
      "source": [
        "import numpy as np\n",
        "\n",
        "a = np.array([1, 2, 3])\n",
        "print(\"Mean:\", a.mean())\n",
        "print(\"Standard Deviation:\", a.std())"
      ],
      "metadata": {
        "colab": {
          "base_uri": "https://localhost:8080/"
        },
        "id": "8_s3c3DaJxHn",
        "outputId": "b16437c1-05df-49e6-aa9e-c307b243ca1b"
      },
      "execution_count": 12,
      "outputs": [
        {
          "output_type": "stream",
          "name": "stdout",
          "text": [
            "Mean: 2.0\n",
            "Standard Deviation: 0.816496580927726\n"
          ]
        }
      ]
    },
    {
      "cell_type": "markdown",
      "source": [
        "Exploring Dataset"
      ],
      "metadata": {
        "id": "UOdMS9BbJzuH"
      }
    },
    {
      "cell_type": "code",
      "source": [
        "print(df.describe())\n",
        "print(df.info())"
      ],
      "metadata": {
        "colab": {
          "base_uri": "https://localhost:8080/"
        },
        "id": "Myidd4yRJ0up",
        "outputId": "4018b8b9-d6fa-4361-b02c-4b72997df561"
      },
      "execution_count": 13,
      "outputs": [
        {
          "output_type": "stream",
          "name": "stdout",
          "text": [
            "             id       amount                 date\n",
            "count  10.00000    10.000000                   10\n",
            "mean    5.50000   985.000000  2023-03-17 16:48:00\n",
            "min     1.00000   600.000000  2023-01-10 00:00:00\n",
            "25%     3.25000   767.500000  2023-02-11 06:00:00\n",
            "50%     5.50000   930.000000  2023-03-21 00:00:00\n",
            "75%     7.75000  1175.000000  2023-04-19 12:00:00\n",
            "max    10.00000  1500.000000  2023-05-22 00:00:00\n",
            "std     3.02765   291.404644                  NaN\n",
            "<class 'pandas.core.frame.DataFrame'>\n",
            "RangeIndex: 10 entries, 0 to 9\n",
            "Data columns (total 5 columns):\n",
            " #   Column  Non-Null Count  Dtype         \n",
            "---  ------  --------------  -----         \n",
            " 0   id      10 non-null     int64         \n",
            " 1   name    10 non-null     object        \n",
            " 2   status  10 non-null     object        \n",
            " 3   amount  10 non-null     int64         \n",
            " 4   date    10 non-null     datetime64[ns]\n",
            "dtypes: datetime64[ns](1), int64(2), object(2)\n",
            "memory usage: 532.0+ bytes\n",
            "None\n"
          ]
        }
      ]
    },
    {
      "cell_type": "markdown",
      "source": [
        "Data Cleaning & Preprocessing"
      ],
      "metadata": {
        "id": "0RGu5NRtJ4BZ"
      }
    },
    {
      "cell_type": "code",
      "source": [
        "df.dropna(inplace=True)\n",
        "df['status'] = df['status'].str.strip().str.lower()"
      ],
      "metadata": {
        "id": "iJh2FnLMJ5KD"
      },
      "execution_count": 14,
      "outputs": []
    },
    {
      "cell_type": "markdown",
      "source": [
        "Simple Data Analysis"
      ],
      "metadata": {
        "id": "QCMlqcOgJ7cS"
      }
    },
    {
      "cell_type": "code",
      "source": [
        "print(\"Average Value by Status:\\n\", df.groupby('status')['amount'].mean())"
      ],
      "metadata": {
        "colab": {
          "base_uri": "https://localhost:8080/"
        },
        "id": "bdCCA5nrJ8X1",
        "outputId": "ba970d93-042d-4f49-d680-c484878e7446"
      },
      "execution_count": 15,
      "outputs": [
        {
          "output_type": "stream",
          "name": "stdout",
          "text": [
            "Average Value by Status:\n",
            " status\n",
            "approved    1216.0\n",
            "pending      820.0\n",
            "rejected     710.0\n",
            "Name: amount, dtype: float64\n"
          ]
        }
      ]
    },
    {
      "cell_type": "markdown",
      "source": [
        "Merge & Transform"
      ],
      "metadata": {
        "id": "xxsr5F8rJ-TC"
      }
    },
    {
      "cell_type": "code",
      "source": [
        "df_merged = pd.merge(df1, df2, on=\"id\", how=\"outer\")\n",
        "df_merged[\"full\"] = df_merged[\"val1\"].fillna(\"\") + df_merged[\"val2\"].fillna(\"\")\n",
        "print(df_merged)"
      ],
      "metadata": {
        "colab": {
          "base_uri": "https://localhost:8080/"
        },
        "id": "nzQTE2YHJ_Um",
        "outputId": "5bca4f1f-1e1b-42d4-96e8-5bea86dab362"
      },
      "execution_count": 16,
      "outputs": [
        {
          "output_type": "stream",
          "name": "stdout",
          "text": [
            "   id val1 val2 full\n",
            "0   1    A    X   AX\n",
            "1   2    B  NaN    B\n",
            "2   3  NaN    Y    Y\n"
          ]
        }
      ]
    },
    {
      "cell_type": "markdown",
      "source": [
        "Error Handling"
      ],
      "metadata": {
        "id": "TzdwFP1pKBiI"
      }
    },
    {
      "cell_type": "code",
      "source": [
        "try:\n",
        "    result = 10 / 0\n",
        "except ZeroDivisionError:\n",
        "    print(\"Can't divide by zero\")\n",
        "finally:\n",
        "    print(\"End of error handling\")"
      ],
      "metadata": {
        "colab": {
          "base_uri": "https://localhost:8080/"
        },
        "id": "1r1k3GyRKDDk",
        "outputId": "1ee50b64-1fdb-49ba-efb6-5dcac07251ac"
      },
      "execution_count": 17,
      "outputs": [
        {
          "output_type": "stream",
          "name": "stdout",
          "text": [
            "Can't divide by zero\n",
            "End of error handling\n"
          ]
        }
      ]
    }
  ]
}