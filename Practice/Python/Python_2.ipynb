{
  "nbformat": 4,
  "nbformat_minor": 0,
  "metadata": {
    "colab": {
      "provenance": []
    },
    "kernelspec": {
      "name": "python3",
      "display_name": "Python 3"
    },
    "language_info": {
      "name": "python"
    }
  },
  "cells": [
    {
      "cell_type": "markdown",
      "source": [
        " 1. File I/O using Python"
      ],
      "metadata": {
        "id": "AeN1jYrMFbMl"
      }
    },
    {
      "cell_type": "code",
      "execution_count": 1,
      "metadata": {
        "colab": {
          "base_uri": "https://localhost:8080/"
        },
        "id": "kW70NebOFWqc",
        "outputId": "341729bc-1962-46c9-bdf9-5dcb29fa4635"
      },
      "outputs": [
        {
          "output_type": "stream",
          "name": "stdout",
          "text": [
            "File Content: ['Python\\n', 'Data\\n', 'Processing']\n"
          ]
        }
      ],
      "source": [
        "# Writing to and reading from a file\n",
        "with open(\"sample.txt\", \"w\") as f:\n",
        "    f.write(\"Python\\nData\\nProcessing\")\n",
        "\n",
        "with open(\"sample.txt\", \"r\") as f:\n",
        "    lines = f.readlines()\n",
        "print(\"File Content:\", lines)"
      ]
    },
    {
      "cell_type": "markdown",
      "source": [
        " 2. Read CSV File to Python List"
      ],
      "metadata": {
        "id": "B7jVhJY-FtWQ"
      }
    },
    {
      "cell_type": "code",
      "source": [
        "import csv\n",
        "\n",
        "data = []\n",
        "with open('sample_data.csv', 'r') as f:\n",
        "    reader = csv.reader(f)\n",
        "    for row in reader:\n",
        "        data.append(row)\n",
        "\n",
        "print(\"CSV as List:\", data[:3])  # Show first 3 rows"
      ],
      "metadata": {
        "colab": {
          "base_uri": "https://localhost:8080/"
        },
        "id": "ps6efES-FuuU",
        "outputId": "9bb3becd-5044-49f6-85f5-fe40a5a9b5c2"
      },
      "execution_count": 3,
      "outputs": [
        {
          "output_type": "stream",
          "name": "stdout",
          "text": [
            "CSV as List: [['id', 'name', 'status', 'amount', 'date'], ['1', 'Alice', 'Approved', '1200', '2023-01-10'], ['2', 'Bob', 'Rejected', '850', '2023-02-15']]\n"
          ]
        }
      ]
    },
    {
      "cell_type": "markdown",
      "source": [
        "3. Processing Python Lists"
      ],
      "metadata": {
        "id": "B0wPUrzIGqFb"
      }
    },
    {
      "cell_type": "code",
      "source": [
        "# Count how many times each item appears\n",
        "items = ['a', 'b', 'a', 'c', 'b', 'a']\n",
        "counts = {item: items.count(item) for item in set(items)}\n",
        "print(\"Counts:\", counts)"
      ],
      "metadata": {
        "colab": {
          "base_uri": "https://localhost:8080/"
        },
        "id": "bHMJ5rGdGrOu",
        "outputId": "5ef95224-b5c4-48cb-f663-668772b29398"
      },
      "execution_count": 4,
      "outputs": [
        {
          "output_type": "stream",
          "name": "stdout",
          "text": [
            "Counts: {'a': 3, 'c': 1, 'b': 2}\n"
          ]
        }
      ]
    },
    {
      "cell_type": "markdown",
      "source": [
        "4. Lambda Functions"
      ],
      "metadata": {
        "id": "AArrXIviGt7I"
      }
    },
    {
      "cell_type": "code",
      "source": [
        "square = lambda x: x ** 2\n",
        "print(\"Square of 5:\", square(5))"
      ],
      "metadata": {
        "colab": {
          "base_uri": "https://localhost:8080/"
        },
        "id": "g5CYvy85Gu9a",
        "outputId": "a23d8b83-36eb-427d-8717-ac9524a02d7d"
      },
      "execution_count": 5,
      "outputs": [
        {
          "output_type": "stream",
          "name": "stdout",
          "text": [
            "Square of 5: 25\n"
          ]
        }
      ]
    },
    {
      "cell_type": "markdown",
      "source": [
        "5. Filter using filter and lambda"
      ],
      "metadata": {
        "id": "nHus1ZRvGxJN"
      }
    },
    {
      "cell_type": "code",
      "source": [
        "numbers = [1, 2, 3, 4, 5, 6]\n",
        "even = list(filter(lambda x: x % 2 == 0, numbers))\n",
        "print(\"Even Numbers:\", even)"
      ],
      "metadata": {
        "colab": {
          "base_uri": "https://localhost:8080/"
        },
        "id": "DhSp5T0pGzmK",
        "outputId": "2dd881fe-6b59-4c34-e397-f923075d2dd8"
      },
      "execution_count": 6,
      "outputs": [
        {
          "output_type": "stream",
          "name": "stdout",
          "text": [
            "Even Numbers: [2, 4, 6]\n"
          ]
        }
      ]
    },
    {
      "cell_type": "markdown",
      "source": [
        "6. Unique values using map and set"
      ],
      "metadata": {
        "id": "ktcIpqf4G2EV"
      }
    },
    {
      "cell_type": "code",
      "source": [
        "names = ['Ana', 'Ben', 'Ana', 'Cody']\n",
        "upper_unique = set(map(str.upper, names))\n",
        "print(\"Unique Uppercase Names:\", upper_unique)"
      ],
      "metadata": {
        "colab": {
          "base_uri": "https://localhost:8080/"
        },
        "id": "4vxst86EG3Vr",
        "outputId": "2c770563-c05e-4550-dc2a-9040a6643b0b"
      },
      "execution_count": 7,
      "outputs": [
        {
          "output_type": "stream",
          "name": "stdout",
          "text": [
            "Unique Uppercase Names: {'ANA', 'BEN', 'CODY'}\n"
          ]
        }
      ]
    },
    {
      "cell_type": "markdown",
      "source": [
        "7. Sort List using key"
      ],
      "metadata": {
        "id": "j5Hvt1dTG6ct"
      }
    },
    {
      "cell_type": "code",
      "source": [
        "data = ['banana', 'apple', 'cherry']\n",
        "sorted_data = sorted(data, key=lambda x: len(x))\n",
        "print(\"Sorted by Length:\", sorted_data)"
      ],
      "metadata": {
        "colab": {
          "base_uri": "https://localhost:8080/"
        },
        "id": "ovuUR8XEG7iY",
        "outputId": "5332f947-73eb-4e67-86e4-2349ea5fd2d6"
      },
      "execution_count": 8,
      "outputs": [
        {
          "output_type": "stream",
          "name": "stdout",
          "text": [
            "Sorted by Length: ['apple', 'banana', 'cherry']\n"
          ]
        }
      ]
    },
    {
      "cell_type": "markdown",
      "source": [
        " 8. Overview of JSON Strings & Files"
      ],
      "metadata": {
        "id": "Xz4UOT-LG93C"
      }
    },
    {
      "cell_type": "code",
      "source": [
        "import json\n",
        "\n",
        "json_str = '{\"name\": \"Alex\", \"age\": 25}'\n",
        "data = json.loads(json_str)\n",
        "print(\"Name:\", data['name'])"
      ],
      "metadata": {
        "colab": {
          "base_uri": "https://localhost:8080/"
        },
        "id": "bTNIOSlQG_IW",
        "outputId": "cd784a03-3c4a-4171-9317-b57dc2402131"
      },
      "execution_count": 9,
      "outputs": [
        {
          "output_type": "stream",
          "name": "stdout",
          "text": [
            "Name: Alex\n"
          ]
        }
      ]
    },
    {
      "cell_type": "markdown",
      "source": [
        "9. Read JSON String to dict/list"
      ],
      "metadata": {
        "id": "BHm7tCi9HBDB"
      }
    },
    {
      "cell_type": "code",
      "source": [
        "json_data = '[{\"id\": 1}, {\"id\": 2}]'\n",
        "parsed = json.loads(json_data)\n",
        "print(\"Parsed JSON:\", parsed)"
      ],
      "metadata": {
        "colab": {
          "base_uri": "https://localhost:8080/"
        },
        "id": "KvMfmHv7HC_l",
        "outputId": "68810162-8041-454c-8ceb-2d586d7bf48a"
      },
      "execution_count": 10,
      "outputs": [
        {
          "output_type": "stream",
          "name": "stdout",
          "text": [
            "Parsed JSON: [{'id': 1}, {'id': 2}]\n"
          ]
        }
      ]
    },
    {
      "cell_type": "markdown",
      "source": [
        "10. Read JSON Schema from File"
      ],
      "metadata": {
        "id": "mccfQRFKHFhy"
      }
    },
    {
      "cell_type": "code",
      "source": [
        "with open(\"schema.json\", \"r\") as f:\n",
        "    schema = json.load(f)\n",
        "print(\"Schema Keys:\", list(schema.keys()))"
      ],
      "metadata": {
        "colab": {
          "base_uri": "https://localhost:8080/"
        },
        "id": "UGOjEdVQHGWT",
        "outputId": "b7a7e0fe-0cc5-45c6-e806-3eb1b9c8586e"
      },
      "execution_count": 12,
      "outputs": [
        {
          "output_type": "stream",
          "name": "stdout",
          "text": [
            "Schema Keys: ['title', 'type', 'properties', 'required']\n"
          ]
        }
      ]
    },
    {
      "cell_type": "markdown",
      "source": [
        "11. Process JSON Data"
      ],
      "metadata": {
        "id": "bLumrHByH43z"
      }
    },
    {
      "cell_type": "code",
      "source": [
        "data = [{\"name\": \"Tom\", \"score\": 90}, {\"name\": \"Ana\", \"score\": 88}]\n",
        "names = [item[\"name\"] for item in data]\n",
        "print(\"Names:\", names)"
      ],
      "metadata": {
        "colab": {
          "base_uri": "https://localhost:8080/"
        },
        "id": "tppQ9SmQH59E",
        "outputId": "eb13a5ab-3774-49f8-990d-9af5a75124e4"
      },
      "execution_count": 13,
      "outputs": [
        {
          "output_type": "stream",
          "name": "stdout",
          "text": [
            "Names: ['Tom', 'Ana']\n"
          ]
        }
      ]
    },
    {
      "cell_type": "markdown",
      "source": [
        "12. Extract from Complex JSON"
      ],
      "metadata": {
        "id": "VWgM2A52IMx5"
      }
    },
    {
      "cell_type": "code",
      "source": [
        "complex_json = {\n",
        "    \"students\": [\n",
        "        {\"name\": \"Tom\", \"scores\": {\"math\": 90, \"eng\": 80}},\n",
        "        {\"name\": \"Ana\", \"scores\": {\"math\": 88, \"eng\": 85}}\n",
        "    ]\n",
        "}\n",
        "math_scores = [s[\"scores\"][\"math\"] for s in complex_json[\"students\"]]\n",
        "print(\"Math Scores:\", math_scores)"
      ],
      "metadata": {
        "colab": {
          "base_uri": "https://localhost:8080/"
        },
        "id": "WALQxanNIODH",
        "outputId": "a6b936cc-9b21-474c-80d5-17ed70e152ef"
      },
      "execution_count": 14,
      "outputs": [
        {
          "output_type": "stream",
          "name": "stdout",
          "text": [
            "Math Scores: [90, 88]\n"
          ]
        }
      ]
    },
    {
      "cell_type": "markdown",
      "source": [
        "13. Sort JSON Arrays"
      ],
      "metadata": {
        "id": "TJ4mfH5QIQaF"
      }
    },
    {
      "cell_type": "code",
      "source": [
        "students = [{\"name\": \"Tom\", \"score\": 75}, {\"name\": \"Ana\", \"score\": 92}]\n",
        "sorted_students = sorted(students, key=lambda x: x['score'], reverse=True)\n",
        "print(\"Sorted:\", sorted_students)"
      ],
      "metadata": {
        "colab": {
          "base_uri": "https://localhost:8080/"
        },
        "id": "0UGpoVLGIRZJ",
        "outputId": "957375b8-7668-4c23-9200-9ab4ca1d7c4c"
      },
      "execution_count": 15,
      "outputs": [
        {
          "output_type": "stream",
          "name": "stdout",
          "text": [
            "Sorted: [{'name': 'Ana', 'score': 92}, {'name': 'Tom', 'score': 75}]\n"
          ]
        }
      ]
    },
    {
      "cell_type": "markdown",
      "source": [
        "14. Get Column Details from Schema JSON"
      ],
      "metadata": {
        "id": "PY6dNKv6IUlg"
      }
    },
    {
      "cell_type": "code",
      "source": [
        "def get_columns(schema_json):\n",
        "    return list(schema_json.get('properties', {}).keys())\n",
        "\n",
        "# Sample usage:\n",
        "print(get_columns(schema))"
      ],
      "metadata": {
        "colab": {
          "base_uri": "https://localhost:8080/"
        },
        "id": "P4Gs_b5zIX8S",
        "outputId": "1cf274e3-b2c1-4f3d-f06a-3803d7e52419"
      },
      "execution_count": 16,
      "outputs": [
        {
          "output_type": "stream",
          "name": "stdout",
          "text": [
            "['id', 'name', 'status', 'amount', 'date']\n"
          ]
        }
      ]
    },
    {
      "cell_type": "markdown",
      "source": [
        "15. Lists & Tuples"
      ],
      "metadata": {
        "id": "6tHlg5dZIXYa"
      }
    },
    {
      "cell_type": "code",
      "source": [
        "my_list = [1, 2, 3]\n",
        "my_tuple = tuple(my_list)\n",
        "print(\"Tuple:\", my_tuple)"
      ],
      "metadata": {
        "colab": {
          "base_uri": "https://localhost:8080/"
        },
        "id": "tKXXKa12IdDb",
        "outputId": "1ec18692-a4be-4081-c652-330b5f9d8ab7"
      },
      "execution_count": 17,
      "outputs": [
        {
          "output_type": "stream",
          "name": "stdout",
          "text": [
            "Tuple: (1, 2, 3)\n"
          ]
        }
      ]
    },
    {
      "cell_type": "markdown",
      "source": [
        "16. Enrich Data using NumPy & Pandas"
      ],
      "metadata": {
        "id": "obtcE5WoIfW5"
      }
    },
    {
      "cell_type": "code",
      "source": [
        "import numpy as np\n",
        "import pandas as pd\n",
        "\n",
        "arr = np.array([1, 2, 3])\n",
        "df = pd.DataFrame({\"numbers\": arr})\n",
        "df[\"squared\"] = df[\"numbers\"] ** 2\n",
        "print(df)"
      ],
      "metadata": {
        "colab": {
          "base_uri": "https://localhost:8080/"
        },
        "id": "jI_EQG0rIgWq",
        "outputId": "ab73d2bb-b086-449f-823a-202ab38a02d6"
      },
      "execution_count": 18,
      "outputs": [
        {
          "output_type": "stream",
          "name": "stdout",
          "text": [
            "   numbers  squared\n",
            "0        1        1\n",
            "1        2        4\n",
            "2        3        9\n"
          ]
        }
      ]
    }
  ]
}