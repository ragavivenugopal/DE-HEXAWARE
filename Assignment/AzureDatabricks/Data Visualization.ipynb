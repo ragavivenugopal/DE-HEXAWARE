{
 "cells": [
  {
   "cell_type": "markdown",
   "metadata": {
    "application/vnd.databricks.v1+cell": {
     "cellMetadata": {},
     "inputWidgets": {},
     "nuid": "aaf392b2-58c5-4484-9265-b0d906c5bb72",
     "showTitle": false,
     "tableResultSettingsMap": {},
     "title": ""
    }
   },
   "source": [
    "## Visual Data Analysis of Student Performance Using Azure Databricks"
   ]
  },
  {
   "cell_type": "markdown",
   "metadata": {
    "application/vnd.databricks.v1+cell": {
     "cellMetadata": {},
     "inputWidgets": {},
     "nuid": "dabf0f7f-9a7b-4132-8e0c-7c9bdc0434c6",
     "showTitle": false,
     "tableResultSettingsMap": {},
     "title": ""
    }
   },
   "source": [
    "To explore and interpret key insights from the StudentsPerformance.csv dataset through a variety of visualizations using Azure Databricks' built-in tools. These charts help identify performance trends, score distributions, and the impact of demographic and educational factors."
   ]
  },
  {
   "cell_type": "code",
   "execution_count": 0,
   "metadata": {
    "application/vnd.databricks.v1+cell": {
     "cellMetadata": {
      "byteLimit": 2048000,
      "implicitDf": true,
      "rowLimit": 10000
     },
     "inputWidgets": {},
     "nuid": "137deaa4-135a-47f2-a66e-fe8c53d3035c",
     "showTitle": false,
     "tableResultSettingsMap": {},
     "title": ""
    }
   },
   "outputs": [
    {
     "output_type": "display_data",
     "data": {
      "text/html": [
       "<style scoped>\n",
       "  .table-result-container {\n",
       "    max-height: 300px;\n",
       "    overflow: auto;\n",
       "  }\n",
       "  table, th, td {\n",
       "    border: 1px solid black;\n",
       "    border-collapse: collapse;\n",
       "  }\n",
       "  th, td {\n",
       "    padding: 5px;\n",
       "  }\n",
       "  th {\n",
       "    text-align: left;\n",
       "  }\n",
       "</style><div class='table-result-container'><table class='table-result'><thead style='background-color: white'><tr><th>dropoff_hour</th><th>num</th></tr></thead><tbody><tr><td>12</td><td>76</td></tr><tr><td>22</td><td>106</td></tr><tr><td>1</td><td>99</td></tr><tr><td>13</td><td>83</td></tr><tr><td>6</td><td>32</td></tr><tr><td>16</td><td>74</td></tr><tr><td>3</td><td>50</td></tr><tr><td>20</td><td>118</td></tr><tr><td>5</td><td>20</td></tr><tr><td>19</td><td>125</td></tr><tr><td>15</td><td>89</td></tr><tr><td>9</td><td>51</td></tr><tr><td>17</td><td>65</td></tr><tr><td>4</td><td>47</td></tr><tr><td>8</td><td>54</td></tr><tr><td>23</td><td>113</td></tr><tr><td>7</td><td>30</td></tr><tr><td>10</td><td>58</td></tr><tr><td>21</td><td>115</td></tr><tr><td>11</td><td>70</td></tr><tr><td>14</td><td>72</td></tr><tr><td>2</td><td>78</td></tr><tr><td>0</td><td>112</td></tr><tr><td>18</td><td>103</td></tr></tbody></table></div>"
      ]
     },
     "metadata": {
      "application/vnd.databricks.v1+output": {
       "addedWidgets": {},
       "aggData": [],
       "aggError": "",
       "aggOverflow": false,
       "aggSchema": [],
       "aggSeriesLimitReached": false,
       "aggType": "",
       "arguments": {},
       "columnCustomDisplayInfos": {},
       "data": [
        [
         12,
         76
        ],
        [
         22,
         106
        ],
        [
         1,
         99
        ],
        [
         13,
         83
        ],
        [
         6,
         32
        ],
        [
         16,
         74
        ],
        [
         3,
         50
        ],
        [
         20,
         118
        ],
        [
         5,
         20
        ],
        [
         19,
         125
        ],
        [
         15,
         89
        ],
        [
         9,
         51
        ],
        [
         17,
         65
        ],
        [
         4,
         47
        ],
        [
         8,
         54
        ],
        [
         23,
         113
        ],
        [
         7,
         30
        ],
        [
         10,
         58
        ],
        [
         21,
         115
        ],
        [
         11,
         70
        ],
        [
         14,
         72
        ],
        [
         2,
         78
        ],
        [
         0,
         112
        ],
        [
         18,
         103
        ]
       ],
       "datasetInfos": [
        {
         "name": "_sqldf",
         "schema": {
          "fields": [
           {
            "metadata": {},
            "name": "dropoff_hour",
            "nullable": true,
            "type": "integer"
           },
           {
            "metadata": {},
            "name": "num",
            "nullable": false,
            "type": "long"
           }
          ],
          "type": "struct"
         },
         "tableIdentifier": null,
         "typeStr": "pyspark.sql.dataframe.DataFrame"
        }
       ],
       "dbfsResultPath": null,
       "isJsonSchema": true,
       "metadata": {
        "createTempViewForImplicitDf": true,
        "dataframeName": "_sqldf",
        "executionCount": 3
       },
       "overflow": false,
       "plotOptions": {
        "customPlotOptions": {},
        "displayType": "table",
        "pivotAggregation": null,
        "pivotColumns": null,
        "xColumns": null,
        "yColumns": null
       },
       "removedWidgets": [],
       "schema": [
        {
         "metadata": "{}",
         "name": "dropoff_hour",
         "type": "\"integer\""
        },
        {
         "metadata": "{}",
         "name": "num",
         "type": "\"long\""
        }
       ],
       "type": "table"
      }
     },
     "output_type": "display_data"
    },
    {
     "output_type": "display_data",
     "data": {
      "text/plain": [
       "Databricks visualization. Run in Databricks to view."
      ]
     },
     "metadata": {
      "application/vnd.databricks.v1.subcommand+json": {
       "baseErrorDetails": null,
       "bindings": {},
       "collapsed": false,
       "command": "%sql WITH q AS (SELECT\n      hour(tpep_dropoff_datetime) as dropoff_hour,\n      COUNT(*) AS num\n   FROM samples.nyctaxi.trips\n   WHERE pickup_zip in ('10001', '10002')\n   GROUP BY 1) SELECT `dropoff_hour`,`num` FROM q",
       "commandTitle": "Visualization 1",
       "commandType": "auto",
       "commandVersion": 0,
       "commentThread": [],
       "commentsVisible": false,
       "contentSha256Hex": null,
       "customPlotOptions": {
        "redashChart": [
         {
          "key": "type",
          "value": "CHART"
         },
         {
          "key": "options",
          "value": {
           "alignYAxesAtZero": true,
           "coefficient": 1,
           "columnConfigurationMap": {
            "x": {
             "column": "dropoff_hour",
             "id": "column_93df756720"
            },
            "y": [
             {
              "column": "num",
              "id": "column_93df756721"
             }
            ]
           },
           "dateTimeFormat": "DD/MM/YYYY HH:mm",
           "direction": {
            "type": "counterclockwise"
           },
           "error_y": {
            "type": "data",
            "visible": true
           },
           "globalSeriesType": "scatter",
           "legend": {
            "traceorder": "normal"
           },
           "missingValuesAsZero": true,
           "numberFormat": "0,0.[00000]",
           "percentFormat": "0[.]00%",
           "series": {
            "error_y": {
             "type": "data",
             "visible": true
            },
            "stacking": null
           },
           "seriesOptions": {
            "column_93df756721": {
             "name": "num",
             "yAxis": 0
            }
           },
           "showDataLabels": false,
           "sizemode": "diameter",
           "sortX": true,
           "sortY": true,
           "swappedAxes": false,
           "textFormat": "",
           "useAggregationsUi": true,
           "valuesOptions": {},
           "version": 2,
           "xAxis": {
            "labels": {
             "enabled": true
            },
            "type": "-"
           },
           "yAxis": [
            {
             "type": "-"
            },
            {
             "opposite": true,
             "type": "-"
            }
           ]
          }
         }
        ]
       },
       "datasetPreviewNameToCmdIdMap": {},
       "diffDeletes": [],
       "diffInserts": [],
       "displayType": "redashChart",
       "error": null,
       "errorDetails": null,
       "errorSummary": null,
       "errorTraceType": null,
       "finishTime": 0,
       "globalVars": {},
       "guid": "",
       "height": "auto",
       "hideCommandCode": false,
       "hideCommandResult": false,
       "iPythonMetadata": null,
       "inputWidgets": {},
       "isLockedInExamMode": false,
       "latestUser": "a user",
       "latestUserId": null,
       "listResultMetadata": null,
       "metadata": {},
       "nuid": "082bbd31-ce81-40fb-9164-f739fb4f5db4",
       "origId": 0,
       "parentHierarchy": [],
       "pivotAggregation": null,
       "pivotColumns": null,
       "position": 2.0,
       "resultDbfsErrorMessage": null,
       "resultDbfsStatus": "INLINED_IN_TREE",
       "results": null,
       "showCommandTitle": false,
       "startTime": 0,
       "state": "input",
       "streamStates": {},
       "subcommandOptions": {
        "queryPlan": {
         "selects": [
          {
           "column": "dropoff_hour",
           "type": "column"
          },
          {
           "column": "num",
           "type": "column"
          }
         ]
        }
       },
       "submitTime": 0,
       "subtype": "tableResultSubCmd.visualization",
       "tableResultIndex": 0,
       "tableResultSettingsMap": {},
       "useConsistentColors": false,
       "version": "CommandV1",
       "width": "auto",
       "workflows": [],
       "xColumns": null,
       "yColumns": null
      }
     },
     "output_type": "display_data"
    }
   ],
   "source": [
    "%sql\n",
    "USE CATALOG samples;\n",
    "   SELECT\n",
    "      hour(tpep_dropoff_datetime) as dropoff_hour,\n",
    "      COUNT(*) AS num\n",
    "   FROM samples.nyctaxi.trips\n",
    "   WHERE pickup_zip in ('10001', '10002')\n",
    "   GROUP BY 1;"
   ]
  },
  {
   "cell_type": "code",
   "execution_count": 0,
   "metadata": {
    "application/vnd.databricks.v1+cell": {
     "cellMetadata": {
      "byteLimit": 2048000,
      "rowLimit": 10000
     },
     "inputWidgets": {},
     "nuid": "d5e2b49a-a6a0-44b1-a08b-a0e5db4c51a6",
     "showTitle": false,
     "tableResultSettingsMap": {},
     "title": ""
    }
   },
   "outputs": [
    {
     "output_type": "display_data",
     "data": {
      "text/html": [
       "<style scoped>\n",
       "  .table-result-container {\n",
       "    max-height: 300px;\n",
       "    overflow: auto;\n",
       "  }\n",
       "  table, th, td {\n",
       "    border: 1px solid black;\n",
       "    border-collapse: collapse;\n",
       "  }\n",
       "  th, td {\n",
       "    padding: 5px;\n",
       "  }\n",
       "  th {\n",
       "    text-align: left;\n",
       "  }\n",
       "</style><div class='table-result-container'><table class='table-result'><thead style='background-color: white'><tr><th>dropoff_hour</th><th>num</th></tr></thead><tbody><tr><td>12</td><td>62</td></tr><tr><td>22</td><td>60</td></tr><tr><td>1</td><td>40</td></tr><tr><td>13</td><td>69</td></tr><tr><td>6</td><td>19</td></tr><tr><td>16</td><td>63</td></tr><tr><td>3</td><td>18</td></tr><tr><td>20</td><td>88</td></tr><tr><td>5</td><td>12</td></tr><tr><td>19</td><td>85</td></tr><tr><td>15</td><td>71</td></tr><tr><td>9</td><td>42</td></tr><tr><td>17</td><td>54</td></tr><tr><td>4</td><td>20</td></tr><tr><td>8</td><td>42</td></tr><tr><td>23</td><td>60</td></tr><tr><td>7</td><td>26</td></tr><tr><td>10</td><td>45</td></tr><tr><td>21</td><td>80</td></tr><tr><td>11</td><td>53</td></tr><tr><td>14</td><td>56</td></tr><tr><td>2</td><td>24</td></tr><tr><td>0</td><td>57</td></tr><tr><td>18</td><td>81</td></tr></tbody></table></div>"
      ]
     },
     "metadata": {
      "application/vnd.databricks.v1+output": {
       "addedWidgets": {},
       "aggData": [],
       "aggError": "",
       "aggOverflow": false,
       "aggSchema": [],
       "aggSeriesLimitReached": false,
       "aggType": "",
       "arguments": {},
       "columnCustomDisplayInfos": {},
       "data": [
        [
         12,
         62
        ],
        [
         22,
         60
        ],
        [
         1,
         40
        ],
        [
         13,
         69
        ],
        [
         6,
         19
        ],
        [
         16,
         63
        ],
        [
         3,
         18
        ],
        [
         20,
         88
        ],
        [
         5,
         12
        ],
        [
         19,
         85
        ],
        [
         15,
         71
        ],
        [
         9,
         42
        ],
        [
         17,
         54
        ],
        [
         4,
         20
        ],
        [
         8,
         42
        ],
        [
         23,
         60
        ],
        [
         7,
         26
        ],
        [
         10,
         45
        ],
        [
         21,
         80
        ],
        [
         11,
         53
        ],
        [
         14,
         56
        ],
        [
         2,
         24
        ],
        [
         0,
         57
        ],
        [
         18,
         81
        ]
       ],
       "datasetInfos": [],
       "dbfsResultPath": null,
       "isJsonSchema": true,
       "metadata": {},
       "overflow": false,
       "plotOptions": {
        "customPlotOptions": {},
        "displayType": "table",
        "pivotAggregation": null,
        "pivotColumns": null,
        "xColumns": null,
        "yColumns": null
       },
       "removedWidgets": [],
       "schema": [
        {
         "metadata": "{}",
         "name": "dropoff_hour",
         "type": "\"integer\""
        },
        {
         "metadata": "{}",
         "name": "num",
         "type": "\"long\""
        }
       ],
       "type": "table"
      }
     },
     "output_type": "display_data"
    },
    {
     "output_type": "display_data",
     "data": {
      "text/plain": [
       "Databricks visualization. Run in Databricks to view."
      ]
     },
     "metadata": {
      "application/vnd.databricks.v1.subcommand+json": {
       "baseErrorDetails": null,
       "bindings": {},
       "collapsed": false,
       "command": "%python\n__backend_agg_display_orig = display\n__backend_agg_dfs = []\ndef __backend_agg_display_new(df):\n    __backend_agg_df_modules = [\"pandas.core.frame\", \"databricks.koalas.frame\", \"pyspark.sql.dataframe\", \"pyspark.pandas.frame\", \"pyspark.sql.connect.dataframe\"]\n    if (type(df).__module__ in __backend_agg_df_modules and type(df).__name__ == 'DataFrame') or isinstance(df, list):\n        __backend_agg_dfs.append(df)\n\ndisplay = __backend_agg_display_new\n\ndef __backend_agg_user_code_fn():\n    import base64\n    exec(base64.standard_b64decode(\"ZnJvbSBweXNwYXJrLnNxbC5mdW5jdGlvbnMgaW1wb3J0IGhvdXIsIGNvbAoKcGlja3VwemlwID0gJzEwMDAxJyAgIyBFeGFtcGxlIHZhbHVlIGZvciBwaWNrdXB6aXAKZGYgPSBzcGFyay50YWJsZSgic2FtcGxlcy5ueWN0YXhpLnRyaXBzIikKcmVzdWx0X2RmID0gZGYuZmlsdGVyKGNvbCgicGlja3VwX3ppcCIpID09IHBpY2t1cHppcCkgXAogICAgICAgICAgICAgIC5ncm91cEJ5KGhvdXIoY29sKCJ0cGVwX2Ryb3BvZmZfZGF0ZXRpbWUiKSkuYWxpYXMoImRyb3BvZmZfaG91ciIpKSBcCiAgICAgICAgICAgICAgLmNvdW50KCkgXAogICAgICAgICAgICAgIC53aXRoQ29sdW1uUmVuYW1lZCgiY291bnQiLCAibnVtIikKZGlzcGxheShyZXN1bHRfZGYp\").decode())\n\ntry:\n    # run user code\n    __backend_agg_user_code_fn()\n\n    #reset display function\n    display = __backend_agg_display_orig\n\n    if len(__backend_agg_dfs) > 0:\n        # create a temp view\n        if type(__backend_agg_dfs[0]).__module__ == \"databricks.koalas.frame\":\n            # koalas dataframe\n            __backend_agg_dfs[0].to_spark().createOrReplaceTempView(\"DatabricksView77234a4\")\n        elif type(__backend_agg_dfs[0]).__module__ == \"pandas.core.frame\" or isinstance(__backend_agg_dfs[0], list):\n            # pandas dataframe\n            spark.createDataFrame(__backend_agg_dfs[0]).createOrReplaceTempView(\"DatabricksView77234a4\")\n        else:\n            __backend_agg_dfs[0].createOrReplaceTempView(\"DatabricksView77234a4\")\n        #run backend agg\n        display(spark.sql(\"\"\"WITH q AS (select * from DatabricksView77234a4) SELECT `dropoff_hour`,SUM(`num`) `column_93df756728` FROM q GROUP BY `dropoff_hour`\"\"\"))\n    else:\n        displayHTML(\"dataframe no longer exists. If you're using dataframe.display(), use display(dataframe) instead.\")\n\n\nfinally:\n    spark.sql(\"drop view if exists DatabricksView77234a4\")\n    display = __backend_agg_display_orig\n    del __backend_agg_display_new\n    del __backend_agg_display_orig\n    del __backend_agg_dfs\n    del __backend_agg_user_code_fn\n\n",
       "commandTitle": "Visualization 1",
       "commandType": "auto",
       "commandVersion": 0,
       "commentThread": [],
       "commentsVisible": false,
       "contentSha256Hex": null,
       "customPlotOptions": {
        "redashChart": [
         {
          "key": "type",
          "value": "CHART"
         },
         {
          "key": "options",
          "value": {
           "alignYAxesAtZero": true,
           "coefficient": 1,
           "columnConfigurationMap": {
            "x": {
             "column": "dropoff_hour",
             "id": "column_93df756727"
            },
            "y": [
             {
              "column": "num",
              "id": "column_93df756728",
              "transform": "SUM"
             }
            ]
           },
           "dateTimeFormat": "DD/MM/YYYY HH:mm",
           "direction": {
            "type": "counterclockwise"
           },
           "error_y": {
            "type": "data",
            "visible": true
           },
           "globalSeriesType": "line",
           "isAggregationOn": true,
           "legend": {
            "traceorder": "normal"
           },
           "missingValuesAsZero": true,
           "numberFormat": "0,0.[00000]",
           "percentFormat": "0[.]00%",
           "series": {
            "error_y": {
             "type": "data",
             "visible": true
            },
            "stacking": null
           },
           "seriesOptions": {
            "column_93df756728": {
             "name": "num",
             "type": "line",
             "yAxis": 0
            }
           },
           "showDataLabels": false,
           "sizemode": "diameter",
           "sortX": true,
           "sortY": true,
           "swappedAxes": false,
           "textFormat": "",
           "useAggregationsUi": true,
           "valuesOptions": {},
           "version": 2,
           "xAxis": {
            "labels": {
             "enabled": true
            },
            "type": "-"
           },
           "yAxis": [
            {
             "type": "-"
            },
            {
             "opposite": true,
             "type": "-"
            }
           ]
          }
         }
        ]
       },
       "datasetPreviewNameToCmdIdMap": {},
       "diffDeletes": [],
       "diffInserts": [],
       "displayType": "redashChart",
       "error": null,
       "errorDetails": null,
       "errorSummary": null,
       "errorTraceType": null,
       "finishTime": 0,
       "globalVars": {},
       "guid": "",
       "height": "auto",
       "hideCommandCode": false,
       "hideCommandResult": false,
       "iPythonMetadata": null,
       "inputWidgets": {},
       "isLockedInExamMode": false,
       "latestUser": "a user",
       "latestUserId": null,
       "listResultMetadata": null,
       "metadata": {},
       "nuid": "907fafd4-a1e8-4c58-b98d-0bc7fdd92a24",
       "origId": 0,
       "parentHierarchy": [],
       "pivotAggregation": null,
       "pivotColumns": null,
       "position": 3.0,
       "resultDbfsErrorMessage": null,
       "resultDbfsStatus": "INLINED_IN_TREE",
       "results": null,
       "showCommandTitle": false,
       "startTime": 0,
       "state": "input",
       "streamStates": {},
       "subcommandOptions": {
        "queryPlan": {
         "groups": [
          {
           "column": "dropoff_hour",
           "type": "column"
          }
         ],
         "selects": [
          {
           "column": "dropoff_hour",
           "type": "column"
          },
          {
           "alias": "column_93df756728",
           "args": [
            {
             "column": "num",
             "type": "column"
            }
           ],
           "function": "SUM",
           "type": "function"
          }
         ]
        }
       },
       "submitTime": 0,
       "subtype": "tableResultSubCmd.visualization",
       "tableResultIndex": 0,
       "tableResultSettingsMap": {},
       "useConsistentColors": false,
       "version": "CommandV1",
       "width": "auto",
       "workflows": [],
       "xColumns": null,
       "yColumns": null
      }
     },
     "output_type": "display_data"
    }
   ],
   "source": [
    "from pyspark.sql.functions import hour, col\n",
    "\n",
    "pickupzip = '10001'  # Example value for pickupzip\n",
    "df = spark.table(\"samples.nyctaxi.trips\")\n",
    "result_df = df.filter(col(\"pickup_zip\") == pickupzip) \\\n",
    "              .groupBy(hour(col(\"tpep_dropoff_datetime\")).alias(\"dropoff_hour\")) \\\n",
    "              .count() \\\n",
    "              .withColumnRenamed(\"count\", \"num\")\n",
    "display(result_df)"
   ]
  },
  {
   "cell_type": "markdown",
   "metadata": {
    "application/vnd.databricks.v1+cell": {
     "cellMetadata": {},
     "inputWidgets": {},
     "nuid": "7a0d1fed-2f30-4699-9aa1-00ab1e9a0e88",
     "showTitle": false,
     "tableResultSettingsMap": {},
     "title": ""
    }
   },
   "source": [
    "Step 1: Load Data (Use this before visualizations)"
   ]
  },
  {
   "cell_type": "code",
   "execution_count": 0,
   "metadata": {
    "application/vnd.databricks.v1+cell": {
     "cellMetadata": {
      "byteLimit": 2048000,
      "rowLimit": 10000
     },
     "inputWidgets": {},
     "nuid": "0702bb3c-6cc1-45ab-b93f-7b2cc10d8869",
     "showTitle": false,
     "tableResultSettingsMap": {},
     "title": ""
    }
   },
   "outputs": [
    {
     "output_type": "display_data",
     "data": {
      "text/html": [
       "<style scoped>\n",
       "  .table-result-container {\n",
       "    max-height: 300px;\n",
       "    overflow: auto;\n",
       "  }\n",
       "  table, th, td {\n",
       "    border: 1px solid black;\n",
       "    border-collapse: collapse;\n",
       "  }\n",
       "  th, td {\n",
       "    padding: 5px;\n",
       "  }\n",
       "  th {\n",
       "    text-align: left;\n",
       "  }\n",
       "</style><div class='table-result-container'><table class='table-result'><thead style='background-color: white'><tr><th>gender</th><th>race/ethnicity</th><th>parental level of education</th><th>lunch</th><th>test preparation course</th><th>math score</th><th>reading score</th><th>writing score</th></tr></thead><tbody><tr><td>female</td><td>group B</td><td>bachelor's degree</td><td>standard</td><td>none</td><td>72</td><td>72</td><td>74</td></tr><tr><td>female</td><td>group C</td><td>some college</td><td>standard</td><td>completed</td><td>69</td><td>90</td><td>88</td></tr><tr><td>female</td><td>group B</td><td>master's degree</td><td>standard</td><td>none</td><td>90</td><td>95</td><td>93</td></tr><tr><td>male</td><td>group A</td><td>associate's degree</td><td>free/reduced</td><td>none</td><td>47</td><td>57</td><td>44</td></tr><tr><td>male</td><td>group C</td><td>some college</td><td>standard</td><td>none</td><td>76</td><td>78</td><td>75</td></tr><tr><td>female</td><td>group B</td><td>associate's degree</td><td>standard</td><td>none</td><td>71</td><td>83</td><td>78</td></tr><tr><td>female</td><td>group B</td><td>some college</td><td>standard</td><td>completed</td><td>88</td><td>95</td><td>92</td></tr><tr><td>male</td><td>group B</td><td>some college</td><td>free/reduced</td><td>none</td><td>40</td><td>43</td><td>39</td></tr><tr><td>male</td><td>group D</td><td>high school</td><td>free/reduced</td><td>completed</td><td>64</td><td>64</td><td>67</td></tr><tr><td>female</td><td>group B</td><td>high school</td><td>free/reduced</td><td>none</td><td>38</td><td>60</td><td>50</td></tr><tr><td>male</td><td>group C</td><td>associate's degree</td><td>standard</td><td>none</td><td>58</td><td>54</td><td>52</td></tr><tr><td>male</td><td>group D</td><td>associate's degree</td><td>standard</td><td>none</td><td>40</td><td>52</td><td>43</td></tr><tr><td>female</td><td>group B</td><td>high school</td><td>standard</td><td>none</td><td>65</td><td>81</td><td>73</td></tr><tr><td>male</td><td>group A</td><td>some college</td><td>standard</td><td>completed</td><td>78</td><td>72</td><td>70</td></tr><tr><td>female</td><td>group A</td><td>master's degree</td><td>standard</td><td>none</td><td>50</td><td>53</td><td>58</td></tr><tr><td>female</td><td>group C</td><td>some high school</td><td>standard</td><td>none</td><td>69</td><td>75</td><td>78</td></tr><tr><td>male</td><td>group C</td><td>high school</td><td>standard</td><td>none</td><td>88</td><td>89</td><td>86</td></tr><tr><td>female</td><td>group B</td><td>some high school</td><td>free/reduced</td><td>none</td><td>18</td><td>32</td><td>28</td></tr><tr><td>male</td><td>group C</td><td>master's degree</td><td>free/reduced</td><td>completed</td><td>46</td><td>42</td><td>46</td></tr><tr><td>female</td><td>group C</td><td>associate's degree</td><td>free/reduced</td><td>none</td><td>54</td><td>58</td><td>61</td></tr><tr><td>male</td><td>group D</td><td>high school</td><td>standard</td><td>none</td><td>66</td><td>69</td><td>63</td></tr><tr><td>female</td><td>group B</td><td>some college</td><td>free/reduced</td><td>completed</td><td>65</td><td>75</td><td>70</td></tr><tr><td>male</td><td>group D</td><td>some college</td><td>standard</td><td>none</td><td>44</td><td>54</td><td>53</td></tr><tr><td>female</td><td>group C</td><td>some high school</td><td>standard</td><td>none</td><td>69</td><td>73</td><td>73</td></tr><tr><td>male</td><td>group D</td><td>bachelor's degree</td><td>free/reduced</td><td>completed</td><td>74</td><td>71</td><td>80</td></tr><tr><td>male</td><td>group A</td><td>master's degree</td><td>free/reduced</td><td>none</td><td>73</td><td>74</td><td>72</td></tr><tr><td>male</td><td>group B</td><td>some college</td><td>standard</td><td>none</td><td>69</td><td>54</td><td>55</td></tr><tr><td>female</td><td>group C</td><td>bachelor's degree</td><td>standard</td><td>none</td><td>67</td><td>69</td><td>75</td></tr><tr><td>male</td><td>group C</td><td>high school</td><td>standard</td><td>none</td><td>70</td><td>70</td><td>65</td></tr><tr><td>female</td><td>group D</td><td>master's degree</td><td>standard</td><td>none</td><td>62</td><td>70</td><td>75</td></tr><tr><td>female</td><td>group D</td><td>some college</td><td>standard</td><td>none</td><td>69</td><td>74</td><td>74</td></tr><tr><td>female</td><td>group B</td><td>some college</td><td>standard</td><td>none</td><td>63</td><td>65</td><td>61</td></tr><tr><td>female</td><td>group E</td><td>master's degree</td><td>free/reduced</td><td>none</td><td>56</td><td>72</td><td>65</td></tr><tr><td>male</td><td>group D</td><td>some college</td><td>standard</td><td>none</td><td>40</td><td>42</td><td>38</td></tr><tr><td>male</td><td>group E</td><td>some college</td><td>standard</td><td>none</td><td>97</td><td>87</td><td>82</td></tr><tr><td>male</td><td>group E</td><td>associate's degree</td><td>standard</td><td>completed</td><td>81</td><td>81</td><td>79</td></tr><tr><td>female</td><td>group D</td><td>associate's degree</td><td>standard</td><td>none</td><td>74</td><td>81</td><td>83</td></tr><tr><td>female</td><td>group D</td><td>some high school</td><td>free/reduced</td><td>none</td><td>50</td><td>64</td><td>59</td></tr><tr><td>female</td><td>group D</td><td>associate's degree</td><td>free/reduced</td><td>completed</td><td>75</td><td>90</td><td>88</td></tr><tr><td>male</td><td>group B</td><td>associate's degree</td><td>free/reduced</td><td>none</td><td>57</td><td>56</td><td>57</td></tr><tr><td>male</td><td>group C</td><td>associate's degree</td><td>free/reduced</td><td>none</td><td>55</td><td>61</td><td>54</td></tr><tr><td>female</td><td>group C</td><td>associate's degree</td><td>standard</td><td>none</td><td>58</td><td>73</td><td>68</td></tr><tr><td>female</td><td>group B</td><td>associate's degree</td><td>standard</td><td>none</td><td>53</td><td>58</td><td>65</td></tr><tr><td>male</td><td>group B</td><td>some college</td><td>free/reduced</td><td>completed</td><td>59</td><td>65</td><td>66</td></tr><tr><td>female</td><td>group E</td><td>associate's degree</td><td>free/reduced</td><td>none</td><td>50</td><td>56</td><td>54</td></tr><tr><td>male</td><td>group B</td><td>associate's degree</td><td>standard</td><td>none</td><td>65</td><td>54</td><td>57</td></tr><tr><td>female</td><td>group A</td><td>associate's degree</td><td>standard</td><td>completed</td><td>55</td><td>65</td><td>62</td></tr><tr><td>female</td><td>group C</td><td>high school</td><td>standard</td><td>none</td><td>66</td><td>71</td><td>76</td></tr><tr><td>female</td><td>group D</td><td>associate's degree</td><td>free/reduced</td><td>completed</td><td>57</td><td>74</td><td>76</td></tr><tr><td>male</td><td>group C</td><td>high school</td><td>standard</td><td>completed</td><td>82</td><td>84</td><td>82</td></tr><tr><td>male</td><td>group E</td><td>some college</td><td>standard</td><td>none</td><td>53</td><td>55</td><td>48</td></tr><tr><td>male</td><td>group E</td><td>associate's degree</td><td>free/reduced</td><td>completed</td><td>77</td><td>69</td><td>68</td></tr><tr><td>male</td><td>group C</td><td>some college</td><td>standard</td><td>none</td><td>53</td><td>44</td><td>42</td></tr><tr><td>male</td><td>group D</td><td>high school</td><td>standard</td><td>none</td><td>88</td><td>78</td><td>75</td></tr><tr><td>female</td><td>group C</td><td>some high school</td><td>free/reduced</td><td>completed</td><td>71</td><td>84</td><td>87</td></tr><tr><td>female</td><td>group C</td><td>high school</td><td>free/reduced</td><td>none</td><td>33</td><td>41</td><td>43</td></tr><tr><td>female</td><td>group E</td><td>associate's degree</td><td>standard</td><td>completed</td><td>82</td><td>85</td><td>86</td></tr><tr><td>male</td><td>group D</td><td>associate's degree</td><td>standard</td><td>none</td><td>52</td><td>55</td><td>49</td></tr><tr><td>male</td><td>group D</td><td>some college</td><td>standard</td><td>completed</td><td>58</td><td>59</td><td>58</td></tr><tr><td>female</td><td>group C</td><td>some high school</td><td>free/reduced</td><td>none</td><td>0</td><td>17</td><td>10</td></tr><tr><td>male</td><td>group E</td><td>bachelor's degree</td><td>free/reduced</td><td>completed</td><td>79</td><td>74</td><td>72</td></tr><tr><td>male</td><td>group A</td><td>some high school</td><td>free/reduced</td><td>none</td><td>39</td><td>39</td><td>34</td></tr><tr><td>male</td><td>group A</td><td>associate's degree</td><td>free/reduced</td><td>none</td><td>62</td><td>61</td><td>55</td></tr><tr><td>female</td><td>group C</td><td>associate's degree</td><td>standard</td><td>none</td><td>69</td><td>80</td><td>71</td></tr><tr><td>female</td><td>group D</td><td>some high school</td><td>standard</td><td>none</td><td>59</td><td>58</td><td>59</td></tr><tr><td>male</td><td>group B</td><td>some high school</td><td>standard</td><td>none</td><td>67</td><td>64</td><td>61</td></tr><tr><td>male</td><td>group D</td><td>some high school</td><td>free/reduced</td><td>none</td><td>45</td><td>37</td><td>37</td></tr><tr><td>female</td><td>group C</td><td>some college</td><td>standard</td><td>none</td><td>60</td><td>72</td><td>74</td></tr><tr><td>male</td><td>group B</td><td>associate's degree</td><td>free/reduced</td><td>none</td><td>61</td><td>58</td><td>56</td></tr><tr><td>female</td><td>group C</td><td>associate's degree</td><td>standard</td><td>none</td><td>39</td><td>64</td><td>57</td></tr><tr><td>female</td><td>group D</td><td>some college</td><td>free/reduced</td><td>completed</td><td>58</td><td>63</td><td>73</td></tr><tr><td>male</td><td>group D</td><td>some college</td><td>standard</td><td>completed</td><td>63</td><td>55</td><td>63</td></tr><tr><td>female</td><td>group A</td><td>associate's degree</td><td>free/reduced</td><td>none</td><td>41</td><td>51</td><td>48</td></tr><tr><td>male</td><td>group C</td><td>some high school</td><td>free/reduced</td><td>none</td><td>61</td><td>57</td><td>56</td></tr><tr><td>male</td><td>group C</td><td>some high school</td><td>standard</td><td>none</td><td>49</td><td>49</td><td>41</td></tr><tr><td>male</td><td>group B</td><td>associate's degree</td><td>free/reduced</td><td>none</td><td>44</td><td>41</td><td>38</td></tr><tr><td>male</td><td>group E</td><td>some high school</td><td>standard</td><td>none</td><td>30</td><td>26</td><td>22</td></tr><tr><td>male</td><td>group A</td><td>bachelor's degree</td><td>standard</td><td>completed</td><td>80</td><td>78</td><td>81</td></tr><tr><td>female</td><td>group D</td><td>some high school</td><td>standard</td><td>completed</td><td>61</td><td>74</td><td>72</td></tr><tr><td>female</td><td>group E</td><td>master's degree</td><td>standard</td><td>none</td><td>62</td><td>68</td><td>68</td></tr><tr><td>female</td><td>group B</td><td>associate's degree</td><td>standard</td><td>none</td><td>47</td><td>49</td><td>50</td></tr><tr><td>male</td><td>group B</td><td>high school</td><td>free/reduced</td><td>none</td><td>49</td><td>45</td><td>45</td></tr><tr><td>male</td><td>group A</td><td>some college</td><td>free/reduced</td><td>completed</td><td>50</td><td>47</td><td>54</td></tr><tr><td>male</td><td>group E</td><td>associate's degree</td><td>standard</td><td>none</td><td>72</td><td>64</td><td>63</td></tr><tr><td>male</td><td>group D</td><td>high school</td><td>free/reduced</td><td>none</td><td>42</td><td>39</td><td>34</td></tr><tr><td>female</td><td>group C</td><td>some college</td><td>standard</td><td>none</td><td>73</td><td>80</td><td>82</td></tr><tr><td>female</td><td>group C</td><td>some college</td><td>free/reduced</td><td>none</td><td>76</td><td>83</td><td>88</td></tr><tr><td>female</td><td>group D</td><td>associate's degree</td><td>standard</td><td>none</td><td>71</td><td>71</td><td>74</td></tr><tr><td>female</td><td>group A</td><td>some college</td><td>standard</td><td>none</td><td>58</td><td>70</td><td>67</td></tr><tr><td>female</td><td>group D</td><td>some high school</td><td>standard</td><td>none</td><td>73</td><td>86</td><td>82</td></tr><tr><td>female</td><td>group C</td><td>bachelor's degree</td><td>standard</td><td>none</td><td>65</td><td>72</td><td>74</td></tr><tr><td>male</td><td>group C</td><td>high school</td><td>free/reduced</td><td>none</td><td>27</td><td>34</td><td>36</td></tr><tr><td>male</td><td>group C</td><td>high school</td><td>standard</td><td>none</td><td>71</td><td>79</td><td>71</td></tr><tr><td>male</td><td>group C</td><td>associate's degree</td><td>free/reduced</td><td>completed</td><td>43</td><td>45</td><td>50</td></tr><tr><td>female</td><td>group B</td><td>some college</td><td>standard</td><td>none</td><td>79</td><td>86</td><td>92</td></tr><tr><td>male</td><td>group C</td><td>associate's degree</td><td>free/reduced</td><td>completed</td><td>78</td><td>81</td><td>82</td></tr><tr><td>male</td><td>group B</td><td>some high school</td><td>standard</td><td>completed</td><td>65</td><td>66</td><td>62</td></tr><tr><td>female</td><td>group E</td><td>some college</td><td>standard</td><td>completed</td><td>63</td><td>72</td><td>70</td></tr><tr><td>female</td><td>group D</td><td>some college</td><td>free/reduced</td><td>none</td><td>58</td><td>67</td><td>62</td></tr><tr><td>female</td><td>group D</td><td>bachelor's degree</td><td>standard</td><td>none</td><td>65</td><td>67</td><td>62</td></tr><tr><td>male</td><td>group B</td><td>some college</td><td>standard</td><td>none</td><td>79</td><td>67</td><td>67</td></tr><tr><td>male</td><td>group D</td><td>bachelor's degree</td><td>standard</td><td>completed</td><td>68</td><td>74</td><td>74</td></tr><tr><td>female</td><td>group D</td><td>associate's degree</td><td>standard</td><td>none</td><td>85</td><td>91</td><td>89</td></tr><tr><td>male</td><td>group B</td><td>high school</td><td>standard</td><td>completed</td><td>60</td><td>44</td><td>47</td></tr><tr><td>male</td><td>group C</td><td>some college</td><td>standard</td><td>completed</td><td>98</td><td>86</td><td>90</td></tr><tr><td>female</td><td>group C</td><td>some college</td><td>standard</td><td>none</td><td>58</td><td>67</td><td>72</td></tr><tr><td>female</td><td>group D</td><td>master's degree</td><td>standard</td><td>none</td><td>87</td><td>100</td><td>100</td></tr><tr><td>male</td><td>group E</td><td>associate's degree</td><td>standard</td><td>completed</td><td>66</td><td>63</td><td>64</td></tr><tr><td>female</td><td>group B</td><td>associate's degree</td><td>free/reduced</td><td>none</td><td>52</td><td>76</td><td>70</td></tr><tr><td>female</td><td>group B</td><td>some high school</td><td>standard</td><td>none</td><td>70</td><td>64</td><td>72</td></tr><tr><td>female</td><td>group D</td><td>associate's degree</td><td>free/reduced</td><td>completed</td><td>77</td><td>89</td><td>98</td></tr><tr><td>male</td><td>group C</td><td>high school</td><td>standard</td><td>none</td><td>62</td><td>55</td><td>49</td></tr><tr><td>male</td><td>group A</td><td>associate's degree</td><td>standard</td><td>none</td><td>54</td><td>53</td><td>47</td></tr><tr><td>female</td><td>group D</td><td>some college</td><td>standard</td><td>none</td><td>51</td><td>58</td><td>54</td></tr><tr><td>female</td><td>group E</td><td>bachelor's degree</td><td>standard</td><td>completed</td><td>99</td><td>100</td><td>100</td></tr><tr><td>male</td><td>group C</td><td>high school</td><td>standard</td><td>none</td><td>84</td><td>77</td><td>74</td></tr><tr><td>female</td><td>group B</td><td>bachelor's degree</td><td>free/reduced</td><td>none</td><td>75</td><td>85</td><td>82</td></tr><tr><td>female</td><td>group D</td><td>bachelor's degree</td><td>standard</td><td>none</td><td>78</td><td>82</td><td>79</td></tr><tr><td>female</td><td>group D</td><td>some high school</td><td>standard</td><td>none</td><td>51</td><td>63</td><td>61</td></tr><tr><td>female</td><td>group C</td><td>some college</td><td>standard</td><td>none</td><td>55</td><td>69</td><td>65</td></tr><tr><td>female</td><td>group C</td><td>bachelor's degree</td><td>standard</td><td>completed</td><td>79</td><td>92</td><td>89</td></tr><tr><td>male</td><td>group B</td><td>associate's degree</td><td>standard</td><td>completed</td><td>91</td><td>89</td><td>92</td></tr><tr><td>female</td><td>group C</td><td>some college</td><td>standard</td><td>completed</td><td>88</td><td>93</td><td>93</td></tr><tr><td>male</td><td>group D</td><td>high school</td><td>free/reduced</td><td>none</td><td>63</td><td>57</td><td>56</td></tr><tr><td>male</td><td>group E</td><td>some college</td><td>standard</td><td>none</td><td>83</td><td>80</td><td>73</td></tr><tr><td>female</td><td>group B</td><td>high school</td><td>standard</td><td>none</td><td>87</td><td>95</td><td>86</td></tr><tr><td>male</td><td>group B</td><td>some high school</td><td>standard</td><td>none</td><td>72</td><td>68</td><td>67</td></tr><tr><td>male</td><td>group D</td><td>some college</td><td>standard</td><td>completed</td><td>65</td><td>77</td><td>74</td></tr><tr><td>male</td><td>group D</td><td>master's degree</td><td>standard</td><td>none</td><td>82</td><td>82</td><td>74</td></tr><tr><td>female</td><td>group A</td><td>bachelor's degree</td><td>standard</td><td>none</td><td>51</td><td>49</td><td>51</td></tr><tr><td>male</td><td>group D</td><td>master's degree</td><td>standard</td><td>none</td><td>89</td><td>84</td><td>82</td></tr><tr><td>male</td><td>group C</td><td>some high school</td><td>free/reduced</td><td>completed</td><td>53</td><td>37</td><td>40</td></tr><tr><td>male</td><td>group E</td><td>some college</td><td>free/reduced</td><td>completed</td><td>87</td><td>74</td><td>70</td></tr><tr><td>female</td><td>group C</td><td>some college</td><td>standard</td><td>completed</td><td>75</td><td>81</td><td>84</td></tr><tr><td>male</td><td>group D</td><td>bachelor's degree</td><td>free/reduced</td><td>completed</td><td>74</td><td>79</td><td>75</td></tr><tr><td>male</td><td>group C</td><td>bachelor's degree</td><td>standard</td><td>none</td><td>58</td><td>55</td><td>48</td></tr><tr><td>male</td><td>group B</td><td>some high school</td><td>standard</td><td>completed</td><td>51</td><td>54</td><td>41</td></tr><tr><td>male</td><td>group E</td><td>high school</td><td>standard</td><td>none</td><td>70</td><td>55</td><td>56</td></tr><tr><td>female</td><td>group C</td><td>associate's degree</td><td>standard</td><td>none</td><td>59</td><td>66</td><td>67</td></tr><tr><td>male</td><td>group D</td><td>some college</td><td>standard</td><td>completed</td><td>71</td><td>61</td><td>69</td></tr><tr><td>female</td><td>group D</td><td>some high school</td><td>standard</td><td>none</td><td>76</td><td>72</td><td>71</td></tr><tr><td>female</td><td>group C</td><td>some college</td><td>free/reduced</td><td>none</td><td>59</td><td>62</td><td>64</td></tr><tr><td>female</td><td>group E</td><td>some college</td><td>free/reduced</td><td>completed</td><td>42</td><td>55</td><td>54</td></tr><tr><td>male</td><td>group A</td><td>high school</td><td>standard</td><td>none</td><td>57</td><td>43</td><td>47</td></tr><tr><td>male</td><td>group D</td><td>some college</td><td>standard</td><td>none</td><td>88</td><td>73</td><td>78</td></tr><tr><td>female</td><td>group C</td><td>some college</td><td>free/reduced</td><td>none</td><td>22</td><td>39</td><td>33</td></tr><tr><td>male</td><td>group B</td><td>some high school</td><td>standard</td><td>none</td><td>88</td><td>84</td><td>75</td></tr><tr><td>male</td><td>group C</td><td>associate's degree</td><td>free/reduced</td><td>none</td><td>73</td><td>68</td><td>66</td></tr><tr><td>female</td><td>group D</td><td>bachelor's degree</td><td>standard</td><td>completed</td><td>68</td><td>75</td><td>81</td></tr><tr><td>male</td><td>group E</td><td>associate's degree</td><td>free/reduced</td><td>completed</td><td>100</td><td>100</td><td>93</td></tr><tr><td>male</td><td>group A</td><td>some high school</td><td>standard</td><td>completed</td><td>62</td><td>67</td><td>69</td></tr><tr><td>male</td><td>group A</td><td>bachelor's degree</td><td>standard</td><td>none</td><td>77</td><td>67</td><td>68</td></tr><tr><td>female</td><td>group B</td><td>associate's degree</td><td>standard</td><td>completed</td><td>59</td><td>70</td><td>66</td></tr><tr><td>male</td><td>group D</td><td>bachelor's degree</td><td>standard</td><td>none</td><td>54</td><td>49</td><td>47</td></tr><tr><td>male</td><td>group D</td><td>some high school</td><td>standard</td><td>none</td><td>62</td><td>67</td><td>61</td></tr><tr><td>female</td><td>group C</td><td>some college</td><td>standard</td><td>completed</td><td>70</td><td>89</td><td>88</td></tr><tr><td>female</td><td>group E</td><td>high school</td><td>free/reduced</td><td>completed</td><td>66</td><td>74</td><td>78</td></tr><tr><td>male</td><td>group B</td><td>some college</td><td>free/reduced</td><td>none</td><td>60</td><td>60</td><td>60</td></tr><tr><td>female</td><td>group B</td><td>associate's degree</td><td>standard</td><td>completed</td><td>61</td><td>86</td><td>87</td></tr><tr><td>male</td><td>group D</td><td>associate's degree</td><td>free/reduced</td><td>none</td><td>66</td><td>62</td><td>64</td></tr><tr><td>male</td><td>group B</td><td>associate's degree</td><td>free/reduced</td><td>completed</td><td>82</td><td>78</td><td>74</td></tr><tr><td>female</td><td>group E</td><td>some college</td><td>free/reduced</td><td>completed</td><td>75</td><td>88</td><td>85</td></tr><tr><td>male</td><td>group B</td><td>master's degree</td><td>free/reduced</td><td>none</td><td>49</td><td>53</td><td>52</td></tr><tr><td>male</td><td>group C</td><td>high school</td><td>standard</td><td>none</td><td>52</td><td>53</td><td>49</td></tr><tr><td>female</td><td>group E</td><td>master's degree</td><td>standard</td><td>none</td><td>81</td><td>92</td><td>91</td></tr><tr><td>female</td><td>group C</td><td>bachelor's degree</td><td>standard</td><td>completed</td><td>96</td><td>100</td><td>100</td></tr><tr><td>male</td><td>group C</td><td>high school</td><td>free/reduced</td><td>completed</td><td>53</td><td>51</td><td>51</td></tr><tr><td>female</td><td>group B</td><td>master's degree</td><td>free/reduced</td><td>completed</td><td>58</td><td>76</td><td>78</td></tr><tr><td>female</td><td>group B</td><td>high school</td><td>standard</td><td>completed</td><td>68</td><td>83</td><td>78</td></tr><tr><td>female</td><td>group C</td><td>some college</td><td>free/reduced</td><td>completed</td><td>67</td><td>75</td><td>70</td></tr><tr><td>male</td><td>group A</td><td>high school</td><td>standard</td><td>completed</td><td>72</td><td>73</td><td>74</td></tr><tr><td>male</td><td>group E</td><td>some high school</td><td>standard</td><td>none</td><td>94</td><td>88</td><td>78</td></tr><tr><td>female</td><td>group D</td><td>some college</td><td>standard</td><td>none</td><td>79</td><td>86</td><td>81</td></tr><tr><td>female</td><td>group C</td><td>associate's degree</td><td>standard</td><td>none</td><td>63</td><td>67</td><td>70</td></tr><tr><td>female</td><td>group C</td><td>bachelor's degree</td><td>free/reduced</td><td>completed</td><td>43</td><td>51</td><td>54</td></tr><tr><td>female</td><td>group C</td><td>master's degree</td><td>standard</td><td>completed</td><td>81</td><td>91</td><td>87</td></tr><tr><td>female</td><td>group B</td><td>high school</td><td>free/reduced</td><td>completed</td><td>46</td><td>54</td><td>58</td></tr><tr><td>female</td><td>group C</td><td>associate's degree</td><td>standard</td><td>completed</td><td>71</td><td>77</td><td>77</td></tr><tr><td>female</td><td>group B</td><td>master's degree</td><td>free/reduced</td><td>completed</td><td>52</td><td>70</td><td>62</td></tr><tr><td>female</td><td>group D</td><td>some high school</td><td>standard</td><td>completed</td><td>97</td><td>100</td><td>100</td></tr><tr><td>male</td><td>group C</td><td>master's degree</td><td>free/reduced</td><td>completed</td><td>62</td><td>68</td><td>75</td></tr><tr><td>female</td><td>group C</td><td>some college</td><td>free/reduced</td><td>none</td><td>46</td><td>64</td><td>66</td></tr><tr><td>female</td><td>group E</td><td>high school</td><td>standard</td><td>none</td><td>50</td><td>50</td><td>47</td></tr><tr><td>female</td><td>group D</td><td>associate's degree</td><td>standard</td><td>none</td><td>65</td><td>69</td><td>70</td></tr><tr><td>male</td><td>group C</td><td>some high school</td><td>free/reduced</td><td>completed</td><td>45</td><td>52</td><td>49</td></tr><tr><td>male</td><td>group C</td><td>associate's degree</td><td>free/reduced</td><td>completed</td><td>65</td><td>67</td><td>65</td></tr><tr><td>male</td><td>group E</td><td>high school</td><td>standard</td><td>none</td><td>80</td><td>76</td><td>65</td></tr><tr><td>male</td><td>group D</td><td>some high school</td><td>standard</td><td>completed</td><td>62</td><td>66</td><td>68</td></tr><tr><td>male</td><td>group B</td><td>some high school</td><td>free/reduced</td><td>none</td><td>48</td><td>52</td><td>45</td></tr><tr><td>female</td><td>group C</td><td>bachelor's degree</td><td>standard</td><td>none</td><td>77</td><td>88</td><td>87</td></tr><tr><td>female</td><td>group E</td><td>associate's degree</td><td>standard</td><td>none</td><td>66</td><td>65</td><td>69</td></tr><tr><td>male</td><td>group D</td><td>some college</td><td>standard</td><td>completed</td><td>76</td><td>83</td><td>79</td></tr><tr><td>female</td><td>group B</td><td>some high school</td><td>standard</td><td>none</td><td>62</td><td>64</td><td>66</td></tr><tr><td>male</td><td>group D</td><td>some college</td><td>standard</td><td>completed</td><td>77</td><td>62</td><td>62</td></tr><tr><td>female</td><td>group C</td><td>master's degree</td><td>standard</td><td>completed</td><td>69</td><td>84</td><td>85</td></tr><tr><td>male</td><td>group D</td><td>associate's degree</td><td>standard</td><td>none</td><td>61</td><td>55</td><td>52</td></tr><tr><td>male</td><td>group C</td><td>some high school</td><td>free/reduced</td><td>completed</td><td>59</td><td>69</td><td>65</td></tr><tr><td>male</td><td>group E</td><td>high school</td><td>free/reduced</td><td>none</td><td>55</td><td>56</td><td>51</td></tr><tr><td>female</td><td>group B</td><td>some college</td><td>free/reduced</td><td>none</td><td>45</td><td>53</td><td>55</td></tr><tr><td>female</td><td>group B</td><td>bachelor's degree</td><td>free/reduced</td><td>none</td><td>78</td><td>79</td><td>76</td></tr><tr><td>female</td><td>group C</td><td>associate's degree</td><td>standard</td><td>completed</td><td>67</td><td>84</td><td>86</td></tr><tr><td>female</td><td>group D</td><td>some college</td><td>free/reduced</td><td>none</td><td>65</td><td>81</td><td>77</td></tr><tr><td>male</td><td>group C</td><td>associate's degree</td><td>standard</td><td>none</td><td>69</td><td>77</td><td>69</td></tr><tr><td>female</td><td>group B</td><td>associate's degree</td><td>standard</td><td>none</td><td>57</td><td>69</td><td>68</td></tr><tr><td>male</td><td>group C</td><td>some college</td><td>standard</td><td>none</td><td>59</td><td>41</td><td>42</td></tr><tr><td>male</td><td>group D</td><td>some high school</td><td>standard</td><td>completed</td><td>74</td><td>71</td><td>78</td></tr><tr><td>male</td><td>group E</td><td>bachelor's degree</td><td>standard</td><td>none</td><td>82</td><td>62</td><td>62</td></tr><tr><td>male</td><td>group E</td><td>high school</td><td>standard</td><td>completed</td><td>81</td><td>80</td><td>76</td></tr><tr><td>female</td><td>group B</td><td>some college</td><td>free/reduced</td><td>none</td><td>74</td><td>81</td><td>76</td></tr><tr><td>female</td><td>group B</td><td>some college</td><td>free/reduced</td><td>none</td><td>58</td><td>61</td><td>66</td></tr><tr><td>male</td><td>group D</td><td>some high school</td><td>free/reduced</td><td>completed</td><td>80</td><td>79</td><td>79</td></tr><tr><td>male</td><td>group C</td><td>some college</td><td>free/reduced</td><td>none</td><td>35</td><td>28</td><td>27</td></tr><tr><td>female</td><td>group C</td><td>high school</td><td>free/reduced</td><td>none</td><td>42</td><td>62</td><td>60</td></tr><tr><td>male</td><td>group C</td><td>associate's degree</td><td>free/reduced</td><td>completed</td><td>60</td><td>51</td><td>56</td></tr><tr><td>male</td><td>group E</td><td>high school</td><td>standard</td><td>completed</td><td>87</td><td>91</td><td>81</td></tr><tr><td>male</td><td>group B</td><td>some high school</td><td>standard</td><td>completed</td><td>84</td><td>83</td><td>75</td></tr><tr><td>female</td><td>group E</td><td>associate's degree</td><td>free/reduced</td><td>completed</td><td>83</td><td>86</td><td>88</td></tr><tr><td>female</td><td>group C</td><td>high school</td><td>free/reduced</td><td>none</td><td>34</td><td>42</td><td>39</td></tr><tr><td>male</td><td>group B</td><td>high school</td><td>free/reduced</td><td>none</td><td>66</td><td>77</td><td>70</td></tr><tr><td>male</td><td>group B</td><td>some high school</td><td>standard</td><td>completed</td><td>61</td><td>56</td><td>56</td></tr><tr><td>female</td><td>group D</td><td>high school</td><td>standard</td><td>completed</td><td>56</td><td>68</td><td>74</td></tr><tr><td>male</td><td>group B</td><td>associate's degree</td><td>standard</td><td>none</td><td>87</td><td>85</td><td>73</td></tr><tr><td>female</td><td>group C</td><td>some high school</td><td>free/reduced</td><td>none</td><td>55</td><td>65</td><td>62</td></tr><tr><td>male</td><td>group D</td><td>some high school</td><td>standard</td><td>none</td><td>86</td><td>80</td><td>75</td></tr><tr><td>female</td><td>group B</td><td>associate's degree</td><td>standard</td><td>completed</td><td>52</td><td>66</td><td>73</td></tr><tr><td>female</td><td>group E</td><td>master's degree</td><td>free/reduced</td><td>none</td><td>45</td><td>56</td><td>54</td></tr><tr><td>female</td><td>group C</td><td>some college</td><td>standard</td><td>none</td><td>72</td><td>72</td><td>71</td></tr><tr><td>male</td><td>group D</td><td>high school</td><td>standard</td><td>none</td><td>57</td><td>50</td><td>54</td></tr><tr><td>male</td><td>group A</td><td>some high school</td><td>free/reduced</td><td>none</td><td>68</td><td>72</td><td>64</td></tr><tr><td>female</td><td>group C</td><td>some college</td><td>standard</td><td>completed</td><td>88</td><td>95</td><td>94</td></tr><tr><td>male</td><td>group D</td><td>some college</td><td>standard</td><td>none</td><td>76</td><td>64</td><td>66</td></tr><tr><td>male</td><td>group C</td><td>associate's degree</td><td>standard</td><td>none</td><td>46</td><td>43</td><td>42</td></tr><tr><td>female</td><td>group B</td><td>bachelor's degree</td><td>standard</td><td>none</td><td>67</td><td>86</td><td>83</td></tr><tr><td>male</td><td>group E</td><td>some high school</td><td>standard</td><td>none</td><td>92</td><td>87</td><td>78</td></tr><tr><td>male</td><td>group C</td><td>bachelor's degree</td><td>standard</td><td>completed</td><td>83</td><td>82</td><td>84</td></tr><tr><td>male</td><td>group D</td><td>associate's degree</td><td>standard</td><td>none</td><td>80</td><td>75</td><td>77</td></tr><tr><td>male</td><td>group D</td><td>bachelor's degree</td><td>free/reduced</td><td>none</td><td>63</td><td>66</td><td>67</td></tr><tr><td>female</td><td>group D</td><td>some high school</td><td>standard</td><td>completed</td><td>64</td><td>60</td><td>74</td></tr><tr><td>male</td><td>group B</td><td>some college</td><td>standard</td><td>none</td><td>54</td><td>52</td><td>51</td></tr><tr><td>male</td><td>group C</td><td>associate's degree</td><td>standard</td><td>none</td><td>84</td><td>80</td><td>80</td></tr><tr><td>male</td><td>group D</td><td>high school</td><td>free/reduced</td><td>completed</td><td>73</td><td>68</td><td>66</td></tr><tr><td>female</td><td>group E</td><td>bachelor's degree</td><td>standard</td><td>none</td><td>80</td><td>83</td><td>83</td></tr><tr><td>female</td><td>group D</td><td>high school</td><td>standard</td><td>none</td><td>56</td><td>52</td><td>55</td></tr><tr><td>male</td><td>group E</td><td>some college</td><td>standard</td><td>none</td><td>59</td><td>51</td><td>43</td></tr><tr><td>male</td><td>group D</td><td>some high school</td><td>standard</td><td>none</td><td>75</td><td>74</td><td>69</td></tr><tr><td>male</td><td>group C</td><td>associate's degree</td><td>standard</td><td>none</td><td>85</td><td>76</td><td>71</td></tr><tr><td>male</td><td>group E</td><td>associate's degree</td><td>standard</td><td>none</td><td>89</td><td>76</td><td>74</td></tr><tr><td>female</td><td>group B</td><td>high school</td><td>standard</td><td>completed</td><td>58</td><td>70</td><td>68</td></tr><tr><td>female</td><td>group B</td><td>high school</td><td>standard</td><td>none</td><td>65</td><td>64</td><td>62</td></tr><tr><td>male</td><td>group C</td><td>high school</td><td>standard</td><td>none</td><td>68</td><td>60</td><td>53</td></tr><tr><td>male</td><td>group A</td><td>some high school</td><td>standard</td><td>completed</td><td>47</td><td>49</td><td>49</td></tr><tr><td>female</td><td>group D</td><td>some college</td><td>free/reduced</td><td>none</td><td>71</td><td>83</td><td>83</td></tr><tr><td>female</td><td>group B</td><td>some high school</td><td>standard</td><td>completed</td><td>60</td><td>70</td><td>70</td></tr><tr><td>male</td><td>group D</td><td>master's degree</td><td>standard</td><td>none</td><td>80</td><td>80</td><td>72</td></tr><tr><td>male</td><td>group D</td><td>high school</td><td>standard</td><td>none</td><td>54</td><td>52</td><td>52</td></tr><tr><td>female</td><td>group E</td><td>some college</td><td>standard</td><td>none</td><td>62</td><td>73</td><td>70</td></tr><tr><td>female</td><td>group C</td><td>associate's degree</td><td>free/reduced</td><td>none</td><td>64</td><td>73</td><td>68</td></tr><tr><td>male</td><td>group C</td><td>associate's degree</td><td>standard</td><td>completed</td><td>78</td><td>77</td><td>77</td></tr><tr><td>female</td><td>group B</td><td>some college</td><td>standard</td><td>none</td><td>70</td><td>75</td><td>78</td></tr><tr><td>female</td><td>group C</td><td>master's degree</td><td>free/reduced</td><td>completed</td><td>65</td><td>81</td><td>81</td></tr><tr><td>female</td><td>group C</td><td>some high school</td><td>free/reduced</td><td>completed</td><td>64</td><td>79</td><td>77</td></tr><tr><td>male</td><td>group C</td><td>some college</td><td>standard</td><td>completed</td><td>79</td><td>79</td><td>78</td></tr><tr><td>female</td><td>group C</td><td>some high school</td><td>free/reduced</td><td>none</td><td>44</td><td>50</td><td>51</td></tr><tr><td>female</td><td>group E</td><td>high school</td><td>standard</td><td>none</td><td>99</td><td>93</td><td>90</td></tr><tr><td>male</td><td>group D</td><td>high school</td><td>standard</td><td>none</td><td>76</td><td>73</td><td>68</td></tr><tr><td>male</td><td>group D</td><td>some high school</td><td>free/reduced</td><td>none</td><td>59</td><td>42</td><td>41</td></tr><tr><td>female</td><td>group C</td><td>bachelor's degree</td><td>standard</td><td>none</td><td>63</td><td>75</td><td>81</td></tr><tr><td>female</td><td>group D</td><td>high school</td><td>standard</td><td>none</td><td>69</td><td>72</td><td>77</td></tr><tr><td>female</td><td>group D</td><td>associate's degree</td><td>standard</td><td>completed</td><td>88</td><td>92</td><td>95</td></tr><tr><td>female</td><td>group E</td><td>some college</td><td>free/reduced</td><td>none</td><td>71</td><td>76</td><td>70</td></tr><tr><td>male</td><td>group C</td><td>bachelor's degree</td><td>standard</td><td>none</td><td>69</td><td>63</td><td>61</td></tr><tr><td>male</td><td>group C</td><td>some college</td><td>standard</td><td>none</td><td>58</td><td>49</td><td>42</td></tr><tr><td>female</td><td>group D</td><td>associate's degree</td><td>free/reduced</td><td>none</td><td>47</td><td>53</td><td>58</td></tr><tr><td>female</td><td>group D</td><td>some college</td><td>standard</td><td>none</td><td>65</td><td>70</td><td>71</td></tr><tr><td>male</td><td>group B</td><td>some college</td><td>standard</td><td>completed</td><td>88</td><td>85</td><td>76</td></tr><tr><td>male</td><td>group C</td><td>bachelor's degree</td><td>standard</td><td>none</td><td>83</td><td>78</td><td>73</td></tr><tr><td>female</td><td>group C</td><td>some high school</td><td>standard</td><td>completed</td><td>85</td><td>92</td><td>93</td></tr><tr><td>female</td><td>group E</td><td>high school</td><td>standard</td><td>completed</td><td>59</td><td>63</td><td>75</td></tr><tr><td>female</td><td>group C</td><td>some high school</td><td>free/reduced</td><td>none</td><td>65</td><td>86</td><td>80</td></tr><tr><td>male</td><td>group B</td><td>bachelor's degree</td><td>free/reduced</td><td>none</td><td>73</td><td>56</td><td>57</td></tr><tr><td>male</td><td>group D</td><td>high school</td><td>standard</td><td>none</td><td>53</td><td>52</td><td>42</td></tr><tr><td>male</td><td>group D</td><td>high school</td><td>standard</td><td>none</td><td>45</td><td>48</td><td>46</td></tr><tr><td>female</td><td>group D</td><td>bachelor's degree</td><td>free/reduced</td><td>none</td><td>73</td><td>79</td><td>84</td></tr><tr><td>female</td><td>group D</td><td>some college</td><td>free/reduced</td><td>completed</td><td>70</td><td>78</td><td>78</td></tr><tr><td>female</td><td>group B</td><td>some high school</td><td>standard</td><td>none</td><td>37</td><td>46</td><td>46</td></tr><tr><td>male</td><td>group B</td><td>associate's degree</td><td>standard</td><td>completed</td><td>81</td><td>82</td><td>82</td></tr><tr><td>male</td><td>group E</td><td>associate's degree</td><td>standard</td><td>completed</td><td>97</td><td>82</td><td>88</td></tr><tr><td>female</td><td>group B</td><td>some high school</td><td>standard</td><td>none</td><td>67</td><td>89</td><td>82</td></tr><tr><td>male</td><td>group B</td><td>bachelor's degree</td><td>free/reduced</td><td>none</td><td>88</td><td>75</td><td>76</td></tr><tr><td>male</td><td>group E</td><td>some high school</td><td>standard</td><td>completed</td><td>77</td><td>76</td><td>77</td></tr><tr><td>male</td><td>group C</td><td>associate's degree</td><td>standard</td><td>none</td><td>76</td><td>70</td><td>68</td></tr><tr><td>male</td><td>group D</td><td>some high school</td><td>standard</td><td>none</td><td>86</td><td>73</td><td>70</td></tr><tr><td>male</td><td>group C</td><td>some high school</td><td>standard</td><td>completed</td><td>63</td><td>60</td><td>57</td></tr><tr><td>female</td><td>group E</td><td>bachelor's degree</td><td>standard</td><td>none</td><td>65</td><td>73</td><td>75</td></tr><tr><td>male</td><td>group D</td><td>high school</td><td>free/reduced</td><td>completed</td><td>78</td><td>77</td><td>80</td></tr><tr><td>male</td><td>group B</td><td>associate's degree</td><td>free/reduced</td><td>none</td><td>67</td><td>62</td><td>60</td></tr><tr><td>male</td><td>group A</td><td>some high school</td><td>standard</td><td>completed</td><td>46</td><td>41</td><td>43</td></tr><tr><td>male</td><td>group E</td><td>associate's degree</td><td>standard</td><td>completed</td><td>71</td><td>74</td><td>68</td></tr><tr><td>male</td><td>group C</td><td>high school</td><td>free/reduced</td><td>completed</td><td>40</td><td>46</td><td>50</td></tr><tr><td>male</td><td>group D</td><td>associate's degree</td><td>free/reduced</td><td>none</td><td>90</td><td>87</td><td>75</td></tr><tr><td>male</td><td>group A</td><td>some college</td><td>free/reduced</td><td>completed</td><td>81</td><td>78</td><td>81</td></tr><tr><td>male</td><td>group D</td><td>some high school</td><td>free/reduced</td><td>none</td><td>56</td><td>54</td><td>52</td></tr><tr><td>female</td><td>group C</td><td>associate's degree</td><td>standard</td><td>completed</td><td>67</td><td>84</td><td>81</td></tr><tr><td>male</td><td>group B</td><td>associate's degree</td><td>standard</td><td>none</td><td>80</td><td>76</td><td>64</td></tr><tr><td>female</td><td>group C</td><td>associate's degree</td><td>standard</td><td>completed</td><td>74</td><td>75</td><td>83</td></tr><tr><td>male</td><td>group A</td><td>some college</td><td>standard</td><td>none</td><td>69</td><td>67</td><td>69</td></tr><tr><td>male</td><td>group E</td><td>some college</td><td>standard</td><td>completed</td><td>99</td><td>87</td><td>81</td></tr><tr><td>male</td><td>group C</td><td>some high school</td><td>standard</td><td>none</td><td>51</td><td>52</td><td>44</td></tr><tr><td>female</td><td>group B</td><td>associate's degree</td><td>free/reduced</td><td>none</td><td>53</td><td>71</td><td>67</td></tr><tr><td>female</td><td>group D</td><td>high school</td><td>free/reduced</td><td>none</td><td>49</td><td>57</td><td>52</td></tr><tr><td>female</td><td>group B</td><td>associate's degree</td><td>standard</td><td>none</td><td>73</td><td>76</td><td>80</td></tr><tr><td>male</td><td>group B</td><td>bachelor's degree</td><td>standard</td><td>none</td><td>66</td><td>60</td><td>57</td></tr><tr><td>male</td><td>group D</td><td>bachelor's degree</td><td>standard</td><td>completed</td><td>67</td><td>61</td><td>68</td></tr><tr><td>female</td><td>group C</td><td>associate's degree</td><td>free/reduced</td><td>completed</td><td>68</td><td>67</td><td>69</td></tr><tr><td>female</td><td>group C</td><td>bachelor's degree</td><td>standard</td><td>completed</td><td>59</td><td>64</td><td>75</td></tr><tr><td>male</td><td>group C</td><td>high school</td><td>standard</td><td>none</td><td>71</td><td>66</td><td>65</td></tr><tr><td>female</td><td>group D</td><td>master's degree</td><td>standard</td><td>completed</td><td>77</td><td>82</td><td>91</td></tr><tr><td>male</td><td>group C</td><td>associate's degree</td><td>standard</td><td>none</td><td>83</td><td>72</td><td>78</td></tr><tr><td>male</td><td>group B</td><td>bachelor's degree</td><td>standard</td><td>none</td><td>63</td><td>71</td><td>69</td></tr><tr><td>female</td><td>group D</td><td>associate's degree</td><td>free/reduced</td><td>none</td><td>56</td><td>65</td><td>63</td></tr><tr><td>female</td><td>group C</td><td>high school</td><td>free/reduced</td><td>completed</td><td>67</td><td>79</td><td>84</td></tr><tr><td>female</td><td>group E</td><td>high school</td><td>standard</td><td>none</td><td>75</td><td>86</td><td>79</td></tr><tr><td>female</td><td>group C</td><td>some college</td><td>standard</td><td>none</td><td>71</td><td>81</td><td>80</td></tr><tr><td>female</td><td>group C</td><td>some high school</td><td>free/reduced</td><td>none</td><td>43</td><td>53</td><td>53</td></tr><tr><td>female</td><td>group C</td><td>high school</td><td>free/reduced</td><td>none</td><td>41</td><td>46</td><td>43</td></tr><tr><td>female</td><td>group C</td><td>some college</td><td>standard</td><td>none</td><td>82</td><td>90</td><td>94</td></tr><tr><td>male</td><td>group C</td><td>some college</td><td>standard</td><td>none</td><td>61</td><td>61</td><td>62</td></tr><tr><td>male</td><td>group A</td><td>some college</td><td>free/reduced</td><td>none</td><td>28</td><td>23</td><td>19</td></tr><tr><td>male</td><td>group C</td><td>associate's degree</td><td>standard</td><td>completed</td><td>82</td><td>75</td><td>77</td></tr><tr><td>female</td><td>group B</td><td>some high school</td><td>standard</td><td>none</td><td>41</td><td>55</td><td>51</td></tr><tr><td>male</td><td>group C</td><td>high school</td><td>standard</td><td>none</td><td>71</td><td>60</td><td>61</td></tr><tr><td>male</td><td>group C</td><td>associate's degree</td><td>standard</td><td>none</td><td>47</td><td>37</td><td>35</td></tr><tr><td>male</td><td>group E</td><td>associate's degree</td><td>standard</td><td>completed</td><td>62</td><td>56</td><td>53</td></tr><tr><td>male</td><td>group B</td><td>associate's degree</td><td>standard</td><td>none</td><td>90</td><td>78</td><td>81</td></tr><tr><td>female</td><td>group C</td><td>bachelor's degree</td><td>standard</td><td>none</td><td>83</td><td>93</td><td>95</td></tr><tr><td>female</td><td>group B</td><td>some college</td><td>free/reduced</td><td>none</td><td>61</td><td>68</td><td>66</td></tr><tr><td>male</td><td>group D</td><td>some high school</td><td>standard</td><td>completed</td><td>76</td><td>70</td><td>69</td></tr><tr><td>male</td><td>group C</td><td>associate's degree</td><td>standard</td><td>none</td><td>49</td><td>51</td><td>43</td></tr><tr><td>female</td><td>group B</td><td>some high school</td><td>free/reduced</td><td>none</td><td>24</td><td>38</td><td>27</td></tr><tr><td>female</td><td>group D</td><td>some high school</td><td>free/reduced</td><td>completed</td><td>35</td><td>55</td><td>60</td></tr><tr><td>male</td><td>group C</td><td>high school</td><td>free/reduced</td><td>none</td><td>58</td><td>61</td><td>52</td></tr><tr><td>female</td><td>group C</td><td>high school</td><td>standard</td><td>none</td><td>61</td><td>73</td><td>63</td></tr><tr><td>female</td><td>group B</td><td>high school</td><td>standard</td><td>completed</td><td>69</td><td>76</td><td>74</td></tr><tr><td>male</td><td>group D</td><td>associate's degree</td><td>standard</td><td>completed</td><td>67</td><td>72</td><td>67</td></tr><tr><td>male</td><td>group D</td><td>some college</td><td>standard</td><td>none</td><td>79</td><td>73</td><td>67</td></tr><tr><td>female</td><td>group C</td><td>high school</td><td>standard</td><td>none</td><td>72</td><td>80</td><td>75</td></tr><tr><td>male</td><td>group B</td><td>some college</td><td>standard</td><td>none</td><td>62</td><td>61</td><td>57</td></tr><tr><td>female</td><td>group C</td><td>bachelor's degree</td><td>standard</td><td>completed</td><td>77</td><td>94</td><td>95</td></tr><tr><td>male</td><td>group D</td><td>high school</td><td>free/reduced</td><td>none</td><td>75</td><td>74</td><td>66</td></tr><tr><td>male</td><td>group E</td><td>associate's degree</td><td>standard</td><td>none</td><td>87</td><td>74</td><td>76</td></tr><tr><td>female</td><td>group B</td><td>bachelor's degree</td><td>standard</td><td>none</td><td>52</td><td>65</td><td>69</td></tr><tr><td>male</td><td>group E</td><td>some college</td><td>standard</td><td>none</td><td>66</td><td>57</td><td>52</td></tr><tr><td>female</td><td>group C</td><td>some college</td><td>standard</td><td>completed</td><td>63</td><td>78</td><td>80</td></tr><tr><td>female</td><td>group C</td><td>associate's degree</td><td>standard</td><td>none</td><td>46</td><td>58</td><td>57</td></tr><tr><td>female</td><td>group C</td><td>some college</td><td>standard</td><td>none</td><td>59</td><td>71</td><td>70</td></tr><tr><td>female</td><td>group B</td><td>bachelor's degree</td><td>standard</td><td>none</td><td>61</td><td>72</td><td>70</td></tr><tr><td>male</td><td>group A</td><td>associate's degree</td><td>standard</td><td>none</td><td>63</td><td>61</td><td>61</td></tr><tr><td>female</td><td>group C</td><td>some college</td><td>free/reduced</td><td>completed</td><td>42</td><td>66</td><td>69</td></tr><tr><td>male</td><td>group D</td><td>some college</td><td>free/reduced</td><td>none</td><td>59</td><td>62</td><td>61</td></tr><tr><td>female</td><td>group D</td><td>some college</td><td>standard</td><td>none</td><td>80</td><td>90</td><td>89</td></tr><tr><td>female</td><td>group B</td><td>high school</td><td>standard</td><td>none</td><td>58</td><td>62</td><td>59</td></tr><tr><td>male</td><td>group B</td><td>some high school</td><td>standard</td><td>completed</td><td>85</td><td>84</td><td>78</td></tr><tr><td>female</td><td>group C</td><td>some college</td><td>standard</td><td>none</td><td>52</td><td>58</td><td>58</td></tr><tr><td>female</td><td>group D</td><td>some high school</td><td>free/reduced</td><td>none</td><td>27</td><td>34</td><td>32</td></tr><tr><td>male</td><td>group C</td><td>some college</td><td>standard</td><td>none</td><td>59</td><td>60</td><td>58</td></tr><tr><td>male</td><td>group A</td><td>bachelor's degree</td><td>free/reduced</td><td>completed</td><td>49</td><td>58</td><td>60</td></tr><tr><td>male</td><td>group C</td><td>high school</td><td>standard</td><td>completed</td><td>69</td><td>58</td><td>53</td></tr><tr><td>male</td><td>group C</td><td>bachelor's degree</td><td>free/reduced</td><td>none</td><td>61</td><td>66</td><td>61</td></tr><tr><td>female</td><td>group A</td><td>some high school</td><td>free/reduced</td><td>none</td><td>44</td><td>64</td><td>58</td></tr><tr><td>female</td><td>group D</td><td>some high school</td><td>standard</td><td>none</td><td>73</td><td>84</td><td>85</td></tr><tr><td>male</td><td>group E</td><td>some college</td><td>standard</td><td>none</td><td>84</td><td>77</td><td>71</td></tr><tr><td>female</td><td>group C</td><td>some college</td><td>free/reduced</td><td>completed</td><td>45</td><td>73</td><td>70</td></tr><tr><td>male</td><td>group D</td><td>some high school</td><td>standard</td><td>none</td><td>74</td><td>74</td><td>72</td></tr><tr><td>female</td><td>group D</td><td>some college</td><td>standard</td><td>completed</td><td>82</td><td>97</td><td>96</td></tr><tr><td>female</td><td>group D</td><td>bachelor's degree</td><td>standard</td><td>none</td><td>59</td><td>70</td><td>73</td></tr><tr><td>male</td><td>group E</td><td>associate's degree</td><td>free/reduced</td><td>none</td><td>46</td><td>43</td><td>41</td></tr><tr><td>female</td><td>group D</td><td>some high school</td><td>standard</td><td>none</td><td>80</td><td>90</td><td>82</td></tr><tr><td>female</td><td>group D</td><td>master's degree</td><td>free/reduced</td><td>completed</td><td>85</td><td>95</td><td>100</td></tr><tr><td>female</td><td>group A</td><td>some high school</td><td>standard</td><td>none</td><td>71</td><td>83</td><td>77</td></tr><tr><td>male</td><td>group A</td><td>bachelor's degree</td><td>standard</td><td>none</td><td>66</td><td>64</td><td>62</td></tr><tr><td>female</td><td>group B</td><td>associate's degree</td><td>standard</td><td>none</td><td>80</td><td>86</td><td>83</td></tr><tr><td>male</td><td>group C</td><td>associate's degree</td><td>standard</td><td>completed</td><td>87</td><td>100</td><td>95</td></tr><tr><td>male</td><td>group C</td><td>master's degree</td><td>free/reduced</td><td>none</td><td>79</td><td>81</td><td>71</td></tr><tr><td>female</td><td>group E</td><td>some high school</td><td>free/reduced</td><td>none</td><td>38</td><td>49</td><td>45</td></tr><tr><td>female</td><td>group A</td><td>some high school</td><td>free/reduced</td><td>none</td><td>38</td><td>43</td><td>43</td></tr><tr><td>female</td><td>group E</td><td>some college</td><td>standard</td><td>none</td><td>67</td><td>76</td><td>75</td></tr><tr><td>female</td><td>group E</td><td>bachelor's degree</td><td>standard</td><td>none</td><td>64</td><td>73</td><td>70</td></tr><tr><td>female</td><td>group C</td><td>associate's degree</td><td>free/reduced</td><td>none</td><td>57</td><td>78</td><td>67</td></tr><tr><td>female</td><td>group D</td><td>high school</td><td>standard</td><td>none</td><td>62</td><td>64</td><td>64</td></tr><tr><td>male</td><td>group D</td><td>master's degree</td><td>standard</td><td>none</td><td>73</td><td>70</td><td>75</td></tr><tr><td>male</td><td>group E</td><td>some high school</td><td>free/reduced</td><td>completed</td><td>73</td><td>67</td><td>59</td></tr><tr><td>female</td><td>group D</td><td>some college</td><td>standard</td><td>none</td><td>77</td><td>68</td><td>77</td></tr><tr><td>male</td><td>group E</td><td>some college</td><td>standard</td><td>none</td><td>76</td><td>67</td><td>67</td></tr><tr><td>male</td><td>group C</td><td>associate's degree</td><td>standard</td><td>completed</td><td>57</td><td>54</td><td>56</td></tr><tr><td>female</td><td>group C</td><td>some high school</td><td>standard</td><td>completed</td><td>65</td><td>74</td><td>77</td></tr><tr><td>male</td><td>group A</td><td>high school</td><td>free/reduced</td><td>none</td><td>48</td><td>45</td><td>41</td></tr><tr><td>female</td><td>group B</td><td>high school</td><td>free/reduced</td><td>none</td><td>50</td><td>67</td><td>63</td></tr><tr><td>female</td><td>group C</td><td>associate's degree</td><td>standard</td><td>none</td><td>85</td><td>89</td><td>95</td></tr><tr><td>male</td><td>group B</td><td>some high school</td><td>standard</td><td>none</td><td>74</td><td>63</td><td>57</td></tr><tr><td>male</td><td>group D</td><td>some high school</td><td>standard</td><td>none</td><td>60</td><td>59</td><td>54</td></tr><tr><td>female</td><td>group C</td><td>some high school</td><td>standard</td><td>completed</td><td>59</td><td>54</td><td>67</td></tr><tr><td>male</td><td>group A</td><td>some college</td><td>standard</td><td>none</td><td>53</td><td>43</td><td>43</td></tr><tr><td>female</td><td>group A</td><td>some college</td><td>free/reduced</td><td>none</td><td>49</td><td>65</td><td>55</td></tr><tr><td>female</td><td>group D</td><td>high school</td><td>standard</td><td>completed</td><td>88</td><td>99</td><td>100</td></tr><tr><td>female</td><td>group C</td><td>high school</td><td>standard</td><td>none</td><td>54</td><td>59</td><td>62</td></tr><tr><td>female</td><td>group C</td><td>some high school</td><td>standard</td><td>none</td><td>63</td><td>73</td><td>68</td></tr><tr><td>male</td><td>group B</td><td>associate's degree</td><td>standard</td><td>completed</td><td>65</td><td>65</td><td>63</td></tr><tr><td>female</td><td>group B</td><td>associate's degree</td><td>standard</td><td>none</td><td>82</td><td>80</td><td>77</td></tr><tr><td>female</td><td>group D</td><td>high school</td><td>free/reduced</td><td>completed</td><td>52</td><td>57</td><td>56</td></tr><tr><td>male</td><td>group D</td><td>associate's degree</td><td>standard</td><td>completed</td><td>87</td><td>84</td><td>85</td></tr><tr><td>female</td><td>group D</td><td>master's degree</td><td>standard</td><td>completed</td><td>70</td><td>71</td><td>74</td></tr><tr><td>male</td><td>group E</td><td>some college</td><td>standard</td><td>completed</td><td>84</td><td>83</td><td>78</td></tr><tr><td>male</td><td>group D</td><td>associate's degree</td><td>standard</td><td>none</td><td>71</td><td>66</td><td>60</td></tr><tr><td>male</td><td>group B</td><td>some high school</td><td>standard</td><td>completed</td><td>63</td><td>67</td><td>67</td></tr><tr><td>female</td><td>group C</td><td>bachelor's degree</td><td>free/reduced</td><td>completed</td><td>51</td><td>72</td><td>79</td></tr><tr><td>male</td><td>group E</td><td>high school</td><td>standard</td><td>none</td><td>84</td><td>73</td><td>69</td></tr><tr><td>male</td><td>group C</td><td>bachelor's degree</td><td>standard</td><td>completed</td><td>71</td><td>74</td><td>68</td></tr><tr><td>male</td><td>group C</td><td>associate's degree</td><td>standard</td><td>none</td><td>74</td><td>73</td><td>67</td></tr><tr><td>male</td><td>group D</td><td>some college</td><td>standard</td><td>none</td><td>68</td><td>59</td><td>62</td></tr><tr><td>male</td><td>group E</td><td>high school</td><td>free/reduced</td><td>completed</td><td>57</td><td>56</td><td>54</td></tr><tr><td>female</td><td>group C</td><td>associate's degree</td><td>free/reduced</td><td>completed</td><td>82</td><td>93</td><td>93</td></tr><tr><td>female</td><td>group D</td><td>high school</td><td>standard</td><td>completed</td><td>57</td><td>58</td><td>64</td></tr><tr><td>female</td><td>group D</td><td>master's degree</td><td>free/reduced</td><td>completed</td><td>47</td><td>58</td><td>67</td></tr><tr><td>female</td><td>group A</td><td>some high school</td><td>standard</td><td>completed</td><td>59</td><td>85</td><td>80</td></tr><tr><td>male</td><td>group B</td><td>some college</td><td>free/reduced</td><td>none</td><td>41</td><td>39</td><td>34</td></tr><tr><td>female</td><td>group C</td><td>some college</td><td>free/reduced</td><td>none</td><td>62</td><td>67</td><td>62</td></tr><tr><td>male</td><td>group C</td><td>bachelor's degree</td><td>standard</td><td>none</td><td>86</td><td>83</td><td>86</td></tr><tr><td>male</td><td>group C</td><td>some high school</td><td>free/reduced</td><td>none</td><td>69</td><td>71</td><td>65</td></tr><tr><td>male</td><td>group A</td><td>some high school</td><td>free/reduced</td><td>none</td><td>65</td><td>59</td><td>53</td></tr><tr><td>male</td><td>group C</td><td>some high school</td><td>free/reduced</td><td>none</td><td>68</td><td>63</td><td>54</td></tr><tr><td>male</td><td>group C</td><td>associate's degree</td><td>free/reduced</td><td>none</td><td>64</td><td>66</td><td>59</td></tr><tr><td>female</td><td>group C</td><td>high school</td><td>standard</td><td>none</td><td>61</td><td>72</td><td>70</td></tr><tr><td>male</td><td>group C</td><td>high school</td><td>standard</td><td>none</td><td>61</td><td>56</td><td>55</td></tr><tr><td>female</td><td>group A</td><td>some high school</td><td>free/reduced</td><td>none</td><td>47</td><td>59</td><td>50</td></tr><tr><td>male</td><td>group C</td><td>some high school</td><td>standard</td><td>none</td><td>73</td><td>66</td><td>66</td></tr><tr><td>male</td><td>group C</td><td>some college</td><td>free/reduced</td><td>completed</td><td>50</td><td>48</td><td>53</td></tr><tr><td>male</td><td>group D</td><td>associate's degree</td><td>standard</td><td>none</td><td>75</td><td>68</td><td>64</td></tr><tr><td>male</td><td>group D</td><td>associate's degree</td><td>free/reduced</td><td>none</td><td>75</td><td>66</td><td>73</td></tr><tr><td>male</td><td>group C</td><td>high school</td><td>standard</td><td>none</td><td>70</td><td>56</td><td>51</td></tr><tr><td>male</td><td>group D</td><td>some high school</td><td>standard</td><td>completed</td><td>89</td><td>88</td><td>82</td></tr><tr><td>female</td><td>group C</td><td>some college</td><td>standard</td><td>completed</td><td>67</td><td>81</td><td>79</td></tr><tr><td>female</td><td>group D</td><td>high school</td><td>standard</td><td>none</td><td>78</td><td>81</td><td>80</td></tr><tr><td>female</td><td>group A</td><td>some high school</td><td>free/reduced</td><td>none</td><td>59</td><td>73</td><td>69</td></tr><tr><td>female</td><td>group B</td><td>associate's degree</td><td>standard</td><td>none</td><td>73</td><td>83</td><td>76</td></tr><tr><td>male</td><td>group A</td><td>some high school</td><td>free/reduced</td><td>none</td><td>79</td><td>82</td><td>73</td></tr><tr><td>female</td><td>group C</td><td>some high school</td><td>standard</td><td>completed</td><td>67</td><td>74</td><td>77</td></tr><tr><td>male</td><td>group D</td><td>some college</td><td>free/reduced</td><td>none</td><td>69</td><td>66</td><td>60</td></tr><tr><td>male</td><td>group C</td><td>high school</td><td>standard</td><td>completed</td><td>86</td><td>81</td><td>80</td></tr><tr><td>male</td><td>group B</td><td>high school</td><td>standard</td><td>none</td><td>47</td><td>46</td><td>42</td></tr><tr><td>male</td><td>group B</td><td>associate's degree</td><td>standard</td><td>none</td><td>81</td><td>73</td><td>72</td></tr><tr><td>female</td><td>group C</td><td>some college</td><td>free/reduced</td><td>completed</td><td>64</td><td>85</td><td>85</td></tr><tr><td>female</td><td>group E</td><td>some college</td><td>standard</td><td>none</td><td>100</td><td>92</td><td>97</td></tr><tr><td>female</td><td>group C</td><td>associate's degree</td><td>free/reduced</td><td>none</td><td>65</td><td>77</td><td>74</td></tr><tr><td>male</td><td>group C</td><td>some college</td><td>free/reduced</td><td>none</td><td>65</td><td>58</td><td>49</td></tr><tr><td>female</td><td>group C</td><td>associate's degree</td><td>free/reduced</td><td>none</td><td>53</td><td>61</td><td>62</td></tr><tr><td>male</td><td>group C</td><td>bachelor's degree</td><td>free/reduced</td><td>none</td><td>37</td><td>56</td><td>47</td></tr><tr><td>female</td><td>group D</td><td>bachelor's degree</td><td>standard</td><td>none</td><td>79</td><td>89</td><td>89</td></tr><tr><td>male</td><td>group D</td><td>associate's degree</td><td>free/reduced</td><td>none</td><td>53</td><td>54</td><td>48</td></tr><tr><td>female</td><td>group E</td><td>bachelor's degree</td><td>standard</td><td>none</td><td>100</td><td>100</td><td>100</td></tr><tr><td>male</td><td>group B</td><td>high school</td><td>standard</td><td>completed</td><td>72</td><td>65</td><td>68</td></tr><tr><td>male</td><td>group C</td><td>bachelor's degree</td><td>free/reduced</td><td>none</td><td>53</td><td>58</td><td>55</td></tr><tr><td>male</td><td>group B</td><td>some college</td><td>free/reduced</td><td>none</td><td>54</td><td>54</td><td>45</td></tr><tr><td>female</td><td>group E</td><td>some college</td><td>standard</td><td>none</td><td>71</td><td>70</td><td>76</td></tr><tr><td>female</td><td>group C</td><td>some college</td><td>free/reduced</td><td>none</td><td>77</td><td>90</td><td>91</td></tr><tr><td>male</td><td>group A</td><td>bachelor's degree</td><td>standard</td><td>completed</td><td>75</td><td>58</td><td>62</td></tr><tr><td>female</td><td>group C</td><td>some college</td><td>standard</td><td>none</td><td>84</td><td>87</td><td>91</td></tr><tr><td>female</td><td>group D</td><td>associate's degree</td><td>free/reduced</td><td>none</td><td>26</td><td>31</td><td>38</td></tr><tr><td>male</td><td>group A</td><td>high school</td><td>free/reduced</td><td>completed</td><td>72</td><td>67</td><td>65</td></tr><tr><td>female</td><td>group A</td><td>high school</td><td>free/reduced</td><td>completed</td><td>77</td><td>88</td><td>85</td></tr><tr><td>male</td><td>group C</td><td>some college</td><td>standard</td><td>none</td><td>91</td><td>74</td><td>76</td></tr><tr><td>female</td><td>group C</td><td>associate's degree</td><td>standard</td><td>completed</td><td>83</td><td>85</td><td>90</td></tr><tr><td>female</td><td>group C</td><td>high school</td><td>standard</td><td>none</td><td>63</td><td>69</td><td>74</td></tr><tr><td>female</td><td>group C</td><td>associate's degree</td><td>standard</td><td>completed</td><td>68</td><td>86</td><td>84</td></tr><tr><td>female</td><td>group D</td><td>some high school</td><td>standard</td><td>none</td><td>59</td><td>67</td><td>61</td></tr><tr><td>female</td><td>group B</td><td>associate's degree</td><td>standard</td><td>completed</td><td>90</td><td>90</td><td>91</td></tr><tr><td>female</td><td>group D</td><td>bachelor's degree</td><td>standard</td><td>completed</td><td>71</td><td>76</td><td>83</td></tr><tr><td>male</td><td>group E</td><td>bachelor's degree</td><td>standard</td><td>completed</td><td>76</td><td>62</td><td>66</td></tr><tr><td>male</td><td>group D</td><td>associate's degree</td><td>standard</td><td>none</td><td>80</td><td>68</td><td>72</td></tr><tr><td>female</td><td>group D</td><td>master's degree</td><td>standard</td><td>none</td><td>55</td><td>64</td><td>70</td></tr><tr><td>male</td><td>group E</td><td>associate's degree</td><td>standard</td><td>none</td><td>76</td><td>71</td><td>67</td></tr><tr><td>male</td><td>group B</td><td>high school</td><td>standard</td><td>completed</td><td>73</td><td>71</td><td>68</td></tr><tr><td>female</td><td>group D</td><td>associate's degree</td><td>free/reduced</td><td>none</td><td>52</td><td>59</td><td>56</td></tr><tr><td>male</td><td>group C</td><td>some college</td><td>free/reduced</td><td>none</td><td>68</td><td>68</td><td>61</td></tr><tr><td>male</td><td>group A</td><td>high school</td><td>standard</td><td>none</td><td>59</td><td>52</td><td>46</td></tr><tr><td>female</td><td>group B</td><td>associate's degree</td><td>standard</td><td>none</td><td>49</td><td>52</td><td>54</td></tr><tr><td>male</td><td>group C</td><td>high school</td><td>standard</td><td>none</td><td>70</td><td>74</td><td>71</td></tr><tr><td>male</td><td>group D</td><td>some college</td><td>free/reduced</td><td>none</td><td>61</td><td>47</td><td>56</td></tr><tr><td>female</td><td>group C</td><td>associate's degree</td><td>free/reduced</td><td>none</td><td>60</td><td>75</td><td>74</td></tr><tr><td>male</td><td>group B</td><td>some high school</td><td>standard</td><td>completed</td><td>64</td><td>53</td><td>57</td></tr><tr><td>male</td><td>group A</td><td>associate's degree</td><td>free/reduced</td><td>completed</td><td>79</td><td>82</td><td>82</td></tr><tr><td>female</td><td>group A</td><td>associate's degree</td><td>free/reduced</td><td>none</td><td>65</td><td>85</td><td>76</td></tr><tr><td>female</td><td>group C</td><td>associate's degree</td><td>standard</td><td>none</td><td>64</td><td>64</td><td>70</td></tr><tr><td>female</td><td>group C</td><td>some college</td><td>standard</td><td>none</td><td>83</td><td>83</td><td>90</td></tr><tr><td>female</td><td>group C</td><td>bachelor's degree</td><td>standard</td><td>none</td><td>81</td><td>88</td><td>90</td></tr><tr><td>female</td><td>group B</td><td>high school</td><td>standard</td><td>none</td><td>54</td><td>64</td><td>68</td></tr><tr><td>male</td><td>group D</td><td>high school</td><td>standard</td><td>completed</td><td>68</td><td>64</td><td>66</td></tr><tr><td>female</td><td>group C</td><td>some college</td><td>standard</td><td>none</td><td>54</td><td>48</td><td>52</td></tr><tr><td>female</td><td>group D</td><td>some college</td><td>free/reduced</td><td>completed</td><td>59</td><td>78</td><td>76</td></tr><tr><td>female</td><td>group B</td><td>some high school</td><td>standard</td><td>none</td><td>66</td><td>69</td><td>68</td></tr><tr><td>male</td><td>group E</td><td>some college</td><td>standard</td><td>none</td><td>76</td><td>71</td><td>72</td></tr><tr><td>female</td><td>group D</td><td>master's degree</td><td>standard</td><td>none</td><td>74</td><td>79</td><td>82</td></tr><tr><td>female</td><td>group B</td><td>associate's degree</td><td>standard</td><td>completed</td><td>94</td><td>87</td><td>92</td></tr><tr><td>male</td><td>group C</td><td>some college</td><td>free/reduced</td><td>none</td><td>63</td><td>61</td><td>54</td></tr><tr><td>female</td><td>group E</td><td>associate's degree</td><td>standard</td><td>completed</td><td>95</td><td>89</td><td>92</td></tr><tr><td>female</td><td>group D</td><td>master's degree</td><td>free/reduced</td><td>none</td><td>40</td><td>59</td><td>54</td></tr><tr><td>female</td><td>group B</td><td>some high school</td><td>standard</td><td>none</td><td>82</td><td>82</td><td>80</td></tr><tr><td>male</td><td>group A</td><td>high school</td><td>standard</td><td>none</td><td>68</td><td>70</td><td>66</td></tr><tr><td>male</td><td>group B</td><td>bachelor's degree</td><td>free/reduced</td><td>none</td><td>55</td><td>59</td><td>54</td></tr><tr><td>male</td><td>group C</td><td>master's degree</td><td>standard</td><td>none</td><td>79</td><td>78</td><td>77</td></tr><tr><td>female</td><td>group C</td><td>bachelor's degree</td><td>standard</td><td>none</td><td>86</td><td>92</td><td>87</td></tr><tr><td>male</td><td>group D</td><td>some college</td><td>standard</td><td>none</td><td>76</td><td>71</td><td>73</td></tr><tr><td>male</td><td>group A</td><td>some high school</td><td>standard</td><td>none</td><td>64</td><td>50</td><td>43</td></tr><tr><td>male</td><td>group D</td><td>some high school</td><td>free/reduced</td><td>none</td><td>62</td><td>49</td><td>52</td></tr><tr><td>female</td><td>group B</td><td>some high school</td><td>standard</td><td>completed</td><td>54</td><td>61</td><td>62</td></tr><tr><td>female</td><td>group B</td><td>master's degree</td><td>free/reduced</td><td>completed</td><td>77</td><td>97</td><td>94</td></tr><tr><td>female</td><td>group C</td><td>some high school</td><td>standard</td><td>completed</td><td>76</td><td>87</td><td>85</td></tr><tr><td>female</td><td>group D</td><td>some college</td><td>standard</td><td>none</td><td>74</td><td>89</td><td>84</td></tr><tr><td>female</td><td>group E</td><td>some college</td><td>standard</td><td>completed</td><td>66</td><td>74</td><td>73</td></tr><tr><td>female</td><td>group D</td><td>some high school</td><td>standard</td><td>completed</td><td>66</td><td>78</td><td>78</td></tr><tr><td>female</td><td>group B</td><td>high school</td><td>free/reduced</td><td>completed</td><td>67</td><td>78</td><td>79</td></tr><tr><td>male</td><td>group D</td><td>some college</td><td>standard</td><td>none</td><td>71</td><td>49</td><td>52</td></tr><tr><td>female</td><td>group C</td><td>associate's degree</td><td>standard</td><td>none</td><td>91</td><td>86</td><td>84</td></tr><tr><td>male</td><td>group D</td><td>bachelor's degree</td><td>standard</td><td>none</td><td>69</td><td>58</td><td>57</td></tr><tr><td>male</td><td>group C</td><td>master's degree</td><td>free/reduced</td><td>none</td><td>54</td><td>59</td><td>50</td></tr><tr><td>male</td><td>group C</td><td>high school</td><td>standard</td><td>completed</td><td>53</td><td>52</td><td>49</td></tr><tr><td>male</td><td>group E</td><td>some college</td><td>standard</td><td>none</td><td>68</td><td>60</td><td>59</td></tr><tr><td>male</td><td>group C</td><td>some high school</td><td>free/reduced</td><td>completed</td><td>56</td><td>61</td><td>60</td></tr><tr><td>female</td><td>group C</td><td>high school</td><td>free/reduced</td><td>none</td><td>36</td><td>53</td><td>43</td></tr><tr><td>female</td><td>group D</td><td>bachelor's degree</td><td>free/reduced</td><td>none</td><td>29</td><td>41</td><td>47</td></tr><tr><td>female</td><td>group C</td><td>associate's degree</td><td>standard</td><td>none</td><td>62</td><td>74</td><td>70</td></tr><tr><td>female</td><td>group C</td><td>associate's degree</td><td>standard</td><td>completed</td><td>68</td><td>67</td><td>73</td></tr><tr><td>female</td><td>group C</td><td>some high school</td><td>standard</td><td>none</td><td>47</td><td>54</td><td>53</td></tr><tr><td>male</td><td>group E</td><td>associate's degree</td><td>standard</td><td>completed</td><td>62</td><td>61</td><td>58</td></tr><tr><td>female</td><td>group E</td><td>associate's degree</td><td>standard</td><td>completed</td><td>79</td><td>88</td><td>94</td></tr><tr><td>male</td><td>group B</td><td>high school</td><td>standard</td><td>completed</td><td>73</td><td>69</td><td>68</td></tr><tr><td>female</td><td>group C</td><td>bachelor's degree</td><td>free/reduced</td><td>completed</td><td>66</td><td>83</td><td>83</td></tr><tr><td>male</td><td>group C</td><td>associate's degree</td><td>standard</td><td>completed</td><td>51</td><td>60</td><td>58</td></tr><tr><td>female</td><td>group D</td><td>high school</td><td>standard</td><td>none</td><td>51</td><td>66</td><td>62</td></tr><tr><td>male</td><td>group E</td><td>bachelor's degree</td><td>standard</td><td>completed</td><td>85</td><td>66</td><td>71</td></tr><tr><td>male</td><td>group A</td><td>associate's degree</td><td>standard</td><td>completed</td><td>97</td><td>92</td><td>86</td></tr><tr><td>male</td><td>group C</td><td>high school</td><td>standard</td><td>completed</td><td>75</td><td>69</td><td>68</td></tr><tr><td>male</td><td>group D</td><td>associate's degree</td><td>free/reduced</td><td>completed</td><td>79</td><td>82</td><td>80</td></tr><tr><td>female</td><td>group C</td><td>associate's degree</td><td>standard</td><td>none</td><td>81</td><td>77</td><td>79</td></tr><tr><td>female</td><td>group D</td><td>associate's degree</td><td>standard</td><td>none</td><td>82</td><td>95</td><td>89</td></tr><tr><td>female</td><td>group D</td><td>master's degree</td><td>standard</td><td>none</td><td>64</td><td>63</td><td>66</td></tr><tr><td>male</td><td>group E</td><td>some high school</td><td>free/reduced</td><td>completed</td><td>78</td><td>83</td><td>80</td></tr><tr><td>female</td><td>group A</td><td>some high school</td><td>standard</td><td>completed</td><td>92</td><td>100</td><td>97</td></tr><tr><td>male</td><td>group C</td><td>high school</td><td>standard</td><td>completed</td><td>72</td><td>67</td><td>64</td></tr><tr><td>female</td><td>group C</td><td>high school</td><td>free/reduced</td><td>none</td><td>62</td><td>67</td><td>64</td></tr><tr><td>male</td><td>group C</td><td>master's degree</td><td>standard</td><td>none</td><td>79</td><td>72</td><td>69</td></tr><tr><td>male</td><td>group C</td><td>some high school</td><td>free/reduced</td><td>none</td><td>79</td><td>76</td><td>65</td></tr><tr><td>male</td><td>group B</td><td>bachelor's degree</td><td>free/reduced</td><td>completed</td><td>87</td><td>90</td><td>88</td></tr><tr><td>female</td><td>group B</td><td>associate's degree</td><td>standard</td><td>none</td><td>40</td><td>48</td><td>50</td></tr><tr><td>male</td><td>group D</td><td>some college</td><td>free/reduced</td><td>none</td><td>77</td><td>62</td><td>64</td></tr><tr><td>male</td><td>group E</td><td>associate's degree</td><td>standard</td><td>none</td><td>53</td><td>45</td><td>40</td></tr><tr><td>female</td><td>group C</td><td>some college</td><td>free/reduced</td><td>none</td><td>32</td><td>39</td><td>33</td></tr><tr><td>female</td><td>group C</td><td>associate's degree</td><td>standard</td><td>completed</td><td>55</td><td>72</td><td>79</td></tr><tr><td>male</td><td>group C</td><td>master's degree</td><td>free/reduced</td><td>none</td><td>61</td><td>67</td><td>66</td></tr><tr><td>female</td><td>group B</td><td>associate's degree</td><td>free/reduced</td><td>none</td><td>53</td><td>70</td><td>70</td></tr><tr><td>male</td><td>group D</td><td>some high school</td><td>standard</td><td>none</td><td>73</td><td>66</td><td>62</td></tr><tr><td>female</td><td>group D</td><td>some college</td><td>standard</td><td>completed</td><td>74</td><td>75</td><td>79</td></tr><tr><td>female</td><td>group C</td><td>some college</td><td>standard</td><td>none</td><td>63</td><td>74</td><td>74</td></tr><tr><td>male</td><td>group C</td><td>bachelor's degree</td><td>standard</td><td>completed</td><td>96</td><td>90</td><td>92</td></tr><tr><td>female</td><td>group D</td><td>some college</td><td>free/reduced</td><td>completed</td><td>63</td><td>80</td><td>80</td></tr><tr><td>male</td><td>group B</td><td>bachelor's degree</td><td>free/reduced</td><td>none</td><td>48</td><td>51</td><td>46</td></tr><tr><td>male</td><td>group B</td><td>associate's degree</td><td>standard</td><td>none</td><td>48</td><td>43</td><td>45</td></tr><tr><td>female</td><td>group E</td><td>bachelor's degree</td><td>free/reduced</td><td>completed</td><td>92</td><td>100</td><td>100</td></tr><tr><td>female</td><td>group D</td><td>master's degree</td><td>free/reduced</td><td>completed</td><td>61</td><td>71</td><td>78</td></tr><tr><td>male</td><td>group B</td><td>high school</td><td>free/reduced</td><td>none</td><td>63</td><td>48</td><td>47</td></tr><tr><td>male</td><td>group D</td><td>bachelor's degree</td><td>free/reduced</td><td>none</td><td>68</td><td>68</td><td>67</td></tr><tr><td>male</td><td>group B</td><td>some college</td><td>standard</td><td>completed</td><td>71</td><td>75</td><td>70</td></tr><tr><td>male</td><td>group A</td><td>bachelor's degree</td><td>standard</td><td>none</td><td>91</td><td>96</td><td>92</td></tr><tr><td>female</td><td>group C</td><td>some college</td><td>standard</td><td>none</td><td>53</td><td>62</td><td>56</td></tr><tr><td>female</td><td>group C</td><td>high school</td><td>free/reduced</td><td>completed</td><td>50</td><td>66</td><td>64</td></tr><tr><td>female</td><td>group E</td><td>high school</td><td>standard</td><td>none</td><td>74</td><td>81</td><td>71</td></tr><tr><td>male</td><td>group A</td><td>associate's degree</td><td>free/reduced</td><td>completed</td><td>40</td><td>55</td><td>53</td></tr><tr><td>male</td><td>group A</td><td>some college</td><td>standard</td><td>completed</td><td>61</td><td>51</td><td>52</td></tr><tr><td>female</td><td>group B</td><td>high school</td><td>standard</td><td>none</td><td>81</td><td>91</td><td>89</td></tr><tr><td>female</td><td>group B</td><td>some college</td><td>free/reduced</td><td>completed</td><td>48</td><td>56</td><td>58</td></tr><tr><td>female</td><td>group D</td><td>master's degree</td><td>standard</td><td>none</td><td>53</td><td>61</td><td>68</td></tr><tr><td>female</td><td>group D</td><td>some high school</td><td>standard</td><td>none</td><td>81</td><td>97</td><td>96</td></tr><tr><td>female</td><td>group E</td><td>some high school</td><td>standard</td><td>none</td><td>77</td><td>79</td><td>80</td></tr><tr><td>female</td><td>group D</td><td>bachelor's degree</td><td>free/reduced</td><td>none</td><td>63</td><td>73</td><td>78</td></tr><tr><td>female</td><td>group D</td><td>associate's degree</td><td>standard</td><td>completed</td><td>73</td><td>75</td><td>80</td></tr><tr><td>female</td><td>group D</td><td>some college</td><td>standard</td><td>none</td><td>69</td><td>77</td><td>77</td></tr><tr><td>female</td><td>group C</td><td>associate's degree</td><td>standard</td><td>none</td><td>65</td><td>76</td><td>76</td></tr><tr><td>female</td><td>group A</td><td>high school</td><td>standard</td><td>none</td><td>55</td><td>73</td><td>73</td></tr><tr><td>female</td><td>group C</td><td>bachelor's degree</td><td>free/reduced</td><td>none</td><td>44</td><td>63</td><td>62</td></tr><tr><td>female</td><td>group C</td><td>some college</td><td>standard</td><td>none</td><td>54</td><td>64</td><td>65</td></tr><tr><td>female</td><td>group A</td><td>some high school</td><td>standard</td><td>none</td><td>48</td><td>66</td><td>65</td></tr><tr><td>male</td><td>group C</td><td>some college</td><td>free/reduced</td><td>none</td><td>58</td><td>57</td><td>54</td></tr><tr><td>male</td><td>group A</td><td>some high school</td><td>standard</td><td>none</td><td>71</td><td>62</td><td>50</td></tr><tr><td>male</td><td>group E</td><td>bachelor's degree</td><td>standard</td><td>none</td><td>68</td><td>68</td><td>64</td></tr><tr><td>female</td><td>group E</td><td>high school</td><td>standard</td><td>none</td><td>74</td><td>76</td><td>73</td></tr><tr><td>female</td><td>group C</td><td>bachelor's degree</td><td>standard</td><td>completed</td><td>92</td><td>100</td><td>99</td></tr><tr><td>female</td><td>group C</td><td>bachelor's degree</td><td>standard</td><td>completed</td><td>56</td><td>79</td><td>72</td></tr><tr><td>male</td><td>group B</td><td>high school</td><td>free/reduced</td><td>none</td><td>30</td><td>24</td><td>15</td></tr><tr><td>male</td><td>group A</td><td>some high school</td><td>standard</td><td>none</td><td>53</td><td>54</td><td>48</td></tr><tr><td>female</td><td>group D</td><td>high school</td><td>standard</td><td>none</td><td>69</td><td>77</td><td>73</td></tr><tr><td>female</td><td>group D</td><td>some high school</td><td>standard</td><td>none</td><td>65</td><td>82</td><td>81</td></tr><tr><td>female</td><td>group D</td><td>master's degree</td><td>standard</td><td>none</td><td>54</td><td>60</td><td>63</td></tr><tr><td>female</td><td>group C</td><td>high school</td><td>standard</td><td>none</td><td>29</td><td>29</td><td>30</td></tr><tr><td>female</td><td>group E</td><td>some college</td><td>standard</td><td>none</td><td>76</td><td>78</td><td>80</td></tr><tr><td>male</td><td>group D</td><td>high school</td><td>free/reduced</td><td>none</td><td>60</td><td>57</td><td>51</td></tr><tr><td>male</td><td>group D</td><td>master's degree</td><td>free/reduced</td><td>completed</td><td>84</td><td>89</td><td>90</td></tr><tr><td>male</td><td>group C</td><td>some high school</td><td>standard</td><td>none</td><td>75</td><td>72</td><td>62</td></tr><tr><td>female</td><td>group C</td><td>associate's degree</td><td>standard</td><td>none</td><td>85</td><td>84</td><td>82</td></tr><tr><td>female</td><td>group C</td><td>master's degree</td><td>free/reduced</td><td>none</td><td>40</td><td>58</td><td>54</td></tr><tr><td>female</td><td>group E</td><td>some college</td><td>standard</td><td>none</td><td>61</td><td>64</td><td>62</td></tr><tr><td>female</td><td>group B</td><td>associate's degree</td><td>standard</td><td>none</td><td>58</td><td>63</td><td>65</td></tr><tr><td>male</td><td>group D</td><td>some college</td><td>free/reduced</td><td>completed</td><td>69</td><td>60</td><td>63</td></tr><tr><td>female</td><td>group C</td><td>some college</td><td>standard</td><td>none</td><td>58</td><td>59</td><td>66</td></tr><tr><td>male</td><td>group C</td><td>bachelor's degree</td><td>standard</td><td>completed</td><td>94</td><td>90</td><td>91</td></tr><tr><td>female</td><td>group C</td><td>associate's degree</td><td>standard</td><td>none</td><td>65</td><td>77</td><td>74</td></tr><tr><td>female</td><td>group A</td><td>associate's degree</td><td>standard</td><td>none</td><td>82</td><td>93</td><td>93</td></tr><tr><td>female</td><td>group C</td><td>high school</td><td>standard</td><td>none</td><td>60</td><td>68</td><td>72</td></tr><tr><td>female</td><td>group E</td><td>bachelor's degree</td><td>standard</td><td>none</td><td>37</td><td>45</td><td>38</td></tr><tr><td>male</td><td>group D</td><td>bachelor's degree</td><td>standard</td><td>none</td><td>88</td><td>78</td><td>83</td></tr><tr><td>male</td><td>group D</td><td>master's degree</td><td>standard</td><td>none</td><td>95</td><td>81</td><td>84</td></tr><tr><td>male</td><td>group C</td><td>associate's degree</td><td>free/reduced</td><td>completed</td><td>65</td><td>73</td><td>68</td></tr><tr><td>female</td><td>group C</td><td>high school</td><td>free/reduced</td><td>none</td><td>35</td><td>61</td><td>54</td></tr><tr><td>male</td><td>group B</td><td>bachelor's degree</td><td>free/reduced</td><td>none</td><td>62</td><td>63</td><td>56</td></tr><tr><td>male</td><td>group C</td><td>high school</td><td>free/reduced</td><td>completed</td><td>58</td><td>51</td><td>52</td></tr><tr><td>male</td><td>group A</td><td>some college</td><td>standard</td><td>completed</td><td>100</td><td>96</td><td>86</td></tr><tr><td>female</td><td>group E</td><td>bachelor's degree</td><td>free/reduced</td><td>none</td><td>61</td><td>58</td><td>62</td></tr><tr><td>male</td><td>group D</td><td>some college</td><td>standard</td><td>completed</td><td>100</td><td>97</td><td>99</td></tr><tr><td>male</td><td>group B</td><td>associate's degree</td><td>free/reduced</td><td>completed</td><td>69</td><td>70</td><td>63</td></tr><tr><td>male</td><td>group D</td><td>associate's degree</td><td>standard</td><td>none</td><td>61</td><td>48</td><td>46</td></tr><tr><td>male</td><td>group D</td><td>some college</td><td>free/reduced</td><td>none</td><td>49</td><td>57</td><td>46</td></tr><tr><td>female</td><td>group C</td><td>some high school</td><td>standard</td><td>completed</td><td>44</td><td>51</td><td>55</td></tr><tr><td>male</td><td>group D</td><td>some college</td><td>standard</td><td>none</td><td>67</td><td>64</td><td>70</td></tr><tr><td>male</td><td>group B</td><td>high school</td><td>standard</td><td>none</td><td>79</td><td>60</td><td>65</td></tr><tr><td>female</td><td>group B</td><td>bachelor's degree</td><td>standard</td><td>completed</td><td>66</td><td>74</td><td>81</td></tr><tr><td>female</td><td>group C</td><td>high school</td><td>standard</td><td>none</td><td>75</td><td>88</td><td>85</td></tr><tr><td>male</td><td>group D</td><td>some high school</td><td>standard</td><td>none</td><td>84</td><td>84</td><td>80</td></tr><tr><td>male</td><td>group A</td><td>high school</td><td>standard</td><td>none</td><td>71</td><td>74</td><td>64</td></tr><tr><td>female</td><td>group B</td><td>high school</td><td>free/reduced</td><td>completed</td><td>67</td><td>80</td><td>81</td></tr><tr><td>female</td><td>group D</td><td>some high school</td><td>standard</td><td>completed</td><td>80</td><td>92</td><td>88</td></tr><tr><td>male</td><td>group E</td><td>some college</td><td>standard</td><td>none</td><td>86</td><td>76</td><td>74</td></tr><tr><td>female</td><td>group D</td><td>associate's degree</td><td>standard</td><td>none</td><td>76</td><td>74</td><td>73</td></tr><tr><td>male</td><td>group D</td><td>high school</td><td>standard</td><td>none</td><td>41</td><td>52</td><td>51</td></tr><tr><td>female</td><td>group D</td><td>associate's degree</td><td>free/reduced</td><td>completed</td><td>74</td><td>88</td><td>90</td></tr><tr><td>female</td><td>group B</td><td>some high school</td><td>free/reduced</td><td>none</td><td>72</td><td>81</td><td>79</td></tr><tr><td>female</td><td>group E</td><td>high school</td><td>standard</td><td>completed</td><td>74</td><td>79</td><td>80</td></tr><tr><td>male</td><td>group B</td><td>high school</td><td>standard</td><td>none</td><td>70</td><td>65</td><td>60</td></tr><tr><td>female</td><td>group B</td><td>bachelor's degree</td><td>standard</td><td>completed</td><td>65</td><td>81</td><td>81</td></tr><tr><td>female</td><td>group D</td><td>associate's degree</td><td>standard</td><td>none</td><td>59</td><td>70</td><td>65</td></tr><tr><td>female</td><td>group E</td><td>high school</td><td>free/reduced</td><td>none</td><td>64</td><td>62</td><td>68</td></tr><tr><td>female</td><td>group B</td><td>high school</td><td>standard</td><td>none</td><td>50</td><td>53</td><td>55</td></tr><tr><td>female</td><td>group D</td><td>some college</td><td>standard</td><td>completed</td><td>69</td><td>79</td><td>81</td></tr><tr><td>male</td><td>group C</td><td>some high school</td><td>free/reduced</td><td>completed</td><td>51</td><td>56</td><td>53</td></tr><tr><td>female</td><td>group A</td><td>high school</td><td>standard</td><td>completed</td><td>68</td><td>80</td><td>76</td></tr><tr><td>female</td><td>group D</td><td>some college</td><td>standard</td><td>completed</td><td>85</td><td>86</td><td>98</td></tr><tr><td>female</td><td>group A</td><td>associate's degree</td><td>standard</td><td>completed</td><td>65</td><td>70</td><td>74</td></tr><tr><td>female</td><td>group B</td><td>some high school</td><td>standard</td><td>none</td><td>73</td><td>79</td><td>79</td></tr><tr><td>female</td><td>group B</td><td>some college</td><td>standard</td><td>none</td><td>62</td><td>67</td><td>67</td></tr><tr><td>male</td><td>group C</td><td>associate's degree</td><td>free/reduced</td><td>none</td><td>77</td><td>67</td><td>64</td></tr><tr><td>male</td><td>group D</td><td>some high school</td><td>standard</td><td>none</td><td>69</td><td>66</td><td>61</td></tr><tr><td>female</td><td>group D</td><td>associate's degree</td><td>free/reduced</td><td>none</td><td>43</td><td>60</td><td>58</td></tr><tr><td>male</td><td>group D</td><td>associate's degree</td><td>standard</td><td>none</td><td>90</td><td>87</td><td>85</td></tr><tr><td>male</td><td>group C</td><td>some college</td><td>free/reduced</td><td>none</td><td>74</td><td>77</td><td>73</td></tr><tr><td>male</td><td>group C</td><td>some high school</td><td>standard</td><td>none</td><td>73</td><td>66</td><td>63</td></tr><tr><td>female</td><td>group D</td><td>some college</td><td>free/reduced</td><td>none</td><td>55</td><td>71</td><td>69</td></tr><tr><td>female</td><td>group C</td><td>high school</td><td>standard</td><td>none</td><td>65</td><td>69</td><td>67</td></tr><tr><td>male</td><td>group D</td><td>associate's degree</td><td>standard</td><td>none</td><td>80</td><td>63</td><td>63</td></tr><tr><td>female</td><td>group C</td><td>some high school</td><td>free/reduced</td><td>completed</td><td>50</td><td>60</td><td>60</td></tr><tr><td>female</td><td>group C</td><td>some college</td><td>free/reduced</td><td>completed</td><td>63</td><td>73</td><td>71</td></tr><tr><td>female</td><td>group B</td><td>bachelor's degree</td><td>free/reduced</td><td>none</td><td>77</td><td>85</td><td>87</td></tr><tr><td>male</td><td>group C</td><td>some college</td><td>standard</td><td>none</td><td>73</td><td>74</td><td>61</td></tr><tr><td>male</td><td>group D</td><td>associate's degree</td><td>standard</td><td>completed</td><td>81</td><td>72</td><td>77</td></tr><tr><td>female</td><td>group C</td><td>high school</td><td>free/reduced</td><td>none</td><td>66</td><td>76</td><td>68</td></tr><tr><td>male</td><td>group D</td><td>associate's degree</td><td>free/reduced</td><td>none</td><td>52</td><td>57</td><td>50</td></tr><tr><td>female</td><td>group C</td><td>some college</td><td>standard</td><td>none</td><td>69</td><td>78</td><td>76</td></tr><tr><td>female</td><td>group C</td><td>associate's degree</td><td>standard</td><td>completed</td><td>65</td><td>84</td><td>84</td></tr><tr><td>female</td><td>group D</td><td>high school</td><td>standard</td><td>completed</td><td>69</td><td>77</td><td>78</td></tr><tr><td>female</td><td>group B</td><td>some college</td><td>standard</td><td>completed</td><td>50</td><td>64</td><td>66</td></tr><tr><td>female</td><td>group E</td><td>some college</td><td>standard</td><td>completed</td><td>73</td><td>78</td><td>76</td></tr><tr><td>female</td><td>group C</td><td>some high school</td><td>standard</td><td>completed</td><td>70</td><td>82</td><td>76</td></tr><tr><td>male</td><td>group D</td><td>associate's degree</td><td>free/reduced</td><td>none</td><td>81</td><td>75</td><td>78</td></tr><tr><td>male</td><td>group D</td><td>some college</td><td>free/reduced</td><td>none</td><td>63</td><td>61</td><td>60</td></tr><tr><td>female</td><td>group D</td><td>high school</td><td>standard</td><td>none</td><td>67</td><td>72</td><td>74</td></tr><tr><td>male</td><td>group B</td><td>high school</td><td>standard</td><td>none</td><td>60</td><td>68</td><td>60</td></tr><tr><td>male</td><td>group B</td><td>high school</td><td>standard</td><td>none</td><td>62</td><td>55</td><td>54</td></tr><tr><td>female</td><td>group C</td><td>some high school</td><td>free/reduced</td><td>completed</td><td>29</td><td>40</td><td>44</td></tr><tr><td>male</td><td>group B</td><td>some college</td><td>standard</td><td>completed</td><td>62</td><td>66</td><td>68</td></tr><tr><td>female</td><td>group E</td><td>master's degree</td><td>standard</td><td>completed</td><td>94</td><td>99</td><td>100</td></tr><tr><td>male</td><td>group E</td><td>some college</td><td>standard</td><td>completed</td><td>85</td><td>75</td><td>68</td></tr><tr><td>male</td><td>group D</td><td>associate's degree</td><td>free/reduced</td><td>none</td><td>77</td><td>78</td><td>73</td></tr><tr><td>male</td><td>group A</td><td>high school</td><td>free/reduced</td><td>none</td><td>53</td><td>58</td><td>44</td></tr><tr><td>male</td><td>group E</td><td>some college</td><td>free/reduced</td><td>none</td><td>93</td><td>90</td><td>83</td></tr><tr><td>female</td><td>group C</td><td>associate's degree</td><td>standard</td><td>none</td><td>49</td><td>53</td><td>53</td></tr><tr><td>female</td><td>group E</td><td>associate's degree</td><td>free/reduced</td><td>none</td><td>73</td><td>76</td><td>78</td></tr><tr><td>female</td><td>group C</td><td>bachelor's degree</td><td>free/reduced</td><td>completed</td><td>66</td><td>74</td><td>81</td></tr><tr><td>female</td><td>group D</td><td>associate's degree</td><td>standard</td><td>none</td><td>77</td><td>77</td><td>73</td></tr><tr><td>female</td><td>group C</td><td>some high school</td><td>standard</td><td>none</td><td>49</td><td>63</td><td>56</td></tr><tr><td>female</td><td>group D</td><td>some college</td><td>free/reduced</td><td>none</td><td>79</td><td>89</td><td>86</td></tr><tr><td>female</td><td>group C</td><td>associate's degree</td><td>standard</td><td>completed</td><td>75</td><td>82</td><td>90</td></tr><tr><td>female</td><td>group A</td><td>bachelor's degree</td><td>standard</td><td>none</td><td>59</td><td>72</td><td>70</td></tr><tr><td>female</td><td>group D</td><td>associate's degree</td><td>standard</td><td>completed</td><td>57</td><td>78</td><td>79</td></tr><tr><td>male</td><td>group C</td><td>high school</td><td>free/reduced</td><td>none</td><td>66</td><td>66</td><td>59</td></tr><tr><td>female</td><td>group E</td><td>bachelor's degree</td><td>standard</td><td>completed</td><td>79</td><td>81</td><td>82</td></tr><tr><td>female</td><td>group B</td><td>some high school</td><td>standard</td><td>none</td><td>57</td><td>67</td><td>72</td></tr><tr><td>male</td><td>group A</td><td>bachelor's degree</td><td>standard</td><td>completed</td><td>87</td><td>84</td><td>87</td></tr><tr><td>female</td><td>group D</td><td>some college</td><td>standard</td><td>none</td><td>63</td><td>64</td><td>67</td></tr><tr><td>female</td><td>group B</td><td>some high school</td><td>free/reduced</td><td>completed</td><td>59</td><td>63</td><td>64</td></tr><tr><td>male</td><td>group A</td><td>bachelor's degree</td><td>free/reduced</td><td>none</td><td>62</td><td>72</td><td>65</td></tr><tr><td>male</td><td>group D</td><td>high school</td><td>standard</td><td>none</td><td>46</td><td>34</td><td>36</td></tr><tr><td>male</td><td>group C</td><td>some college</td><td>standard</td><td>none</td><td>66</td><td>59</td><td>52</td></tr><tr><td>male</td><td>group D</td><td>high school</td><td>standard</td><td>none</td><td>89</td><td>87</td><td>79</td></tr><tr><td>female</td><td>group D</td><td>associate's degree</td><td>free/reduced</td><td>completed</td><td>42</td><td>61</td><td>58</td></tr><tr><td>male</td><td>group C</td><td>some college</td><td>standard</td><td>completed</td><td>93</td><td>84</td><td>90</td></tr><tr><td>female</td><td>group E</td><td>some high school</td><td>standard</td><td>completed</td><td>80</td><td>85</td><td>85</td></tr><tr><td>female</td><td>group D</td><td>some college</td><td>standard</td><td>none</td><td>98</td><td>100</td><td>99</td></tr><tr><td>male</td><td>group D</td><td>master's degree</td><td>standard</td><td>none</td><td>81</td><td>81</td><td>84</td></tr><tr><td>female</td><td>group B</td><td>some high school</td><td>standard</td><td>completed</td><td>60</td><td>70</td><td>74</td></tr><tr><td>female</td><td>group B</td><td>associate's degree</td><td>free/reduced</td><td>completed</td><td>76</td><td>94</td><td>87</td></tr><tr><td>male</td><td>group C</td><td>associate's degree</td><td>standard</td><td>completed</td><td>73</td><td>78</td><td>72</td></tr><tr><td>female</td><td>group C</td><td>associate's degree</td><td>standard</td><td>completed</td><td>96</td><td>96</td><td>99</td></tr><tr><td>female</td><td>group C</td><td>high school</td><td>standard</td><td>none</td><td>76</td><td>76</td><td>74</td></tr><tr><td>male</td><td>group E</td><td>associate's degree</td><td>free/reduced</td><td>completed</td><td>91</td><td>73</td><td>80</td></tr><tr><td>female</td><td>group C</td><td>some college</td><td>free/reduced</td><td>none</td><td>62</td><td>72</td><td>70</td></tr><tr><td>male</td><td>group D</td><td>some high school</td><td>free/reduced</td><td>completed</td><td>55</td><td>59</td><td>59</td></tr><tr><td>female</td><td>group B</td><td>some high school</td><td>free/reduced</td><td>completed</td><td>74</td><td>90</td><td>88</td></tr><tr><td>male</td><td>group C</td><td>high school</td><td>standard</td><td>none</td><td>50</td><td>48</td><td>42</td></tr><tr><td>male</td><td>group B</td><td>some college</td><td>standard</td><td>none</td><td>47</td><td>43</td><td>41</td></tr><tr><td>male</td><td>group E</td><td>some college</td><td>standard</td><td>completed</td><td>81</td><td>74</td><td>71</td></tr><tr><td>female</td><td>group E</td><td>associate's degree</td><td>standard</td><td>completed</td><td>65</td><td>75</td><td>77</td></tr><tr><td>male</td><td>group E</td><td>some high school</td><td>standard</td><td>completed</td><td>68</td><td>51</td><td>57</td></tr><tr><td>female</td><td>group D</td><td>high school</td><td>free/reduced</td><td>none</td><td>73</td><td>92</td><td>84</td></tr><tr><td>male</td><td>group C</td><td>some college</td><td>standard</td><td>none</td><td>53</td><td>39</td><td>37</td></tr><tr><td>female</td><td>group B</td><td>associate's degree</td><td>free/reduced</td><td>completed</td><td>68</td><td>77</td><td>80</td></tr><tr><td>male</td><td>group A</td><td>some high school</td><td>free/reduced</td><td>none</td><td>55</td><td>46</td><td>43</td></tr><tr><td>female</td><td>group C</td><td>some college</td><td>standard</td><td>completed</td><td>87</td><td>89</td><td>94</td></tr><tr><td>male</td><td>group D</td><td>some high school</td><td>standard</td><td>none</td><td>55</td><td>47</td><td>44</td></tr><tr><td>female</td><td>group E</td><td>some college</td><td>free/reduced</td><td>none</td><td>53</td><td>58</td><td>57</td></tr><tr><td>male</td><td>group C</td><td>master's degree</td><td>standard</td><td>none</td><td>67</td><td>57</td><td>59</td></tr><tr><td>male</td><td>group C</td><td>associate's degree</td><td>standard</td><td>none</td><td>92</td><td>79</td><td>84</td></tr><tr><td>female</td><td>group B</td><td>some college</td><td>free/reduced</td><td>completed</td><td>53</td><td>66</td><td>73</td></tr><tr><td>male</td><td>group D</td><td>associate's degree</td><td>standard</td><td>none</td><td>81</td><td>71</td><td>73</td></tr><tr><td>male</td><td>group C</td><td>high school</td><td>free/reduced</td><td>none</td><td>61</td><td>60</td><td>55</td></tr><tr><td>male</td><td>group D</td><td>bachelor's degree</td><td>standard</td><td>none</td><td>80</td><td>73</td><td>72</td></tr><tr><td>female</td><td>group A</td><td>associate's degree</td><td>free/reduced</td><td>none</td><td>37</td><td>57</td><td>56</td></tr><tr><td>female</td><td>group C</td><td>high school</td><td>standard</td><td>none</td><td>81</td><td>84</td><td>82</td></tr><tr><td>female</td><td>group C</td><td>associate's degree</td><td>standard</td><td>completed</td><td>59</td><td>73</td><td>72</td></tr><tr><td>male</td><td>group B</td><td>some college</td><td>free/reduced</td><td>none</td><td>55</td><td>55</td><td>47</td></tr><tr><td>male</td><td>group D</td><td>associate's degree</td><td>standard</td><td>none</td><td>72</td><td>79</td><td>74</td></tr><tr><td>male</td><td>group D</td><td>high school</td><td>standard</td><td>none</td><td>69</td><td>75</td><td>71</td></tr><tr><td>male</td><td>group C</td><td>some college</td><td>standard</td><td>none</td><td>69</td><td>64</td><td>68</td></tr><tr><td>female</td><td>group C</td><td>bachelor's degree</td><td>free/reduced</td><td>none</td><td>50</td><td>60</td><td>59</td></tr><tr><td>male</td><td>group B</td><td>some college</td><td>standard</td><td>completed</td><td>87</td><td>84</td><td>86</td></tr><tr><td>male</td><td>group D</td><td>some high school</td><td>standard</td><td>completed</td><td>71</td><td>69</td><td>68</td></tr><tr><td>male</td><td>group E</td><td>some college</td><td>standard</td><td>none</td><td>68</td><td>72</td><td>65</td></tr><tr><td>male</td><td>group C</td><td>master's degree</td><td>free/reduced</td><td>completed</td><td>79</td><td>77</td><td>75</td></tr><tr><td>female</td><td>group C</td><td>some high school</td><td>standard</td><td>completed</td><td>77</td><td>90</td><td>85</td></tr><tr><td>male</td><td>group C</td><td>associate's degree</td><td>free/reduced</td><td>none</td><td>58</td><td>55</td><td>53</td></tr><tr><td>female</td><td>group E</td><td>associate's degree</td><td>standard</td><td>none</td><td>84</td><td>95</td><td>92</td></tr><tr><td>male</td><td>group D</td><td>some college</td><td>standard</td><td>none</td><td>55</td><td>58</td><td>52</td></tr><tr><td>male</td><td>group E</td><td>bachelor's degree</td><td>free/reduced</td><td>completed</td><td>70</td><td>68</td><td>72</td></tr><tr><td>female</td><td>group D</td><td>some college</td><td>free/reduced</td><td>completed</td><td>52</td><td>59</td><td>65</td></tr><tr><td>male</td><td>group B</td><td>some college</td><td>standard</td><td>completed</td><td>69</td><td>77</td><td>77</td></tr><tr><td>female</td><td>group C</td><td>high school</td><td>free/reduced</td><td>none</td><td>53</td><td>72</td><td>64</td></tr><tr><td>female</td><td>group D</td><td>some high school</td><td>standard</td><td>none</td><td>48</td><td>58</td><td>54</td></tr><tr><td>male</td><td>group D</td><td>some high school</td><td>standard</td><td>completed</td><td>78</td><td>81</td><td>86</td></tr><tr><td>female</td><td>group B</td><td>high school</td><td>standard</td><td>none</td><td>62</td><td>62</td><td>63</td></tr><tr><td>male</td><td>group D</td><td>some college</td><td>standard</td><td>none</td><td>60</td><td>63</td><td>59</td></tr><tr><td>female</td><td>group B</td><td>high school</td><td>standard</td><td>none</td><td>74</td><td>72</td><td>72</td></tr><tr><td>female</td><td>group C</td><td>high school</td><td>standard</td><td>completed</td><td>58</td><td>75</td><td>77</td></tr><tr><td>male</td><td>group B</td><td>high school</td><td>standard</td><td>completed</td><td>76</td><td>62</td><td>60</td></tr><tr><td>female</td><td>group D</td><td>some high school</td><td>standard</td><td>none</td><td>68</td><td>71</td><td>75</td></tr><tr><td>male</td><td>group A</td><td>some college</td><td>free/reduced</td><td>none</td><td>58</td><td>60</td><td>57</td></tr><tr><td>male</td><td>group B</td><td>high school</td><td>standard</td><td>none</td><td>52</td><td>48</td><td>49</td></tr><tr><td>male</td><td>group D</td><td>bachelor's degree</td><td>standard</td><td>none</td><td>75</td><td>73</td><td>74</td></tr><tr><td>female</td><td>group B</td><td>some high school</td><td>free/reduced</td><td>completed</td><td>52</td><td>67</td><td>72</td></tr><tr><td>female</td><td>group C</td><td>bachelor's degree</td><td>free/reduced</td><td>none</td><td>62</td><td>78</td><td>79</td></tr><tr><td>male</td><td>group B</td><td>some college</td><td>standard</td><td>none</td><td>66</td><td>65</td><td>60</td></tr><tr><td>female</td><td>group B</td><td>some high school</td><td>free/reduced</td><td>none</td><td>49</td><td>58</td><td>55</td></tr><tr><td>female</td><td>group B</td><td>high school</td><td>standard</td><td>none</td><td>66</td><td>72</td><td>70</td></tr><tr><td>female</td><td>group C</td><td>some college</td><td>free/reduced</td><td>none</td><td>35</td><td>44</td><td>43</td></tr><tr><td>female</td><td>group A</td><td>some college</td><td>standard</td><td>completed</td><td>72</td><td>79</td><td>82</td></tr><tr><td>male</td><td>group E</td><td>associate's degree</td><td>standard</td><td>completed</td><td>94</td><td>85</td><td>82</td></tr><tr><td>female</td><td>group D</td><td>associate's degree</td><td>free/reduced</td><td>none</td><td>46</td><td>56</td><td>57</td></tr><tr><td>female</td><td>group B</td><td>master's degree</td><td>standard</td><td>none</td><td>77</td><td>90</td><td>84</td></tr><tr><td>female</td><td>group B</td><td>high school</td><td>free/reduced</td><td>completed</td><td>76</td><td>85</td><td>82</td></tr><tr><td>female</td><td>group C</td><td>associate's degree</td><td>standard</td><td>completed</td><td>52</td><td>59</td><td>62</td></tr><tr><td>male</td><td>group C</td><td>bachelor's degree</td><td>standard</td><td>completed</td><td>91</td><td>81</td><td>79</td></tr><tr><td>female</td><td>group B</td><td>some high school</td><td>standard</td><td>completed</td><td>32</td><td>51</td><td>44</td></tr><tr><td>female</td><td>group E</td><td>some high school</td><td>free/reduced</td><td>none</td><td>72</td><td>79</td><td>77</td></tr><tr><td>female</td><td>group B</td><td>some college</td><td>standard</td><td>none</td><td>19</td><td>38</td><td>32</td></tr><tr><td>male</td><td>group C</td><td>associate's degree</td><td>free/reduced</td><td>none</td><td>68</td><td>65</td><td>61</td></tr><tr><td>female</td><td>group C</td><td>master's degree</td><td>free/reduced</td><td>none</td><td>52</td><td>65</td><td>61</td></tr><tr><td>female</td><td>group B</td><td>high school</td><td>standard</td><td>none</td><td>48</td><td>62</td><td>60</td></tr><tr><td>female</td><td>group D</td><td>some college</td><td>free/reduced</td><td>none</td><td>60</td><td>66</td><td>70</td></tr><tr><td>male</td><td>group D</td><td>high school</td><td>free/reduced</td><td>none</td><td>66</td><td>74</td><td>69</td></tr><tr><td>male</td><td>group E</td><td>some high school</td><td>standard</td><td>completed</td><td>89</td><td>84</td><td>77</td></tr><tr><td>female</td><td>group B</td><td>high school</td><td>standard</td><td>none</td><td>42</td><td>52</td><td>51</td></tr><tr><td>female</td><td>group E</td><td>associate's degree</td><td>free/reduced</td><td>completed</td><td>57</td><td>68</td><td>73</td></tr><tr><td>male</td><td>group D</td><td>high school</td><td>standard</td><td>none</td><td>70</td><td>70</td><td>70</td></tr><tr><td>female</td><td>group E</td><td>associate's degree</td><td>free/reduced</td><td>none</td><td>70</td><td>84</td><td>81</td></tr><tr><td>male</td><td>group E</td><td>some college</td><td>standard</td><td>none</td><td>69</td><td>60</td><td>54</td></tr><tr><td>female</td><td>group C</td><td>associate's degree</td><td>standard</td><td>none</td><td>52</td><td>55</td><td>57</td></tr><tr><td>male</td><td>group C</td><td>some high school</td><td>standard</td><td>completed</td><td>67</td><td>73</td><td>68</td></tr><tr><td>male</td><td>group C</td><td>some high school</td><td>standard</td><td>completed</td><td>76</td><td>80</td><td>73</td></tr><tr><td>female</td><td>group E</td><td>associate's degree</td><td>standard</td><td>none</td><td>87</td><td>94</td><td>95</td></tr><tr><td>female</td><td>group B</td><td>some college</td><td>standard</td><td>none</td><td>82</td><td>85</td><td>87</td></tr><tr><td>female</td><td>group C</td><td>some college</td><td>standard</td><td>none</td><td>73</td><td>76</td><td>78</td></tr><tr><td>male</td><td>group A</td><td>some college</td><td>free/reduced</td><td>none</td><td>75</td><td>81</td><td>74</td></tr><tr><td>female</td><td>group D</td><td>some college</td><td>free/reduced</td><td>none</td><td>64</td><td>74</td><td>75</td></tr><tr><td>female</td><td>group E</td><td>high school</td><td>free/reduced</td><td>none</td><td>41</td><td>45</td><td>40</td></tr><tr><td>male</td><td>group C</td><td>high school</td><td>standard</td><td>none</td><td>90</td><td>75</td><td>69</td></tr><tr><td>male</td><td>group B</td><td>bachelor's degree</td><td>standard</td><td>none</td><td>59</td><td>54</td><td>51</td></tr><tr><td>male</td><td>group A</td><td>some high school</td><td>standard</td><td>none</td><td>51</td><td>31</td><td>36</td></tr><tr><td>male</td><td>group A</td><td>high school</td><td>free/reduced</td><td>none</td><td>45</td><td>47</td><td>49</td></tr><tr><td>female</td><td>group C</td><td>master's degree</td><td>standard</td><td>completed</td><td>54</td><td>64</td><td>67</td></tr><tr><td>male</td><td>group E</td><td>some high school</td><td>standard</td><td>completed</td><td>87</td><td>84</td><td>76</td></tr><tr><td>female</td><td>group C</td><td>high school</td><td>standard</td><td>none</td><td>72</td><td>80</td><td>83</td></tr><tr><td>male</td><td>group B</td><td>some high school</td><td>standard</td><td>completed</td><td>94</td><td>86</td><td>87</td></tr><tr><td>female</td><td>group A</td><td>bachelor's degree</td><td>standard</td><td>none</td><td>45</td><td>59</td><td>64</td></tr><tr><td>male</td><td>group D</td><td>bachelor's degree</td><td>free/reduced</td><td>completed</td><td>61</td><td>70</td><td>76</td></tr><tr><td>female</td><td>group B</td><td>high school</td><td>free/reduced</td><td>none</td><td>60</td><td>72</td><td>68</td></tr><tr><td>female</td><td>group C</td><td>some high school</td><td>standard</td><td>none</td><td>77</td><td>91</td><td>88</td></tr><tr><td>female</td><td>group A</td><td>some high school</td><td>standard</td><td>completed</td><td>85</td><td>90</td><td>92</td></tr><tr><td>female</td><td>group D</td><td>bachelor's degree</td><td>free/reduced</td><td>none</td><td>78</td><td>90</td><td>93</td></tr><tr><td>male</td><td>group E</td><td>some college</td><td>free/reduced</td><td>completed</td><td>49</td><td>52</td><td>51</td></tr><tr><td>female</td><td>group B</td><td>high school</td><td>free/reduced</td><td>none</td><td>71</td><td>87</td><td>82</td></tr><tr><td>female</td><td>group C</td><td>some high school</td><td>free/reduced</td><td>none</td><td>48</td><td>58</td><td>52</td></tr><tr><td>male</td><td>group C</td><td>high school</td><td>standard</td><td>none</td><td>62</td><td>67</td><td>58</td></tr><tr><td>female</td><td>group C</td><td>associate's degree</td><td>free/reduced</td><td>completed</td><td>56</td><td>68</td><td>70</td></tr><tr><td>female</td><td>group C</td><td>some high school</td><td>standard</td><td>none</td><td>65</td><td>69</td><td>76</td></tr><tr><td>female</td><td>group D</td><td>some high school</td><td>free/reduced</td><td>completed</td><td>69</td><td>86</td><td>81</td></tr><tr><td>male</td><td>group B</td><td>some high school</td><td>standard</td><td>none</td><td>68</td><td>54</td><td>53</td></tr><tr><td>female</td><td>group A</td><td>some college</td><td>free/reduced</td><td>none</td><td>61</td><td>60</td><td>57</td></tr><tr><td>female</td><td>group C</td><td>bachelor's degree</td><td>free/reduced</td><td>completed</td><td>74</td><td>86</td><td>89</td></tr><tr><td>male</td><td>group A</td><td>bachelor's degree</td><td>standard</td><td>none</td><td>64</td><td>60</td><td>58</td></tr><tr><td>female</td><td>group B</td><td>high school</td><td>standard</td><td>completed</td><td>77</td><td>82</td><td>89</td></tr><tr><td>male</td><td>group B</td><td>some college</td><td>standard</td><td>none</td><td>58</td><td>50</td><td>45</td></tr><tr><td>female</td><td>group C</td><td>high school</td><td>standard</td><td>completed</td><td>60</td><td>64</td><td>74</td></tr><tr><td>male</td><td>group E</td><td>high school</td><td>standard</td><td>none</td><td>73</td><td>64</td><td>57</td></tr><tr><td>female</td><td>group A</td><td>high school</td><td>standard</td><td>completed</td><td>75</td><td>82</td><td>79</td></tr><tr><td>male</td><td>group B</td><td>associate's degree</td><td>free/reduced</td><td>completed</td><td>58</td><td>57</td><td>53</td></tr><tr><td>female</td><td>group C</td><td>associate's degree</td><td>standard</td><td>none</td><td>66</td><td>77</td><td>73</td></tr><tr><td>female</td><td>group D</td><td>high school</td><td>free/reduced</td><td>none</td><td>39</td><td>52</td><td>46</td></tr><tr><td>male</td><td>group C</td><td>some high school</td><td>standard</td><td>none</td><td>64</td><td>58</td><td>51</td></tr><tr><td>female</td><td>group B</td><td>high school</td><td>free/reduced</td><td>completed</td><td>23</td><td>44</td><td>36</td></tr><tr><td>male</td><td>group B</td><td>some college</td><td>free/reduced</td><td>completed</td><td>74</td><td>77</td><td>76</td></tr><tr><td>female</td><td>group D</td><td>some high school</td><td>free/reduced</td><td>completed</td><td>40</td><td>65</td><td>64</td></tr><tr><td>male</td><td>group E</td><td>master's degree</td><td>standard</td><td>none</td><td>90</td><td>85</td><td>84</td></tr><tr><td>male</td><td>group C</td><td>master's degree</td><td>standard</td><td>completed</td><td>91</td><td>85</td><td>85</td></tr><tr><td>male</td><td>group D</td><td>high school</td><td>standard</td><td>none</td><td>64</td><td>54</td><td>50</td></tr><tr><td>female</td><td>group C</td><td>high school</td><td>standard</td><td>none</td><td>59</td><td>72</td><td>68</td></tr><tr><td>male</td><td>group D</td><td>associate's degree</td><td>standard</td><td>none</td><td>80</td><td>75</td><td>69</td></tr><tr><td>male</td><td>group C</td><td>master's degree</td><td>standard</td><td>none</td><td>71</td><td>67</td><td>67</td></tr><tr><td>female</td><td>group A</td><td>high school</td><td>standard</td><td>none</td><td>61</td><td>68</td><td>63</td></tr><tr><td>female</td><td>group E</td><td>some college</td><td>standard</td><td>none</td><td>87</td><td>85</td><td>93</td></tr><tr><td>male</td><td>group E</td><td>some high school</td><td>standard</td><td>none</td><td>82</td><td>67</td><td>61</td></tr><tr><td>male</td><td>group C</td><td>some high school</td><td>standard</td><td>none</td><td>62</td><td>64</td><td>55</td></tr><tr><td>female</td><td>group B</td><td>bachelor's degree</td><td>standard</td><td>none</td><td>97</td><td>97</td><td>96</td></tr><tr><td>male</td><td>group B</td><td>some college</td><td>free/reduced</td><td>none</td><td>75</td><td>68</td><td>65</td></tr><tr><td>female</td><td>group C</td><td>bachelor's degree</td><td>standard</td><td>none</td><td>65</td><td>79</td><td>81</td></tr><tr><td>male</td><td>group B</td><td>high school</td><td>standard</td><td>completed</td><td>52</td><td>49</td><td>46</td></tr><tr><td>male</td><td>group C</td><td>associate's degree</td><td>free/reduced</td><td>none</td><td>87</td><td>73</td><td>72</td></tr><tr><td>female</td><td>group C</td><td>associate's degree</td><td>standard</td><td>none</td><td>53</td><td>62</td><td>53</td></tr><tr><td>female</td><td>group E</td><td>master's degree</td><td>free/reduced</td><td>none</td><td>81</td><td>86</td><td>87</td></tr><tr><td>male</td><td>group D</td><td>bachelor's degree</td><td>free/reduced</td><td>completed</td><td>39</td><td>42</td><td>38</td></tr><tr><td>female</td><td>group C</td><td>some college</td><td>standard</td><td>completed</td><td>71</td><td>71</td><td>80</td></tr><tr><td>male</td><td>group C</td><td>associate's degree</td><td>standard</td><td>none</td><td>97</td><td>93</td><td>91</td></tr><tr><td>male</td><td>group D</td><td>some college</td><td>standard</td><td>completed</td><td>82</td><td>82</td><td>88</td></tr><tr><td>male</td><td>group C</td><td>high school</td><td>free/reduced</td><td>none</td><td>59</td><td>53</td><td>52</td></tr><tr><td>male</td><td>group B</td><td>associate's degree</td><td>standard</td><td>none</td><td>61</td><td>42</td><td>41</td></tr><tr><td>male</td><td>group E</td><td>associate's degree</td><td>free/reduced</td><td>completed</td><td>78</td><td>74</td><td>72</td></tr><tr><td>male</td><td>group C</td><td>associate's degree</td><td>free/reduced</td><td>none</td><td>49</td><td>51</td><td>51</td></tr><tr><td>male</td><td>group B</td><td>high school</td><td>standard</td><td>none</td><td>59</td><td>58</td><td>47</td></tr><tr><td>female</td><td>group C</td><td>some college</td><td>standard</td><td>completed</td><td>70</td><td>72</td><td>76</td></tr><tr><td>male</td><td>group B</td><td>associate's degree</td><td>standard</td><td>completed</td><td>82</td><td>84</td><td>78</td></tr><tr><td>male</td><td>group E</td><td>associate's degree</td><td>free/reduced</td><td>none</td><td>90</td><td>90</td><td>82</td></tr><tr><td>female</td><td>group C</td><td>bachelor's degree</td><td>free/reduced</td><td>none</td><td>43</td><td>62</td><td>61</td></tr><tr><td>male</td><td>group C</td><td>some college</td><td>free/reduced</td><td>none</td><td>80</td><td>64</td><td>66</td></tr><tr><td>male</td><td>group D</td><td>some college</td><td>standard</td><td>none</td><td>81</td><td>82</td><td>84</td></tr><tr><td>male</td><td>group C</td><td>some high school</td><td>standard</td><td>none</td><td>57</td><td>61</td><td>54</td></tr><tr><td>female</td><td>group D</td><td>some high school</td><td>standard</td><td>none</td><td>59</td><td>72</td><td>80</td></tr><tr><td>female</td><td>group D</td><td>associate's degree</td><td>standard</td><td>none</td><td>64</td><td>76</td><td>74</td></tr><tr><td>male</td><td>group C</td><td>bachelor's degree</td><td>standard</td><td>completed</td><td>63</td><td>64</td><td>66</td></tr><tr><td>female</td><td>group E</td><td>bachelor's degree</td><td>standard</td><td>completed</td><td>71</td><td>70</td><td>70</td></tr><tr><td>female</td><td>group B</td><td>high school</td><td>free/reduced</td><td>none</td><td>64</td><td>73</td><td>71</td></tr><tr><td>male</td><td>group D</td><td>bachelor's degree</td><td>free/reduced</td><td>none</td><td>55</td><td>46</td><td>44</td></tr><tr><td>female</td><td>group E</td><td>associate's degree</td><td>standard</td><td>none</td><td>51</td><td>51</td><td>54</td></tr><tr><td>female</td><td>group C</td><td>associate's degree</td><td>standard</td><td>completed</td><td>62</td><td>76</td><td>80</td></tr><tr><td>female</td><td>group E</td><td>associate's degree</td><td>standard</td><td>completed</td><td>93</td><td>100</td><td>95</td></tr><tr><td>male</td><td>group C</td><td>high school</td><td>free/reduced</td><td>none</td><td>54</td><td>72</td><td>59</td></tr><tr><td>female</td><td>group D</td><td>some college</td><td>free/reduced</td><td>none</td><td>69</td><td>65</td><td>74</td></tr><tr><td>male</td><td>group D</td><td>high school</td><td>free/reduced</td><td>none</td><td>44</td><td>51</td><td>48</td></tr><tr><td>female</td><td>group E</td><td>some college</td><td>standard</td><td>completed</td><td>86</td><td>85</td><td>91</td></tr><tr><td>female</td><td>group E</td><td>associate's degree</td><td>standard</td><td>none</td><td>85</td><td>92</td><td>85</td></tr><tr><td>female</td><td>group A</td><td>master's degree</td><td>free/reduced</td><td>none</td><td>50</td><td>67</td><td>73</td></tr><tr><td>male</td><td>group D</td><td>some high school</td><td>standard</td><td>completed</td><td>88</td><td>74</td><td>75</td></tr><tr><td>female</td><td>group E</td><td>associate's degree</td><td>standard</td><td>none</td><td>59</td><td>62</td><td>69</td></tr><tr><td>female</td><td>group E</td><td>some high school</td><td>free/reduced</td><td>none</td><td>32</td><td>34</td><td>38</td></tr><tr><td>male</td><td>group B</td><td>high school</td><td>free/reduced</td><td>none</td><td>36</td><td>29</td><td>27</td></tr><tr><td>female</td><td>group B</td><td>some high school</td><td>free/reduced</td><td>completed</td><td>63</td><td>78</td><td>79</td></tr><tr><td>male</td><td>group D</td><td>associate's degree</td><td>standard</td><td>completed</td><td>67</td><td>54</td><td>63</td></tr><tr><td>female</td><td>group D</td><td>some high school</td><td>standard</td><td>completed</td><td>65</td><td>78</td><td>82</td></tr><tr><td>male</td><td>group D</td><td>master's degree</td><td>standard</td><td>none</td><td>85</td><td>84</td><td>89</td></tr><tr><td>female</td><td>group C</td><td>master's degree</td><td>standard</td><td>none</td><td>73</td><td>78</td><td>74</td></tr><tr><td>female</td><td>group A</td><td>high school</td><td>free/reduced</td><td>completed</td><td>34</td><td>48</td><td>41</td></tr><tr><td>female</td><td>group D</td><td>bachelor's degree</td><td>free/reduced</td><td>completed</td><td>93</td><td>100</td><td>100</td></tr><tr><td>female</td><td>group D</td><td>some high school</td><td>free/reduced</td><td>none</td><td>67</td><td>84</td><td>84</td></tr><tr><td>male</td><td>group D</td><td>some college</td><td>standard</td><td>none</td><td>88</td><td>77</td><td>77</td></tr><tr><td>male</td><td>group B</td><td>high school</td><td>standard</td><td>none</td><td>57</td><td>48</td><td>51</td></tr><tr><td>female</td><td>group D</td><td>some college</td><td>standard</td><td>completed</td><td>79</td><td>84</td><td>91</td></tr><tr><td>female</td><td>group C</td><td>bachelor's degree</td><td>free/reduced</td><td>none</td><td>67</td><td>75</td><td>72</td></tr><tr><td>male</td><td>group E</td><td>bachelor's degree</td><td>standard</td><td>completed</td><td>70</td><td>64</td><td>70</td></tr><tr><td>male</td><td>group D</td><td>bachelor's degree</td><td>free/reduced</td><td>none</td><td>50</td><td>42</td><td>48</td></tr><tr><td>female</td><td>group A</td><td>some college</td><td>standard</td><td>none</td><td>69</td><td>84</td><td>82</td></tr><tr><td>female</td><td>group C</td><td>bachelor's degree</td><td>standard</td><td>completed</td><td>52</td><td>61</td><td>66</td></tr><tr><td>female</td><td>group C</td><td>bachelor's degree</td><td>free/reduced</td><td>completed</td><td>47</td><td>62</td><td>66</td></tr><tr><td>female</td><td>group B</td><td>associate's degree</td><td>free/reduced</td><td>none</td><td>46</td><td>61</td><td>55</td></tr><tr><td>female</td><td>group E</td><td>some college</td><td>standard</td><td>none</td><td>68</td><td>70</td><td>66</td></tr><tr><td>male</td><td>group E</td><td>bachelor's degree</td><td>standard</td><td>completed</td><td>100</td><td>100</td><td>100</td></tr><tr><td>female</td><td>group C</td><td>high school</td><td>standard</td><td>none</td><td>44</td><td>61</td><td>52</td></tr><tr><td>female</td><td>group C</td><td>associate's degree</td><td>standard</td><td>completed</td><td>57</td><td>77</td><td>80</td></tr><tr><td>male</td><td>group B</td><td>some college</td><td>standard</td><td>completed</td><td>91</td><td>96</td><td>91</td></tr><tr><td>male</td><td>group D</td><td>high school</td><td>free/reduced</td><td>none</td><td>69</td><td>70</td><td>67</td></tr><tr><td>female</td><td>group C</td><td>high school</td><td>free/reduced</td><td>none</td><td>35</td><td>53</td><td>46</td></tr><tr><td>male</td><td>group D</td><td>high school</td><td>standard</td><td>none</td><td>72</td><td>66</td><td>66</td></tr><tr><td>female</td><td>group B</td><td>associate's degree</td><td>free/reduced</td><td>none</td><td>54</td><td>65</td><td>65</td></tr><tr><td>male</td><td>group D</td><td>high school</td><td>free/reduced</td><td>none</td><td>74</td><td>70</td><td>69</td></tr><tr><td>male</td><td>group E</td><td>some high school</td><td>standard</td><td>completed</td><td>74</td><td>64</td><td>60</td></tr><tr><td>male</td><td>group E</td><td>associate's degree</td><td>free/reduced</td><td>none</td><td>64</td><td>56</td><td>52</td></tr><tr><td>female</td><td>group D</td><td>high school</td><td>free/reduced</td><td>completed</td><td>65</td><td>61</td><td>71</td></tr><tr><td>male</td><td>group E</td><td>associate's degree</td><td>free/reduced</td><td>completed</td><td>46</td><td>43</td><td>44</td></tr><tr><td>female</td><td>group C</td><td>some high school</td><td>free/reduced</td><td>none</td><td>48</td><td>56</td><td>51</td></tr><tr><td>male</td><td>group C</td><td>some college</td><td>free/reduced</td><td>completed</td><td>67</td><td>74</td><td>70</td></tr><tr><td>male</td><td>group D</td><td>some college</td><td>free/reduced</td><td>none</td><td>62</td><td>57</td><td>62</td></tr><tr><td>male</td><td>group D</td><td>associate's degree</td><td>free/reduced</td><td>completed</td><td>61</td><td>71</td><td>73</td></tr><tr><td>male</td><td>group C</td><td>bachelor's degree</td><td>free/reduced</td><td>completed</td><td>70</td><td>75</td><td>74</td></tr><tr><td>male</td><td>group C</td><td>associate's degree</td><td>standard</td><td>completed</td><td>98</td><td>87</td><td>90</td></tr><tr><td>male</td><td>group D</td><td>some college</td><td>free/reduced</td><td>none</td><td>70</td><td>63</td><td>58</td></tr><tr><td>male</td><td>group A</td><td>associate's degree</td><td>standard</td><td>none</td><td>67</td><td>57</td><td>53</td></tr><tr><td>female</td><td>group E</td><td>high school</td><td>free/reduced</td><td>none</td><td>57</td><td>58</td><td>57</td></tr><tr><td>male</td><td>group D</td><td>some college</td><td>standard</td><td>completed</td><td>85</td><td>81</td><td>85</td></tr><tr><td>male</td><td>group D</td><td>some high school</td><td>standard</td><td>completed</td><td>77</td><td>68</td><td>69</td></tr><tr><td>male</td><td>group C</td><td>master's degree</td><td>free/reduced</td><td>completed</td><td>72</td><td>66</td><td>72</td></tr><tr><td>female</td><td>group D</td><td>master's degree</td><td>standard</td><td>none</td><td>78</td><td>91</td><td>96</td></tr><tr><td>male</td><td>group C</td><td>high school</td><td>standard</td><td>none</td><td>81</td><td>66</td><td>64</td></tr><tr><td>male</td><td>group A</td><td>some high school</td><td>free/reduced</td><td>completed</td><td>61</td><td>62</td><td>61</td></tr><tr><td>female</td><td>group B</td><td>high school</td><td>standard</td><td>none</td><td>58</td><td>68</td><td>61</td></tr><tr><td>female</td><td>group C</td><td>associate's degree</td><td>standard</td><td>none</td><td>54</td><td>61</td><td>58</td></tr><tr><td>male</td><td>group B</td><td>high school</td><td>standard</td><td>none</td><td>82</td><td>82</td><td>80</td></tr><tr><td>female</td><td>group D</td><td>some college</td><td>free/reduced</td><td>none</td><td>49</td><td>58</td><td>60</td></tr><tr><td>male</td><td>group B</td><td>some high school</td><td>free/reduced</td><td>completed</td><td>49</td><td>50</td><td>52</td></tr><tr><td>female</td><td>group E</td><td>high school</td><td>free/reduced</td><td>completed</td><td>57</td><td>75</td><td>73</td></tr><tr><td>male</td><td>group E</td><td>high school</td><td>standard</td><td>none</td><td>94</td><td>73</td><td>71</td></tr><tr><td>female</td><td>group D</td><td>some college</td><td>standard</td><td>completed</td><td>75</td><td>77</td><td>83</td></tr><tr><td>female</td><td>group E</td><td>some high school</td><td>free/reduced</td><td>none</td><td>74</td><td>74</td><td>72</td></tr><tr><td>male</td><td>group C</td><td>high school</td><td>standard</td><td>completed</td><td>58</td><td>52</td><td>54</td></tr><tr><td>female</td><td>group C</td><td>some college</td><td>standard</td><td>none</td><td>62</td><td>69</td><td>69</td></tr><tr><td>male</td><td>group E</td><td>associate's degree</td><td>standard</td><td>none</td><td>72</td><td>57</td><td>62</td></tr><tr><td>male</td><td>group C</td><td>some college</td><td>standard</td><td>none</td><td>84</td><td>87</td><td>81</td></tr><tr><td>female</td><td>group D</td><td>master's degree</td><td>standard</td><td>none</td><td>92</td><td>100</td><td>100</td></tr><tr><td>female</td><td>group D</td><td>high school</td><td>standard</td><td>none</td><td>45</td><td>63</td><td>59</td></tr><tr><td>male</td><td>group C</td><td>high school</td><td>standard</td><td>none</td><td>75</td><td>81</td><td>71</td></tr><tr><td>female</td><td>group A</td><td>some college</td><td>standard</td><td>none</td><td>56</td><td>58</td><td>64</td></tr><tr><td>female</td><td>group D</td><td>some high school</td><td>free/reduced</td><td>none</td><td>48</td><td>54</td><td>53</td></tr><tr><td>female</td><td>group E</td><td>associate's degree</td><td>standard</td><td>none</td><td>100</td><td>100</td><td>100</td></tr><tr><td>female</td><td>group C</td><td>some high school</td><td>free/reduced</td><td>completed</td><td>65</td><td>76</td><td>75</td></tr><tr><td>male</td><td>group D</td><td>some college</td><td>standard</td><td>none</td><td>72</td><td>57</td><td>58</td></tr><tr><td>female</td><td>group D</td><td>some college</td><td>standard</td><td>none</td><td>62</td><td>70</td><td>72</td></tr><tr><td>male</td><td>group A</td><td>some high school</td><td>standard</td><td>completed</td><td>66</td><td>68</td><td>64</td></tr><tr><td>male</td><td>group C</td><td>some college</td><td>standard</td><td>none</td><td>63</td><td>63</td><td>60</td></tr><tr><td>female</td><td>group E</td><td>associate's degree</td><td>standard</td><td>none</td><td>68</td><td>76</td><td>67</td></tr><tr><td>female</td><td>group B</td><td>bachelor's degree</td><td>standard</td><td>none</td><td>75</td><td>84</td><td>80</td></tr><tr><td>female</td><td>group D</td><td>bachelor's degree</td><td>standard</td><td>none</td><td>89</td><td>100</td><td>100</td></tr><tr><td>male</td><td>group C</td><td>some high school</td><td>standard</td><td>completed</td><td>78</td><td>72</td><td>69</td></tr><tr><td>female</td><td>group A</td><td>high school</td><td>free/reduced</td><td>completed</td><td>53</td><td>50</td><td>60</td></tr><tr><td>female</td><td>group D</td><td>some college</td><td>free/reduced</td><td>none</td><td>49</td><td>65</td><td>61</td></tr><tr><td>female</td><td>group A</td><td>some college</td><td>standard</td><td>none</td><td>54</td><td>63</td><td>67</td></tr><tr><td>female</td><td>group C</td><td>some college</td><td>standard</td><td>completed</td><td>64</td><td>82</td><td>77</td></tr><tr><td>male</td><td>group B</td><td>some college</td><td>free/reduced</td><td>completed</td><td>60</td><td>62</td><td>60</td></tr><tr><td>male</td><td>group C</td><td>associate's degree</td><td>standard</td><td>none</td><td>62</td><td>65</td><td>58</td></tr><tr><td>male</td><td>group D</td><td>high school</td><td>standard</td><td>completed</td><td>55</td><td>41</td><td>48</td></tr><tr><td>female</td><td>group C</td><td>associate's degree</td><td>standard</td><td>none</td><td>91</td><td>95</td><td>94</td></tr><tr><td>female</td><td>group B</td><td>high school</td><td>free/reduced</td><td>none</td><td>8</td><td>24</td><td>23</td></tr><tr><td>male</td><td>group D</td><td>some high school</td><td>standard</td><td>none</td><td>81</td><td>78</td><td>78</td></tr><tr><td>male</td><td>group B</td><td>some high school</td><td>standard</td><td>completed</td><td>79</td><td>85</td><td>86</td></tr><tr><td>female</td><td>group A</td><td>some college</td><td>standard</td><td>completed</td><td>78</td><td>87</td><td>91</td></tr><tr><td>female</td><td>group C</td><td>some high school</td><td>standard</td><td>none</td><td>74</td><td>75</td><td>82</td></tr><tr><td>male</td><td>group A</td><td>high school</td><td>standard</td><td>none</td><td>57</td><td>51</td><td>54</td></tr><tr><td>female</td><td>group C</td><td>associate's degree</td><td>standard</td><td>none</td><td>40</td><td>59</td><td>51</td></tr><tr><td>male</td><td>group E</td><td>some high school</td><td>standard</td><td>completed</td><td>81</td><td>75</td><td>76</td></tr><tr><td>female</td><td>group A</td><td>some high school</td><td>free/reduced</td><td>none</td><td>44</td><td>45</td><td>45</td></tr><tr><td>female</td><td>group D</td><td>some college</td><td>free/reduced</td><td>completed</td><td>67</td><td>86</td><td>83</td></tr><tr><td>male</td><td>group E</td><td>high school</td><td>free/reduced</td><td>completed</td><td>86</td><td>81</td><td>75</td></tr><tr><td>female</td><td>group B</td><td>some high school</td><td>standard</td><td>completed</td><td>65</td><td>82</td><td>78</td></tr><tr><td>female</td><td>group D</td><td>associate's degree</td><td>free/reduced</td><td>none</td><td>55</td><td>76</td><td>76</td></tr><tr><td>female</td><td>group D</td><td>bachelor's degree</td><td>free/reduced</td><td>none</td><td>62</td><td>72</td><td>74</td></tr><tr><td>male</td><td>group A</td><td>high school</td><td>standard</td><td>none</td><td>63</td><td>63</td><td>62</td></tr><tr><td>female</td><td>group E</td><td>master's degree</td><td>standard</td><td>completed</td><td>88</td><td>99</td><td>95</td></tr><tr><td>male</td><td>group C</td><td>high school</td><td>free/reduced</td><td>none</td><td>62</td><td>55</td><td>55</td></tr><tr><td>female</td><td>group C</td><td>high school</td><td>free/reduced</td><td>completed</td><td>59</td><td>71</td><td>65</td></tr><tr><td>female</td><td>group D</td><td>some college</td><td>standard</td><td>completed</td><td>68</td><td>78</td><td>77</td></tr><tr><td>female</td><td>group D</td><td>some college</td><td>free/reduced</td><td>none</td><td>77</td><td>86</td><td>86</td></tr></tbody></table></div>"
      ]
     },
     "metadata": {
      "application/vnd.databricks.v1+output": {
       "addedWidgets": {},
       "aggData": [],
       "aggError": "",
       "aggOverflow": false,
       "aggSchema": [],
       "aggSeriesLimitReached": false,
       "aggType": "",
       "arguments": {},
       "columnCustomDisplayInfos": {},
       "data": [
        [
         "female",
         "group B",
         "bachelor's degree",
         "standard",
         "none",
         72,
         72,
         74
        ],
        [
         "female",
         "group C",
         "some college",
         "standard",
         "completed",
         69,
         90,
         88
        ],
        [
         "female",
         "group B",
         "master's degree",
         "standard",
         "none",
         90,
         95,
         93
        ],
        [
         "male",
         "group A",
         "associate's degree",
         "free/reduced",
         "none",
         47,
         57,
         44
        ],
        [
         "male",
         "group C",
         "some college",
         "standard",
         "none",
         76,
         78,
         75
        ],
        [
         "female",
         "group B",
         "associate's degree",
         "standard",
         "none",
         71,
         83,
         78
        ],
        [
         "female",
         "group B",
         "some college",
         "standard",
         "completed",
         88,
         95,
         92
        ],
        [
         "male",
         "group B",
         "some college",
         "free/reduced",
         "none",
         40,
         43,
         39
        ],
        [
         "male",
         "group D",
         "high school",
         "free/reduced",
         "completed",
         64,
         64,
         67
        ],
        [
         "female",
         "group B",
         "high school",
         "free/reduced",
         "none",
         38,
         60,
         50
        ],
        [
         "male",
         "group C",
         "associate's degree",
         "standard",
         "none",
         58,
         54,
         52
        ],
        [
         "male",
         "group D",
         "associate's degree",
         "standard",
         "none",
         40,
         52,
         43
        ],
        [
         "female",
         "group B",
         "high school",
         "standard",
         "none",
         65,
         81,
         73
        ],
        [
         "male",
         "group A",
         "some college",
         "standard",
         "completed",
         78,
         72,
         70
        ],
        [
         "female",
         "group A",
         "master's degree",
         "standard",
         "none",
         50,
         53,
         58
        ],
        [
         "female",
         "group C",
         "some high school",
         "standard",
         "none",
         69,
         75,
         78
        ],
        [
         "male",
         "group C",
         "high school",
         "standard",
         "none",
         88,
         89,
         86
        ],
        [
         "female",
         "group B",
         "some high school",
         "free/reduced",
         "none",
         18,
         32,
         28
        ],
        [
         "male",
         "group C",
         "master's degree",
         "free/reduced",
         "completed",
         46,
         42,
         46
        ],
        [
         "female",
         "group C",
         "associate's degree",
         "free/reduced",
         "none",
         54,
         58,
         61
        ],
        [
         "male",
         "group D",
         "high school",
         "standard",
         "none",
         66,
         69,
         63
        ],
        [
         "female",
         "group B",
         "some college",
         "free/reduced",
         "completed",
         65,
         75,
         70
        ],
        [
         "male",
         "group D",
         "some college",
         "standard",
         "none",
         44,
         54,
         53
        ],
        [
         "female",
         "group C",
         "some high school",
         "standard",
         "none",
         69,
         73,
         73
        ],
        [
         "male",
         "group D",
         "bachelor's degree",
         "free/reduced",
         "completed",
         74,
         71,
         80
        ],
        [
         "male",
         "group A",
         "master's degree",
         "free/reduced",
         "none",
         73,
         74,
         72
        ],
        [
         "male",
         "group B",
         "some college",
         "standard",
         "none",
         69,
         54,
         55
        ],
        [
         "female",
         "group C",
         "bachelor's degree",
         "standard",
         "none",
         67,
         69,
         75
        ],
        [
         "male",
         "group C",
         "high school",
         "standard",
         "none",
         70,
         70,
         65
        ],
        [
         "female",
         "group D",
         "master's degree",
         "standard",
         "none",
         62,
         70,
         75
        ],
        [
         "female",
         "group D",
         "some college",
         "standard",
         "none",
         69,
         74,
         74
        ],
        [
         "female",
         "group B",
         "some college",
         "standard",
         "none",
         63,
         65,
         61
        ],
        [
         "female",
         "group E",
         "master's degree",
         "free/reduced",
         "none",
         56,
         72,
         65
        ],
        [
         "male",
         "group D",
         "some college",
         "standard",
         "none",
         40,
         42,
         38
        ],
        [
         "male",
         "group E",
         "some college",
         "standard",
         "none",
         97,
         87,
         82
        ],
        [
         "male",
         "group E",
         "associate's degree",
         "standard",
         "completed",
         81,
         81,
         79
        ],
        [
         "female",
         "group D",
         "associate's degree",
         "standard",
         "none",
         74,
         81,
         83
        ],
        [
         "female",
         "group D",
         "some high school",
         "free/reduced",
         "none",
         50,
         64,
         59
        ],
        [
         "female",
         "group D",
         "associate's degree",
         "free/reduced",
         "completed",
         75,
         90,
         88
        ],
        [
         "male",
         "group B",
         "associate's degree",
         "free/reduced",
         "none",
         57,
         56,
         57
        ],
        [
         "male",
         "group C",
         "associate's degree",
         "free/reduced",
         "none",
         55,
         61,
         54
        ],
        [
         "female",
         "group C",
         "associate's degree",
         "standard",
         "none",
         58,
         73,
         68
        ],
        [
         "female",
         "group B",
         "associate's degree",
         "standard",
         "none",
         53,
         58,
         65
        ],
        [
         "male",
         "group B",
         "some college",
         "free/reduced",
         "completed",
         59,
         65,
         66
        ],
        [
         "female",
         "group E",
         "associate's degree",
         "free/reduced",
         "none",
         50,
         56,
         54
        ],
        [
         "male",
         "group B",
         "associate's degree",
         "standard",
         "none",
         65,
         54,
         57
        ],
        [
         "female",
         "group A",
         "associate's degree",
         "standard",
         "completed",
         55,
         65,
         62
        ],
        [
         "female",
         "group C",
         "high school",
         "standard",
         "none",
         66,
         71,
         76
        ],
        [
         "female",
         "group D",
         "associate's degree",
         "free/reduced",
         "completed",
         57,
         74,
         76
        ],
        [
         "male",
         "group C",
         "high school",
         "standard",
         "completed",
         82,
         84,
         82
        ],
        [
         "male",
         "group E",
         "some college",
         "standard",
         "none",
         53,
         55,
         48
        ],
        [
         "male",
         "group E",
         "associate's degree",
         "free/reduced",
         "completed",
         77,
         69,
         68
        ],
        [
         "male",
         "group C",
         "some college",
         "standard",
         "none",
         53,
         44,
         42
        ],
        [
         "male",
         "group D",
         "high school",
         "standard",
         "none",
         88,
         78,
         75
        ],
        [
         "female",
         "group C",
         "some high school",
         "free/reduced",
         "completed",
         71,
         84,
         87
        ],
        [
         "female",
         "group C",
         "high school",
         "free/reduced",
         "none",
         33,
         41,
         43
        ],
        [
         "female",
         "group E",
         "associate's degree",
         "standard",
         "completed",
         82,
         85,
         86
        ],
        [
         "male",
         "group D",
         "associate's degree",
         "standard",
         "none",
         52,
         55,
         49
        ],
        [
         "male",
         "group D",
         "some college",
         "standard",
         "completed",
         58,
         59,
         58
        ],
        [
         "female",
         "group C",
         "some high school",
         "free/reduced",
         "none",
         0,
         17,
         10
        ],
        [
         "male",
         "group E",
         "bachelor's degree",
         "free/reduced",
         "completed",
         79,
         74,
         72
        ],
        [
         "male",
         "group A",
         "some high school",
         "free/reduced",
         "none",
         39,
         39,
         34
        ],
        [
         "male",
         "group A",
         "associate's degree",
         "free/reduced",
         "none",
         62,
         61,
         55
        ],
        [
         "female",
         "group C",
         "associate's degree",
         "standard",
         "none",
         69,
         80,
         71
        ],
        [
         "female",
         "group D",
         "some high school",
         "standard",
         "none",
         59,
         58,
         59
        ],
        [
         "male",
         "group B",
         "some high school",
         "standard",
         "none",
         67,
         64,
         61
        ],
        [
         "male",
         "group D",
         "some high school",
         "free/reduced",
         "none",
         45,
         37,
         37
        ],
        [
         "female",
         "group C",
         "some college",
         "standard",
         "none",
         60,
         72,
         74
        ],
        [
         "male",
         "group B",
         "associate's degree",
         "free/reduced",
         "none",
         61,
         58,
         56
        ],
        [
         "female",
         "group C",
         "associate's degree",
         "standard",
         "none",
         39,
         64,
         57
        ],
        [
         "female",
         "group D",
         "some college",
         "free/reduced",
         "completed",
         58,
         63,
         73
        ],
        [
         "male",
         "group D",
         "some college",
         "standard",
         "completed",
         63,
         55,
         63
        ],
        [
         "female",
         "group A",
         "associate's degree",
         "free/reduced",
         "none",
         41,
         51,
         48
        ],
        [
         "male",
         "group C",
         "some high school",
         "free/reduced",
         "none",
         61,
         57,
         56
        ],
        [
         "male",
         "group C",
         "some high school",
         "standard",
         "none",
         49,
         49,
         41
        ],
        [
         "male",
         "group B",
         "associate's degree",
         "free/reduced",
         "none",
         44,
         41,
         38
        ],
        [
         "male",
         "group E",
         "some high school",
         "standard",
         "none",
         30,
         26,
         22
        ],
        [
         "male",
         "group A",
         "bachelor's degree",
         "standard",
         "completed",
         80,
         78,
         81
        ],
        [
         "female",
         "group D",
         "some high school",
         "standard",
         "completed",
         61,
         74,
         72
        ],
        [
         "female",
         "group E",
         "master's degree",
         "standard",
         "none",
         62,
         68,
         68
        ],
        [
         "female",
         "group B",
         "associate's degree",
         "standard",
         "none",
         47,
         49,
         50
        ],
        [
         "male",
         "group B",
         "high school",
         "free/reduced",
         "none",
         49,
         45,
         45
        ],
        [
         "male",
         "group A",
         "some college",
         "free/reduced",
         "completed",
         50,
         47,
         54
        ],
        [
         "male",
         "group E",
         "associate's degree",
         "standard",
         "none",
         72,
         64,
         63
        ],
        [
         "male",
         "group D",
         "high school",
         "free/reduced",
         "none",
         42,
         39,
         34
        ],
        [
         "female",
         "group C",
         "some college",
         "standard",
         "none",
         73,
         80,
         82
        ],
        [
         "female",
         "group C",
         "some college",
         "free/reduced",
         "none",
         76,
         83,
         88
        ],
        [
         "female",
         "group D",
         "associate's degree",
         "standard",
         "none",
         71,
         71,
         74
        ],
        [
         "female",
         "group A",
         "some college",
         "standard",
         "none",
         58,
         70,
         67
        ],
        [
         "female",
         "group D",
         "some high school",
         "standard",
         "none",
         73,
         86,
         82
        ],
        [
         "female",
         "group C",
         "bachelor's degree",
         "standard",
         "none",
         65,
         72,
         74
        ],
        [
         "male",
         "group C",
         "high school",
         "free/reduced",
         "none",
         27,
         34,
         36
        ],
        [
         "male",
         "group C",
         "high school",
         "standard",
         "none",
         71,
         79,
         71
        ],
        [
         "male",
         "group C",
         "associate's degree",
         "free/reduced",
         "completed",
         43,
         45,
         50
        ],
        [
         "female",
         "group B",
         "some college",
         "standard",
         "none",
         79,
         86,
         92
        ],
        [
         "male",
         "group C",
         "associate's degree",
         "free/reduced",
         "completed",
         78,
         81,
         82
        ],
        [
         "male",
         "group B",
         "some high school",
         "standard",
         "completed",
         65,
         66,
         62
        ],
        [
         "female",
         "group E",
         "some college",
         "standard",
         "completed",
         63,
         72,
         70
        ],
        [
         "female",
         "group D",
         "some college",
         "free/reduced",
         "none",
         58,
         67,
         62
        ],
        [
         "female",
         "group D",
         "bachelor's degree",
         "standard",
         "none",
         65,
         67,
         62
        ],
        [
         "male",
         "group B",
         "some college",
         "standard",
         "none",
         79,
         67,
         67
        ],
        [
         "male",
         "group D",
         "bachelor's degree",
         "standard",
         "completed",
         68,
         74,
         74
        ],
        [
         "female",
         "group D",
         "associate's degree",
         "standard",
         "none",
         85,
         91,
         89
        ],
        [
         "male",
         "group B",
         "high school",
         "standard",
         "completed",
         60,
         44,
         47
        ],
        [
         "male",
         "group C",
         "some college",
         "standard",
         "completed",
         98,
         86,
         90
        ],
        [
         "female",
         "group C",
         "some college",
         "standard",
         "none",
         58,
         67,
         72
        ],
        [
         "female",
         "group D",
         "master's degree",
         "standard",
         "none",
         87,
         100,
         100
        ],
        [
         "male",
         "group E",
         "associate's degree",
         "standard",
         "completed",
         66,
         63,
         64
        ],
        [
         "female",
         "group B",
         "associate's degree",
         "free/reduced",
         "none",
         52,
         76,
         70
        ],
        [
         "female",
         "group B",
         "some high school",
         "standard",
         "none",
         70,
         64,
         72
        ],
        [
         "female",
         "group D",
         "associate's degree",
         "free/reduced",
         "completed",
         77,
         89,
         98
        ],
        [
         "male",
         "group C",
         "high school",
         "standard",
         "none",
         62,
         55,
         49
        ],
        [
         "male",
         "group A",
         "associate's degree",
         "standard",
         "none",
         54,
         53,
         47
        ],
        [
         "female",
         "group D",
         "some college",
         "standard",
         "none",
         51,
         58,
         54
        ],
        [
         "female",
         "group E",
         "bachelor's degree",
         "standard",
         "completed",
         99,
         100,
         100
        ],
        [
         "male",
         "group C",
         "high school",
         "standard",
         "none",
         84,
         77,
         74
        ],
        [
         "female",
         "group B",
         "bachelor's degree",
         "free/reduced",
         "none",
         75,
         85,
         82
        ],
        [
         "female",
         "group D",
         "bachelor's degree",
         "standard",
         "none",
         78,
         82,
         79
        ],
        [
         "female",
         "group D",
         "some high school",
         "standard",
         "none",
         51,
         63,
         61
        ],
        [
         "female",
         "group C",
         "some college",
         "standard",
         "none",
         55,
         69,
         65
        ],
        [
         "female",
         "group C",
         "bachelor's degree",
         "standard",
         "completed",
         79,
         92,
         89
        ],
        [
         "male",
         "group B",
         "associate's degree",
         "standard",
         "completed",
         91,
         89,
         92
        ],
        [
         "female",
         "group C",
         "some college",
         "standard",
         "completed",
         88,
         93,
         93
        ],
        [
         "male",
         "group D",
         "high school",
         "free/reduced",
         "none",
         63,
         57,
         56
        ],
        [
         "male",
         "group E",
         "some college",
         "standard",
         "none",
         83,
         80,
         73
        ],
        [
         "female",
         "group B",
         "high school",
         "standard",
         "none",
         87,
         95,
         86
        ],
        [
         "male",
         "group B",
         "some high school",
         "standard",
         "none",
         72,
         68,
         67
        ],
        [
         "male",
         "group D",
         "some college",
         "standard",
         "completed",
         65,
         77,
         74
        ],
        [
         "male",
         "group D",
         "master's degree",
         "standard",
         "none",
         82,
         82,
         74
        ],
        [
         "female",
         "group A",
         "bachelor's degree",
         "standard",
         "none",
         51,
         49,
         51
        ],
        [
         "male",
         "group D",
         "master's degree",
         "standard",
         "none",
         89,
         84,
         82
        ],
        [
         "male",
         "group C",
         "some high school",
         "free/reduced",
         "completed",
         53,
         37,
         40
        ],
        [
         "male",
         "group E",
         "some college",
         "free/reduced",
         "completed",
         87,
         74,
         70
        ],
        [
         "female",
         "group C",
         "some college",
         "standard",
         "completed",
         75,
         81,
         84
        ],
        [
         "male",
         "group D",
         "bachelor's degree",
         "free/reduced",
         "completed",
         74,
         79,
         75
        ],
        [
         "male",
         "group C",
         "bachelor's degree",
         "standard",
         "none",
         58,
         55,
         48
        ],
        [
         "male",
         "group B",
         "some high school",
         "standard",
         "completed",
         51,
         54,
         41
        ],
        [
         "male",
         "group E",
         "high school",
         "standard",
         "none",
         70,
         55,
         56
        ],
        [
         "female",
         "group C",
         "associate's degree",
         "standard",
         "none",
         59,
         66,
         67
        ],
        [
         "male",
         "group D",
         "some college",
         "standard",
         "completed",
         71,
         61,
         69
        ],
        [
         "female",
         "group D",
         "some high school",
         "standard",
         "none",
         76,
         72,
         71
        ],
        [
         "female",
         "group C",
         "some college",
         "free/reduced",
         "none",
         59,
         62,
         64
        ],
        [
         "female",
         "group E",
         "some college",
         "free/reduced",
         "completed",
         42,
         55,
         54
        ],
        [
         "male",
         "group A",
         "high school",
         "standard",
         "none",
         57,
         43,
         47
        ],
        [
         "male",
         "group D",
         "some college",
         "standard",
         "none",
         88,
         73,
         78
        ],
        [
         "female",
         "group C",
         "some college",
         "free/reduced",
         "none",
         22,
         39,
         33
        ],
        [
         "male",
         "group B",
         "some high school",
         "standard",
         "none",
         88,
         84,
         75
        ],
        [
         "male",
         "group C",
         "associate's degree",
         "free/reduced",
         "none",
         73,
         68,
         66
        ],
        [
         "female",
         "group D",
         "bachelor's degree",
         "standard",
         "completed",
         68,
         75,
         81
        ],
        [
         "male",
         "group E",
         "associate's degree",
         "free/reduced",
         "completed",
         100,
         100,
         93
        ],
        [
         "male",
         "group A",
         "some high school",
         "standard",
         "completed",
         62,
         67,
         69
        ],
        [
         "male",
         "group A",
         "bachelor's degree",
         "standard",
         "none",
         77,
         67,
         68
        ],
        [
         "female",
         "group B",
         "associate's degree",
         "standard",
         "completed",
         59,
         70,
         66
        ],
        [
         "male",
         "group D",
         "bachelor's degree",
         "standard",
         "none",
         54,
         49,
         47
        ],
        [
         "male",
         "group D",
         "some high school",
         "standard",
         "none",
         62,
         67,
         61
        ],
        [
         "female",
         "group C",
         "some college",
         "standard",
         "completed",
         70,
         89,
         88
        ],
        [
         "female",
         "group E",
         "high school",
         "free/reduced",
         "completed",
         66,
         74,
         78
        ],
        [
         "male",
         "group B",
         "some college",
         "free/reduced",
         "none",
         60,
         60,
         60
        ],
        [
         "female",
         "group B",
         "associate's degree",
         "standard",
         "completed",
         61,
         86,
         87
        ],
        [
         "male",
         "group D",
         "associate's degree",
         "free/reduced",
         "none",
         66,
         62,
         64
        ],
        [
         "male",
         "group B",
         "associate's degree",
         "free/reduced",
         "completed",
         82,
         78,
         74
        ],
        [
         "female",
         "group E",
         "some college",
         "free/reduced",
         "completed",
         75,
         88,
         85
        ],
        [
         "male",
         "group B",
         "master's degree",
         "free/reduced",
         "none",
         49,
         53,
         52
        ],
        [
         "male",
         "group C",
         "high school",
         "standard",
         "none",
         52,
         53,
         49
        ],
        [
         "female",
         "group E",
         "master's degree",
         "standard",
         "none",
         81,
         92,
         91
        ],
        [
         "female",
         "group C",
         "bachelor's degree",
         "standard",
         "completed",
         96,
         100,
         100
        ],
        [
         "male",
         "group C",
         "high school",
         "free/reduced",
         "completed",
         53,
         51,
         51
        ],
        [
         "female",
         "group B",
         "master's degree",
         "free/reduced",
         "completed",
         58,
         76,
         78
        ],
        [
         "female",
         "group B",
         "high school",
         "standard",
         "completed",
         68,
         83,
         78
        ],
        [
         "female",
         "group C",
         "some college",
         "free/reduced",
         "completed",
         67,
         75,
         70
        ],
        [
         "male",
         "group A",
         "high school",
         "standard",
         "completed",
         72,
         73,
         74
        ],
        [
         "male",
         "group E",
         "some high school",
         "standard",
         "none",
         94,
         88,
         78
        ],
        [
         "female",
         "group D",
         "some college",
         "standard",
         "none",
         79,
         86,
         81
        ],
        [
         "female",
         "group C",
         "associate's degree",
         "standard",
         "none",
         63,
         67,
         70
        ],
        [
         "female",
         "group C",
         "bachelor's degree",
         "free/reduced",
         "completed",
         43,
         51,
         54
        ],
        [
         "female",
         "group C",
         "master's degree",
         "standard",
         "completed",
         81,
         91,
         87
        ],
        [
         "female",
         "group B",
         "high school",
         "free/reduced",
         "completed",
         46,
         54,
         58
        ],
        [
         "female",
         "group C",
         "associate's degree",
         "standard",
         "completed",
         71,
         77,
         77
        ],
        [
         "female",
         "group B",
         "master's degree",
         "free/reduced",
         "completed",
         52,
         70,
         62
        ],
        [
         "female",
         "group D",
         "some high school",
         "standard",
         "completed",
         97,
         100,
         100
        ],
        [
         "male",
         "group C",
         "master's degree",
         "free/reduced",
         "completed",
         62,
         68,
         75
        ],
        [
         "female",
         "group C",
         "some college",
         "free/reduced",
         "none",
         46,
         64,
         66
        ],
        [
         "female",
         "group E",
         "high school",
         "standard",
         "none",
         50,
         50,
         47
        ],
        [
         "female",
         "group D",
         "associate's degree",
         "standard",
         "none",
         65,
         69,
         70
        ],
        [
         "male",
         "group C",
         "some high school",
         "free/reduced",
         "completed",
         45,
         52,
         49
        ],
        [
         "male",
         "group C",
         "associate's degree",
         "free/reduced",
         "completed",
         65,
         67,
         65
        ],
        [
         "male",
         "group E",
         "high school",
         "standard",
         "none",
         80,
         76,
         65
        ],
        [
         "male",
         "group D",
         "some high school",
         "standard",
         "completed",
         62,
         66,
         68
        ],
        [
         "male",
         "group B",
         "some high school",
         "free/reduced",
         "none",
         48,
         52,
         45
        ],
        [
         "female",
         "group C",
         "bachelor's degree",
         "standard",
         "none",
         77,
         88,
         87
        ],
        [
         "female",
         "group E",
         "associate's degree",
         "standard",
         "none",
         66,
         65,
         69
        ],
        [
         "male",
         "group D",
         "some college",
         "standard",
         "completed",
         76,
         83,
         79
        ],
        [
         "female",
         "group B",
         "some high school",
         "standard",
         "none",
         62,
         64,
         66
        ],
        [
         "male",
         "group D",
         "some college",
         "standard",
         "completed",
         77,
         62,
         62
        ],
        [
         "female",
         "group C",
         "master's degree",
         "standard",
         "completed",
         69,
         84,
         85
        ],
        [
         "male",
         "group D",
         "associate's degree",
         "standard",
         "none",
         61,
         55,
         52
        ],
        [
         "male",
         "group C",
         "some high school",
         "free/reduced",
         "completed",
         59,
         69,
         65
        ],
        [
         "male",
         "group E",
         "high school",
         "free/reduced",
         "none",
         55,
         56,
         51
        ],
        [
         "female",
         "group B",
         "some college",
         "free/reduced",
         "none",
         45,
         53,
         55
        ],
        [
         "female",
         "group B",
         "bachelor's degree",
         "free/reduced",
         "none",
         78,
         79,
         76
        ],
        [
         "female",
         "group C",
         "associate's degree",
         "standard",
         "completed",
         67,
         84,
         86
        ],
        [
         "female",
         "group D",
         "some college",
         "free/reduced",
         "none",
         65,
         81,
         77
        ],
        [
         "male",
         "group C",
         "associate's degree",
         "standard",
         "none",
         69,
         77,
         69
        ],
        [
         "female",
         "group B",
         "associate's degree",
         "standard",
         "none",
         57,
         69,
         68
        ],
        [
         "male",
         "group C",
         "some college",
         "standard",
         "none",
         59,
         41,
         42
        ],
        [
         "male",
         "group D",
         "some high school",
         "standard",
         "completed",
         74,
         71,
         78
        ],
        [
         "male",
         "group E",
         "bachelor's degree",
         "standard",
         "none",
         82,
         62,
         62
        ],
        [
         "male",
         "group E",
         "high school",
         "standard",
         "completed",
         81,
         80,
         76
        ],
        [
         "female",
         "group B",
         "some college",
         "free/reduced",
         "none",
         74,
         81,
         76
        ],
        [
         "female",
         "group B",
         "some college",
         "free/reduced",
         "none",
         58,
         61,
         66
        ],
        [
         "male",
         "group D",
         "some high school",
         "free/reduced",
         "completed",
         80,
         79,
         79
        ],
        [
         "male",
         "group C",
         "some college",
         "free/reduced",
         "none",
         35,
         28,
         27
        ],
        [
         "female",
         "group C",
         "high school",
         "free/reduced",
         "none",
         42,
         62,
         60
        ],
        [
         "male",
         "group C",
         "associate's degree",
         "free/reduced",
         "completed",
         60,
         51,
         56
        ],
        [
         "male",
         "group E",
         "high school",
         "standard",
         "completed",
         87,
         91,
         81
        ],
        [
         "male",
         "group B",
         "some high school",
         "standard",
         "completed",
         84,
         83,
         75
        ],
        [
         "female",
         "group E",
         "associate's degree",
         "free/reduced",
         "completed",
         83,
         86,
         88
        ],
        [
         "female",
         "group C",
         "high school",
         "free/reduced",
         "none",
         34,
         42,
         39
        ],
        [
         "male",
         "group B",
         "high school",
         "free/reduced",
         "none",
         66,
         77,
         70
        ],
        [
         "male",
         "group B",
         "some high school",
         "standard",
         "completed",
         61,
         56,
         56
        ],
        [
         "female",
         "group D",
         "high school",
         "standard",
         "completed",
         56,
         68,
         74
        ],
        [
         "male",
         "group B",
         "associate's degree",
         "standard",
         "none",
         87,
         85,
         73
        ],
        [
         "female",
         "group C",
         "some high school",
         "free/reduced",
         "none",
         55,
         65,
         62
        ],
        [
         "male",
         "group D",
         "some high school",
         "standard",
         "none",
         86,
         80,
         75
        ],
        [
         "female",
         "group B",
         "associate's degree",
         "standard",
         "completed",
         52,
         66,
         73
        ],
        [
         "female",
         "group E",
         "master's degree",
         "free/reduced",
         "none",
         45,
         56,
         54
        ],
        [
         "female",
         "group C",
         "some college",
         "standard",
         "none",
         72,
         72,
         71
        ],
        [
         "male",
         "group D",
         "high school",
         "standard",
         "none",
         57,
         50,
         54
        ],
        [
         "male",
         "group A",
         "some high school",
         "free/reduced",
         "none",
         68,
         72,
         64
        ],
        [
         "female",
         "group C",
         "some college",
         "standard",
         "completed",
         88,
         95,
         94
        ],
        [
         "male",
         "group D",
         "some college",
         "standard",
         "none",
         76,
         64,
         66
        ],
        [
         "male",
         "group C",
         "associate's degree",
         "standard",
         "none",
         46,
         43,
         42
        ],
        [
         "female",
         "group B",
         "bachelor's degree",
         "standard",
         "none",
         67,
         86,
         83
        ],
        [
         "male",
         "group E",
         "some high school",
         "standard",
         "none",
         92,
         87,
         78
        ],
        [
         "male",
         "group C",
         "bachelor's degree",
         "standard",
         "completed",
         83,
         82,
         84
        ],
        [
         "male",
         "group D",
         "associate's degree",
         "standard",
         "none",
         80,
         75,
         77
        ],
        [
         "male",
         "group D",
         "bachelor's degree",
         "free/reduced",
         "none",
         63,
         66,
         67
        ],
        [
         "female",
         "group D",
         "some high school",
         "standard",
         "completed",
         64,
         60,
         74
        ],
        [
         "male",
         "group B",
         "some college",
         "standard",
         "none",
         54,
         52,
         51
        ],
        [
         "male",
         "group C",
         "associate's degree",
         "standard",
         "none",
         84,
         80,
         80
        ],
        [
         "male",
         "group D",
         "high school",
         "free/reduced",
         "completed",
         73,
         68,
         66
        ],
        [
         "female",
         "group E",
         "bachelor's degree",
         "standard",
         "none",
         80,
         83,
         83
        ],
        [
         "female",
         "group D",
         "high school",
         "standard",
         "none",
         56,
         52,
         55
        ],
        [
         "male",
         "group E",
         "some college",
         "standard",
         "none",
         59,
         51,
         43
        ],
        [
         "male",
         "group D",
         "some high school",
         "standard",
         "none",
         75,
         74,
         69
        ],
        [
         "male",
         "group C",
         "associate's degree",
         "standard",
         "none",
         85,
         76,
         71
        ],
        [
         "male",
         "group E",
         "associate's degree",
         "standard",
         "none",
         89,
         76,
         74
        ],
        [
         "female",
         "group B",
         "high school",
         "standard",
         "completed",
         58,
         70,
         68
        ],
        [
         "female",
         "group B",
         "high school",
         "standard",
         "none",
         65,
         64,
         62
        ],
        [
         "male",
         "group C",
         "high school",
         "standard",
         "none",
         68,
         60,
         53
        ],
        [
         "male",
         "group A",
         "some high school",
         "standard",
         "completed",
         47,
         49,
         49
        ],
        [
         "female",
         "group D",
         "some college",
         "free/reduced",
         "none",
         71,
         83,
         83
        ],
        [
         "female",
         "group B",
         "some high school",
         "standard",
         "completed",
         60,
         70,
         70
        ],
        [
         "male",
         "group D",
         "master's degree",
         "standard",
         "none",
         80,
         80,
         72
        ],
        [
         "male",
         "group D",
         "high school",
         "standard",
         "none",
         54,
         52,
         52
        ],
        [
         "female",
         "group E",
         "some college",
         "standard",
         "none",
         62,
         73,
         70
        ],
        [
         "female",
         "group C",
         "associate's degree",
         "free/reduced",
         "none",
         64,
         73,
         68
        ],
        [
         "male",
         "group C",
         "associate's degree",
         "standard",
         "completed",
         78,
         77,
         77
        ],
        [
         "female",
         "group B",
         "some college",
         "standard",
         "none",
         70,
         75,
         78
        ],
        [
         "female",
         "group C",
         "master's degree",
         "free/reduced",
         "completed",
         65,
         81,
         81
        ],
        [
         "female",
         "group C",
         "some high school",
         "free/reduced",
         "completed",
         64,
         79,
         77
        ],
        [
         "male",
         "group C",
         "some college",
         "standard",
         "completed",
         79,
         79,
         78
        ],
        [
         "female",
         "group C",
         "some high school",
         "free/reduced",
         "none",
         44,
         50,
         51
        ],
        [
         "female",
         "group E",
         "high school",
         "standard",
         "none",
         99,
         93,
         90
        ],
        [
         "male",
         "group D",
         "high school",
         "standard",
         "none",
         76,
         73,
         68
        ],
        [
         "male",
         "group D",
         "some high school",
         "free/reduced",
         "none",
         59,
         42,
         41
        ],
        [
         "female",
         "group C",
         "bachelor's degree",
         "standard",
         "none",
         63,
         75,
         81
        ],
        [
         "female",
         "group D",
         "high school",
         "standard",
         "none",
         69,
         72,
         77
        ],
        [
         "female",
         "group D",
         "associate's degree",
         "standard",
         "completed",
         88,
         92,
         95
        ],
        [
         "female",
         "group E",
         "some college",
         "free/reduced",
         "none",
         71,
         76,
         70
        ],
        [
         "male",
         "group C",
         "bachelor's degree",
         "standard",
         "none",
         69,
         63,
         61
        ],
        [
         "male",
         "group C",
         "some college",
         "standard",
         "none",
         58,
         49,
         42
        ],
        [
         "female",
         "group D",
         "associate's degree",
         "free/reduced",
         "none",
         47,
         53,
         58
        ],
        [
         "female",
         "group D",
         "some college",
         "standard",
         "none",
         65,
         70,
         71
        ],
        [
         "male",
         "group B",
         "some college",
         "standard",
         "completed",
         88,
         85,
         76
        ],
        [
         "male",
         "group C",
         "bachelor's degree",
         "standard",
         "none",
         83,
         78,
         73
        ],
        [
         "female",
         "group C",
         "some high school",
         "standard",
         "completed",
         85,
         92,
         93
        ],
        [
         "female",
         "group E",
         "high school",
         "standard",
         "completed",
         59,
         63,
         75
        ],
        [
         "female",
         "group C",
         "some high school",
         "free/reduced",
         "none",
         65,
         86,
         80
        ],
        [
         "male",
         "group B",
         "bachelor's degree",
         "free/reduced",
         "none",
         73,
         56,
         57
        ],
        [
         "male",
         "group D",
         "high school",
         "standard",
         "none",
         53,
         52,
         42
        ],
        [
         "male",
         "group D",
         "high school",
         "standard",
         "none",
         45,
         48,
         46
        ],
        [
         "female",
         "group D",
         "bachelor's degree",
         "free/reduced",
         "none",
         73,
         79,
         84
        ],
        [
         "female",
         "group D",
         "some college",
         "free/reduced",
         "completed",
         70,
         78,
         78
        ],
        [
         "female",
         "group B",
         "some high school",
         "standard",
         "none",
         37,
         46,
         46
        ],
        [
         "male",
         "group B",
         "associate's degree",
         "standard",
         "completed",
         81,
         82,
         82
        ],
        [
         "male",
         "group E",
         "associate's degree",
         "standard",
         "completed",
         97,
         82,
         88
        ],
        [
         "female",
         "group B",
         "some high school",
         "standard",
         "none",
         67,
         89,
         82
        ],
        [
         "male",
         "group B",
         "bachelor's degree",
         "free/reduced",
         "none",
         88,
         75,
         76
        ],
        [
         "male",
         "group E",
         "some high school",
         "standard",
         "completed",
         77,
         76,
         77
        ],
        [
         "male",
         "group C",
         "associate's degree",
         "standard",
         "none",
         76,
         70,
         68
        ],
        [
         "male",
         "group D",
         "some high school",
         "standard",
         "none",
         86,
         73,
         70
        ],
        [
         "male",
         "group C",
         "some high school",
         "standard",
         "completed",
         63,
         60,
         57
        ],
        [
         "female",
         "group E",
         "bachelor's degree",
         "standard",
         "none",
         65,
         73,
         75
        ],
        [
         "male",
         "group D",
         "high school",
         "free/reduced",
         "completed",
         78,
         77,
         80
        ],
        [
         "male",
         "group B",
         "associate's degree",
         "free/reduced",
         "none",
         67,
         62,
         60
        ],
        [
         "male",
         "group A",
         "some high school",
         "standard",
         "completed",
         46,
         41,
         43
        ],
        [
         "male",
         "group E",
         "associate's degree",
         "standard",
         "completed",
         71,
         74,
         68
        ],
        [
         "male",
         "group C",
         "high school",
         "free/reduced",
         "completed",
         40,
         46,
         50
        ],
        [
         "male",
         "group D",
         "associate's degree",
         "free/reduced",
         "none",
         90,
         87,
         75
        ],
        [
         "male",
         "group A",
         "some college",
         "free/reduced",
         "completed",
         81,
         78,
         81
        ],
        [
         "male",
         "group D",
         "some high school",
         "free/reduced",
         "none",
         56,
         54,
         52
        ],
        [
         "female",
         "group C",
         "associate's degree",
         "standard",
         "completed",
         67,
         84,
         81
        ],
        [
         "male",
         "group B",
         "associate's degree",
         "standard",
         "none",
         80,
         76,
         64
        ],
        [
         "female",
         "group C",
         "associate's degree",
         "standard",
         "completed",
         74,
         75,
         83
        ],
        [
         "male",
         "group A",
         "some college",
         "standard",
         "none",
         69,
         67,
         69
        ],
        [
         "male",
         "group E",
         "some college",
         "standard",
         "completed",
         99,
         87,
         81
        ],
        [
         "male",
         "group C",
         "some high school",
         "standard",
         "none",
         51,
         52,
         44
        ],
        [
         "female",
         "group B",
         "associate's degree",
         "free/reduced",
         "none",
         53,
         71,
         67
        ],
        [
         "female",
         "group D",
         "high school",
         "free/reduced",
         "none",
         49,
         57,
         52
        ],
        [
         "female",
         "group B",
         "associate's degree",
         "standard",
         "none",
         73,
         76,
         80
        ],
        [
         "male",
         "group B",
         "bachelor's degree",
         "standard",
         "none",
         66,
         60,
         57
        ],
        [
         "male",
         "group D",
         "bachelor's degree",
         "standard",
         "completed",
         67,
         61,
         68
        ],
        [
         "female",
         "group C",
         "associate's degree",
         "free/reduced",
         "completed",
         68,
         67,
         69
        ],
        [
         "female",
         "group C",
         "bachelor's degree",
         "standard",
         "completed",
         59,
         64,
         75
        ],
        [
         "male",
         "group C",
         "high school",
         "standard",
         "none",
         71,
         66,
         65
        ],
        [
         "female",
         "group D",
         "master's degree",
         "standard",
         "completed",
         77,
         82,
         91
        ],
        [
         "male",
         "group C",
         "associate's degree",
         "standard",
         "none",
         83,
         72,
         78
        ],
        [
         "male",
         "group B",
         "bachelor's degree",
         "standard",
         "none",
         63,
         71,
         69
        ],
        [
         "female",
         "group D",
         "associate's degree",
         "free/reduced",
         "none",
         56,
         65,
         63
        ],
        [
         "female",
         "group C",
         "high school",
         "free/reduced",
         "completed",
         67,
         79,
         84
        ],
        [
         "female",
         "group E",
         "high school",
         "standard",
         "none",
         75,
         86,
         79
        ],
        [
         "female",
         "group C",
         "some college",
         "standard",
         "none",
         71,
         81,
         80
        ],
        [
         "female",
         "group C",
         "some high school",
         "free/reduced",
         "none",
         43,
         53,
         53
        ],
        [
         "female",
         "group C",
         "high school",
         "free/reduced",
         "none",
         41,
         46,
         43
        ],
        [
         "female",
         "group C",
         "some college",
         "standard",
         "none",
         82,
         90,
         94
        ],
        [
         "male",
         "group C",
         "some college",
         "standard",
         "none",
         61,
         61,
         62
        ],
        [
         "male",
         "group A",
         "some college",
         "free/reduced",
         "none",
         28,
         23,
         19
        ],
        [
         "male",
         "group C",
         "associate's degree",
         "standard",
         "completed",
         82,
         75,
         77
        ],
        [
         "female",
         "group B",
         "some high school",
         "standard",
         "none",
         41,
         55,
         51
        ],
        [
         "male",
         "group C",
         "high school",
         "standard",
         "none",
         71,
         60,
         61
        ],
        [
         "male",
         "group C",
         "associate's degree",
         "standard",
         "none",
         47,
         37,
         35
        ],
        [
         "male",
         "group E",
         "associate's degree",
         "standard",
         "completed",
         62,
         56,
         53
        ],
        [
         "male",
         "group B",
         "associate's degree",
         "standard",
         "none",
         90,
         78,
         81
        ],
        [
         "female",
         "group C",
         "bachelor's degree",
         "standard",
         "none",
         83,
         93,
         95
        ],
        [
         "female",
         "group B",
         "some college",
         "free/reduced",
         "none",
         61,
         68,
         66
        ],
        [
         "male",
         "group D",
         "some high school",
         "standard",
         "completed",
         76,
         70,
         69
        ],
        [
         "male",
         "group C",
         "associate's degree",
         "standard",
         "none",
         49,
         51,
         43
        ],
        [
         "female",
         "group B",
         "some high school",
         "free/reduced",
         "none",
         24,
         38,
         27
        ],
        [
         "female",
         "group D",
         "some high school",
         "free/reduced",
         "completed",
         35,
         55,
         60
        ],
        [
         "male",
         "group C",
         "high school",
         "free/reduced",
         "none",
         58,
         61,
         52
        ],
        [
         "female",
         "group C",
         "high school",
         "standard",
         "none",
         61,
         73,
         63
        ],
        [
         "female",
         "group B",
         "high school",
         "standard",
         "completed",
         69,
         76,
         74
        ],
        [
         "male",
         "group D",
         "associate's degree",
         "standard",
         "completed",
         67,
         72,
         67
        ],
        [
         "male",
         "group D",
         "some college",
         "standard",
         "none",
         79,
         73,
         67
        ],
        [
         "female",
         "group C",
         "high school",
         "standard",
         "none",
         72,
         80,
         75
        ],
        [
         "male",
         "group B",
         "some college",
         "standard",
         "none",
         62,
         61,
         57
        ],
        [
         "female",
         "group C",
         "bachelor's degree",
         "standard",
         "completed",
         77,
         94,
         95
        ],
        [
         "male",
         "group D",
         "high school",
         "free/reduced",
         "none",
         75,
         74,
         66
        ],
        [
         "male",
         "group E",
         "associate's degree",
         "standard",
         "none",
         87,
         74,
         76
        ],
        [
         "female",
         "group B",
         "bachelor's degree",
         "standard",
         "none",
         52,
         65,
         69
        ],
        [
         "male",
         "group E",
         "some college",
         "standard",
         "none",
         66,
         57,
         52
        ],
        [
         "female",
         "group C",
         "some college",
         "standard",
         "completed",
         63,
         78,
         80
        ],
        [
         "female",
         "group C",
         "associate's degree",
         "standard",
         "none",
         46,
         58,
         57
        ],
        [
         "female",
         "group C",
         "some college",
         "standard",
         "none",
         59,
         71,
         70
        ],
        [
         "female",
         "group B",
         "bachelor's degree",
         "standard",
         "none",
         61,
         72,
         70
        ],
        [
         "male",
         "group A",
         "associate's degree",
         "standard",
         "none",
         63,
         61,
         61
        ],
        [
         "female",
         "group C",
         "some college",
         "free/reduced",
         "completed",
         42,
         66,
         69
        ],
        [
         "male",
         "group D",
         "some college",
         "free/reduced",
         "none",
         59,
         62,
         61
        ],
        [
         "female",
         "group D",
         "some college",
         "standard",
         "none",
         80,
         90,
         89
        ],
        [
         "female",
         "group B",
         "high school",
         "standard",
         "none",
         58,
         62,
         59
        ],
        [
         "male",
         "group B",
         "some high school",
         "standard",
         "completed",
         85,
         84,
         78
        ],
        [
         "female",
         "group C",
         "some college",
         "standard",
         "none",
         52,
         58,
         58
        ],
        [
         "female",
         "group D",
         "some high school",
         "free/reduced",
         "none",
         27,
         34,
         32
        ],
        [
         "male",
         "group C",
         "some college",
         "standard",
         "none",
         59,
         60,
         58
        ],
        [
         "male",
         "group A",
         "bachelor's degree",
         "free/reduced",
         "completed",
         49,
         58,
         60
        ],
        [
         "male",
         "group C",
         "high school",
         "standard",
         "completed",
         69,
         58,
         53
        ],
        [
         "male",
         "group C",
         "bachelor's degree",
         "free/reduced",
         "none",
         61,
         66,
         61
        ],
        [
         "female",
         "group A",
         "some high school",
         "free/reduced",
         "none",
         44,
         64,
         58
        ],
        [
         "female",
         "group D",
         "some high school",
         "standard",
         "none",
         73,
         84,
         85
        ],
        [
         "male",
         "group E",
         "some college",
         "standard",
         "none",
         84,
         77,
         71
        ],
        [
         "female",
         "group C",
         "some college",
         "free/reduced",
         "completed",
         45,
         73,
         70
        ],
        [
         "male",
         "group D",
         "some high school",
         "standard",
         "none",
         74,
         74,
         72
        ],
        [
         "female",
         "group D",
         "some college",
         "standard",
         "completed",
         82,
         97,
         96
        ],
        [
         "female",
         "group D",
         "bachelor's degree",
         "standard",
         "none",
         59,
         70,
         73
        ],
        [
         "male",
         "group E",
         "associate's degree",
         "free/reduced",
         "none",
         46,
         43,
         41
        ],
        [
         "female",
         "group D",
         "some high school",
         "standard",
         "none",
         80,
         90,
         82
        ],
        [
         "female",
         "group D",
         "master's degree",
         "free/reduced",
         "completed",
         85,
         95,
         100
        ],
        [
         "female",
         "group A",
         "some high school",
         "standard",
         "none",
         71,
         83,
         77
        ],
        [
         "male",
         "group A",
         "bachelor's degree",
         "standard",
         "none",
         66,
         64,
         62
        ],
        [
         "female",
         "group B",
         "associate's degree",
         "standard",
         "none",
         80,
         86,
         83
        ],
        [
         "male",
         "group C",
         "associate's degree",
         "standard",
         "completed",
         87,
         100,
         95
        ],
        [
         "male",
         "group C",
         "master's degree",
         "free/reduced",
         "none",
         79,
         81,
         71
        ],
        [
         "female",
         "group E",
         "some high school",
         "free/reduced",
         "none",
         38,
         49,
         45
        ],
        [
         "female",
         "group A",
         "some high school",
         "free/reduced",
         "none",
         38,
         43,
         43
        ],
        [
         "female",
         "group E",
         "some college",
         "standard",
         "none",
         67,
         76,
         75
        ],
        [
         "female",
         "group E",
         "bachelor's degree",
         "standard",
         "none",
         64,
         73,
         70
        ],
        [
         "female",
         "group C",
         "associate's degree",
         "free/reduced",
         "none",
         57,
         78,
         67
        ],
        [
         "female",
         "group D",
         "high school",
         "standard",
         "none",
         62,
         64,
         64
        ],
        [
         "male",
         "group D",
         "master's degree",
         "standard",
         "none",
         73,
         70,
         75
        ],
        [
         "male",
         "group E",
         "some high school",
         "free/reduced",
         "completed",
         73,
         67,
         59
        ],
        [
         "female",
         "group D",
         "some college",
         "standard",
         "none",
         77,
         68,
         77
        ],
        [
         "male",
         "group E",
         "some college",
         "standard",
         "none",
         76,
         67,
         67
        ],
        [
         "male",
         "group C",
         "associate's degree",
         "standard",
         "completed",
         57,
         54,
         56
        ],
        [
         "female",
         "group C",
         "some high school",
         "standard",
         "completed",
         65,
         74,
         77
        ],
        [
         "male",
         "group A",
         "high school",
         "free/reduced",
         "none",
         48,
         45,
         41
        ],
        [
         "female",
         "group B",
         "high school",
         "free/reduced",
         "none",
         50,
         67,
         63
        ],
        [
         "female",
         "group C",
         "associate's degree",
         "standard",
         "none",
         85,
         89,
         95
        ],
        [
         "male",
         "group B",
         "some high school",
         "standard",
         "none",
         74,
         63,
         57
        ],
        [
         "male",
         "group D",
         "some high school",
         "standard",
         "none",
         60,
         59,
         54
        ],
        [
         "female",
         "group C",
         "some high school",
         "standard",
         "completed",
         59,
         54,
         67
        ],
        [
         "male",
         "group A",
         "some college",
         "standard",
         "none",
         53,
         43,
         43
        ],
        [
         "female",
         "group A",
         "some college",
         "free/reduced",
         "none",
         49,
         65,
         55
        ],
        [
         "female",
         "group D",
         "high school",
         "standard",
         "completed",
         88,
         99,
         100
        ],
        [
         "female",
         "group C",
         "high school",
         "standard",
         "none",
         54,
         59,
         62
        ],
        [
         "female",
         "group C",
         "some high school",
         "standard",
         "none",
         63,
         73,
         68
        ],
        [
         "male",
         "group B",
         "associate's degree",
         "standard",
         "completed",
         65,
         65,
         63
        ],
        [
         "female",
         "group B",
         "associate's degree",
         "standard",
         "none",
         82,
         80,
         77
        ],
        [
         "female",
         "group D",
         "high school",
         "free/reduced",
         "completed",
         52,
         57,
         56
        ],
        [
         "male",
         "group D",
         "associate's degree",
         "standard",
         "completed",
         87,
         84,
         85
        ],
        [
         "female",
         "group D",
         "master's degree",
         "standard",
         "completed",
         70,
         71,
         74
        ],
        [
         "male",
         "group E",
         "some college",
         "standard",
         "completed",
         84,
         83,
         78
        ],
        [
         "male",
         "group D",
         "associate's degree",
         "standard",
         "none",
         71,
         66,
         60
        ],
        [
         "male",
         "group B",
         "some high school",
         "standard",
         "completed",
         63,
         67,
         67
        ],
        [
         "female",
         "group C",
         "bachelor's degree",
         "free/reduced",
         "completed",
         51,
         72,
         79
        ],
        [
         "male",
         "group E",
         "high school",
         "standard",
         "none",
         84,
         73,
         69
        ],
        [
         "male",
         "group C",
         "bachelor's degree",
         "standard",
         "completed",
         71,
         74,
         68
        ],
        [
         "male",
         "group C",
         "associate's degree",
         "standard",
         "none",
         74,
         73,
         67
        ],
        [
         "male",
         "group D",
         "some college",
         "standard",
         "none",
         68,
         59,
         62
        ],
        [
         "male",
         "group E",
         "high school",
         "free/reduced",
         "completed",
         57,
         56,
         54
        ],
        [
         "female",
         "group C",
         "associate's degree",
         "free/reduced",
         "completed",
         82,
         93,
         93
        ],
        [
         "female",
         "group D",
         "high school",
         "standard",
         "completed",
         57,
         58,
         64
        ],
        [
         "female",
         "group D",
         "master's degree",
         "free/reduced",
         "completed",
         47,
         58,
         67
        ],
        [
         "female",
         "group A",
         "some high school",
         "standard",
         "completed",
         59,
         85,
         80
        ],
        [
         "male",
         "group B",
         "some college",
         "free/reduced",
         "none",
         41,
         39,
         34
        ],
        [
         "female",
         "group C",
         "some college",
         "free/reduced",
         "none",
         62,
         67,
         62
        ],
        [
         "male",
         "group C",
         "bachelor's degree",
         "standard",
         "none",
         86,
         83,
         86
        ],
        [
         "male",
         "group C",
         "some high school",
         "free/reduced",
         "none",
         69,
         71,
         65
        ],
        [
         "male",
         "group A",
         "some high school",
         "free/reduced",
         "none",
         65,
         59,
         53
        ],
        [
         "male",
         "group C",
         "some high school",
         "free/reduced",
         "none",
         68,
         63,
         54
        ],
        [
         "male",
         "group C",
         "associate's degree",
         "free/reduced",
         "none",
         64,
         66,
         59
        ],
        [
         "female",
         "group C",
         "high school",
         "standard",
         "none",
         61,
         72,
         70
        ],
        [
         "male",
         "group C",
         "high school",
         "standard",
         "none",
         61,
         56,
         55
        ],
        [
         "female",
         "group A",
         "some high school",
         "free/reduced",
         "none",
         47,
         59,
         50
        ],
        [
         "male",
         "group C",
         "some high school",
         "standard",
         "none",
         73,
         66,
         66
        ],
        [
         "male",
         "group C",
         "some college",
         "free/reduced",
         "completed",
         50,
         48,
         53
        ],
        [
         "male",
         "group D",
         "associate's degree",
         "standard",
         "none",
         75,
         68,
         64
        ],
        [
         "male",
         "group D",
         "associate's degree",
         "free/reduced",
         "none",
         75,
         66,
         73
        ],
        [
         "male",
         "group C",
         "high school",
         "standard",
         "none",
         70,
         56,
         51
        ],
        [
         "male",
         "group D",
         "some high school",
         "standard",
         "completed",
         89,
         88,
         82
        ],
        [
         "female",
         "group C",
         "some college",
         "standard",
         "completed",
         67,
         81,
         79
        ],
        [
         "female",
         "group D",
         "high school",
         "standard",
         "none",
         78,
         81,
         80
        ],
        [
         "female",
         "group A",
         "some high school",
         "free/reduced",
         "none",
         59,
         73,
         69
        ],
        [
         "female",
         "group B",
         "associate's degree",
         "standard",
         "none",
         73,
         83,
         76
        ],
        [
         "male",
         "group A",
         "some high school",
         "free/reduced",
         "none",
         79,
         82,
         73
        ],
        [
         "female",
         "group C",
         "some high school",
         "standard",
         "completed",
         67,
         74,
         77
        ],
        [
         "male",
         "group D",
         "some college",
         "free/reduced",
         "none",
         69,
         66,
         60
        ],
        [
         "male",
         "group C",
         "high school",
         "standard",
         "completed",
         86,
         81,
         80
        ],
        [
         "male",
         "group B",
         "high school",
         "standard",
         "none",
         47,
         46,
         42
        ],
        [
         "male",
         "group B",
         "associate's degree",
         "standard",
         "none",
         81,
         73,
         72
        ],
        [
         "female",
         "group C",
         "some college",
         "free/reduced",
         "completed",
         64,
         85,
         85
        ],
        [
         "female",
         "group E",
         "some college",
         "standard",
         "none",
         100,
         92,
         97
        ],
        [
         "female",
         "group C",
         "associate's degree",
         "free/reduced",
         "none",
         65,
         77,
         74
        ],
        [
         "male",
         "group C",
         "some college",
         "free/reduced",
         "none",
         65,
         58,
         49
        ],
        [
         "female",
         "group C",
         "associate's degree",
         "free/reduced",
         "none",
         53,
         61,
         62
        ],
        [
         "male",
         "group C",
         "bachelor's degree",
         "free/reduced",
         "none",
         37,
         56,
         47
        ],
        [
         "female",
         "group D",
         "bachelor's degree",
         "standard",
         "none",
         79,
         89,
         89
        ],
        [
         "male",
         "group D",
         "associate's degree",
         "free/reduced",
         "none",
         53,
         54,
         48
        ],
        [
         "female",
         "group E",
         "bachelor's degree",
         "standard",
         "none",
         100,
         100,
         100
        ],
        [
         "male",
         "group B",
         "high school",
         "standard",
         "completed",
         72,
         65,
         68
        ],
        [
         "male",
         "group C",
         "bachelor's degree",
         "free/reduced",
         "none",
         53,
         58,
         55
        ],
        [
         "male",
         "group B",
         "some college",
         "free/reduced",
         "none",
         54,
         54,
         45
        ],
        [
         "female",
         "group E",
         "some college",
         "standard",
         "none",
         71,
         70,
         76
        ],
        [
         "female",
         "group C",
         "some college",
         "free/reduced",
         "none",
         77,
         90,
         91
        ],
        [
         "male",
         "group A",
         "bachelor's degree",
         "standard",
         "completed",
         75,
         58,
         62
        ],
        [
         "female",
         "group C",
         "some college",
         "standard",
         "none",
         84,
         87,
         91
        ],
        [
         "female",
         "group D",
         "associate's degree",
         "free/reduced",
         "none",
         26,
         31,
         38
        ],
        [
         "male",
         "group A",
         "high school",
         "free/reduced",
         "completed",
         72,
         67,
         65
        ],
        [
         "female",
         "group A",
         "high school",
         "free/reduced",
         "completed",
         77,
         88,
         85
        ],
        [
         "male",
         "group C",
         "some college",
         "standard",
         "none",
         91,
         74,
         76
        ],
        [
         "female",
         "group C",
         "associate's degree",
         "standard",
         "completed",
         83,
         85,
         90
        ],
        [
         "female",
         "group C",
         "high school",
         "standard",
         "none",
         63,
         69,
         74
        ],
        [
         "female",
         "group C",
         "associate's degree",
         "standard",
         "completed",
         68,
         86,
         84
        ],
        [
         "female",
         "group D",
         "some high school",
         "standard",
         "none",
         59,
         67,
         61
        ],
        [
         "female",
         "group B",
         "associate's degree",
         "standard",
         "completed",
         90,
         90,
         91
        ],
        [
         "female",
         "group D",
         "bachelor's degree",
         "standard",
         "completed",
         71,
         76,
         83
        ],
        [
         "male",
         "group E",
         "bachelor's degree",
         "standard",
         "completed",
         76,
         62,
         66
        ],
        [
         "male",
         "group D",
         "associate's degree",
         "standard",
         "none",
         80,
         68,
         72
        ],
        [
         "female",
         "group D",
         "master's degree",
         "standard",
         "none",
         55,
         64,
         70
        ],
        [
         "male",
         "group E",
         "associate's degree",
         "standard",
         "none",
         76,
         71,
         67
        ],
        [
         "male",
         "group B",
         "high school",
         "standard",
         "completed",
         73,
         71,
         68
        ],
        [
         "female",
         "group D",
         "associate's degree",
         "free/reduced",
         "none",
         52,
         59,
         56
        ],
        [
         "male",
         "group C",
         "some college",
         "free/reduced",
         "none",
         68,
         68,
         61
        ],
        [
         "male",
         "group A",
         "high school",
         "standard",
         "none",
         59,
         52,
         46
        ],
        [
         "female",
         "group B",
         "associate's degree",
         "standard",
         "none",
         49,
         52,
         54
        ],
        [
         "male",
         "group C",
         "high school",
         "standard",
         "none",
         70,
         74,
         71
        ],
        [
         "male",
         "group D",
         "some college",
         "free/reduced",
         "none",
         61,
         47,
         56
        ],
        [
         "female",
         "group C",
         "associate's degree",
         "free/reduced",
         "none",
         60,
         75,
         74
        ],
        [
         "male",
         "group B",
         "some high school",
         "standard",
         "completed",
         64,
         53,
         57
        ],
        [
         "male",
         "group A",
         "associate's degree",
         "free/reduced",
         "completed",
         79,
         82,
         82
        ],
        [
         "female",
         "group A",
         "associate's degree",
         "free/reduced",
         "none",
         65,
         85,
         76
        ],
        [
         "female",
         "group C",
         "associate's degree",
         "standard",
         "none",
         64,
         64,
         70
        ],
        [
         "female",
         "group C",
         "some college",
         "standard",
         "none",
         83,
         83,
         90
        ],
        [
         "female",
         "group C",
         "bachelor's degree",
         "standard",
         "none",
         81,
         88,
         90
        ],
        [
         "female",
         "group B",
         "high school",
         "standard",
         "none",
         54,
         64,
         68
        ],
        [
         "male",
         "group D",
         "high school",
         "standard",
         "completed",
         68,
         64,
         66
        ],
        [
         "female",
         "group C",
         "some college",
         "standard",
         "none",
         54,
         48,
         52
        ],
        [
         "female",
         "group D",
         "some college",
         "free/reduced",
         "completed",
         59,
         78,
         76
        ],
        [
         "female",
         "group B",
         "some high school",
         "standard",
         "none",
         66,
         69,
         68
        ],
        [
         "male",
         "group E",
         "some college",
         "standard",
         "none",
         76,
         71,
         72
        ],
        [
         "female",
         "group D",
         "master's degree",
         "standard",
         "none",
         74,
         79,
         82
        ],
        [
         "female",
         "group B",
         "associate's degree",
         "standard",
         "completed",
         94,
         87,
         92
        ],
        [
         "male",
         "group C",
         "some college",
         "free/reduced",
         "none",
         63,
         61,
         54
        ],
        [
         "female",
         "group E",
         "associate's degree",
         "standard",
         "completed",
         95,
         89,
         92
        ],
        [
         "female",
         "group D",
         "master's degree",
         "free/reduced",
         "none",
         40,
         59,
         54
        ],
        [
         "female",
         "group B",
         "some high school",
         "standard",
         "none",
         82,
         82,
         80
        ],
        [
         "male",
         "group A",
         "high school",
         "standard",
         "none",
         68,
         70,
         66
        ],
        [
         "male",
         "group B",
         "bachelor's degree",
         "free/reduced",
         "none",
         55,
         59,
         54
        ],
        [
         "male",
         "group C",
         "master's degree",
         "standard",
         "none",
         79,
         78,
         77
        ],
        [
         "female",
         "group C",
         "bachelor's degree",
         "standard",
         "none",
         86,
         92,
         87
        ],
        [
         "male",
         "group D",
         "some college",
         "standard",
         "none",
         76,
         71,
         73
        ],
        [
         "male",
         "group A",
         "some high school",
         "standard",
         "none",
         64,
         50,
         43
        ],
        [
         "male",
         "group D",
         "some high school",
         "free/reduced",
         "none",
         62,
         49,
         52
        ],
        [
         "female",
         "group B",
         "some high school",
         "standard",
         "completed",
         54,
         61,
         62
        ],
        [
         "female",
         "group B",
         "master's degree",
         "free/reduced",
         "completed",
         77,
         97,
         94
        ],
        [
         "female",
         "group C",
         "some high school",
         "standard",
         "completed",
         76,
         87,
         85
        ],
        [
         "female",
         "group D",
         "some college",
         "standard",
         "none",
         74,
         89,
         84
        ],
        [
         "female",
         "group E",
         "some college",
         "standard",
         "completed",
         66,
         74,
         73
        ],
        [
         "female",
         "group D",
         "some high school",
         "standard",
         "completed",
         66,
         78,
         78
        ],
        [
         "female",
         "group B",
         "high school",
         "free/reduced",
         "completed",
         67,
         78,
         79
        ],
        [
         "male",
         "group D",
         "some college",
         "standard",
         "none",
         71,
         49,
         52
        ],
        [
         "female",
         "group C",
         "associate's degree",
         "standard",
         "none",
         91,
         86,
         84
        ],
        [
         "male",
         "group D",
         "bachelor's degree",
         "standard",
         "none",
         69,
         58,
         57
        ],
        [
         "male",
         "group C",
         "master's degree",
         "free/reduced",
         "none",
         54,
         59,
         50
        ],
        [
         "male",
         "group C",
         "high school",
         "standard",
         "completed",
         53,
         52,
         49
        ],
        [
         "male",
         "group E",
         "some college",
         "standard",
         "none",
         68,
         60,
         59
        ],
        [
         "male",
         "group C",
         "some high school",
         "free/reduced",
         "completed",
         56,
         61,
         60
        ],
        [
         "female",
         "group C",
         "high school",
         "free/reduced",
         "none",
         36,
         53,
         43
        ],
        [
         "female",
         "group D",
         "bachelor's degree",
         "free/reduced",
         "none",
         29,
         41,
         47
        ],
        [
         "female",
         "group C",
         "associate's degree",
         "standard",
         "none",
         62,
         74,
         70
        ],
        [
         "female",
         "group C",
         "associate's degree",
         "standard",
         "completed",
         68,
         67,
         73
        ],
        [
         "female",
         "group C",
         "some high school",
         "standard",
         "none",
         47,
         54,
         53
        ],
        [
         "male",
         "group E",
         "associate's degree",
         "standard",
         "completed",
         62,
         61,
         58
        ],
        [
         "female",
         "group E",
         "associate's degree",
         "standard",
         "completed",
         79,
         88,
         94
        ],
        [
         "male",
         "group B",
         "high school",
         "standard",
         "completed",
         73,
         69,
         68
        ],
        [
         "female",
         "group C",
         "bachelor's degree",
         "free/reduced",
         "completed",
         66,
         83,
         83
        ],
        [
         "male",
         "group C",
         "associate's degree",
         "standard",
         "completed",
         51,
         60,
         58
        ],
        [
         "female",
         "group D",
         "high school",
         "standard",
         "none",
         51,
         66,
         62
        ],
        [
         "male",
         "group E",
         "bachelor's degree",
         "standard",
         "completed",
         85,
         66,
         71
        ],
        [
         "male",
         "group A",
         "associate's degree",
         "standard",
         "completed",
         97,
         92,
         86
        ],
        [
         "male",
         "group C",
         "high school",
         "standard",
         "completed",
         75,
         69,
         68
        ],
        [
         "male",
         "group D",
         "associate's degree",
         "free/reduced",
         "completed",
         79,
         82,
         80
        ],
        [
         "female",
         "group C",
         "associate's degree",
         "standard",
         "none",
         81,
         77,
         79
        ],
        [
         "female",
         "group D",
         "associate's degree",
         "standard",
         "none",
         82,
         95,
         89
        ],
        [
         "female",
         "group D",
         "master's degree",
         "standard",
         "none",
         64,
         63,
         66
        ],
        [
         "male",
         "group E",
         "some high school",
         "free/reduced",
         "completed",
         78,
         83,
         80
        ],
        [
         "female",
         "group A",
         "some high school",
         "standard",
         "completed",
         92,
         100,
         97
        ],
        [
         "male",
         "group C",
         "high school",
         "standard",
         "completed",
         72,
         67,
         64
        ],
        [
         "female",
         "group C",
         "high school",
         "free/reduced",
         "none",
         62,
         67,
         64
        ],
        [
         "male",
         "group C",
         "master's degree",
         "standard",
         "none",
         79,
         72,
         69
        ],
        [
         "male",
         "group C",
         "some high school",
         "free/reduced",
         "none",
         79,
         76,
         65
        ],
        [
         "male",
         "group B",
         "bachelor's degree",
         "free/reduced",
         "completed",
         87,
         90,
         88
        ],
        [
         "female",
         "group B",
         "associate's degree",
         "standard",
         "none",
         40,
         48,
         50
        ],
        [
         "male",
         "group D",
         "some college",
         "free/reduced",
         "none",
         77,
         62,
         64
        ],
        [
         "male",
         "group E",
         "associate's degree",
         "standard",
         "none",
         53,
         45,
         40
        ],
        [
         "female",
         "group C",
         "some college",
         "free/reduced",
         "none",
         32,
         39,
         33
        ],
        [
         "female",
         "group C",
         "associate's degree",
         "standard",
         "completed",
         55,
         72,
         79
        ],
        [
         "male",
         "group C",
         "master's degree",
         "free/reduced",
         "none",
         61,
         67,
         66
        ],
        [
         "female",
         "group B",
         "associate's degree",
         "free/reduced",
         "none",
         53,
         70,
         70
        ],
        [
         "male",
         "group D",
         "some high school",
         "standard",
         "none",
         73,
         66,
         62
        ],
        [
         "female",
         "group D",
         "some college",
         "standard",
         "completed",
         74,
         75,
         79
        ],
        [
         "female",
         "group C",
         "some college",
         "standard",
         "none",
         63,
         74,
         74
        ],
        [
         "male",
         "group C",
         "bachelor's degree",
         "standard",
         "completed",
         96,
         90,
         92
        ],
        [
         "female",
         "group D",
         "some college",
         "free/reduced",
         "completed",
         63,
         80,
         80
        ],
        [
         "male",
         "group B",
         "bachelor's degree",
         "free/reduced",
         "none",
         48,
         51,
         46
        ],
        [
         "male",
         "group B",
         "associate's degree",
         "standard",
         "none",
         48,
         43,
         45
        ],
        [
         "female",
         "group E",
         "bachelor's degree",
         "free/reduced",
         "completed",
         92,
         100,
         100
        ],
        [
         "female",
         "group D",
         "master's degree",
         "free/reduced",
         "completed",
         61,
         71,
         78
        ],
        [
         "male",
         "group B",
         "high school",
         "free/reduced",
         "none",
         63,
         48,
         47
        ],
        [
         "male",
         "group D",
         "bachelor's degree",
         "free/reduced",
         "none",
         68,
         68,
         67
        ],
        [
         "male",
         "group B",
         "some college",
         "standard",
         "completed",
         71,
         75,
         70
        ],
        [
         "male",
         "group A",
         "bachelor's degree",
         "standard",
         "none",
         91,
         96,
         92
        ],
        [
         "female",
         "group C",
         "some college",
         "standard",
         "none",
         53,
         62,
         56
        ],
        [
         "female",
         "group C",
         "high school",
         "free/reduced",
         "completed",
         50,
         66,
         64
        ],
        [
         "female",
         "group E",
         "high school",
         "standard",
         "none",
         74,
         81,
         71
        ],
        [
         "male",
         "group A",
         "associate's degree",
         "free/reduced",
         "completed",
         40,
         55,
         53
        ],
        [
         "male",
         "group A",
         "some college",
         "standard",
         "completed",
         61,
         51,
         52
        ],
        [
         "female",
         "group B",
         "high school",
         "standard",
         "none",
         81,
         91,
         89
        ],
        [
         "female",
         "group B",
         "some college",
         "free/reduced",
         "completed",
         48,
         56,
         58
        ],
        [
         "female",
         "group D",
         "master's degree",
         "standard",
         "none",
         53,
         61,
         68
        ],
        [
         "female",
         "group D",
         "some high school",
         "standard",
         "none",
         81,
         97,
         96
        ],
        [
         "female",
         "group E",
         "some high school",
         "standard",
         "none",
         77,
         79,
         80
        ],
        [
         "female",
         "group D",
         "bachelor's degree",
         "free/reduced",
         "none",
         63,
         73,
         78
        ],
        [
         "female",
         "group D",
         "associate's degree",
         "standard",
         "completed",
         73,
         75,
         80
        ],
        [
         "female",
         "group D",
         "some college",
         "standard",
         "none",
         69,
         77,
         77
        ],
        [
         "female",
         "group C",
         "associate's degree",
         "standard",
         "none",
         65,
         76,
         76
        ],
        [
         "female",
         "group A",
         "high school",
         "standard",
         "none",
         55,
         73,
         73
        ],
        [
         "female",
         "group C",
         "bachelor's degree",
         "free/reduced",
         "none",
         44,
         63,
         62
        ],
        [
         "female",
         "group C",
         "some college",
         "standard",
         "none",
         54,
         64,
         65
        ],
        [
         "female",
         "group A",
         "some high school",
         "standard",
         "none",
         48,
         66,
         65
        ],
        [
         "male",
         "group C",
         "some college",
         "free/reduced",
         "none",
         58,
         57,
         54
        ],
        [
         "male",
         "group A",
         "some high school",
         "standard",
         "none",
         71,
         62,
         50
        ],
        [
         "male",
         "group E",
         "bachelor's degree",
         "standard",
         "none",
         68,
         68,
         64
        ],
        [
         "female",
         "group E",
         "high school",
         "standard",
         "none",
         74,
         76,
         73
        ],
        [
         "female",
         "group C",
         "bachelor's degree",
         "standard",
         "completed",
         92,
         100,
         99
        ],
        [
         "female",
         "group C",
         "bachelor's degree",
         "standard",
         "completed",
         56,
         79,
         72
        ],
        [
         "male",
         "group B",
         "high school",
         "free/reduced",
         "none",
         30,
         24,
         15
        ],
        [
         "male",
         "group A",
         "some high school",
         "standard",
         "none",
         53,
         54,
         48
        ],
        [
         "female",
         "group D",
         "high school",
         "standard",
         "none",
         69,
         77,
         73
        ],
        [
         "female",
         "group D",
         "some high school",
         "standard",
         "none",
         65,
         82,
         81
        ],
        [
         "female",
         "group D",
         "master's degree",
         "standard",
         "none",
         54,
         60,
         63
        ],
        [
         "female",
         "group C",
         "high school",
         "standard",
         "none",
         29,
         29,
         30
        ],
        [
         "female",
         "group E",
         "some college",
         "standard",
         "none",
         76,
         78,
         80
        ],
        [
         "male",
         "group D",
         "high school",
         "free/reduced",
         "none",
         60,
         57,
         51
        ],
        [
         "male",
         "group D",
         "master's degree",
         "free/reduced",
         "completed",
         84,
         89,
         90
        ],
        [
         "male",
         "group C",
         "some high school",
         "standard",
         "none",
         75,
         72,
         62
        ],
        [
         "female",
         "group C",
         "associate's degree",
         "standard",
         "none",
         85,
         84,
         82
        ],
        [
         "female",
         "group C",
         "master's degree",
         "free/reduced",
         "none",
         40,
         58,
         54
        ],
        [
         "female",
         "group E",
         "some college",
         "standard",
         "none",
         61,
         64,
         62
        ],
        [
         "female",
         "group B",
         "associate's degree",
         "standard",
         "none",
         58,
         63,
         65
        ],
        [
         "male",
         "group D",
         "some college",
         "free/reduced",
         "completed",
         69,
         60,
         63
        ],
        [
         "female",
         "group C",
         "some college",
         "standard",
         "none",
         58,
         59,
         66
        ],
        [
         "male",
         "group C",
         "bachelor's degree",
         "standard",
         "completed",
         94,
         90,
         91
        ],
        [
         "female",
         "group C",
         "associate's degree",
         "standard",
         "none",
         65,
         77,
         74
        ],
        [
         "female",
         "group A",
         "associate's degree",
         "standard",
         "none",
         82,
         93,
         93
        ],
        [
         "female",
         "group C",
         "high school",
         "standard",
         "none",
         60,
         68,
         72
        ],
        [
         "female",
         "group E",
         "bachelor's degree",
         "standard",
         "none",
         37,
         45,
         38
        ],
        [
         "male",
         "group D",
         "bachelor's degree",
         "standard",
         "none",
         88,
         78,
         83
        ],
        [
         "male",
         "group D",
         "master's degree",
         "standard",
         "none",
         95,
         81,
         84
        ],
        [
         "male",
         "group C",
         "associate's degree",
         "free/reduced",
         "completed",
         65,
         73,
         68
        ],
        [
         "female",
         "group C",
         "high school",
         "free/reduced",
         "none",
         35,
         61,
         54
        ],
        [
         "male",
         "group B",
         "bachelor's degree",
         "free/reduced",
         "none",
         62,
         63,
         56
        ],
        [
         "male",
         "group C",
         "high school",
         "free/reduced",
         "completed",
         58,
         51,
         52
        ],
        [
         "male",
         "group A",
         "some college",
         "standard",
         "completed",
         100,
         96,
         86
        ],
        [
         "female",
         "group E",
         "bachelor's degree",
         "free/reduced",
         "none",
         61,
         58,
         62
        ],
        [
         "male",
         "group D",
         "some college",
         "standard",
         "completed",
         100,
         97,
         99
        ],
        [
         "male",
         "group B",
         "associate's degree",
         "free/reduced",
         "completed",
         69,
         70,
         63
        ],
        [
         "male",
         "group D",
         "associate's degree",
         "standard",
         "none",
         61,
         48,
         46
        ],
        [
         "male",
         "group D",
         "some college",
         "free/reduced",
         "none",
         49,
         57,
         46
        ],
        [
         "female",
         "group C",
         "some high school",
         "standard",
         "completed",
         44,
         51,
         55
        ],
        [
         "male",
         "group D",
         "some college",
         "standard",
         "none",
         67,
         64,
         70
        ],
        [
         "male",
         "group B",
         "high school",
         "standard",
         "none",
         79,
         60,
         65
        ],
        [
         "female",
         "group B",
         "bachelor's degree",
         "standard",
         "completed",
         66,
         74,
         81
        ],
        [
         "female",
         "group C",
         "high school",
         "standard",
         "none",
         75,
         88,
         85
        ],
        [
         "male",
         "group D",
         "some high school",
         "standard",
         "none",
         84,
         84,
         80
        ],
        [
         "male",
         "group A",
         "high school",
         "standard",
         "none",
         71,
         74,
         64
        ],
        [
         "female",
         "group B",
         "high school",
         "free/reduced",
         "completed",
         67,
         80,
         81
        ],
        [
         "female",
         "group D",
         "some high school",
         "standard",
         "completed",
         80,
         92,
         88
        ],
        [
         "male",
         "group E",
         "some college",
         "standard",
         "none",
         86,
         76,
         74
        ],
        [
         "female",
         "group D",
         "associate's degree",
         "standard",
         "none",
         76,
         74,
         73
        ],
        [
         "male",
         "group D",
         "high school",
         "standard",
         "none",
         41,
         52,
         51
        ],
        [
         "female",
         "group D",
         "associate's degree",
         "free/reduced",
         "completed",
         74,
         88,
         90
        ],
        [
         "female",
         "group B",
         "some high school",
         "free/reduced",
         "none",
         72,
         81,
         79
        ],
        [
         "female",
         "group E",
         "high school",
         "standard",
         "completed",
         74,
         79,
         80
        ],
        [
         "male",
         "group B",
         "high school",
         "standard",
         "none",
         70,
         65,
         60
        ],
        [
         "female",
         "group B",
         "bachelor's degree",
         "standard",
         "completed",
         65,
         81,
         81
        ],
        [
         "female",
         "group D",
         "associate's degree",
         "standard",
         "none",
         59,
         70,
         65
        ],
        [
         "female",
         "group E",
         "high school",
         "free/reduced",
         "none",
         64,
         62,
         68
        ],
        [
         "female",
         "group B",
         "high school",
         "standard",
         "none",
         50,
         53,
         55
        ],
        [
         "female",
         "group D",
         "some college",
         "standard",
         "completed",
         69,
         79,
         81
        ],
        [
         "male",
         "group C",
         "some high school",
         "free/reduced",
         "completed",
         51,
         56,
         53
        ],
        [
         "female",
         "group A",
         "high school",
         "standard",
         "completed",
         68,
         80,
         76
        ],
        [
         "female",
         "group D",
         "some college",
         "standard",
         "completed",
         85,
         86,
         98
        ],
        [
         "female",
         "group A",
         "associate's degree",
         "standard",
         "completed",
         65,
         70,
         74
        ],
        [
         "female",
         "group B",
         "some high school",
         "standard",
         "none",
         73,
         79,
         79
        ],
        [
         "female",
         "group B",
         "some college",
         "standard",
         "none",
         62,
         67,
         67
        ],
        [
         "male",
         "group C",
         "associate's degree",
         "free/reduced",
         "none",
         77,
         67,
         64
        ],
        [
         "male",
         "group D",
         "some high school",
         "standard",
         "none",
         69,
         66,
         61
        ],
        [
         "female",
         "group D",
         "associate's degree",
         "free/reduced",
         "none",
         43,
         60,
         58
        ],
        [
         "male",
         "group D",
         "associate's degree",
         "standard",
         "none",
         90,
         87,
         85
        ],
        [
         "male",
         "group C",
         "some college",
         "free/reduced",
         "none",
         74,
         77,
         73
        ],
        [
         "male",
         "group C",
         "some high school",
         "standard",
         "none",
         73,
         66,
         63
        ],
        [
         "female",
         "group D",
         "some college",
         "free/reduced",
         "none",
         55,
         71,
         69
        ],
        [
         "female",
         "group C",
         "high school",
         "standard",
         "none",
         65,
         69,
         67
        ],
        [
         "male",
         "group D",
         "associate's degree",
         "standard",
         "none",
         80,
         63,
         63
        ],
        [
         "female",
         "group C",
         "some high school",
         "free/reduced",
         "completed",
         50,
         60,
         60
        ],
        [
         "female",
         "group C",
         "some college",
         "free/reduced",
         "completed",
         63,
         73,
         71
        ],
        [
         "female",
         "group B",
         "bachelor's degree",
         "free/reduced",
         "none",
         77,
         85,
         87
        ],
        [
         "male",
         "group C",
         "some college",
         "standard",
         "none",
         73,
         74,
         61
        ],
        [
         "male",
         "group D",
         "associate's degree",
         "standard",
         "completed",
         81,
         72,
         77
        ],
        [
         "female",
         "group C",
         "high school",
         "free/reduced",
         "none",
         66,
         76,
         68
        ],
        [
         "male",
         "group D",
         "associate's degree",
         "free/reduced",
         "none",
         52,
         57,
         50
        ],
        [
         "female",
         "group C",
         "some college",
         "standard",
         "none",
         69,
         78,
         76
        ],
        [
         "female",
         "group C",
         "associate's degree",
         "standard",
         "completed",
         65,
         84,
         84
        ],
        [
         "female",
         "group D",
         "high school",
         "standard",
         "completed",
         69,
         77,
         78
        ],
        [
         "female",
         "group B",
         "some college",
         "standard",
         "completed",
         50,
         64,
         66
        ],
        [
         "female",
         "group E",
         "some college",
         "standard",
         "completed",
         73,
         78,
         76
        ],
        [
         "female",
         "group C",
         "some high school",
         "standard",
         "completed",
         70,
         82,
         76
        ],
        [
         "male",
         "group D",
         "associate's degree",
         "free/reduced",
         "none",
         81,
         75,
         78
        ],
        [
         "male",
         "group D",
         "some college",
         "free/reduced",
         "none",
         63,
         61,
         60
        ],
        [
         "female",
         "group D",
         "high school",
         "standard",
         "none",
         67,
         72,
         74
        ],
        [
         "male",
         "group B",
         "high school",
         "standard",
         "none",
         60,
         68,
         60
        ],
        [
         "male",
         "group B",
         "high school",
         "standard",
         "none",
         62,
         55,
         54
        ],
        [
         "female",
         "group C",
         "some high school",
         "free/reduced",
         "completed",
         29,
         40,
         44
        ],
        [
         "male",
         "group B",
         "some college",
         "standard",
         "completed",
         62,
         66,
         68
        ],
        [
         "female",
         "group E",
         "master's degree",
         "standard",
         "completed",
         94,
         99,
         100
        ],
        [
         "male",
         "group E",
         "some college",
         "standard",
         "completed",
         85,
         75,
         68
        ],
        [
         "male",
         "group D",
         "associate's degree",
         "free/reduced",
         "none",
         77,
         78,
         73
        ],
        [
         "male",
         "group A",
         "high school",
         "free/reduced",
         "none",
         53,
         58,
         44
        ],
        [
         "male",
         "group E",
         "some college",
         "free/reduced",
         "none",
         93,
         90,
         83
        ],
        [
         "female",
         "group C",
         "associate's degree",
         "standard",
         "none",
         49,
         53,
         53
        ],
        [
         "female",
         "group E",
         "associate's degree",
         "free/reduced",
         "none",
         73,
         76,
         78
        ],
        [
         "female",
         "group C",
         "bachelor's degree",
         "free/reduced",
         "completed",
         66,
         74,
         81
        ],
        [
         "female",
         "group D",
         "associate's degree",
         "standard",
         "none",
         77,
         77,
         73
        ],
        [
         "female",
         "group C",
         "some high school",
         "standard",
         "none",
         49,
         63,
         56
        ],
        [
         "female",
         "group D",
         "some college",
         "free/reduced",
         "none",
         79,
         89,
         86
        ],
        [
         "female",
         "group C",
         "associate's degree",
         "standard",
         "completed",
         75,
         82,
         90
        ],
        [
         "female",
         "group A",
         "bachelor's degree",
         "standard",
         "none",
         59,
         72,
         70
        ],
        [
         "female",
         "group D",
         "associate's degree",
         "standard",
         "completed",
         57,
         78,
         79
        ],
        [
         "male",
         "group C",
         "high school",
         "free/reduced",
         "none",
         66,
         66,
         59
        ],
        [
         "female",
         "group E",
         "bachelor's degree",
         "standard",
         "completed",
         79,
         81,
         82
        ],
        [
         "female",
         "group B",
         "some high school",
         "standard",
         "none",
         57,
         67,
         72
        ],
        [
         "male",
         "group A",
         "bachelor's degree",
         "standard",
         "completed",
         87,
         84,
         87
        ],
        [
         "female",
         "group D",
         "some college",
         "standard",
         "none",
         63,
         64,
         67
        ],
        [
         "female",
         "group B",
         "some high school",
         "free/reduced",
         "completed",
         59,
         63,
         64
        ],
        [
         "male",
         "group A",
         "bachelor's degree",
         "free/reduced",
         "none",
         62,
         72,
         65
        ],
        [
         "male",
         "group D",
         "high school",
         "standard",
         "none",
         46,
         34,
         36
        ],
        [
         "male",
         "group C",
         "some college",
         "standard",
         "none",
         66,
         59,
         52
        ],
        [
         "male",
         "group D",
         "high school",
         "standard",
         "none",
         89,
         87,
         79
        ],
        [
         "female",
         "group D",
         "associate's degree",
         "free/reduced",
         "completed",
         42,
         61,
         58
        ],
        [
         "male",
         "group C",
         "some college",
         "standard",
         "completed",
         93,
         84,
         90
        ],
        [
         "female",
         "group E",
         "some high school",
         "standard",
         "completed",
         80,
         85,
         85
        ],
        [
         "female",
         "group D",
         "some college",
         "standard",
         "none",
         98,
         100,
         99
        ],
        [
         "male",
         "group D",
         "master's degree",
         "standard",
         "none",
         81,
         81,
         84
        ],
        [
         "female",
         "group B",
         "some high school",
         "standard",
         "completed",
         60,
         70,
         74
        ],
        [
         "female",
         "group B",
         "associate's degree",
         "free/reduced",
         "completed",
         76,
         94,
         87
        ],
        [
         "male",
         "group C",
         "associate's degree",
         "standard",
         "completed",
         73,
         78,
         72
        ],
        [
         "female",
         "group C",
         "associate's degree",
         "standard",
         "completed",
         96,
         96,
         99
        ],
        [
         "female",
         "group C",
         "high school",
         "standard",
         "none",
         76,
         76,
         74
        ],
        [
         "male",
         "group E",
         "associate's degree",
         "free/reduced",
         "completed",
         91,
         73,
         80
        ],
        [
         "female",
         "group C",
         "some college",
         "free/reduced",
         "none",
         62,
         72,
         70
        ],
        [
         "male",
         "group D",
         "some high school",
         "free/reduced",
         "completed",
         55,
         59,
         59
        ],
        [
         "female",
         "group B",
         "some high school",
         "free/reduced",
         "completed",
         74,
         90,
         88
        ],
        [
         "male",
         "group C",
         "high school",
         "standard",
         "none",
         50,
         48,
         42
        ],
        [
         "male",
         "group B",
         "some college",
         "standard",
         "none",
         47,
         43,
         41
        ],
        [
         "male",
         "group E",
         "some college",
         "standard",
         "completed",
         81,
         74,
         71
        ],
        [
         "female",
         "group E",
         "associate's degree",
         "standard",
         "completed",
         65,
         75,
         77
        ],
        [
         "male",
         "group E",
         "some high school",
         "standard",
         "completed",
         68,
         51,
         57
        ],
        [
         "female",
         "group D",
         "high school",
         "free/reduced",
         "none",
         73,
         92,
         84
        ],
        [
         "male",
         "group C",
         "some college",
         "standard",
         "none",
         53,
         39,
         37
        ],
        [
         "female",
         "group B",
         "associate's degree",
         "free/reduced",
         "completed",
         68,
         77,
         80
        ],
        [
         "male",
         "group A",
         "some high school",
         "free/reduced",
         "none",
         55,
         46,
         43
        ],
        [
         "female",
         "group C",
         "some college",
         "standard",
         "completed",
         87,
         89,
         94
        ],
        [
         "male",
         "group D",
         "some high school",
         "standard",
         "none",
         55,
         47,
         44
        ],
        [
         "female",
         "group E",
         "some college",
         "free/reduced",
         "none",
         53,
         58,
         57
        ],
        [
         "male",
         "group C",
         "master's degree",
         "standard",
         "none",
         67,
         57,
         59
        ],
        [
         "male",
         "group C",
         "associate's degree",
         "standard",
         "none",
         92,
         79,
         84
        ],
        [
         "female",
         "group B",
         "some college",
         "free/reduced",
         "completed",
         53,
         66,
         73
        ],
        [
         "male",
         "group D",
         "associate's degree",
         "standard",
         "none",
         81,
         71,
         73
        ],
        [
         "male",
         "group C",
         "high school",
         "free/reduced",
         "none",
         61,
         60,
         55
        ],
        [
         "male",
         "group D",
         "bachelor's degree",
         "standard",
         "none",
         80,
         73,
         72
        ],
        [
         "female",
         "group A",
         "associate's degree",
         "free/reduced",
         "none",
         37,
         57,
         56
        ],
        [
         "female",
         "group C",
         "high school",
         "standard",
         "none",
         81,
         84,
         82
        ],
        [
         "female",
         "group C",
         "associate's degree",
         "standard",
         "completed",
         59,
         73,
         72
        ],
        [
         "male",
         "group B",
         "some college",
         "free/reduced",
         "none",
         55,
         55,
         47
        ],
        [
         "male",
         "group D",
         "associate's degree",
         "standard",
         "none",
         72,
         79,
         74
        ],
        [
         "male",
         "group D",
         "high school",
         "standard",
         "none",
         69,
         75,
         71
        ],
        [
         "male",
         "group C",
         "some college",
         "standard",
         "none",
         69,
         64,
         68
        ],
        [
         "female",
         "group C",
         "bachelor's degree",
         "free/reduced",
         "none",
         50,
         60,
         59
        ],
        [
         "male",
         "group B",
         "some college",
         "standard",
         "completed",
         87,
         84,
         86
        ],
        [
         "male",
         "group D",
         "some high school",
         "standard",
         "completed",
         71,
         69,
         68
        ],
        [
         "male",
         "group E",
         "some college",
         "standard",
         "none",
         68,
         72,
         65
        ],
        [
         "male",
         "group C",
         "master's degree",
         "free/reduced",
         "completed",
         79,
         77,
         75
        ],
        [
         "female",
         "group C",
         "some high school",
         "standard",
         "completed",
         77,
         90,
         85
        ],
        [
         "male",
         "group C",
         "associate's degree",
         "free/reduced",
         "none",
         58,
         55,
         53
        ],
        [
         "female",
         "group E",
         "associate's degree",
         "standard",
         "none",
         84,
         95,
         92
        ],
        [
         "male",
         "group D",
         "some college",
         "standard",
         "none",
         55,
         58,
         52
        ],
        [
         "male",
         "group E",
         "bachelor's degree",
         "free/reduced",
         "completed",
         70,
         68,
         72
        ],
        [
         "female",
         "group D",
         "some college",
         "free/reduced",
         "completed",
         52,
         59,
         65
        ],
        [
         "male",
         "group B",
         "some college",
         "standard",
         "completed",
         69,
         77,
         77
        ],
        [
         "female",
         "group C",
         "high school",
         "free/reduced",
         "none",
         53,
         72,
         64
        ],
        [
         "female",
         "group D",
         "some high school",
         "standard",
         "none",
         48,
         58,
         54
        ],
        [
         "male",
         "group D",
         "some high school",
         "standard",
         "completed",
         78,
         81,
         86
        ],
        [
         "female",
         "group B",
         "high school",
         "standard",
         "none",
         62,
         62,
         63
        ],
        [
         "male",
         "group D",
         "some college",
         "standard",
         "none",
         60,
         63,
         59
        ],
        [
         "female",
         "group B",
         "high school",
         "standard",
         "none",
         74,
         72,
         72
        ],
        [
         "female",
         "group C",
         "high school",
         "standard",
         "completed",
         58,
         75,
         77
        ],
        [
         "male",
         "group B",
         "high school",
         "standard",
         "completed",
         76,
         62,
         60
        ],
        [
         "female",
         "group D",
         "some high school",
         "standard",
         "none",
         68,
         71,
         75
        ],
        [
         "male",
         "group A",
         "some college",
         "free/reduced",
         "none",
         58,
         60,
         57
        ],
        [
         "male",
         "group B",
         "high school",
         "standard",
         "none",
         52,
         48,
         49
        ],
        [
         "male",
         "group D",
         "bachelor's degree",
         "standard",
         "none",
         75,
         73,
         74
        ],
        [
         "female",
         "group B",
         "some high school",
         "free/reduced",
         "completed",
         52,
         67,
         72
        ],
        [
         "female",
         "group C",
         "bachelor's degree",
         "free/reduced",
         "none",
         62,
         78,
         79
        ],
        [
         "male",
         "group B",
         "some college",
         "standard",
         "none",
         66,
         65,
         60
        ],
        [
         "female",
         "group B",
         "some high school",
         "free/reduced",
         "none",
         49,
         58,
         55
        ],
        [
         "female",
         "group B",
         "high school",
         "standard",
         "none",
         66,
         72,
         70
        ],
        [
         "female",
         "group C",
         "some college",
         "free/reduced",
         "none",
         35,
         44,
         43
        ],
        [
         "female",
         "group A",
         "some college",
         "standard",
         "completed",
         72,
         79,
         82
        ],
        [
         "male",
         "group E",
         "associate's degree",
         "standard",
         "completed",
         94,
         85,
         82
        ],
        [
         "female",
         "group D",
         "associate's degree",
         "free/reduced",
         "none",
         46,
         56,
         57
        ],
        [
         "female",
         "group B",
         "master's degree",
         "standard",
         "none",
         77,
         90,
         84
        ],
        [
         "female",
         "group B",
         "high school",
         "free/reduced",
         "completed",
         76,
         85,
         82
        ],
        [
         "female",
         "group C",
         "associate's degree",
         "standard",
         "completed",
         52,
         59,
         62
        ],
        [
         "male",
         "group C",
         "bachelor's degree",
         "standard",
         "completed",
         91,
         81,
         79
        ],
        [
         "female",
         "group B",
         "some high school",
         "standard",
         "completed",
         32,
         51,
         44
        ],
        [
         "female",
         "group E",
         "some high school",
         "free/reduced",
         "none",
         72,
         79,
         77
        ],
        [
         "female",
         "group B",
         "some college",
         "standard",
         "none",
         19,
         38,
         32
        ],
        [
         "male",
         "group C",
         "associate's degree",
         "free/reduced",
         "none",
         68,
         65,
         61
        ],
        [
         "female",
         "group C",
         "master's degree",
         "free/reduced",
         "none",
         52,
         65,
         61
        ],
        [
         "female",
         "group B",
         "high school",
         "standard",
         "none",
         48,
         62,
         60
        ],
        [
         "female",
         "group D",
         "some college",
         "free/reduced",
         "none",
         60,
         66,
         70
        ],
        [
         "male",
         "group D",
         "high school",
         "free/reduced",
         "none",
         66,
         74,
         69
        ],
        [
         "male",
         "group E",
         "some high school",
         "standard",
         "completed",
         89,
         84,
         77
        ],
        [
         "female",
         "group B",
         "high school",
         "standard",
         "none",
         42,
         52,
         51
        ],
        [
         "female",
         "group E",
         "associate's degree",
         "free/reduced",
         "completed",
         57,
         68,
         73
        ],
        [
         "male",
         "group D",
         "high school",
         "standard",
         "none",
         70,
         70,
         70
        ],
        [
         "female",
         "group E",
         "associate's degree",
         "free/reduced",
         "none",
         70,
         84,
         81
        ],
        [
         "male",
         "group E",
         "some college",
         "standard",
         "none",
         69,
         60,
         54
        ],
        [
         "female",
         "group C",
         "associate's degree",
         "standard",
         "none",
         52,
         55,
         57
        ],
        [
         "male",
         "group C",
         "some high school",
         "standard",
         "completed",
         67,
         73,
         68
        ],
        [
         "male",
         "group C",
         "some high school",
         "standard",
         "completed",
         76,
         80,
         73
        ],
        [
         "female",
         "group E",
         "associate's degree",
         "standard",
         "none",
         87,
         94,
         95
        ],
        [
         "female",
         "group B",
         "some college",
         "standard",
         "none",
         82,
         85,
         87
        ],
        [
         "female",
         "group C",
         "some college",
         "standard",
         "none",
         73,
         76,
         78
        ],
        [
         "male",
         "group A",
         "some college",
         "free/reduced",
         "none",
         75,
         81,
         74
        ],
        [
         "female",
         "group D",
         "some college",
         "free/reduced",
         "none",
         64,
         74,
         75
        ],
        [
         "female",
         "group E",
         "high school",
         "free/reduced",
         "none",
         41,
         45,
         40
        ],
        [
         "male",
         "group C",
         "high school",
         "standard",
         "none",
         90,
         75,
         69
        ],
        [
         "male",
         "group B",
         "bachelor's degree",
         "standard",
         "none",
         59,
         54,
         51
        ],
        [
         "male",
         "group A",
         "some high school",
         "standard",
         "none",
         51,
         31,
         36
        ],
        [
         "male",
         "group A",
         "high school",
         "free/reduced",
         "none",
         45,
         47,
         49
        ],
        [
         "female",
         "group C",
         "master's degree",
         "standard",
         "completed",
         54,
         64,
         67
        ],
        [
         "male",
         "group E",
         "some high school",
         "standard",
         "completed",
         87,
         84,
         76
        ],
        [
         "female",
         "group C",
         "high school",
         "standard",
         "none",
         72,
         80,
         83
        ],
        [
         "male",
         "group B",
         "some high school",
         "standard",
         "completed",
         94,
         86,
         87
        ],
        [
         "female",
         "group A",
         "bachelor's degree",
         "standard",
         "none",
         45,
         59,
         64
        ],
        [
         "male",
         "group D",
         "bachelor's degree",
         "free/reduced",
         "completed",
         61,
         70,
         76
        ],
        [
         "female",
         "group B",
         "high school",
         "free/reduced",
         "none",
         60,
         72,
         68
        ],
        [
         "female",
         "group C",
         "some high school",
         "standard",
         "none",
         77,
         91,
         88
        ],
        [
         "female",
         "group A",
         "some high school",
         "standard",
         "completed",
         85,
         90,
         92
        ],
        [
         "female",
         "group D",
         "bachelor's degree",
         "free/reduced",
         "none",
         78,
         90,
         93
        ],
        [
         "male",
         "group E",
         "some college",
         "free/reduced",
         "completed",
         49,
         52,
         51
        ],
        [
         "female",
         "group B",
         "high school",
         "free/reduced",
         "none",
         71,
         87,
         82
        ],
        [
         "female",
         "group C",
         "some high school",
         "free/reduced",
         "none",
         48,
         58,
         52
        ],
        [
         "male",
         "group C",
         "high school",
         "standard",
         "none",
         62,
         67,
         58
        ],
        [
         "female",
         "group C",
         "associate's degree",
         "free/reduced",
         "completed",
         56,
         68,
         70
        ],
        [
         "female",
         "group C",
         "some high school",
         "standard",
         "none",
         65,
         69,
         76
        ],
        [
         "female",
         "group D",
         "some high school",
         "free/reduced",
         "completed",
         69,
         86,
         81
        ],
        [
         "male",
         "group B",
         "some high school",
         "standard",
         "none",
         68,
         54,
         53
        ],
        [
         "female",
         "group A",
         "some college",
         "free/reduced",
         "none",
         61,
         60,
         57
        ],
        [
         "female",
         "group C",
         "bachelor's degree",
         "free/reduced",
         "completed",
         74,
         86,
         89
        ],
        [
         "male",
         "group A",
         "bachelor's degree",
         "standard",
         "none",
         64,
         60,
         58
        ],
        [
         "female",
         "group B",
         "high school",
         "standard",
         "completed",
         77,
         82,
         89
        ],
        [
         "male",
         "group B",
         "some college",
         "standard",
         "none",
         58,
         50,
         45
        ],
        [
         "female",
         "group C",
         "high school",
         "standard",
         "completed",
         60,
         64,
         74
        ],
        [
         "male",
         "group E",
         "high school",
         "standard",
         "none",
         73,
         64,
         57
        ],
        [
         "female",
         "group A",
         "high school",
         "standard",
         "completed",
         75,
         82,
         79
        ],
        [
         "male",
         "group B",
         "associate's degree",
         "free/reduced",
         "completed",
         58,
         57,
         53
        ],
        [
         "female",
         "group C",
         "associate's degree",
         "standard",
         "none",
         66,
         77,
         73
        ],
        [
         "female",
         "group D",
         "high school",
         "free/reduced",
         "none",
         39,
         52,
         46
        ],
        [
         "male",
         "group C",
         "some high school",
         "standard",
         "none",
         64,
         58,
         51
        ],
        [
         "female",
         "group B",
         "high school",
         "free/reduced",
         "completed",
         23,
         44,
         36
        ],
        [
         "male",
         "group B",
         "some college",
         "free/reduced",
         "completed",
         74,
         77,
         76
        ],
        [
         "female",
         "group D",
         "some high school",
         "free/reduced",
         "completed",
         40,
         65,
         64
        ],
        [
         "male",
         "group E",
         "master's degree",
         "standard",
         "none",
         90,
         85,
         84
        ],
        [
         "male",
         "group C",
         "master's degree",
         "standard",
         "completed",
         91,
         85,
         85
        ],
        [
         "male",
         "group D",
         "high school",
         "standard",
         "none",
         64,
         54,
         50
        ],
        [
         "female",
         "group C",
         "high school",
         "standard",
         "none",
         59,
         72,
         68
        ],
        [
         "male",
         "group D",
         "associate's degree",
         "standard",
         "none",
         80,
         75,
         69
        ],
        [
         "male",
         "group C",
         "master's degree",
         "standard",
         "none",
         71,
         67,
         67
        ],
        [
         "female",
         "group A",
         "high school",
         "standard",
         "none",
         61,
         68,
         63
        ],
        [
         "female",
         "group E",
         "some college",
         "standard",
         "none",
         87,
         85,
         93
        ],
        [
         "male",
         "group E",
         "some high school",
         "standard",
         "none",
         82,
         67,
         61
        ],
        [
         "male",
         "group C",
         "some high school",
         "standard",
         "none",
         62,
         64,
         55
        ],
        [
         "female",
         "group B",
         "bachelor's degree",
         "standard",
         "none",
         97,
         97,
         96
        ],
        [
         "male",
         "group B",
         "some college",
         "free/reduced",
         "none",
         75,
         68,
         65
        ],
        [
         "female",
         "group C",
         "bachelor's degree",
         "standard",
         "none",
         65,
         79,
         81
        ],
        [
         "male",
         "group B",
         "high school",
         "standard",
         "completed",
         52,
         49,
         46
        ],
        [
         "male",
         "group C",
         "associate's degree",
         "free/reduced",
         "none",
         87,
         73,
         72
        ],
        [
         "female",
         "group C",
         "associate's degree",
         "standard",
         "none",
         53,
         62,
         53
        ],
        [
         "female",
         "group E",
         "master's degree",
         "free/reduced",
         "none",
         81,
         86,
         87
        ],
        [
         "male",
         "group D",
         "bachelor's degree",
         "free/reduced",
         "completed",
         39,
         42,
         38
        ],
        [
         "female",
         "group C",
         "some college",
         "standard",
         "completed",
         71,
         71,
         80
        ],
        [
         "male",
         "group C",
         "associate's degree",
         "standard",
         "none",
         97,
         93,
         91
        ],
        [
         "male",
         "group D",
         "some college",
         "standard",
         "completed",
         82,
         82,
         88
        ],
        [
         "male",
         "group C",
         "high school",
         "free/reduced",
         "none",
         59,
         53,
         52
        ],
        [
         "male",
         "group B",
         "associate's degree",
         "standard",
         "none",
         61,
         42,
         41
        ],
        [
         "male",
         "group E",
         "associate's degree",
         "free/reduced",
         "completed",
         78,
         74,
         72
        ],
        [
         "male",
         "group C",
         "associate's degree",
         "free/reduced",
         "none",
         49,
         51,
         51
        ],
        [
         "male",
         "group B",
         "high school",
         "standard",
         "none",
         59,
         58,
         47
        ],
        [
         "female",
         "group C",
         "some college",
         "standard",
         "completed",
         70,
         72,
         76
        ],
        [
         "male",
         "group B",
         "associate's degree",
         "standard",
         "completed",
         82,
         84,
         78
        ],
        [
         "male",
         "group E",
         "associate's degree",
         "free/reduced",
         "none",
         90,
         90,
         82
        ],
        [
         "female",
         "group C",
         "bachelor's degree",
         "free/reduced",
         "none",
         43,
         62,
         61
        ],
        [
         "male",
         "group C",
         "some college",
         "free/reduced",
         "none",
         80,
         64,
         66
        ],
        [
         "male",
         "group D",
         "some college",
         "standard",
         "none",
         81,
         82,
         84
        ],
        [
         "male",
         "group C",
         "some high school",
         "standard",
         "none",
         57,
         61,
         54
        ],
        [
         "female",
         "group D",
         "some high school",
         "standard",
         "none",
         59,
         72,
         80
        ],
        [
         "female",
         "group D",
         "associate's degree",
         "standard",
         "none",
         64,
         76,
         74
        ],
        [
         "male",
         "group C",
         "bachelor's degree",
         "standard",
         "completed",
         63,
         64,
         66
        ],
        [
         "female",
         "group E",
         "bachelor's degree",
         "standard",
         "completed",
         71,
         70,
         70
        ],
        [
         "female",
         "group B",
         "high school",
         "free/reduced",
         "none",
         64,
         73,
         71
        ],
        [
         "male",
         "group D",
         "bachelor's degree",
         "free/reduced",
         "none",
         55,
         46,
         44
        ],
        [
         "female",
         "group E",
         "associate's degree",
         "standard",
         "none",
         51,
         51,
         54
        ],
        [
         "female",
         "group C",
         "associate's degree",
         "standard",
         "completed",
         62,
         76,
         80
        ],
        [
         "female",
         "group E",
         "associate's degree",
         "standard",
         "completed",
         93,
         100,
         95
        ],
        [
         "male",
         "group C",
         "high school",
         "free/reduced",
         "none",
         54,
         72,
         59
        ],
        [
         "female",
         "group D",
         "some college",
         "free/reduced",
         "none",
         69,
         65,
         74
        ],
        [
         "male",
         "group D",
         "high school",
         "free/reduced",
         "none",
         44,
         51,
         48
        ],
        [
         "female",
         "group E",
         "some college",
         "standard",
         "completed",
         86,
         85,
         91
        ],
        [
         "female",
         "group E",
         "associate's degree",
         "standard",
         "none",
         85,
         92,
         85
        ],
        [
         "female",
         "group A",
         "master's degree",
         "free/reduced",
         "none",
         50,
         67,
         73
        ],
        [
         "male",
         "group D",
         "some high school",
         "standard",
         "completed",
         88,
         74,
         75
        ],
        [
         "female",
         "group E",
         "associate's degree",
         "standard",
         "none",
         59,
         62,
         69
        ],
        [
         "female",
         "group E",
         "some high school",
         "free/reduced",
         "none",
         32,
         34,
         38
        ],
        [
         "male",
         "group B",
         "high school",
         "free/reduced",
         "none",
         36,
         29,
         27
        ],
        [
         "female",
         "group B",
         "some high school",
         "free/reduced",
         "completed",
         63,
         78,
         79
        ],
        [
         "male",
         "group D",
         "associate's degree",
         "standard",
         "completed",
         67,
         54,
         63
        ],
        [
         "female",
         "group D",
         "some high school",
         "standard",
         "completed",
         65,
         78,
         82
        ],
        [
         "male",
         "group D",
         "master's degree",
         "standard",
         "none",
         85,
         84,
         89
        ],
        [
         "female",
         "group C",
         "master's degree",
         "standard",
         "none",
         73,
         78,
         74
        ],
        [
         "female",
         "group A",
         "high school",
         "free/reduced",
         "completed",
         34,
         48,
         41
        ],
        [
         "female",
         "group D",
         "bachelor's degree",
         "free/reduced",
         "completed",
         93,
         100,
         100
        ],
        [
         "female",
         "group D",
         "some high school",
         "free/reduced",
         "none",
         67,
         84,
         84
        ],
        [
         "male",
         "group D",
         "some college",
         "standard",
         "none",
         88,
         77,
         77
        ],
        [
         "male",
         "group B",
         "high school",
         "standard",
         "none",
         57,
         48,
         51
        ],
        [
         "female",
         "group D",
         "some college",
         "standard",
         "completed",
         79,
         84,
         91
        ],
        [
         "female",
         "group C",
         "bachelor's degree",
         "free/reduced",
         "none",
         67,
         75,
         72
        ],
        [
         "male",
         "group E",
         "bachelor's degree",
         "standard",
         "completed",
         70,
         64,
         70
        ],
        [
         "male",
         "group D",
         "bachelor's degree",
         "free/reduced",
         "none",
         50,
         42,
         48
        ],
        [
         "female",
         "group A",
         "some college",
         "standard",
         "none",
         69,
         84,
         82
        ],
        [
         "female",
         "group C",
         "bachelor's degree",
         "standard",
         "completed",
         52,
         61,
         66
        ],
        [
         "female",
         "group C",
         "bachelor's degree",
         "free/reduced",
         "completed",
         47,
         62,
         66
        ],
        [
         "female",
         "group B",
         "associate's degree",
         "free/reduced",
         "none",
         46,
         61,
         55
        ],
        [
         "female",
         "group E",
         "some college",
         "standard",
         "none",
         68,
         70,
         66
        ],
        [
         "male",
         "group E",
         "bachelor's degree",
         "standard",
         "completed",
         100,
         100,
         100
        ],
        [
         "female",
         "group C",
         "high school",
         "standard",
         "none",
         44,
         61,
         52
        ],
        [
         "female",
         "group C",
         "associate's degree",
         "standard",
         "completed",
         57,
         77,
         80
        ],
        [
         "male",
         "group B",
         "some college",
         "standard",
         "completed",
         91,
         96,
         91
        ],
        [
         "male",
         "group D",
         "high school",
         "free/reduced",
         "none",
         69,
         70,
         67
        ],
        [
         "female",
         "group C",
         "high school",
         "free/reduced",
         "none",
         35,
         53,
         46
        ],
        [
         "male",
         "group D",
         "high school",
         "standard",
         "none",
         72,
         66,
         66
        ],
        [
         "female",
         "group B",
         "associate's degree",
         "free/reduced",
         "none",
         54,
         65,
         65
        ],
        [
         "male",
         "group D",
         "high school",
         "free/reduced",
         "none",
         74,
         70,
         69
        ],
        [
         "male",
         "group E",
         "some high school",
         "standard",
         "completed",
         74,
         64,
         60
        ],
        [
         "male",
         "group E",
         "associate's degree",
         "free/reduced",
         "none",
         64,
         56,
         52
        ],
        [
         "female",
         "group D",
         "high school",
         "free/reduced",
         "completed",
         65,
         61,
         71
        ],
        [
         "male",
         "group E",
         "associate's degree",
         "free/reduced",
         "completed",
         46,
         43,
         44
        ],
        [
         "female",
         "group C",
         "some high school",
         "free/reduced",
         "none",
         48,
         56,
         51
        ],
        [
         "male",
         "group C",
         "some college",
         "free/reduced",
         "completed",
         67,
         74,
         70
        ],
        [
         "male",
         "group D",
         "some college",
         "free/reduced",
         "none",
         62,
         57,
         62
        ],
        [
         "male",
         "group D",
         "associate's degree",
         "free/reduced",
         "completed",
         61,
         71,
         73
        ],
        [
         "male",
         "group C",
         "bachelor's degree",
         "free/reduced",
         "completed",
         70,
         75,
         74
        ],
        [
         "male",
         "group C",
         "associate's degree",
         "standard",
         "completed",
         98,
         87,
         90
        ],
        [
         "male",
         "group D",
         "some college",
         "free/reduced",
         "none",
         70,
         63,
         58
        ],
        [
         "male",
         "group A",
         "associate's degree",
         "standard",
         "none",
         67,
         57,
         53
        ],
        [
         "female",
         "group E",
         "high school",
         "free/reduced",
         "none",
         57,
         58,
         57
        ],
        [
         "male",
         "group D",
         "some college",
         "standard",
         "completed",
         85,
         81,
         85
        ],
        [
         "male",
         "group D",
         "some high school",
         "standard",
         "completed",
         77,
         68,
         69
        ],
        [
         "male",
         "group C",
         "master's degree",
         "free/reduced",
         "completed",
         72,
         66,
         72
        ],
        [
         "female",
         "group D",
         "master's degree",
         "standard",
         "none",
         78,
         91,
         96
        ],
        [
         "male",
         "group C",
         "high school",
         "standard",
         "none",
         81,
         66,
         64
        ],
        [
         "male",
         "group A",
         "some high school",
         "free/reduced",
         "completed",
         61,
         62,
         61
        ],
        [
         "female",
         "group B",
         "high school",
         "standard",
         "none",
         58,
         68,
         61
        ],
        [
         "female",
         "group C",
         "associate's degree",
         "standard",
         "none",
         54,
         61,
         58
        ],
        [
         "male",
         "group B",
         "high school",
         "standard",
         "none",
         82,
         82,
         80
        ],
        [
         "female",
         "group D",
         "some college",
         "free/reduced",
         "none",
         49,
         58,
         60
        ],
        [
         "male",
         "group B",
         "some high school",
         "free/reduced",
         "completed",
         49,
         50,
         52
        ],
        [
         "female",
         "group E",
         "high school",
         "free/reduced",
         "completed",
         57,
         75,
         73
        ],
        [
         "male",
         "group E",
         "high school",
         "standard",
         "none",
         94,
         73,
         71
        ],
        [
         "female",
         "group D",
         "some college",
         "standard",
         "completed",
         75,
         77,
         83
        ],
        [
         "female",
         "group E",
         "some high school",
         "free/reduced",
         "none",
         74,
         74,
         72
        ],
        [
         "male",
         "group C",
         "high school",
         "standard",
         "completed",
         58,
         52,
         54
        ],
        [
         "female",
         "group C",
         "some college",
         "standard",
         "none",
         62,
         69,
         69
        ],
        [
         "male",
         "group E",
         "associate's degree",
         "standard",
         "none",
         72,
         57,
         62
        ],
        [
         "male",
         "group C",
         "some college",
         "standard",
         "none",
         84,
         87,
         81
        ],
        [
         "female",
         "group D",
         "master's degree",
         "standard",
         "none",
         92,
         100,
         100
        ],
        [
         "female",
         "group D",
         "high school",
         "standard",
         "none",
         45,
         63,
         59
        ],
        [
         "male",
         "group C",
         "high school",
         "standard",
         "none",
         75,
         81,
         71
        ],
        [
         "female",
         "group A",
         "some college",
         "standard",
         "none",
         56,
         58,
         64
        ],
        [
         "female",
         "group D",
         "some high school",
         "free/reduced",
         "none",
         48,
         54,
         53
        ],
        [
         "female",
         "group E",
         "associate's degree",
         "standard",
         "none",
         100,
         100,
         100
        ],
        [
         "female",
         "group C",
         "some high school",
         "free/reduced",
         "completed",
         65,
         76,
         75
        ],
        [
         "male",
         "group D",
         "some college",
         "standard",
         "none",
         72,
         57,
         58
        ],
        [
         "female",
         "group D",
         "some college",
         "standard",
         "none",
         62,
         70,
         72
        ],
        [
         "male",
         "group A",
         "some high school",
         "standard",
         "completed",
         66,
         68,
         64
        ],
        [
         "male",
         "group C",
         "some college",
         "standard",
         "none",
         63,
         63,
         60
        ],
        [
         "female",
         "group E",
         "associate's degree",
         "standard",
         "none",
         68,
         76,
         67
        ],
        [
         "female",
         "group B",
         "bachelor's degree",
         "standard",
         "none",
         75,
         84,
         80
        ],
        [
         "female",
         "group D",
         "bachelor's degree",
         "standard",
         "none",
         89,
         100,
         100
        ],
        [
         "male",
         "group C",
         "some high school",
         "standard",
         "completed",
         78,
         72,
         69
        ],
        [
         "female",
         "group A",
         "high school",
         "free/reduced",
         "completed",
         53,
         50,
         60
        ],
        [
         "female",
         "group D",
         "some college",
         "free/reduced",
         "none",
         49,
         65,
         61
        ],
        [
         "female",
         "group A",
         "some college",
         "standard",
         "none",
         54,
         63,
         67
        ],
        [
         "female",
         "group C",
         "some college",
         "standard",
         "completed",
         64,
         82,
         77
        ],
        [
         "male",
         "group B",
         "some college",
         "free/reduced",
         "completed",
         60,
         62,
         60
        ],
        [
         "male",
         "group C",
         "associate's degree",
         "standard",
         "none",
         62,
         65,
         58
        ],
        [
         "male",
         "group D",
         "high school",
         "standard",
         "completed",
         55,
         41,
         48
        ],
        [
         "female",
         "group C",
         "associate's degree",
         "standard",
         "none",
         91,
         95,
         94
        ],
        [
         "female",
         "group B",
         "high school",
         "free/reduced",
         "none",
         8,
         24,
         23
        ],
        [
         "male",
         "group D",
         "some high school",
         "standard",
         "none",
         81,
         78,
         78
        ],
        [
         "male",
         "group B",
         "some high school",
         "standard",
         "completed",
         79,
         85,
         86
        ],
        [
         "female",
         "group A",
         "some college",
         "standard",
         "completed",
         78,
         87,
         91
        ],
        [
         "female",
         "group C",
         "some high school",
         "standard",
         "none",
         74,
         75,
         82
        ],
        [
         "male",
         "group A",
         "high school",
         "standard",
         "none",
         57,
         51,
         54
        ],
        [
         "female",
         "group C",
         "associate's degree",
         "standard",
         "none",
         40,
         59,
         51
        ],
        [
         "male",
         "group E",
         "some high school",
         "standard",
         "completed",
         81,
         75,
         76
        ],
        [
         "female",
         "group A",
         "some high school",
         "free/reduced",
         "none",
         44,
         45,
         45
        ],
        [
         "female",
         "group D",
         "some college",
         "free/reduced",
         "completed",
         67,
         86,
         83
        ],
        [
         "male",
         "group E",
         "high school",
         "free/reduced",
         "completed",
         86,
         81,
         75
        ],
        [
         "female",
         "group B",
         "some high school",
         "standard",
         "completed",
         65,
         82,
         78
        ],
        [
         "female",
         "group D",
         "associate's degree",
         "free/reduced",
         "none",
         55,
         76,
         76
        ],
        [
         "female",
         "group D",
         "bachelor's degree",
         "free/reduced",
         "none",
         62,
         72,
         74
        ],
        [
         "male",
         "group A",
         "high school",
         "standard",
         "none",
         63,
         63,
         62
        ],
        [
         "female",
         "group E",
         "master's degree",
         "standard",
         "completed",
         88,
         99,
         95
        ],
        [
         "male",
         "group C",
         "high school",
         "free/reduced",
         "none",
         62,
         55,
         55
        ],
        [
         "female",
         "group C",
         "high school",
         "free/reduced",
         "completed",
         59,
         71,
         65
        ],
        [
         "female",
         "group D",
         "some college",
         "standard",
         "completed",
         68,
         78,
         77
        ],
        [
         "female",
         "group D",
         "some college",
         "free/reduced",
         "none",
         77,
         86,
         86
        ]
       ],
       "datasetInfos": [],
       "dbfsResultPath": null,
       "isJsonSchema": true,
       "metadata": {},
       "overflow": false,
       "plotOptions": {
        "customPlotOptions": {},
        "displayType": "table",
        "pivotAggregation": null,
        "pivotColumns": null,
        "xColumns": null,
        "yColumns": null
       },
       "removedWidgets": [],
       "schema": [
        {
         "metadata": "{}",
         "name": "gender",
         "type": "\"string\""
        },
        {
         "metadata": "{}",
         "name": "race/ethnicity",
         "type": "\"string\""
        },
        {
         "metadata": "{}",
         "name": "parental level of education",
         "type": "\"string\""
        },
        {
         "metadata": "{}",
         "name": "lunch",
         "type": "\"string\""
        },
        {
         "metadata": "{}",
         "name": "test preparation course",
         "type": "\"string\""
        },
        {
         "metadata": "{}",
         "name": "math score",
         "type": "\"integer\""
        },
        {
         "metadata": "{}",
         "name": "reading score",
         "type": "\"integer\""
        },
        {
         "metadata": "{}",
         "name": "writing score",
         "type": "\"integer\""
        }
       ],
       "type": "table"
      }
     },
     "output_type": "display_data"
    }
   ],
   "source": [
    "# Load CSV in Databricks notebook\n",
    "df = spark.read.csv(\"/Volumes/hexaware_databricks/default/file/StudentsPerformance.csv\", header=True, inferSchema=True)\n",
    "df.display()"
   ]
  },
  {
   "cell_type": "markdown",
   "metadata": {
    "application/vnd.databricks.v1+cell": {
     "cellMetadata": {},
     "inputWidgets": {},
     "nuid": "8b975575-8993-453e-886c-8d288f8591a7",
     "showTitle": false,
     "tableResultSettingsMap": {},
     "title": ""
    }
   },
   "source": [
    "Bar Chart – Average Math Score by Gender"
   ]
  },
  {
   "cell_type": "code",
   "execution_count": 0,
   "metadata": {
    "application/vnd.databricks.v1+cell": {
     "cellMetadata": {
      "byteLimit": 2048000,
      "rowLimit": 10000
     },
     "inputWidgets": {},
     "nuid": "e22783a2-8b31-412b-a44a-df18bd88557f",
     "showTitle": false,
     "tableResultSettingsMap": {},
     "title": ""
    }
   },
   "outputs": [
    {
     "output_type": "display_data",
     "data": {
      "text/html": [
       "<style scoped>\n",
       "  .table-result-container {\n",
       "    max-height: 300px;\n",
       "    overflow: auto;\n",
       "  }\n",
       "  table, th, td {\n",
       "    border: 1px solid black;\n",
       "    border-collapse: collapse;\n",
       "  }\n",
       "  th, td {\n",
       "    padding: 5px;\n",
       "  }\n",
       "  th {\n",
       "    text-align: left;\n",
       "  }\n",
       "</style><div class='table-result-container'><table class='table-result'><thead style='background-color: white'><tr><th>gender</th><th>Average Math Score</th></tr></thead><tbody><tr><td>female</td><td>63.633204633204635</td></tr><tr><td>male</td><td>68.72821576763485</td></tr></tbody></table></div>"
      ]
     },
     "metadata": {
      "application/vnd.databricks.v1+output": {
       "addedWidgets": {},
       "aggData": [],
       "aggError": "",
       "aggOverflow": false,
       "aggSchema": [],
       "aggSeriesLimitReached": false,
       "aggType": "",
       "arguments": {},
       "columnCustomDisplayInfos": {},
       "data": [
        [
         "female",
         63.633204633204635
        ],
        [
         "male",
         68.72821576763485
        ]
       ],
       "datasetInfos": [],
       "dbfsResultPath": null,
       "isJsonSchema": true,
       "metadata": {},
       "overflow": false,
       "plotOptions": {
        "customPlotOptions": {},
        "displayType": "table",
        "pivotAggregation": null,
        "pivotColumns": null,
        "xColumns": null,
        "yColumns": null
       },
       "removedWidgets": [],
       "schema": [
        {
         "metadata": "{}",
         "name": "gender",
         "type": "\"string\""
        },
        {
         "metadata": "{}",
         "name": "Average Math Score",
         "type": "\"double\""
        }
       ],
       "type": "table"
      }
     },
     "output_type": "display_data"
    },
    {
     "output_type": "display_data",
     "data": {
      "text/plain": [
       "Databricks visualization. Run in Databricks to view."
      ]
     },
     "metadata": {
      "application/vnd.databricks.v1.subcommand+json": {
       "baseErrorDetails": null,
       "bindings": {},
       "collapsed": false,
       "command": "%python\n__backend_agg_display_orig = display\n__backend_agg_dfs = []\ndef __backend_agg_display_new(df):\n    __backend_agg_df_modules = [\"pandas.core.frame\", \"databricks.koalas.frame\", \"pyspark.sql.dataframe\", \"pyspark.pandas.frame\", \"pyspark.sql.connect.dataframe\"]\n    if (type(df).__module__ in __backend_agg_df_modules and type(df).__name__ == 'DataFrame') or isinstance(df, list):\n        __backend_agg_dfs.append(df)\n\ndisplay = __backend_agg_display_new\n\ndef __backend_agg_user_code_fn():\n    import base64\n    exec(base64.standard_b64decode(\"ZnJvbSBweXNwYXJrLnNxbC5mdW5jdGlvbnMgaW1wb3J0IG1lYW4KCnJlc3VsdD1kZi5ncm91cEJ5KCJnZW5kZXIiKS5hZ2cobWVhbigibWF0aCBzY29yZSIpLmFsaWFzKCJBdmVyYWdlIE1hdGggU2NvcmUiKSkKZGlzcGxheShyZXN1bHQp\").decode())\n\ntry:\n    # run user code\n    __backend_agg_user_code_fn()\n\n    #reset display function\n    display = __backend_agg_display_orig\n\n    if len(__backend_agg_dfs) > 0:\n        # create a temp view\n        if type(__backend_agg_dfs[0]).__module__ == \"databricks.koalas.frame\":\n            # koalas dataframe\n            __backend_agg_dfs[0].to_spark().createOrReplaceTempView(\"DatabricksView9df76e2\")\n        elif type(__backend_agg_dfs[0]).__module__ == \"pandas.core.frame\" or isinstance(__backend_agg_dfs[0], list):\n            # pandas dataframe\n            spark.createDataFrame(__backend_agg_dfs[0]).createOrReplaceTempView(\"DatabricksView9df76e2\")\n        else:\n            __backend_agg_dfs[0].createOrReplaceTempView(\"DatabricksView9df76e2\")\n        #run backend agg\n        display(spark.sql(\"\"\"WITH q AS (select * from DatabricksView9df76e2) SELECT `gender`,SUM(`Average Math Score`) `column_93df7567114` FROM q GROUP BY `gender`\"\"\"))\n    else:\n        displayHTML(\"dataframe no longer exists. If you're using dataframe.display(), use display(dataframe) instead.\")\n\n\nfinally:\n    spark.sql(\"drop view if exists DatabricksView9df76e2\")\n    display = __backend_agg_display_orig\n    del __backend_agg_display_new\n    del __backend_agg_display_orig\n    del __backend_agg_dfs\n    del __backend_agg_user_code_fn\n\n",
       "commandTitle": "Visualization 1",
       "commandType": "auto",
       "commandVersion": 0,
       "commentThread": [],
       "commentsVisible": false,
       "contentSha256Hex": null,
       "customPlotOptions": {
        "redashChart": [
         {
          "key": "type",
          "value": "CHART"
         },
         {
          "key": "options",
          "value": {
           "alignYAxesAtZero": true,
           "coefficient": 1,
           "columnConfigurationMap": {
            "x": {
             "column": "gender",
             "id": "column_93df7567113"
            },
            "y": [
             {
              "column": "Average Math Score",
              "id": "column_93df7567114",
              "transform": "SUM"
             }
            ]
           },
           "dateTimeFormat": "DD/MM/YYYY HH:mm",
           "direction": {
            "type": "counterclockwise"
           },
           "error_y": {
            "type": "data",
            "visible": true
           },
           "globalSeriesType": "column",
           "legend": {
            "traceorder": "normal"
           },
           "missingValuesAsZero": true,
           "numberFormat": "0,0.[00000]",
           "percentFormat": "0[.]00%",
           "series": {
            "error_y": {
             "type": "data",
             "visible": true
            },
            "stacking": null
           },
           "seriesOptions": {
            "column_93df7567114": {
             "name": "Average Math Score",
             "yAxis": 0
            }
           },
           "showDataLabels": false,
           "sizemode": "diameter",
           "sortX": true,
           "sortY": true,
           "swappedAxes": true,
           "textFormat": "",
           "useAggregationsUi": true,
           "valuesOptions": {},
           "version": 2,
           "xAxis": {
            "labels": {
             "enabled": true
            },
            "type": "-"
           },
           "yAxis": [
            {
             "type": "-"
            },
            {
             "opposite": true,
             "type": "-"
            }
           ]
          }
         }
        ]
       },
       "datasetPreviewNameToCmdIdMap": {},
       "diffDeletes": [],
       "diffInserts": [],
       "displayType": "redashChart",
       "error": null,
       "errorDetails": null,
       "errorSummary": null,
       "errorTraceType": null,
       "finishTime": 0,
       "globalVars": {},
       "guid": "",
       "height": "auto",
       "hideCommandCode": false,
       "hideCommandResult": false,
       "iPythonMetadata": null,
       "inputWidgets": {},
       "isLockedInExamMode": false,
       "latestUser": "a user",
       "latestUserId": null,
       "listResultMetadata": null,
       "metadata": {},
       "nuid": "18025886-414f-4424-8bb5-99c2ddddd772",
       "origId": 0,
       "parentHierarchy": [],
       "pivotAggregation": null,
       "pivotColumns": null,
       "position": 6.5,
       "resultDbfsErrorMessage": null,
       "resultDbfsStatus": "INLINED_IN_TREE",
       "results": null,
       "showCommandTitle": false,
       "startTime": 0,
       "state": "input",
       "streamStates": {},
       "subcommandOptions": {
        "queryPlan": {
         "groups": [
          {
           "column": "gender",
           "type": "column"
          }
         ],
         "selects": [
          {
           "column": "gender",
           "type": "column"
          },
          {
           "alias": "column_93df7567114",
           "args": [
            {
             "column": "Average Math Score",
             "type": "column"
            }
           ],
           "function": "SUM",
           "type": "function"
          }
         ]
        }
       },
       "submitTime": 0,
       "subtype": "tableResultSubCmd.visualization",
       "tableResultIndex": 0,
       "tableResultSettingsMap": {},
       "useConsistentColors": false,
       "version": "CommandV1",
       "width": "auto",
       "workflows": [],
       "xColumns": null,
       "yColumns": null
      }
     },
     "output_type": "display_data"
    }
   ],
   "source": [
    "from pyspark.sql.functions import mean\n",
    "\n",
    "result=df.groupBy(\"gender\").agg(mean(\"math score\").alias(\"Average Math Score\"))\n",
    "display(result)"
   ]
  },
  {
   "cell_type": "markdown",
   "metadata": {
    "application/vnd.databricks.v1+cell": {
     "cellMetadata": {},
     "inputWidgets": {},
     "nuid": "198193c6-810c-4d71-bad2-462af635cba7",
     "showTitle": false,
     "tableResultSettingsMap": {},
     "title": ""
    }
   },
   "source": [
    "Pie Chart – Test Preparation Course Completion"
   ]
  },
  {
   "cell_type": "code",
   "execution_count": 0,
   "metadata": {
    "application/vnd.databricks.v1+cell": {
     "cellMetadata": {
      "byteLimit": 2048000,
      "implicitDf": true,
      "rowLimit": 10000
     },
     "inputWidgets": {},
     "nuid": "2b05e15f-9a09-4186-9f8c-7b21401da083",
     "showTitle": false,
     "tableResultSettingsMap": {},
     "title": ""
    }
   },
   "outputs": [
    {
     "output_type": "display_data",
     "data": {
      "text/html": [
       "<style scoped>\n",
       "  .table-result-container {\n",
       "    max-height: 300px;\n",
       "    overflow: auto;\n",
       "  }\n",
       "  table, th, td {\n",
       "    border: 1px solid black;\n",
       "    border-collapse: collapse;\n",
       "  }\n",
       "  th, td {\n",
       "    padding: 5px;\n",
       "  }\n",
       "  th {\n",
       "    text-align: left;\n",
       "  }\n",
       "</style><div class='table-result-container'><table class='table-result'><thead style='background-color: white'><tr><th>test preparation course</th><th>count</th></tr></thead><tbody><tr><td>completed</td><td>358</td></tr><tr><td>none</td><td>642</td></tr></tbody></table></div>"
      ]
     },
     "metadata": {
      "application/vnd.databricks.v1+output": {
       "addedWidgets": {},
       "aggData": [],
       "aggError": "",
       "aggOverflow": false,
       "aggSchema": [],
       "aggSeriesLimitReached": false,
       "aggType": "",
       "arguments": {},
       "columnCustomDisplayInfos": {},
       "data": [
        [
         "completed",
         358
        ],
        [
         "none",
         642
        ]
       ],
       "datasetInfos": [],
       "dbfsResultPath": null,
       "isJsonSchema": true,
       "metadata": {},
       "overflow": false,
       "plotOptions": {
        "customPlotOptions": {},
        "displayType": "table",
        "pivotAggregation": null,
        "pivotColumns": null,
        "xColumns": null,
        "yColumns": null
       },
       "removedWidgets": [],
       "schema": [
        {
         "metadata": "{}",
         "name": "test preparation course",
         "type": "\"string\""
        },
        {
         "metadata": "{}",
         "name": "count",
         "type": "\"long\""
        }
       ],
       "type": "table"
      }
     },
     "output_type": "display_data"
    },
    {
     "output_type": "display_data",
     "data": {
      "text/plain": [
       "Databricks visualization. Run in Databricks to view."
      ]
     },
     "metadata": {
      "application/vnd.databricks.v1.subcommand+json": {
       "baseErrorDetails": null,
       "bindings": {},
       "collapsed": false,
       "command": "%python\n__backend_agg_display_orig = display\n__backend_agg_dfs = []\ndef __backend_agg_display_new(df):\n    __backend_agg_df_modules = [\"pandas.core.frame\", \"databricks.koalas.frame\", \"pyspark.sql.dataframe\", \"pyspark.pandas.frame\", \"pyspark.sql.connect.dataframe\"]\n    if (type(df).__module__ in __backend_agg_df_modules and type(df).__name__ == 'DataFrame') or isinstance(df, list):\n        __backend_agg_dfs.append(df)\n\ndisplay = __backend_agg_display_new\n\ndef __backend_agg_user_code_fn():\n    import base64\n    exec(base64.standard_b64decode(\"cmVzdWx0PWRmLmdyb3VwQnkoInRlc3QgcHJlcGFyYXRpb24gY291cnNlIikuY291bnQoKQpkaXNwbGF5KHJlc3VsdCk=\").decode())\n\ntry:\n    # run user code\n    __backend_agg_user_code_fn()\n\n    #reset display function\n    display = __backend_agg_display_orig\n\n    if len(__backend_agg_dfs) > 0:\n        # create a temp view\n        if type(__backend_agg_dfs[0]).__module__ == \"databricks.koalas.frame\":\n            # koalas dataframe\n            __backend_agg_dfs[0].to_spark().createOrReplaceTempView(\"DatabricksViewa6d9a0c\")\n        elif type(__backend_agg_dfs[0]).__module__ == \"pandas.core.frame\" or isinstance(__backend_agg_dfs[0], list):\n            # pandas dataframe\n            spark.createDataFrame(__backend_agg_dfs[0]).createOrReplaceTempView(\"DatabricksViewa6d9a0c\")\n        else:\n            __backend_agg_dfs[0].createOrReplaceTempView(\"DatabricksViewa6d9a0c\")\n        #run backend agg\n        display(spark.sql(\"\"\"WITH q AS (select * from DatabricksViewa6d9a0c) SELECT `test preparation course`,SUM(`count`) `column_93df7567117` FROM q GROUP BY `test preparation course`\"\"\"))\n    else:\n        displayHTML(\"dataframe no longer exists. If you're using dataframe.display(), use display(dataframe) instead.\")\n\n\nfinally:\n    spark.sql(\"drop view if exists DatabricksViewa6d9a0c\")\n    display = __backend_agg_display_orig\n    del __backend_agg_display_new\n    del __backend_agg_display_orig\n    del __backend_agg_dfs\n    del __backend_agg_user_code_fn\n\n",
       "commandTitle": "Visualization 1",
       "commandType": "auto",
       "commandVersion": 0,
       "commentThread": [],
       "commentsVisible": false,
       "contentSha256Hex": null,
       "customPlotOptions": {
        "redashChart": [
         {
          "key": "type",
          "value": "CHART"
         },
         {
          "key": "options",
          "value": {
           "alignYAxesAtZero": true,
           "coefficient": 1,
           "columnConfigurationMap": {
            "x": {
             "column": "test preparation course",
             "id": "column_93df7567116"
            },
            "y": [
             {
              "column": "count",
              "id": "column_93df7567117",
              "transform": "SUM"
             }
            ]
           },
           "dateTimeFormat": "DD/MM/YYYY HH:mm",
           "direction": {
            "type": "counterclockwise"
           },
           "error_y": {
            "type": "data",
            "visible": true
           },
           "globalSeriesType": "pie",
           "legend": {
            "traceorder": "normal"
           },
           "missingValuesAsZero": true,
           "numberFormat": "0,0.[00000]",
           "percentFormat": "0[.]00%",
           "series": {
            "error_y": {
             "type": "data",
             "visible": true
            },
            "stacking": null
           },
           "seriesOptions": {
            "column_93df7567117": {
             "name": "count",
             "type": "pie",
             "yAxis": 0
            }
           },
           "showDataLabels": true,
           "sizemode": "diameter",
           "sortX": true,
           "sortY": true,
           "swappedAxes": false,
           "textFormat": "",
           "useAggregationsUi": true,
           "valuesOptions": {},
           "version": 2,
           "xAxis": {
            "labels": {
             "enabled": true
            },
            "type": "-"
           },
           "yAxis": [
            {
             "type": "-"
            },
            {
             "opposite": true,
             "type": "-"
            }
           ]
          }
         }
        ]
       },
       "datasetPreviewNameToCmdIdMap": {},
       "diffDeletes": [],
       "diffInserts": [],
       "displayType": "redashChart",
       "error": null,
       "errorDetails": null,
       "errorSummary": null,
       "errorTraceType": null,
       "finishTime": 0,
       "globalVars": {},
       "guid": "",
       "height": "auto",
       "hideCommandCode": false,
       "hideCommandResult": false,
       "iPythonMetadata": null,
       "inputWidgets": {},
       "isLockedInExamMode": false,
       "latestUser": "a user",
       "latestUserId": null,
       "listResultMetadata": null,
       "metadata": {},
       "nuid": "da88f4cb-fe5a-4ef9-8284-000323b9d9c4",
       "origId": 0,
       "parentHierarchy": [],
       "pivotAggregation": null,
       "pivotColumns": null,
       "position": 7.0,
       "resultDbfsErrorMessage": null,
       "resultDbfsStatus": "INLINED_IN_TREE",
       "results": null,
       "showCommandTitle": false,
       "startTime": 0,
       "state": "input",
       "streamStates": {},
       "subcommandOptions": {
        "queryPlan": {
         "groups": [
          {
           "column": "test preparation course",
           "type": "column"
          }
         ],
         "selects": [
          {
           "column": "test preparation course",
           "type": "column"
          },
          {
           "alias": "column_93df7567117",
           "args": [
            {
             "column": "count",
             "type": "column"
            }
           ],
           "function": "SUM",
           "type": "function"
          }
         ]
        }
       },
       "submitTime": 0,
       "subtype": "tableResultSubCmd.visualization",
       "tableResultIndex": 0,
       "tableResultSettingsMap": {},
       "useConsistentColors": false,
       "version": "CommandV1",
       "width": "auto",
       "workflows": [],
       "xColumns": null,
       "yColumns": null
      }
     },
     "output_type": "display_data"
    }
   ],
   "source": [
    "result=df.groupBy(\"test preparation course\").count()\n",
    "display(result)"
   ]
  },
  {
   "cell_type": "markdown",
   "metadata": {
    "application/vnd.databricks.v1+cell": {
     "cellMetadata": {},
     "inputWidgets": {},
     "nuid": "e0994a43-8df8-4280-bf2e-5a6466354bbe",
     "showTitle": false,
     "tableResultSettingsMap": {},
     "title": ""
    }
   },
   "source": [
    "Box Plot – Reading Scores by Lunch Type"
   ]
  },
  {
   "cell_type": "code",
   "execution_count": 0,
   "metadata": {
    "application/vnd.databricks.v1+cell": {
     "cellMetadata": {
      "byteLimit": 2048000,
      "rowLimit": 10000
     },
     "inputWidgets": {},
     "nuid": "eb45db4e-72ad-42d5-8c0b-7a27375951e8",
     "showTitle": false,
     "tableResultSettingsMap": {},
     "title": ""
    }
   },
   "outputs": [
    {
     "output_type": "display_data",
     "data": {
      "text/html": [
       "<style scoped>\n",
       "  .table-result-container {\n",
       "    max-height: 300px;\n",
       "    overflow: auto;\n",
       "  }\n",
       "  table, th, td {\n",
       "    border: 1px solid black;\n",
       "    border-collapse: collapse;\n",
       "  }\n",
       "  th, td {\n",
       "    padding: 5px;\n",
       "  }\n",
       "  th {\n",
       "    text-align: left;\n",
       "  }\n",
       "</style><div class='table-result-container'><table class='table-result'><thead style='background-color: white'><tr><th>lunch</th><th>reading score</th></tr></thead><tbody><tr><td>standard</td><td>72</td></tr><tr><td>standard</td><td>90</td></tr><tr><td>standard</td><td>95</td></tr><tr><td>free/reduced</td><td>57</td></tr><tr><td>standard</td><td>78</td></tr><tr><td>standard</td><td>83</td></tr><tr><td>standard</td><td>95</td></tr><tr><td>free/reduced</td><td>43</td></tr><tr><td>free/reduced</td><td>64</td></tr><tr><td>free/reduced</td><td>60</td></tr><tr><td>standard</td><td>54</td></tr><tr><td>standard</td><td>52</td></tr><tr><td>standard</td><td>81</td></tr><tr><td>standard</td><td>72</td></tr><tr><td>standard</td><td>53</td></tr><tr><td>standard</td><td>75</td></tr><tr><td>standard</td><td>89</td></tr><tr><td>free/reduced</td><td>32</td></tr><tr><td>free/reduced</td><td>42</td></tr><tr><td>free/reduced</td><td>58</td></tr><tr><td>standard</td><td>69</td></tr><tr><td>free/reduced</td><td>75</td></tr><tr><td>standard</td><td>54</td></tr><tr><td>standard</td><td>73</td></tr><tr><td>free/reduced</td><td>71</td></tr><tr><td>free/reduced</td><td>74</td></tr><tr><td>standard</td><td>54</td></tr><tr><td>standard</td><td>69</td></tr><tr><td>standard</td><td>70</td></tr><tr><td>standard</td><td>70</td></tr><tr><td>standard</td><td>74</td></tr><tr><td>standard</td><td>65</td></tr><tr><td>free/reduced</td><td>72</td></tr><tr><td>standard</td><td>42</td></tr><tr><td>standard</td><td>87</td></tr><tr><td>standard</td><td>81</td></tr><tr><td>standard</td><td>81</td></tr><tr><td>free/reduced</td><td>64</td></tr><tr><td>free/reduced</td><td>90</td></tr><tr><td>free/reduced</td><td>56</td></tr><tr><td>free/reduced</td><td>61</td></tr><tr><td>standard</td><td>73</td></tr><tr><td>standard</td><td>58</td></tr><tr><td>free/reduced</td><td>65</td></tr><tr><td>free/reduced</td><td>56</td></tr><tr><td>standard</td><td>54</td></tr><tr><td>standard</td><td>65</td></tr><tr><td>standard</td><td>71</td></tr><tr><td>free/reduced</td><td>74</td></tr><tr><td>standard</td><td>84</td></tr><tr><td>standard</td><td>55</td></tr><tr><td>free/reduced</td><td>69</td></tr><tr><td>standard</td><td>44</td></tr><tr><td>standard</td><td>78</td></tr><tr><td>free/reduced</td><td>84</td></tr><tr><td>free/reduced</td><td>41</td></tr><tr><td>standard</td><td>85</td></tr><tr><td>standard</td><td>55</td></tr><tr><td>standard</td><td>59</td></tr><tr><td>free/reduced</td><td>17</td></tr><tr><td>free/reduced</td><td>74</td></tr><tr><td>free/reduced</td><td>39</td></tr><tr><td>free/reduced</td><td>61</td></tr><tr><td>standard</td><td>80</td></tr><tr><td>standard</td><td>58</td></tr><tr><td>standard</td><td>64</td></tr><tr><td>free/reduced</td><td>37</td></tr><tr><td>standard</td><td>72</td></tr><tr><td>free/reduced</td><td>58</td></tr><tr><td>standard</td><td>64</td></tr><tr><td>free/reduced</td><td>63</td></tr><tr><td>standard</td><td>55</td></tr><tr><td>free/reduced</td><td>51</td></tr><tr><td>free/reduced</td><td>57</td></tr><tr><td>standard</td><td>49</td></tr><tr><td>free/reduced</td><td>41</td></tr><tr><td>standard</td><td>26</td></tr><tr><td>standard</td><td>78</td></tr><tr><td>standard</td><td>74</td></tr><tr><td>standard</td><td>68</td></tr><tr><td>standard</td><td>49</td></tr><tr><td>free/reduced</td><td>45</td></tr><tr><td>free/reduced</td><td>47</td></tr><tr><td>standard</td><td>64</td></tr><tr><td>free/reduced</td><td>39</td></tr><tr><td>standard</td><td>80</td></tr><tr><td>free/reduced</td><td>83</td></tr><tr><td>standard</td><td>71</td></tr><tr><td>standard</td><td>70</td></tr><tr><td>standard</td><td>86</td></tr><tr><td>standard</td><td>72</td></tr><tr><td>free/reduced</td><td>34</td></tr><tr><td>standard</td><td>79</td></tr><tr><td>free/reduced</td><td>45</td></tr><tr><td>standard</td><td>86</td></tr><tr><td>free/reduced</td><td>81</td></tr><tr><td>standard</td><td>66</td></tr><tr><td>standard</td><td>72</td></tr><tr><td>free/reduced</td><td>67</td></tr><tr><td>standard</td><td>67</td></tr><tr><td>standard</td><td>67</td></tr><tr><td>standard</td><td>74</td></tr><tr><td>standard</td><td>91</td></tr><tr><td>standard</td><td>44</td></tr><tr><td>standard</td><td>86</td></tr><tr><td>standard</td><td>67</td></tr><tr><td>standard</td><td>100</td></tr><tr><td>standard</td><td>63</td></tr><tr><td>free/reduced</td><td>76</td></tr><tr><td>standard</td><td>64</td></tr><tr><td>free/reduced</td><td>89</td></tr><tr><td>standard</td><td>55</td></tr><tr><td>standard</td><td>53</td></tr><tr><td>standard</td><td>58</td></tr><tr><td>standard</td><td>100</td></tr><tr><td>standard</td><td>77</td></tr><tr><td>free/reduced</td><td>85</td></tr><tr><td>standard</td><td>82</td></tr><tr><td>standard</td><td>63</td></tr><tr><td>standard</td><td>69</td></tr><tr><td>standard</td><td>92</td></tr><tr><td>standard</td><td>89</td></tr><tr><td>standard</td><td>93</td></tr><tr><td>free/reduced</td><td>57</td></tr><tr><td>standard</td><td>80</td></tr><tr><td>standard</td><td>95</td></tr><tr><td>standard</td><td>68</td></tr><tr><td>standard</td><td>77</td></tr><tr><td>standard</td><td>82</td></tr><tr><td>standard</td><td>49</td></tr><tr><td>standard</td><td>84</td></tr><tr><td>free/reduced</td><td>37</td></tr><tr><td>free/reduced</td><td>74</td></tr><tr><td>standard</td><td>81</td></tr><tr><td>free/reduced</td><td>79</td></tr><tr><td>standard</td><td>55</td></tr><tr><td>standard</td><td>54</td></tr><tr><td>standard</td><td>55</td></tr><tr><td>standard</td><td>66</td></tr><tr><td>standard</td><td>61</td></tr><tr><td>standard</td><td>72</td></tr><tr><td>free/reduced</td><td>62</td></tr><tr><td>free/reduced</td><td>55</td></tr><tr><td>standard</td><td>43</td></tr><tr><td>standard</td><td>73</td></tr><tr><td>free/reduced</td><td>39</td></tr><tr><td>standard</td><td>84</td></tr><tr><td>free/reduced</td><td>68</td></tr><tr><td>standard</td><td>75</td></tr><tr><td>free/reduced</td><td>100</td></tr><tr><td>standard</td><td>67</td></tr><tr><td>standard</td><td>67</td></tr><tr><td>standard</td><td>70</td></tr><tr><td>standard</td><td>49</td></tr><tr><td>standard</td><td>67</td></tr><tr><td>standard</td><td>89</td></tr><tr><td>free/reduced</td><td>74</td></tr><tr><td>free/reduced</td><td>60</td></tr><tr><td>standard</td><td>86</td></tr><tr><td>free/reduced</td><td>62</td></tr><tr><td>free/reduced</td><td>78</td></tr><tr><td>free/reduced</td><td>88</td></tr><tr><td>free/reduced</td><td>53</td></tr><tr><td>standard</td><td>53</td></tr><tr><td>standard</td><td>92</td></tr><tr><td>standard</td><td>100</td></tr><tr><td>free/reduced</td><td>51</td></tr><tr><td>free/reduced</td><td>76</td></tr><tr><td>standard</td><td>83</td></tr><tr><td>free/reduced</td><td>75</td></tr><tr><td>standard</td><td>73</td></tr><tr><td>standard</td><td>88</td></tr><tr><td>standard</td><td>86</td></tr><tr><td>standard</td><td>67</td></tr><tr><td>free/reduced</td><td>51</td></tr><tr><td>standard</td><td>91</td></tr><tr><td>free/reduced</td><td>54</td></tr><tr><td>standard</td><td>77</td></tr><tr><td>free/reduced</td><td>70</td></tr><tr><td>standard</td><td>100</td></tr><tr><td>free/reduced</td><td>68</td></tr><tr><td>free/reduced</td><td>64</td></tr><tr><td>standard</td><td>50</td></tr><tr><td>standard</td><td>69</td></tr><tr><td>free/reduced</td><td>52</td></tr><tr><td>free/reduced</td><td>67</td></tr><tr><td>standard</td><td>76</td></tr><tr><td>standard</td><td>66</td></tr><tr><td>free/reduced</td><td>52</td></tr><tr><td>standard</td><td>88</td></tr><tr><td>standard</td><td>65</td></tr><tr><td>standard</td><td>83</td></tr><tr><td>standard</td><td>64</td></tr><tr><td>standard</td><td>62</td></tr><tr><td>standard</td><td>84</td></tr><tr><td>standard</td><td>55</td></tr><tr><td>free/reduced</td><td>69</td></tr><tr><td>free/reduced</td><td>56</td></tr><tr><td>free/reduced</td><td>53</td></tr><tr><td>free/reduced</td><td>79</td></tr><tr><td>standard</td><td>84</td></tr><tr><td>free/reduced</td><td>81</td></tr><tr><td>standard</td><td>77</td></tr><tr><td>standard</td><td>69</td></tr><tr><td>standard</td><td>41</td></tr><tr><td>standard</td><td>71</td></tr><tr><td>standard</td><td>62</td></tr><tr><td>standard</td><td>80</td></tr><tr><td>free/reduced</td><td>81</td></tr><tr><td>free/reduced</td><td>61</td></tr><tr><td>free/reduced</td><td>79</td></tr><tr><td>free/reduced</td><td>28</td></tr><tr><td>free/reduced</td><td>62</td></tr><tr><td>free/reduced</td><td>51</td></tr><tr><td>standard</td><td>91</td></tr><tr><td>standard</td><td>83</td></tr><tr><td>free/reduced</td><td>86</td></tr><tr><td>free/reduced</td><td>42</td></tr><tr><td>free/reduced</td><td>77</td></tr><tr><td>standard</td><td>56</td></tr><tr><td>standard</td><td>68</td></tr><tr><td>standard</td><td>85</td></tr><tr><td>free/reduced</td><td>65</td></tr><tr><td>standard</td><td>80</td></tr><tr><td>standard</td><td>66</td></tr><tr><td>free/reduced</td><td>56</td></tr><tr><td>standard</td><td>72</td></tr><tr><td>standard</td><td>50</td></tr><tr><td>free/reduced</td><td>72</td></tr><tr><td>standard</td><td>95</td></tr><tr><td>standard</td><td>64</td></tr><tr><td>standard</td><td>43</td></tr><tr><td>standard</td><td>86</td></tr><tr><td>standard</td><td>87</td></tr><tr><td>standard</td><td>82</td></tr><tr><td>standard</td><td>75</td></tr><tr><td>free/reduced</td><td>66</td></tr><tr><td>standard</td><td>60</td></tr><tr><td>standard</td><td>52</td></tr><tr><td>standard</td><td>80</td></tr><tr><td>free/reduced</td><td>68</td></tr><tr><td>standard</td><td>83</td></tr><tr><td>standard</td><td>52</td></tr><tr><td>standard</td><td>51</td></tr><tr><td>standard</td><td>74</td></tr><tr><td>standard</td><td>76</td></tr><tr><td>standard</td><td>76</td></tr><tr><td>standard</td><td>70</td></tr><tr><td>standard</td><td>64</td></tr><tr><td>standard</td><td>60</td></tr><tr><td>standard</td><td>49</td></tr><tr><td>free/reduced</td><td>83</td></tr><tr><td>standard</td><td>70</td></tr><tr><td>standard</td><td>80</td></tr><tr><td>standard</td><td>52</td></tr><tr><td>standard</td><td>73</td></tr><tr><td>free/reduced</td><td>73</td></tr><tr><td>standard</td><td>77</td></tr><tr><td>standard</td><td>75</td></tr><tr><td>free/reduced</td><td>81</td></tr><tr><td>free/reduced</td><td>79</td></tr><tr><td>standard</td><td>79</td></tr><tr><td>free/reduced</td><td>50</td></tr><tr><td>standard</td><td>93</td></tr><tr><td>standard</td><td>73</td></tr><tr><td>free/reduced</td><td>42</td></tr><tr><td>standard</td><td>75</td></tr><tr><td>standard</td><td>72</td></tr><tr><td>standard</td><td>92</td></tr><tr><td>free/reduced</td><td>76</td></tr><tr><td>standard</td><td>63</td></tr><tr><td>standard</td><td>49</td></tr><tr><td>free/reduced</td><td>53</td></tr><tr><td>standard</td><td>70</td></tr><tr><td>standard</td><td>85</td></tr><tr><td>standard</td><td>78</td></tr><tr><td>standard</td><td>92</td></tr><tr><td>standard</td><td>63</td></tr><tr><td>free/reduced</td><td>86</td></tr><tr><td>free/reduced</td><td>56</td></tr><tr><td>standard</td><td>52</td></tr><tr><td>standard</td><td>48</td></tr><tr><td>free/reduced</td><td>79</td></tr><tr><td>free/reduced</td><td>78</td></tr><tr><td>standard</td><td>46</td></tr><tr><td>standard</td><td>82</td></tr><tr><td>standard</td><td>82</td></tr><tr><td>standard</td><td>89</td></tr><tr><td>free/reduced</td><td>75</td></tr><tr><td>standard</td><td>76</td></tr><tr><td>standard</td><td>70</td></tr><tr><td>standard</td><td>73</td></tr><tr><td>standard</td><td>60</td></tr><tr><td>standard</td><td>73</td></tr><tr><td>free/reduced</td><td>77</td></tr><tr><td>free/reduced</td><td>62</td></tr><tr><td>standard</td><td>41</td></tr><tr><td>standard</td><td>74</td></tr><tr><td>free/reduced</td><td>46</td></tr><tr><td>free/reduced</td><td>87</td></tr><tr><td>free/reduced</td><td>78</td></tr><tr><td>free/reduced</td><td>54</td></tr><tr><td>standard</td><td>84</td></tr><tr><td>standard</td><td>76</td></tr><tr><td>standard</td><td>75</td></tr><tr><td>standard</td><td>67</td></tr><tr><td>standard</td><td>87</td></tr><tr><td>standard</td><td>52</td></tr><tr><td>free/reduced</td><td>71</td></tr><tr><td>free/reduced</td><td>57</td></tr><tr><td>standard</td><td>76</td></tr><tr><td>standard</td><td>60</td></tr><tr><td>standard</td><td>61</td></tr><tr><td>free/reduced</td><td>67</td></tr><tr><td>standard</td><td>64</td></tr><tr><td>standard</td><td>66</td></tr><tr><td>standard</td><td>82</td></tr><tr><td>standard</td><td>72</td></tr><tr><td>standard</td><td>71</td></tr><tr><td>free/reduced</td><td>65</td></tr><tr><td>free/reduced</td><td>79</td></tr><tr><td>standard</td><td>86</td></tr><tr><td>standard</td><td>81</td></tr><tr><td>free/reduced</td><td>53</td></tr><tr><td>free/reduced</td><td>46</td></tr><tr><td>standard</td><td>90</td></tr><tr><td>standard</td><td>61</td></tr><tr><td>free/reduced</td><td>23</td></tr><tr><td>standard</td><td>75</td></tr><tr><td>standard</td><td>55</td></tr><tr><td>standard</td><td>60</td></tr><tr><td>standard</td><td>37</td></tr><tr><td>standard</td><td>56</td></tr><tr><td>standard</td><td>78</td></tr><tr><td>standard</td><td>93</td></tr><tr><td>free/reduced</td><td>68</td></tr><tr><td>standard</td><td>70</td></tr><tr><td>standard</td><td>51</td></tr><tr><td>free/reduced</td><td>38</td></tr><tr><td>free/reduced</td><td>55</td></tr><tr><td>free/reduced</td><td>61</td></tr><tr><td>standard</td><td>73</td></tr><tr><td>standard</td><td>76</td></tr><tr><td>standard</td><td>72</td></tr><tr><td>standard</td><td>73</td></tr><tr><td>standard</td><td>80</td></tr><tr><td>standard</td><td>61</td></tr><tr><td>standard</td><td>94</td></tr><tr><td>free/reduced</td><td>74</td></tr><tr><td>standard</td><td>74</td></tr><tr><td>standard</td><td>65</td></tr><tr><td>standard</td><td>57</td></tr><tr><td>standard</td><td>78</td></tr><tr><td>standard</td><td>58</td></tr><tr><td>standard</td><td>71</td></tr><tr><td>standard</td><td>72</td></tr><tr><td>standard</td><td>61</td></tr><tr><td>free/reduced</td><td>66</td></tr><tr><td>free/reduced</td><td>62</td></tr><tr><td>standard</td><td>90</td></tr><tr><td>standard</td><td>62</td></tr><tr><td>standard</td><td>84</td></tr><tr><td>standard</td><td>58</td></tr><tr><td>free/reduced</td><td>34</td></tr><tr><td>standard</td><td>60</td></tr><tr><td>free/reduced</td><td>58</td></tr><tr><td>standard</td><td>58</td></tr><tr><td>free/reduced</td><td>66</td></tr><tr><td>free/reduced</td><td>64</td></tr><tr><td>standard</td><td>84</td></tr><tr><td>standard</td><td>77</td></tr><tr><td>free/reduced</td><td>73</td></tr><tr><td>standard</td><td>74</td></tr><tr><td>standard</td><td>97</td></tr><tr><td>standard</td><td>70</td></tr><tr><td>free/reduced</td><td>43</td></tr><tr><td>standard</td><td>90</td></tr><tr><td>free/reduced</td><td>95</td></tr><tr><td>standard</td><td>83</td></tr><tr><td>standard</td><td>64</td></tr><tr><td>standard</td><td>86</td></tr><tr><td>standard</td><td>100</td></tr><tr><td>free/reduced</td><td>81</td></tr><tr><td>free/reduced</td><td>49</td></tr><tr><td>free/reduced</td><td>43</td></tr><tr><td>standard</td><td>76</td></tr><tr><td>standard</td><td>73</td></tr><tr><td>free/reduced</td><td>78</td></tr><tr><td>standard</td><td>64</td></tr><tr><td>standard</td><td>70</td></tr><tr><td>free/reduced</td><td>67</td></tr><tr><td>standard</td><td>68</td></tr><tr><td>standard</td><td>67</td></tr><tr><td>standard</td><td>54</td></tr><tr><td>standard</td><td>74</td></tr><tr><td>free/reduced</td><td>45</td></tr><tr><td>free/reduced</td><td>67</td></tr><tr><td>standard</td><td>89</td></tr><tr><td>standard</td><td>63</td></tr><tr><td>standard</td><td>59</td></tr><tr><td>standard</td><td>54</td></tr><tr><td>standard</td><td>43</td></tr><tr><td>free/reduced</td><td>65</td></tr><tr><td>standard</td><td>99</td></tr><tr><td>standard</td><td>59</td></tr><tr><td>standard</td><td>73</td></tr><tr><td>standard</td><td>65</td></tr><tr><td>standard</td><td>80</td></tr><tr><td>free/reduced</td><td>57</td></tr><tr><td>standard</td><td>84</td></tr><tr><td>standard</td><td>71</td></tr><tr><td>standard</td><td>83</td></tr><tr><td>standard</td><td>66</td></tr><tr><td>standard</td><td>67</td></tr><tr><td>free/reduced</td><td>72</td></tr><tr><td>standard</td><td>73</td></tr><tr><td>standard</td><td>74</td></tr><tr><td>standard</td><td>73</td></tr><tr><td>standard</td><td>59</td></tr><tr><td>free/reduced</td><td>56</td></tr><tr><td>free/reduced</td><td>93</td></tr><tr><td>standard</td><td>58</td></tr><tr><td>free/reduced</td><td>58</td></tr><tr><td>standard</td><td>85</td></tr><tr><td>free/reduced</td><td>39</td></tr><tr><td>free/reduced</td><td>67</td></tr><tr><td>standard</td><td>83</td></tr><tr><td>free/reduced</td><td>71</td></tr><tr><td>free/reduced</td><td>59</td></tr><tr><td>free/reduced</td><td>63</td></tr><tr><td>free/reduced</td><td>66</td></tr><tr><td>standard</td><td>72</td></tr><tr><td>standard</td><td>56</td></tr><tr><td>free/reduced</td><td>59</td></tr><tr><td>standard</td><td>66</td></tr><tr><td>free/reduced</td><td>48</td></tr><tr><td>standard</td><td>68</td></tr><tr><td>free/reduced</td><td>66</td></tr><tr><td>standard</td><td>56</td></tr><tr><td>standard</td><td>88</td></tr><tr><td>standard</td><td>81</td></tr><tr><td>standard</td><td>81</td></tr><tr><td>free/reduced</td><td>73</td></tr><tr><td>standard</td><td>83</td></tr><tr><td>free/reduced</td><td>82</td></tr><tr><td>standard</td><td>74</td></tr><tr><td>free/reduced</td><td>66</td></tr><tr><td>standard</td><td>81</td></tr><tr><td>standard</td><td>46</td></tr><tr><td>standard</td><td>73</td></tr><tr><td>free/reduced</td><td>85</td></tr><tr><td>standard</td><td>92</td></tr><tr><td>free/reduced</td><td>77</td></tr><tr><td>free/reduced</td><td>58</td></tr><tr><td>free/reduced</td><td>61</td></tr><tr><td>free/reduced</td><td>56</td></tr><tr><td>standard</td><td>89</td></tr><tr><td>free/reduced</td><td>54</td></tr><tr><td>standard</td><td>100</td></tr><tr><td>standard</td><td>65</td></tr><tr><td>free/reduced</td><td>58</td></tr><tr><td>free/reduced</td><td>54</td></tr><tr><td>standard</td><td>70</td></tr><tr><td>free/reduced</td><td>90</td></tr><tr><td>standard</td><td>58</td></tr><tr><td>standard</td><td>87</td></tr><tr><td>free/reduced</td><td>31</td></tr><tr><td>free/reduced</td><td>67</td></tr><tr><td>free/reduced</td><td>88</td></tr><tr><td>standard</td><td>74</td></tr><tr><td>standard</td><td>85</td></tr><tr><td>standard</td><td>69</td></tr><tr><td>standard</td><td>86</td></tr><tr><td>standard</td><td>67</td></tr><tr><td>standard</td><td>90</td></tr><tr><td>standard</td><td>76</td></tr><tr><td>standard</td><td>62</td></tr><tr><td>standard</td><td>68</td></tr><tr><td>standard</td><td>64</td></tr><tr><td>standard</td><td>71</td></tr><tr><td>standard</td><td>71</td></tr><tr><td>free/reduced</td><td>59</td></tr><tr><td>free/reduced</td><td>68</td></tr><tr><td>standard</td><td>52</td></tr><tr><td>standard</td><td>52</td></tr><tr><td>standard</td><td>74</td></tr><tr><td>free/reduced</td><td>47</td></tr><tr><td>free/reduced</td><td>75</td></tr><tr><td>standard</td><td>53</td></tr><tr><td>free/reduced</td><td>82</td></tr><tr><td>free/reduced</td><td>85</td></tr><tr><td>standard</td><td>64</td></tr><tr><td>standard</td><td>83</td></tr><tr><td>standard</td><td>88</td></tr><tr><td>standard</td><td>64</td></tr><tr><td>standard</td><td>64</td></tr><tr><td>standard</td><td>48</td></tr><tr><td>free/reduced</td><td>78</td></tr><tr><td>standard</td><td>69</td></tr><tr><td>standard</td><td>71</td></tr><tr><td>standard</td><td>79</td></tr><tr><td>standard</td><td>87</td></tr><tr><td>free/reduced</td><td>61</td></tr><tr><td>standard</td><td>89</td></tr><tr><td>free/reduced</td><td>59</td></tr><tr><td>standard</td><td>82</td></tr><tr><td>standard</td><td>70</td></tr><tr><td>free/reduced</td><td>59</td></tr><tr><td>standard</td><td>78</td></tr><tr><td>standard</td><td>92</td></tr><tr><td>standard</td><td>71</td></tr><tr><td>standard</td><td>50</td></tr><tr><td>free/reduced</td><td>49</td></tr><tr><td>standard</td><td>61</td></tr><tr><td>free/reduced</td><td>97</td></tr><tr><td>standard</td><td>87</td></tr><tr><td>standard</td><td>89</td></tr><tr><td>standard</td><td>74</td></tr><tr><td>standard</td><td>78</td></tr><tr><td>free/reduced</td><td>78</td></tr><tr><td>standard</td><td>49</td></tr><tr><td>standard</td><td>86</td></tr><tr><td>standard</td><td>58</td></tr><tr><td>free/reduced</td><td>59</td></tr><tr><td>standard</td><td>52</td></tr><tr><td>standard</td><td>60</td></tr><tr><td>free/reduced</td><td>61</td></tr><tr><td>free/reduced</td><td>53</td></tr><tr><td>free/reduced</td><td>41</td></tr><tr><td>standard</td><td>74</td></tr><tr><td>standard</td><td>67</td></tr><tr><td>standard</td><td>54</td></tr><tr><td>standard</td><td>61</td></tr><tr><td>standard</td><td>88</td></tr><tr><td>standard</td><td>69</td></tr><tr><td>free/reduced</td><td>83</td></tr><tr><td>standard</td><td>60</td></tr><tr><td>standard</td><td>66</td></tr><tr><td>standard</td><td>66</td></tr><tr><td>standard</td><td>92</td></tr><tr><td>standard</td><td>69</td></tr><tr><td>free/reduced</td><td>82</td></tr><tr><td>standard</td><td>77</td></tr><tr><td>standard</td><td>95</td></tr><tr><td>standard</td><td>63</td></tr><tr><td>free/reduced</td><td>83</td></tr><tr><td>standard</td><td>100</td></tr><tr><td>standard</td><td>67</td></tr><tr><td>free/reduced</td><td>67</td></tr><tr><td>standard</td><td>72</td></tr><tr><td>free/reduced</td><td>76</td></tr><tr><td>free/reduced</td><td>90</td></tr><tr><td>standard</td><td>48</td></tr><tr><td>free/reduced</td><td>62</td></tr><tr><td>standard</td><td>45</td></tr><tr><td>free/reduced</td><td>39</td></tr><tr><td>standard</td><td>72</td></tr><tr><td>free/reduced</td><td>67</td></tr><tr><td>free/reduced</td><td>70</td></tr><tr><td>standard</td><td>66</td></tr><tr><td>standard</td><td>75</td></tr><tr><td>standard</td><td>74</td></tr><tr><td>standard</td><td>90</td></tr><tr><td>free/reduced</td><td>80</td></tr><tr><td>free/reduced</td><td>51</td></tr><tr><td>standard</td><td>43</td></tr><tr><td>free/reduced</td><td>100</td></tr><tr><td>free/reduced</td><td>71</td></tr><tr><td>free/reduced</td><td>48</td></tr><tr><td>free/reduced</td><td>68</td></tr><tr><td>standard</td><td>75</td></tr><tr><td>standard</td><td>96</td></tr><tr><td>standard</td><td>62</td></tr><tr><td>free/reduced</td><td>66</td></tr><tr><td>standard</td><td>81</td></tr><tr><td>free/reduced</td><td>55</td></tr><tr><td>standard</td><td>51</td></tr><tr><td>standard</td><td>91</td></tr><tr><td>free/reduced</td><td>56</td></tr><tr><td>standard</td><td>61</td></tr><tr><td>standard</td><td>97</td></tr><tr><td>standard</td><td>79</td></tr><tr><td>free/reduced</td><td>73</td></tr><tr><td>standard</td><td>75</td></tr><tr><td>standard</td><td>77</td></tr><tr><td>standard</td><td>76</td></tr><tr><td>standard</td><td>73</td></tr><tr><td>free/reduced</td><td>63</td></tr><tr><td>standard</td><td>64</td></tr><tr><td>standard</td><td>66</td></tr><tr><td>free/reduced</td><td>57</td></tr><tr><td>standard</td><td>62</td></tr><tr><td>standard</td><td>68</td></tr><tr><td>standard</td><td>76</td></tr><tr><td>standard</td><td>100</td></tr><tr><td>standard</td><td>79</td></tr><tr><td>free/reduced</td><td>24</td></tr><tr><td>standard</td><td>54</td></tr><tr><td>standard</td><td>77</td></tr><tr><td>standard</td><td>82</td></tr><tr><td>standard</td><td>60</td></tr><tr><td>standard</td><td>29</td></tr><tr><td>standard</td><td>78</td></tr><tr><td>free/reduced</td><td>57</td></tr><tr><td>free/reduced</td><td>89</td></tr><tr><td>standard</td><td>72</td></tr><tr><td>standard</td><td>84</td></tr><tr><td>free/reduced</td><td>58</td></tr><tr><td>standard</td><td>64</td></tr><tr><td>standard</td><td>63</td></tr><tr><td>free/reduced</td><td>60</td></tr><tr><td>standard</td><td>59</td></tr><tr><td>standard</td><td>90</td></tr><tr><td>standard</td><td>77</td></tr><tr><td>standard</td><td>93</td></tr><tr><td>standard</td><td>68</td></tr><tr><td>standard</td><td>45</td></tr><tr><td>standard</td><td>78</td></tr><tr><td>standard</td><td>81</td></tr><tr><td>free/reduced</td><td>73</td></tr><tr><td>free/reduced</td><td>61</td></tr><tr><td>free/reduced</td><td>63</td></tr><tr><td>free/reduced</td><td>51</td></tr><tr><td>standard</td><td>96</td></tr><tr><td>free/reduced</td><td>58</td></tr><tr><td>standard</td><td>97</td></tr><tr><td>free/reduced</td><td>70</td></tr><tr><td>standard</td><td>48</td></tr><tr><td>free/reduced</td><td>57</td></tr><tr><td>standard</td><td>51</td></tr><tr><td>standard</td><td>64</td></tr><tr><td>standard</td><td>60</td></tr><tr><td>standard</td><td>74</td></tr><tr><td>standard</td><td>88</td></tr><tr><td>standard</td><td>84</td></tr><tr><td>standard</td><td>74</td></tr><tr><td>free/reduced</td><td>80</td></tr><tr><td>standard</td><td>92</td></tr><tr><td>standard</td><td>76</td></tr><tr><td>standard</td><td>74</td></tr><tr><td>standard</td><td>52</td></tr><tr><td>free/reduced</td><td>88</td></tr><tr><td>free/reduced</td><td>81</td></tr><tr><td>standard</td><td>79</td></tr><tr><td>standard</td><td>65</td></tr><tr><td>standard</td><td>81</td></tr><tr><td>standard</td><td>70</td></tr><tr><td>free/reduced</td><td>62</td></tr><tr><td>standard</td><td>53</td></tr><tr><td>standard</td><td>79</td></tr><tr><td>free/reduced</td><td>56</td></tr><tr><td>standard</td><td>80</td></tr><tr><td>standard</td><td>86</td></tr><tr><td>standard</td><td>70</td></tr><tr><td>standard</td><td>79</td></tr><tr><td>standard</td><td>67</td></tr><tr><td>free/reduced</td><td>67</td></tr><tr><td>standard</td><td>66</td></tr><tr><td>free/reduced</td><td>60</td></tr><tr><td>standard</td><td>87</td></tr><tr><td>free/reduced</td><td>77</td></tr><tr><td>standard</td><td>66</td></tr><tr><td>free/reduced</td><td>71</td></tr><tr><td>standard</td><td>69</td></tr><tr><td>standard</td><td>63</td></tr><tr><td>free/reduced</td><td>60</td></tr><tr><td>free/reduced</td><td>73</td></tr><tr><td>free/reduced</td><td>85</td></tr><tr><td>standard</td><td>74</td></tr><tr><td>standard</td><td>72</td></tr><tr><td>free/reduced</td><td>76</td></tr><tr><td>free/reduced</td><td>57</td></tr><tr><td>standard</td><td>78</td></tr><tr><td>standard</td><td>84</td></tr><tr><td>standard</td><td>77</td></tr><tr><td>standard</td><td>64</td></tr><tr><td>standard</td><td>78</td></tr><tr><td>standard</td><td>82</td></tr><tr><td>free/reduced</td><td>75</td></tr><tr><td>free/reduced</td><td>61</td></tr><tr><td>standard</td><td>72</td></tr><tr><td>standard</td><td>68</td></tr><tr><td>standard</td><td>55</td></tr><tr><td>free/reduced</td><td>40</td></tr><tr><td>standard</td><td>66</td></tr><tr><td>standard</td><td>99</td></tr><tr><td>standard</td><td>75</td></tr><tr><td>free/reduced</td><td>78</td></tr><tr><td>free/reduced</td><td>58</td></tr><tr><td>free/reduced</td><td>90</td></tr><tr><td>standard</td><td>53</td></tr><tr><td>free/reduced</td><td>76</td></tr><tr><td>free/reduced</td><td>74</td></tr><tr><td>standard</td><td>77</td></tr><tr><td>standard</td><td>63</td></tr><tr><td>free/reduced</td><td>89</td></tr><tr><td>standard</td><td>82</td></tr><tr><td>standard</td><td>72</td></tr><tr><td>standard</td><td>78</td></tr><tr><td>free/reduced</td><td>66</td></tr><tr><td>standard</td><td>81</td></tr><tr><td>standard</td><td>67</td></tr><tr><td>standard</td><td>84</td></tr><tr><td>standard</td><td>64</td></tr><tr><td>free/reduced</td><td>63</td></tr><tr><td>free/reduced</td><td>72</td></tr><tr><td>standard</td><td>34</td></tr><tr><td>standard</td><td>59</td></tr><tr><td>standard</td><td>87</td></tr><tr><td>free/reduced</td><td>61</td></tr><tr><td>standard</td><td>84</td></tr><tr><td>standard</td><td>85</td></tr><tr><td>standard</td><td>100</td></tr><tr><td>standard</td><td>81</td></tr><tr><td>standard</td><td>70</td></tr><tr><td>free/reduced</td><td>94</td></tr><tr><td>standard</td><td>78</td></tr><tr><td>standard</td><td>96</td></tr><tr><td>standard</td><td>76</td></tr><tr><td>free/reduced</td><td>73</td></tr><tr><td>free/reduced</td><td>72</td></tr><tr><td>free/reduced</td><td>59</td></tr><tr><td>free/reduced</td><td>90</td></tr><tr><td>standard</td><td>48</td></tr><tr><td>standard</td><td>43</td></tr><tr><td>standard</td><td>74</td></tr><tr><td>standard</td><td>75</td></tr><tr><td>standard</td><td>51</td></tr><tr><td>free/reduced</td><td>92</td></tr><tr><td>standard</td><td>39</td></tr><tr><td>free/reduced</td><td>77</td></tr><tr><td>free/reduced</td><td>46</td></tr><tr><td>standard</td><td>89</td></tr><tr><td>standard</td><td>47</td></tr><tr><td>free/reduced</td><td>58</td></tr><tr><td>standard</td><td>57</td></tr><tr><td>standard</td><td>79</td></tr><tr><td>free/reduced</td><td>66</td></tr><tr><td>standard</td><td>71</td></tr><tr><td>free/reduced</td><td>60</td></tr><tr><td>standard</td><td>73</td></tr><tr><td>free/reduced</td><td>57</td></tr><tr><td>standard</td><td>84</td></tr><tr><td>standard</td><td>73</td></tr><tr><td>free/reduced</td><td>55</td></tr><tr><td>standard</td><td>79</td></tr><tr><td>standard</td><td>75</td></tr><tr><td>standard</td><td>64</td></tr><tr><td>free/reduced</td><td>60</td></tr><tr><td>standard</td><td>84</td></tr><tr><td>standard</td><td>69</td></tr><tr><td>standard</td><td>72</td></tr><tr><td>free/reduced</td><td>77</td></tr><tr><td>standard</td><td>90</td></tr><tr><td>free/reduced</td><td>55</td></tr><tr><td>standard</td><td>95</td></tr><tr><td>standard</td><td>58</td></tr><tr><td>free/reduced</td><td>68</td></tr><tr><td>free/reduced</td><td>59</td></tr><tr><td>standard</td><td>77</td></tr><tr><td>free/reduced</td><td>72</td></tr><tr><td>standard</td><td>58</td></tr><tr><td>standard</td><td>81</td></tr><tr><td>standard</td><td>62</td></tr><tr><td>standard</td><td>63</td></tr><tr><td>standard</td><td>72</td></tr><tr><td>standard</td><td>75</td></tr><tr><td>standard</td><td>62</td></tr><tr><td>standard</td><td>71</td></tr><tr><td>free/reduced</td><td>60</td></tr><tr><td>standard</td><td>48</td></tr><tr><td>standard</td><td>73</td></tr><tr><td>free/reduced</td><td>67</td></tr><tr><td>free/reduced</td><td>78</td></tr><tr><td>standard</td><td>65</td></tr><tr><td>free/reduced</td><td>58</td></tr><tr><td>standard</td><td>72</td></tr><tr><td>free/reduced</td><td>44</td></tr><tr><td>standard</td><td>79</td></tr><tr><td>standard</td><td>85</td></tr><tr><td>free/reduced</td><td>56</td></tr><tr><td>standard</td><td>90</td></tr><tr><td>free/reduced</td><td>85</td></tr><tr><td>standard</td><td>59</td></tr><tr><td>standard</td><td>81</td></tr><tr><td>standard</td><td>51</td></tr><tr><td>free/reduced</td><td>79</td></tr><tr><td>standard</td><td>38</td></tr><tr><td>free/reduced</td><td>65</td></tr><tr><td>free/reduced</td><td>65</td></tr><tr><td>standard</td><td>62</td></tr><tr><td>free/reduced</td><td>66</td></tr><tr><td>free/reduced</td><td>74</td></tr><tr><td>standard</td><td>84</td></tr><tr><td>standard</td><td>52</td></tr><tr><td>free/reduced</td><td>68</td></tr><tr><td>standard</td><td>70</td></tr><tr><td>free/reduced</td><td>84</td></tr><tr><td>standard</td><td>60</td></tr><tr><td>standard</td><td>55</td></tr><tr><td>standard</td><td>73</td></tr><tr><td>standard</td><td>80</td></tr><tr><td>standard</td><td>94</td></tr><tr><td>standard</td><td>85</td></tr><tr><td>standard</td><td>76</td></tr><tr><td>free/reduced</td><td>81</td></tr><tr><td>free/reduced</td><td>74</td></tr><tr><td>free/reduced</td><td>45</td></tr><tr><td>standard</td><td>75</td></tr><tr><td>standard</td><td>54</td></tr><tr><td>standard</td><td>31</td></tr><tr><td>free/reduced</td><td>47</td></tr><tr><td>standard</td><td>64</td></tr><tr><td>standard</td><td>84</td></tr><tr><td>standard</td><td>80</td></tr><tr><td>standard</td><td>86</td></tr><tr><td>standard</td><td>59</td></tr><tr><td>free/reduced</td><td>70</td></tr><tr><td>free/reduced</td><td>72</td></tr><tr><td>standard</td><td>91</td></tr><tr><td>standard</td><td>90</td></tr><tr><td>free/reduced</td><td>90</td></tr><tr><td>free/reduced</td><td>52</td></tr><tr><td>free/reduced</td><td>87</td></tr><tr><td>free/reduced</td><td>58</td></tr><tr><td>standard</td><td>67</td></tr><tr><td>free/reduced</td><td>68</td></tr><tr><td>standard</td><td>69</td></tr><tr><td>free/reduced</td><td>86</td></tr><tr><td>standard</td><td>54</td></tr><tr><td>free/reduced</td><td>60</td></tr><tr><td>free/reduced</td><td>86</td></tr><tr><td>standard</td><td>60</td></tr><tr><td>standard</td><td>82</td></tr><tr><td>standard</td><td>50</td></tr><tr><td>standard</td><td>64</td></tr><tr><td>standard</td><td>64</td></tr><tr><td>standard</td><td>82</td></tr><tr><td>free/reduced</td><td>57</td></tr><tr><td>standard</td><td>77</td></tr><tr><td>free/reduced</td><td>52</td></tr><tr><td>standard</td><td>58</td></tr><tr><td>free/reduced</td><td>44</td></tr><tr><td>free/reduced</td><td>77</td></tr><tr><td>free/reduced</td><td>65</td></tr><tr><td>standard</td><td>85</td></tr><tr><td>standard</td><td>85</td></tr><tr><td>standard</td><td>54</td></tr><tr><td>standard</td><td>72</td></tr><tr><td>standard</td><td>75</td></tr><tr><td>standard</td><td>67</td></tr><tr><td>standard</td><td>68</td></tr><tr><td>standard</td><td>85</td></tr><tr><td>standard</td><td>67</td></tr><tr><td>standard</td><td>64</td></tr><tr><td>standard</td><td>97</td></tr><tr><td>free/reduced</td><td>68</td></tr><tr><td>standard</td><td>79</td></tr><tr><td>standard</td><td>49</td></tr><tr><td>free/reduced</td><td>73</td></tr><tr><td>standard</td><td>62</td></tr><tr><td>free/reduced</td><td>86</td></tr><tr><td>free/reduced</td><td>42</td></tr><tr><td>standard</td><td>71</td></tr><tr><td>standard</td><td>93</td></tr><tr><td>standard</td><td>82</td></tr><tr><td>free/reduced</td><td>53</td></tr><tr><td>standard</td><td>42</td></tr><tr><td>free/reduced</td><td>74</td></tr><tr><td>free/reduced</td><td>51</td></tr><tr><td>standard</td><td>58</td></tr><tr><td>standard</td><td>72</td></tr><tr><td>standard</td><td>84</td></tr><tr><td>free/reduced</td><td>90</td></tr><tr><td>free/reduced</td><td>62</td></tr><tr><td>free/reduced</td><td>64</td></tr><tr><td>standard</td><td>82</td></tr><tr><td>standard</td><td>61</td></tr><tr><td>standard</td><td>72</td></tr><tr><td>standard</td><td>76</td></tr><tr><td>standard</td><td>64</td></tr><tr><td>standard</td><td>70</td></tr><tr><td>free/reduced</td><td>73</td></tr><tr><td>free/reduced</td><td>46</td></tr><tr><td>standard</td><td>51</td></tr><tr><td>standard</td><td>76</td></tr><tr><td>standard</td><td>100</td></tr><tr><td>free/reduced</td><td>72</td></tr><tr><td>free/reduced</td><td>65</td></tr><tr><td>free/reduced</td><td>51</td></tr><tr><td>standard</td><td>85</td></tr><tr><td>standard</td><td>92</td></tr><tr><td>free/reduced</td><td>67</td></tr><tr><td>standard</td><td>74</td></tr><tr><td>standard</td><td>62</td></tr><tr><td>free/reduced</td><td>34</td></tr><tr><td>free/reduced</td><td>29</td></tr><tr><td>free/reduced</td><td>78</td></tr><tr><td>standard</td><td>54</td></tr><tr><td>standard</td><td>78</td></tr><tr><td>standard</td><td>84</td></tr><tr><td>standard</td><td>78</td></tr><tr><td>free/reduced</td><td>48</td></tr><tr><td>free/reduced</td><td>100</td></tr><tr><td>free/reduced</td><td>84</td></tr><tr><td>standard</td><td>77</td></tr><tr><td>standard</td><td>48</td></tr><tr><td>standard</td><td>84</td></tr><tr><td>free/reduced</td><td>75</td></tr><tr><td>standard</td><td>64</td></tr><tr><td>free/reduced</td><td>42</td></tr><tr><td>standard</td><td>84</td></tr><tr><td>standard</td><td>61</td></tr><tr><td>free/reduced</td><td>62</td></tr><tr><td>free/reduced</td><td>61</td></tr><tr><td>standard</td><td>70</td></tr><tr><td>standard</td><td>100</td></tr><tr><td>standard</td><td>61</td></tr><tr><td>standard</td><td>77</td></tr><tr><td>standard</td><td>96</td></tr><tr><td>free/reduced</td><td>70</td></tr><tr><td>free/reduced</td><td>53</td></tr><tr><td>standard</td><td>66</td></tr><tr><td>free/reduced</td><td>65</td></tr><tr><td>free/reduced</td><td>70</td></tr><tr><td>standard</td><td>64</td></tr><tr><td>free/reduced</td><td>56</td></tr><tr><td>free/reduced</td><td>61</td></tr><tr><td>free/reduced</td><td>43</td></tr><tr><td>free/reduced</td><td>56</td></tr><tr><td>free/reduced</td><td>74</td></tr><tr><td>free/reduced</td><td>57</td></tr><tr><td>free/reduced</td><td>71</td></tr><tr><td>free/reduced</td><td>75</td></tr><tr><td>standard</td><td>87</td></tr><tr><td>free/reduced</td><td>63</td></tr><tr><td>standard</td><td>57</td></tr><tr><td>free/reduced</td><td>58</td></tr><tr><td>standard</td><td>81</td></tr><tr><td>standard</td><td>68</td></tr><tr><td>free/reduced</td><td>66</td></tr><tr><td>standard</td><td>91</td></tr><tr><td>standard</td><td>66</td></tr><tr><td>free/reduced</td><td>62</td></tr><tr><td>standard</td><td>68</td></tr><tr><td>standard</td><td>61</td></tr><tr><td>standard</td><td>82</td></tr><tr><td>free/reduced</td><td>58</td></tr><tr><td>free/reduced</td><td>50</td></tr><tr><td>free/reduced</td><td>75</td></tr><tr><td>standard</td><td>73</td></tr><tr><td>standard</td><td>77</td></tr><tr><td>free/reduced</td><td>74</td></tr><tr><td>standard</td><td>52</td></tr><tr><td>standard</td><td>69</td></tr><tr><td>standard</td><td>57</td></tr><tr><td>standard</td><td>87</td></tr><tr><td>standard</td><td>100</td></tr><tr><td>standard</td><td>63</td></tr><tr><td>standard</td><td>81</td></tr><tr><td>standard</td><td>58</td></tr><tr><td>free/reduced</td><td>54</td></tr><tr><td>standard</td><td>100</td></tr><tr><td>free/reduced</td><td>76</td></tr><tr><td>standard</td><td>57</td></tr><tr><td>standard</td><td>70</td></tr><tr><td>standard</td><td>68</td></tr><tr><td>standard</td><td>63</td></tr><tr><td>standard</td><td>76</td></tr><tr><td>standard</td><td>84</td></tr><tr><td>standard</td><td>100</td></tr><tr><td>standard</td><td>72</td></tr><tr><td>free/reduced</td><td>50</td></tr><tr><td>free/reduced</td><td>65</td></tr><tr><td>standard</td><td>63</td></tr><tr><td>standard</td><td>82</td></tr><tr><td>free/reduced</td><td>62</td></tr><tr><td>standard</td><td>65</td></tr><tr><td>standard</td><td>41</td></tr><tr><td>standard</td><td>95</td></tr><tr><td>free/reduced</td><td>24</td></tr><tr><td>standard</td><td>78</td></tr><tr><td>standard</td><td>85</td></tr><tr><td>standard</td><td>87</td></tr><tr><td>standard</td><td>75</td></tr><tr><td>standard</td><td>51</td></tr><tr><td>standard</td><td>59</td></tr><tr><td>standard</td><td>75</td></tr><tr><td>free/reduced</td><td>45</td></tr><tr><td>free/reduced</td><td>86</td></tr><tr><td>free/reduced</td><td>81</td></tr><tr><td>standard</td><td>82</td></tr><tr><td>free/reduced</td><td>76</td></tr><tr><td>free/reduced</td><td>72</td></tr><tr><td>standard</td><td>63</td></tr><tr><td>standard</td><td>99</td></tr><tr><td>free/reduced</td><td>55</td></tr><tr><td>free/reduced</td><td>71</td></tr><tr><td>standard</td><td>78</td></tr><tr><td>free/reduced</td><td>86</td></tr></tbody></table></div>"
      ]
     },
     "metadata": {
      "application/vnd.databricks.v1+output": {
       "addedWidgets": {},
       "aggData": [],
       "aggError": "",
       "aggOverflow": false,
       "aggSchema": [],
       "aggSeriesLimitReached": false,
       "aggType": "",
       "arguments": {},
       "columnCustomDisplayInfos": {},
       "data": [
        [
         "standard",
         72
        ],
        [
         "standard",
         90
        ],
        [
         "standard",
         95
        ],
        [
         "free/reduced",
         57
        ],
        [
         "standard",
         78
        ],
        [
         "standard",
         83
        ],
        [
         "standard",
         95
        ],
        [
         "free/reduced",
         43
        ],
        [
         "free/reduced",
         64
        ],
        [
         "free/reduced",
         60
        ],
        [
         "standard",
         54
        ],
        [
         "standard",
         52
        ],
        [
         "standard",
         81
        ],
        [
         "standard",
         72
        ],
        [
         "standard",
         53
        ],
        [
         "standard",
         75
        ],
        [
         "standard",
         89
        ],
        [
         "free/reduced",
         32
        ],
        [
         "free/reduced",
         42
        ],
        [
         "free/reduced",
         58
        ],
        [
         "standard",
         69
        ],
        [
         "free/reduced",
         75
        ],
        [
         "standard",
         54
        ],
        [
         "standard",
         73
        ],
        [
         "free/reduced",
         71
        ],
        [
         "free/reduced",
         74
        ],
        [
         "standard",
         54
        ],
        [
         "standard",
         69
        ],
        [
         "standard",
         70
        ],
        [
         "standard",
         70
        ],
        [
         "standard",
         74
        ],
        [
         "standard",
         65
        ],
        [
         "free/reduced",
         72
        ],
        [
         "standard",
         42
        ],
        [
         "standard",
         87
        ],
        [
         "standard",
         81
        ],
        [
         "standard",
         81
        ],
        [
         "free/reduced",
         64
        ],
        [
         "free/reduced",
         90
        ],
        [
         "free/reduced",
         56
        ],
        [
         "free/reduced",
         61
        ],
        [
         "standard",
         73
        ],
        [
         "standard",
         58
        ],
        [
         "free/reduced",
         65
        ],
        [
         "free/reduced",
         56
        ],
        [
         "standard",
         54
        ],
        [
         "standard",
         65
        ],
        [
         "standard",
         71
        ],
        [
         "free/reduced",
         74
        ],
        [
         "standard",
         84
        ],
        [
         "standard",
         55
        ],
        [
         "free/reduced",
         69
        ],
        [
         "standard",
         44
        ],
        [
         "standard",
         78
        ],
        [
         "free/reduced",
         84
        ],
        [
         "free/reduced",
         41
        ],
        [
         "standard",
         85
        ],
        [
         "standard",
         55
        ],
        [
         "standard",
         59
        ],
        [
         "free/reduced",
         17
        ],
        [
         "free/reduced",
         74
        ],
        [
         "free/reduced",
         39
        ],
        [
         "free/reduced",
         61
        ],
        [
         "standard",
         80
        ],
        [
         "standard",
         58
        ],
        [
         "standard",
         64
        ],
        [
         "free/reduced",
         37
        ],
        [
         "standard",
         72
        ],
        [
         "free/reduced",
         58
        ],
        [
         "standard",
         64
        ],
        [
         "free/reduced",
         63
        ],
        [
         "standard",
         55
        ],
        [
         "free/reduced",
         51
        ],
        [
         "free/reduced",
         57
        ],
        [
         "standard",
         49
        ],
        [
         "free/reduced",
         41
        ],
        [
         "standard",
         26
        ],
        [
         "standard",
         78
        ],
        [
         "standard",
         74
        ],
        [
         "standard",
         68
        ],
        [
         "standard",
         49
        ],
        [
         "free/reduced",
         45
        ],
        [
         "free/reduced",
         47
        ],
        [
         "standard",
         64
        ],
        [
         "free/reduced",
         39
        ],
        [
         "standard",
         80
        ],
        [
         "free/reduced",
         83
        ],
        [
         "standard",
         71
        ],
        [
         "standard",
         70
        ],
        [
         "standard",
         86
        ],
        [
         "standard",
         72
        ],
        [
         "free/reduced",
         34
        ],
        [
         "standard",
         79
        ],
        [
         "free/reduced",
         45
        ],
        [
         "standard",
         86
        ],
        [
         "free/reduced",
         81
        ],
        [
         "standard",
         66
        ],
        [
         "standard",
         72
        ],
        [
         "free/reduced",
         67
        ],
        [
         "standard",
         67
        ],
        [
         "standard",
         67
        ],
        [
         "standard",
         74
        ],
        [
         "standard",
         91
        ],
        [
         "standard",
         44
        ],
        [
         "standard",
         86
        ],
        [
         "standard",
         67
        ],
        [
         "standard",
         100
        ],
        [
         "standard",
         63
        ],
        [
         "free/reduced",
         76
        ],
        [
         "standard",
         64
        ],
        [
         "free/reduced",
         89
        ],
        [
         "standard",
         55
        ],
        [
         "standard",
         53
        ],
        [
         "standard",
         58
        ],
        [
         "standard",
         100
        ],
        [
         "standard",
         77
        ],
        [
         "free/reduced",
         85
        ],
        [
         "standard",
         82
        ],
        [
         "standard",
         63
        ],
        [
         "standard",
         69
        ],
        [
         "standard",
         92
        ],
        [
         "standard",
         89
        ],
        [
         "standard",
         93
        ],
        [
         "free/reduced",
         57
        ],
        [
         "standard",
         80
        ],
        [
         "standard",
         95
        ],
        [
         "standard",
         68
        ],
        [
         "standard",
         77
        ],
        [
         "standard",
         82
        ],
        [
         "standard",
         49
        ],
        [
         "standard",
         84
        ],
        [
         "free/reduced",
         37
        ],
        [
         "free/reduced",
         74
        ],
        [
         "standard",
         81
        ],
        [
         "free/reduced",
         79
        ],
        [
         "standard",
         55
        ],
        [
         "standard",
         54
        ],
        [
         "standard",
         55
        ],
        [
         "standard",
         66
        ],
        [
         "standard",
         61
        ],
        [
         "standard",
         72
        ],
        [
         "free/reduced",
         62
        ],
        [
         "free/reduced",
         55
        ],
        [
         "standard",
         43
        ],
        [
         "standard",
         73
        ],
        [
         "free/reduced",
         39
        ],
        [
         "standard",
         84
        ],
        [
         "free/reduced",
         68
        ],
        [
         "standard",
         75
        ],
        [
         "free/reduced",
         100
        ],
        [
         "standard",
         67
        ],
        [
         "standard",
         67
        ],
        [
         "standard",
         70
        ],
        [
         "standard",
         49
        ],
        [
         "standard",
         67
        ],
        [
         "standard",
         89
        ],
        [
         "free/reduced",
         74
        ],
        [
         "free/reduced",
         60
        ],
        [
         "standard",
         86
        ],
        [
         "free/reduced",
         62
        ],
        [
         "free/reduced",
         78
        ],
        [
         "free/reduced",
         88
        ],
        [
         "free/reduced",
         53
        ],
        [
         "standard",
         53
        ],
        [
         "standard",
         92
        ],
        [
         "standard",
         100
        ],
        [
         "free/reduced",
         51
        ],
        [
         "free/reduced",
         76
        ],
        [
         "standard",
         83
        ],
        [
         "free/reduced",
         75
        ],
        [
         "standard",
         73
        ],
        [
         "standard",
         88
        ],
        [
         "standard",
         86
        ],
        [
         "standard",
         67
        ],
        [
         "free/reduced",
         51
        ],
        [
         "standard",
         91
        ],
        [
         "free/reduced",
         54
        ],
        [
         "standard",
         77
        ],
        [
         "free/reduced",
         70
        ],
        [
         "standard",
         100
        ],
        [
         "free/reduced",
         68
        ],
        [
         "free/reduced",
         64
        ],
        [
         "standard",
         50
        ],
        [
         "standard",
         69
        ],
        [
         "free/reduced",
         52
        ],
        [
         "free/reduced",
         67
        ],
        [
         "standard",
         76
        ],
        [
         "standard",
         66
        ],
        [
         "free/reduced",
         52
        ],
        [
         "standard",
         88
        ],
        [
         "standard",
         65
        ],
        [
         "standard",
         83
        ],
        [
         "standard",
         64
        ],
        [
         "standard",
         62
        ],
        [
         "standard",
         84
        ],
        [
         "standard",
         55
        ],
        [
         "free/reduced",
         69
        ],
        [
         "free/reduced",
         56
        ],
        [
         "free/reduced",
         53
        ],
        [
         "free/reduced",
         79
        ],
        [
         "standard",
         84
        ],
        [
         "free/reduced",
         81
        ],
        [
         "standard",
         77
        ],
        [
         "standard",
         69
        ],
        [
         "standard",
         41
        ],
        [
         "standard",
         71
        ],
        [
         "standard",
         62
        ],
        [
         "standard",
         80
        ],
        [
         "free/reduced",
         81
        ],
        [
         "free/reduced",
         61
        ],
        [
         "free/reduced",
         79
        ],
        [
         "free/reduced",
         28
        ],
        [
         "free/reduced",
         62
        ],
        [
         "free/reduced",
         51
        ],
        [
         "standard",
         91
        ],
        [
         "standard",
         83
        ],
        [
         "free/reduced",
         86
        ],
        [
         "free/reduced",
         42
        ],
        [
         "free/reduced",
         77
        ],
        [
         "standard",
         56
        ],
        [
         "standard",
         68
        ],
        [
         "standard",
         85
        ],
        [
         "free/reduced",
         65
        ],
        [
         "standard",
         80
        ],
        [
         "standard",
         66
        ],
        [
         "free/reduced",
         56
        ],
        [
         "standard",
         72
        ],
        [
         "standard",
         50
        ],
        [
         "free/reduced",
         72
        ],
        [
         "standard",
         95
        ],
        [
         "standard",
         64
        ],
        [
         "standard",
         43
        ],
        [
         "standard",
         86
        ],
        [
         "standard",
         87
        ],
        [
         "standard",
         82
        ],
        [
         "standard",
         75
        ],
        [
         "free/reduced",
         66
        ],
        [
         "standard",
         60
        ],
        [
         "standard",
         52
        ],
        [
         "standard",
         80
        ],
        [
         "free/reduced",
         68
        ],
        [
         "standard",
         83
        ],
        [
         "standard",
         52
        ],
        [
         "standard",
         51
        ],
        [
         "standard",
         74
        ],
        [
         "standard",
         76
        ],
        [
         "standard",
         76
        ],
        [
         "standard",
         70
        ],
        [
         "standard",
         64
        ],
        [
         "standard",
         60
        ],
        [
         "standard",
         49
        ],
        [
         "free/reduced",
         83
        ],
        [
         "standard",
         70
        ],
        [
         "standard",
         80
        ],
        [
         "standard",
         52
        ],
        [
         "standard",
         73
        ],
        [
         "free/reduced",
         73
        ],
        [
         "standard",
         77
        ],
        [
         "standard",
         75
        ],
        [
         "free/reduced",
         81
        ],
        [
         "free/reduced",
         79
        ],
        [
         "standard",
         79
        ],
        [
         "free/reduced",
         50
        ],
        [
         "standard",
         93
        ],
        [
         "standard",
         73
        ],
        [
         "free/reduced",
         42
        ],
        [
         "standard",
         75
        ],
        [
         "standard",
         72
        ],
        [
         "standard",
         92
        ],
        [
         "free/reduced",
         76
        ],
        [
         "standard",
         63
        ],
        [
         "standard",
         49
        ],
        [
         "free/reduced",
         53
        ],
        [
         "standard",
         70
        ],
        [
         "standard",
         85
        ],
        [
         "standard",
         78
        ],
        [
         "standard",
         92
        ],
        [
         "standard",
         63
        ],
        [
         "free/reduced",
         86
        ],
        [
         "free/reduced",
         56
        ],
        [
         "standard",
         52
        ],
        [
         "standard",
         48
        ],
        [
         "free/reduced",
         79
        ],
        [
         "free/reduced",
         78
        ],
        [
         "standard",
         46
        ],
        [
         "standard",
         82
        ],
        [
         "standard",
         82
        ],
        [
         "standard",
         89
        ],
        [
         "free/reduced",
         75
        ],
        [
         "standard",
         76
        ],
        [
         "standard",
         70
        ],
        [
         "standard",
         73
        ],
        [
         "standard",
         60
        ],
        [
         "standard",
         73
        ],
        [
         "free/reduced",
         77
        ],
        [
         "free/reduced",
         62
        ],
        [
         "standard",
         41
        ],
        [
         "standard",
         74
        ],
        [
         "free/reduced",
         46
        ],
        [
         "free/reduced",
         87
        ],
        [
         "free/reduced",
         78
        ],
        [
         "free/reduced",
         54
        ],
        [
         "standard",
         84
        ],
        [
         "standard",
         76
        ],
        [
         "standard",
         75
        ],
        [
         "standard",
         67
        ],
        [
         "standard",
         87
        ],
        [
         "standard",
         52
        ],
        [
         "free/reduced",
         71
        ],
        [
         "free/reduced",
         57
        ],
        [
         "standard",
         76
        ],
        [
         "standard",
         60
        ],
        [
         "standard",
         61
        ],
        [
         "free/reduced",
         67
        ],
        [
         "standard",
         64
        ],
        [
         "standard",
         66
        ],
        [
         "standard",
         82
        ],
        [
         "standard",
         72
        ],
        [
         "standard",
         71
        ],
        [
         "free/reduced",
         65
        ],
        [
         "free/reduced",
         79
        ],
        [
         "standard",
         86
        ],
        [
         "standard",
         81
        ],
        [
         "free/reduced",
         53
        ],
        [
         "free/reduced",
         46
        ],
        [
         "standard",
         90
        ],
        [
         "standard",
         61
        ],
        [
         "free/reduced",
         23
        ],
        [
         "standard",
         75
        ],
        [
         "standard",
         55
        ],
        [
         "standard",
         60
        ],
        [
         "standard",
         37
        ],
        [
         "standard",
         56
        ],
        [
         "standard",
         78
        ],
        [
         "standard",
         93
        ],
        [
         "free/reduced",
         68
        ],
        [
         "standard",
         70
        ],
        [
         "standard",
         51
        ],
        [
         "free/reduced",
         38
        ],
        [
         "free/reduced",
         55
        ],
        [
         "free/reduced",
         61
        ],
        [
         "standard",
         73
        ],
        [
         "standard",
         76
        ],
        [
         "standard",
         72
        ],
        [
         "standard",
         73
        ],
        [
         "standard",
         80
        ],
        [
         "standard",
         61
        ],
        [
         "standard",
         94
        ],
        [
         "free/reduced",
         74
        ],
        [
         "standard",
         74
        ],
        [
         "standard",
         65
        ],
        [
         "standard",
         57
        ],
        [
         "standard",
         78
        ],
        [
         "standard",
         58
        ],
        [
         "standard",
         71
        ],
        [
         "standard",
         72
        ],
        [
         "standard",
         61
        ],
        [
         "free/reduced",
         66
        ],
        [
         "free/reduced",
         62
        ],
        [
         "standard",
         90
        ],
        [
         "standard",
         62
        ],
        [
         "standard",
         84
        ],
        [
         "standard",
         58
        ],
        [
         "free/reduced",
         34
        ],
        [
         "standard",
         60
        ],
        [
         "free/reduced",
         58
        ],
        [
         "standard",
         58
        ],
        [
         "free/reduced",
         66
        ],
        [
         "free/reduced",
         64
        ],
        [
         "standard",
         84
        ],
        [
         "standard",
         77
        ],
        [
         "free/reduced",
         73
        ],
        [
         "standard",
         74
        ],
        [
         "standard",
         97
        ],
        [
         "standard",
         70
        ],
        [
         "free/reduced",
         43
        ],
        [
         "standard",
         90
        ],
        [
         "free/reduced",
         95
        ],
        [
         "standard",
         83
        ],
        [
         "standard",
         64
        ],
        [
         "standard",
         86
        ],
        [
         "standard",
         100
        ],
        [
         "free/reduced",
         81
        ],
        [
         "free/reduced",
         49
        ],
        [
         "free/reduced",
         43
        ],
        [
         "standard",
         76
        ],
        [
         "standard",
         73
        ],
        [
         "free/reduced",
         78
        ],
        [
         "standard",
         64
        ],
        [
         "standard",
         70
        ],
        [
         "free/reduced",
         67
        ],
        [
         "standard",
         68
        ],
        [
         "standard",
         67
        ],
        [
         "standard",
         54
        ],
        [
         "standard",
         74
        ],
        [
         "free/reduced",
         45
        ],
        [
         "free/reduced",
         67
        ],
        [
         "standard",
         89
        ],
        [
         "standard",
         63
        ],
        [
         "standard",
         59
        ],
        [
         "standard",
         54
        ],
        [
         "standard",
         43
        ],
        [
         "free/reduced",
         65
        ],
        [
         "standard",
         99
        ],
        [
         "standard",
         59
        ],
        [
         "standard",
         73
        ],
        [
         "standard",
         65
        ],
        [
         "standard",
         80
        ],
        [
         "free/reduced",
         57
        ],
        [
         "standard",
         84
        ],
        [
         "standard",
         71
        ],
        [
         "standard",
         83
        ],
        [
         "standard",
         66
        ],
        [
         "standard",
         67
        ],
        [
         "free/reduced",
         72
        ],
        [
         "standard",
         73
        ],
        [
         "standard",
         74
        ],
        [
         "standard",
         73
        ],
        [
         "standard",
         59
        ],
        [
         "free/reduced",
         56
        ],
        [
         "free/reduced",
         93
        ],
        [
         "standard",
         58
        ],
        [
         "free/reduced",
         58
        ],
        [
         "standard",
         85
        ],
        [
         "free/reduced",
         39
        ],
        [
         "free/reduced",
         67
        ],
        [
         "standard",
         83
        ],
        [
         "free/reduced",
         71
        ],
        [
         "free/reduced",
         59
        ],
        [
         "free/reduced",
         63
        ],
        [
         "free/reduced",
         66
        ],
        [
         "standard",
         72
        ],
        [
         "standard",
         56
        ],
        [
         "free/reduced",
         59
        ],
        [
         "standard",
         66
        ],
        [
         "free/reduced",
         48
        ],
        [
         "standard",
         68
        ],
        [
         "free/reduced",
         66
        ],
        [
         "standard",
         56
        ],
        [
         "standard",
         88
        ],
        [
         "standard",
         81
        ],
        [
         "standard",
         81
        ],
        [
         "free/reduced",
         73
        ],
        [
         "standard",
         83
        ],
        [
         "free/reduced",
         82
        ],
        [
         "standard",
         74
        ],
        [
         "free/reduced",
         66
        ],
        [
         "standard",
         81
        ],
        [
         "standard",
         46
        ],
        [
         "standard",
         73
        ],
        [
         "free/reduced",
         85
        ],
        [
         "standard",
         92
        ],
        [
         "free/reduced",
         77
        ],
        [
         "free/reduced",
         58
        ],
        [
         "free/reduced",
         61
        ],
        [
         "free/reduced",
         56
        ],
        [
         "standard",
         89
        ],
        [
         "free/reduced",
         54
        ],
        [
         "standard",
         100
        ],
        [
         "standard",
         65
        ],
        [
         "free/reduced",
         58
        ],
        [
         "free/reduced",
         54
        ],
        [
         "standard",
         70
        ],
        [
         "free/reduced",
         90
        ],
        [
         "standard",
         58
        ],
        [
         "standard",
         87
        ],
        [
         "free/reduced",
         31
        ],
        [
         "free/reduced",
         67
        ],
        [
         "free/reduced",
         88
        ],
        [
         "standard",
         74
        ],
        [
         "standard",
         85
        ],
        [
         "standard",
         69
        ],
        [
         "standard",
         86
        ],
        [
         "standard",
         67
        ],
        [
         "standard",
         90
        ],
        [
         "standard",
         76
        ],
        [
         "standard",
         62
        ],
        [
         "standard",
         68
        ],
        [
         "standard",
         64
        ],
        [
         "standard",
         71
        ],
        [
         "standard",
         71
        ],
        [
         "free/reduced",
         59
        ],
        [
         "free/reduced",
         68
        ],
        [
         "standard",
         52
        ],
        [
         "standard",
         52
        ],
        [
         "standard",
         74
        ],
        [
         "free/reduced",
         47
        ],
        [
         "free/reduced",
         75
        ],
        [
         "standard",
         53
        ],
        [
         "free/reduced",
         82
        ],
        [
         "free/reduced",
         85
        ],
        [
         "standard",
         64
        ],
        [
         "standard",
         83
        ],
        [
         "standard",
         88
        ],
        [
         "standard",
         64
        ],
        [
         "standard",
         64
        ],
        [
         "standard",
         48
        ],
        [
         "free/reduced",
         78
        ],
        [
         "standard",
         69
        ],
        [
         "standard",
         71
        ],
        [
         "standard",
         79
        ],
        [
         "standard",
         87
        ],
        [
         "free/reduced",
         61
        ],
        [
         "standard",
         89
        ],
        [
         "free/reduced",
         59
        ],
        [
         "standard",
         82
        ],
        [
         "standard",
         70
        ],
        [
         "free/reduced",
         59
        ],
        [
         "standard",
         78
        ],
        [
         "standard",
         92
        ],
        [
         "standard",
         71
        ],
        [
         "standard",
         50
        ],
        [
         "free/reduced",
         49
        ],
        [
         "standard",
         61
        ],
        [
         "free/reduced",
         97
        ],
        [
         "standard",
         87
        ],
        [
         "standard",
         89
        ],
        [
         "standard",
         74
        ],
        [
         "standard",
         78
        ],
        [
         "free/reduced",
         78
        ],
        [
         "standard",
         49
        ],
        [
         "standard",
         86
        ],
        [
         "standard",
         58
        ],
        [
         "free/reduced",
         59
        ],
        [
         "standard",
         52
        ],
        [
         "standard",
         60
        ],
        [
         "free/reduced",
         61
        ],
        [
         "free/reduced",
         53
        ],
        [
         "free/reduced",
         41
        ],
        [
         "standard",
         74
        ],
        [
         "standard",
         67
        ],
        [
         "standard",
         54
        ],
        [
         "standard",
         61
        ],
        [
         "standard",
         88
        ],
        [
         "standard",
         69
        ],
        [
         "free/reduced",
         83
        ],
        [
         "standard",
         60
        ],
        [
         "standard",
         66
        ],
        [
         "standard",
         66
        ],
        [
         "standard",
         92
        ],
        [
         "standard",
         69
        ],
        [
         "free/reduced",
         82
        ],
        [
         "standard",
         77
        ],
        [
         "standard",
         95
        ],
        [
         "standard",
         63
        ],
        [
         "free/reduced",
         83
        ],
        [
         "standard",
         100
        ],
        [
         "standard",
         67
        ],
        [
         "free/reduced",
         67
        ],
        [
         "standard",
         72
        ],
        [
         "free/reduced",
         76
        ],
        [
         "free/reduced",
         90
        ],
        [
         "standard",
         48
        ],
        [
         "free/reduced",
         62
        ],
        [
         "standard",
         45
        ],
        [
         "free/reduced",
         39
        ],
        [
         "standard",
         72
        ],
        [
         "free/reduced",
         67
        ],
        [
         "free/reduced",
         70
        ],
        [
         "standard",
         66
        ],
        [
         "standard",
         75
        ],
        [
         "standard",
         74
        ],
        [
         "standard",
         90
        ],
        [
         "free/reduced",
         80
        ],
        [
         "free/reduced",
         51
        ],
        [
         "standard",
         43
        ],
        [
         "free/reduced",
         100
        ],
        [
         "free/reduced",
         71
        ],
        [
         "free/reduced",
         48
        ],
        [
         "free/reduced",
         68
        ],
        [
         "standard",
         75
        ],
        [
         "standard",
         96
        ],
        [
         "standard",
         62
        ],
        [
         "free/reduced",
         66
        ],
        [
         "standard",
         81
        ],
        [
         "free/reduced",
         55
        ],
        [
         "standard",
         51
        ],
        [
         "standard",
         91
        ],
        [
         "free/reduced",
         56
        ],
        [
         "standard",
         61
        ],
        [
         "standard",
         97
        ],
        [
         "standard",
         79
        ],
        [
         "free/reduced",
         73
        ],
        [
         "standard",
         75
        ],
        [
         "standard",
         77
        ],
        [
         "standard",
         76
        ],
        [
         "standard",
         73
        ],
        [
         "free/reduced",
         63
        ],
        [
         "standard",
         64
        ],
        [
         "standard",
         66
        ],
        [
         "free/reduced",
         57
        ],
        [
         "standard",
         62
        ],
        [
         "standard",
         68
        ],
        [
         "standard",
         76
        ],
        [
         "standard",
         100
        ],
        [
         "standard",
         79
        ],
        [
         "free/reduced",
         24
        ],
        [
         "standard",
         54
        ],
        [
         "standard",
         77
        ],
        [
         "standard",
         82
        ],
        [
         "standard",
         60
        ],
        [
         "standard",
         29
        ],
        [
         "standard",
         78
        ],
        [
         "free/reduced",
         57
        ],
        [
         "free/reduced",
         89
        ],
        [
         "standard",
         72
        ],
        [
         "standard",
         84
        ],
        [
         "free/reduced",
         58
        ],
        [
         "standard",
         64
        ],
        [
         "standard",
         63
        ],
        [
         "free/reduced",
         60
        ],
        [
         "standard",
         59
        ],
        [
         "standard",
         90
        ],
        [
         "standard",
         77
        ],
        [
         "standard",
         93
        ],
        [
         "standard",
         68
        ],
        [
         "standard",
         45
        ],
        [
         "standard",
         78
        ],
        [
         "standard",
         81
        ],
        [
         "free/reduced",
         73
        ],
        [
         "free/reduced",
         61
        ],
        [
         "free/reduced",
         63
        ],
        [
         "free/reduced",
         51
        ],
        [
         "standard",
         96
        ],
        [
         "free/reduced",
         58
        ],
        [
         "standard",
         97
        ],
        [
         "free/reduced",
         70
        ],
        [
         "standard",
         48
        ],
        [
         "free/reduced",
         57
        ],
        [
         "standard",
         51
        ],
        [
         "standard",
         64
        ],
        [
         "standard",
         60
        ],
        [
         "standard",
         74
        ],
        [
         "standard",
         88
        ],
        [
         "standard",
         84
        ],
        [
         "standard",
         74
        ],
        [
         "free/reduced",
         80
        ],
        [
         "standard",
         92
        ],
        [
         "standard",
         76
        ],
        [
         "standard",
         74
        ],
        [
         "standard",
         52
        ],
        [
         "free/reduced",
         88
        ],
        [
         "free/reduced",
         81
        ],
        [
         "standard",
         79
        ],
        [
         "standard",
         65
        ],
        [
         "standard",
         81
        ],
        [
         "standard",
         70
        ],
        [
         "free/reduced",
         62
        ],
        [
         "standard",
         53
        ],
        [
         "standard",
         79
        ],
        [
         "free/reduced",
         56
        ],
        [
         "standard",
         80
        ],
        [
         "standard",
         86
        ],
        [
         "standard",
         70
        ],
        [
         "standard",
         79
        ],
        [
         "standard",
         67
        ],
        [
         "free/reduced",
         67
        ],
        [
         "standard",
         66
        ],
        [
         "free/reduced",
         60
        ],
        [
         "standard",
         87
        ],
        [
         "free/reduced",
         77
        ],
        [
         "standard",
         66
        ],
        [
         "free/reduced",
         71
        ],
        [
         "standard",
         69
        ],
        [
         "standard",
         63
        ],
        [
         "free/reduced",
         60
        ],
        [
         "free/reduced",
         73
        ],
        [
         "free/reduced",
         85
        ],
        [
         "standard",
         74
        ],
        [
         "standard",
         72
        ],
        [
         "free/reduced",
         76
        ],
        [
         "free/reduced",
         57
        ],
        [
         "standard",
         78
        ],
        [
         "standard",
         84
        ],
        [
         "standard",
         77
        ],
        [
         "standard",
         64
        ],
        [
         "standard",
         78
        ],
        [
         "standard",
         82
        ],
        [
         "free/reduced",
         75
        ],
        [
         "free/reduced",
         61
        ],
        [
         "standard",
         72
        ],
        [
         "standard",
         68
        ],
        [
         "standard",
         55
        ],
        [
         "free/reduced",
         40
        ],
        [
         "standard",
         66
        ],
        [
         "standard",
         99
        ],
        [
         "standard",
         75
        ],
        [
         "free/reduced",
         78
        ],
        [
         "free/reduced",
         58
        ],
        [
         "free/reduced",
         90
        ],
        [
         "standard",
         53
        ],
        [
         "free/reduced",
         76
        ],
        [
         "free/reduced",
         74
        ],
        [
         "standard",
         77
        ],
        [
         "standard",
         63
        ],
        [
         "free/reduced",
         89
        ],
        [
         "standard",
         82
        ],
        [
         "standard",
         72
        ],
        [
         "standard",
         78
        ],
        [
         "free/reduced",
         66
        ],
        [
         "standard",
         81
        ],
        [
         "standard",
         67
        ],
        [
         "standard",
         84
        ],
        [
         "standard",
         64
        ],
        [
         "free/reduced",
         63
        ],
        [
         "free/reduced",
         72
        ],
        [
         "standard",
         34
        ],
        [
         "standard",
         59
        ],
        [
         "standard",
         87
        ],
        [
         "free/reduced",
         61
        ],
        [
         "standard",
         84
        ],
        [
         "standard",
         85
        ],
        [
         "standard",
         100
        ],
        [
         "standard",
         81
        ],
        [
         "standard",
         70
        ],
        [
         "free/reduced",
         94
        ],
        [
         "standard",
         78
        ],
        [
         "standard",
         96
        ],
        [
         "standard",
         76
        ],
        [
         "free/reduced",
         73
        ],
        [
         "free/reduced",
         72
        ],
        [
         "free/reduced",
         59
        ],
        [
         "free/reduced",
         90
        ],
        [
         "standard",
         48
        ],
        [
         "standard",
         43
        ],
        [
         "standard",
         74
        ],
        [
         "standard",
         75
        ],
        [
         "standard",
         51
        ],
        [
         "free/reduced",
         92
        ],
        [
         "standard",
         39
        ],
        [
         "free/reduced",
         77
        ],
        [
         "free/reduced",
         46
        ],
        [
         "standard",
         89
        ],
        [
         "standard",
         47
        ],
        [
         "free/reduced",
         58
        ],
        [
         "standard",
         57
        ],
        [
         "standard",
         79
        ],
        [
         "free/reduced",
         66
        ],
        [
         "standard",
         71
        ],
        [
         "free/reduced",
         60
        ],
        [
         "standard",
         73
        ],
        [
         "free/reduced",
         57
        ],
        [
         "standard",
         84
        ],
        [
         "standard",
         73
        ],
        [
         "free/reduced",
         55
        ],
        [
         "standard",
         79
        ],
        [
         "standard",
         75
        ],
        [
         "standard",
         64
        ],
        [
         "free/reduced",
         60
        ],
        [
         "standard",
         84
        ],
        [
         "standard",
         69
        ],
        [
         "standard",
         72
        ],
        [
         "free/reduced",
         77
        ],
        [
         "standard",
         90
        ],
        [
         "free/reduced",
         55
        ],
        [
         "standard",
         95
        ],
        [
         "standard",
         58
        ],
        [
         "free/reduced",
         68
        ],
        [
         "free/reduced",
         59
        ],
        [
         "standard",
         77
        ],
        [
         "free/reduced",
         72
        ],
        [
         "standard",
         58
        ],
        [
         "standard",
         81
        ],
        [
         "standard",
         62
        ],
        [
         "standard",
         63
        ],
        [
         "standard",
         72
        ],
        [
         "standard",
         75
        ],
        [
         "standard",
         62
        ],
        [
         "standard",
         71
        ],
        [
         "free/reduced",
         60
        ],
        [
         "standard",
         48
        ],
        [
         "standard",
         73
        ],
        [
         "free/reduced",
         67
        ],
        [
         "free/reduced",
         78
        ],
        [
         "standard",
         65
        ],
        [
         "free/reduced",
         58
        ],
        [
         "standard",
         72
        ],
        [
         "free/reduced",
         44
        ],
        [
         "standard",
         79
        ],
        [
         "standard",
         85
        ],
        [
         "free/reduced",
         56
        ],
        [
         "standard",
         90
        ],
        [
         "free/reduced",
         85
        ],
        [
         "standard",
         59
        ],
        [
         "standard",
         81
        ],
        [
         "standard",
         51
        ],
        [
         "free/reduced",
         79
        ],
        [
         "standard",
         38
        ],
        [
         "free/reduced",
         65
        ],
        [
         "free/reduced",
         65
        ],
        [
         "standard",
         62
        ],
        [
         "free/reduced",
         66
        ],
        [
         "free/reduced",
         74
        ],
        [
         "standard",
         84
        ],
        [
         "standard",
         52
        ],
        [
         "free/reduced",
         68
        ],
        [
         "standard",
         70
        ],
        [
         "free/reduced",
         84
        ],
        [
         "standard",
         60
        ],
        [
         "standard",
         55
        ],
        [
         "standard",
         73
        ],
        [
         "standard",
         80
        ],
        [
         "standard",
         94
        ],
        [
         "standard",
         85
        ],
        [
         "standard",
         76
        ],
        [
         "free/reduced",
         81
        ],
        [
         "free/reduced",
         74
        ],
        [
         "free/reduced",
         45
        ],
        [
         "standard",
         75
        ],
        [
         "standard",
         54
        ],
        [
         "standard",
         31
        ],
        [
         "free/reduced",
         47
        ],
        [
         "standard",
         64
        ],
        [
         "standard",
         84
        ],
        [
         "standard",
         80
        ],
        [
         "standard",
         86
        ],
        [
         "standard",
         59
        ],
        [
         "free/reduced",
         70
        ],
        [
         "free/reduced",
         72
        ],
        [
         "standard",
         91
        ],
        [
         "standard",
         90
        ],
        [
         "free/reduced",
         90
        ],
        [
         "free/reduced",
         52
        ],
        [
         "free/reduced",
         87
        ],
        [
         "free/reduced",
         58
        ],
        [
         "standard",
         67
        ],
        [
         "free/reduced",
         68
        ],
        [
         "standard",
         69
        ],
        [
         "free/reduced",
         86
        ],
        [
         "standard",
         54
        ],
        [
         "free/reduced",
         60
        ],
        [
         "free/reduced",
         86
        ],
        [
         "standard",
         60
        ],
        [
         "standard",
         82
        ],
        [
         "standard",
         50
        ],
        [
         "standard",
         64
        ],
        [
         "standard",
         64
        ],
        [
         "standard",
         82
        ],
        [
         "free/reduced",
         57
        ],
        [
         "standard",
         77
        ],
        [
         "free/reduced",
         52
        ],
        [
         "standard",
         58
        ],
        [
         "free/reduced",
         44
        ],
        [
         "free/reduced",
         77
        ],
        [
         "free/reduced",
         65
        ],
        [
         "standard",
         85
        ],
        [
         "standard",
         85
        ],
        [
         "standard",
         54
        ],
        [
         "standard",
         72
        ],
        [
         "standard",
         75
        ],
        [
         "standard",
         67
        ],
        [
         "standard",
         68
        ],
        [
         "standard",
         85
        ],
        [
         "standard",
         67
        ],
        [
         "standard",
         64
        ],
        [
         "standard",
         97
        ],
        [
         "free/reduced",
         68
        ],
        [
         "standard",
         79
        ],
        [
         "standard",
         49
        ],
        [
         "free/reduced",
         73
        ],
        [
         "standard",
         62
        ],
        [
         "free/reduced",
         86
        ],
        [
         "free/reduced",
         42
        ],
        [
         "standard",
         71
        ],
        [
         "standard",
         93
        ],
        [
         "standard",
         82
        ],
        [
         "free/reduced",
         53
        ],
        [
         "standard",
         42
        ],
        [
         "free/reduced",
         74
        ],
        [
         "free/reduced",
         51
        ],
        [
         "standard",
         58
        ],
        [
         "standard",
         72
        ],
        [
         "standard",
         84
        ],
        [
         "free/reduced",
         90
        ],
        [
         "free/reduced",
         62
        ],
        [
         "free/reduced",
         64
        ],
        [
         "standard",
         82
        ],
        [
         "standard",
         61
        ],
        [
         "standard",
         72
        ],
        [
         "standard",
         76
        ],
        [
         "standard",
         64
        ],
        [
         "standard",
         70
        ],
        [
         "free/reduced",
         73
        ],
        [
         "free/reduced",
         46
        ],
        [
         "standard",
         51
        ],
        [
         "standard",
         76
        ],
        [
         "standard",
         100
        ],
        [
         "free/reduced",
         72
        ],
        [
         "free/reduced",
         65
        ],
        [
         "free/reduced",
         51
        ],
        [
         "standard",
         85
        ],
        [
         "standard",
         92
        ],
        [
         "free/reduced",
         67
        ],
        [
         "standard",
         74
        ],
        [
         "standard",
         62
        ],
        [
         "free/reduced",
         34
        ],
        [
         "free/reduced",
         29
        ],
        [
         "free/reduced",
         78
        ],
        [
         "standard",
         54
        ],
        [
         "standard",
         78
        ],
        [
         "standard",
         84
        ],
        [
         "standard",
         78
        ],
        [
         "free/reduced",
         48
        ],
        [
         "free/reduced",
         100
        ],
        [
         "free/reduced",
         84
        ],
        [
         "standard",
         77
        ],
        [
         "standard",
         48
        ],
        [
         "standard",
         84
        ],
        [
         "free/reduced",
         75
        ],
        [
         "standard",
         64
        ],
        [
         "free/reduced",
         42
        ],
        [
         "standard",
         84
        ],
        [
         "standard",
         61
        ],
        [
         "free/reduced",
         62
        ],
        [
         "free/reduced",
         61
        ],
        [
         "standard",
         70
        ],
        [
         "standard",
         100
        ],
        [
         "standard",
         61
        ],
        [
         "standard",
         77
        ],
        [
         "standard",
         96
        ],
        [
         "free/reduced",
         70
        ],
        [
         "free/reduced",
         53
        ],
        [
         "standard",
         66
        ],
        [
         "free/reduced",
         65
        ],
        [
         "free/reduced",
         70
        ],
        [
         "standard",
         64
        ],
        [
         "free/reduced",
         56
        ],
        [
         "free/reduced",
         61
        ],
        [
         "free/reduced",
         43
        ],
        [
         "free/reduced",
         56
        ],
        [
         "free/reduced",
         74
        ],
        [
         "free/reduced",
         57
        ],
        [
         "free/reduced",
         71
        ],
        [
         "free/reduced",
         75
        ],
        [
         "standard",
         87
        ],
        [
         "free/reduced",
         63
        ],
        [
         "standard",
         57
        ],
        [
         "free/reduced",
         58
        ],
        [
         "standard",
         81
        ],
        [
         "standard",
         68
        ],
        [
         "free/reduced",
         66
        ],
        [
         "standard",
         91
        ],
        [
         "standard",
         66
        ],
        [
         "free/reduced",
         62
        ],
        [
         "standard",
         68
        ],
        [
         "standard",
         61
        ],
        [
         "standard",
         82
        ],
        [
         "free/reduced",
         58
        ],
        [
         "free/reduced",
         50
        ],
        [
         "free/reduced",
         75
        ],
        [
         "standard",
         73
        ],
        [
         "standard",
         77
        ],
        [
         "free/reduced",
         74
        ],
        [
         "standard",
         52
        ],
        [
         "standard",
         69
        ],
        [
         "standard",
         57
        ],
        [
         "standard",
         87
        ],
        [
         "standard",
         100
        ],
        [
         "standard",
         63
        ],
        [
         "standard",
         81
        ],
        [
         "standard",
         58
        ],
        [
         "free/reduced",
         54
        ],
        [
         "standard",
         100
        ],
        [
         "free/reduced",
         76
        ],
        [
         "standard",
         57
        ],
        [
         "standard",
         70
        ],
        [
         "standard",
         68
        ],
        [
         "standard",
         63
        ],
        [
         "standard",
         76
        ],
        [
         "standard",
         84
        ],
        [
         "standard",
         100
        ],
        [
         "standard",
         72
        ],
        [
         "free/reduced",
         50
        ],
        [
         "free/reduced",
         65
        ],
        [
         "standard",
         63
        ],
        [
         "standard",
         82
        ],
        [
         "free/reduced",
         62
        ],
        [
         "standard",
         65
        ],
        [
         "standard",
         41
        ],
        [
         "standard",
         95
        ],
        [
         "free/reduced",
         24
        ],
        [
         "standard",
         78
        ],
        [
         "standard",
         85
        ],
        [
         "standard",
         87
        ],
        [
         "standard",
         75
        ],
        [
         "standard",
         51
        ],
        [
         "standard",
         59
        ],
        [
         "standard",
         75
        ],
        [
         "free/reduced",
         45
        ],
        [
         "free/reduced",
         86
        ],
        [
         "free/reduced",
         81
        ],
        [
         "standard",
         82
        ],
        [
         "free/reduced",
         76
        ],
        [
         "free/reduced",
         72
        ],
        [
         "standard",
         63
        ],
        [
         "standard",
         99
        ],
        [
         "free/reduced",
         55
        ],
        [
         "free/reduced",
         71
        ],
        [
         "standard",
         78
        ],
        [
         "free/reduced",
         86
        ]
       ],
       "datasetInfos": [],
       "dbfsResultPath": null,
       "isJsonSchema": true,
       "metadata": {},
       "overflow": false,
       "plotOptions": {
        "customPlotOptions": {},
        "displayType": "table",
        "pivotAggregation": null,
        "pivotColumns": null,
        "xColumns": null,
        "yColumns": null
       },
       "removedWidgets": [],
       "schema": [
        {
         "metadata": "{}",
         "name": "lunch",
         "type": "\"string\""
        },
        {
         "metadata": "{}",
         "name": "reading score",
         "type": "\"integer\""
        }
       ],
       "type": "table"
      }
     },
     "output_type": "display_data"
    },
    {
     "output_type": "display_data",
     "data": {
      "text/plain": [
       "Databricks visualization. Run in Databricks to view."
      ]
     },
     "metadata": {
      "application/vnd.databricks.v1.subcommand+json": {
       "baseErrorDetails": null,
       "bindings": {},
       "collapsed": false,
       "command": "%python\n__backend_agg_display_orig = display\n__backend_agg_dfs = []\ndef __backend_agg_display_new(df):\n    __backend_agg_df_modules = [\"pandas.core.frame\", \"databricks.koalas.frame\", \"pyspark.sql.dataframe\", \"pyspark.pandas.frame\", \"pyspark.sql.connect.dataframe\"]\n    if (type(df).__module__ in __backend_agg_df_modules and type(df).__name__ == 'DataFrame') or isinstance(df, list):\n        __backend_agg_dfs.append(df)\n\ndisplay = __backend_agg_display_new\n\ndef __backend_agg_user_code_fn():\n    import base64\n    exec(base64.standard_b64decode(\"cmVzdWx0PWRmLnNlbGVjdCgibHVuY2giLCAicmVhZGluZyBzY29yZSIpCmRpc3BsYXkocmVzdWx0KQ==\").decode())\n\ntry:\n    # run user code\n    __backend_agg_user_code_fn()\n\n    #reset display function\n    display = __backend_agg_display_orig\n\n    if len(__backend_agg_dfs) > 0:\n        # create a temp view\n        if type(__backend_agg_dfs[0]).__module__ == \"databricks.koalas.frame\":\n            # koalas dataframe\n            __backend_agg_dfs[0].to_spark().createOrReplaceTempView(\"DatabricksView34ebeb2\")\n        elif type(__backend_agg_dfs[0]).__module__ == \"pandas.core.frame\" or isinstance(__backend_agg_dfs[0], list):\n            # pandas dataframe\n            spark.createDataFrame(__backend_agg_dfs[0]).createOrReplaceTempView(\"DatabricksView34ebeb2\")\n        else:\n            __backend_agg_dfs[0].createOrReplaceTempView(\"DatabricksView34ebeb2\")\n        #run backend agg\n        display(spark.sql(\"\"\"WITH q AS (select * from DatabricksView34ebeb2) SELECT `lunch`,`reading score` FROM q\"\"\"))\n    else:\n        displayHTML(\"dataframe no longer exists. If you're using dataframe.display(), use display(dataframe) instead.\")\n\n\nfinally:\n    spark.sql(\"drop view if exists DatabricksView34ebeb2\")\n    display = __backend_agg_display_orig\n    del __backend_agg_display_new\n    del __backend_agg_display_orig\n    del __backend_agg_dfs\n    del __backend_agg_user_code_fn\n\n",
       "commandTitle": "Visualization 1",
       "commandType": "auto",
       "commandVersion": 0,
       "commentThread": [],
       "commentsVisible": false,
       "contentSha256Hex": null,
       "customPlotOptions": {
        "redashChart": [
         {
          "key": "type",
          "value": "CHART"
         },
         {
          "key": "options",
          "value": {
           "alignYAxesAtZero": true,
           "coefficient": 1,
           "columnConfigurationMap": {
            "x": {
             "column": "lunch",
             "id": "column_93df7567125"
            },
            "y": [
             {
              "column": "reading score",
              "id": "column_93df7567126"
             }
            ]
           },
           "dateTimeFormat": "DD/MM/YYYY HH:mm",
           "direction": {
            "type": "counterclockwise"
           },
           "error_y": {
            "type": "data",
            "visible": true
           },
           "globalSeriesType": "box",
           "legend": {
            "traceorder": "normal"
           },
           "missingValuesAsZero": true,
           "numberFormat": "0,0.[00000]",
           "percentFormat": "0[.]00%",
           "series": {
            "error_y": {
             "type": "data",
             "visible": true
            },
            "stacking": null
           },
           "seriesOptions": {
            "column_93df7567126": {
             "name": "reading score",
             "type": "box",
             "yAxis": 0
            },
            "reading score": {
             "name": "reading score",
             "type": "box",
             "yAxis": 0
            }
           },
           "showDataLabels": false,
           "sizemode": "diameter",
           "sortX": true,
           "sortY": true,
           "swappedAxes": false,
           "textFormat": "",
           "useAggregationsUi": true,
           "valuesOptions": {},
           "version": 2,
           "xAxis": {
            "labels": {
             "enabled": true
            },
            "type": "-"
           },
           "yAxis": [
            {
             "type": "-"
            },
            {
             "opposite": true,
             "type": "-"
            }
           ]
          }
         }
        ]
       },
       "datasetPreviewNameToCmdIdMap": {},
       "diffDeletes": [],
       "diffInserts": [],
       "displayType": "redashChart",
       "error": null,
       "errorDetails": null,
       "errorSummary": null,
       "errorTraceType": null,
       "finishTime": 0,
       "globalVars": {},
       "guid": "",
       "height": "auto",
       "hideCommandCode": false,
       "hideCommandResult": false,
       "iPythonMetadata": null,
       "inputWidgets": {},
       "isLockedInExamMode": false,
       "latestUser": "a user",
       "latestUserId": null,
       "listResultMetadata": null,
       "metadata": {},
       "nuid": "170c0409-fee3-4a0a-90ea-490b9feba770",
       "origId": 0,
       "parentHierarchy": [],
       "pivotAggregation": null,
       "pivotColumns": null,
       "position": 8.0,
       "resultDbfsErrorMessage": null,
       "resultDbfsStatus": "INLINED_IN_TREE",
       "results": null,
       "showCommandTitle": false,
       "startTime": 0,
       "state": "input",
       "streamStates": {},
       "subcommandOptions": {
        "queryPlan": {
         "selects": [
          {
           "column": "lunch",
           "type": "column"
          },
          {
           "column": "reading score",
           "type": "column"
          }
         ]
        }
       },
       "submitTime": 0,
       "subtype": "tableResultSubCmd.visualization",
       "tableResultIndex": 0,
       "tableResultSettingsMap": {},
       "useConsistentColors": false,
       "version": "CommandV1",
       "width": "auto",
       "workflows": [],
       "xColumns": null,
       "yColumns": null
      }
     },
     "output_type": "display_data"
    }
   ],
   "source": [
    "result=df.select(\"lunch\", \"reading score\")\n",
    "display(result)"
   ]
  },
  {
   "cell_type": "markdown",
   "metadata": {
    "application/vnd.databricks.v1+cell": {
     "cellMetadata": {},
     "inputWidgets": {},
     "nuid": "cd527604-0a6f-49ec-955b-dc50e4b97542",
     "showTitle": false,
     "tableResultSettingsMap": {},
     "title": ""
    }
   },
   "source": [
    "Histogram – Distribution of Writing Scores"
   ]
  },
  {
   "cell_type": "code",
   "execution_count": 0,
   "metadata": {
    "application/vnd.databricks.v1+cell": {
     "cellMetadata": {
      "byteLimit": 2048000,
      "rowLimit": 10000
     },
     "inputWidgets": {},
     "nuid": "284335b7-090a-460a-ac57-eb101915221f",
     "showTitle": false,
     "tableResultSettingsMap": {},
     "title": ""
    }
   },
   "outputs": [
    {
     "output_type": "display_data",
     "data": {
      "text/html": [
       "<style scoped>\n",
       "  .table-result-container {\n",
       "    max-height: 300px;\n",
       "    overflow: auto;\n",
       "  }\n",
       "  table, th, td {\n",
       "    border: 1px solid black;\n",
       "    border-collapse: collapse;\n",
       "  }\n",
       "  th, td {\n",
       "    padding: 5px;\n",
       "  }\n",
       "  th {\n",
       "    text-align: left;\n",
       "  }\n",
       "</style><div class='table-result-container'><table class='table-result'><thead style='background-color: white'><tr><th>writing score</th></tr></thead><tbody><tr><td>74</td></tr><tr><td>88</td></tr><tr><td>93</td></tr><tr><td>44</td></tr><tr><td>75</td></tr><tr><td>78</td></tr><tr><td>92</td></tr><tr><td>39</td></tr><tr><td>67</td></tr><tr><td>50</td></tr><tr><td>52</td></tr><tr><td>43</td></tr><tr><td>73</td></tr><tr><td>70</td></tr><tr><td>58</td></tr><tr><td>78</td></tr><tr><td>86</td></tr><tr><td>28</td></tr><tr><td>46</td></tr><tr><td>61</td></tr><tr><td>63</td></tr><tr><td>70</td></tr><tr><td>53</td></tr><tr><td>73</td></tr><tr><td>80</td></tr><tr><td>72</td></tr><tr><td>55</td></tr><tr><td>75</td></tr><tr><td>65</td></tr><tr><td>75</td></tr><tr><td>74</td></tr><tr><td>61</td></tr><tr><td>65</td></tr><tr><td>38</td></tr><tr><td>82</td></tr><tr><td>79</td></tr><tr><td>83</td></tr><tr><td>59</td></tr><tr><td>88</td></tr><tr><td>57</td></tr><tr><td>54</td></tr><tr><td>68</td></tr><tr><td>65</td></tr><tr><td>66</td></tr><tr><td>54</td></tr><tr><td>57</td></tr><tr><td>62</td></tr><tr><td>76</td></tr><tr><td>76</td></tr><tr><td>82</td></tr><tr><td>48</td></tr><tr><td>68</td></tr><tr><td>42</td></tr><tr><td>75</td></tr><tr><td>87</td></tr><tr><td>43</td></tr><tr><td>86</td></tr><tr><td>49</td></tr><tr><td>58</td></tr><tr><td>10</td></tr><tr><td>72</td></tr><tr><td>34</td></tr><tr><td>55</td></tr><tr><td>71</td></tr><tr><td>59</td></tr><tr><td>61</td></tr><tr><td>37</td></tr><tr><td>74</td></tr><tr><td>56</td></tr><tr><td>57</td></tr><tr><td>73</td></tr><tr><td>63</td></tr><tr><td>48</td></tr><tr><td>56</td></tr><tr><td>41</td></tr><tr><td>38</td></tr><tr><td>22</td></tr><tr><td>81</td></tr><tr><td>72</td></tr><tr><td>68</td></tr><tr><td>50</td></tr><tr><td>45</td></tr><tr><td>54</td></tr><tr><td>63</td></tr><tr><td>34</td></tr><tr><td>82</td></tr><tr><td>88</td></tr><tr><td>74</td></tr><tr><td>67</td></tr><tr><td>82</td></tr><tr><td>74</td></tr><tr><td>36</td></tr><tr><td>71</td></tr><tr><td>50</td></tr><tr><td>92</td></tr><tr><td>82</td></tr><tr><td>62</td></tr><tr><td>70</td></tr><tr><td>62</td></tr><tr><td>62</td></tr><tr><td>67</td></tr><tr><td>74</td></tr><tr><td>89</td></tr><tr><td>47</td></tr><tr><td>90</td></tr><tr><td>72</td></tr><tr><td>100</td></tr><tr><td>64</td></tr><tr><td>70</td></tr><tr><td>72</td></tr><tr><td>98</td></tr><tr><td>49</td></tr><tr><td>47</td></tr><tr><td>54</td></tr><tr><td>100</td></tr><tr><td>74</td></tr><tr><td>82</td></tr><tr><td>79</td></tr><tr><td>61</td></tr><tr><td>65</td></tr><tr><td>89</td></tr><tr><td>92</td></tr><tr><td>93</td></tr><tr><td>56</td></tr><tr><td>73</td></tr><tr><td>86</td></tr><tr><td>67</td></tr><tr><td>74</td></tr><tr><td>74</td></tr><tr><td>51</td></tr><tr><td>82</td></tr><tr><td>40</td></tr><tr><td>70</td></tr><tr><td>84</td></tr><tr><td>75</td></tr><tr><td>48</td></tr><tr><td>41</td></tr><tr><td>56</td></tr><tr><td>67</td></tr><tr><td>69</td></tr><tr><td>71</td></tr><tr><td>64</td></tr><tr><td>54</td></tr><tr><td>47</td></tr><tr><td>78</td></tr><tr><td>33</td></tr><tr><td>75</td></tr><tr><td>66</td></tr><tr><td>81</td></tr><tr><td>93</td></tr><tr><td>69</td></tr><tr><td>68</td></tr><tr><td>66</td></tr><tr><td>47</td></tr><tr><td>61</td></tr><tr><td>88</td></tr><tr><td>78</td></tr><tr><td>60</td></tr><tr><td>87</td></tr><tr><td>64</td></tr><tr><td>74</td></tr><tr><td>85</td></tr><tr><td>52</td></tr><tr><td>49</td></tr><tr><td>91</td></tr><tr><td>100</td></tr><tr><td>51</td></tr><tr><td>78</td></tr><tr><td>78</td></tr><tr><td>70</td></tr><tr><td>74</td></tr><tr><td>78</td></tr><tr><td>81</td></tr><tr><td>70</td></tr><tr><td>54</td></tr><tr><td>87</td></tr><tr><td>58</td></tr><tr><td>77</td></tr><tr><td>62</td></tr><tr><td>100</td></tr><tr><td>75</td></tr><tr><td>66</td></tr><tr><td>47</td></tr><tr><td>70</td></tr><tr><td>49</td></tr><tr><td>65</td></tr><tr><td>65</td></tr><tr><td>68</td></tr><tr><td>45</td></tr><tr><td>87</td></tr><tr><td>69</td></tr><tr><td>79</td></tr><tr><td>66</td></tr><tr><td>62</td></tr><tr><td>85</td></tr><tr><td>52</td></tr><tr><td>65</td></tr><tr><td>51</td></tr><tr><td>55</td></tr><tr><td>76</td></tr><tr><td>86</td></tr><tr><td>77</td></tr><tr><td>69</td></tr><tr><td>68</td></tr><tr><td>42</td></tr><tr><td>78</td></tr><tr><td>62</td></tr><tr><td>76</td></tr><tr><td>76</td></tr><tr><td>66</td></tr><tr><td>79</td></tr><tr><td>27</td></tr><tr><td>60</td></tr><tr><td>56</td></tr><tr><td>81</td></tr><tr><td>75</td></tr><tr><td>88</td></tr><tr><td>39</td></tr><tr><td>70</td></tr><tr><td>56</td></tr><tr><td>74</td></tr><tr><td>73</td></tr><tr><td>62</td></tr><tr><td>75</td></tr><tr><td>73</td></tr><tr><td>54</td></tr><tr><td>71</td></tr><tr><td>54</td></tr><tr><td>64</td></tr><tr><td>94</td></tr><tr><td>66</td></tr><tr><td>42</td></tr><tr><td>83</td></tr><tr><td>78</td></tr><tr><td>84</td></tr><tr><td>77</td></tr><tr><td>67</td></tr><tr><td>74</td></tr><tr><td>51</td></tr><tr><td>80</td></tr><tr><td>66</td></tr><tr><td>83</td></tr><tr><td>55</td></tr><tr><td>43</td></tr><tr><td>69</td></tr><tr><td>71</td></tr><tr><td>74</td></tr><tr><td>68</td></tr><tr><td>62</td></tr><tr><td>53</td></tr><tr><td>49</td></tr><tr><td>83</td></tr><tr><td>70</td></tr><tr><td>72</td></tr><tr><td>52</td></tr><tr><td>70</td></tr><tr><td>68</td></tr><tr><td>77</td></tr><tr><td>78</td></tr><tr><td>81</td></tr><tr><td>77</td></tr><tr><td>78</td></tr><tr><td>51</td></tr><tr><td>90</td></tr><tr><td>68</td></tr><tr><td>41</td></tr><tr><td>81</td></tr><tr><td>77</td></tr><tr><td>95</td></tr><tr><td>70</td></tr><tr><td>61</td></tr><tr><td>42</td></tr><tr><td>58</td></tr><tr><td>71</td></tr><tr><td>76</td></tr><tr><td>73</td></tr><tr><td>93</td></tr><tr><td>75</td></tr><tr><td>80</td></tr><tr><td>57</td></tr><tr><td>42</td></tr><tr><td>46</td></tr><tr><td>84</td></tr><tr><td>78</td></tr><tr><td>46</td></tr><tr><td>82</td></tr><tr><td>88</td></tr><tr><td>82</td></tr><tr><td>76</td></tr><tr><td>77</td></tr><tr><td>68</td></tr><tr><td>70</td></tr><tr><td>57</td></tr><tr><td>75</td></tr><tr><td>80</td></tr><tr><td>60</td></tr><tr><td>43</td></tr><tr><td>68</td></tr><tr><td>50</td></tr><tr><td>75</td></tr><tr><td>81</td></tr><tr><td>52</td></tr><tr><td>81</td></tr><tr><td>64</td></tr><tr><td>83</td></tr><tr><td>69</td></tr><tr><td>81</td></tr><tr><td>44</td></tr><tr><td>67</td></tr><tr><td>52</td></tr><tr><td>80</td></tr><tr><td>57</td></tr><tr><td>68</td></tr><tr><td>69</td></tr><tr><td>75</td></tr><tr><td>65</td></tr><tr><td>91</td></tr><tr><td>78</td></tr><tr><td>69</td></tr><tr><td>63</td></tr><tr><td>84</td></tr><tr><td>79</td></tr><tr><td>80</td></tr><tr><td>53</td></tr><tr><td>43</td></tr><tr><td>94</td></tr><tr><td>62</td></tr><tr><td>19</td></tr><tr><td>77</td></tr><tr><td>51</td></tr><tr><td>61</td></tr><tr><td>35</td></tr><tr><td>53</td></tr><tr><td>81</td></tr><tr><td>95</td></tr><tr><td>66</td></tr><tr><td>69</td></tr><tr><td>43</td></tr><tr><td>27</td></tr><tr><td>60</td></tr><tr><td>52</td></tr><tr><td>63</td></tr><tr><td>74</td></tr><tr><td>67</td></tr><tr><td>67</td></tr><tr><td>75</td></tr><tr><td>57</td></tr><tr><td>95</td></tr><tr><td>66</td></tr><tr><td>76</td></tr><tr><td>69</td></tr><tr><td>52</td></tr><tr><td>80</td></tr><tr><td>57</td></tr><tr><td>70</td></tr><tr><td>70</td></tr><tr><td>61</td></tr><tr><td>69</td></tr><tr><td>61</td></tr><tr><td>89</td></tr><tr><td>59</td></tr><tr><td>78</td></tr><tr><td>58</td></tr><tr><td>32</td></tr><tr><td>58</td></tr><tr><td>60</td></tr><tr><td>53</td></tr><tr><td>61</td></tr><tr><td>58</td></tr><tr><td>85</td></tr><tr><td>71</td></tr><tr><td>70</td></tr><tr><td>72</td></tr><tr><td>96</td></tr><tr><td>73</td></tr><tr><td>41</td></tr><tr><td>82</td></tr><tr><td>100</td></tr><tr><td>77</td></tr><tr><td>62</td></tr><tr><td>83</td></tr><tr><td>95</td></tr><tr><td>71</td></tr><tr><td>45</td></tr><tr><td>43</td></tr><tr><td>75</td></tr><tr><td>70</td></tr><tr><td>67</td></tr><tr><td>64</td></tr><tr><td>75</td></tr><tr><td>59</td></tr><tr><td>77</td></tr><tr><td>67</td></tr><tr><td>56</td></tr><tr><td>77</td></tr><tr><td>41</td></tr><tr><td>63</td></tr><tr><td>95</td></tr><tr><td>57</td></tr><tr><td>54</td></tr><tr><td>67</td></tr><tr><td>43</td></tr><tr><td>55</td></tr><tr><td>100</td></tr><tr><td>62</td></tr><tr><td>68</td></tr><tr><td>63</td></tr><tr><td>77</td></tr><tr><td>56</td></tr><tr><td>85</td></tr><tr><td>74</td></tr><tr><td>78</td></tr><tr><td>60</td></tr><tr><td>67</td></tr><tr><td>79</td></tr><tr><td>69</td></tr><tr><td>68</td></tr><tr><td>67</td></tr><tr><td>62</td></tr><tr><td>54</td></tr><tr><td>93</td></tr><tr><td>64</td></tr><tr><td>67</td></tr><tr><td>80</td></tr><tr><td>34</td></tr><tr><td>62</td></tr><tr><td>86</td></tr><tr><td>65</td></tr><tr><td>53</td></tr><tr><td>54</td></tr><tr><td>59</td></tr><tr><td>70</td></tr><tr><td>55</td></tr><tr><td>50</td></tr><tr><td>66</td></tr><tr><td>53</td></tr><tr><td>64</td></tr><tr><td>73</td></tr><tr><td>51</td></tr><tr><td>82</td></tr><tr><td>79</td></tr><tr><td>80</td></tr><tr><td>69</td></tr><tr><td>76</td></tr><tr><td>73</td></tr><tr><td>77</td></tr><tr><td>60</td></tr><tr><td>80</td></tr><tr><td>42</td></tr><tr><td>72</td></tr><tr><td>85</td></tr><tr><td>97</td></tr><tr><td>74</td></tr><tr><td>49</td></tr><tr><td>62</td></tr><tr><td>47</td></tr><tr><td>89</td></tr><tr><td>48</td></tr><tr><td>100</td></tr><tr><td>68</td></tr><tr><td>55</td></tr><tr><td>45</td></tr><tr><td>76</td></tr><tr><td>91</td></tr><tr><td>62</td></tr><tr><td>91</td></tr><tr><td>38</td></tr><tr><td>65</td></tr><tr><td>85</td></tr><tr><td>76</td></tr><tr><td>90</td></tr><tr><td>74</td></tr><tr><td>84</td></tr><tr><td>61</td></tr><tr><td>91</td></tr><tr><td>83</td></tr><tr><td>66</td></tr><tr><td>72</td></tr><tr><td>70</td></tr><tr><td>67</td></tr><tr><td>68</td></tr><tr><td>56</td></tr><tr><td>61</td></tr><tr><td>46</td></tr><tr><td>54</td></tr><tr><td>71</td></tr><tr><td>56</td></tr><tr><td>74</td></tr><tr><td>57</td></tr><tr><td>82</td></tr><tr><td>76</td></tr><tr><td>70</td></tr><tr><td>90</td></tr><tr><td>90</td></tr><tr><td>68</td></tr><tr><td>66</td></tr><tr><td>52</td></tr><tr><td>76</td></tr><tr><td>68</td></tr><tr><td>72</td></tr><tr><td>82</td></tr><tr><td>92</td></tr><tr><td>54</td></tr><tr><td>92</td></tr><tr><td>54</td></tr><tr><td>80</td></tr><tr><td>66</td></tr><tr><td>54</td></tr><tr><td>77</td></tr><tr><td>87</td></tr><tr><td>73</td></tr><tr><td>43</td></tr><tr><td>52</td></tr><tr><td>62</td></tr><tr><td>94</td></tr><tr><td>85</td></tr><tr><td>84</td></tr><tr><td>73</td></tr><tr><td>78</td></tr><tr><td>79</td></tr><tr><td>52</td></tr><tr><td>84</td></tr><tr><td>57</td></tr><tr><td>50</td></tr><tr><td>49</td></tr><tr><td>59</td></tr><tr><td>60</td></tr><tr><td>43</td></tr><tr><td>47</td></tr><tr><td>70</td></tr><tr><td>73</td></tr><tr><td>53</td></tr><tr><td>58</td></tr><tr><td>94</td></tr><tr><td>68</td></tr><tr><td>83</td></tr><tr><td>58</td></tr><tr><td>62</td></tr><tr><td>71</td></tr><tr><td>86</td></tr><tr><td>68</td></tr><tr><td>80</td></tr><tr><td>79</td></tr><tr><td>89</td></tr><tr><td>66</td></tr><tr><td>80</td></tr><tr><td>97</td></tr><tr><td>64</td></tr><tr><td>64</td></tr><tr><td>69</td></tr><tr><td>65</td></tr><tr><td>88</td></tr><tr><td>50</td></tr><tr><td>64</td></tr><tr><td>40</td></tr><tr><td>33</td></tr><tr><td>79</td></tr><tr><td>66</td></tr><tr><td>70</td></tr><tr><td>62</td></tr><tr><td>79</td></tr><tr><td>74</td></tr><tr><td>92</td></tr><tr><td>80</td></tr><tr><td>46</td></tr><tr><td>45</td></tr><tr><td>100</td></tr><tr><td>78</td></tr><tr><td>47</td></tr><tr><td>67</td></tr><tr><td>70</td></tr><tr><td>92</td></tr><tr><td>56</td></tr><tr><td>64</td></tr><tr><td>71</td></tr><tr><td>53</td></tr><tr><td>52</td></tr><tr><td>89</td></tr><tr><td>58</td></tr><tr><td>68</td></tr><tr><td>96</td></tr><tr><td>80</td></tr><tr><td>78</td></tr><tr><td>80</td></tr><tr><td>77</td></tr><tr><td>76</td></tr><tr><td>73</td></tr><tr><td>62</td></tr><tr><td>65</td></tr><tr><td>65</td></tr><tr><td>54</td></tr><tr><td>50</td></tr><tr><td>64</td></tr><tr><td>73</td></tr><tr><td>99</td></tr><tr><td>72</td></tr><tr><td>15</td></tr><tr><td>48</td></tr><tr><td>73</td></tr><tr><td>81</td></tr><tr><td>63</td></tr><tr><td>30</td></tr><tr><td>80</td></tr><tr><td>51</td></tr><tr><td>90</td></tr><tr><td>62</td></tr><tr><td>82</td></tr><tr><td>54</td></tr><tr><td>62</td></tr><tr><td>65</td></tr><tr><td>63</td></tr><tr><td>66</td></tr><tr><td>91</td></tr><tr><td>74</td></tr><tr><td>93</td></tr><tr><td>72</td></tr><tr><td>38</td></tr><tr><td>83</td></tr><tr><td>84</td></tr><tr><td>68</td></tr><tr><td>54</td></tr><tr><td>56</td></tr><tr><td>52</td></tr><tr><td>86</td></tr><tr><td>62</td></tr><tr><td>99</td></tr><tr><td>63</td></tr><tr><td>46</td></tr><tr><td>46</td></tr><tr><td>55</td></tr><tr><td>70</td></tr><tr><td>65</td></tr><tr><td>81</td></tr><tr><td>85</td></tr><tr><td>80</td></tr><tr><td>64</td></tr><tr><td>81</td></tr><tr><td>88</td></tr><tr><td>74</td></tr><tr><td>73</td></tr><tr><td>51</td></tr><tr><td>90</td></tr><tr><td>79</td></tr><tr><td>80</td></tr><tr><td>60</td></tr><tr><td>81</td></tr><tr><td>65</td></tr><tr><td>68</td></tr><tr><td>55</td></tr><tr><td>81</td></tr><tr><td>53</td></tr><tr><td>76</td></tr><tr><td>98</td></tr><tr><td>74</td></tr><tr><td>79</td></tr><tr><td>67</td></tr><tr><td>64</td></tr><tr><td>61</td></tr><tr><td>58</td></tr><tr><td>85</td></tr><tr><td>73</td></tr><tr><td>63</td></tr><tr><td>69</td></tr><tr><td>67</td></tr><tr><td>63</td></tr><tr><td>60</td></tr><tr><td>71</td></tr><tr><td>87</td></tr><tr><td>61</td></tr><tr><td>77</td></tr><tr><td>68</td></tr><tr><td>50</td></tr><tr><td>76</td></tr><tr><td>84</td></tr><tr><td>78</td></tr><tr><td>66</td></tr><tr><td>76</td></tr><tr><td>76</td></tr><tr><td>78</td></tr><tr><td>60</td></tr><tr><td>74</td></tr><tr><td>60</td></tr><tr><td>54</td></tr><tr><td>44</td></tr><tr><td>68</td></tr><tr><td>100</td></tr><tr><td>68</td></tr><tr><td>73</td></tr><tr><td>44</td></tr><tr><td>83</td></tr><tr><td>53</td></tr><tr><td>78</td></tr><tr><td>81</td></tr><tr><td>73</td></tr><tr><td>56</td></tr><tr><td>86</td></tr><tr><td>90</td></tr><tr><td>70</td></tr><tr><td>79</td></tr><tr><td>59</td></tr><tr><td>82</td></tr><tr><td>72</td></tr><tr><td>87</td></tr><tr><td>67</td></tr><tr><td>64</td></tr><tr><td>65</td></tr><tr><td>36</td></tr><tr><td>52</td></tr><tr><td>79</td></tr><tr><td>58</td></tr><tr><td>90</td></tr><tr><td>85</td></tr><tr><td>99</td></tr><tr><td>84</td></tr><tr><td>74</td></tr><tr><td>87</td></tr><tr><td>72</td></tr><tr><td>99</td></tr><tr><td>74</td></tr><tr><td>80</td></tr><tr><td>70</td></tr><tr><td>59</td></tr><tr><td>88</td></tr><tr><td>42</td></tr><tr><td>41</td></tr><tr><td>71</td></tr><tr><td>77</td></tr><tr><td>57</td></tr><tr><td>84</td></tr><tr><td>37</td></tr><tr><td>80</td></tr><tr><td>43</td></tr><tr><td>94</td></tr><tr><td>44</td></tr><tr><td>57</td></tr><tr><td>59</td></tr><tr><td>84</td></tr><tr><td>73</td></tr><tr><td>73</td></tr><tr><td>55</td></tr><tr><td>72</td></tr><tr><td>56</td></tr><tr><td>82</td></tr><tr><td>72</td></tr><tr><td>47</td></tr><tr><td>74</td></tr><tr><td>71</td></tr><tr><td>68</td></tr><tr><td>59</td></tr><tr><td>86</td></tr><tr><td>68</td></tr><tr><td>65</td></tr><tr><td>75</td></tr><tr><td>85</td></tr><tr><td>53</td></tr><tr><td>92</td></tr><tr><td>52</td></tr><tr><td>72</td></tr><tr><td>65</td></tr><tr><td>77</td></tr><tr><td>64</td></tr><tr><td>54</td></tr><tr><td>86</td></tr><tr><td>63</td></tr><tr><td>59</td></tr><tr><td>72</td></tr><tr><td>77</td></tr><tr><td>60</td></tr><tr><td>75</td></tr><tr><td>57</td></tr><tr><td>49</td></tr><tr><td>74</td></tr><tr><td>72</td></tr><tr><td>79</td></tr><tr><td>60</td></tr><tr><td>55</td></tr><tr><td>70</td></tr><tr><td>43</td></tr><tr><td>82</td></tr><tr><td>82</td></tr><tr><td>57</td></tr><tr><td>84</td></tr><tr><td>82</td></tr><tr><td>62</td></tr><tr><td>79</td></tr><tr><td>44</td></tr><tr><td>77</td></tr><tr><td>32</td></tr><tr><td>61</td></tr><tr><td>61</td></tr><tr><td>60</td></tr><tr><td>70</td></tr><tr><td>69</td></tr><tr><td>77</td></tr><tr><td>51</td></tr><tr><td>73</td></tr><tr><td>70</td></tr><tr><td>81</td></tr><tr><td>54</td></tr><tr><td>57</td></tr><tr><td>68</td></tr><tr><td>73</td></tr><tr><td>95</td></tr><tr><td>87</td></tr><tr><td>78</td></tr><tr><td>74</td></tr><tr><td>75</td></tr><tr><td>40</td></tr><tr><td>69</td></tr><tr><td>51</td></tr><tr><td>36</td></tr><tr><td>49</td></tr><tr><td>67</td></tr><tr><td>76</td></tr><tr><td>83</td></tr><tr><td>87</td></tr><tr><td>64</td></tr><tr><td>76</td></tr><tr><td>68</td></tr><tr><td>88</td></tr><tr><td>92</td></tr><tr><td>93</td></tr><tr><td>51</td></tr><tr><td>82</td></tr><tr><td>52</td></tr><tr><td>58</td></tr><tr><td>70</td></tr><tr><td>76</td></tr><tr><td>81</td></tr><tr><td>53</td></tr><tr><td>57</td></tr><tr><td>89</td></tr><tr><td>58</td></tr><tr><td>89</td></tr><tr><td>45</td></tr><tr><td>74</td></tr><tr><td>57</td></tr><tr><td>79</td></tr><tr><td>53</td></tr><tr><td>73</td></tr><tr><td>46</td></tr><tr><td>51</td></tr><tr><td>36</td></tr><tr><td>76</td></tr><tr><td>64</td></tr><tr><td>84</td></tr><tr><td>85</td></tr><tr><td>50</td></tr><tr><td>68</td></tr><tr><td>69</td></tr><tr><td>67</td></tr><tr><td>63</td></tr><tr><td>93</td></tr><tr><td>61</td></tr><tr><td>55</td></tr><tr><td>96</td></tr><tr><td>65</td></tr><tr><td>81</td></tr><tr><td>46</td></tr><tr><td>72</td></tr><tr><td>53</td></tr><tr><td>87</td></tr><tr><td>38</td></tr><tr><td>80</td></tr><tr><td>91</td></tr><tr><td>88</td></tr><tr><td>52</td></tr><tr><td>41</td></tr><tr><td>72</td></tr><tr><td>51</td></tr><tr><td>47</td></tr><tr><td>76</td></tr><tr><td>78</td></tr><tr><td>82</td></tr><tr><td>61</td></tr><tr><td>66</td></tr><tr><td>84</td></tr><tr><td>54</td></tr><tr><td>80</td></tr><tr><td>74</td></tr><tr><td>66</td></tr><tr><td>70</td></tr><tr><td>71</td></tr><tr><td>44</td></tr><tr><td>54</td></tr><tr><td>80</td></tr><tr><td>95</td></tr><tr><td>59</td></tr><tr><td>74</td></tr><tr><td>48</td></tr><tr><td>91</td></tr><tr><td>85</td></tr><tr><td>73</td></tr><tr><td>75</td></tr><tr><td>69</td></tr><tr><td>38</td></tr><tr><td>27</td></tr><tr><td>79</td></tr><tr><td>63</td></tr><tr><td>82</td></tr><tr><td>89</td></tr><tr><td>74</td></tr><tr><td>41</td></tr><tr><td>100</td></tr><tr><td>84</td></tr><tr><td>77</td></tr><tr><td>51</td></tr><tr><td>91</td></tr><tr><td>72</td></tr><tr><td>70</td></tr><tr><td>48</td></tr><tr><td>82</td></tr><tr><td>66</td></tr><tr><td>66</td></tr><tr><td>55</td></tr><tr><td>66</td></tr><tr><td>100</td></tr><tr><td>52</td></tr><tr><td>80</td></tr><tr><td>91</td></tr><tr><td>67</td></tr><tr><td>46</td></tr><tr><td>66</td></tr><tr><td>65</td></tr><tr><td>69</td></tr><tr><td>60</td></tr><tr><td>52</td></tr><tr><td>71</td></tr><tr><td>44</td></tr><tr><td>51</td></tr><tr><td>70</td></tr><tr><td>62</td></tr><tr><td>73</td></tr><tr><td>74</td></tr><tr><td>90</td></tr><tr><td>58</td></tr><tr><td>53</td></tr><tr><td>57</td></tr><tr><td>85</td></tr><tr><td>69</td></tr><tr><td>72</td></tr><tr><td>96</td></tr><tr><td>64</td></tr><tr><td>61</td></tr><tr><td>61</td></tr><tr><td>58</td></tr><tr><td>80</td></tr><tr><td>60</td></tr><tr><td>52</td></tr><tr><td>73</td></tr><tr><td>71</td></tr><tr><td>83</td></tr><tr><td>72</td></tr><tr><td>54</td></tr><tr><td>69</td></tr><tr><td>62</td></tr><tr><td>81</td></tr><tr><td>100</td></tr><tr><td>59</td></tr><tr><td>71</td></tr><tr><td>64</td></tr><tr><td>53</td></tr><tr><td>100</td></tr><tr><td>75</td></tr><tr><td>58</td></tr><tr><td>72</td></tr><tr><td>64</td></tr><tr><td>60</td></tr><tr><td>67</td></tr><tr><td>80</td></tr><tr><td>100</td></tr><tr><td>69</td></tr><tr><td>60</td></tr><tr><td>61</td></tr><tr><td>67</td></tr><tr><td>77</td></tr><tr><td>60</td></tr><tr><td>58</td></tr><tr><td>48</td></tr><tr><td>94</td></tr><tr><td>23</td></tr><tr><td>78</td></tr><tr><td>86</td></tr><tr><td>91</td></tr><tr><td>82</td></tr><tr><td>54</td></tr><tr><td>51</td></tr><tr><td>76</td></tr><tr><td>45</td></tr><tr><td>83</td></tr><tr><td>75</td></tr><tr><td>78</td></tr><tr><td>76</td></tr><tr><td>74</td></tr><tr><td>62</td></tr><tr><td>95</td></tr><tr><td>55</td></tr><tr><td>65</td></tr><tr><td>77</td></tr><tr><td>86</td></tr></tbody></table></div>"
      ]
     },
     "metadata": {
      "application/vnd.databricks.v1+output": {
       "addedWidgets": {},
       "aggData": [],
       "aggError": "",
       "aggOverflow": false,
       "aggSchema": [],
       "aggSeriesLimitReached": false,
       "aggType": "",
       "arguments": {},
       "columnCustomDisplayInfos": {},
       "data": [
        [
         74
        ],
        [
         88
        ],
        [
         93
        ],
        [
         44
        ],
        [
         75
        ],
        [
         78
        ],
        [
         92
        ],
        [
         39
        ],
        [
         67
        ],
        [
         50
        ],
        [
         52
        ],
        [
         43
        ],
        [
         73
        ],
        [
         70
        ],
        [
         58
        ],
        [
         78
        ],
        [
         86
        ],
        [
         28
        ],
        [
         46
        ],
        [
         61
        ],
        [
         63
        ],
        [
         70
        ],
        [
         53
        ],
        [
         73
        ],
        [
         80
        ],
        [
         72
        ],
        [
         55
        ],
        [
         75
        ],
        [
         65
        ],
        [
         75
        ],
        [
         74
        ],
        [
         61
        ],
        [
         65
        ],
        [
         38
        ],
        [
         82
        ],
        [
         79
        ],
        [
         83
        ],
        [
         59
        ],
        [
         88
        ],
        [
         57
        ],
        [
         54
        ],
        [
         68
        ],
        [
         65
        ],
        [
         66
        ],
        [
         54
        ],
        [
         57
        ],
        [
         62
        ],
        [
         76
        ],
        [
         76
        ],
        [
         82
        ],
        [
         48
        ],
        [
         68
        ],
        [
         42
        ],
        [
         75
        ],
        [
         87
        ],
        [
         43
        ],
        [
         86
        ],
        [
         49
        ],
        [
         58
        ],
        [
         10
        ],
        [
         72
        ],
        [
         34
        ],
        [
         55
        ],
        [
         71
        ],
        [
         59
        ],
        [
         61
        ],
        [
         37
        ],
        [
         74
        ],
        [
         56
        ],
        [
         57
        ],
        [
         73
        ],
        [
         63
        ],
        [
         48
        ],
        [
         56
        ],
        [
         41
        ],
        [
         38
        ],
        [
         22
        ],
        [
         81
        ],
        [
         72
        ],
        [
         68
        ],
        [
         50
        ],
        [
         45
        ],
        [
         54
        ],
        [
         63
        ],
        [
         34
        ],
        [
         82
        ],
        [
         88
        ],
        [
         74
        ],
        [
         67
        ],
        [
         82
        ],
        [
         74
        ],
        [
         36
        ],
        [
         71
        ],
        [
         50
        ],
        [
         92
        ],
        [
         82
        ],
        [
         62
        ],
        [
         70
        ],
        [
         62
        ],
        [
         62
        ],
        [
         67
        ],
        [
         74
        ],
        [
         89
        ],
        [
         47
        ],
        [
         90
        ],
        [
         72
        ],
        [
         100
        ],
        [
         64
        ],
        [
         70
        ],
        [
         72
        ],
        [
         98
        ],
        [
         49
        ],
        [
         47
        ],
        [
         54
        ],
        [
         100
        ],
        [
         74
        ],
        [
         82
        ],
        [
         79
        ],
        [
         61
        ],
        [
         65
        ],
        [
         89
        ],
        [
         92
        ],
        [
         93
        ],
        [
         56
        ],
        [
         73
        ],
        [
         86
        ],
        [
         67
        ],
        [
         74
        ],
        [
         74
        ],
        [
         51
        ],
        [
         82
        ],
        [
         40
        ],
        [
         70
        ],
        [
         84
        ],
        [
         75
        ],
        [
         48
        ],
        [
         41
        ],
        [
         56
        ],
        [
         67
        ],
        [
         69
        ],
        [
         71
        ],
        [
         64
        ],
        [
         54
        ],
        [
         47
        ],
        [
         78
        ],
        [
         33
        ],
        [
         75
        ],
        [
         66
        ],
        [
         81
        ],
        [
         93
        ],
        [
         69
        ],
        [
         68
        ],
        [
         66
        ],
        [
         47
        ],
        [
         61
        ],
        [
         88
        ],
        [
         78
        ],
        [
         60
        ],
        [
         87
        ],
        [
         64
        ],
        [
         74
        ],
        [
         85
        ],
        [
         52
        ],
        [
         49
        ],
        [
         91
        ],
        [
         100
        ],
        [
         51
        ],
        [
         78
        ],
        [
         78
        ],
        [
         70
        ],
        [
         74
        ],
        [
         78
        ],
        [
         81
        ],
        [
         70
        ],
        [
         54
        ],
        [
         87
        ],
        [
         58
        ],
        [
         77
        ],
        [
         62
        ],
        [
         100
        ],
        [
         75
        ],
        [
         66
        ],
        [
         47
        ],
        [
         70
        ],
        [
         49
        ],
        [
         65
        ],
        [
         65
        ],
        [
         68
        ],
        [
         45
        ],
        [
         87
        ],
        [
         69
        ],
        [
         79
        ],
        [
         66
        ],
        [
         62
        ],
        [
         85
        ],
        [
         52
        ],
        [
         65
        ],
        [
         51
        ],
        [
         55
        ],
        [
         76
        ],
        [
         86
        ],
        [
         77
        ],
        [
         69
        ],
        [
         68
        ],
        [
         42
        ],
        [
         78
        ],
        [
         62
        ],
        [
         76
        ],
        [
         76
        ],
        [
         66
        ],
        [
         79
        ],
        [
         27
        ],
        [
         60
        ],
        [
         56
        ],
        [
         81
        ],
        [
         75
        ],
        [
         88
        ],
        [
         39
        ],
        [
         70
        ],
        [
         56
        ],
        [
         74
        ],
        [
         73
        ],
        [
         62
        ],
        [
         75
        ],
        [
         73
        ],
        [
         54
        ],
        [
         71
        ],
        [
         54
        ],
        [
         64
        ],
        [
         94
        ],
        [
         66
        ],
        [
         42
        ],
        [
         83
        ],
        [
         78
        ],
        [
         84
        ],
        [
         77
        ],
        [
         67
        ],
        [
         74
        ],
        [
         51
        ],
        [
         80
        ],
        [
         66
        ],
        [
         83
        ],
        [
         55
        ],
        [
         43
        ],
        [
         69
        ],
        [
         71
        ],
        [
         74
        ],
        [
         68
        ],
        [
         62
        ],
        [
         53
        ],
        [
         49
        ],
        [
         83
        ],
        [
         70
        ],
        [
         72
        ],
        [
         52
        ],
        [
         70
        ],
        [
         68
        ],
        [
         77
        ],
        [
         78
        ],
        [
         81
        ],
        [
         77
        ],
        [
         78
        ],
        [
         51
        ],
        [
         90
        ],
        [
         68
        ],
        [
         41
        ],
        [
         81
        ],
        [
         77
        ],
        [
         95
        ],
        [
         70
        ],
        [
         61
        ],
        [
         42
        ],
        [
         58
        ],
        [
         71
        ],
        [
         76
        ],
        [
         73
        ],
        [
         93
        ],
        [
         75
        ],
        [
         80
        ],
        [
         57
        ],
        [
         42
        ],
        [
         46
        ],
        [
         84
        ],
        [
         78
        ],
        [
         46
        ],
        [
         82
        ],
        [
         88
        ],
        [
         82
        ],
        [
         76
        ],
        [
         77
        ],
        [
         68
        ],
        [
         70
        ],
        [
         57
        ],
        [
         75
        ],
        [
         80
        ],
        [
         60
        ],
        [
         43
        ],
        [
         68
        ],
        [
         50
        ],
        [
         75
        ],
        [
         81
        ],
        [
         52
        ],
        [
         81
        ],
        [
         64
        ],
        [
         83
        ],
        [
         69
        ],
        [
         81
        ],
        [
         44
        ],
        [
         67
        ],
        [
         52
        ],
        [
         80
        ],
        [
         57
        ],
        [
         68
        ],
        [
         69
        ],
        [
         75
        ],
        [
         65
        ],
        [
         91
        ],
        [
         78
        ],
        [
         69
        ],
        [
         63
        ],
        [
         84
        ],
        [
         79
        ],
        [
         80
        ],
        [
         53
        ],
        [
         43
        ],
        [
         94
        ],
        [
         62
        ],
        [
         19
        ],
        [
         77
        ],
        [
         51
        ],
        [
         61
        ],
        [
         35
        ],
        [
         53
        ],
        [
         81
        ],
        [
         95
        ],
        [
         66
        ],
        [
         69
        ],
        [
         43
        ],
        [
         27
        ],
        [
         60
        ],
        [
         52
        ],
        [
         63
        ],
        [
         74
        ],
        [
         67
        ],
        [
         67
        ],
        [
         75
        ],
        [
         57
        ],
        [
         95
        ],
        [
         66
        ],
        [
         76
        ],
        [
         69
        ],
        [
         52
        ],
        [
         80
        ],
        [
         57
        ],
        [
         70
        ],
        [
         70
        ],
        [
         61
        ],
        [
         69
        ],
        [
         61
        ],
        [
         89
        ],
        [
         59
        ],
        [
         78
        ],
        [
         58
        ],
        [
         32
        ],
        [
         58
        ],
        [
         60
        ],
        [
         53
        ],
        [
         61
        ],
        [
         58
        ],
        [
         85
        ],
        [
         71
        ],
        [
         70
        ],
        [
         72
        ],
        [
         96
        ],
        [
         73
        ],
        [
         41
        ],
        [
         82
        ],
        [
         100
        ],
        [
         77
        ],
        [
         62
        ],
        [
         83
        ],
        [
         95
        ],
        [
         71
        ],
        [
         45
        ],
        [
         43
        ],
        [
         75
        ],
        [
         70
        ],
        [
         67
        ],
        [
         64
        ],
        [
         75
        ],
        [
         59
        ],
        [
         77
        ],
        [
         67
        ],
        [
         56
        ],
        [
         77
        ],
        [
         41
        ],
        [
         63
        ],
        [
         95
        ],
        [
         57
        ],
        [
         54
        ],
        [
         67
        ],
        [
         43
        ],
        [
         55
        ],
        [
         100
        ],
        [
         62
        ],
        [
         68
        ],
        [
         63
        ],
        [
         77
        ],
        [
         56
        ],
        [
         85
        ],
        [
         74
        ],
        [
         78
        ],
        [
         60
        ],
        [
         67
        ],
        [
         79
        ],
        [
         69
        ],
        [
         68
        ],
        [
         67
        ],
        [
         62
        ],
        [
         54
        ],
        [
         93
        ],
        [
         64
        ],
        [
         67
        ],
        [
         80
        ],
        [
         34
        ],
        [
         62
        ],
        [
         86
        ],
        [
         65
        ],
        [
         53
        ],
        [
         54
        ],
        [
         59
        ],
        [
         70
        ],
        [
         55
        ],
        [
         50
        ],
        [
         66
        ],
        [
         53
        ],
        [
         64
        ],
        [
         73
        ],
        [
         51
        ],
        [
         82
        ],
        [
         79
        ],
        [
         80
        ],
        [
         69
        ],
        [
         76
        ],
        [
         73
        ],
        [
         77
        ],
        [
         60
        ],
        [
         80
        ],
        [
         42
        ],
        [
         72
        ],
        [
         85
        ],
        [
         97
        ],
        [
         74
        ],
        [
         49
        ],
        [
         62
        ],
        [
         47
        ],
        [
         89
        ],
        [
         48
        ],
        [
         100
        ],
        [
         68
        ],
        [
         55
        ],
        [
         45
        ],
        [
         76
        ],
        [
         91
        ],
        [
         62
        ],
        [
         91
        ],
        [
         38
        ],
        [
         65
        ],
        [
         85
        ],
        [
         76
        ],
        [
         90
        ],
        [
         74
        ],
        [
         84
        ],
        [
         61
        ],
        [
         91
        ],
        [
         83
        ],
        [
         66
        ],
        [
         72
        ],
        [
         70
        ],
        [
         67
        ],
        [
         68
        ],
        [
         56
        ],
        [
         61
        ],
        [
         46
        ],
        [
         54
        ],
        [
         71
        ],
        [
         56
        ],
        [
         74
        ],
        [
         57
        ],
        [
         82
        ],
        [
         76
        ],
        [
         70
        ],
        [
         90
        ],
        [
         90
        ],
        [
         68
        ],
        [
         66
        ],
        [
         52
        ],
        [
         76
        ],
        [
         68
        ],
        [
         72
        ],
        [
         82
        ],
        [
         92
        ],
        [
         54
        ],
        [
         92
        ],
        [
         54
        ],
        [
         80
        ],
        [
         66
        ],
        [
         54
        ],
        [
         77
        ],
        [
         87
        ],
        [
         73
        ],
        [
         43
        ],
        [
         52
        ],
        [
         62
        ],
        [
         94
        ],
        [
         85
        ],
        [
         84
        ],
        [
         73
        ],
        [
         78
        ],
        [
         79
        ],
        [
         52
        ],
        [
         84
        ],
        [
         57
        ],
        [
         50
        ],
        [
         49
        ],
        [
         59
        ],
        [
         60
        ],
        [
         43
        ],
        [
         47
        ],
        [
         70
        ],
        [
         73
        ],
        [
         53
        ],
        [
         58
        ],
        [
         94
        ],
        [
         68
        ],
        [
         83
        ],
        [
         58
        ],
        [
         62
        ],
        [
         71
        ],
        [
         86
        ],
        [
         68
        ],
        [
         80
        ],
        [
         79
        ],
        [
         89
        ],
        [
         66
        ],
        [
         80
        ],
        [
         97
        ],
        [
         64
        ],
        [
         64
        ],
        [
         69
        ],
        [
         65
        ],
        [
         88
        ],
        [
         50
        ],
        [
         64
        ],
        [
         40
        ],
        [
         33
        ],
        [
         79
        ],
        [
         66
        ],
        [
         70
        ],
        [
         62
        ],
        [
         79
        ],
        [
         74
        ],
        [
         92
        ],
        [
         80
        ],
        [
         46
        ],
        [
         45
        ],
        [
         100
        ],
        [
         78
        ],
        [
         47
        ],
        [
         67
        ],
        [
         70
        ],
        [
         92
        ],
        [
         56
        ],
        [
         64
        ],
        [
         71
        ],
        [
         53
        ],
        [
         52
        ],
        [
         89
        ],
        [
         58
        ],
        [
         68
        ],
        [
         96
        ],
        [
         80
        ],
        [
         78
        ],
        [
         80
        ],
        [
         77
        ],
        [
         76
        ],
        [
         73
        ],
        [
         62
        ],
        [
         65
        ],
        [
         65
        ],
        [
         54
        ],
        [
         50
        ],
        [
         64
        ],
        [
         73
        ],
        [
         99
        ],
        [
         72
        ],
        [
         15
        ],
        [
         48
        ],
        [
         73
        ],
        [
         81
        ],
        [
         63
        ],
        [
         30
        ],
        [
         80
        ],
        [
         51
        ],
        [
         90
        ],
        [
         62
        ],
        [
         82
        ],
        [
         54
        ],
        [
         62
        ],
        [
         65
        ],
        [
         63
        ],
        [
         66
        ],
        [
         91
        ],
        [
         74
        ],
        [
         93
        ],
        [
         72
        ],
        [
         38
        ],
        [
         83
        ],
        [
         84
        ],
        [
         68
        ],
        [
         54
        ],
        [
         56
        ],
        [
         52
        ],
        [
         86
        ],
        [
         62
        ],
        [
         99
        ],
        [
         63
        ],
        [
         46
        ],
        [
         46
        ],
        [
         55
        ],
        [
         70
        ],
        [
         65
        ],
        [
         81
        ],
        [
         85
        ],
        [
         80
        ],
        [
         64
        ],
        [
         81
        ],
        [
         88
        ],
        [
         74
        ],
        [
         73
        ],
        [
         51
        ],
        [
         90
        ],
        [
         79
        ],
        [
         80
        ],
        [
         60
        ],
        [
         81
        ],
        [
         65
        ],
        [
         68
        ],
        [
         55
        ],
        [
         81
        ],
        [
         53
        ],
        [
         76
        ],
        [
         98
        ],
        [
         74
        ],
        [
         79
        ],
        [
         67
        ],
        [
         64
        ],
        [
         61
        ],
        [
         58
        ],
        [
         85
        ],
        [
         73
        ],
        [
         63
        ],
        [
         69
        ],
        [
         67
        ],
        [
         63
        ],
        [
         60
        ],
        [
         71
        ],
        [
         87
        ],
        [
         61
        ],
        [
         77
        ],
        [
         68
        ],
        [
         50
        ],
        [
         76
        ],
        [
         84
        ],
        [
         78
        ],
        [
         66
        ],
        [
         76
        ],
        [
         76
        ],
        [
         78
        ],
        [
         60
        ],
        [
         74
        ],
        [
         60
        ],
        [
         54
        ],
        [
         44
        ],
        [
         68
        ],
        [
         100
        ],
        [
         68
        ],
        [
         73
        ],
        [
         44
        ],
        [
         83
        ],
        [
         53
        ],
        [
         78
        ],
        [
         81
        ],
        [
         73
        ],
        [
         56
        ],
        [
         86
        ],
        [
         90
        ],
        [
         70
        ],
        [
         79
        ],
        [
         59
        ],
        [
         82
        ],
        [
         72
        ],
        [
         87
        ],
        [
         67
        ],
        [
         64
        ],
        [
         65
        ],
        [
         36
        ],
        [
         52
        ],
        [
         79
        ],
        [
         58
        ],
        [
         90
        ],
        [
         85
        ],
        [
         99
        ],
        [
         84
        ],
        [
         74
        ],
        [
         87
        ],
        [
         72
        ],
        [
         99
        ],
        [
         74
        ],
        [
         80
        ],
        [
         70
        ],
        [
         59
        ],
        [
         88
        ],
        [
         42
        ],
        [
         41
        ],
        [
         71
        ],
        [
         77
        ],
        [
         57
        ],
        [
         84
        ],
        [
         37
        ],
        [
         80
        ],
        [
         43
        ],
        [
         94
        ],
        [
         44
        ],
        [
         57
        ],
        [
         59
        ],
        [
         84
        ],
        [
         73
        ],
        [
         73
        ],
        [
         55
        ],
        [
         72
        ],
        [
         56
        ],
        [
         82
        ],
        [
         72
        ],
        [
         47
        ],
        [
         74
        ],
        [
         71
        ],
        [
         68
        ],
        [
         59
        ],
        [
         86
        ],
        [
         68
        ],
        [
         65
        ],
        [
         75
        ],
        [
         85
        ],
        [
         53
        ],
        [
         92
        ],
        [
         52
        ],
        [
         72
        ],
        [
         65
        ],
        [
         77
        ],
        [
         64
        ],
        [
         54
        ],
        [
         86
        ],
        [
         63
        ],
        [
         59
        ],
        [
         72
        ],
        [
         77
        ],
        [
         60
        ],
        [
         75
        ],
        [
         57
        ],
        [
         49
        ],
        [
         74
        ],
        [
         72
        ],
        [
         79
        ],
        [
         60
        ],
        [
         55
        ],
        [
         70
        ],
        [
         43
        ],
        [
         82
        ],
        [
         82
        ],
        [
         57
        ],
        [
         84
        ],
        [
         82
        ],
        [
         62
        ],
        [
         79
        ],
        [
         44
        ],
        [
         77
        ],
        [
         32
        ],
        [
         61
        ],
        [
         61
        ],
        [
         60
        ],
        [
         70
        ],
        [
         69
        ],
        [
         77
        ],
        [
         51
        ],
        [
         73
        ],
        [
         70
        ],
        [
         81
        ],
        [
         54
        ],
        [
         57
        ],
        [
         68
        ],
        [
         73
        ],
        [
         95
        ],
        [
         87
        ],
        [
         78
        ],
        [
         74
        ],
        [
         75
        ],
        [
         40
        ],
        [
         69
        ],
        [
         51
        ],
        [
         36
        ],
        [
         49
        ],
        [
         67
        ],
        [
         76
        ],
        [
         83
        ],
        [
         87
        ],
        [
         64
        ],
        [
         76
        ],
        [
         68
        ],
        [
         88
        ],
        [
         92
        ],
        [
         93
        ],
        [
         51
        ],
        [
         82
        ],
        [
         52
        ],
        [
         58
        ],
        [
         70
        ],
        [
         76
        ],
        [
         81
        ],
        [
         53
        ],
        [
         57
        ],
        [
         89
        ],
        [
         58
        ],
        [
         89
        ],
        [
         45
        ],
        [
         74
        ],
        [
         57
        ],
        [
         79
        ],
        [
         53
        ],
        [
         73
        ],
        [
         46
        ],
        [
         51
        ],
        [
         36
        ],
        [
         76
        ],
        [
         64
        ],
        [
         84
        ],
        [
         85
        ],
        [
         50
        ],
        [
         68
        ],
        [
         69
        ],
        [
         67
        ],
        [
         63
        ],
        [
         93
        ],
        [
         61
        ],
        [
         55
        ],
        [
         96
        ],
        [
         65
        ],
        [
         81
        ],
        [
         46
        ],
        [
         72
        ],
        [
         53
        ],
        [
         87
        ],
        [
         38
        ],
        [
         80
        ],
        [
         91
        ],
        [
         88
        ],
        [
         52
        ],
        [
         41
        ],
        [
         72
        ],
        [
         51
        ],
        [
         47
        ],
        [
         76
        ],
        [
         78
        ],
        [
         82
        ],
        [
         61
        ],
        [
         66
        ],
        [
         84
        ],
        [
         54
        ],
        [
         80
        ],
        [
         74
        ],
        [
         66
        ],
        [
         70
        ],
        [
         71
        ],
        [
         44
        ],
        [
         54
        ],
        [
         80
        ],
        [
         95
        ],
        [
         59
        ],
        [
         74
        ],
        [
         48
        ],
        [
         91
        ],
        [
         85
        ],
        [
         73
        ],
        [
         75
        ],
        [
         69
        ],
        [
         38
        ],
        [
         27
        ],
        [
         79
        ],
        [
         63
        ],
        [
         82
        ],
        [
         89
        ],
        [
         74
        ],
        [
         41
        ],
        [
         100
        ],
        [
         84
        ],
        [
         77
        ],
        [
         51
        ],
        [
         91
        ],
        [
         72
        ],
        [
         70
        ],
        [
         48
        ],
        [
         82
        ],
        [
         66
        ],
        [
         66
        ],
        [
         55
        ],
        [
         66
        ],
        [
         100
        ],
        [
         52
        ],
        [
         80
        ],
        [
         91
        ],
        [
         67
        ],
        [
         46
        ],
        [
         66
        ],
        [
         65
        ],
        [
         69
        ],
        [
         60
        ],
        [
         52
        ],
        [
         71
        ],
        [
         44
        ],
        [
         51
        ],
        [
         70
        ],
        [
         62
        ],
        [
         73
        ],
        [
         74
        ],
        [
         90
        ],
        [
         58
        ],
        [
         53
        ],
        [
         57
        ],
        [
         85
        ],
        [
         69
        ],
        [
         72
        ],
        [
         96
        ],
        [
         64
        ],
        [
         61
        ],
        [
         61
        ],
        [
         58
        ],
        [
         80
        ],
        [
         60
        ],
        [
         52
        ],
        [
         73
        ],
        [
         71
        ],
        [
         83
        ],
        [
         72
        ],
        [
         54
        ],
        [
         69
        ],
        [
         62
        ],
        [
         81
        ],
        [
         100
        ],
        [
         59
        ],
        [
         71
        ],
        [
         64
        ],
        [
         53
        ],
        [
         100
        ],
        [
         75
        ],
        [
         58
        ],
        [
         72
        ],
        [
         64
        ],
        [
         60
        ],
        [
         67
        ],
        [
         80
        ],
        [
         100
        ],
        [
         69
        ],
        [
         60
        ],
        [
         61
        ],
        [
         67
        ],
        [
         77
        ],
        [
         60
        ],
        [
         58
        ],
        [
         48
        ],
        [
         94
        ],
        [
         23
        ],
        [
         78
        ],
        [
         86
        ],
        [
         91
        ],
        [
         82
        ],
        [
         54
        ],
        [
         51
        ],
        [
         76
        ],
        [
         45
        ],
        [
         83
        ],
        [
         75
        ],
        [
         78
        ],
        [
         76
        ],
        [
         74
        ],
        [
         62
        ],
        [
         95
        ],
        [
         55
        ],
        [
         65
        ],
        [
         77
        ],
        [
         86
        ]
       ],
       "datasetInfos": [],
       "dbfsResultPath": null,
       "isJsonSchema": true,
       "metadata": {},
       "overflow": false,
       "plotOptions": {
        "customPlotOptions": {},
        "displayType": "table",
        "pivotAggregation": null,
        "pivotColumns": null,
        "xColumns": null,
        "yColumns": null
       },
       "removedWidgets": [],
       "schema": [
        {
         "metadata": "{}",
         "name": "writing score",
         "type": "\"integer\""
        }
       ],
       "type": "table"
      }
     },
     "output_type": "display_data"
    },
    {
     "output_type": "display_data",
     "data": {
      "text/plain": [
       "Databricks visualization. Run in Databricks to view."
      ]
     },
     "metadata": {
      "application/vnd.databricks.v1.subcommand+json": {
       "baseErrorDetails": null,
       "bindings": {},
       "collapsed": false,
       "command": "%python\n__backend_agg_display_orig = display\n__backend_agg_dfs = []\ndef __backend_agg_display_new(df):\n    __backend_agg_df_modules = [\"pandas.core.frame\", \"databricks.koalas.frame\", \"pyspark.sql.dataframe\", \"pyspark.pandas.frame\", \"pyspark.sql.connect.dataframe\"]\n    if (type(df).__module__ in __backend_agg_df_modules and type(df).__name__ == 'DataFrame') or isinstance(df, list):\n        __backend_agg_dfs.append(df)\n\ndisplay = __backend_agg_display_new\n\ndef __backend_agg_user_code_fn():\n    import base64\n    exec(base64.standard_b64decode(\"cmVzdWx0PWRmLnNlbGVjdCgid3JpdGluZyBzY29yZSIpCmRpc3BsYXkocmVzdWx0KQ==\").decode())\n\ntry:\n    # run user code\n    __backend_agg_user_code_fn()\n\n    #reset display function\n    display = __backend_agg_display_orig\n\n    if len(__backend_agg_dfs) > 0:\n        # create a temp view\n        if type(__backend_agg_dfs[0]).__module__ == \"databricks.koalas.frame\":\n            # koalas dataframe\n            __backend_agg_dfs[0].to_spark().createOrReplaceTempView(\"DatabricksView5aa1873\")\n        elif type(__backend_agg_dfs[0]).__module__ == \"pandas.core.frame\" or isinstance(__backend_agg_dfs[0], list):\n            # pandas dataframe\n            spark.createDataFrame(__backend_agg_dfs[0]).createOrReplaceTempView(\"DatabricksView5aa1873\")\n        else:\n            __backend_agg_dfs[0].createOrReplaceTempView(\"DatabricksView5aa1873\")\n        #run backend agg\n        display(spark.sql(\"\"\"WITH q AS (select * from DatabricksView5aa1873) ,min_max AS (SELECT `writing score`,(SELECT MAX(`writing score`) FROM q) `target_column_max`,(SELECT MIN(`writing score`) FROM q) `target_column_min` FROM q) ,histogram_meta AS (SELECT `writing score`,`target_column_min` `min_value`,IF(`target_column_max` = `target_column_min`,`target_column_max` + 1,`target_column_max`) `max_value`,(`target_column_max` - `target_column_min`) / 10 `step` FROM min_max) SELECT IF(ISNULL(`writing score`),NULL,LEAST(WIDTH_BUCKET(`writing score`,`min_value`,`max_value`,10),10)) `writing score_BIN`,FIRST(`min_value` + ((IF(ISNULL(`writing score`),NULL,LEAST(WIDTH_BUCKET(`writing score`,`min_value`,`max_value`,10),10)) - 1) * `step`)) `writing score_BIN_LOWER_BOUND`,FIRST(`step`) `writing score_BIN_STEP`,COUNT(`writing score`) `COUNT` FROM histogram_meta GROUP BY `writing score_BIN`\"\"\"))\n    else:\n        displayHTML(\"dataframe no longer exists. If you're using dataframe.display(), use display(dataframe) instead.\")\n\n\nfinally:\n    spark.sql(\"drop view if exists DatabricksView5aa1873\")\n    display = __backend_agg_display_orig\n    del __backend_agg_display_new\n    del __backend_agg_display_orig\n    del __backend_agg_dfs\n    del __backend_agg_user_code_fn\n\n",
       "commandTitle": "Visualization 1",
       "commandType": "auto",
       "commandVersion": 0,
       "commentThread": [],
       "commentsVisible": false,
       "contentSha256Hex": null,
       "customPlotOptions": {
        "redashChart": [
         {
          "key": "type",
          "value": "CHART"
         },
         {
          "key": "options",
          "value": {
           "alignYAxesAtZero": true,
           "coefficient": 1,
           "columnConfigurationMap": {
            "x": {
             "column": "writing score",
             "id": "column_93df7567128"
            }
           },
           "dateTimeFormat": "DD/MM/YYYY HH:mm",
           "direction": {
            "type": "counterclockwise"
           },
           "error_y": {
            "type": "data",
            "visible": true
           },
           "globalSeriesType": "histogram",
           "legend": {
            "traceorder": "normal"
           },
           "missingValuesAsZero": true,
           "numBins": 10,
           "numberFormat": "0,0.[00000]",
           "percentFormat": "0[.]00%",
           "series": {
            "error_y": {
             "type": "data",
             "visible": true
            },
            "stacking": null
           },
           "seriesOptions": {},
           "showDataLabels": false,
           "sizemode": "diameter",
           "sortX": true,
           "sortY": true,
           "swappedAxes": false,
           "textFormat": "",
           "useAggregationsUi": true,
           "valuesOptions": {},
           "version": 2,
           "xAxis": {
            "labels": {
             "enabled": true
            },
            "type": "-"
           },
           "yAxis": [
            {
             "type": "-"
            },
            {
             "opposite": true,
             "type": "-"
            }
           ]
          }
         }
        ]
       },
       "datasetPreviewNameToCmdIdMap": {},
       "diffDeletes": [],
       "diffInserts": [],
       "displayType": "redashChart",
       "error": null,
       "errorDetails": null,
       "errorSummary": null,
       "errorTraceType": null,
       "finishTime": 0,
       "globalVars": {},
       "guid": "",
       "height": "auto",
       "hideCommandCode": false,
       "hideCommandResult": false,
       "iPythonMetadata": null,
       "inputWidgets": {},
       "isLockedInExamMode": false,
       "latestUser": "a user",
       "latestUserId": null,
       "listResultMetadata": null,
       "metadata": {},
       "nuid": "53a76a2c-9e85-40c1-8e3a-f6ce60cd0317",
       "origId": 0,
       "parentHierarchy": [],
       "pivotAggregation": null,
       "pivotColumns": null,
       "position": 10.0,
       "resultDbfsErrorMessage": null,
       "resultDbfsStatus": "INLINED_IN_TREE",
       "results": null,
       "showCommandTitle": false,
       "startTime": 0,
       "state": "input",
       "streamStates": {},
       "subcommandOptions": {
        "queryPlan": {
         "groups": [
          {
           "column": "writing score_BIN",
           "type": "column"
          }
         ],
         "selects": [
          {
           "alias": "writing score_BIN",
           "args": [
            {
             "column": "writing score",
             "type": "column"
            },
            {
             "number": 10,
             "type": "number"
            }
           ],
           "function": "BIN",
           "type": "function"
          },
          {
           "alias": "writing score_BIN_LOWER_BOUND",
           "args": [
            {
             "column": "writing score",
             "type": "column"
            },
            {
             "number": 10,
             "type": "number"
            }
           ],
           "function": "BIN_LOWER_BOUND",
           "type": "function"
          },
          {
           "alias": "writing score_BIN_STEP",
           "args": [
            {
             "column": "writing score",
             "type": "column"
            },
            {
             "number": 10,
             "type": "number"
            }
           ],
           "function": "BIN_STEP",
           "type": "function"
          },
          {
           "alias": "COUNT",
           "args": [
            {
             "column": "writing score",
             "type": "column"
            }
           ],
           "function": "COUNT",
           "type": "function"
          }
         ]
        }
       },
       "submitTime": 0,
       "subtype": "tableResultSubCmd.visualization",
       "tableResultIndex": 0,
       "tableResultSettingsMap": {},
       "useConsistentColors": false,
       "version": "CommandV1",
       "width": "auto",
       "workflows": [],
       "xColumns": null,
       "yColumns": null
      }
     },
     "output_type": "display_data"
    }
   ],
   "source": [
    "result=df.select(\"writing score\")\n",
    "display(result)"
   ]
  },
  {
   "cell_type": "markdown",
   "metadata": {
    "application/vnd.databricks.v1+cell": {
     "cellMetadata": {},
     "inputWidgets": {},
     "nuid": "99ae9611-ebfc-4803-9ecf-870fb9036fba",
     "showTitle": false,
     "tableResultSettingsMap": {},
     "title": ""
    }
   },
   "source": [
    "Line Chart – Average Scores by Race/Ethnicity"
   ]
  },
  {
   "cell_type": "code",
   "execution_count": 0,
   "metadata": {
    "application/vnd.databricks.v1+cell": {
     "cellMetadata": {
      "byteLimit": 2048000,
      "rowLimit": 10000
     },
     "inputWidgets": {},
     "nuid": "ebce47e5-c66d-434c-9762-8fe06de4687a",
     "showTitle": false,
     "tableResultSettingsMap": {},
     "title": ""
    }
   },
   "outputs": [
    {
     "output_type": "display_data",
     "data": {
      "text/html": [
       "<style scoped>\n",
       "  .table-result-container {\n",
       "    max-height: 300px;\n",
       "    overflow: auto;\n",
       "  }\n",
       "  table, th, td {\n",
       "    border: 1px solid black;\n",
       "    border-collapse: collapse;\n",
       "  }\n",
       "  th, td {\n",
       "    padding: 5px;\n",
       "  }\n",
       "  th {\n",
       "    text-align: left;\n",
       "  }\n",
       "</style><div class='table-result-container'><table class='table-result'><thead style='background-color: white'><tr><th>race/ethnicity</th><th>Math Score</th><th>Reading Score</th><th>Writing Score</th></tr></thead><tbody><tr><td>group B</td><td>63.45263157894737</td><td>67.35263157894737</td><td>65.6</td></tr><tr><td>group C</td><td>64.46394984326018</td><td>69.10344827586206</td><td>67.82758620689656</td></tr><tr><td>group D</td><td>67.36259541984732</td><td>70.03053435114504</td><td>70.14503816793894</td></tr><tr><td>group A</td><td>61.62921348314607</td><td>64.67415730337079</td><td>62.674157303370784</td></tr><tr><td>group E</td><td>73.82142857142857</td><td>73.02857142857142</td><td>71.40714285714286</td></tr></tbody></table></div>"
      ]
     },
     "metadata": {
      "application/vnd.databricks.v1+output": {
       "addedWidgets": {},
       "aggData": [],
       "aggError": "",
       "aggOverflow": false,
       "aggSchema": [],
       "aggSeriesLimitReached": false,
       "aggType": "",
       "arguments": {},
       "columnCustomDisplayInfos": {},
       "data": [
        [
         "group B",
         63.45263157894737,
         67.35263157894737,
         65.6
        ],
        [
         "group C",
         64.46394984326018,
         69.10344827586206,
         67.82758620689656
        ],
        [
         "group D",
         67.36259541984732,
         70.03053435114504,
         70.14503816793894
        ],
        [
         "group A",
         61.62921348314607,
         64.67415730337079,
         62.674157303370784
        ],
        [
         "group E",
         73.82142857142857,
         73.02857142857142,
         71.40714285714286
        ]
       ],
       "datasetInfos": [],
       "dbfsResultPath": null,
       "isJsonSchema": true,
       "metadata": {},
       "overflow": false,
       "plotOptions": {
        "customPlotOptions": {},
        "displayType": "table",
        "pivotAggregation": null,
        "pivotColumns": null,
        "xColumns": null,
        "yColumns": null
       },
       "removedWidgets": [],
       "schema": [
        {
         "metadata": "{}",
         "name": "race/ethnicity",
         "type": "\"string\""
        },
        {
         "metadata": "{}",
         "name": "Math Score",
         "type": "\"double\""
        },
        {
         "metadata": "{}",
         "name": "Reading Score",
         "type": "\"double\""
        },
        {
         "metadata": "{}",
         "name": "Writing Score",
         "type": "\"double\""
        }
       ],
       "type": "table"
      }
     },
     "output_type": "display_data"
    },
    {
     "output_type": "display_data",
     "data": {
      "text/plain": [
       "Databricks visualization. Run in Databricks to view."
      ]
     },
     "metadata": {
      "application/vnd.databricks.v1.subcommand+json": {
       "baseErrorDetails": null,
       "bindings": {},
       "collapsed": false,
       "command": "%python\n__backend_agg_display_orig = display\n__backend_agg_dfs = []\ndef __backend_agg_display_new(df):\n    __backend_agg_df_modules = [\"pandas.core.frame\", \"databricks.koalas.frame\", \"pyspark.sql.dataframe\", \"pyspark.pandas.frame\", \"pyspark.sql.connect.dataframe\"]\n    if (type(df).__module__ in __backend_agg_df_modules and type(df).__name__ == 'DataFrame') or isinstance(df, list):\n        __backend_agg_dfs.append(df)\n\ndisplay = __backend_agg_display_new\n\ndef __backend_agg_user_code_fn():\n    import base64\n    exec(base64.standard_b64decode(\"cmVzdWx0PWRmLmdyb3VwQnkoInJhY2UvZXRobmljaXR5IikuYWdnKAogICAgbWVhbigibWF0aCBzY29yZSIpLmFsaWFzKCJNYXRoIFNjb3JlIiksCiAgICBtZWFuKCJyZWFkaW5nIHNjb3JlIikuYWxpYXMoIlJlYWRpbmcgU2NvcmUiKSwKICAgIG1lYW4oIndyaXRpbmcgc2NvcmUiKS5hbGlhcygiV3JpdGluZyBTY29yZSIpCikKZGlzcGxheShyZXN1bHQpCg==\").decode())\n\ntry:\n    # run user code\n    __backend_agg_user_code_fn()\n\n    #reset display function\n    display = __backend_agg_display_orig\n\n    if len(__backend_agg_dfs) > 0:\n        # create a temp view\n        if type(__backend_agg_dfs[0]).__module__ == \"databricks.koalas.frame\":\n            # koalas dataframe\n            __backend_agg_dfs[0].to_spark().createOrReplaceTempView(\"DatabricksViewfaa8516\")\n        elif type(__backend_agg_dfs[0]).__module__ == \"pandas.core.frame\" or isinstance(__backend_agg_dfs[0], list):\n            # pandas dataframe\n            spark.createDataFrame(__backend_agg_dfs[0]).createOrReplaceTempView(\"DatabricksViewfaa8516\")\n        else:\n            __backend_agg_dfs[0].createOrReplaceTempView(\"DatabricksViewfaa8516\")\n        #run backend agg\n        display(spark.sql(\"\"\"WITH q AS (select * from DatabricksViewfaa8516) SELECT `race/ethnicity`,SUM(`Math Score`) `column_93df7567136`,SUM(`Reading Score`) `column_93df7567142`,SUM(`Writing Score`) `column_93df7567145` FROM q GROUP BY `race/ethnicity`\"\"\"))\n    else:\n        displayHTML(\"dataframe no longer exists. If you're using dataframe.display(), use display(dataframe) instead.\")\n\n\nfinally:\n    spark.sql(\"drop view if exists DatabricksViewfaa8516\")\n    display = __backend_agg_display_orig\n    del __backend_agg_display_new\n    del __backend_agg_display_orig\n    del __backend_agg_dfs\n    del __backend_agg_user_code_fn\n\n",
       "commandTitle": "Visualization 1",
       "commandType": "auto",
       "commandVersion": 0,
       "commentThread": [],
       "commentsVisible": false,
       "contentSha256Hex": null,
       "customPlotOptions": {
        "redashChart": [
         {
          "key": "type",
          "value": "CHART"
         },
         {
          "key": "options",
          "value": {
           "alignYAxesAtZero": true,
           "coefficient": 1,
           "columnConfigurationMap": {
            "x": {
             "column": "race/ethnicity",
             "id": "column_93df7567131"
            },
            "y": [
             {
              "column": "Math Score",
              "id": "column_93df7567136",
              "transform": "SUM"
             },
             {
              "column": "Reading Score",
              "id": "column_93df7567142",
              "transform": "SUM"
             },
             {
              "column": "Writing Score",
              "id": "column_93df7567145",
              "transform": "SUM"
             }
            ]
           },
           "dateTimeFormat": "DD/MM/YYYY HH:mm",
           "direction": {
            "type": "counterclockwise"
           },
           "error_y": {
            "type": "data",
            "visible": true
           },
           "globalSeriesType": "line",
           "isAggregationOn": true,
           "legend": {
            "traceorder": "normal"
           },
           "missingValuesAsZero": true,
           "numberFormat": "0,0.[00000]",
           "percentFormat": "0[.]00%",
           "series": {
            "error_y": {
             "type": "data",
             "visible": true
            },
            "stacking": null
           },
           "seriesOptions": {
            "column_93df7567133": {
             "type": "line",
             "yAxis": 0
            },
            "column_93df7567136": {
             "type": "line",
             "yAxis": 0
            },
            "column_93df7567139": {
             "type": "line",
             "yAxis": 0
            },
            "column_93df7567142": {
             "type": "line",
             "yAxis": 0
            },
            "column_93df7567145": {
             "type": "line",
             "yAxis": 0
            }
           },
           "showDataLabels": false,
           "sizemode": "diameter",
           "sortX": true,
           "sortY": true,
           "swappedAxes": false,
           "textFormat": "",
           "useAggregationsUi": true,
           "valuesOptions": {},
           "version": 2,
           "xAxis": {
            "labels": {
             "enabled": true
            },
            "type": "-"
           },
           "yAxis": [
            {
             "type": "-"
            },
            {
             "opposite": true,
             "type": "-"
            }
           ]
          }
         }
        ]
       },
       "datasetPreviewNameToCmdIdMap": {},
       "diffDeletes": [],
       "diffInserts": [],
       "displayType": "redashChart",
       "error": null,
       "errorDetails": null,
       "errorSummary": null,
       "errorTraceType": null,
       "finishTime": 0,
       "globalVars": {},
       "guid": "",
       "height": "auto",
       "hideCommandCode": false,
       "hideCommandResult": false,
       "iPythonMetadata": null,
       "inputWidgets": {},
       "isLockedInExamMode": false,
       "latestUser": "a user",
       "latestUserId": null,
       "listResultMetadata": null,
       "metadata": {},
       "nuid": "0d988667-b9ea-485d-89d9-f98a315e0c1f",
       "origId": 0,
       "parentHierarchy": [],
       "pivotAggregation": null,
       "pivotColumns": null,
       "position": 12.0,
       "resultDbfsErrorMessage": null,
       "resultDbfsStatus": "INLINED_IN_TREE",
       "results": null,
       "showCommandTitle": false,
       "startTime": 0,
       "state": "input",
       "streamStates": {},
       "subcommandOptions": {
        "queryPlan": {
         "groups": [
          {
           "column": "race/ethnicity",
           "type": "column"
          }
         ],
         "selects": [
          {
           "column": "race/ethnicity",
           "type": "column"
          },
          {
           "alias": "column_93df7567136",
           "args": [
            {
             "column": "Math Score",
             "type": "column"
            }
           ],
           "function": "SUM",
           "type": "function"
          },
          {
           "alias": "column_93df7567142",
           "args": [
            {
             "column": "Reading Score",
             "type": "column"
            }
           ],
           "function": "SUM",
           "type": "function"
          },
          {
           "alias": "column_93df7567145",
           "args": [
            {
             "column": "Writing Score",
             "type": "column"
            }
           ],
           "function": "SUM",
           "type": "function"
          }
         ]
        }
       },
       "submitTime": 0,
       "subtype": "tableResultSubCmd.visualization",
       "tableResultIndex": 0,
       "tableResultSettingsMap": {},
       "useConsistentColors": false,
       "version": "CommandV1",
       "width": "auto",
       "workflows": [],
       "xColumns": null,
       "yColumns": null
      }
     },
     "output_type": "display_data"
    }
   ],
   "source": [
    "result=df.groupBy(\"race/ethnicity\").agg(\n",
    "    mean(\"math score\").alias(\"Math Score\"),\n",
    "    mean(\"reading score\").alias(\"Reading Score\"),\n",
    "    mean(\"writing score\").alias(\"Writing Score\")\n",
    ")\n",
    "display(result)\n"
   ]
  },
  {
   "cell_type": "markdown",
   "metadata": {
    "application/vnd.databricks.v1+cell": {
     "cellMetadata": {},
     "inputWidgets": {},
     "nuid": "186f41b2-7b6c-4007-a719-6f0f5fb10999",
     "showTitle": false,
     "tableResultSettingsMap": {},
     "title": ""
    }
   },
   "source": [
    " Scatter Plot – Math Score vs Writing Score"
   ]
  },
  {
   "cell_type": "code",
   "execution_count": 0,
   "metadata": {
    "application/vnd.databricks.v1+cell": {
     "cellMetadata": {
      "byteLimit": 2048000,
      "rowLimit": 10000
     },
     "inputWidgets": {},
     "nuid": "d5daa012-62fe-4c43-a880-3ac627373366",
     "showTitle": false,
     "tableResultSettingsMap": {},
     "title": ""
    }
   },
   "outputs": [
    {
     "output_type": "display_data",
     "data": {
      "text/html": [
       "<style scoped>\n",
       "  .table-result-container {\n",
       "    max-height: 300px;\n",
       "    overflow: auto;\n",
       "  }\n",
       "  table, th, td {\n",
       "    border: 1px solid black;\n",
       "    border-collapse: collapse;\n",
       "  }\n",
       "  th, td {\n",
       "    padding: 5px;\n",
       "  }\n",
       "  th {\n",
       "    text-align: left;\n",
       "  }\n",
       "</style><div class='table-result-container'><table class='table-result'><thead style='background-color: white'><tr><th>math score</th><th>writing score</th></tr></thead><tbody><tr><td>72</td><td>74</td></tr><tr><td>69</td><td>88</td></tr><tr><td>90</td><td>93</td></tr><tr><td>47</td><td>44</td></tr><tr><td>76</td><td>75</td></tr><tr><td>71</td><td>78</td></tr><tr><td>88</td><td>92</td></tr><tr><td>40</td><td>39</td></tr><tr><td>64</td><td>67</td></tr><tr><td>38</td><td>50</td></tr><tr><td>58</td><td>52</td></tr><tr><td>40</td><td>43</td></tr><tr><td>65</td><td>73</td></tr><tr><td>78</td><td>70</td></tr><tr><td>50</td><td>58</td></tr><tr><td>69</td><td>78</td></tr><tr><td>88</td><td>86</td></tr><tr><td>18</td><td>28</td></tr><tr><td>46</td><td>46</td></tr><tr><td>54</td><td>61</td></tr><tr><td>66</td><td>63</td></tr><tr><td>65</td><td>70</td></tr><tr><td>44</td><td>53</td></tr><tr><td>69</td><td>73</td></tr><tr><td>74</td><td>80</td></tr><tr><td>73</td><td>72</td></tr><tr><td>69</td><td>55</td></tr><tr><td>67</td><td>75</td></tr><tr><td>70</td><td>65</td></tr><tr><td>62</td><td>75</td></tr><tr><td>69</td><td>74</td></tr><tr><td>63</td><td>61</td></tr><tr><td>56</td><td>65</td></tr><tr><td>40</td><td>38</td></tr><tr><td>97</td><td>82</td></tr><tr><td>81</td><td>79</td></tr><tr><td>74</td><td>83</td></tr><tr><td>50</td><td>59</td></tr><tr><td>75</td><td>88</td></tr><tr><td>57</td><td>57</td></tr><tr><td>55</td><td>54</td></tr><tr><td>58</td><td>68</td></tr><tr><td>53</td><td>65</td></tr><tr><td>59</td><td>66</td></tr><tr><td>50</td><td>54</td></tr><tr><td>65</td><td>57</td></tr><tr><td>55</td><td>62</td></tr><tr><td>66</td><td>76</td></tr><tr><td>57</td><td>76</td></tr><tr><td>82</td><td>82</td></tr><tr><td>53</td><td>48</td></tr><tr><td>77</td><td>68</td></tr><tr><td>53</td><td>42</td></tr><tr><td>88</td><td>75</td></tr><tr><td>71</td><td>87</td></tr><tr><td>33</td><td>43</td></tr><tr><td>82</td><td>86</td></tr><tr><td>52</td><td>49</td></tr><tr><td>58</td><td>58</td></tr><tr><td>0</td><td>10</td></tr><tr><td>79</td><td>72</td></tr><tr><td>39</td><td>34</td></tr><tr><td>62</td><td>55</td></tr><tr><td>69</td><td>71</td></tr><tr><td>59</td><td>59</td></tr><tr><td>67</td><td>61</td></tr><tr><td>45</td><td>37</td></tr><tr><td>60</td><td>74</td></tr><tr><td>61</td><td>56</td></tr><tr><td>39</td><td>57</td></tr><tr><td>58</td><td>73</td></tr><tr><td>63</td><td>63</td></tr><tr><td>41</td><td>48</td></tr><tr><td>61</td><td>56</td></tr><tr><td>49</td><td>41</td></tr><tr><td>44</td><td>38</td></tr><tr><td>30</td><td>22</td></tr><tr><td>80</td><td>81</td></tr><tr><td>61</td><td>72</td></tr><tr><td>62</td><td>68</td></tr><tr><td>47</td><td>50</td></tr><tr><td>49</td><td>45</td></tr><tr><td>50</td><td>54</td></tr><tr><td>72</td><td>63</td></tr><tr><td>42</td><td>34</td></tr><tr><td>73</td><td>82</td></tr><tr><td>76</td><td>88</td></tr><tr><td>71</td><td>74</td></tr><tr><td>58</td><td>67</td></tr><tr><td>73</td><td>82</td></tr><tr><td>65</td><td>74</td></tr><tr><td>27</td><td>36</td></tr><tr><td>71</td><td>71</td></tr><tr><td>43</td><td>50</td></tr><tr><td>79</td><td>92</td></tr><tr><td>78</td><td>82</td></tr><tr><td>65</td><td>62</td></tr><tr><td>63</td><td>70</td></tr><tr><td>58</td><td>62</td></tr><tr><td>65</td><td>62</td></tr><tr><td>79</td><td>67</td></tr><tr><td>68</td><td>74</td></tr><tr><td>85</td><td>89</td></tr><tr><td>60</td><td>47</td></tr><tr><td>98</td><td>90</td></tr><tr><td>58</td><td>72</td></tr><tr><td>87</td><td>100</td></tr><tr><td>66</td><td>64</td></tr><tr><td>52</td><td>70</td></tr><tr><td>70</td><td>72</td></tr><tr><td>77</td><td>98</td></tr><tr><td>62</td><td>49</td></tr><tr><td>54</td><td>47</td></tr><tr><td>51</td><td>54</td></tr><tr><td>99</td><td>100</td></tr><tr><td>84</td><td>74</td></tr><tr><td>75</td><td>82</td></tr><tr><td>78</td><td>79</td></tr><tr><td>51</td><td>61</td></tr><tr><td>55</td><td>65</td></tr><tr><td>79</td><td>89</td></tr><tr><td>91</td><td>92</td></tr><tr><td>88</td><td>93</td></tr><tr><td>63</td><td>56</td></tr><tr><td>83</td><td>73</td></tr><tr><td>87</td><td>86</td></tr><tr><td>72</td><td>67</td></tr><tr><td>65</td><td>74</td></tr><tr><td>82</td><td>74</td></tr><tr><td>51</td><td>51</td></tr><tr><td>89</td><td>82</td></tr><tr><td>53</td><td>40</td></tr><tr><td>87</td><td>70</td></tr><tr><td>75</td><td>84</td></tr><tr><td>74</td><td>75</td></tr><tr><td>58</td><td>48</td></tr><tr><td>51</td><td>41</td></tr><tr><td>70</td><td>56</td></tr><tr><td>59</td><td>67</td></tr><tr><td>71</td><td>69</td></tr><tr><td>76</td><td>71</td></tr><tr><td>59</td><td>64</td></tr><tr><td>42</td><td>54</td></tr><tr><td>57</td><td>47</td></tr><tr><td>88</td><td>78</td></tr><tr><td>22</td><td>33</td></tr><tr><td>88</td><td>75</td></tr><tr><td>73</td><td>66</td></tr><tr><td>68</td><td>81</td></tr><tr><td>100</td><td>93</td></tr><tr><td>62</td><td>69</td></tr><tr><td>77</td><td>68</td></tr><tr><td>59</td><td>66</td></tr><tr><td>54</td><td>47</td></tr><tr><td>62</td><td>61</td></tr><tr><td>70</td><td>88</td></tr><tr><td>66</td><td>78</td></tr><tr><td>60</td><td>60</td></tr><tr><td>61</td><td>87</td></tr><tr><td>66</td><td>64</td></tr><tr><td>82</td><td>74</td></tr><tr><td>75</td><td>85</td></tr><tr><td>49</td><td>52</td></tr><tr><td>52</td><td>49</td></tr><tr><td>81</td><td>91</td></tr><tr><td>96</td><td>100</td></tr><tr><td>53</td><td>51</td></tr><tr><td>58</td><td>78</td></tr><tr><td>68</td><td>78</td></tr><tr><td>67</td><td>70</td></tr><tr><td>72</td><td>74</td></tr><tr><td>94</td><td>78</td></tr><tr><td>79</td><td>81</td></tr><tr><td>63</td><td>70</td></tr><tr><td>43</td><td>54</td></tr><tr><td>81</td><td>87</td></tr><tr><td>46</td><td>58</td></tr><tr><td>71</td><td>77</td></tr><tr><td>52</td><td>62</td></tr><tr><td>97</td><td>100</td></tr><tr><td>62</td><td>75</td></tr><tr><td>46</td><td>66</td></tr><tr><td>50</td><td>47</td></tr><tr><td>65</td><td>70</td></tr><tr><td>45</td><td>49</td></tr><tr><td>65</td><td>65</td></tr><tr><td>80</td><td>65</td></tr><tr><td>62</td><td>68</td></tr><tr><td>48</td><td>45</td></tr><tr><td>77</td><td>87</td></tr><tr><td>66</td><td>69</td></tr><tr><td>76</td><td>79</td></tr><tr><td>62</td><td>66</td></tr><tr><td>77</td><td>62</td></tr><tr><td>69</td><td>85</td></tr><tr><td>61</td><td>52</td></tr><tr><td>59</td><td>65</td></tr><tr><td>55</td><td>51</td></tr><tr><td>45</td><td>55</td></tr><tr><td>78</td><td>76</td></tr><tr><td>67</td><td>86</td></tr><tr><td>65</td><td>77</td></tr><tr><td>69</td><td>69</td></tr><tr><td>57</td><td>68</td></tr><tr><td>59</td><td>42</td></tr><tr><td>74</td><td>78</td></tr><tr><td>82</td><td>62</td></tr><tr><td>81</td><td>76</td></tr><tr><td>74</td><td>76</td></tr><tr><td>58</td><td>66</td></tr><tr><td>80</td><td>79</td></tr><tr><td>35</td><td>27</td></tr><tr><td>42</td><td>60</td></tr><tr><td>60</td><td>56</td></tr><tr><td>87</td><td>81</td></tr><tr><td>84</td><td>75</td></tr><tr><td>83</td><td>88</td></tr><tr><td>34</td><td>39</td></tr><tr><td>66</td><td>70</td></tr><tr><td>61</td><td>56</td></tr><tr><td>56</td><td>74</td></tr><tr><td>87</td><td>73</td></tr><tr><td>55</td><td>62</td></tr><tr><td>86</td><td>75</td></tr><tr><td>52</td><td>73</td></tr><tr><td>45</td><td>54</td></tr><tr><td>72</td><td>71</td></tr><tr><td>57</td><td>54</td></tr><tr><td>68</td><td>64</td></tr><tr><td>88</td><td>94</td></tr><tr><td>76</td><td>66</td></tr><tr><td>46</td><td>42</td></tr><tr><td>67</td><td>83</td></tr><tr><td>92</td><td>78</td></tr><tr><td>83</td><td>84</td></tr><tr><td>80</td><td>77</td></tr><tr><td>63</td><td>67</td></tr><tr><td>64</td><td>74</td></tr><tr><td>54</td><td>51</td></tr><tr><td>84</td><td>80</td></tr><tr><td>73</td><td>66</td></tr><tr><td>80</td><td>83</td></tr><tr><td>56</td><td>55</td></tr><tr><td>59</td><td>43</td></tr><tr><td>75</td><td>69</td></tr><tr><td>85</td><td>71</td></tr><tr><td>89</td><td>74</td></tr><tr><td>58</td><td>68</td></tr><tr><td>65</td><td>62</td></tr><tr><td>68</td><td>53</td></tr><tr><td>47</td><td>49</td></tr><tr><td>71</td><td>83</td></tr><tr><td>60</td><td>70</td></tr><tr><td>80</td><td>72</td></tr><tr><td>54</td><td>52</td></tr><tr><td>62</td><td>70</td></tr><tr><td>64</td><td>68</td></tr><tr><td>78</td><td>77</td></tr><tr><td>70</td><td>78</td></tr><tr><td>65</td><td>81</td></tr><tr><td>64</td><td>77</td></tr><tr><td>79</td><td>78</td></tr><tr><td>44</td><td>51</td></tr><tr><td>99</td><td>90</td></tr><tr><td>76</td><td>68</td></tr><tr><td>59</td><td>41</td></tr><tr><td>63</td><td>81</td></tr><tr><td>69</td><td>77</td></tr><tr><td>88</td><td>95</td></tr><tr><td>71</td><td>70</td></tr><tr><td>69</td><td>61</td></tr><tr><td>58</td><td>42</td></tr><tr><td>47</td><td>58</td></tr><tr><td>65</td><td>71</td></tr><tr><td>88</td><td>76</td></tr><tr><td>83</td><td>73</td></tr><tr><td>85</td><td>93</td></tr><tr><td>59</td><td>75</td></tr><tr><td>65</td><td>80</td></tr><tr><td>73</td><td>57</td></tr><tr><td>53</td><td>42</td></tr><tr><td>45</td><td>46</td></tr><tr><td>73</td><td>84</td></tr><tr><td>70</td><td>78</td></tr><tr><td>37</td><td>46</td></tr><tr><td>81</td><td>82</td></tr><tr><td>97</td><td>88</td></tr><tr><td>67</td><td>82</td></tr><tr><td>88</td><td>76</td></tr><tr><td>77</td><td>77</td></tr><tr><td>76</td><td>68</td></tr><tr><td>86</td><td>70</td></tr><tr><td>63</td><td>57</td></tr><tr><td>65</td><td>75</td></tr><tr><td>78</td><td>80</td></tr><tr><td>67</td><td>60</td></tr><tr><td>46</td><td>43</td></tr><tr><td>71</td><td>68</td></tr><tr><td>40</td><td>50</td></tr><tr><td>90</td><td>75</td></tr><tr><td>81</td><td>81</td></tr><tr><td>56</td><td>52</td></tr><tr><td>67</td><td>81</td></tr><tr><td>80</td><td>64</td></tr><tr><td>74</td><td>83</td></tr><tr><td>69</td><td>69</td></tr><tr><td>99</td><td>81</td></tr><tr><td>51</td><td>44</td></tr><tr><td>53</td><td>67</td></tr><tr><td>49</td><td>52</td></tr><tr><td>73</td><td>80</td></tr><tr><td>66</td><td>57</td></tr><tr><td>67</td><td>68</td></tr><tr><td>68</td><td>69</td></tr><tr><td>59</td><td>75</td></tr><tr><td>71</td><td>65</td></tr><tr><td>77</td><td>91</td></tr><tr><td>83</td><td>78</td></tr><tr><td>63</td><td>69</td></tr><tr><td>56</td><td>63</td></tr><tr><td>67</td><td>84</td></tr><tr><td>75</td><td>79</td></tr><tr><td>71</td><td>80</td></tr><tr><td>43</td><td>53</td></tr><tr><td>41</td><td>43</td></tr><tr><td>82</td><td>94</td></tr><tr><td>61</td><td>62</td></tr><tr><td>28</td><td>19</td></tr><tr><td>82</td><td>77</td></tr><tr><td>41</td><td>51</td></tr><tr><td>71</td><td>61</td></tr><tr><td>47</td><td>35</td></tr><tr><td>62</td><td>53</td></tr><tr><td>90</td><td>81</td></tr><tr><td>83</td><td>95</td></tr><tr><td>61</td><td>66</td></tr><tr><td>76</td><td>69</td></tr><tr><td>49</td><td>43</td></tr><tr><td>24</td><td>27</td></tr><tr><td>35</td><td>60</td></tr><tr><td>58</td><td>52</td></tr><tr><td>61</td><td>63</td></tr><tr><td>69</td><td>74</td></tr><tr><td>67</td><td>67</td></tr><tr><td>79</td><td>67</td></tr><tr><td>72</td><td>75</td></tr><tr><td>62</td><td>57</td></tr><tr><td>77</td><td>95</td></tr><tr><td>75</td><td>66</td></tr><tr><td>87</td><td>76</td></tr><tr><td>52</td><td>69</td></tr><tr><td>66</td><td>52</td></tr><tr><td>63</td><td>80</td></tr><tr><td>46</td><td>57</td></tr><tr><td>59</td><td>70</td></tr><tr><td>61</td><td>70</td></tr><tr><td>63</td><td>61</td></tr><tr><td>42</td><td>69</td></tr><tr><td>59</td><td>61</td></tr><tr><td>80</td><td>89</td></tr><tr><td>58</td><td>59</td></tr><tr><td>85</td><td>78</td></tr><tr><td>52</td><td>58</td></tr><tr><td>27</td><td>32</td></tr><tr><td>59</td><td>58</td></tr><tr><td>49</td><td>60</td></tr><tr><td>69</td><td>53</td></tr><tr><td>61</td><td>61</td></tr><tr><td>44</td><td>58</td></tr><tr><td>73</td><td>85</td></tr><tr><td>84</td><td>71</td></tr><tr><td>45</td><td>70</td></tr><tr><td>74</td><td>72</td></tr><tr><td>82</td><td>96</td></tr><tr><td>59</td><td>73</td></tr><tr><td>46</td><td>41</td></tr><tr><td>80</td><td>82</td></tr><tr><td>85</td><td>100</td></tr><tr><td>71</td><td>77</td></tr><tr><td>66</td><td>62</td></tr><tr><td>80</td><td>83</td></tr><tr><td>87</td><td>95</td></tr><tr><td>79</td><td>71</td></tr><tr><td>38</td><td>45</td></tr><tr><td>38</td><td>43</td></tr><tr><td>67</td><td>75</td></tr><tr><td>64</td><td>70</td></tr><tr><td>57</td><td>67</td></tr><tr><td>62</td><td>64</td></tr><tr><td>73</td><td>75</td></tr><tr><td>73</td><td>59</td></tr><tr><td>77</td><td>77</td></tr><tr><td>76</td><td>67</td></tr><tr><td>57</td><td>56</td></tr><tr><td>65</td><td>77</td></tr><tr><td>48</td><td>41</td></tr><tr><td>50</td><td>63</td></tr><tr><td>85</td><td>95</td></tr><tr><td>74</td><td>57</td></tr><tr><td>60</td><td>54</td></tr><tr><td>59</td><td>67</td></tr><tr><td>53</td><td>43</td></tr><tr><td>49</td><td>55</td></tr><tr><td>88</td><td>100</td></tr><tr><td>54</td><td>62</td></tr><tr><td>63</td><td>68</td></tr><tr><td>65</td><td>63</td></tr><tr><td>82</td><td>77</td></tr><tr><td>52</td><td>56</td></tr><tr><td>87</td><td>85</td></tr><tr><td>70</td><td>74</td></tr><tr><td>84</td><td>78</td></tr><tr><td>71</td><td>60</td></tr><tr><td>63</td><td>67</td></tr><tr><td>51</td><td>79</td></tr><tr><td>84</td><td>69</td></tr><tr><td>71</td><td>68</td></tr><tr><td>74</td><td>67</td></tr><tr><td>68</td><td>62</td></tr><tr><td>57</td><td>54</td></tr><tr><td>82</td><td>93</td></tr><tr><td>57</td><td>64</td></tr><tr><td>47</td><td>67</td></tr><tr><td>59</td><td>80</td></tr><tr><td>41</td><td>34</td></tr><tr><td>62</td><td>62</td></tr><tr><td>86</td><td>86</td></tr><tr><td>69</td><td>65</td></tr><tr><td>65</td><td>53</td></tr><tr><td>68</td><td>54</td></tr><tr><td>64</td><td>59</td></tr><tr><td>61</td><td>70</td></tr><tr><td>61</td><td>55</td></tr><tr><td>47</td><td>50</td></tr><tr><td>73</td><td>66</td></tr><tr><td>50</td><td>53</td></tr><tr><td>75</td><td>64</td></tr><tr><td>75</td><td>73</td></tr><tr><td>70</td><td>51</td></tr><tr><td>89</td><td>82</td></tr><tr><td>67</td><td>79</td></tr><tr><td>78</td><td>80</td></tr><tr><td>59</td><td>69</td></tr><tr><td>73</td><td>76</td></tr><tr><td>79</td><td>73</td></tr><tr><td>67</td><td>77</td></tr><tr><td>69</td><td>60</td></tr><tr><td>86</td><td>80</td></tr><tr><td>47</td><td>42</td></tr><tr><td>81</td><td>72</td></tr><tr><td>64</td><td>85</td></tr><tr><td>100</td><td>97</td></tr><tr><td>65</td><td>74</td></tr><tr><td>65</td><td>49</td></tr><tr><td>53</td><td>62</td></tr><tr><td>37</td><td>47</td></tr><tr><td>79</td><td>89</td></tr><tr><td>53</td><td>48</td></tr><tr><td>100</td><td>100</td></tr><tr><td>72</td><td>68</td></tr><tr><td>53</td><td>55</td></tr><tr><td>54</td><td>45</td></tr><tr><td>71</td><td>76</td></tr><tr><td>77</td><td>91</td></tr><tr><td>75</td><td>62</td></tr><tr><td>84</td><td>91</td></tr><tr><td>26</td><td>38</td></tr><tr><td>72</td><td>65</td></tr><tr><td>77</td><td>85</td></tr><tr><td>91</td><td>76</td></tr><tr><td>83</td><td>90</td></tr><tr><td>63</td><td>74</td></tr><tr><td>68</td><td>84</td></tr><tr><td>59</td><td>61</td></tr><tr><td>90</td><td>91</td></tr><tr><td>71</td><td>83</td></tr><tr><td>76</td><td>66</td></tr><tr><td>80</td><td>72</td></tr><tr><td>55</td><td>70</td></tr><tr><td>76</td><td>67</td></tr><tr><td>73</td><td>68</td></tr><tr><td>52</td><td>56</td></tr><tr><td>68</td><td>61</td></tr><tr><td>59</td><td>46</td></tr><tr><td>49</td><td>54</td></tr><tr><td>70</td><td>71</td></tr><tr><td>61</td><td>56</td></tr><tr><td>60</td><td>74</td></tr><tr><td>64</td><td>57</td></tr><tr><td>79</td><td>82</td></tr><tr><td>65</td><td>76</td></tr><tr><td>64</td><td>70</td></tr><tr><td>83</td><td>90</td></tr><tr><td>81</td><td>90</td></tr><tr><td>54</td><td>68</td></tr><tr><td>68</td><td>66</td></tr><tr><td>54</td><td>52</td></tr><tr><td>59</td><td>76</td></tr><tr><td>66</td><td>68</td></tr><tr><td>76</td><td>72</td></tr><tr><td>74</td><td>82</td></tr><tr><td>94</td><td>92</td></tr><tr><td>63</td><td>54</td></tr><tr><td>95</td><td>92</td></tr><tr><td>40</td><td>54</td></tr><tr><td>82</td><td>80</td></tr><tr><td>68</td><td>66</td></tr><tr><td>55</td><td>54</td></tr><tr><td>79</td><td>77</td></tr><tr><td>86</td><td>87</td></tr><tr><td>76</td><td>73</td></tr><tr><td>64</td><td>43</td></tr><tr><td>62</td><td>52</td></tr><tr><td>54</td><td>62</td></tr><tr><td>77</td><td>94</td></tr><tr><td>76</td><td>85</td></tr><tr><td>74</td><td>84</td></tr><tr><td>66</td><td>73</td></tr><tr><td>66</td><td>78</td></tr><tr><td>67</td><td>79</td></tr><tr><td>71</td><td>52</td></tr><tr><td>91</td><td>84</td></tr><tr><td>69</td><td>57</td></tr><tr><td>54</td><td>50</td></tr><tr><td>53</td><td>49</td></tr><tr><td>68</td><td>59</td></tr><tr><td>56</td><td>60</td></tr><tr><td>36</td><td>43</td></tr><tr><td>29</td><td>47</td></tr><tr><td>62</td><td>70</td></tr><tr><td>68</td><td>73</td></tr><tr><td>47</td><td>53</td></tr><tr><td>62</td><td>58</td></tr><tr><td>79</td><td>94</td></tr><tr><td>73</td><td>68</td></tr><tr><td>66</td><td>83</td></tr><tr><td>51</td><td>58</td></tr><tr><td>51</td><td>62</td></tr><tr><td>85</td><td>71</td></tr><tr><td>97</td><td>86</td></tr><tr><td>75</td><td>68</td></tr><tr><td>79</td><td>80</td></tr><tr><td>81</td><td>79</td></tr><tr><td>82</td><td>89</td></tr><tr><td>64</td><td>66</td></tr><tr><td>78</td><td>80</td></tr><tr><td>92</td><td>97</td></tr><tr><td>72</td><td>64</td></tr><tr><td>62</td><td>64</td></tr><tr><td>79</td><td>69</td></tr><tr><td>79</td><td>65</td></tr><tr><td>87</td><td>88</td></tr><tr><td>40</td><td>50</td></tr><tr><td>77</td><td>64</td></tr><tr><td>53</td><td>40</td></tr><tr><td>32</td><td>33</td></tr><tr><td>55</td><td>79</td></tr><tr><td>61</td><td>66</td></tr><tr><td>53</td><td>70</td></tr><tr><td>73</td><td>62</td></tr><tr><td>74</td><td>79</td></tr><tr><td>63</td><td>74</td></tr><tr><td>96</td><td>92</td></tr><tr><td>63</td><td>80</td></tr><tr><td>48</td><td>46</td></tr><tr><td>48</td><td>45</td></tr><tr><td>92</td><td>100</td></tr><tr><td>61</td><td>78</td></tr><tr><td>63</td><td>47</td></tr><tr><td>68</td><td>67</td></tr><tr><td>71</td><td>70</td></tr><tr><td>91</td><td>92</td></tr><tr><td>53</td><td>56</td></tr><tr><td>50</td><td>64</td></tr><tr><td>74</td><td>71</td></tr><tr><td>40</td><td>53</td></tr><tr><td>61</td><td>52</td></tr><tr><td>81</td><td>89</td></tr><tr><td>48</td><td>58</td></tr><tr><td>53</td><td>68</td></tr><tr><td>81</td><td>96</td></tr><tr><td>77</td><td>80</td></tr><tr><td>63</td><td>78</td></tr><tr><td>73</td><td>80</td></tr><tr><td>69</td><td>77</td></tr><tr><td>65</td><td>76</td></tr><tr><td>55</td><td>73</td></tr><tr><td>44</td><td>62</td></tr><tr><td>54</td><td>65</td></tr><tr><td>48</td><td>65</td></tr><tr><td>58</td><td>54</td></tr><tr><td>71</td><td>50</td></tr><tr><td>68</td><td>64</td></tr><tr><td>74</td><td>73</td></tr><tr><td>92</td><td>99</td></tr><tr><td>56</td><td>72</td></tr><tr><td>30</td><td>15</td></tr><tr><td>53</td><td>48</td></tr><tr><td>69</td><td>73</td></tr><tr><td>65</td><td>81</td></tr><tr><td>54</td><td>63</td></tr><tr><td>29</td><td>30</td></tr><tr><td>76</td><td>80</td></tr><tr><td>60</td><td>51</td></tr><tr><td>84</td><td>90</td></tr><tr><td>75</td><td>62</td></tr><tr><td>85</td><td>82</td></tr><tr><td>40</td><td>54</td></tr><tr><td>61</td><td>62</td></tr><tr><td>58</td><td>65</td></tr><tr><td>69</td><td>63</td></tr><tr><td>58</td><td>66</td></tr><tr><td>94</td><td>91</td></tr><tr><td>65</td><td>74</td></tr><tr><td>82</td><td>93</td></tr><tr><td>60</td><td>72</td></tr><tr><td>37</td><td>38</td></tr><tr><td>88</td><td>83</td></tr><tr><td>95</td><td>84</td></tr><tr><td>65</td><td>68</td></tr><tr><td>35</td><td>54</td></tr><tr><td>62</td><td>56</td></tr><tr><td>58</td><td>52</td></tr><tr><td>100</td><td>86</td></tr><tr><td>61</td><td>62</td></tr><tr><td>100</td><td>99</td></tr><tr><td>69</td><td>63</td></tr><tr><td>61</td><td>46</td></tr><tr><td>49</td><td>46</td></tr><tr><td>44</td><td>55</td></tr><tr><td>67</td><td>70</td></tr><tr><td>79</td><td>65</td></tr><tr><td>66</td><td>81</td></tr><tr><td>75</td><td>85</td></tr><tr><td>84</td><td>80</td></tr><tr><td>71</td><td>64</td></tr><tr><td>67</td><td>81</td></tr><tr><td>80</td><td>88</td></tr><tr><td>86</td><td>74</td></tr><tr><td>76</td><td>73</td></tr><tr><td>41</td><td>51</td></tr><tr><td>74</td><td>90</td></tr><tr><td>72</td><td>79</td></tr><tr><td>74</td><td>80</td></tr><tr><td>70</td><td>60</td></tr><tr><td>65</td><td>81</td></tr><tr><td>59</td><td>65</td></tr><tr><td>64</td><td>68</td></tr><tr><td>50</td><td>55</td></tr><tr><td>69</td><td>81</td></tr><tr><td>51</td><td>53</td></tr><tr><td>68</td><td>76</td></tr><tr><td>85</td><td>98</td></tr><tr><td>65</td><td>74</td></tr><tr><td>73</td><td>79</td></tr><tr><td>62</td><td>67</td></tr><tr><td>77</td><td>64</td></tr><tr><td>69</td><td>61</td></tr><tr><td>43</td><td>58</td></tr><tr><td>90</td><td>85</td></tr><tr><td>74</td><td>73</td></tr><tr><td>73</td><td>63</td></tr><tr><td>55</td><td>69</td></tr><tr><td>65</td><td>67</td></tr><tr><td>80</td><td>63</td></tr><tr><td>50</td><td>60</td></tr><tr><td>63</td><td>71</td></tr><tr><td>77</td><td>87</td></tr><tr><td>73</td><td>61</td></tr><tr><td>81</td><td>77</td></tr><tr><td>66</td><td>68</td></tr><tr><td>52</td><td>50</td></tr><tr><td>69</td><td>76</td></tr><tr><td>65</td><td>84</td></tr><tr><td>69</td><td>78</td></tr><tr><td>50</td><td>66</td></tr><tr><td>73</td><td>76</td></tr><tr><td>70</td><td>76</td></tr><tr><td>81</td><td>78</td></tr><tr><td>63</td><td>60</td></tr><tr><td>67</td><td>74</td></tr><tr><td>60</td><td>60</td></tr><tr><td>62</td><td>54</td></tr><tr><td>29</td><td>44</td></tr><tr><td>62</td><td>68</td></tr><tr><td>94</td><td>100</td></tr><tr><td>85</td><td>68</td></tr><tr><td>77</td><td>73</td></tr><tr><td>53</td><td>44</td></tr><tr><td>93</td><td>83</td></tr><tr><td>49</td><td>53</td></tr><tr><td>73</td><td>78</td></tr><tr><td>66</td><td>81</td></tr><tr><td>77</td><td>73</td></tr><tr><td>49</td><td>56</td></tr><tr><td>79</td><td>86</td></tr><tr><td>75</td><td>90</td></tr><tr><td>59</td><td>70</td></tr><tr><td>57</td><td>79</td></tr><tr><td>66</td><td>59</td></tr><tr><td>79</td><td>82</td></tr><tr><td>57</td><td>72</td></tr><tr><td>87</td><td>87</td></tr><tr><td>63</td><td>67</td></tr><tr><td>59</td><td>64</td></tr><tr><td>62</td><td>65</td></tr><tr><td>46</td><td>36</td></tr><tr><td>66</td><td>52</td></tr><tr><td>89</td><td>79</td></tr><tr><td>42</td><td>58</td></tr><tr><td>93</td><td>90</td></tr><tr><td>80</td><td>85</td></tr><tr><td>98</td><td>99</td></tr><tr><td>81</td><td>84</td></tr><tr><td>60</td><td>74</td></tr><tr><td>76</td><td>87</td></tr><tr><td>73</td><td>72</td></tr><tr><td>96</td><td>99</td></tr><tr><td>76</td><td>74</td></tr><tr><td>91</td><td>80</td></tr><tr><td>62</td><td>70</td></tr><tr><td>55</td><td>59</td></tr><tr><td>74</td><td>88</td></tr><tr><td>50</td><td>42</td></tr><tr><td>47</td><td>41</td></tr><tr><td>81</td><td>71</td></tr><tr><td>65</td><td>77</td></tr><tr><td>68</td><td>57</td></tr><tr><td>73</td><td>84</td></tr><tr><td>53</td><td>37</td></tr><tr><td>68</td><td>80</td></tr><tr><td>55</td><td>43</td></tr><tr><td>87</td><td>94</td></tr><tr><td>55</td><td>44</td></tr><tr><td>53</td><td>57</td></tr><tr><td>67</td><td>59</td></tr><tr><td>92</td><td>84</td></tr><tr><td>53</td><td>73</td></tr><tr><td>81</td><td>73</td></tr><tr><td>61</td><td>55</td></tr><tr><td>80</td><td>72</td></tr><tr><td>37</td><td>56</td></tr><tr><td>81</td><td>82</td></tr><tr><td>59</td><td>72</td></tr><tr><td>55</td><td>47</td></tr><tr><td>72</td><td>74</td></tr><tr><td>69</td><td>71</td></tr><tr><td>69</td><td>68</td></tr><tr><td>50</td><td>59</td></tr><tr><td>87</td><td>86</td></tr><tr><td>71</td><td>68</td></tr><tr><td>68</td><td>65</td></tr><tr><td>79</td><td>75</td></tr><tr><td>77</td><td>85</td></tr><tr><td>58</td><td>53</td></tr><tr><td>84</td><td>92</td></tr><tr><td>55</td><td>52</td></tr><tr><td>70</td><td>72</td></tr><tr><td>52</td><td>65</td></tr><tr><td>69</td><td>77</td></tr><tr><td>53</td><td>64</td></tr><tr><td>48</td><td>54</td></tr><tr><td>78</td><td>86</td></tr><tr><td>62</td><td>63</td></tr><tr><td>60</td><td>59</td></tr><tr><td>74</td><td>72</td></tr><tr><td>58</td><td>77</td></tr><tr><td>76</td><td>60</td></tr><tr><td>68</td><td>75</td></tr><tr><td>58</td><td>57</td></tr><tr><td>52</td><td>49</td></tr><tr><td>75</td><td>74</td></tr><tr><td>52</td><td>72</td></tr><tr><td>62</td><td>79</td></tr><tr><td>66</td><td>60</td></tr><tr><td>49</td><td>55</td></tr><tr><td>66</td><td>70</td></tr><tr><td>35</td><td>43</td></tr><tr><td>72</td><td>82</td></tr><tr><td>94</td><td>82</td></tr><tr><td>46</td><td>57</td></tr><tr><td>77</td><td>84</td></tr><tr><td>76</td><td>82</td></tr><tr><td>52</td><td>62</td></tr><tr><td>91</td><td>79</td></tr><tr><td>32</td><td>44</td></tr><tr><td>72</td><td>77</td></tr><tr><td>19</td><td>32</td></tr><tr><td>68</td><td>61</td></tr><tr><td>52</td><td>61</td></tr><tr><td>48</td><td>60</td></tr><tr><td>60</td><td>70</td></tr><tr><td>66</td><td>69</td></tr><tr><td>89</td><td>77</td></tr><tr><td>42</td><td>51</td></tr><tr><td>57</td><td>73</td></tr><tr><td>70</td><td>70</td></tr><tr><td>70</td><td>81</td></tr><tr><td>69</td><td>54</td></tr><tr><td>52</td><td>57</td></tr><tr><td>67</td><td>68</td></tr><tr><td>76</td><td>73</td></tr><tr><td>87</td><td>95</td></tr><tr><td>82</td><td>87</td></tr><tr><td>73</td><td>78</td></tr><tr><td>75</td><td>74</td></tr><tr><td>64</td><td>75</td></tr><tr><td>41</td><td>40</td></tr><tr><td>90</td><td>69</td></tr><tr><td>59</td><td>51</td></tr><tr><td>51</td><td>36</td></tr><tr><td>45</td><td>49</td></tr><tr><td>54</td><td>67</td></tr><tr><td>87</td><td>76</td></tr><tr><td>72</td><td>83</td></tr><tr><td>94</td><td>87</td></tr><tr><td>45</td><td>64</td></tr><tr><td>61</td><td>76</td></tr><tr><td>60</td><td>68</td></tr><tr><td>77</td><td>88</td></tr><tr><td>85</td><td>92</td></tr><tr><td>78</td><td>93</td></tr><tr><td>49</td><td>51</td></tr><tr><td>71</td><td>82</td></tr><tr><td>48</td><td>52</td></tr><tr><td>62</td><td>58</td></tr><tr><td>56</td><td>70</td></tr><tr><td>65</td><td>76</td></tr><tr><td>69</td><td>81</td></tr><tr><td>68</td><td>53</td></tr><tr><td>61</td><td>57</td></tr><tr><td>74</td><td>89</td></tr><tr><td>64</td><td>58</td></tr><tr><td>77</td><td>89</td></tr><tr><td>58</td><td>45</td></tr><tr><td>60</td><td>74</td></tr><tr><td>73</td><td>57</td></tr><tr><td>75</td><td>79</td></tr><tr><td>58</td><td>53</td></tr><tr><td>66</td><td>73</td></tr><tr><td>39</td><td>46</td></tr><tr><td>64</td><td>51</td></tr><tr><td>23</td><td>36</td></tr><tr><td>74</td><td>76</td></tr><tr><td>40</td><td>64</td></tr><tr><td>90</td><td>84</td></tr><tr><td>91</td><td>85</td></tr><tr><td>64</td><td>50</td></tr><tr><td>59</td><td>68</td></tr><tr><td>80</td><td>69</td></tr><tr><td>71</td><td>67</td></tr><tr><td>61</td><td>63</td></tr><tr><td>87</td><td>93</td></tr><tr><td>82</td><td>61</td></tr><tr><td>62</td><td>55</td></tr><tr><td>97</td><td>96</td></tr><tr><td>75</td><td>65</td></tr><tr><td>65</td><td>81</td></tr><tr><td>52</td><td>46</td></tr><tr><td>87</td><td>72</td></tr><tr><td>53</td><td>53</td></tr><tr><td>81</td><td>87</td></tr><tr><td>39</td><td>38</td></tr><tr><td>71</td><td>80</td></tr><tr><td>97</td><td>91</td></tr><tr><td>82</td><td>88</td></tr><tr><td>59</td><td>52</td></tr><tr><td>61</td><td>41</td></tr><tr><td>78</td><td>72</td></tr><tr><td>49</td><td>51</td></tr><tr><td>59</td><td>47</td></tr><tr><td>70</td><td>76</td></tr><tr><td>82</td><td>78</td></tr><tr><td>90</td><td>82</td></tr><tr><td>43</td><td>61</td></tr><tr><td>80</td><td>66</td></tr><tr><td>81</td><td>84</td></tr><tr><td>57</td><td>54</td></tr><tr><td>59</td><td>80</td></tr><tr><td>64</td><td>74</td></tr><tr><td>63</td><td>66</td></tr><tr><td>71</td><td>70</td></tr><tr><td>64</td><td>71</td></tr><tr><td>55</td><td>44</td></tr><tr><td>51</td><td>54</td></tr><tr><td>62</td><td>80</td></tr><tr><td>93</td><td>95</td></tr><tr><td>54</td><td>59</td></tr><tr><td>69</td><td>74</td></tr><tr><td>44</td><td>48</td></tr><tr><td>86</td><td>91</td></tr><tr><td>85</td><td>85</td></tr><tr><td>50</td><td>73</td></tr><tr><td>88</td><td>75</td></tr><tr><td>59</td><td>69</td></tr><tr><td>32</td><td>38</td></tr><tr><td>36</td><td>27</td></tr><tr><td>63</td><td>79</td></tr><tr><td>67</td><td>63</td></tr><tr><td>65</td><td>82</td></tr><tr><td>85</td><td>89</td></tr><tr><td>73</td><td>74</td></tr><tr><td>34</td><td>41</td></tr><tr><td>93</td><td>100</td></tr><tr><td>67</td><td>84</td></tr><tr><td>88</td><td>77</td></tr><tr><td>57</td><td>51</td></tr><tr><td>79</td><td>91</td></tr><tr><td>67</td><td>72</td></tr><tr><td>70</td><td>70</td></tr><tr><td>50</td><td>48</td></tr><tr><td>69</td><td>82</td></tr><tr><td>52</td><td>66</td></tr><tr><td>47</td><td>66</td></tr><tr><td>46</td><td>55</td></tr><tr><td>68</td><td>66</td></tr><tr><td>100</td><td>100</td></tr><tr><td>44</td><td>52</td></tr><tr><td>57</td><td>80</td></tr><tr><td>91</td><td>91</td></tr><tr><td>69</td><td>67</td></tr><tr><td>35</td><td>46</td></tr><tr><td>72</td><td>66</td></tr><tr><td>54</td><td>65</td></tr><tr><td>74</td><td>69</td></tr><tr><td>74</td><td>60</td></tr><tr><td>64</td><td>52</td></tr><tr><td>65</td><td>71</td></tr><tr><td>46</td><td>44</td></tr><tr><td>48</td><td>51</td></tr><tr><td>67</td><td>70</td></tr><tr><td>62</td><td>62</td></tr><tr><td>61</td><td>73</td></tr><tr><td>70</td><td>74</td></tr><tr><td>98</td><td>90</td></tr><tr><td>70</td><td>58</td></tr><tr><td>67</td><td>53</td></tr><tr><td>57</td><td>57</td></tr><tr><td>85</td><td>85</td></tr><tr><td>77</td><td>69</td></tr><tr><td>72</td><td>72</td></tr><tr><td>78</td><td>96</td></tr><tr><td>81</td><td>64</td></tr><tr><td>61</td><td>61</td></tr><tr><td>58</td><td>61</td></tr><tr><td>54</td><td>58</td></tr><tr><td>82</td><td>80</td></tr><tr><td>49</td><td>60</td></tr><tr><td>49</td><td>52</td></tr><tr><td>57</td><td>73</td></tr><tr><td>94</td><td>71</td></tr><tr><td>75</td><td>83</td></tr><tr><td>74</td><td>72</td></tr><tr><td>58</td><td>54</td></tr><tr><td>62</td><td>69</td></tr><tr><td>72</td><td>62</td></tr><tr><td>84</td><td>81</td></tr><tr><td>92</td><td>100</td></tr><tr><td>45</td><td>59</td></tr><tr><td>75</td><td>71</td></tr><tr><td>56</td><td>64</td></tr><tr><td>48</td><td>53</td></tr><tr><td>100</td><td>100</td></tr><tr><td>65</td><td>75</td></tr><tr><td>72</td><td>58</td></tr><tr><td>62</td><td>72</td></tr><tr><td>66</td><td>64</td></tr><tr><td>63</td><td>60</td></tr><tr><td>68</td><td>67</td></tr><tr><td>75</td><td>80</td></tr><tr><td>89</td><td>100</td></tr><tr><td>78</td><td>69</td></tr><tr><td>53</td><td>60</td></tr><tr><td>49</td><td>61</td></tr><tr><td>54</td><td>67</td></tr><tr><td>64</td><td>77</td></tr><tr><td>60</td><td>60</td></tr><tr><td>62</td><td>58</td></tr><tr><td>55</td><td>48</td></tr><tr><td>91</td><td>94</td></tr><tr><td>8</td><td>23</td></tr><tr><td>81</td><td>78</td></tr><tr><td>79</td><td>86</td></tr><tr><td>78</td><td>91</td></tr><tr><td>74</td><td>82</td></tr><tr><td>57</td><td>54</td></tr><tr><td>40</td><td>51</td></tr><tr><td>81</td><td>76</td></tr><tr><td>44</td><td>45</td></tr><tr><td>67</td><td>83</td></tr><tr><td>86</td><td>75</td></tr><tr><td>65</td><td>78</td></tr><tr><td>55</td><td>76</td></tr><tr><td>62</td><td>74</td></tr><tr><td>63</td><td>62</td></tr><tr><td>88</td><td>95</td></tr><tr><td>62</td><td>55</td></tr><tr><td>59</td><td>65</td></tr><tr><td>68</td><td>77</td></tr><tr><td>77</td><td>86</td></tr></tbody></table></div>"
      ]
     },
     "metadata": {
      "application/vnd.databricks.v1+output": {
       "addedWidgets": {},
       "aggData": [],
       "aggError": "",
       "aggOverflow": false,
       "aggSchema": [],
       "aggSeriesLimitReached": false,
       "aggType": "",
       "arguments": {},
       "columnCustomDisplayInfos": {},
       "data": [
        [
         72,
         74
        ],
        [
         69,
         88
        ],
        [
         90,
         93
        ],
        [
         47,
         44
        ],
        [
         76,
         75
        ],
        [
         71,
         78
        ],
        [
         88,
         92
        ],
        [
         40,
         39
        ],
        [
         64,
         67
        ],
        [
         38,
         50
        ],
        [
         58,
         52
        ],
        [
         40,
         43
        ],
        [
         65,
         73
        ],
        [
         78,
         70
        ],
        [
         50,
         58
        ],
        [
         69,
         78
        ],
        [
         88,
         86
        ],
        [
         18,
         28
        ],
        [
         46,
         46
        ],
        [
         54,
         61
        ],
        [
         66,
         63
        ],
        [
         65,
         70
        ],
        [
         44,
         53
        ],
        [
         69,
         73
        ],
        [
         74,
         80
        ],
        [
         73,
         72
        ],
        [
         69,
         55
        ],
        [
         67,
         75
        ],
        [
         70,
         65
        ],
        [
         62,
         75
        ],
        [
         69,
         74
        ],
        [
         63,
         61
        ],
        [
         56,
         65
        ],
        [
         40,
         38
        ],
        [
         97,
         82
        ],
        [
         81,
         79
        ],
        [
         74,
         83
        ],
        [
         50,
         59
        ],
        [
         75,
         88
        ],
        [
         57,
         57
        ],
        [
         55,
         54
        ],
        [
         58,
         68
        ],
        [
         53,
         65
        ],
        [
         59,
         66
        ],
        [
         50,
         54
        ],
        [
         65,
         57
        ],
        [
         55,
         62
        ],
        [
         66,
         76
        ],
        [
         57,
         76
        ],
        [
         82,
         82
        ],
        [
         53,
         48
        ],
        [
         77,
         68
        ],
        [
         53,
         42
        ],
        [
         88,
         75
        ],
        [
         71,
         87
        ],
        [
         33,
         43
        ],
        [
         82,
         86
        ],
        [
         52,
         49
        ],
        [
         58,
         58
        ],
        [
         0,
         10
        ],
        [
         79,
         72
        ],
        [
         39,
         34
        ],
        [
         62,
         55
        ],
        [
         69,
         71
        ],
        [
         59,
         59
        ],
        [
         67,
         61
        ],
        [
         45,
         37
        ],
        [
         60,
         74
        ],
        [
         61,
         56
        ],
        [
         39,
         57
        ],
        [
         58,
         73
        ],
        [
         63,
         63
        ],
        [
         41,
         48
        ],
        [
         61,
         56
        ],
        [
         49,
         41
        ],
        [
         44,
         38
        ],
        [
         30,
         22
        ],
        [
         80,
         81
        ],
        [
         61,
         72
        ],
        [
         62,
         68
        ],
        [
         47,
         50
        ],
        [
         49,
         45
        ],
        [
         50,
         54
        ],
        [
         72,
         63
        ],
        [
         42,
         34
        ],
        [
         73,
         82
        ],
        [
         76,
         88
        ],
        [
         71,
         74
        ],
        [
         58,
         67
        ],
        [
         73,
         82
        ],
        [
         65,
         74
        ],
        [
         27,
         36
        ],
        [
         71,
         71
        ],
        [
         43,
         50
        ],
        [
         79,
         92
        ],
        [
         78,
         82
        ],
        [
         65,
         62
        ],
        [
         63,
         70
        ],
        [
         58,
         62
        ],
        [
         65,
         62
        ],
        [
         79,
         67
        ],
        [
         68,
         74
        ],
        [
         85,
         89
        ],
        [
         60,
         47
        ],
        [
         98,
         90
        ],
        [
         58,
         72
        ],
        [
         87,
         100
        ],
        [
         66,
         64
        ],
        [
         52,
         70
        ],
        [
         70,
         72
        ],
        [
         77,
         98
        ],
        [
         62,
         49
        ],
        [
         54,
         47
        ],
        [
         51,
         54
        ],
        [
         99,
         100
        ],
        [
         84,
         74
        ],
        [
         75,
         82
        ],
        [
         78,
         79
        ],
        [
         51,
         61
        ],
        [
         55,
         65
        ],
        [
         79,
         89
        ],
        [
         91,
         92
        ],
        [
         88,
         93
        ],
        [
         63,
         56
        ],
        [
         83,
         73
        ],
        [
         87,
         86
        ],
        [
         72,
         67
        ],
        [
         65,
         74
        ],
        [
         82,
         74
        ],
        [
         51,
         51
        ],
        [
         89,
         82
        ],
        [
         53,
         40
        ],
        [
         87,
         70
        ],
        [
         75,
         84
        ],
        [
         74,
         75
        ],
        [
         58,
         48
        ],
        [
         51,
         41
        ],
        [
         70,
         56
        ],
        [
         59,
         67
        ],
        [
         71,
         69
        ],
        [
         76,
         71
        ],
        [
         59,
         64
        ],
        [
         42,
         54
        ],
        [
         57,
         47
        ],
        [
         88,
         78
        ],
        [
         22,
         33
        ],
        [
         88,
         75
        ],
        [
         73,
         66
        ],
        [
         68,
         81
        ],
        [
         100,
         93
        ],
        [
         62,
         69
        ],
        [
         77,
         68
        ],
        [
         59,
         66
        ],
        [
         54,
         47
        ],
        [
         62,
         61
        ],
        [
         70,
         88
        ],
        [
         66,
         78
        ],
        [
         60,
         60
        ],
        [
         61,
         87
        ],
        [
         66,
         64
        ],
        [
         82,
         74
        ],
        [
         75,
         85
        ],
        [
         49,
         52
        ],
        [
         52,
         49
        ],
        [
         81,
         91
        ],
        [
         96,
         100
        ],
        [
         53,
         51
        ],
        [
         58,
         78
        ],
        [
         68,
         78
        ],
        [
         67,
         70
        ],
        [
         72,
         74
        ],
        [
         94,
         78
        ],
        [
         79,
         81
        ],
        [
         63,
         70
        ],
        [
         43,
         54
        ],
        [
         81,
         87
        ],
        [
         46,
         58
        ],
        [
         71,
         77
        ],
        [
         52,
         62
        ],
        [
         97,
         100
        ],
        [
         62,
         75
        ],
        [
         46,
         66
        ],
        [
         50,
         47
        ],
        [
         65,
         70
        ],
        [
         45,
         49
        ],
        [
         65,
         65
        ],
        [
         80,
         65
        ],
        [
         62,
         68
        ],
        [
         48,
         45
        ],
        [
         77,
         87
        ],
        [
         66,
         69
        ],
        [
         76,
         79
        ],
        [
         62,
         66
        ],
        [
         77,
         62
        ],
        [
         69,
         85
        ],
        [
         61,
         52
        ],
        [
         59,
         65
        ],
        [
         55,
         51
        ],
        [
         45,
         55
        ],
        [
         78,
         76
        ],
        [
         67,
         86
        ],
        [
         65,
         77
        ],
        [
         69,
         69
        ],
        [
         57,
         68
        ],
        [
         59,
         42
        ],
        [
         74,
         78
        ],
        [
         82,
         62
        ],
        [
         81,
         76
        ],
        [
         74,
         76
        ],
        [
         58,
         66
        ],
        [
         80,
         79
        ],
        [
         35,
         27
        ],
        [
         42,
         60
        ],
        [
         60,
         56
        ],
        [
         87,
         81
        ],
        [
         84,
         75
        ],
        [
         83,
         88
        ],
        [
         34,
         39
        ],
        [
         66,
         70
        ],
        [
         61,
         56
        ],
        [
         56,
         74
        ],
        [
         87,
         73
        ],
        [
         55,
         62
        ],
        [
         86,
         75
        ],
        [
         52,
         73
        ],
        [
         45,
         54
        ],
        [
         72,
         71
        ],
        [
         57,
         54
        ],
        [
         68,
         64
        ],
        [
         88,
         94
        ],
        [
         76,
         66
        ],
        [
         46,
         42
        ],
        [
         67,
         83
        ],
        [
         92,
         78
        ],
        [
         83,
         84
        ],
        [
         80,
         77
        ],
        [
         63,
         67
        ],
        [
         64,
         74
        ],
        [
         54,
         51
        ],
        [
         84,
         80
        ],
        [
         73,
         66
        ],
        [
         80,
         83
        ],
        [
         56,
         55
        ],
        [
         59,
         43
        ],
        [
         75,
         69
        ],
        [
         85,
         71
        ],
        [
         89,
         74
        ],
        [
         58,
         68
        ],
        [
         65,
         62
        ],
        [
         68,
         53
        ],
        [
         47,
         49
        ],
        [
         71,
         83
        ],
        [
         60,
         70
        ],
        [
         80,
         72
        ],
        [
         54,
         52
        ],
        [
         62,
         70
        ],
        [
         64,
         68
        ],
        [
         78,
         77
        ],
        [
         70,
         78
        ],
        [
         65,
         81
        ],
        [
         64,
         77
        ],
        [
         79,
         78
        ],
        [
         44,
         51
        ],
        [
         99,
         90
        ],
        [
         76,
         68
        ],
        [
         59,
         41
        ],
        [
         63,
         81
        ],
        [
         69,
         77
        ],
        [
         88,
         95
        ],
        [
         71,
         70
        ],
        [
         69,
         61
        ],
        [
         58,
         42
        ],
        [
         47,
         58
        ],
        [
         65,
         71
        ],
        [
         88,
         76
        ],
        [
         83,
         73
        ],
        [
         85,
         93
        ],
        [
         59,
         75
        ],
        [
         65,
         80
        ],
        [
         73,
         57
        ],
        [
         53,
         42
        ],
        [
         45,
         46
        ],
        [
         73,
         84
        ],
        [
         70,
         78
        ],
        [
         37,
         46
        ],
        [
         81,
         82
        ],
        [
         97,
         88
        ],
        [
         67,
         82
        ],
        [
         88,
         76
        ],
        [
         77,
         77
        ],
        [
         76,
         68
        ],
        [
         86,
         70
        ],
        [
         63,
         57
        ],
        [
         65,
         75
        ],
        [
         78,
         80
        ],
        [
         67,
         60
        ],
        [
         46,
         43
        ],
        [
         71,
         68
        ],
        [
         40,
         50
        ],
        [
         90,
         75
        ],
        [
         81,
         81
        ],
        [
         56,
         52
        ],
        [
         67,
         81
        ],
        [
         80,
         64
        ],
        [
         74,
         83
        ],
        [
         69,
         69
        ],
        [
         99,
         81
        ],
        [
         51,
         44
        ],
        [
         53,
         67
        ],
        [
         49,
         52
        ],
        [
         73,
         80
        ],
        [
         66,
         57
        ],
        [
         67,
         68
        ],
        [
         68,
         69
        ],
        [
         59,
         75
        ],
        [
         71,
         65
        ],
        [
         77,
         91
        ],
        [
         83,
         78
        ],
        [
         63,
         69
        ],
        [
         56,
         63
        ],
        [
         67,
         84
        ],
        [
         75,
         79
        ],
        [
         71,
         80
        ],
        [
         43,
         53
        ],
        [
         41,
         43
        ],
        [
         82,
         94
        ],
        [
         61,
         62
        ],
        [
         28,
         19
        ],
        [
         82,
         77
        ],
        [
         41,
         51
        ],
        [
         71,
         61
        ],
        [
         47,
         35
        ],
        [
         62,
         53
        ],
        [
         90,
         81
        ],
        [
         83,
         95
        ],
        [
         61,
         66
        ],
        [
         76,
         69
        ],
        [
         49,
         43
        ],
        [
         24,
         27
        ],
        [
         35,
         60
        ],
        [
         58,
         52
        ],
        [
         61,
         63
        ],
        [
         69,
         74
        ],
        [
         67,
         67
        ],
        [
         79,
         67
        ],
        [
         72,
         75
        ],
        [
         62,
         57
        ],
        [
         77,
         95
        ],
        [
         75,
         66
        ],
        [
         87,
         76
        ],
        [
         52,
         69
        ],
        [
         66,
         52
        ],
        [
         63,
         80
        ],
        [
         46,
         57
        ],
        [
         59,
         70
        ],
        [
         61,
         70
        ],
        [
         63,
         61
        ],
        [
         42,
         69
        ],
        [
         59,
         61
        ],
        [
         80,
         89
        ],
        [
         58,
         59
        ],
        [
         85,
         78
        ],
        [
         52,
         58
        ],
        [
         27,
         32
        ],
        [
         59,
         58
        ],
        [
         49,
         60
        ],
        [
         69,
         53
        ],
        [
         61,
         61
        ],
        [
         44,
         58
        ],
        [
         73,
         85
        ],
        [
         84,
         71
        ],
        [
         45,
         70
        ],
        [
         74,
         72
        ],
        [
         82,
         96
        ],
        [
         59,
         73
        ],
        [
         46,
         41
        ],
        [
         80,
         82
        ],
        [
         85,
         100
        ],
        [
         71,
         77
        ],
        [
         66,
         62
        ],
        [
         80,
         83
        ],
        [
         87,
         95
        ],
        [
         79,
         71
        ],
        [
         38,
         45
        ],
        [
         38,
         43
        ],
        [
         67,
         75
        ],
        [
         64,
         70
        ],
        [
         57,
         67
        ],
        [
         62,
         64
        ],
        [
         73,
         75
        ],
        [
         73,
         59
        ],
        [
         77,
         77
        ],
        [
         76,
         67
        ],
        [
         57,
         56
        ],
        [
         65,
         77
        ],
        [
         48,
         41
        ],
        [
         50,
         63
        ],
        [
         85,
         95
        ],
        [
         74,
         57
        ],
        [
         60,
         54
        ],
        [
         59,
         67
        ],
        [
         53,
         43
        ],
        [
         49,
         55
        ],
        [
         88,
         100
        ],
        [
         54,
         62
        ],
        [
         63,
         68
        ],
        [
         65,
         63
        ],
        [
         82,
         77
        ],
        [
         52,
         56
        ],
        [
         87,
         85
        ],
        [
         70,
         74
        ],
        [
         84,
         78
        ],
        [
         71,
         60
        ],
        [
         63,
         67
        ],
        [
         51,
         79
        ],
        [
         84,
         69
        ],
        [
         71,
         68
        ],
        [
         74,
         67
        ],
        [
         68,
         62
        ],
        [
         57,
         54
        ],
        [
         82,
         93
        ],
        [
         57,
         64
        ],
        [
         47,
         67
        ],
        [
         59,
         80
        ],
        [
         41,
         34
        ],
        [
         62,
         62
        ],
        [
         86,
         86
        ],
        [
         69,
         65
        ],
        [
         65,
         53
        ],
        [
         68,
         54
        ],
        [
         64,
         59
        ],
        [
         61,
         70
        ],
        [
         61,
         55
        ],
        [
         47,
         50
        ],
        [
         73,
         66
        ],
        [
         50,
         53
        ],
        [
         75,
         64
        ],
        [
         75,
         73
        ],
        [
         70,
         51
        ],
        [
         89,
         82
        ],
        [
         67,
         79
        ],
        [
         78,
         80
        ],
        [
         59,
         69
        ],
        [
         73,
         76
        ],
        [
         79,
         73
        ],
        [
         67,
         77
        ],
        [
         69,
         60
        ],
        [
         86,
         80
        ],
        [
         47,
         42
        ],
        [
         81,
         72
        ],
        [
         64,
         85
        ],
        [
         100,
         97
        ],
        [
         65,
         74
        ],
        [
         65,
         49
        ],
        [
         53,
         62
        ],
        [
         37,
         47
        ],
        [
         79,
         89
        ],
        [
         53,
         48
        ],
        [
         100,
         100
        ],
        [
         72,
         68
        ],
        [
         53,
         55
        ],
        [
         54,
         45
        ],
        [
         71,
         76
        ],
        [
         77,
         91
        ],
        [
         75,
         62
        ],
        [
         84,
         91
        ],
        [
         26,
         38
        ],
        [
         72,
         65
        ],
        [
         77,
         85
        ],
        [
         91,
         76
        ],
        [
         83,
         90
        ],
        [
         63,
         74
        ],
        [
         68,
         84
        ],
        [
         59,
         61
        ],
        [
         90,
         91
        ],
        [
         71,
         83
        ],
        [
         76,
         66
        ],
        [
         80,
         72
        ],
        [
         55,
         70
        ],
        [
         76,
         67
        ],
        [
         73,
         68
        ],
        [
         52,
         56
        ],
        [
         68,
         61
        ],
        [
         59,
         46
        ],
        [
         49,
         54
        ],
        [
         70,
         71
        ],
        [
         61,
         56
        ],
        [
         60,
         74
        ],
        [
         64,
         57
        ],
        [
         79,
         82
        ],
        [
         65,
         76
        ],
        [
         64,
         70
        ],
        [
         83,
         90
        ],
        [
         81,
         90
        ],
        [
         54,
         68
        ],
        [
         68,
         66
        ],
        [
         54,
         52
        ],
        [
         59,
         76
        ],
        [
         66,
         68
        ],
        [
         76,
         72
        ],
        [
         74,
         82
        ],
        [
         94,
         92
        ],
        [
         63,
         54
        ],
        [
         95,
         92
        ],
        [
         40,
         54
        ],
        [
         82,
         80
        ],
        [
         68,
         66
        ],
        [
         55,
         54
        ],
        [
         79,
         77
        ],
        [
         86,
         87
        ],
        [
         76,
         73
        ],
        [
         64,
         43
        ],
        [
         62,
         52
        ],
        [
         54,
         62
        ],
        [
         77,
         94
        ],
        [
         76,
         85
        ],
        [
         74,
         84
        ],
        [
         66,
         73
        ],
        [
         66,
         78
        ],
        [
         67,
         79
        ],
        [
         71,
         52
        ],
        [
         91,
         84
        ],
        [
         69,
         57
        ],
        [
         54,
         50
        ],
        [
         53,
         49
        ],
        [
         68,
         59
        ],
        [
         56,
         60
        ],
        [
         36,
         43
        ],
        [
         29,
         47
        ],
        [
         62,
         70
        ],
        [
         68,
         73
        ],
        [
         47,
         53
        ],
        [
         62,
         58
        ],
        [
         79,
         94
        ],
        [
         73,
         68
        ],
        [
         66,
         83
        ],
        [
         51,
         58
        ],
        [
         51,
         62
        ],
        [
         85,
         71
        ],
        [
         97,
         86
        ],
        [
         75,
         68
        ],
        [
         79,
         80
        ],
        [
         81,
         79
        ],
        [
         82,
         89
        ],
        [
         64,
         66
        ],
        [
         78,
         80
        ],
        [
         92,
         97
        ],
        [
         72,
         64
        ],
        [
         62,
         64
        ],
        [
         79,
         69
        ],
        [
         79,
         65
        ],
        [
         87,
         88
        ],
        [
         40,
         50
        ],
        [
         77,
         64
        ],
        [
         53,
         40
        ],
        [
         32,
         33
        ],
        [
         55,
         79
        ],
        [
         61,
         66
        ],
        [
         53,
         70
        ],
        [
         73,
         62
        ],
        [
         74,
         79
        ],
        [
         63,
         74
        ],
        [
         96,
         92
        ],
        [
         63,
         80
        ],
        [
         48,
         46
        ],
        [
         48,
         45
        ],
        [
         92,
         100
        ],
        [
         61,
         78
        ],
        [
         63,
         47
        ],
        [
         68,
         67
        ],
        [
         71,
         70
        ],
        [
         91,
         92
        ],
        [
         53,
         56
        ],
        [
         50,
         64
        ],
        [
         74,
         71
        ],
        [
         40,
         53
        ],
        [
         61,
         52
        ],
        [
         81,
         89
        ],
        [
         48,
         58
        ],
        [
         53,
         68
        ],
        [
         81,
         96
        ],
        [
         77,
         80
        ],
        [
         63,
         78
        ],
        [
         73,
         80
        ],
        [
         69,
         77
        ],
        [
         65,
         76
        ],
        [
         55,
         73
        ],
        [
         44,
         62
        ],
        [
         54,
         65
        ],
        [
         48,
         65
        ],
        [
         58,
         54
        ],
        [
         71,
         50
        ],
        [
         68,
         64
        ],
        [
         74,
         73
        ],
        [
         92,
         99
        ],
        [
         56,
         72
        ],
        [
         30,
         15
        ],
        [
         53,
         48
        ],
        [
         69,
         73
        ],
        [
         65,
         81
        ],
        [
         54,
         63
        ],
        [
         29,
         30
        ],
        [
         76,
         80
        ],
        [
         60,
         51
        ],
        [
         84,
         90
        ],
        [
         75,
         62
        ],
        [
         85,
         82
        ],
        [
         40,
         54
        ],
        [
         61,
         62
        ],
        [
         58,
         65
        ],
        [
         69,
         63
        ],
        [
         58,
         66
        ],
        [
         94,
         91
        ],
        [
         65,
         74
        ],
        [
         82,
         93
        ],
        [
         60,
         72
        ],
        [
         37,
         38
        ],
        [
         88,
         83
        ],
        [
         95,
         84
        ],
        [
         65,
         68
        ],
        [
         35,
         54
        ],
        [
         62,
         56
        ],
        [
         58,
         52
        ],
        [
         100,
         86
        ],
        [
         61,
         62
        ],
        [
         100,
         99
        ],
        [
         69,
         63
        ],
        [
         61,
         46
        ],
        [
         49,
         46
        ],
        [
         44,
         55
        ],
        [
         67,
         70
        ],
        [
         79,
         65
        ],
        [
         66,
         81
        ],
        [
         75,
         85
        ],
        [
         84,
         80
        ],
        [
         71,
         64
        ],
        [
         67,
         81
        ],
        [
         80,
         88
        ],
        [
         86,
         74
        ],
        [
         76,
         73
        ],
        [
         41,
         51
        ],
        [
         74,
         90
        ],
        [
         72,
         79
        ],
        [
         74,
         80
        ],
        [
         70,
         60
        ],
        [
         65,
         81
        ],
        [
         59,
         65
        ],
        [
         64,
         68
        ],
        [
         50,
         55
        ],
        [
         69,
         81
        ],
        [
         51,
         53
        ],
        [
         68,
         76
        ],
        [
         85,
         98
        ],
        [
         65,
         74
        ],
        [
         73,
         79
        ],
        [
         62,
         67
        ],
        [
         77,
         64
        ],
        [
         69,
         61
        ],
        [
         43,
         58
        ],
        [
         90,
         85
        ],
        [
         74,
         73
        ],
        [
         73,
         63
        ],
        [
         55,
         69
        ],
        [
         65,
         67
        ],
        [
         80,
         63
        ],
        [
         50,
         60
        ],
        [
         63,
         71
        ],
        [
         77,
         87
        ],
        [
         73,
         61
        ],
        [
         81,
         77
        ],
        [
         66,
         68
        ],
        [
         52,
         50
        ],
        [
         69,
         76
        ],
        [
         65,
         84
        ],
        [
         69,
         78
        ],
        [
         50,
         66
        ],
        [
         73,
         76
        ],
        [
         70,
         76
        ],
        [
         81,
         78
        ],
        [
         63,
         60
        ],
        [
         67,
         74
        ],
        [
         60,
         60
        ],
        [
         62,
         54
        ],
        [
         29,
         44
        ],
        [
         62,
         68
        ],
        [
         94,
         100
        ],
        [
         85,
         68
        ],
        [
         77,
         73
        ],
        [
         53,
         44
        ],
        [
         93,
         83
        ],
        [
         49,
         53
        ],
        [
         73,
         78
        ],
        [
         66,
         81
        ],
        [
         77,
         73
        ],
        [
         49,
         56
        ],
        [
         79,
         86
        ],
        [
         75,
         90
        ],
        [
         59,
         70
        ],
        [
         57,
         79
        ],
        [
         66,
         59
        ],
        [
         79,
         82
        ],
        [
         57,
         72
        ],
        [
         87,
         87
        ],
        [
         63,
         67
        ],
        [
         59,
         64
        ],
        [
         62,
         65
        ],
        [
         46,
         36
        ],
        [
         66,
         52
        ],
        [
         89,
         79
        ],
        [
         42,
         58
        ],
        [
         93,
         90
        ],
        [
         80,
         85
        ],
        [
         98,
         99
        ],
        [
         81,
         84
        ],
        [
         60,
         74
        ],
        [
         76,
         87
        ],
        [
         73,
         72
        ],
        [
         96,
         99
        ],
        [
         76,
         74
        ],
        [
         91,
         80
        ],
        [
         62,
         70
        ],
        [
         55,
         59
        ],
        [
         74,
         88
        ],
        [
         50,
         42
        ],
        [
         47,
         41
        ],
        [
         81,
         71
        ],
        [
         65,
         77
        ],
        [
         68,
         57
        ],
        [
         73,
         84
        ],
        [
         53,
         37
        ],
        [
         68,
         80
        ],
        [
         55,
         43
        ],
        [
         87,
         94
        ],
        [
         55,
         44
        ],
        [
         53,
         57
        ],
        [
         67,
         59
        ],
        [
         92,
         84
        ],
        [
         53,
         73
        ],
        [
         81,
         73
        ],
        [
         61,
         55
        ],
        [
         80,
         72
        ],
        [
         37,
         56
        ],
        [
         81,
         82
        ],
        [
         59,
         72
        ],
        [
         55,
         47
        ],
        [
         72,
         74
        ],
        [
         69,
         71
        ],
        [
         69,
         68
        ],
        [
         50,
         59
        ],
        [
         87,
         86
        ],
        [
         71,
         68
        ],
        [
         68,
         65
        ],
        [
         79,
         75
        ],
        [
         77,
         85
        ],
        [
         58,
         53
        ],
        [
         84,
         92
        ],
        [
         55,
         52
        ],
        [
         70,
         72
        ],
        [
         52,
         65
        ],
        [
         69,
         77
        ],
        [
         53,
         64
        ],
        [
         48,
         54
        ],
        [
         78,
         86
        ],
        [
         62,
         63
        ],
        [
         60,
         59
        ],
        [
         74,
         72
        ],
        [
         58,
         77
        ],
        [
         76,
         60
        ],
        [
         68,
         75
        ],
        [
         58,
         57
        ],
        [
         52,
         49
        ],
        [
         75,
         74
        ],
        [
         52,
         72
        ],
        [
         62,
         79
        ],
        [
         66,
         60
        ],
        [
         49,
         55
        ],
        [
         66,
         70
        ],
        [
         35,
         43
        ],
        [
         72,
         82
        ],
        [
         94,
         82
        ],
        [
         46,
         57
        ],
        [
         77,
         84
        ],
        [
         76,
         82
        ],
        [
         52,
         62
        ],
        [
         91,
         79
        ],
        [
         32,
         44
        ],
        [
         72,
         77
        ],
        [
         19,
         32
        ],
        [
         68,
         61
        ],
        [
         52,
         61
        ],
        [
         48,
         60
        ],
        [
         60,
         70
        ],
        [
         66,
         69
        ],
        [
         89,
         77
        ],
        [
         42,
         51
        ],
        [
         57,
         73
        ],
        [
         70,
         70
        ],
        [
         70,
         81
        ],
        [
         69,
         54
        ],
        [
         52,
         57
        ],
        [
         67,
         68
        ],
        [
         76,
         73
        ],
        [
         87,
         95
        ],
        [
         82,
         87
        ],
        [
         73,
         78
        ],
        [
         75,
         74
        ],
        [
         64,
         75
        ],
        [
         41,
         40
        ],
        [
         90,
         69
        ],
        [
         59,
         51
        ],
        [
         51,
         36
        ],
        [
         45,
         49
        ],
        [
         54,
         67
        ],
        [
         87,
         76
        ],
        [
         72,
         83
        ],
        [
         94,
         87
        ],
        [
         45,
         64
        ],
        [
         61,
         76
        ],
        [
         60,
         68
        ],
        [
         77,
         88
        ],
        [
         85,
         92
        ],
        [
         78,
         93
        ],
        [
         49,
         51
        ],
        [
         71,
         82
        ],
        [
         48,
         52
        ],
        [
         62,
         58
        ],
        [
         56,
         70
        ],
        [
         65,
         76
        ],
        [
         69,
         81
        ],
        [
         68,
         53
        ],
        [
         61,
         57
        ],
        [
         74,
         89
        ],
        [
         64,
         58
        ],
        [
         77,
         89
        ],
        [
         58,
         45
        ],
        [
         60,
         74
        ],
        [
         73,
         57
        ],
        [
         75,
         79
        ],
        [
         58,
         53
        ],
        [
         66,
         73
        ],
        [
         39,
         46
        ],
        [
         64,
         51
        ],
        [
         23,
         36
        ],
        [
         74,
         76
        ],
        [
         40,
         64
        ],
        [
         90,
         84
        ],
        [
         91,
         85
        ],
        [
         64,
         50
        ],
        [
         59,
         68
        ],
        [
         80,
         69
        ],
        [
         71,
         67
        ],
        [
         61,
         63
        ],
        [
         87,
         93
        ],
        [
         82,
         61
        ],
        [
         62,
         55
        ],
        [
         97,
         96
        ],
        [
         75,
         65
        ],
        [
         65,
         81
        ],
        [
         52,
         46
        ],
        [
         87,
         72
        ],
        [
         53,
         53
        ],
        [
         81,
         87
        ],
        [
         39,
         38
        ],
        [
         71,
         80
        ],
        [
         97,
         91
        ],
        [
         82,
         88
        ],
        [
         59,
         52
        ],
        [
         61,
         41
        ],
        [
         78,
         72
        ],
        [
         49,
         51
        ],
        [
         59,
         47
        ],
        [
         70,
         76
        ],
        [
         82,
         78
        ],
        [
         90,
         82
        ],
        [
         43,
         61
        ],
        [
         80,
         66
        ],
        [
         81,
         84
        ],
        [
         57,
         54
        ],
        [
         59,
         80
        ],
        [
         64,
         74
        ],
        [
         63,
         66
        ],
        [
         71,
         70
        ],
        [
         64,
         71
        ],
        [
         55,
         44
        ],
        [
         51,
         54
        ],
        [
         62,
         80
        ],
        [
         93,
         95
        ],
        [
         54,
         59
        ],
        [
         69,
         74
        ],
        [
         44,
         48
        ],
        [
         86,
         91
        ],
        [
         85,
         85
        ],
        [
         50,
         73
        ],
        [
         88,
         75
        ],
        [
         59,
         69
        ],
        [
         32,
         38
        ],
        [
         36,
         27
        ],
        [
         63,
         79
        ],
        [
         67,
         63
        ],
        [
         65,
         82
        ],
        [
         85,
         89
        ],
        [
         73,
         74
        ],
        [
         34,
         41
        ],
        [
         93,
         100
        ],
        [
         67,
         84
        ],
        [
         88,
         77
        ],
        [
         57,
         51
        ],
        [
         79,
         91
        ],
        [
         67,
         72
        ],
        [
         70,
         70
        ],
        [
         50,
         48
        ],
        [
         69,
         82
        ],
        [
         52,
         66
        ],
        [
         47,
         66
        ],
        [
         46,
         55
        ],
        [
         68,
         66
        ],
        [
         100,
         100
        ],
        [
         44,
         52
        ],
        [
         57,
         80
        ],
        [
         91,
         91
        ],
        [
         69,
         67
        ],
        [
         35,
         46
        ],
        [
         72,
         66
        ],
        [
         54,
         65
        ],
        [
         74,
         69
        ],
        [
         74,
         60
        ],
        [
         64,
         52
        ],
        [
         65,
         71
        ],
        [
         46,
         44
        ],
        [
         48,
         51
        ],
        [
         67,
         70
        ],
        [
         62,
         62
        ],
        [
         61,
         73
        ],
        [
         70,
         74
        ],
        [
         98,
         90
        ],
        [
         70,
         58
        ],
        [
         67,
         53
        ],
        [
         57,
         57
        ],
        [
         85,
         85
        ],
        [
         77,
         69
        ],
        [
         72,
         72
        ],
        [
         78,
         96
        ],
        [
         81,
         64
        ],
        [
         61,
         61
        ],
        [
         58,
         61
        ],
        [
         54,
         58
        ],
        [
         82,
         80
        ],
        [
         49,
         60
        ],
        [
         49,
         52
        ],
        [
         57,
         73
        ],
        [
         94,
         71
        ],
        [
         75,
         83
        ],
        [
         74,
         72
        ],
        [
         58,
         54
        ],
        [
         62,
         69
        ],
        [
         72,
         62
        ],
        [
         84,
         81
        ],
        [
         92,
         100
        ],
        [
         45,
         59
        ],
        [
         75,
         71
        ],
        [
         56,
         64
        ],
        [
         48,
         53
        ],
        [
         100,
         100
        ],
        [
         65,
         75
        ],
        [
         72,
         58
        ],
        [
         62,
         72
        ],
        [
         66,
         64
        ],
        [
         63,
         60
        ],
        [
         68,
         67
        ],
        [
         75,
         80
        ],
        [
         89,
         100
        ],
        [
         78,
         69
        ],
        [
         53,
         60
        ],
        [
         49,
         61
        ],
        [
         54,
         67
        ],
        [
         64,
         77
        ],
        [
         60,
         60
        ],
        [
         62,
         58
        ],
        [
         55,
         48
        ],
        [
         91,
         94
        ],
        [
         8,
         23
        ],
        [
         81,
         78
        ],
        [
         79,
         86
        ],
        [
         78,
         91
        ],
        [
         74,
         82
        ],
        [
         57,
         54
        ],
        [
         40,
         51
        ],
        [
         81,
         76
        ],
        [
         44,
         45
        ],
        [
         67,
         83
        ],
        [
         86,
         75
        ],
        [
         65,
         78
        ],
        [
         55,
         76
        ],
        [
         62,
         74
        ],
        [
         63,
         62
        ],
        [
         88,
         95
        ],
        [
         62,
         55
        ],
        [
         59,
         65
        ],
        [
         68,
         77
        ],
        [
         77,
         86
        ]
       ],
       "datasetInfos": [],
       "dbfsResultPath": null,
       "isJsonSchema": true,
       "metadata": {},
       "overflow": false,
       "plotOptions": {
        "customPlotOptions": {},
        "displayType": "table",
        "pivotAggregation": null,
        "pivotColumns": null,
        "xColumns": null,
        "yColumns": null
       },
       "removedWidgets": [],
       "schema": [
        {
         "metadata": "{}",
         "name": "math score",
         "type": "\"integer\""
        },
        {
         "metadata": "{}",
         "name": "writing score",
         "type": "\"integer\""
        }
       ],
       "type": "table"
      }
     },
     "output_type": "display_data"
    },
    {
     "output_type": "display_data",
     "data": {
      "text/plain": [
       "Databricks visualization. Run in Databricks to view."
      ]
     },
     "metadata": {
      "application/vnd.databricks.v1.subcommand+json": {
       "baseErrorDetails": null,
       "bindings": {},
       "collapsed": false,
       "command": "%python\n__backend_agg_display_orig = display\n__backend_agg_dfs = []\ndef __backend_agg_display_new(df):\n    __backend_agg_df_modules = [\"pandas.core.frame\", \"databricks.koalas.frame\", \"pyspark.sql.dataframe\", \"pyspark.pandas.frame\", \"pyspark.sql.connect.dataframe\"]\n    if (type(df).__module__ in __backend_agg_df_modules and type(df).__name__ == 'DataFrame') or isinstance(df, list):\n        __backend_agg_dfs.append(df)\n\ndisplay = __backend_agg_display_new\n\ndef __backend_agg_user_code_fn():\n    import base64\n    exec(base64.standard_b64decode(\"cmVzdWx0PWRmLnNlbGVjdCgibWF0aCBzY29yZSIsICJ3cml0aW5nIHNjb3JlIikKZGlzcGxheShyZXN1bHQp\").decode())\n\ntry:\n    # run user code\n    __backend_agg_user_code_fn()\n\n    #reset display function\n    display = __backend_agg_display_orig\n\n    if len(__backend_agg_dfs) > 0:\n        # create a temp view\n        if type(__backend_agg_dfs[0]).__module__ == \"databricks.koalas.frame\":\n            # koalas dataframe\n            __backend_agg_dfs[0].to_spark().createOrReplaceTempView(\"DatabricksViewf0d094d\")\n        elif type(__backend_agg_dfs[0]).__module__ == \"pandas.core.frame\" or isinstance(__backend_agg_dfs[0], list):\n            # pandas dataframe\n            spark.createDataFrame(__backend_agg_dfs[0]).createOrReplaceTempView(\"DatabricksViewf0d094d\")\n        else:\n            __backend_agg_dfs[0].createOrReplaceTempView(\"DatabricksViewf0d094d\")\n        #run backend agg\n        display(spark.sql(\"\"\"WITH q AS (select * from DatabricksViewf0d094d) SELECT `math score`,`writing score` FROM q\"\"\"))\n    else:\n        displayHTML(\"dataframe no longer exists. If you're using dataframe.display(), use display(dataframe) instead.\")\n\n\nfinally:\n    spark.sql(\"drop view if exists DatabricksViewf0d094d\")\n    display = __backend_agg_display_orig\n    del __backend_agg_display_new\n    del __backend_agg_display_orig\n    del __backend_agg_dfs\n    del __backend_agg_user_code_fn\n\n",
       "commandTitle": "Visualization 1",
       "commandType": "auto",
       "commandVersion": 0,
       "commentThread": [],
       "commentsVisible": false,
       "contentSha256Hex": null,
       "customPlotOptions": {
        "redashChart": [
         {
          "key": "type",
          "value": "CHART"
         },
         {
          "key": "options",
          "value": {
           "alignYAxesAtZero": true,
           "coefficient": 1,
           "columnConfigurationMap": {
            "x": {
             "column": "math score",
             "id": "column_93df7567147"
            },
            "y": [
             {
              "column": "writing score",
              "id": "column_93df7567148"
             }
            ]
           },
           "dateTimeFormat": "DD/MM/YYYY HH:mm",
           "direction": {
            "type": "counterclockwise"
           },
           "error_y": {
            "type": "data",
            "visible": true
           },
           "globalSeriesType": "scatter",
           "legend": {
            "traceorder": "normal"
           },
           "missingValuesAsZero": true,
           "numberFormat": "0,0.[00000]",
           "percentFormat": "0[.]00%",
           "series": {
            "error_y": {
             "type": "data",
             "visible": true
            },
            "stacking": null
           },
           "seriesOptions": {
            "column_93df7567148": {
             "name": "writing score",
             "yAxis": 0
            }
           },
           "showDataLabels": false,
           "sizemode": "diameter",
           "sortX": true,
           "sortY": true,
           "swappedAxes": false,
           "textFormat": "",
           "useAggregationsUi": true,
           "valuesOptions": {},
           "version": 2,
           "xAxis": {
            "labels": {
             "enabled": true
            },
            "type": "-"
           },
           "yAxis": [
            {
             "type": "-"
            },
            {
             "opposite": true,
             "type": "-"
            }
           ]
          }
         }
        ]
       },
       "datasetPreviewNameToCmdIdMap": {},
       "diffDeletes": [],
       "diffInserts": [],
       "displayType": "redashChart",
       "error": null,
       "errorDetails": null,
       "errorSummary": null,
       "errorTraceType": null,
       "finishTime": 0,
       "globalVars": {},
       "guid": "",
       "height": "auto",
       "hideCommandCode": false,
       "hideCommandResult": false,
       "iPythonMetadata": null,
       "inputWidgets": {},
       "isLockedInExamMode": false,
       "latestUser": "a user",
       "latestUserId": null,
       "listResultMetadata": null,
       "metadata": {},
       "nuid": "96e5d5c5-4423-4644-90a5-f6e403106008",
       "origId": 0,
       "parentHierarchy": [],
       "pivotAggregation": null,
       "pivotColumns": null,
       "position": 14.0,
       "resultDbfsErrorMessage": null,
       "resultDbfsStatus": "INLINED_IN_TREE",
       "results": null,
       "showCommandTitle": false,
       "startTime": 0,
       "state": "input",
       "streamStates": {},
       "subcommandOptions": {
        "queryPlan": {
         "selects": [
          {
           "column": "math score",
           "type": "column"
          },
          {
           "column": "writing score",
           "type": "column"
          }
         ]
        }
       },
       "submitTime": 0,
       "subtype": "tableResultSubCmd.visualization",
       "tableResultIndex": 0,
       "tableResultSettingsMap": {},
       "useConsistentColors": false,
       "version": "CommandV1",
       "width": "auto",
       "workflows": [],
       "xColumns": null,
       "yColumns": null
      }
     },
     "output_type": "display_data"
    }
   ],
   "source": [
    "result=df.select(\"math score\", \"writing score\")\n",
    "display(result)"
   ]
  },
  {
   "cell_type": "markdown",
   "metadata": {
    "application/vnd.databricks.v1+cell": {
     "cellMetadata": {},
     "inputWidgets": {},
     "nuid": "083ac78f-0d3f-49d5-a89f-bfefb4f685e3",
     "showTitle": false,
     "tableResultSettingsMap": {},
     "title": ""
    }
   },
   "source": [
    "Bubble Chart – Math vs Reading Scores with Bubble Size as Writing Score"
   ]
  },
  {
   "cell_type": "code",
   "execution_count": 0,
   "metadata": {
    "application/vnd.databricks.v1+cell": {
     "cellMetadata": {
      "byteLimit": 2048000,
      "rowLimit": 10000
     },
     "inputWidgets": {},
     "nuid": "e93dae2b-2518-4de4-9785-024c2dfb8a04",
     "showTitle": false,
     "tableResultSettingsMap": {
      "0": {
       "dataGridStateBlob": "{\"version\":1,\"tableState\":{\"columnPinning\":{\"left\":[\"#row_number#\"],\"right\":[]},\"columnSizing\":{},\"columnVisibility\":{}},\"settings\":{\"columns\":{}},\"syncTimestamp\":1754478542714}",
       "filterBlob": null,
       "queryPlanFiltersBlob": null,
       "tableResultIndex": 0
      }
     },
     "title": ""
    }
   },
   "outputs": [
    {
     "output_type": "display_data",
     "data": {
      "text/html": [
       "<style scoped>\n",
       "  .table-result-container {\n",
       "    max-height: 300px;\n",
       "    overflow: auto;\n",
       "  }\n",
       "  table, th, td {\n",
       "    border: 1px solid black;\n",
       "    border-collapse: collapse;\n",
       "  }\n",
       "  th, td {\n",
       "    padding: 5px;\n",
       "  }\n",
       "  th {\n",
       "    text-align: left;\n",
       "  }\n",
       "</style><div class='table-result-container'><table class='table-result'><thead style='background-color: white'><tr><th>math score</th><th>reading score</th><th>writing score</th></tr></thead><tbody><tr><td>72</td><td>72</td><td>74</td></tr><tr><td>69</td><td>90</td><td>88</td></tr><tr><td>90</td><td>95</td><td>93</td></tr><tr><td>47</td><td>57</td><td>44</td></tr><tr><td>76</td><td>78</td><td>75</td></tr><tr><td>71</td><td>83</td><td>78</td></tr><tr><td>88</td><td>95</td><td>92</td></tr><tr><td>40</td><td>43</td><td>39</td></tr><tr><td>64</td><td>64</td><td>67</td></tr><tr><td>38</td><td>60</td><td>50</td></tr><tr><td>58</td><td>54</td><td>52</td></tr><tr><td>40</td><td>52</td><td>43</td></tr><tr><td>65</td><td>81</td><td>73</td></tr><tr><td>78</td><td>72</td><td>70</td></tr><tr><td>50</td><td>53</td><td>58</td></tr><tr><td>69</td><td>75</td><td>78</td></tr><tr><td>88</td><td>89</td><td>86</td></tr><tr><td>18</td><td>32</td><td>28</td></tr><tr><td>46</td><td>42</td><td>46</td></tr><tr><td>54</td><td>58</td><td>61</td></tr><tr><td>66</td><td>69</td><td>63</td></tr><tr><td>65</td><td>75</td><td>70</td></tr><tr><td>44</td><td>54</td><td>53</td></tr><tr><td>69</td><td>73</td><td>73</td></tr><tr><td>74</td><td>71</td><td>80</td></tr><tr><td>73</td><td>74</td><td>72</td></tr><tr><td>69</td><td>54</td><td>55</td></tr><tr><td>67</td><td>69</td><td>75</td></tr><tr><td>70</td><td>70</td><td>65</td></tr><tr><td>62</td><td>70</td><td>75</td></tr><tr><td>69</td><td>74</td><td>74</td></tr><tr><td>63</td><td>65</td><td>61</td></tr><tr><td>56</td><td>72</td><td>65</td></tr><tr><td>40</td><td>42</td><td>38</td></tr><tr><td>97</td><td>87</td><td>82</td></tr><tr><td>81</td><td>81</td><td>79</td></tr><tr><td>74</td><td>81</td><td>83</td></tr><tr><td>50</td><td>64</td><td>59</td></tr><tr><td>75</td><td>90</td><td>88</td></tr><tr><td>57</td><td>56</td><td>57</td></tr><tr><td>55</td><td>61</td><td>54</td></tr><tr><td>58</td><td>73</td><td>68</td></tr><tr><td>53</td><td>58</td><td>65</td></tr><tr><td>59</td><td>65</td><td>66</td></tr><tr><td>50</td><td>56</td><td>54</td></tr><tr><td>65</td><td>54</td><td>57</td></tr><tr><td>55</td><td>65</td><td>62</td></tr><tr><td>66</td><td>71</td><td>76</td></tr><tr><td>57</td><td>74</td><td>76</td></tr><tr><td>82</td><td>84</td><td>82</td></tr><tr><td>53</td><td>55</td><td>48</td></tr><tr><td>77</td><td>69</td><td>68</td></tr><tr><td>53</td><td>44</td><td>42</td></tr><tr><td>88</td><td>78</td><td>75</td></tr><tr><td>71</td><td>84</td><td>87</td></tr><tr><td>33</td><td>41</td><td>43</td></tr><tr><td>82</td><td>85</td><td>86</td></tr><tr><td>52</td><td>55</td><td>49</td></tr><tr><td>58</td><td>59</td><td>58</td></tr><tr><td>0</td><td>17</td><td>10</td></tr><tr><td>79</td><td>74</td><td>72</td></tr><tr><td>39</td><td>39</td><td>34</td></tr><tr><td>62</td><td>61</td><td>55</td></tr><tr><td>69</td><td>80</td><td>71</td></tr><tr><td>59</td><td>58</td><td>59</td></tr><tr><td>67</td><td>64</td><td>61</td></tr><tr><td>45</td><td>37</td><td>37</td></tr><tr><td>60</td><td>72</td><td>74</td></tr><tr><td>61</td><td>58</td><td>56</td></tr><tr><td>39</td><td>64</td><td>57</td></tr><tr><td>58</td><td>63</td><td>73</td></tr><tr><td>63</td><td>55</td><td>63</td></tr><tr><td>41</td><td>51</td><td>48</td></tr><tr><td>61</td><td>57</td><td>56</td></tr><tr><td>49</td><td>49</td><td>41</td></tr><tr><td>44</td><td>41</td><td>38</td></tr><tr><td>30</td><td>26</td><td>22</td></tr><tr><td>80</td><td>78</td><td>81</td></tr><tr><td>61</td><td>74</td><td>72</td></tr><tr><td>62</td><td>68</td><td>68</td></tr><tr><td>47</td><td>49</td><td>50</td></tr><tr><td>49</td><td>45</td><td>45</td></tr><tr><td>50</td><td>47</td><td>54</td></tr><tr><td>72</td><td>64</td><td>63</td></tr><tr><td>42</td><td>39</td><td>34</td></tr><tr><td>73</td><td>80</td><td>82</td></tr><tr><td>76</td><td>83</td><td>88</td></tr><tr><td>71</td><td>71</td><td>74</td></tr><tr><td>58</td><td>70</td><td>67</td></tr><tr><td>73</td><td>86</td><td>82</td></tr><tr><td>65</td><td>72</td><td>74</td></tr><tr><td>27</td><td>34</td><td>36</td></tr><tr><td>71</td><td>79</td><td>71</td></tr><tr><td>43</td><td>45</td><td>50</td></tr><tr><td>79</td><td>86</td><td>92</td></tr><tr><td>78</td><td>81</td><td>82</td></tr><tr><td>65</td><td>66</td><td>62</td></tr><tr><td>63</td><td>72</td><td>70</td></tr><tr><td>58</td><td>67</td><td>62</td></tr><tr><td>65</td><td>67</td><td>62</td></tr><tr><td>79</td><td>67</td><td>67</td></tr><tr><td>68</td><td>74</td><td>74</td></tr><tr><td>85</td><td>91</td><td>89</td></tr><tr><td>60</td><td>44</td><td>47</td></tr><tr><td>98</td><td>86</td><td>90</td></tr><tr><td>58</td><td>67</td><td>72</td></tr><tr><td>87</td><td>100</td><td>100</td></tr><tr><td>66</td><td>63</td><td>64</td></tr><tr><td>52</td><td>76</td><td>70</td></tr><tr><td>70</td><td>64</td><td>72</td></tr><tr><td>77</td><td>89</td><td>98</td></tr><tr><td>62</td><td>55</td><td>49</td></tr><tr><td>54</td><td>53</td><td>47</td></tr><tr><td>51</td><td>58</td><td>54</td></tr><tr><td>99</td><td>100</td><td>100</td></tr><tr><td>84</td><td>77</td><td>74</td></tr><tr><td>75</td><td>85</td><td>82</td></tr><tr><td>78</td><td>82</td><td>79</td></tr><tr><td>51</td><td>63</td><td>61</td></tr><tr><td>55</td><td>69</td><td>65</td></tr><tr><td>79</td><td>92</td><td>89</td></tr><tr><td>91</td><td>89</td><td>92</td></tr><tr><td>88</td><td>93</td><td>93</td></tr><tr><td>63</td><td>57</td><td>56</td></tr><tr><td>83</td><td>80</td><td>73</td></tr><tr><td>87</td><td>95</td><td>86</td></tr><tr><td>72</td><td>68</td><td>67</td></tr><tr><td>65</td><td>77</td><td>74</td></tr><tr><td>82</td><td>82</td><td>74</td></tr><tr><td>51</td><td>49</td><td>51</td></tr><tr><td>89</td><td>84</td><td>82</td></tr><tr><td>53</td><td>37</td><td>40</td></tr><tr><td>87</td><td>74</td><td>70</td></tr><tr><td>75</td><td>81</td><td>84</td></tr><tr><td>74</td><td>79</td><td>75</td></tr><tr><td>58</td><td>55</td><td>48</td></tr><tr><td>51</td><td>54</td><td>41</td></tr><tr><td>70</td><td>55</td><td>56</td></tr><tr><td>59</td><td>66</td><td>67</td></tr><tr><td>71</td><td>61</td><td>69</td></tr><tr><td>76</td><td>72</td><td>71</td></tr><tr><td>59</td><td>62</td><td>64</td></tr><tr><td>42</td><td>55</td><td>54</td></tr><tr><td>57</td><td>43</td><td>47</td></tr><tr><td>88</td><td>73</td><td>78</td></tr><tr><td>22</td><td>39</td><td>33</td></tr><tr><td>88</td><td>84</td><td>75</td></tr><tr><td>73</td><td>68</td><td>66</td></tr><tr><td>68</td><td>75</td><td>81</td></tr><tr><td>100</td><td>100</td><td>93</td></tr><tr><td>62</td><td>67</td><td>69</td></tr><tr><td>77</td><td>67</td><td>68</td></tr><tr><td>59</td><td>70</td><td>66</td></tr><tr><td>54</td><td>49</td><td>47</td></tr><tr><td>62</td><td>67</td><td>61</td></tr><tr><td>70</td><td>89</td><td>88</td></tr><tr><td>66</td><td>74</td><td>78</td></tr><tr><td>60</td><td>60</td><td>60</td></tr><tr><td>61</td><td>86</td><td>87</td></tr><tr><td>66</td><td>62</td><td>64</td></tr><tr><td>82</td><td>78</td><td>74</td></tr><tr><td>75</td><td>88</td><td>85</td></tr><tr><td>49</td><td>53</td><td>52</td></tr><tr><td>52</td><td>53</td><td>49</td></tr><tr><td>81</td><td>92</td><td>91</td></tr><tr><td>96</td><td>100</td><td>100</td></tr><tr><td>53</td><td>51</td><td>51</td></tr><tr><td>58</td><td>76</td><td>78</td></tr><tr><td>68</td><td>83</td><td>78</td></tr><tr><td>67</td><td>75</td><td>70</td></tr><tr><td>72</td><td>73</td><td>74</td></tr><tr><td>94</td><td>88</td><td>78</td></tr><tr><td>79</td><td>86</td><td>81</td></tr><tr><td>63</td><td>67</td><td>70</td></tr><tr><td>43</td><td>51</td><td>54</td></tr><tr><td>81</td><td>91</td><td>87</td></tr><tr><td>46</td><td>54</td><td>58</td></tr><tr><td>71</td><td>77</td><td>77</td></tr><tr><td>52</td><td>70</td><td>62</td></tr><tr><td>97</td><td>100</td><td>100</td></tr><tr><td>62</td><td>68</td><td>75</td></tr><tr><td>46</td><td>64</td><td>66</td></tr><tr><td>50</td><td>50</td><td>47</td></tr><tr><td>65</td><td>69</td><td>70</td></tr><tr><td>45</td><td>52</td><td>49</td></tr><tr><td>65</td><td>67</td><td>65</td></tr><tr><td>80</td><td>76</td><td>65</td></tr><tr><td>62</td><td>66</td><td>68</td></tr><tr><td>48</td><td>52</td><td>45</td></tr><tr><td>77</td><td>88</td><td>87</td></tr><tr><td>66</td><td>65</td><td>69</td></tr><tr><td>76</td><td>83</td><td>79</td></tr><tr><td>62</td><td>64</td><td>66</td></tr><tr><td>77</td><td>62</td><td>62</td></tr><tr><td>69</td><td>84</td><td>85</td></tr><tr><td>61</td><td>55</td><td>52</td></tr><tr><td>59</td><td>69</td><td>65</td></tr><tr><td>55</td><td>56</td><td>51</td></tr><tr><td>45</td><td>53</td><td>55</td></tr><tr><td>78</td><td>79</td><td>76</td></tr><tr><td>67</td><td>84</td><td>86</td></tr><tr><td>65</td><td>81</td><td>77</td></tr><tr><td>69</td><td>77</td><td>69</td></tr><tr><td>57</td><td>69</td><td>68</td></tr><tr><td>59</td><td>41</td><td>42</td></tr><tr><td>74</td><td>71</td><td>78</td></tr><tr><td>82</td><td>62</td><td>62</td></tr><tr><td>81</td><td>80</td><td>76</td></tr><tr><td>74</td><td>81</td><td>76</td></tr><tr><td>58</td><td>61</td><td>66</td></tr><tr><td>80</td><td>79</td><td>79</td></tr><tr><td>35</td><td>28</td><td>27</td></tr><tr><td>42</td><td>62</td><td>60</td></tr><tr><td>60</td><td>51</td><td>56</td></tr><tr><td>87</td><td>91</td><td>81</td></tr><tr><td>84</td><td>83</td><td>75</td></tr><tr><td>83</td><td>86</td><td>88</td></tr><tr><td>34</td><td>42</td><td>39</td></tr><tr><td>66</td><td>77</td><td>70</td></tr><tr><td>61</td><td>56</td><td>56</td></tr><tr><td>56</td><td>68</td><td>74</td></tr><tr><td>87</td><td>85</td><td>73</td></tr><tr><td>55</td><td>65</td><td>62</td></tr><tr><td>86</td><td>80</td><td>75</td></tr><tr><td>52</td><td>66</td><td>73</td></tr><tr><td>45</td><td>56</td><td>54</td></tr><tr><td>72</td><td>72</td><td>71</td></tr><tr><td>57</td><td>50</td><td>54</td></tr><tr><td>68</td><td>72</td><td>64</td></tr><tr><td>88</td><td>95</td><td>94</td></tr><tr><td>76</td><td>64</td><td>66</td></tr><tr><td>46</td><td>43</td><td>42</td></tr><tr><td>67</td><td>86</td><td>83</td></tr><tr><td>92</td><td>87</td><td>78</td></tr><tr><td>83</td><td>82</td><td>84</td></tr><tr><td>80</td><td>75</td><td>77</td></tr><tr><td>63</td><td>66</td><td>67</td></tr><tr><td>64</td><td>60</td><td>74</td></tr><tr><td>54</td><td>52</td><td>51</td></tr><tr><td>84</td><td>80</td><td>80</td></tr><tr><td>73</td><td>68</td><td>66</td></tr><tr><td>80</td><td>83</td><td>83</td></tr><tr><td>56</td><td>52</td><td>55</td></tr><tr><td>59</td><td>51</td><td>43</td></tr><tr><td>75</td><td>74</td><td>69</td></tr><tr><td>85</td><td>76</td><td>71</td></tr><tr><td>89</td><td>76</td><td>74</td></tr><tr><td>58</td><td>70</td><td>68</td></tr><tr><td>65</td><td>64</td><td>62</td></tr><tr><td>68</td><td>60</td><td>53</td></tr><tr><td>47</td><td>49</td><td>49</td></tr><tr><td>71</td><td>83</td><td>83</td></tr><tr><td>60</td><td>70</td><td>70</td></tr><tr><td>80</td><td>80</td><td>72</td></tr><tr><td>54</td><td>52</td><td>52</td></tr><tr><td>62</td><td>73</td><td>70</td></tr><tr><td>64</td><td>73</td><td>68</td></tr><tr><td>78</td><td>77</td><td>77</td></tr><tr><td>70</td><td>75</td><td>78</td></tr><tr><td>65</td><td>81</td><td>81</td></tr><tr><td>64</td><td>79</td><td>77</td></tr><tr><td>79</td><td>79</td><td>78</td></tr><tr><td>44</td><td>50</td><td>51</td></tr><tr><td>99</td><td>93</td><td>90</td></tr><tr><td>76</td><td>73</td><td>68</td></tr><tr><td>59</td><td>42</td><td>41</td></tr><tr><td>63</td><td>75</td><td>81</td></tr><tr><td>69</td><td>72</td><td>77</td></tr><tr><td>88</td><td>92</td><td>95</td></tr><tr><td>71</td><td>76</td><td>70</td></tr><tr><td>69</td><td>63</td><td>61</td></tr><tr><td>58</td><td>49</td><td>42</td></tr><tr><td>47</td><td>53</td><td>58</td></tr><tr><td>65</td><td>70</td><td>71</td></tr><tr><td>88</td><td>85</td><td>76</td></tr><tr><td>83</td><td>78</td><td>73</td></tr><tr><td>85</td><td>92</td><td>93</td></tr><tr><td>59</td><td>63</td><td>75</td></tr><tr><td>65</td><td>86</td><td>80</td></tr><tr><td>73</td><td>56</td><td>57</td></tr><tr><td>53</td><td>52</td><td>42</td></tr><tr><td>45</td><td>48</td><td>46</td></tr><tr><td>73</td><td>79</td><td>84</td></tr><tr><td>70</td><td>78</td><td>78</td></tr><tr><td>37</td><td>46</td><td>46</td></tr><tr><td>81</td><td>82</td><td>82</td></tr><tr><td>97</td><td>82</td><td>88</td></tr><tr><td>67</td><td>89</td><td>82</td></tr><tr><td>88</td><td>75</td><td>76</td></tr><tr><td>77</td><td>76</td><td>77</td></tr><tr><td>76</td><td>70</td><td>68</td></tr><tr><td>86</td><td>73</td><td>70</td></tr><tr><td>63</td><td>60</td><td>57</td></tr><tr><td>65</td><td>73</td><td>75</td></tr><tr><td>78</td><td>77</td><td>80</td></tr><tr><td>67</td><td>62</td><td>60</td></tr><tr><td>46</td><td>41</td><td>43</td></tr><tr><td>71</td><td>74</td><td>68</td></tr><tr><td>40</td><td>46</td><td>50</td></tr><tr><td>90</td><td>87</td><td>75</td></tr><tr><td>81</td><td>78</td><td>81</td></tr><tr><td>56</td><td>54</td><td>52</td></tr><tr><td>67</td><td>84</td><td>81</td></tr><tr><td>80</td><td>76</td><td>64</td></tr><tr><td>74</td><td>75</td><td>83</td></tr><tr><td>69</td><td>67</td><td>69</td></tr><tr><td>99</td><td>87</td><td>81</td></tr><tr><td>51</td><td>52</td><td>44</td></tr><tr><td>53</td><td>71</td><td>67</td></tr><tr><td>49</td><td>57</td><td>52</td></tr><tr><td>73</td><td>76</td><td>80</td></tr><tr><td>66</td><td>60</td><td>57</td></tr><tr><td>67</td><td>61</td><td>68</td></tr><tr><td>68</td><td>67</td><td>69</td></tr><tr><td>59</td><td>64</td><td>75</td></tr><tr><td>71</td><td>66</td><td>65</td></tr><tr><td>77</td><td>82</td><td>91</td></tr><tr><td>83</td><td>72</td><td>78</td></tr><tr><td>63</td><td>71</td><td>69</td></tr><tr><td>56</td><td>65</td><td>63</td></tr><tr><td>67</td><td>79</td><td>84</td></tr><tr><td>75</td><td>86</td><td>79</td></tr><tr><td>71</td><td>81</td><td>80</td></tr><tr><td>43</td><td>53</td><td>53</td></tr><tr><td>41</td><td>46</td><td>43</td></tr><tr><td>82</td><td>90</td><td>94</td></tr><tr><td>61</td><td>61</td><td>62</td></tr><tr><td>28</td><td>23</td><td>19</td></tr><tr><td>82</td><td>75</td><td>77</td></tr><tr><td>41</td><td>55</td><td>51</td></tr><tr><td>71</td><td>60</td><td>61</td></tr><tr><td>47</td><td>37</td><td>35</td></tr><tr><td>62</td><td>56</td><td>53</td></tr><tr><td>90</td><td>78</td><td>81</td></tr><tr><td>83</td><td>93</td><td>95</td></tr><tr><td>61</td><td>68</td><td>66</td></tr><tr><td>76</td><td>70</td><td>69</td></tr><tr><td>49</td><td>51</td><td>43</td></tr><tr><td>24</td><td>38</td><td>27</td></tr><tr><td>35</td><td>55</td><td>60</td></tr><tr><td>58</td><td>61</td><td>52</td></tr><tr><td>61</td><td>73</td><td>63</td></tr><tr><td>69</td><td>76</td><td>74</td></tr><tr><td>67</td><td>72</td><td>67</td></tr><tr><td>79</td><td>73</td><td>67</td></tr><tr><td>72</td><td>80</td><td>75</td></tr><tr><td>62</td><td>61</td><td>57</td></tr><tr><td>77</td><td>94</td><td>95</td></tr><tr><td>75</td><td>74</td><td>66</td></tr><tr><td>87</td><td>74</td><td>76</td></tr><tr><td>52</td><td>65</td><td>69</td></tr><tr><td>66</td><td>57</td><td>52</td></tr><tr><td>63</td><td>78</td><td>80</td></tr><tr><td>46</td><td>58</td><td>57</td></tr><tr><td>59</td><td>71</td><td>70</td></tr><tr><td>61</td><td>72</td><td>70</td></tr><tr><td>63</td><td>61</td><td>61</td></tr><tr><td>42</td><td>66</td><td>69</td></tr><tr><td>59</td><td>62</td><td>61</td></tr><tr><td>80</td><td>90</td><td>89</td></tr><tr><td>58</td><td>62</td><td>59</td></tr><tr><td>85</td><td>84</td><td>78</td></tr><tr><td>52</td><td>58</td><td>58</td></tr><tr><td>27</td><td>34</td><td>32</td></tr><tr><td>59</td><td>60</td><td>58</td></tr><tr><td>49</td><td>58</td><td>60</td></tr><tr><td>69</td><td>58</td><td>53</td></tr><tr><td>61</td><td>66</td><td>61</td></tr><tr><td>44</td><td>64</td><td>58</td></tr><tr><td>73</td><td>84</td><td>85</td></tr><tr><td>84</td><td>77</td><td>71</td></tr><tr><td>45</td><td>73</td><td>70</td></tr><tr><td>74</td><td>74</td><td>72</td></tr><tr><td>82</td><td>97</td><td>96</td></tr><tr><td>59</td><td>70</td><td>73</td></tr><tr><td>46</td><td>43</td><td>41</td></tr><tr><td>80</td><td>90</td><td>82</td></tr><tr><td>85</td><td>95</td><td>100</td></tr><tr><td>71</td><td>83</td><td>77</td></tr><tr><td>66</td><td>64</td><td>62</td></tr><tr><td>80</td><td>86</td><td>83</td></tr><tr><td>87</td><td>100</td><td>95</td></tr><tr><td>79</td><td>81</td><td>71</td></tr><tr><td>38</td><td>49</td><td>45</td></tr><tr><td>38</td><td>43</td><td>43</td></tr><tr><td>67</td><td>76</td><td>75</td></tr><tr><td>64</td><td>73</td><td>70</td></tr><tr><td>57</td><td>78</td><td>67</td></tr><tr><td>62</td><td>64</td><td>64</td></tr><tr><td>73</td><td>70</td><td>75</td></tr><tr><td>73</td><td>67</td><td>59</td></tr><tr><td>77</td><td>68</td><td>77</td></tr><tr><td>76</td><td>67</td><td>67</td></tr><tr><td>57</td><td>54</td><td>56</td></tr><tr><td>65</td><td>74</td><td>77</td></tr><tr><td>48</td><td>45</td><td>41</td></tr><tr><td>50</td><td>67</td><td>63</td></tr><tr><td>85</td><td>89</td><td>95</td></tr><tr><td>74</td><td>63</td><td>57</td></tr><tr><td>60</td><td>59</td><td>54</td></tr><tr><td>59</td><td>54</td><td>67</td></tr><tr><td>53</td><td>43</td><td>43</td></tr><tr><td>49</td><td>65</td><td>55</td></tr><tr><td>88</td><td>99</td><td>100</td></tr><tr><td>54</td><td>59</td><td>62</td></tr><tr><td>63</td><td>73</td><td>68</td></tr><tr><td>65</td><td>65</td><td>63</td></tr><tr><td>82</td><td>80</td><td>77</td></tr><tr><td>52</td><td>57</td><td>56</td></tr><tr><td>87</td><td>84</td><td>85</td></tr><tr><td>70</td><td>71</td><td>74</td></tr><tr><td>84</td><td>83</td><td>78</td></tr><tr><td>71</td><td>66</td><td>60</td></tr><tr><td>63</td><td>67</td><td>67</td></tr><tr><td>51</td><td>72</td><td>79</td></tr><tr><td>84</td><td>73</td><td>69</td></tr><tr><td>71</td><td>74</td><td>68</td></tr><tr><td>74</td><td>73</td><td>67</td></tr><tr><td>68</td><td>59</td><td>62</td></tr><tr><td>57</td><td>56</td><td>54</td></tr><tr><td>82</td><td>93</td><td>93</td></tr><tr><td>57</td><td>58</td><td>64</td></tr><tr><td>47</td><td>58</td><td>67</td></tr><tr><td>59</td><td>85</td><td>80</td></tr><tr><td>41</td><td>39</td><td>34</td></tr><tr><td>62</td><td>67</td><td>62</td></tr><tr><td>86</td><td>83</td><td>86</td></tr><tr><td>69</td><td>71</td><td>65</td></tr><tr><td>65</td><td>59</td><td>53</td></tr><tr><td>68</td><td>63</td><td>54</td></tr><tr><td>64</td><td>66</td><td>59</td></tr><tr><td>61</td><td>72</td><td>70</td></tr><tr><td>61</td><td>56</td><td>55</td></tr><tr><td>47</td><td>59</td><td>50</td></tr><tr><td>73</td><td>66</td><td>66</td></tr><tr><td>50</td><td>48</td><td>53</td></tr><tr><td>75</td><td>68</td><td>64</td></tr><tr><td>75</td><td>66</td><td>73</td></tr><tr><td>70</td><td>56</td><td>51</td></tr><tr><td>89</td><td>88</td><td>82</td></tr><tr><td>67</td><td>81</td><td>79</td></tr><tr><td>78</td><td>81</td><td>80</td></tr><tr><td>59</td><td>73</td><td>69</td></tr><tr><td>73</td><td>83</td><td>76</td></tr><tr><td>79</td><td>82</td><td>73</td></tr><tr><td>67</td><td>74</td><td>77</td></tr><tr><td>69</td><td>66</td><td>60</td></tr><tr><td>86</td><td>81</td><td>80</td></tr><tr><td>47</td><td>46</td><td>42</td></tr><tr><td>81</td><td>73</td><td>72</td></tr><tr><td>64</td><td>85</td><td>85</td></tr><tr><td>100</td><td>92</td><td>97</td></tr><tr><td>65</td><td>77</td><td>74</td></tr><tr><td>65</td><td>58</td><td>49</td></tr><tr><td>53</td><td>61</td><td>62</td></tr><tr><td>37</td><td>56</td><td>47</td></tr><tr><td>79</td><td>89</td><td>89</td></tr><tr><td>53</td><td>54</td><td>48</td></tr><tr><td>100</td><td>100</td><td>100</td></tr><tr><td>72</td><td>65</td><td>68</td></tr><tr><td>53</td><td>58</td><td>55</td></tr><tr><td>54</td><td>54</td><td>45</td></tr><tr><td>71</td><td>70</td><td>76</td></tr><tr><td>77</td><td>90</td><td>91</td></tr><tr><td>75</td><td>58</td><td>62</td></tr><tr><td>84</td><td>87</td><td>91</td></tr><tr><td>26</td><td>31</td><td>38</td></tr><tr><td>72</td><td>67</td><td>65</td></tr><tr><td>77</td><td>88</td><td>85</td></tr><tr><td>91</td><td>74</td><td>76</td></tr><tr><td>83</td><td>85</td><td>90</td></tr><tr><td>63</td><td>69</td><td>74</td></tr><tr><td>68</td><td>86</td><td>84</td></tr><tr><td>59</td><td>67</td><td>61</td></tr><tr><td>90</td><td>90</td><td>91</td></tr><tr><td>71</td><td>76</td><td>83</td></tr><tr><td>76</td><td>62</td><td>66</td></tr><tr><td>80</td><td>68</td><td>72</td></tr><tr><td>55</td><td>64</td><td>70</td></tr><tr><td>76</td><td>71</td><td>67</td></tr><tr><td>73</td><td>71</td><td>68</td></tr><tr><td>52</td><td>59</td><td>56</td></tr><tr><td>68</td><td>68</td><td>61</td></tr><tr><td>59</td><td>52</td><td>46</td></tr><tr><td>49</td><td>52</td><td>54</td></tr><tr><td>70</td><td>74</td><td>71</td></tr><tr><td>61</td><td>47</td><td>56</td></tr><tr><td>60</td><td>75</td><td>74</td></tr><tr><td>64</td><td>53</td><td>57</td></tr><tr><td>79</td><td>82</td><td>82</td></tr><tr><td>65</td><td>85</td><td>76</td></tr><tr><td>64</td><td>64</td><td>70</td></tr><tr><td>83</td><td>83</td><td>90</td></tr><tr><td>81</td><td>88</td><td>90</td></tr><tr><td>54</td><td>64</td><td>68</td></tr><tr><td>68</td><td>64</td><td>66</td></tr><tr><td>54</td><td>48</td><td>52</td></tr><tr><td>59</td><td>78</td><td>76</td></tr><tr><td>66</td><td>69</td><td>68</td></tr><tr><td>76</td><td>71</td><td>72</td></tr><tr><td>74</td><td>79</td><td>82</td></tr><tr><td>94</td><td>87</td><td>92</td></tr><tr><td>63</td><td>61</td><td>54</td></tr><tr><td>95</td><td>89</td><td>92</td></tr><tr><td>40</td><td>59</td><td>54</td></tr><tr><td>82</td><td>82</td><td>80</td></tr><tr><td>68</td><td>70</td><td>66</td></tr><tr><td>55</td><td>59</td><td>54</td></tr><tr><td>79</td><td>78</td><td>77</td></tr><tr><td>86</td><td>92</td><td>87</td></tr><tr><td>76</td><td>71</td><td>73</td></tr><tr><td>64</td><td>50</td><td>43</td></tr><tr><td>62</td><td>49</td><td>52</td></tr><tr><td>54</td><td>61</td><td>62</td></tr><tr><td>77</td><td>97</td><td>94</td></tr><tr><td>76</td><td>87</td><td>85</td></tr><tr><td>74</td><td>89</td><td>84</td></tr><tr><td>66</td><td>74</td><td>73</td></tr><tr><td>66</td><td>78</td><td>78</td></tr><tr><td>67</td><td>78</td><td>79</td></tr><tr><td>71</td><td>49</td><td>52</td></tr><tr><td>91</td><td>86</td><td>84</td></tr><tr><td>69</td><td>58</td><td>57</td></tr><tr><td>54</td><td>59</td><td>50</td></tr><tr><td>53</td><td>52</td><td>49</td></tr><tr><td>68</td><td>60</td><td>59</td></tr><tr><td>56</td><td>61</td><td>60</td></tr><tr><td>36</td><td>53</td><td>43</td></tr><tr><td>29</td><td>41</td><td>47</td></tr><tr><td>62</td><td>74</td><td>70</td></tr><tr><td>68</td><td>67</td><td>73</td></tr><tr><td>47</td><td>54</td><td>53</td></tr><tr><td>62</td><td>61</td><td>58</td></tr><tr><td>79</td><td>88</td><td>94</td></tr><tr><td>73</td><td>69</td><td>68</td></tr><tr><td>66</td><td>83</td><td>83</td></tr><tr><td>51</td><td>60</td><td>58</td></tr><tr><td>51</td><td>66</td><td>62</td></tr><tr><td>85</td><td>66</td><td>71</td></tr><tr><td>97</td><td>92</td><td>86</td></tr><tr><td>75</td><td>69</td><td>68</td></tr><tr><td>79</td><td>82</td><td>80</td></tr><tr><td>81</td><td>77</td><td>79</td></tr><tr><td>82</td><td>95</td><td>89</td></tr><tr><td>64</td><td>63</td><td>66</td></tr><tr><td>78</td><td>83</td><td>80</td></tr><tr><td>92</td><td>100</td><td>97</td></tr><tr><td>72</td><td>67</td><td>64</td></tr><tr><td>62</td><td>67</td><td>64</td></tr><tr><td>79</td><td>72</td><td>69</td></tr><tr><td>79</td><td>76</td><td>65</td></tr><tr><td>87</td><td>90</td><td>88</td></tr><tr><td>40</td><td>48</td><td>50</td></tr><tr><td>77</td><td>62</td><td>64</td></tr><tr><td>53</td><td>45</td><td>40</td></tr><tr><td>32</td><td>39</td><td>33</td></tr><tr><td>55</td><td>72</td><td>79</td></tr><tr><td>61</td><td>67</td><td>66</td></tr><tr><td>53</td><td>70</td><td>70</td></tr><tr><td>73</td><td>66</td><td>62</td></tr><tr><td>74</td><td>75</td><td>79</td></tr><tr><td>63</td><td>74</td><td>74</td></tr><tr><td>96</td><td>90</td><td>92</td></tr><tr><td>63</td><td>80</td><td>80</td></tr><tr><td>48</td><td>51</td><td>46</td></tr><tr><td>48</td><td>43</td><td>45</td></tr><tr><td>92</td><td>100</td><td>100</td></tr><tr><td>61</td><td>71</td><td>78</td></tr><tr><td>63</td><td>48</td><td>47</td></tr><tr><td>68</td><td>68</td><td>67</td></tr><tr><td>71</td><td>75</td><td>70</td></tr><tr><td>91</td><td>96</td><td>92</td></tr><tr><td>53</td><td>62</td><td>56</td></tr><tr><td>50</td><td>66</td><td>64</td></tr><tr><td>74</td><td>81</td><td>71</td></tr><tr><td>40</td><td>55</td><td>53</td></tr><tr><td>61</td><td>51</td><td>52</td></tr><tr><td>81</td><td>91</td><td>89</td></tr><tr><td>48</td><td>56</td><td>58</td></tr><tr><td>53</td><td>61</td><td>68</td></tr><tr><td>81</td><td>97</td><td>96</td></tr><tr><td>77</td><td>79</td><td>80</td></tr><tr><td>63</td><td>73</td><td>78</td></tr><tr><td>73</td><td>75</td><td>80</td></tr><tr><td>69</td><td>77</td><td>77</td></tr><tr><td>65</td><td>76</td><td>76</td></tr><tr><td>55</td><td>73</td><td>73</td></tr><tr><td>44</td><td>63</td><td>62</td></tr><tr><td>54</td><td>64</td><td>65</td></tr><tr><td>48</td><td>66</td><td>65</td></tr><tr><td>58</td><td>57</td><td>54</td></tr><tr><td>71</td><td>62</td><td>50</td></tr><tr><td>68</td><td>68</td><td>64</td></tr><tr><td>74</td><td>76</td><td>73</td></tr><tr><td>92</td><td>100</td><td>99</td></tr><tr><td>56</td><td>79</td><td>72</td></tr><tr><td>30</td><td>24</td><td>15</td></tr><tr><td>53</td><td>54</td><td>48</td></tr><tr><td>69</td><td>77</td><td>73</td></tr><tr><td>65</td><td>82</td><td>81</td></tr><tr><td>54</td><td>60</td><td>63</td></tr><tr><td>29</td><td>29</td><td>30</td></tr><tr><td>76</td><td>78</td><td>80</td></tr><tr><td>60</td><td>57</td><td>51</td></tr><tr><td>84</td><td>89</td><td>90</td></tr><tr><td>75</td><td>72</td><td>62</td></tr><tr><td>85</td><td>84</td><td>82</td></tr><tr><td>40</td><td>58</td><td>54</td></tr><tr><td>61</td><td>64</td><td>62</td></tr><tr><td>58</td><td>63</td><td>65</td></tr><tr><td>69</td><td>60</td><td>63</td></tr><tr><td>58</td><td>59</td><td>66</td></tr><tr><td>94</td><td>90</td><td>91</td></tr><tr><td>65</td><td>77</td><td>74</td></tr><tr><td>82</td><td>93</td><td>93</td></tr><tr><td>60</td><td>68</td><td>72</td></tr><tr><td>37</td><td>45</td><td>38</td></tr><tr><td>88</td><td>78</td><td>83</td></tr><tr><td>95</td><td>81</td><td>84</td></tr><tr><td>65</td><td>73</td><td>68</td></tr><tr><td>35</td><td>61</td><td>54</td></tr><tr><td>62</td><td>63</td><td>56</td></tr><tr><td>58</td><td>51</td><td>52</td></tr><tr><td>100</td><td>96</td><td>86</td></tr><tr><td>61</td><td>58</td><td>62</td></tr><tr><td>100</td><td>97</td><td>99</td></tr><tr><td>69</td><td>70</td><td>63</td></tr><tr><td>61</td><td>48</td><td>46</td></tr><tr><td>49</td><td>57</td><td>46</td></tr><tr><td>44</td><td>51</td><td>55</td></tr><tr><td>67</td><td>64</td><td>70</td></tr><tr><td>79</td><td>60</td><td>65</td></tr><tr><td>66</td><td>74</td><td>81</td></tr><tr><td>75</td><td>88</td><td>85</td></tr><tr><td>84</td><td>84</td><td>80</td></tr><tr><td>71</td><td>74</td><td>64</td></tr><tr><td>67</td><td>80</td><td>81</td></tr><tr><td>80</td><td>92</td><td>88</td></tr><tr><td>86</td><td>76</td><td>74</td></tr><tr><td>76</td><td>74</td><td>73</td></tr><tr><td>41</td><td>52</td><td>51</td></tr><tr><td>74</td><td>88</td><td>90</td></tr><tr><td>72</td><td>81</td><td>79</td></tr><tr><td>74</td><td>79</td><td>80</td></tr><tr><td>70</td><td>65</td><td>60</td></tr><tr><td>65</td><td>81</td><td>81</td></tr><tr><td>59</td><td>70</td><td>65</td></tr><tr><td>64</td><td>62</td><td>68</td></tr><tr><td>50</td><td>53</td><td>55</td></tr><tr><td>69</td><td>79</td><td>81</td></tr><tr><td>51</td><td>56</td><td>53</td></tr><tr><td>68</td><td>80</td><td>76</td></tr><tr><td>85</td><td>86</td><td>98</td></tr><tr><td>65</td><td>70</td><td>74</td></tr><tr><td>73</td><td>79</td><td>79</td></tr><tr><td>62</td><td>67</td><td>67</td></tr><tr><td>77</td><td>67</td><td>64</td></tr><tr><td>69</td><td>66</td><td>61</td></tr><tr><td>43</td><td>60</td><td>58</td></tr><tr><td>90</td><td>87</td><td>85</td></tr><tr><td>74</td><td>77</td><td>73</td></tr><tr><td>73</td><td>66</td><td>63</td></tr><tr><td>55</td><td>71</td><td>69</td></tr><tr><td>65</td><td>69</td><td>67</td></tr><tr><td>80</td><td>63</td><td>63</td></tr><tr><td>50</td><td>60</td><td>60</td></tr><tr><td>63</td><td>73</td><td>71</td></tr><tr><td>77</td><td>85</td><td>87</td></tr><tr><td>73</td><td>74</td><td>61</td></tr><tr><td>81</td><td>72</td><td>77</td></tr><tr><td>66</td><td>76</td><td>68</td></tr><tr><td>52</td><td>57</td><td>50</td></tr><tr><td>69</td><td>78</td><td>76</td></tr><tr><td>65</td><td>84</td><td>84</td></tr><tr><td>69</td><td>77</td><td>78</td></tr><tr><td>50</td><td>64</td><td>66</td></tr><tr><td>73</td><td>78</td><td>76</td></tr><tr><td>70</td><td>82</td><td>76</td></tr><tr><td>81</td><td>75</td><td>78</td></tr><tr><td>63</td><td>61</td><td>60</td></tr><tr><td>67</td><td>72</td><td>74</td></tr><tr><td>60</td><td>68</td><td>60</td></tr><tr><td>62</td><td>55</td><td>54</td></tr><tr><td>29</td><td>40</td><td>44</td></tr><tr><td>62</td><td>66</td><td>68</td></tr><tr><td>94</td><td>99</td><td>100</td></tr><tr><td>85</td><td>75</td><td>68</td></tr><tr><td>77</td><td>78</td><td>73</td></tr><tr><td>53</td><td>58</td><td>44</td></tr><tr><td>93</td><td>90</td><td>83</td></tr><tr><td>49</td><td>53</td><td>53</td></tr><tr><td>73</td><td>76</td><td>78</td></tr><tr><td>66</td><td>74</td><td>81</td></tr><tr><td>77</td><td>77</td><td>73</td></tr><tr><td>49</td><td>63</td><td>56</td></tr><tr><td>79</td><td>89</td><td>86</td></tr><tr><td>75</td><td>82</td><td>90</td></tr><tr><td>59</td><td>72</td><td>70</td></tr><tr><td>57</td><td>78</td><td>79</td></tr><tr><td>66</td><td>66</td><td>59</td></tr><tr><td>79</td><td>81</td><td>82</td></tr><tr><td>57</td><td>67</td><td>72</td></tr><tr><td>87</td><td>84</td><td>87</td></tr><tr><td>63</td><td>64</td><td>67</td></tr><tr><td>59</td><td>63</td><td>64</td></tr><tr><td>62</td><td>72</td><td>65</td></tr><tr><td>46</td><td>34</td><td>36</td></tr><tr><td>66</td><td>59</td><td>52</td></tr><tr><td>89</td><td>87</td><td>79</td></tr><tr><td>42</td><td>61</td><td>58</td></tr><tr><td>93</td><td>84</td><td>90</td></tr><tr><td>80</td><td>85</td><td>85</td></tr><tr><td>98</td><td>100</td><td>99</td></tr><tr><td>81</td><td>81</td><td>84</td></tr><tr><td>60</td><td>70</td><td>74</td></tr><tr><td>76</td><td>94</td><td>87</td></tr><tr><td>73</td><td>78</td><td>72</td></tr><tr><td>96</td><td>96</td><td>99</td></tr><tr><td>76</td><td>76</td><td>74</td></tr><tr><td>91</td><td>73</td><td>80</td></tr><tr><td>62</td><td>72</td><td>70</td></tr><tr><td>55</td><td>59</td><td>59</td></tr><tr><td>74</td><td>90</td><td>88</td></tr><tr><td>50</td><td>48</td><td>42</td></tr><tr><td>47</td><td>43</td><td>41</td></tr><tr><td>81</td><td>74</td><td>71</td></tr><tr><td>65</td><td>75</td><td>77</td></tr><tr><td>68</td><td>51</td><td>57</td></tr><tr><td>73</td><td>92</td><td>84</td></tr><tr><td>53</td><td>39</td><td>37</td></tr><tr><td>68</td><td>77</td><td>80</td></tr><tr><td>55</td><td>46</td><td>43</td></tr><tr><td>87</td><td>89</td><td>94</td></tr><tr><td>55</td><td>47</td><td>44</td></tr><tr><td>53</td><td>58</td><td>57</td></tr><tr><td>67</td><td>57</td><td>59</td></tr><tr><td>92</td><td>79</td><td>84</td></tr><tr><td>53</td><td>66</td><td>73</td></tr><tr><td>81</td><td>71</td><td>73</td></tr><tr><td>61</td><td>60</td><td>55</td></tr><tr><td>80</td><td>73</td><td>72</td></tr><tr><td>37</td><td>57</td><td>56</td></tr><tr><td>81</td><td>84</td><td>82</td></tr><tr><td>59</td><td>73</td><td>72</td></tr><tr><td>55</td><td>55</td><td>47</td></tr><tr><td>72</td><td>79</td><td>74</td></tr><tr><td>69</td><td>75</td><td>71</td></tr><tr><td>69</td><td>64</td><td>68</td></tr><tr><td>50</td><td>60</td><td>59</td></tr><tr><td>87</td><td>84</td><td>86</td></tr><tr><td>71</td><td>69</td><td>68</td></tr><tr><td>68</td><td>72</td><td>65</td></tr><tr><td>79</td><td>77</td><td>75</td></tr><tr><td>77</td><td>90</td><td>85</td></tr><tr><td>58</td><td>55</td><td>53</td></tr><tr><td>84</td><td>95</td><td>92</td></tr><tr><td>55</td><td>58</td><td>52</td></tr><tr><td>70</td><td>68</td><td>72</td></tr><tr><td>52</td><td>59</td><td>65</td></tr><tr><td>69</td><td>77</td><td>77</td></tr><tr><td>53</td><td>72</td><td>64</td></tr><tr><td>48</td><td>58</td><td>54</td></tr><tr><td>78</td><td>81</td><td>86</td></tr><tr><td>62</td><td>62</td><td>63</td></tr><tr><td>60</td><td>63</td><td>59</td></tr><tr><td>74</td><td>72</td><td>72</td></tr><tr><td>58</td><td>75</td><td>77</td></tr><tr><td>76</td><td>62</td><td>60</td></tr><tr><td>68</td><td>71</td><td>75</td></tr><tr><td>58</td><td>60</td><td>57</td></tr><tr><td>52</td><td>48</td><td>49</td></tr><tr><td>75</td><td>73</td><td>74</td></tr><tr><td>52</td><td>67</td><td>72</td></tr><tr><td>62</td><td>78</td><td>79</td></tr><tr><td>66</td><td>65</td><td>60</td></tr><tr><td>49</td><td>58</td><td>55</td></tr><tr><td>66</td><td>72</td><td>70</td></tr><tr><td>35</td><td>44</td><td>43</td></tr><tr><td>72</td><td>79</td><td>82</td></tr><tr><td>94</td><td>85</td><td>82</td></tr><tr><td>46</td><td>56</td><td>57</td></tr><tr><td>77</td><td>90</td><td>84</td></tr><tr><td>76</td><td>85</td><td>82</td></tr><tr><td>52</td><td>59</td><td>62</td></tr><tr><td>91</td><td>81</td><td>79</td></tr><tr><td>32</td><td>51</td><td>44</td></tr><tr><td>72</td><td>79</td><td>77</td></tr><tr><td>19</td><td>38</td><td>32</td></tr><tr><td>68</td><td>65</td><td>61</td></tr><tr><td>52</td><td>65</td><td>61</td></tr><tr><td>48</td><td>62</td><td>60</td></tr><tr><td>60</td><td>66</td><td>70</td></tr><tr><td>66</td><td>74</td><td>69</td></tr><tr><td>89</td><td>84</td><td>77</td></tr><tr><td>42</td><td>52</td><td>51</td></tr><tr><td>57</td><td>68</td><td>73</td></tr><tr><td>70</td><td>70</td><td>70</td></tr><tr><td>70</td><td>84</td><td>81</td></tr><tr><td>69</td><td>60</td><td>54</td></tr><tr><td>52</td><td>55</td><td>57</td></tr><tr><td>67</td><td>73</td><td>68</td></tr><tr><td>76</td><td>80</td><td>73</td></tr><tr><td>87</td><td>94</td><td>95</td></tr><tr><td>82</td><td>85</td><td>87</td></tr><tr><td>73</td><td>76</td><td>78</td></tr><tr><td>75</td><td>81</td><td>74</td></tr><tr><td>64</td><td>74</td><td>75</td></tr><tr><td>41</td><td>45</td><td>40</td></tr><tr><td>90</td><td>75</td><td>69</td></tr><tr><td>59</td><td>54</td><td>51</td></tr><tr><td>51</td><td>31</td><td>36</td></tr><tr><td>45</td><td>47</td><td>49</td></tr><tr><td>54</td><td>64</td><td>67</td></tr><tr><td>87</td><td>84</td><td>76</td></tr><tr><td>72</td><td>80</td><td>83</td></tr><tr><td>94</td><td>86</td><td>87</td></tr><tr><td>45</td><td>59</td><td>64</td></tr><tr><td>61</td><td>70</td><td>76</td></tr><tr><td>60</td><td>72</td><td>68</td></tr><tr><td>77</td><td>91</td><td>88</td></tr><tr><td>85</td><td>90</td><td>92</td></tr><tr><td>78</td><td>90</td><td>93</td></tr><tr><td>49</td><td>52</td><td>51</td></tr><tr><td>71</td><td>87</td><td>82</td></tr><tr><td>48</td><td>58</td><td>52</td></tr><tr><td>62</td><td>67</td><td>58</td></tr><tr><td>56</td><td>68</td><td>70</td></tr><tr><td>65</td><td>69</td><td>76</td></tr><tr><td>69</td><td>86</td><td>81</td></tr><tr><td>68</td><td>54</td><td>53</td></tr><tr><td>61</td><td>60</td><td>57</td></tr><tr><td>74</td><td>86</td><td>89</td></tr><tr><td>64</td><td>60</td><td>58</td></tr><tr><td>77</td><td>82</td><td>89</td></tr><tr><td>58</td><td>50</td><td>45</td></tr><tr><td>60</td><td>64</td><td>74</td></tr><tr><td>73</td><td>64</td><td>57</td></tr><tr><td>75</td><td>82</td><td>79</td></tr><tr><td>58</td><td>57</td><td>53</td></tr><tr><td>66</td><td>77</td><td>73</td></tr><tr><td>39</td><td>52</td><td>46</td></tr><tr><td>64</td><td>58</td><td>51</td></tr><tr><td>23</td><td>44</td><td>36</td></tr><tr><td>74</td><td>77</td><td>76</td></tr><tr><td>40</td><td>65</td><td>64</td></tr><tr><td>90</td><td>85</td><td>84</td></tr><tr><td>91</td><td>85</td><td>85</td></tr><tr><td>64</td><td>54</td><td>50</td></tr><tr><td>59</td><td>72</td><td>68</td></tr><tr><td>80</td><td>75</td><td>69</td></tr><tr><td>71</td><td>67</td><td>67</td></tr><tr><td>61</td><td>68</td><td>63</td></tr><tr><td>87</td><td>85</td><td>93</td></tr><tr><td>82</td><td>67</td><td>61</td></tr><tr><td>62</td><td>64</td><td>55</td></tr><tr><td>97</td><td>97</td><td>96</td></tr><tr><td>75</td><td>68</td><td>65</td></tr><tr><td>65</td><td>79</td><td>81</td></tr><tr><td>52</td><td>49</td><td>46</td></tr><tr><td>87</td><td>73</td><td>72</td></tr><tr><td>53</td><td>62</td><td>53</td></tr><tr><td>81</td><td>86</td><td>87</td></tr><tr><td>39</td><td>42</td><td>38</td></tr><tr><td>71</td><td>71</td><td>80</td></tr><tr><td>97</td><td>93</td><td>91</td></tr><tr><td>82</td><td>82</td><td>88</td></tr><tr><td>59</td><td>53</td><td>52</td></tr><tr><td>61</td><td>42</td><td>41</td></tr><tr><td>78</td><td>74</td><td>72</td></tr><tr><td>49</td><td>51</td><td>51</td></tr><tr><td>59</td><td>58</td><td>47</td></tr><tr><td>70</td><td>72</td><td>76</td></tr><tr><td>82</td><td>84</td><td>78</td></tr><tr><td>90</td><td>90</td><td>82</td></tr><tr><td>43</td><td>62</td><td>61</td></tr><tr><td>80</td><td>64</td><td>66</td></tr><tr><td>81</td><td>82</td><td>84</td></tr><tr><td>57</td><td>61</td><td>54</td></tr><tr><td>59</td><td>72</td><td>80</td></tr><tr><td>64</td><td>76</td><td>74</td></tr><tr><td>63</td><td>64</td><td>66</td></tr><tr><td>71</td><td>70</td><td>70</td></tr><tr><td>64</td><td>73</td><td>71</td></tr><tr><td>55</td><td>46</td><td>44</td></tr><tr><td>51</td><td>51</td><td>54</td></tr><tr><td>62</td><td>76</td><td>80</td></tr><tr><td>93</td><td>100</td><td>95</td></tr><tr><td>54</td><td>72</td><td>59</td></tr><tr><td>69</td><td>65</td><td>74</td></tr><tr><td>44</td><td>51</td><td>48</td></tr><tr><td>86</td><td>85</td><td>91</td></tr><tr><td>85</td><td>92</td><td>85</td></tr><tr><td>50</td><td>67</td><td>73</td></tr><tr><td>88</td><td>74</td><td>75</td></tr><tr><td>59</td><td>62</td><td>69</td></tr><tr><td>32</td><td>34</td><td>38</td></tr><tr><td>36</td><td>29</td><td>27</td></tr><tr><td>63</td><td>78</td><td>79</td></tr><tr><td>67</td><td>54</td><td>63</td></tr><tr><td>65</td><td>78</td><td>82</td></tr><tr><td>85</td><td>84</td><td>89</td></tr><tr><td>73</td><td>78</td><td>74</td></tr><tr><td>34</td><td>48</td><td>41</td></tr><tr><td>93</td><td>100</td><td>100</td></tr><tr><td>67</td><td>84</td><td>84</td></tr><tr><td>88</td><td>77</td><td>77</td></tr><tr><td>57</td><td>48</td><td>51</td></tr><tr><td>79</td><td>84</td><td>91</td></tr><tr><td>67</td><td>75</td><td>72</td></tr><tr><td>70</td><td>64</td><td>70</td></tr><tr><td>50</td><td>42</td><td>48</td></tr><tr><td>69</td><td>84</td><td>82</td></tr><tr><td>52</td><td>61</td><td>66</td></tr><tr><td>47</td><td>62</td><td>66</td></tr><tr><td>46</td><td>61</td><td>55</td></tr><tr><td>68</td><td>70</td><td>66</td></tr><tr><td>100</td><td>100</td><td>100</td></tr><tr><td>44</td><td>61</td><td>52</td></tr><tr><td>57</td><td>77</td><td>80</td></tr><tr><td>91</td><td>96</td><td>91</td></tr><tr><td>69</td><td>70</td><td>67</td></tr><tr><td>35</td><td>53</td><td>46</td></tr><tr><td>72</td><td>66</td><td>66</td></tr><tr><td>54</td><td>65</td><td>65</td></tr><tr><td>74</td><td>70</td><td>69</td></tr><tr><td>74</td><td>64</td><td>60</td></tr><tr><td>64</td><td>56</td><td>52</td></tr><tr><td>65</td><td>61</td><td>71</td></tr><tr><td>46</td><td>43</td><td>44</td></tr><tr><td>48</td><td>56</td><td>51</td></tr><tr><td>67</td><td>74</td><td>70</td></tr><tr><td>62</td><td>57</td><td>62</td></tr><tr><td>61</td><td>71</td><td>73</td></tr><tr><td>70</td><td>75</td><td>74</td></tr><tr><td>98</td><td>87</td><td>90</td></tr><tr><td>70</td><td>63</td><td>58</td></tr><tr><td>67</td><td>57</td><td>53</td></tr><tr><td>57</td><td>58</td><td>57</td></tr><tr><td>85</td><td>81</td><td>85</td></tr><tr><td>77</td><td>68</td><td>69</td></tr><tr><td>72</td><td>66</td><td>72</td></tr><tr><td>78</td><td>91</td><td>96</td></tr><tr><td>81</td><td>66</td><td>64</td></tr><tr><td>61</td><td>62</td><td>61</td></tr><tr><td>58</td><td>68</td><td>61</td></tr><tr><td>54</td><td>61</td><td>58</td></tr><tr><td>82</td><td>82</td><td>80</td></tr><tr><td>49</td><td>58</td><td>60</td></tr><tr><td>49</td><td>50</td><td>52</td></tr><tr><td>57</td><td>75</td><td>73</td></tr><tr><td>94</td><td>73</td><td>71</td></tr><tr><td>75</td><td>77</td><td>83</td></tr><tr><td>74</td><td>74</td><td>72</td></tr><tr><td>58</td><td>52</td><td>54</td></tr><tr><td>62</td><td>69</td><td>69</td></tr><tr><td>72</td><td>57</td><td>62</td></tr><tr><td>84</td><td>87</td><td>81</td></tr><tr><td>92</td><td>100</td><td>100</td></tr><tr><td>45</td><td>63</td><td>59</td></tr><tr><td>75</td><td>81</td><td>71</td></tr><tr><td>56</td><td>58</td><td>64</td></tr><tr><td>48</td><td>54</td><td>53</td></tr><tr><td>100</td><td>100</td><td>100</td></tr><tr><td>65</td><td>76</td><td>75</td></tr><tr><td>72</td><td>57</td><td>58</td></tr><tr><td>62</td><td>70</td><td>72</td></tr><tr><td>66</td><td>68</td><td>64</td></tr><tr><td>63</td><td>63</td><td>60</td></tr><tr><td>68</td><td>76</td><td>67</td></tr><tr><td>75</td><td>84</td><td>80</td></tr><tr><td>89</td><td>100</td><td>100</td></tr><tr><td>78</td><td>72</td><td>69</td></tr><tr><td>53</td><td>50</td><td>60</td></tr><tr><td>49</td><td>65</td><td>61</td></tr><tr><td>54</td><td>63</td><td>67</td></tr><tr><td>64</td><td>82</td><td>77</td></tr><tr><td>60</td><td>62</td><td>60</td></tr><tr><td>62</td><td>65</td><td>58</td></tr><tr><td>55</td><td>41</td><td>48</td></tr><tr><td>91</td><td>95</td><td>94</td></tr><tr><td>8</td><td>24</td><td>23</td></tr><tr><td>81</td><td>78</td><td>78</td></tr><tr><td>79</td><td>85</td><td>86</td></tr><tr><td>78</td><td>87</td><td>91</td></tr><tr><td>74</td><td>75</td><td>82</td></tr><tr><td>57</td><td>51</td><td>54</td></tr><tr><td>40</td><td>59</td><td>51</td></tr><tr><td>81</td><td>75</td><td>76</td></tr><tr><td>44</td><td>45</td><td>45</td></tr><tr><td>67</td><td>86</td><td>83</td></tr><tr><td>86</td><td>81</td><td>75</td></tr><tr><td>65</td><td>82</td><td>78</td></tr><tr><td>55</td><td>76</td><td>76</td></tr><tr><td>62</td><td>72</td><td>74</td></tr><tr><td>63</td><td>63</td><td>62</td></tr><tr><td>88</td><td>99</td><td>95</td></tr><tr><td>62</td><td>55</td><td>55</td></tr><tr><td>59</td><td>71</td><td>65</td></tr><tr><td>68</td><td>78</td><td>77</td></tr><tr><td>77</td><td>86</td><td>86</td></tr></tbody></table></div>"
      ]
     },
     "metadata": {
      "application/vnd.databricks.v1+output": {
       "addedWidgets": {},
       "aggData": [],
       "aggError": "",
       "aggOverflow": false,
       "aggSchema": [],
       "aggSeriesLimitReached": false,
       "aggType": "",
       "arguments": {},
       "columnCustomDisplayInfos": {},
       "data": [
        [
         72,
         72,
         74
        ],
        [
         69,
         90,
         88
        ],
        [
         90,
         95,
         93
        ],
        [
         47,
         57,
         44
        ],
        [
         76,
         78,
         75
        ],
        [
         71,
         83,
         78
        ],
        [
         88,
         95,
         92
        ],
        [
         40,
         43,
         39
        ],
        [
         64,
         64,
         67
        ],
        [
         38,
         60,
         50
        ],
        [
         58,
         54,
         52
        ],
        [
         40,
         52,
         43
        ],
        [
         65,
         81,
         73
        ],
        [
         78,
         72,
         70
        ],
        [
         50,
         53,
         58
        ],
        [
         69,
         75,
         78
        ],
        [
         88,
         89,
         86
        ],
        [
         18,
         32,
         28
        ],
        [
         46,
         42,
         46
        ],
        [
         54,
         58,
         61
        ],
        [
         66,
         69,
         63
        ],
        [
         65,
         75,
         70
        ],
        [
         44,
         54,
         53
        ],
        [
         69,
         73,
         73
        ],
        [
         74,
         71,
         80
        ],
        [
         73,
         74,
         72
        ],
        [
         69,
         54,
         55
        ],
        [
         67,
         69,
         75
        ],
        [
         70,
         70,
         65
        ],
        [
         62,
         70,
         75
        ],
        [
         69,
         74,
         74
        ],
        [
         63,
         65,
         61
        ],
        [
         56,
         72,
         65
        ],
        [
         40,
         42,
         38
        ],
        [
         97,
         87,
         82
        ],
        [
         81,
         81,
         79
        ],
        [
         74,
         81,
         83
        ],
        [
         50,
         64,
         59
        ],
        [
         75,
         90,
         88
        ],
        [
         57,
         56,
         57
        ],
        [
         55,
         61,
         54
        ],
        [
         58,
         73,
         68
        ],
        [
         53,
         58,
         65
        ],
        [
         59,
         65,
         66
        ],
        [
         50,
         56,
         54
        ],
        [
         65,
         54,
         57
        ],
        [
         55,
         65,
         62
        ],
        [
         66,
         71,
         76
        ],
        [
         57,
         74,
         76
        ],
        [
         82,
         84,
         82
        ],
        [
         53,
         55,
         48
        ],
        [
         77,
         69,
         68
        ],
        [
         53,
         44,
         42
        ],
        [
         88,
         78,
         75
        ],
        [
         71,
         84,
         87
        ],
        [
         33,
         41,
         43
        ],
        [
         82,
         85,
         86
        ],
        [
         52,
         55,
         49
        ],
        [
         58,
         59,
         58
        ],
        [
         0,
         17,
         10
        ],
        [
         79,
         74,
         72
        ],
        [
         39,
         39,
         34
        ],
        [
         62,
         61,
         55
        ],
        [
         69,
         80,
         71
        ],
        [
         59,
         58,
         59
        ],
        [
         67,
         64,
         61
        ],
        [
         45,
         37,
         37
        ],
        [
         60,
         72,
         74
        ],
        [
         61,
         58,
         56
        ],
        [
         39,
         64,
         57
        ],
        [
         58,
         63,
         73
        ],
        [
         63,
         55,
         63
        ],
        [
         41,
         51,
         48
        ],
        [
         61,
         57,
         56
        ],
        [
         49,
         49,
         41
        ],
        [
         44,
         41,
         38
        ],
        [
         30,
         26,
         22
        ],
        [
         80,
         78,
         81
        ],
        [
         61,
         74,
         72
        ],
        [
         62,
         68,
         68
        ],
        [
         47,
         49,
         50
        ],
        [
         49,
         45,
         45
        ],
        [
         50,
         47,
         54
        ],
        [
         72,
         64,
         63
        ],
        [
         42,
         39,
         34
        ],
        [
         73,
         80,
         82
        ],
        [
         76,
         83,
         88
        ],
        [
         71,
         71,
         74
        ],
        [
         58,
         70,
         67
        ],
        [
         73,
         86,
         82
        ],
        [
         65,
         72,
         74
        ],
        [
         27,
         34,
         36
        ],
        [
         71,
         79,
         71
        ],
        [
         43,
         45,
         50
        ],
        [
         79,
         86,
         92
        ],
        [
         78,
         81,
         82
        ],
        [
         65,
         66,
         62
        ],
        [
         63,
         72,
         70
        ],
        [
         58,
         67,
         62
        ],
        [
         65,
         67,
         62
        ],
        [
         79,
         67,
         67
        ],
        [
         68,
         74,
         74
        ],
        [
         85,
         91,
         89
        ],
        [
         60,
         44,
         47
        ],
        [
         98,
         86,
         90
        ],
        [
         58,
         67,
         72
        ],
        [
         87,
         100,
         100
        ],
        [
         66,
         63,
         64
        ],
        [
         52,
         76,
         70
        ],
        [
         70,
         64,
         72
        ],
        [
         77,
         89,
         98
        ],
        [
         62,
         55,
         49
        ],
        [
         54,
         53,
         47
        ],
        [
         51,
         58,
         54
        ],
        [
         99,
         100,
         100
        ],
        [
         84,
         77,
         74
        ],
        [
         75,
         85,
         82
        ],
        [
         78,
         82,
         79
        ],
        [
         51,
         63,
         61
        ],
        [
         55,
         69,
         65
        ],
        [
         79,
         92,
         89
        ],
        [
         91,
         89,
         92
        ],
        [
         88,
         93,
         93
        ],
        [
         63,
         57,
         56
        ],
        [
         83,
         80,
         73
        ],
        [
         87,
         95,
         86
        ],
        [
         72,
         68,
         67
        ],
        [
         65,
         77,
         74
        ],
        [
         82,
         82,
         74
        ],
        [
         51,
         49,
         51
        ],
        [
         89,
         84,
         82
        ],
        [
         53,
         37,
         40
        ],
        [
         87,
         74,
         70
        ],
        [
         75,
         81,
         84
        ],
        [
         74,
         79,
         75
        ],
        [
         58,
         55,
         48
        ],
        [
         51,
         54,
         41
        ],
        [
         70,
         55,
         56
        ],
        [
         59,
         66,
         67
        ],
        [
         71,
         61,
         69
        ],
        [
         76,
         72,
         71
        ],
        [
         59,
         62,
         64
        ],
        [
         42,
         55,
         54
        ],
        [
         57,
         43,
         47
        ],
        [
         88,
         73,
         78
        ],
        [
         22,
         39,
         33
        ],
        [
         88,
         84,
         75
        ],
        [
         73,
         68,
         66
        ],
        [
         68,
         75,
         81
        ],
        [
         100,
         100,
         93
        ],
        [
         62,
         67,
         69
        ],
        [
         77,
         67,
         68
        ],
        [
         59,
         70,
         66
        ],
        [
         54,
         49,
         47
        ],
        [
         62,
         67,
         61
        ],
        [
         70,
         89,
         88
        ],
        [
         66,
         74,
         78
        ],
        [
         60,
         60,
         60
        ],
        [
         61,
         86,
         87
        ],
        [
         66,
         62,
         64
        ],
        [
         82,
         78,
         74
        ],
        [
         75,
         88,
         85
        ],
        [
         49,
         53,
         52
        ],
        [
         52,
         53,
         49
        ],
        [
         81,
         92,
         91
        ],
        [
         96,
         100,
         100
        ],
        [
         53,
         51,
         51
        ],
        [
         58,
         76,
         78
        ],
        [
         68,
         83,
         78
        ],
        [
         67,
         75,
         70
        ],
        [
         72,
         73,
         74
        ],
        [
         94,
         88,
         78
        ],
        [
         79,
         86,
         81
        ],
        [
         63,
         67,
         70
        ],
        [
         43,
         51,
         54
        ],
        [
         81,
         91,
         87
        ],
        [
         46,
         54,
         58
        ],
        [
         71,
         77,
         77
        ],
        [
         52,
         70,
         62
        ],
        [
         97,
         100,
         100
        ],
        [
         62,
         68,
         75
        ],
        [
         46,
         64,
         66
        ],
        [
         50,
         50,
         47
        ],
        [
         65,
         69,
         70
        ],
        [
         45,
         52,
         49
        ],
        [
         65,
         67,
         65
        ],
        [
         80,
         76,
         65
        ],
        [
         62,
         66,
         68
        ],
        [
         48,
         52,
         45
        ],
        [
         77,
         88,
         87
        ],
        [
         66,
         65,
         69
        ],
        [
         76,
         83,
         79
        ],
        [
         62,
         64,
         66
        ],
        [
         77,
         62,
         62
        ],
        [
         69,
         84,
         85
        ],
        [
         61,
         55,
         52
        ],
        [
         59,
         69,
         65
        ],
        [
         55,
         56,
         51
        ],
        [
         45,
         53,
         55
        ],
        [
         78,
         79,
         76
        ],
        [
         67,
         84,
         86
        ],
        [
         65,
         81,
         77
        ],
        [
         69,
         77,
         69
        ],
        [
         57,
         69,
         68
        ],
        [
         59,
         41,
         42
        ],
        [
         74,
         71,
         78
        ],
        [
         82,
         62,
         62
        ],
        [
         81,
         80,
         76
        ],
        [
         74,
         81,
         76
        ],
        [
         58,
         61,
         66
        ],
        [
         80,
         79,
         79
        ],
        [
         35,
         28,
         27
        ],
        [
         42,
         62,
         60
        ],
        [
         60,
         51,
         56
        ],
        [
         87,
         91,
         81
        ],
        [
         84,
         83,
         75
        ],
        [
         83,
         86,
         88
        ],
        [
         34,
         42,
         39
        ],
        [
         66,
         77,
         70
        ],
        [
         61,
         56,
         56
        ],
        [
         56,
         68,
         74
        ],
        [
         87,
         85,
         73
        ],
        [
         55,
         65,
         62
        ],
        [
         86,
         80,
         75
        ],
        [
         52,
         66,
         73
        ],
        [
         45,
         56,
         54
        ],
        [
         72,
         72,
         71
        ],
        [
         57,
         50,
         54
        ],
        [
         68,
         72,
         64
        ],
        [
         88,
         95,
         94
        ],
        [
         76,
         64,
         66
        ],
        [
         46,
         43,
         42
        ],
        [
         67,
         86,
         83
        ],
        [
         92,
         87,
         78
        ],
        [
         83,
         82,
         84
        ],
        [
         80,
         75,
         77
        ],
        [
         63,
         66,
         67
        ],
        [
         64,
         60,
         74
        ],
        [
         54,
         52,
         51
        ],
        [
         84,
         80,
         80
        ],
        [
         73,
         68,
         66
        ],
        [
         80,
         83,
         83
        ],
        [
         56,
         52,
         55
        ],
        [
         59,
         51,
         43
        ],
        [
         75,
         74,
         69
        ],
        [
         85,
         76,
         71
        ],
        [
         89,
         76,
         74
        ],
        [
         58,
         70,
         68
        ],
        [
         65,
         64,
         62
        ],
        [
         68,
         60,
         53
        ],
        [
         47,
         49,
         49
        ],
        [
         71,
         83,
         83
        ],
        [
         60,
         70,
         70
        ],
        [
         80,
         80,
         72
        ],
        [
         54,
         52,
         52
        ],
        [
         62,
         73,
         70
        ],
        [
         64,
         73,
         68
        ],
        [
         78,
         77,
         77
        ],
        [
         70,
         75,
         78
        ],
        [
         65,
         81,
         81
        ],
        [
         64,
         79,
         77
        ],
        [
         79,
         79,
         78
        ],
        [
         44,
         50,
         51
        ],
        [
         99,
         93,
         90
        ],
        [
         76,
         73,
         68
        ],
        [
         59,
         42,
         41
        ],
        [
         63,
         75,
         81
        ],
        [
         69,
         72,
         77
        ],
        [
         88,
         92,
         95
        ],
        [
         71,
         76,
         70
        ],
        [
         69,
         63,
         61
        ],
        [
         58,
         49,
         42
        ],
        [
         47,
         53,
         58
        ],
        [
         65,
         70,
         71
        ],
        [
         88,
         85,
         76
        ],
        [
         83,
         78,
         73
        ],
        [
         85,
         92,
         93
        ],
        [
         59,
         63,
         75
        ],
        [
         65,
         86,
         80
        ],
        [
         73,
         56,
         57
        ],
        [
         53,
         52,
         42
        ],
        [
         45,
         48,
         46
        ],
        [
         73,
         79,
         84
        ],
        [
         70,
         78,
         78
        ],
        [
         37,
         46,
         46
        ],
        [
         81,
         82,
         82
        ],
        [
         97,
         82,
         88
        ],
        [
         67,
         89,
         82
        ],
        [
         88,
         75,
         76
        ],
        [
         77,
         76,
         77
        ],
        [
         76,
         70,
         68
        ],
        [
         86,
         73,
         70
        ],
        [
         63,
         60,
         57
        ],
        [
         65,
         73,
         75
        ],
        [
         78,
         77,
         80
        ],
        [
         67,
         62,
         60
        ],
        [
         46,
         41,
         43
        ],
        [
         71,
         74,
         68
        ],
        [
         40,
         46,
         50
        ],
        [
         90,
         87,
         75
        ],
        [
         81,
         78,
         81
        ],
        [
         56,
         54,
         52
        ],
        [
         67,
         84,
         81
        ],
        [
         80,
         76,
         64
        ],
        [
         74,
         75,
         83
        ],
        [
         69,
         67,
         69
        ],
        [
         99,
         87,
         81
        ],
        [
         51,
         52,
         44
        ],
        [
         53,
         71,
         67
        ],
        [
         49,
         57,
         52
        ],
        [
         73,
         76,
         80
        ],
        [
         66,
         60,
         57
        ],
        [
         67,
         61,
         68
        ],
        [
         68,
         67,
         69
        ],
        [
         59,
         64,
         75
        ],
        [
         71,
         66,
         65
        ],
        [
         77,
         82,
         91
        ],
        [
         83,
         72,
         78
        ],
        [
         63,
         71,
         69
        ],
        [
         56,
         65,
         63
        ],
        [
         67,
         79,
         84
        ],
        [
         75,
         86,
         79
        ],
        [
         71,
         81,
         80
        ],
        [
         43,
         53,
         53
        ],
        [
         41,
         46,
         43
        ],
        [
         82,
         90,
         94
        ],
        [
         61,
         61,
         62
        ],
        [
         28,
         23,
         19
        ],
        [
         82,
         75,
         77
        ],
        [
         41,
         55,
         51
        ],
        [
         71,
         60,
         61
        ],
        [
         47,
         37,
         35
        ],
        [
         62,
         56,
         53
        ],
        [
         90,
         78,
         81
        ],
        [
         83,
         93,
         95
        ],
        [
         61,
         68,
         66
        ],
        [
         76,
         70,
         69
        ],
        [
         49,
         51,
         43
        ],
        [
         24,
         38,
         27
        ],
        [
         35,
         55,
         60
        ],
        [
         58,
         61,
         52
        ],
        [
         61,
         73,
         63
        ],
        [
         69,
         76,
         74
        ],
        [
         67,
         72,
         67
        ],
        [
         79,
         73,
         67
        ],
        [
         72,
         80,
         75
        ],
        [
         62,
         61,
         57
        ],
        [
         77,
         94,
         95
        ],
        [
         75,
         74,
         66
        ],
        [
         87,
         74,
         76
        ],
        [
         52,
         65,
         69
        ],
        [
         66,
         57,
         52
        ],
        [
         63,
         78,
         80
        ],
        [
         46,
         58,
         57
        ],
        [
         59,
         71,
         70
        ],
        [
         61,
         72,
         70
        ],
        [
         63,
         61,
         61
        ],
        [
         42,
         66,
         69
        ],
        [
         59,
         62,
         61
        ],
        [
         80,
         90,
         89
        ],
        [
         58,
         62,
         59
        ],
        [
         85,
         84,
         78
        ],
        [
         52,
         58,
         58
        ],
        [
         27,
         34,
         32
        ],
        [
         59,
         60,
         58
        ],
        [
         49,
         58,
         60
        ],
        [
         69,
         58,
         53
        ],
        [
         61,
         66,
         61
        ],
        [
         44,
         64,
         58
        ],
        [
         73,
         84,
         85
        ],
        [
         84,
         77,
         71
        ],
        [
         45,
         73,
         70
        ],
        [
         74,
         74,
         72
        ],
        [
         82,
         97,
         96
        ],
        [
         59,
         70,
         73
        ],
        [
         46,
         43,
         41
        ],
        [
         80,
         90,
         82
        ],
        [
         85,
         95,
         100
        ],
        [
         71,
         83,
         77
        ],
        [
         66,
         64,
         62
        ],
        [
         80,
         86,
         83
        ],
        [
         87,
         100,
         95
        ],
        [
         79,
         81,
         71
        ],
        [
         38,
         49,
         45
        ],
        [
         38,
         43,
         43
        ],
        [
         67,
         76,
         75
        ],
        [
         64,
         73,
         70
        ],
        [
         57,
         78,
         67
        ],
        [
         62,
         64,
         64
        ],
        [
         73,
         70,
         75
        ],
        [
         73,
         67,
         59
        ],
        [
         77,
         68,
         77
        ],
        [
         76,
         67,
         67
        ],
        [
         57,
         54,
         56
        ],
        [
         65,
         74,
         77
        ],
        [
         48,
         45,
         41
        ],
        [
         50,
         67,
         63
        ],
        [
         85,
         89,
         95
        ],
        [
         74,
         63,
         57
        ],
        [
         60,
         59,
         54
        ],
        [
         59,
         54,
         67
        ],
        [
         53,
         43,
         43
        ],
        [
         49,
         65,
         55
        ],
        [
         88,
         99,
         100
        ],
        [
         54,
         59,
         62
        ],
        [
         63,
         73,
         68
        ],
        [
         65,
         65,
         63
        ],
        [
         82,
         80,
         77
        ],
        [
         52,
         57,
         56
        ],
        [
         87,
         84,
         85
        ],
        [
         70,
         71,
         74
        ],
        [
         84,
         83,
         78
        ],
        [
         71,
         66,
         60
        ],
        [
         63,
         67,
         67
        ],
        [
         51,
         72,
         79
        ],
        [
         84,
         73,
         69
        ],
        [
         71,
         74,
         68
        ],
        [
         74,
         73,
         67
        ],
        [
         68,
         59,
         62
        ],
        [
         57,
         56,
         54
        ],
        [
         82,
         93,
         93
        ],
        [
         57,
         58,
         64
        ],
        [
         47,
         58,
         67
        ],
        [
         59,
         85,
         80
        ],
        [
         41,
         39,
         34
        ],
        [
         62,
         67,
         62
        ],
        [
         86,
         83,
         86
        ],
        [
         69,
         71,
         65
        ],
        [
         65,
         59,
         53
        ],
        [
         68,
         63,
         54
        ],
        [
         64,
         66,
         59
        ],
        [
         61,
         72,
         70
        ],
        [
         61,
         56,
         55
        ],
        [
         47,
         59,
         50
        ],
        [
         73,
         66,
         66
        ],
        [
         50,
         48,
         53
        ],
        [
         75,
         68,
         64
        ],
        [
         75,
         66,
         73
        ],
        [
         70,
         56,
         51
        ],
        [
         89,
         88,
         82
        ],
        [
         67,
         81,
         79
        ],
        [
         78,
         81,
         80
        ],
        [
         59,
         73,
         69
        ],
        [
         73,
         83,
         76
        ],
        [
         79,
         82,
         73
        ],
        [
         67,
         74,
         77
        ],
        [
         69,
         66,
         60
        ],
        [
         86,
         81,
         80
        ],
        [
         47,
         46,
         42
        ],
        [
         81,
         73,
         72
        ],
        [
         64,
         85,
         85
        ],
        [
         100,
         92,
         97
        ],
        [
         65,
         77,
         74
        ],
        [
         65,
         58,
         49
        ],
        [
         53,
         61,
         62
        ],
        [
         37,
         56,
         47
        ],
        [
         79,
         89,
         89
        ],
        [
         53,
         54,
         48
        ],
        [
         100,
         100,
         100
        ],
        [
         72,
         65,
         68
        ],
        [
         53,
         58,
         55
        ],
        [
         54,
         54,
         45
        ],
        [
         71,
         70,
         76
        ],
        [
         77,
         90,
         91
        ],
        [
         75,
         58,
         62
        ],
        [
         84,
         87,
         91
        ],
        [
         26,
         31,
         38
        ],
        [
         72,
         67,
         65
        ],
        [
         77,
         88,
         85
        ],
        [
         91,
         74,
         76
        ],
        [
         83,
         85,
         90
        ],
        [
         63,
         69,
         74
        ],
        [
         68,
         86,
         84
        ],
        [
         59,
         67,
         61
        ],
        [
         90,
         90,
         91
        ],
        [
         71,
         76,
         83
        ],
        [
         76,
         62,
         66
        ],
        [
         80,
         68,
         72
        ],
        [
         55,
         64,
         70
        ],
        [
         76,
         71,
         67
        ],
        [
         73,
         71,
         68
        ],
        [
         52,
         59,
         56
        ],
        [
         68,
         68,
         61
        ],
        [
         59,
         52,
         46
        ],
        [
         49,
         52,
         54
        ],
        [
         70,
         74,
         71
        ],
        [
         61,
         47,
         56
        ],
        [
         60,
         75,
         74
        ],
        [
         64,
         53,
         57
        ],
        [
         79,
         82,
         82
        ],
        [
         65,
         85,
         76
        ],
        [
         64,
         64,
         70
        ],
        [
         83,
         83,
         90
        ],
        [
         81,
         88,
         90
        ],
        [
         54,
         64,
         68
        ],
        [
         68,
         64,
         66
        ],
        [
         54,
         48,
         52
        ],
        [
         59,
         78,
         76
        ],
        [
         66,
         69,
         68
        ],
        [
         76,
         71,
         72
        ],
        [
         74,
         79,
         82
        ],
        [
         94,
         87,
         92
        ],
        [
         63,
         61,
         54
        ],
        [
         95,
         89,
         92
        ],
        [
         40,
         59,
         54
        ],
        [
         82,
         82,
         80
        ],
        [
         68,
         70,
         66
        ],
        [
         55,
         59,
         54
        ],
        [
         79,
         78,
         77
        ],
        [
         86,
         92,
         87
        ],
        [
         76,
         71,
         73
        ],
        [
         64,
         50,
         43
        ],
        [
         62,
         49,
         52
        ],
        [
         54,
         61,
         62
        ],
        [
         77,
         97,
         94
        ],
        [
         76,
         87,
         85
        ],
        [
         74,
         89,
         84
        ],
        [
         66,
         74,
         73
        ],
        [
         66,
         78,
         78
        ],
        [
         67,
         78,
         79
        ],
        [
         71,
         49,
         52
        ],
        [
         91,
         86,
         84
        ],
        [
         69,
         58,
         57
        ],
        [
         54,
         59,
         50
        ],
        [
         53,
         52,
         49
        ],
        [
         68,
         60,
         59
        ],
        [
         56,
         61,
         60
        ],
        [
         36,
         53,
         43
        ],
        [
         29,
         41,
         47
        ],
        [
         62,
         74,
         70
        ],
        [
         68,
         67,
         73
        ],
        [
         47,
         54,
         53
        ],
        [
         62,
         61,
         58
        ],
        [
         79,
         88,
         94
        ],
        [
         73,
         69,
         68
        ],
        [
         66,
         83,
         83
        ],
        [
         51,
         60,
         58
        ],
        [
         51,
         66,
         62
        ],
        [
         85,
         66,
         71
        ],
        [
         97,
         92,
         86
        ],
        [
         75,
         69,
         68
        ],
        [
         79,
         82,
         80
        ],
        [
         81,
         77,
         79
        ],
        [
         82,
         95,
         89
        ],
        [
         64,
         63,
         66
        ],
        [
         78,
         83,
         80
        ],
        [
         92,
         100,
         97
        ],
        [
         72,
         67,
         64
        ],
        [
         62,
         67,
         64
        ],
        [
         79,
         72,
         69
        ],
        [
         79,
         76,
         65
        ],
        [
         87,
         90,
         88
        ],
        [
         40,
         48,
         50
        ],
        [
         77,
         62,
         64
        ],
        [
         53,
         45,
         40
        ],
        [
         32,
         39,
         33
        ],
        [
         55,
         72,
         79
        ],
        [
         61,
         67,
         66
        ],
        [
         53,
         70,
         70
        ],
        [
         73,
         66,
         62
        ],
        [
         74,
         75,
         79
        ],
        [
         63,
         74,
         74
        ],
        [
         96,
         90,
         92
        ],
        [
         63,
         80,
         80
        ],
        [
         48,
         51,
         46
        ],
        [
         48,
         43,
         45
        ],
        [
         92,
         100,
         100
        ],
        [
         61,
         71,
         78
        ],
        [
         63,
         48,
         47
        ],
        [
         68,
         68,
         67
        ],
        [
         71,
         75,
         70
        ],
        [
         91,
         96,
         92
        ],
        [
         53,
         62,
         56
        ],
        [
         50,
         66,
         64
        ],
        [
         74,
         81,
         71
        ],
        [
         40,
         55,
         53
        ],
        [
         61,
         51,
         52
        ],
        [
         81,
         91,
         89
        ],
        [
         48,
         56,
         58
        ],
        [
         53,
         61,
         68
        ],
        [
         81,
         97,
         96
        ],
        [
         77,
         79,
         80
        ],
        [
         63,
         73,
         78
        ],
        [
         73,
         75,
         80
        ],
        [
         69,
         77,
         77
        ],
        [
         65,
         76,
         76
        ],
        [
         55,
         73,
         73
        ],
        [
         44,
         63,
         62
        ],
        [
         54,
         64,
         65
        ],
        [
         48,
         66,
         65
        ],
        [
         58,
         57,
         54
        ],
        [
         71,
         62,
         50
        ],
        [
         68,
         68,
         64
        ],
        [
         74,
         76,
         73
        ],
        [
         92,
         100,
         99
        ],
        [
         56,
         79,
         72
        ],
        [
         30,
         24,
         15
        ],
        [
         53,
         54,
         48
        ],
        [
         69,
         77,
         73
        ],
        [
         65,
         82,
         81
        ],
        [
         54,
         60,
         63
        ],
        [
         29,
         29,
         30
        ],
        [
         76,
         78,
         80
        ],
        [
         60,
         57,
         51
        ],
        [
         84,
         89,
         90
        ],
        [
         75,
         72,
         62
        ],
        [
         85,
         84,
         82
        ],
        [
         40,
         58,
         54
        ],
        [
         61,
         64,
         62
        ],
        [
         58,
         63,
         65
        ],
        [
         69,
         60,
         63
        ],
        [
         58,
         59,
         66
        ],
        [
         94,
         90,
         91
        ],
        [
         65,
         77,
         74
        ],
        [
         82,
         93,
         93
        ],
        [
         60,
         68,
         72
        ],
        [
         37,
         45,
         38
        ],
        [
         88,
         78,
         83
        ],
        [
         95,
         81,
         84
        ],
        [
         65,
         73,
         68
        ],
        [
         35,
         61,
         54
        ],
        [
         62,
         63,
         56
        ],
        [
         58,
         51,
         52
        ],
        [
         100,
         96,
         86
        ],
        [
         61,
         58,
         62
        ],
        [
         100,
         97,
         99
        ],
        [
         69,
         70,
         63
        ],
        [
         61,
         48,
         46
        ],
        [
         49,
         57,
         46
        ],
        [
         44,
         51,
         55
        ],
        [
         67,
         64,
         70
        ],
        [
         79,
         60,
         65
        ],
        [
         66,
         74,
         81
        ],
        [
         75,
         88,
         85
        ],
        [
         84,
         84,
         80
        ],
        [
         71,
         74,
         64
        ],
        [
         67,
         80,
         81
        ],
        [
         80,
         92,
         88
        ],
        [
         86,
         76,
         74
        ],
        [
         76,
         74,
         73
        ],
        [
         41,
         52,
         51
        ],
        [
         74,
         88,
         90
        ],
        [
         72,
         81,
         79
        ],
        [
         74,
         79,
         80
        ],
        [
         70,
         65,
         60
        ],
        [
         65,
         81,
         81
        ],
        [
         59,
         70,
         65
        ],
        [
         64,
         62,
         68
        ],
        [
         50,
         53,
         55
        ],
        [
         69,
         79,
         81
        ],
        [
         51,
         56,
         53
        ],
        [
         68,
         80,
         76
        ],
        [
         85,
         86,
         98
        ],
        [
         65,
         70,
         74
        ],
        [
         73,
         79,
         79
        ],
        [
         62,
         67,
         67
        ],
        [
         77,
         67,
         64
        ],
        [
         69,
         66,
         61
        ],
        [
         43,
         60,
         58
        ],
        [
         90,
         87,
         85
        ],
        [
         74,
         77,
         73
        ],
        [
         73,
         66,
         63
        ],
        [
         55,
         71,
         69
        ],
        [
         65,
         69,
         67
        ],
        [
         80,
         63,
         63
        ],
        [
         50,
         60,
         60
        ],
        [
         63,
         73,
         71
        ],
        [
         77,
         85,
         87
        ],
        [
         73,
         74,
         61
        ],
        [
         81,
         72,
         77
        ],
        [
         66,
         76,
         68
        ],
        [
         52,
         57,
         50
        ],
        [
         69,
         78,
         76
        ],
        [
         65,
         84,
         84
        ],
        [
         69,
         77,
         78
        ],
        [
         50,
         64,
         66
        ],
        [
         73,
         78,
         76
        ],
        [
         70,
         82,
         76
        ],
        [
         81,
         75,
         78
        ],
        [
         63,
         61,
         60
        ],
        [
         67,
         72,
         74
        ],
        [
         60,
         68,
         60
        ],
        [
         62,
         55,
         54
        ],
        [
         29,
         40,
         44
        ],
        [
         62,
         66,
         68
        ],
        [
         94,
         99,
         100
        ],
        [
         85,
         75,
         68
        ],
        [
         77,
         78,
         73
        ],
        [
         53,
         58,
         44
        ],
        [
         93,
         90,
         83
        ],
        [
         49,
         53,
         53
        ],
        [
         73,
         76,
         78
        ],
        [
         66,
         74,
         81
        ],
        [
         77,
         77,
         73
        ],
        [
         49,
         63,
         56
        ],
        [
         79,
         89,
         86
        ],
        [
         75,
         82,
         90
        ],
        [
         59,
         72,
         70
        ],
        [
         57,
         78,
         79
        ],
        [
         66,
         66,
         59
        ],
        [
         79,
         81,
         82
        ],
        [
         57,
         67,
         72
        ],
        [
         87,
         84,
         87
        ],
        [
         63,
         64,
         67
        ],
        [
         59,
         63,
         64
        ],
        [
         62,
         72,
         65
        ],
        [
         46,
         34,
         36
        ],
        [
         66,
         59,
         52
        ],
        [
         89,
         87,
         79
        ],
        [
         42,
         61,
         58
        ],
        [
         93,
         84,
         90
        ],
        [
         80,
         85,
         85
        ],
        [
         98,
         100,
         99
        ],
        [
         81,
         81,
         84
        ],
        [
         60,
         70,
         74
        ],
        [
         76,
         94,
         87
        ],
        [
         73,
         78,
         72
        ],
        [
         96,
         96,
         99
        ],
        [
         76,
         76,
         74
        ],
        [
         91,
         73,
         80
        ],
        [
         62,
         72,
         70
        ],
        [
         55,
         59,
         59
        ],
        [
         74,
         90,
         88
        ],
        [
         50,
         48,
         42
        ],
        [
         47,
         43,
         41
        ],
        [
         81,
         74,
         71
        ],
        [
         65,
         75,
         77
        ],
        [
         68,
         51,
         57
        ],
        [
         73,
         92,
         84
        ],
        [
         53,
         39,
         37
        ],
        [
         68,
         77,
         80
        ],
        [
         55,
         46,
         43
        ],
        [
         87,
         89,
         94
        ],
        [
         55,
         47,
         44
        ],
        [
         53,
         58,
         57
        ],
        [
         67,
         57,
         59
        ],
        [
         92,
         79,
         84
        ],
        [
         53,
         66,
         73
        ],
        [
         81,
         71,
         73
        ],
        [
         61,
         60,
         55
        ],
        [
         80,
         73,
         72
        ],
        [
         37,
         57,
         56
        ],
        [
         81,
         84,
         82
        ],
        [
         59,
         73,
         72
        ],
        [
         55,
         55,
         47
        ],
        [
         72,
         79,
         74
        ],
        [
         69,
         75,
         71
        ],
        [
         69,
         64,
         68
        ],
        [
         50,
         60,
         59
        ],
        [
         87,
         84,
         86
        ],
        [
         71,
         69,
         68
        ],
        [
         68,
         72,
         65
        ],
        [
         79,
         77,
         75
        ],
        [
         77,
         90,
         85
        ],
        [
         58,
         55,
         53
        ],
        [
         84,
         95,
         92
        ],
        [
         55,
         58,
         52
        ],
        [
         70,
         68,
         72
        ],
        [
         52,
         59,
         65
        ],
        [
         69,
         77,
         77
        ],
        [
         53,
         72,
         64
        ],
        [
         48,
         58,
         54
        ],
        [
         78,
         81,
         86
        ],
        [
         62,
         62,
         63
        ],
        [
         60,
         63,
         59
        ],
        [
         74,
         72,
         72
        ],
        [
         58,
         75,
         77
        ],
        [
         76,
         62,
         60
        ],
        [
         68,
         71,
         75
        ],
        [
         58,
         60,
         57
        ],
        [
         52,
         48,
         49
        ],
        [
         75,
         73,
         74
        ],
        [
         52,
         67,
         72
        ],
        [
         62,
         78,
         79
        ],
        [
         66,
         65,
         60
        ],
        [
         49,
         58,
         55
        ],
        [
         66,
         72,
         70
        ],
        [
         35,
         44,
         43
        ],
        [
         72,
         79,
         82
        ],
        [
         94,
         85,
         82
        ],
        [
         46,
         56,
         57
        ],
        [
         77,
         90,
         84
        ],
        [
         76,
         85,
         82
        ],
        [
         52,
         59,
         62
        ],
        [
         91,
         81,
         79
        ],
        [
         32,
         51,
         44
        ],
        [
         72,
         79,
         77
        ],
        [
         19,
         38,
         32
        ],
        [
         68,
         65,
         61
        ],
        [
         52,
         65,
         61
        ],
        [
         48,
         62,
         60
        ],
        [
         60,
         66,
         70
        ],
        [
         66,
         74,
         69
        ],
        [
         89,
         84,
         77
        ],
        [
         42,
         52,
         51
        ],
        [
         57,
         68,
         73
        ],
        [
         70,
         70,
         70
        ],
        [
         70,
         84,
         81
        ],
        [
         69,
         60,
         54
        ],
        [
         52,
         55,
         57
        ],
        [
         67,
         73,
         68
        ],
        [
         76,
         80,
         73
        ],
        [
         87,
         94,
         95
        ],
        [
         82,
         85,
         87
        ],
        [
         73,
         76,
         78
        ],
        [
         75,
         81,
         74
        ],
        [
         64,
         74,
         75
        ],
        [
         41,
         45,
         40
        ],
        [
         90,
         75,
         69
        ],
        [
         59,
         54,
         51
        ],
        [
         51,
         31,
         36
        ],
        [
         45,
         47,
         49
        ],
        [
         54,
         64,
         67
        ],
        [
         87,
         84,
         76
        ],
        [
         72,
         80,
         83
        ],
        [
         94,
         86,
         87
        ],
        [
         45,
         59,
         64
        ],
        [
         61,
         70,
         76
        ],
        [
         60,
         72,
         68
        ],
        [
         77,
         91,
         88
        ],
        [
         85,
         90,
         92
        ],
        [
         78,
         90,
         93
        ],
        [
         49,
         52,
         51
        ],
        [
         71,
         87,
         82
        ],
        [
         48,
         58,
         52
        ],
        [
         62,
         67,
         58
        ],
        [
         56,
         68,
         70
        ],
        [
         65,
         69,
         76
        ],
        [
         69,
         86,
         81
        ],
        [
         68,
         54,
         53
        ],
        [
         61,
         60,
         57
        ],
        [
         74,
         86,
         89
        ],
        [
         64,
         60,
         58
        ],
        [
         77,
         82,
         89
        ],
        [
         58,
         50,
         45
        ],
        [
         60,
         64,
         74
        ],
        [
         73,
         64,
         57
        ],
        [
         75,
         82,
         79
        ],
        [
         58,
         57,
         53
        ],
        [
         66,
         77,
         73
        ],
        [
         39,
         52,
         46
        ],
        [
         64,
         58,
         51
        ],
        [
         23,
         44,
         36
        ],
        [
         74,
         77,
         76
        ],
        [
         40,
         65,
         64
        ],
        [
         90,
         85,
         84
        ],
        [
         91,
         85,
         85
        ],
        [
         64,
         54,
         50
        ],
        [
         59,
         72,
         68
        ],
        [
         80,
         75,
         69
        ],
        [
         71,
         67,
         67
        ],
        [
         61,
         68,
         63
        ],
        [
         87,
         85,
         93
        ],
        [
         82,
         67,
         61
        ],
        [
         62,
         64,
         55
        ],
        [
         97,
         97,
         96
        ],
        [
         75,
         68,
         65
        ],
        [
         65,
         79,
         81
        ],
        [
         52,
         49,
         46
        ],
        [
         87,
         73,
         72
        ],
        [
         53,
         62,
         53
        ],
        [
         81,
         86,
         87
        ],
        [
         39,
         42,
         38
        ],
        [
         71,
         71,
         80
        ],
        [
         97,
         93,
         91
        ],
        [
         82,
         82,
         88
        ],
        [
         59,
         53,
         52
        ],
        [
         61,
         42,
         41
        ],
        [
         78,
         74,
         72
        ],
        [
         49,
         51,
         51
        ],
        [
         59,
         58,
         47
        ],
        [
         70,
         72,
         76
        ],
        [
         82,
         84,
         78
        ],
        [
         90,
         90,
         82
        ],
        [
         43,
         62,
         61
        ],
        [
         80,
         64,
         66
        ],
        [
         81,
         82,
         84
        ],
        [
         57,
         61,
         54
        ],
        [
         59,
         72,
         80
        ],
        [
         64,
         76,
         74
        ],
        [
         63,
         64,
         66
        ],
        [
         71,
         70,
         70
        ],
        [
         64,
         73,
         71
        ],
        [
         55,
         46,
         44
        ],
        [
         51,
         51,
         54
        ],
        [
         62,
         76,
         80
        ],
        [
         93,
         100,
         95
        ],
        [
         54,
         72,
         59
        ],
        [
         69,
         65,
         74
        ],
        [
         44,
         51,
         48
        ],
        [
         86,
         85,
         91
        ],
        [
         85,
         92,
         85
        ],
        [
         50,
         67,
         73
        ],
        [
         88,
         74,
         75
        ],
        [
         59,
         62,
         69
        ],
        [
         32,
         34,
         38
        ],
        [
         36,
         29,
         27
        ],
        [
         63,
         78,
         79
        ],
        [
         67,
         54,
         63
        ],
        [
         65,
         78,
         82
        ],
        [
         85,
         84,
         89
        ],
        [
         73,
         78,
         74
        ],
        [
         34,
         48,
         41
        ],
        [
         93,
         100,
         100
        ],
        [
         67,
         84,
         84
        ],
        [
         88,
         77,
         77
        ],
        [
         57,
         48,
         51
        ],
        [
         79,
         84,
         91
        ],
        [
         67,
         75,
         72
        ],
        [
         70,
         64,
         70
        ],
        [
         50,
         42,
         48
        ],
        [
         69,
         84,
         82
        ],
        [
         52,
         61,
         66
        ],
        [
         47,
         62,
         66
        ],
        [
         46,
         61,
         55
        ],
        [
         68,
         70,
         66
        ],
        [
         100,
         100,
         100
        ],
        [
         44,
         61,
         52
        ],
        [
         57,
         77,
         80
        ],
        [
         91,
         96,
         91
        ],
        [
         69,
         70,
         67
        ],
        [
         35,
         53,
         46
        ],
        [
         72,
         66,
         66
        ],
        [
         54,
         65,
         65
        ],
        [
         74,
         70,
         69
        ],
        [
         74,
         64,
         60
        ],
        [
         64,
         56,
         52
        ],
        [
         65,
         61,
         71
        ],
        [
         46,
         43,
         44
        ],
        [
         48,
         56,
         51
        ],
        [
         67,
         74,
         70
        ],
        [
         62,
         57,
         62
        ],
        [
         61,
         71,
         73
        ],
        [
         70,
         75,
         74
        ],
        [
         98,
         87,
         90
        ],
        [
         70,
         63,
         58
        ],
        [
         67,
         57,
         53
        ],
        [
         57,
         58,
         57
        ],
        [
         85,
         81,
         85
        ],
        [
         77,
         68,
         69
        ],
        [
         72,
         66,
         72
        ],
        [
         78,
         91,
         96
        ],
        [
         81,
         66,
         64
        ],
        [
         61,
         62,
         61
        ],
        [
         58,
         68,
         61
        ],
        [
         54,
         61,
         58
        ],
        [
         82,
         82,
         80
        ],
        [
         49,
         58,
         60
        ],
        [
         49,
         50,
         52
        ],
        [
         57,
         75,
         73
        ],
        [
         94,
         73,
         71
        ],
        [
         75,
         77,
         83
        ],
        [
         74,
         74,
         72
        ],
        [
         58,
         52,
         54
        ],
        [
         62,
         69,
         69
        ],
        [
         72,
         57,
         62
        ],
        [
         84,
         87,
         81
        ],
        [
         92,
         100,
         100
        ],
        [
         45,
         63,
         59
        ],
        [
         75,
         81,
         71
        ],
        [
         56,
         58,
         64
        ],
        [
         48,
         54,
         53
        ],
        [
         100,
         100,
         100
        ],
        [
         65,
         76,
         75
        ],
        [
         72,
         57,
         58
        ],
        [
         62,
         70,
         72
        ],
        [
         66,
         68,
         64
        ],
        [
         63,
         63,
         60
        ],
        [
         68,
         76,
         67
        ],
        [
         75,
         84,
         80
        ],
        [
         89,
         100,
         100
        ],
        [
         78,
         72,
         69
        ],
        [
         53,
         50,
         60
        ],
        [
         49,
         65,
         61
        ],
        [
         54,
         63,
         67
        ],
        [
         64,
         82,
         77
        ],
        [
         60,
         62,
         60
        ],
        [
         62,
         65,
         58
        ],
        [
         55,
         41,
         48
        ],
        [
         91,
         95,
         94
        ],
        [
         8,
         24,
         23
        ],
        [
         81,
         78,
         78
        ],
        [
         79,
         85,
         86
        ],
        [
         78,
         87,
         91
        ],
        [
         74,
         75,
         82
        ],
        [
         57,
         51,
         54
        ],
        [
         40,
         59,
         51
        ],
        [
         81,
         75,
         76
        ],
        [
         44,
         45,
         45
        ],
        [
         67,
         86,
         83
        ],
        [
         86,
         81,
         75
        ],
        [
         65,
         82,
         78
        ],
        [
         55,
         76,
         76
        ],
        [
         62,
         72,
         74
        ],
        [
         63,
         63,
         62
        ],
        [
         88,
         99,
         95
        ],
        [
         62,
         55,
         55
        ],
        [
         59,
         71,
         65
        ],
        [
         68,
         78,
         77
        ],
        [
         77,
         86,
         86
        ]
       ],
       "datasetInfos": [],
       "dbfsResultPath": null,
       "isJsonSchema": true,
       "metadata": {},
       "overflow": false,
       "plotOptions": {
        "customPlotOptions": {},
        "displayType": "table",
        "pivotAggregation": null,
        "pivotColumns": null,
        "xColumns": null,
        "yColumns": null
       },
       "removedWidgets": [],
       "schema": [
        {
         "metadata": "{}",
         "name": "math score",
         "type": "\"integer\""
        },
        {
         "metadata": "{}",
         "name": "reading score",
         "type": "\"integer\""
        },
        {
         "metadata": "{}",
         "name": "writing score",
         "type": "\"integer\""
        }
       ],
       "type": "table"
      }
     },
     "output_type": "display_data"
    },
    {
     "output_type": "display_data",
     "data": {
      "text/plain": [
       "Databricks visualization. Run in Databricks to view."
      ]
     },
     "metadata": {
      "application/vnd.databricks.v1.subcommand+json": {
       "baseErrorDetails": null,
       "bindings": {},
       "collapsed": false,
       "command": "%python\n__backend_agg_display_orig = display\n__backend_agg_dfs = []\ndef __backend_agg_display_new(df):\n    __backend_agg_df_modules = [\"pandas.core.frame\", \"databricks.koalas.frame\", \"pyspark.sql.dataframe\", \"pyspark.pandas.frame\", \"pyspark.sql.connect.dataframe\"]\n    if (type(df).__module__ in __backend_agg_df_modules and type(df).__name__ == 'DataFrame') or isinstance(df, list):\n        __backend_agg_dfs.append(df)\n\ndisplay = __backend_agg_display_new\n\ndef __backend_agg_user_code_fn():\n    import base64\n    exec(base64.standard_b64decode(\"ZGZfYnViYmxlID0gZGYuc2VsZWN0KCJtYXRoIHNjb3JlIiwgInJlYWRpbmcgc2NvcmUiLCAid3JpdGluZyBzY29yZSIpCgpkaXNwbGF5KGRmX2J1YmJsZSk=\").decode())\n\ntry:\n    # run user code\n    __backend_agg_user_code_fn()\n\n    #reset display function\n    display = __backend_agg_display_orig\n\n    if len(__backend_agg_dfs) > 0:\n        # create a temp view\n        if type(__backend_agg_dfs[0]).__module__ == \"databricks.koalas.frame\":\n            # koalas dataframe\n            __backend_agg_dfs[0].to_spark().createOrReplaceTempView(\"DatabricksView322096b\")\n        elif type(__backend_agg_dfs[0]).__module__ == \"pandas.core.frame\" or isinstance(__backend_agg_dfs[0], list):\n            # pandas dataframe\n            spark.createDataFrame(__backend_agg_dfs[0]).createOrReplaceTempView(\"DatabricksView322096b\")\n        else:\n            __backend_agg_dfs[0].createOrReplaceTempView(\"DatabricksView322096b\")\n        #run backend agg\n        display(spark.sql(\"\"\"WITH q AS (select * from DatabricksView322096b) SELECT `math score`,`reading score`,`reading score` FROM q\"\"\"))\n    else:\n        displayHTML(\"dataframe no longer exists. If you're using dataframe.display(), use display(dataframe) instead.\")\n\n\nfinally:\n    spark.sql(\"drop view if exists DatabricksView322096b\")\n    display = __backend_agg_display_orig\n    del __backend_agg_display_new\n    del __backend_agg_display_orig\n    del __backend_agg_dfs\n    del __backend_agg_user_code_fn\n\n",
       "commandTitle": "Visualization 1",
       "commandType": "auto",
       "commandVersion": 0,
       "commentThread": [],
       "commentsVisible": false,
       "contentSha256Hex": null,
       "customPlotOptions": {
        "redashChart": [
         {
          "key": "type",
          "value": "CHART"
         },
         {
          "key": "options",
          "value": {
           "alignYAxesAtZero": true,
           "coefficient": 1,
           "columnConfigurationMap": {
            "size": {
             "column": "reading score",
             "id": "column_93df7567161"
            },
            "x": {
             "column": "math score",
             "id": "column_93df7567159"
            },
            "y": [
             {
              "column": "reading score",
              "id": "column_93df7567160"
             }
            ]
           },
           "dateTimeFormat": "DD/MM/YYYY HH:mm",
           "direction": {
            "type": "counterclockwise"
           },
           "error_y": {
            "type": "data",
            "visible": true
           },
           "globalSeriesType": "bubble",
           "legend": {
            "traceorder": "normal"
           },
           "missingValuesAsZero": true,
           "numberFormat": "0,0.[00000]",
           "percentFormat": "0[.]00%",
           "series": {
            "error_y": {
             "type": "data",
             "visible": true
            },
            "stacking": null
           },
           "seriesOptions": {
            "reading score": {
             "type": "bubble",
             "yAxis": 0
            }
           },
           "showDataLabels": false,
           "sizemode": "diameter",
           "sortX": true,
           "sortY": true,
           "swappedAxes": false,
           "textFormat": "",
           "useAggregationsUi": true,
           "valuesOptions": {},
           "version": 2,
           "xAxis": {
            "labels": {
             "enabled": true
            },
            "type": "-"
           },
           "yAxis": [
            {
             "type": "-"
            },
            {
             "opposite": true,
             "type": "-"
            }
           ]
          }
         }
        ]
       },
       "datasetPreviewNameToCmdIdMap": {},
       "diffDeletes": [],
       "diffInserts": [],
       "displayType": "redashChart",
       "error": null,
       "errorDetails": null,
       "errorSummary": null,
       "errorTraceType": null,
       "finishTime": 0,
       "globalVars": {},
       "guid": "",
       "height": "auto",
       "hideCommandCode": false,
       "hideCommandResult": false,
       "iPythonMetadata": null,
       "inputWidgets": {},
       "isLockedInExamMode": false,
       "latestUser": "a user",
       "latestUserId": null,
       "listResultMetadata": null,
       "metadata": {},
       "nuid": "20d0f86b-3224-4674-b3ba-a3d7db56b6a7",
       "origId": 0,
       "parentHierarchy": [],
       "pivotAggregation": null,
       "pivotColumns": null,
       "position": 16.0,
       "resultDbfsErrorMessage": null,
       "resultDbfsStatus": "INLINED_IN_TREE",
       "results": null,
       "showCommandTitle": false,
       "startTime": 0,
       "state": "input",
       "streamStates": {},
       "subcommandOptions": {
        "queryPlan": {
         "selects": [
          {
           "column": "math score",
           "type": "column"
          },
          {
           "column": "reading score",
           "type": "column"
          },
          {
           "column": "reading score",
           "type": "column"
          }
         ]
        }
       },
       "submitTime": 0,
       "subtype": "tableResultSubCmd.visualization",
       "tableResultIndex": 0,
       "tableResultSettingsMap": {},
       "useConsistentColors": false,
       "version": "CommandV1",
       "width": "auto",
       "workflows": [],
       "xColumns": null,
       "yColumns": null
      }
     },
     "output_type": "display_data"
    }
   ],
   "source": [
    "df_bubble = df.select(\"math score\", \"reading score\", \"writing score\")\n",
    "\n",
    "display(df_bubble)"
   ]
  }
 ],
 "metadata": {
  "application/vnd.databricks.v1+notebook": {
   "computePreferences": null,
   "dashboards": [],
   "environmentMetadata": {
    "base_environment": "",
    "environment_version": "2"
   },
   "inputWidgetPreferences": null,
   "language": "python",
   "notebookMetadata": {
    "mostRecentlyExecutedCommandWithImplicitDF": {
     "commandId": -1,
     "dataframes": [
      "_sqldf"
     ]
    },
    "pythonIndentUnit": 4
   },
   "notebookName": "Notebook 2025-08-06",
   "widgets": {}
  },
  "language_info": {
   "name": "python"
  }
 },
 "nbformat": 4,
 "nbformat_minor": 0
}