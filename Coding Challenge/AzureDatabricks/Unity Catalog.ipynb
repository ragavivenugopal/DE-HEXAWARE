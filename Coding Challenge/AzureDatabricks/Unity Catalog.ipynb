{
 "cells": [
  {
   "cell_type": "markdown",
   "metadata": {
    "application/vnd.databricks.v1+cell": {
     "cellMetadata": {},
     "inputWidgets": {},
     "nuid": "131318cf-c5be-466e-9ad2-54ddc65a2d5c",
     "showTitle": false,
     "tableResultSettingsMap": {},
     "title": ""
    }
   },
   "source": [
    "## Retail Data Management with Unity Catalog"
   ]
  },
  {
   "cell_type": "markdown",
   "metadata": {
    "application/vnd.databricks.v1+cell": {
     "cellMetadata": {},
     "inputWidgets": {},
     "nuid": "f38a33e2-e853-4a46-b549-78fba30799f7",
     "showTitle": false,
     "tableResultSettingsMap": {},
     "title": ""
    }
   },
   "source": [
    "This notebook demonstrates how to build a mini project for retail data management using Databricks Unity Catalog."
   ]
  },
  {
   "cell_type": "markdown",
   "metadata": {
    "application/vnd.databricks.v1+cell": {
     "cellMetadata": {},
     "inputWidgets": {},
     "nuid": "1f1a11c6-f71e-42eb-9ede-4eac0e446bd5",
     "showTitle": false,
     "tableResultSettingsMap": {},
     "title": ""
    }
   },
   "source": [
    "We create a structured data lakehouse with the following steps:\n",
    "\n",
    "- **Create a catalog** (retail_uc) - acts as the project's top-level container.\n",
    "- **Create schemas** (bronze, silver, gold) - to organize data by stages of processing.\n",
    "- **Create and manage tables** such as customers and transactions in the bronze schema.\n",
    "- **Insert and query data** to validate the setup.\n",
    "- Check existing catalogs, schemas, and tables in Unity Catalog."
   ]
  },
  {
   "cell_type": "markdown",
   "metadata": {
    "application/vnd.databricks.v1+cell": {
     "cellMetadata": {},
     "inputWidgets": {},
     "nuid": "2acf675c-4083-408c-aee1-b81621b2399c",
     "showTitle": false,
     "tableResultSettingsMap": {},
     "title": ""
    }
   },
   "source": [
    "This setup forms the foundation of a retail analytics platform, where:\n",
    "\n",
    "- **Bronze layer** holds raw ingested data,\n",
    "- **Silver layer** stores cleaned and enriched data,\n",
    "- **Gold layer** powers business reporting and dashboards."
   ]
  },
  {
   "cell_type": "markdown",
   "metadata": {
    "application/vnd.databricks.v1+cell": {
     "cellMetadata": {},
     "inputWidgets": {},
     "nuid": "3188482d-8908-4a2d-bb13-f87c33fac681",
     "showTitle": false,
     "tableResultSettingsMap": {},
     "title": ""
    }
   },
   "source": [
    "Create a new catalog for the project"
   ]
  },
  {
   "cell_type": "code",
   "execution_count": 0,
   "metadata": {
    "application/vnd.databricks.v1+cell": {
     "cellMetadata": {
      "byteLimit": 2048000,
      "implicitDf": true,
      "rowLimit": 10000
     },
     "inputWidgets": {},
     "nuid": "3c01c676-4443-4a4f-897b-a56711224057",
     "showTitle": false,
     "tableResultSettingsMap": {},
     "title": ""
    }
   },
   "outputs": [],
   "source": [
    "%sql\n",
    "CREATE CATALOG IF NOT EXISTS retail_uc\n",
    "COMMENT 'Mini project: retail data governed by Unity Catalog';"
   ]
  },
  {
   "cell_type": "markdown",
   "metadata": {
    "application/vnd.databricks.v1+cell": {
     "cellMetadata": {},
     "inputWidgets": {},
     "nuid": "c6cf8200-fb7d-4e5b-a936-091c3905cf8f",
     "showTitle": false,
     "tableResultSettingsMap": {},
     "title": ""
    }
   },
   "source": [
    "Give yourself ownership so you can proceed (replace with your user or group if needed)"
   ]
  },
  {
   "cell_type": "code",
   "execution_count": 0,
   "metadata": {
    "application/vnd.databricks.v1+cell": {
     "cellMetadata": {
      "byteLimit": 2048000,
      "implicitDf": true,
      "rowLimit": 10000
     },
     "inputWidgets": {},
     "nuid": "8c229a38-8f0c-4c2c-93d4-c315d6bd6a2b",
     "showTitle": false,
     "tableResultSettingsMap": {},
     "title": ""
    }
   },
   "outputs": [],
   "source": [
    "%sql\n",
    "ALTER CATALOG retail_uc OWNER TO `ragavivenugopal123@gmail.com`;"
   ]
  },
  {
   "cell_type": "markdown",
   "metadata": {
    "application/vnd.databricks.v1+cell": {
     "cellMetadata": {},
     "inputWidgets": {},
     "nuid": "fa2ec937-f8fb-43e7-b99b-b33202567f6a",
     "showTitle": false,
     "tableResultSettingsMap": {},
     "title": ""
    }
   },
   "source": [
    "Create Schemas (Bronze/Silver/Gold + Secure)"
   ]
  },
  {
   "cell_type": "code",
   "execution_count": 0,
   "metadata": {
    "application/vnd.databricks.v1+cell": {
     "cellMetadata": {
      "byteLimit": 2048000,
      "implicitDf": true,
      "rowLimit": 10000
     },
     "inputWidgets": {},
     "nuid": "b666c44e-5369-4ce3-9a21-3bc765d396e7",
     "showTitle": false,
     "tableResultSettingsMap": {},
     "title": ""
    }
   },
   "outputs": [],
   "source": [
    "%sql\n",
    "CREATE SCHEMA IF NOT EXISTS retail_uc.bronze COMMENT 'Raw-ish landing zone';"
   ]
  },
  {
   "cell_type": "code",
   "execution_count": 0,
   "metadata": {
    "application/vnd.databricks.v1+cell": {
     "cellMetadata": {
      "byteLimit": 2048000,
      "implicitDf": true,
      "rowLimit": 10000
     },
     "inputWidgets": {},
     "nuid": "589d476e-53fc-4e34-9045-969484ec9361",
     "showTitle": false,
     "tableResultSettingsMap": {},
     "title": ""
    }
   },
   "outputs": [],
   "source": [
    "%sql\n",
    "CREATE SCHEMA IF NOT EXISTS retail_uc.silver COMMENT 'Cleaned/curated';"
   ]
  },
  {
   "cell_type": "code",
   "execution_count": 0,
   "metadata": {
    "application/vnd.databricks.v1+cell": {
     "cellMetadata": {
      "byteLimit": 2048000,
      "implicitDf": true,
      "rowLimit": 10000
     },
     "inputWidgets": {},
     "nuid": "ad006dee-e90c-44d2-abb6-6bc1588d74b6",
     "showTitle": false,
     "tableResultSettingsMap": {},
     "title": ""
    }
   },
   "outputs": [],
   "source": [
    "%sql\n",
    "CREATE SCHEMA IF NOT EXISTS retail_uc.gold COMMENT 'Business-ready marts';"
   ]
  },
  {
   "cell_type": "code",
   "execution_count": 0,
   "metadata": {
    "application/vnd.databricks.v1+cell": {
     "cellMetadata": {
      "byteLimit": 2048000,
      "implicitDf": true,
      "rowLimit": 10000
     },
     "inputWidgets": {},
     "nuid": "e7377cb4-ba31-4a49-9bcd-4e3da5249351",
     "showTitle": false,
     "tableResultSettingsMap": {},
     "title": ""
    }
   },
   "outputs": [],
   "source": [
    "%sql\n",
    "CREATE SCHEMA IF NOT EXISTS retail_uc.secure COMMENT 'Dynamic views for masking/row-level security';"
   ]
  },
  {
   "cell_type": "markdown",
   "metadata": {
    "application/vnd.databricks.v1+cell": {
     "cellMetadata": {},
     "inputWidgets": {},
     "nuid": "1c244025-4e40-4078-82fb-9f01d3b35d71",
     "showTitle": false,
     "tableResultSettingsMap": {},
     "title": ""
    }
   },
   "source": [
    "Create sample source tables (Bronze)"
   ]
  },
  {
   "cell_type": "code",
   "execution_count": 0,
   "metadata": {
    "application/vnd.databricks.v1+cell": {
     "cellMetadata": {
      "byteLimit": 2048000,
      "implicitDf": true,
      "rowLimit": 10000
     },
     "inputWidgets": {},
     "nuid": "1e2b6a4b-1743-4ad7-acf7-a5a5c6d1c7c1",
     "showTitle": false,
     "tableResultSettingsMap": {},
     "title": ""
    }
   },
   "outputs": [],
   "source": [
    "%sql\n",
    "USE CATALOG retail_uc;\n",
    "USE SCHEMA bronze;"
   ]
  },
  {
   "cell_type": "code",
   "execution_count": 0,
   "metadata": {
    "application/vnd.databricks.v1+cell": {
     "cellMetadata": {
      "byteLimit": 2048000,
      "rowLimit": 10000
     },
     "inputWidgets": {},
     "nuid": "cd9ca713-1e03-4db2-a72a-3012608f21e6",
     "showTitle": false,
     "tableResultSettingsMap": {},
     "title": ""
    }
   },
   "outputs": [
    {
     "output_type": "display_data",
     "data": {
      "text/html": [
       "<style scoped>\n",
       "  .table-result-container {\n",
       "    max-height: 300px;\n",
       "    overflow: auto;\n",
       "  }\n",
       "  table, th, td {\n",
       "    border: 1px solid black;\n",
       "    border-collapse: collapse;\n",
       "  }\n",
       "  th, td {\n",
       "    padding: 5px;\n",
       "  }\n",
       "  th {\n",
       "    text-align: left;\n",
       "  }\n",
       "</style><div class='table-result-container'><table class='table-result'><thead style='background-color: white'><tr><th>current_catalog()</th><th>current_schema()</th></tr></thead><tbody><tr><td>retail_uc</td><td>bronze</td></tr></tbody></table></div>"
      ]
     },
     "metadata": {
      "application/vnd.databricks.v1+output": {
       "addedWidgets": {},
       "aggData": [],
       "aggError": "",
       "aggOverflow": false,
       "aggSchema": [],
       "aggSeriesLimitReached": false,
       "aggType": "",
       "arguments": {},
       "columnCustomDisplayInfos": {},
       "data": [
        [
         "retail_uc",
         "bronze"
        ]
       ],
       "datasetInfos": [
        {
         "name": "_sqldf",
         "schema": {
          "fields": [
           {
            "metadata": {},
            "name": "current_catalog()",
            "nullable": false,
            "type": "string"
           },
           {
            "metadata": {},
            "name": "current_schema()",
            "nullable": false,
            "type": "string"
           }
          ],
          "type": "struct"
         },
         "tableIdentifier": null,
         "typeStr": "pyspark.sql.connect.dataframe.DataFrame"
        }
       ],
       "dbfsResultPath": null,
       "isJsonSchema": true,
       "metadata": {
        "createTempViewForImplicitDf": true,
        "dataframeName": "_sqldf",
        "executionCount": 32
       },
       "overflow": false,
       "plotOptions": {
        "customPlotOptions": {},
        "displayType": "table",
        "pivotAggregation": null,
        "pivotColumns": null,
        "xColumns": null,
        "yColumns": null
       },
       "removedWidgets": [],
       "schema": [
        {
         "metadata": "{}",
         "name": "current_catalog()",
         "type": "\"string\""
        },
        {
         "metadata": "{}",
         "name": "current_schema()",
         "type": "\"string\""
        }
       ],
       "type": "table"
      }
     },
     "output_type": "display_data"
    }
   ],
   "source": [
    "SELECT current_catalog(), current_schema();"
   ]
  },
  {
   "cell_type": "code",
   "execution_count": 0,
   "metadata": {
    "application/vnd.databricks.v1+cell": {
     "cellMetadata": {
      "byteLimit": 2048000,
      "rowLimit": 10000
     },
     "inputWidgets": {},
     "nuid": "c931dc08-91f9-4404-be23-086fa6744cf6",
     "showTitle": false,
     "tableResultSettingsMap": {},
     "title": ""
    }
   },
   "outputs": [
    {
     "output_type": "display_data",
     "data": {
      "text/html": [
       "<style scoped>\n",
       "  .table-result-container {\n",
       "    max-height: 300px;\n",
       "    overflow: auto;\n",
       "  }\n",
       "  table, th, td {\n",
       "    border: 1px solid black;\n",
       "    border-collapse: collapse;\n",
       "  }\n",
       "  th, td {\n",
       "    padding: 5px;\n",
       "  }\n",
       "  th {\n",
       "    text-align: left;\n",
       "  }\n",
       "</style><div class='table-result-container'><table class='table-result'><thead style='background-color: white'><tr><th>catalog</th></tr></thead><tbody><tr><td>retail_uc</td></tr><tr><td>samples</td></tr><tr><td>system</td></tr><tr><td>workspace</td></tr></tbody></table></div>"
      ]
     },
     "metadata": {
      "application/vnd.databricks.v1+output": {
       "addedWidgets": {},
       "aggData": [],
       "aggError": "",
       "aggOverflow": false,
       "aggSchema": [],
       "aggSeriesLimitReached": false,
       "aggType": "",
       "arguments": {},
       "columnCustomDisplayInfos": {},
       "data": [
        [
         "retail_uc"
        ],
        [
         "samples"
        ],
        [
         "system"
        ],
        [
         "workspace"
        ]
       ],
       "datasetInfos": [
        {
         "name": "_sqldf",
         "schema": {
          "fields": [
           {
            "metadata": {},
            "name": "catalog",
            "nullable": false,
            "type": "string"
           }
          ],
          "type": "struct"
         },
         "tableIdentifier": null,
         "typeStr": "pyspark.sql.connect.dataframe.DataFrame"
        }
       ],
       "dbfsResultPath": null,
       "isJsonSchema": true,
       "metadata": {
        "createTempViewForImplicitDf": true,
        "dataframeName": "_sqldf",
        "executionCount": 33
       },
       "overflow": false,
       "plotOptions": {
        "customPlotOptions": {},
        "displayType": "table",
        "pivotAggregation": null,
        "pivotColumns": null,
        "xColumns": null,
        "yColumns": null
       },
       "removedWidgets": [],
       "schema": [
        {
         "metadata": "{}",
         "name": "catalog",
         "type": "\"string\""
        }
       ],
       "type": "table"
      }
     },
     "output_type": "display_data"
    }
   ],
   "source": [
    "SHOW CATALOGS;"
   ]
  },
  {
   "cell_type": "code",
   "execution_count": 0,
   "metadata": {
    "application/vnd.databricks.v1+cell": {
     "cellMetadata": {
      "byteLimit": 2048000,
      "rowLimit": 10000
     },
     "inputWidgets": {},
     "nuid": "3bf2c48f-0afe-4105-8fae-6a49a720e57e",
     "showTitle": false,
     "tableResultSettingsMap": {},
     "title": ""
    }
   },
   "outputs": [
    {
     "output_type": "display_data",
     "data": {
      "text/html": [
       "<style scoped>\n",
       "  .table-result-container {\n",
       "    max-height: 300px;\n",
       "    overflow: auto;\n",
       "  }\n",
       "  table, th, td {\n",
       "    border: 1px solid black;\n",
       "    border-collapse: collapse;\n",
       "  }\n",
       "  th, td {\n",
       "    padding: 5px;\n",
       "  }\n",
       "  th {\n",
       "    text-align: left;\n",
       "  }\n",
       "</style><div class='table-result-container'><table class='table-result'><thead style='background-color: white'><tr><th>databaseName</th></tr></thead><tbody><tr><td>bronze</td></tr><tr><td>default</td></tr><tr><td>gold</td></tr><tr><td>information_schema</td></tr><tr><td>secure</td></tr><tr><td>silver</td></tr></tbody></table></div>"
      ]
     },
     "metadata": {
      "application/vnd.databricks.v1+output": {
       "addedWidgets": {},
       "aggData": [],
       "aggError": "",
       "aggOverflow": false,
       "aggSchema": [],
       "aggSeriesLimitReached": false,
       "aggType": "",
       "arguments": {},
       "columnCustomDisplayInfos": {},
       "data": [
        [
         "bronze"
        ],
        [
         "default"
        ],
        [
         "gold"
        ],
        [
         "information_schema"
        ],
        [
         "secure"
        ],
        [
         "silver"
        ]
       ],
       "datasetInfos": [
        {
         "name": "_sqldf",
         "schema": {
          "fields": [
           {
            "metadata": {},
            "name": "databaseName",
            "nullable": false,
            "type": "string"
           }
          ],
          "type": "struct"
         },
         "tableIdentifier": null,
         "typeStr": "pyspark.sql.connect.dataframe.DataFrame"
        }
       ],
       "dbfsResultPath": null,
       "isJsonSchema": true,
       "metadata": {
        "createTempViewForImplicitDf": true,
        "dataframeName": "_sqldf",
        "executionCount": 34
       },
       "overflow": false,
       "plotOptions": {
        "customPlotOptions": {},
        "displayType": "table",
        "pivotAggregation": null,
        "pivotColumns": null,
        "xColumns": null,
        "yColumns": null
       },
       "removedWidgets": [],
       "schema": [
        {
         "metadata": "{}",
         "name": "databaseName",
         "type": "\"string\""
        }
       ],
       "type": "table"
      }
     },
     "output_type": "display_data"
    }
   ],
   "source": [
    "SHOW SCHEMAS IN retail_uc;"
   ]
  },
  {
   "cell_type": "code",
   "execution_count": 0,
   "metadata": {
    "application/vnd.databricks.v1+cell": {
     "cellMetadata": {
      "byteLimit": 2048000,
      "rowLimit": 10000
     },
     "inputWidgets": {},
     "nuid": "92efac70-d402-43c7-8e00-c418bb0c3a95",
     "showTitle": false,
     "tableResultSettingsMap": {},
     "title": ""
    }
   },
   "outputs": [
    {
     "output_type": "display_data",
     "data": {
      "text/html": [
       "<style scoped>\n",
       "  .table-result-container {\n",
       "    max-height: 300px;\n",
       "    overflow: auto;\n",
       "  }\n",
       "  table, th, td {\n",
       "    border: 1px solid black;\n",
       "    border-collapse: collapse;\n",
       "  }\n",
       "  th, td {\n",
       "    padding: 5px;\n",
       "  }\n",
       "  th {\n",
       "    text-align: left;\n",
       "  }\n",
       "</style><div class='table-result-container'><table class='table-result'><thead style='background-color: white'><tr><th>database</th><th>tableName</th><th>isTemporary</th></tr></thead><tbody><tr><td>bronze</td><td>customers</td><td>false</td></tr><tr><td></td><td>_sqldf</td><td>true</td></tr></tbody></table></div>"
      ]
     },
     "metadata": {
      "application/vnd.databricks.v1+output": {
       "addedWidgets": {},
       "aggData": [],
       "aggError": "",
       "aggOverflow": false,
       "aggSchema": [],
       "aggSeriesLimitReached": false,
       "aggType": "",
       "arguments": {},
       "columnCustomDisplayInfos": {},
       "data": [
        [
         "bronze",
         "customers",
         false
        ],
        [
         "",
         "_sqldf",
         true
        ]
       ],
       "datasetInfos": [
        {
         "name": "_sqldf",
         "schema": {
          "fields": [
           {
            "metadata": {},
            "name": "database",
            "nullable": false,
            "type": "string"
           },
           {
            "metadata": {},
            "name": "tableName",
            "nullable": false,
            "type": "string"
           },
           {
            "metadata": {},
            "name": "isTemporary",
            "nullable": false,
            "type": "boolean"
           }
          ],
          "type": "struct"
         },
         "tableIdentifier": null,
         "typeStr": "pyspark.sql.connect.dataframe.DataFrame"
        }
       ],
       "dbfsResultPath": null,
       "isJsonSchema": true,
       "metadata": {
        "createTempViewForImplicitDf": true,
        "dataframeName": "_sqldf",
        "executionCount": 41
       },
       "overflow": false,
       "plotOptions": {
        "customPlotOptions": {},
        "displayType": "table",
        "pivotAggregation": null,
        "pivotColumns": null,
        "xColumns": null,
        "yColumns": null
       },
       "removedWidgets": [],
       "schema": [
        {
         "metadata": "{}",
         "name": "database",
         "type": "\"string\""
        },
        {
         "metadata": "{}",
         "name": "tableName",
         "type": "\"string\""
        },
        {
         "metadata": "{}",
         "name": "isTemporary",
         "type": "\"boolean\""
        }
       ],
       "type": "table"
      }
     },
     "output_type": "display_data"
    }
   ],
   "source": [
    "SHOW TABLES IN retail_uc.bronze;"
   ]
  },
  {
   "cell_type": "code",
   "execution_count": 0,
   "metadata": {
    "application/vnd.databricks.v1+cell": {
     "cellMetadata": {
      "byteLimit": 2048000,
      "rowLimit": 10000
     },
     "inputWidgets": {},
     "nuid": "0feca3d9-3a15-486d-aa8f-fe034b88e783",
     "showTitle": false,
     "tableResultSettingsMap": {},
     "title": ""
    }
   },
   "outputs": [],
   "source": [
    "USE CATALOG retail_uc;\n",
    "USE SCHEMA bronze;"
   ]
  },
  {
   "cell_type": "markdown",
   "metadata": {
    "application/vnd.databricks.v1+cell": {
     "cellMetadata": {},
     "inputWidgets": {},
     "nuid": "ba3d271a-246b-4179-a3e0-0b128325d3b8",
     "showTitle": false,
     "tableResultSettingsMap": {},
     "title": ""
    }
   },
   "source": [
    "Customers with PII (email, phone)."
   ]
  },
  {
   "cell_type": "code",
   "execution_count": 0,
   "metadata": {
    "application/vnd.databricks.v1+cell": {
     "cellMetadata": {
      "byteLimit": 2048000,
      "implicitDf": true,
      "rowLimit": 10000
     },
     "inputWidgets": {},
     "nuid": "251165b7-3939-481d-bf27-fca800d8e594",
     "showTitle": false,
     "tableResultSettingsMap": {},
     "title": ""
    }
   },
   "outputs": [
    {
     "output_type": "display_data",
     "data": {
      "text/html": [
       "<style scoped>\n",
       "  .table-result-container {\n",
       "    max-height: 300px;\n",
       "    overflow: auto;\n",
       "  }\n",
       "  table, th, td {\n",
       "    border: 1px solid black;\n",
       "    border-collapse: collapse;\n",
       "  }\n",
       "  th, td {\n",
       "    padding: 5px;\n",
       "  }\n",
       "  th {\n",
       "    text-align: left;\n",
       "  }\n",
       "</style><div class='table-result-container'><table class='table-result'><thead style='background-color: white'><tr><th>num_affected_rows</th><th>num_inserted_rows</th></tr></thead><tbody></tbody></table></div>"
      ]
     },
     "metadata": {
      "application/vnd.databricks.v1+output": {
       "addedWidgets": {},
       "aggData": [],
       "aggError": "",
       "aggOverflow": false,
       "aggSchema": [],
       "aggSeriesLimitReached": false,
       "aggType": "",
       "arguments": {},
       "columnCustomDisplayInfos": {},
       "data": [],
       "datasetInfos": [
        {
         "name": "_sqldf",
         "schema": {
          "fields": [
           {
            "metadata": {},
            "name": "num_affected_rows",
            "nullable": true,
            "type": "long"
           },
           {
            "metadata": {},
            "name": "num_inserted_rows",
            "nullable": true,
            "type": "long"
           }
          ],
          "type": "struct"
         },
         "tableIdentifier": null,
         "typeStr": "pyspark.sql.connect.dataframe.DataFrame"
        }
       ],
       "dbfsResultPath": null,
       "isJsonSchema": true,
       "metadata": {
        "createTempViewForImplicitDf": true,
        "dataframeName": "_sqldf",
        "executionCount": 40
       },
       "overflow": false,
       "plotOptions": {
        "customPlotOptions": {},
        "displayType": "table",
        "pivotAggregation": null,
        "pivotColumns": null,
        "xColumns": null,
        "yColumns": null
       },
       "removedWidgets": [],
       "schema": [
        {
         "metadata": "{}",
         "name": "num_affected_rows",
         "type": "\"long\""
        },
        {
         "metadata": "{}",
         "name": "num_inserted_rows",
         "type": "\"long\""
        }
       ],
       "type": "table"
      }
     },
     "output_type": "display_data"
    }
   ],
   "source": [
    "%sql\n",
    "CREATE OR REPLACE TABLE customers AS\n",
    "SELECT * FROM VALUES\n",
    "  (1, 'Asha',     'APAC', 'asha@example.com',     '+91-90000-00001'),\n",
    "  (2, 'Ravi',     'APAC', 'ravi@example.com',     '+91-90000-00002'),\n",
    "  (3, 'Chloe',    'EMEA', 'chloe@example.co.uk',  '+44-7000-000003'),\n",
    "  (4, 'Diego',    'AMER', 'diego@example.com',    '+1-202-000-0004'),\n",
    "  (5, 'Meera',    'APAC', 'meera@example.com',    '+91-90000-00005')\n",
    "AS t(customer_id, customer_name, region, email, phone);"
   ]
  },
  {
   "cell_type": "code",
   "execution_count": 0,
   "metadata": {
    "application/vnd.databricks.v1+cell": {
     "cellMetadata": {
      "byteLimit": 2048000,
      "rowLimit": 10000
     },
     "inputWidgets": {},
     "nuid": "cadf5b1f-7640-42bd-b773-06993b4096a8",
     "showTitle": false,
     "tableResultSettingsMap": {},
     "title": ""
    }
   },
   "outputs": [
    {
     "output_type": "display_data",
     "data": {
      "text/html": [
       "<style scoped>\n",
       "  .table-result-container {\n",
       "    max-height: 300px;\n",
       "    overflow: auto;\n",
       "  }\n",
       "  table, th, td {\n",
       "    border: 1px solid black;\n",
       "    border-collapse: collapse;\n",
       "  }\n",
       "  th, td {\n",
       "    padding: 5px;\n",
       "  }\n",
       "  th {\n",
       "    text-align: left;\n",
       "  }\n",
       "</style><div class='table-result-container'><table class='table-result'><thead style='background-color: white'><tr><th>customer_id</th><th>customer_name</th><th>region</th><th>email</th><th>phone</th></tr></thead><tbody><tr><td>1</td><td>Asha</td><td>APAC</td><td>asha@example.com</td><td>+91-90000-00001</td></tr><tr><td>2</td><td>Ravi</td><td>APAC</td><td>ravi@example.com</td><td>+91-90000-00002</td></tr><tr><td>3</td><td>Chloe</td><td>EMEA</td><td>chloe@example.co.uk</td><td>+44-7000-000003</td></tr><tr><td>4</td><td>Diego</td><td>AMER</td><td>diego@example.com</td><td>+1-202-000-0004</td></tr><tr><td>5</td><td>Meera</td><td>APAC</td><td>meera@example.com</td><td>+91-90000-00005</td></tr></tbody></table></div>"
      ]
     },
     "metadata": {
      "application/vnd.databricks.v1+output": {
       "addedWidgets": {},
       "aggData": [],
       "aggError": "",
       "aggOverflow": false,
       "aggSchema": [],
       "aggSeriesLimitReached": false,
       "aggType": "",
       "arguments": {},
       "columnCustomDisplayInfos": {},
       "data": [
        [
         1,
         "Asha",
         "APAC",
         "asha@example.com",
         "+91-90000-00001"
        ],
        [
         2,
         "Ravi",
         "APAC",
         "ravi@example.com",
         "+91-90000-00002"
        ],
        [
         3,
         "Chloe",
         "EMEA",
         "chloe@example.co.uk",
         "+44-7000-000003"
        ],
        [
         4,
         "Diego",
         "AMER",
         "diego@example.com",
         "+1-202-000-0004"
        ],
        [
         5,
         "Meera",
         "APAC",
         "meera@example.com",
         "+91-90000-00005"
        ]
       ],
       "datasetInfos": [
        {
         "name": "_sqldf",
         "schema": {
          "fields": [
           {
            "metadata": {},
            "name": "customer_id",
            "nullable": true,
            "type": "integer"
           },
           {
            "metadata": {},
            "name": "customer_name",
            "nullable": true,
            "type": "string"
           },
           {
            "metadata": {},
            "name": "region",
            "nullable": true,
            "type": "string"
           },
           {
            "metadata": {},
            "name": "email",
            "nullable": true,
            "type": "string"
           },
           {
            "metadata": {},
            "name": "phone",
            "nullable": true,
            "type": "string"
           }
          ],
          "type": "struct"
         },
         "tableIdentifier": null,
         "typeStr": "pyspark.sql.connect.dataframe.DataFrame"
        }
       ],
       "dbfsResultPath": null,
       "isJsonSchema": true,
       "metadata": {
        "createTempViewForImplicitDf": true,
        "dataframeName": "_sqldf",
        "executionCount": 43
       },
       "overflow": false,
       "plotOptions": {
        "customPlotOptions": {},
        "displayType": "table",
        "pivotAggregation": null,
        "pivotColumns": null,
        "xColumns": null,
        "yColumns": null
       },
       "removedWidgets": [],
       "schema": [
        {
         "metadata": "{}",
         "name": "customer_id",
         "type": "\"integer\""
        },
        {
         "metadata": "{}",
         "name": "customer_name",
         "type": "\"string\""
        },
        {
         "metadata": "{}",
         "name": "region",
         "type": "\"string\""
        },
        {
         "metadata": "{}",
         "name": "email",
         "type": "\"string\""
        },
        {
         "metadata": "{}",
         "name": "phone",
         "type": "\"string\""
        }
       ],
       "type": "table"
      }
     },
     "output_type": "display_data"
    }
   ],
   "source": [
    "SELECT * FROM retail_uc.bronze.customers;"
   ]
  },
  {
   "cell_type": "code",
   "execution_count": 0,
   "metadata": {
    "application/vnd.databricks.v1+cell": {
     "cellMetadata": {
      "byteLimit": 2048000,
      "rowLimit": 10000
     },
     "inputWidgets": {},
     "nuid": "342b3a38-ac6e-4c52-aeb5-332a7e7f6bb9",
     "showTitle": false,
     "tableResultSettingsMap": {},
     "title": ""
    }
   },
   "outputs": [],
   "source": [
    "COMMENT ON TABLE customers IS 'Bronze customers (contains PII).';"
   ]
  },
  {
   "cell_type": "code",
   "execution_count": 0,
   "metadata": {
    "application/vnd.databricks.v1+cell": {
     "cellMetadata": {
      "byteLimit": 2048000,
      "rowLimit": 10000
     },
     "inputWidgets": {},
     "nuid": "5bf018c5-219b-458a-b590-bc313f65cdee",
     "showTitle": false,
     "tableResultSettingsMap": {},
     "title": ""
    }
   },
   "outputs": [],
   "source": [
    "ALTER TABLE customers SET TBLPROPERTIES ('classification'='pii', 'owner_team'='data_stewards');"
   ]
  },
  {
   "cell_type": "markdown",
   "metadata": {
    "application/vnd.databricks.v1+cell": {
     "cellMetadata": {},
     "inputWidgets": {},
     "nuid": "a678e258-020d-4797-a88e-79e09f9d98e2",
     "showTitle": false,
     "tableResultSettingsMap": {},
     "title": ""
    }
   },
   "source": [
    "Transactions "
   ]
  },
  {
   "cell_type": "code",
   "execution_count": 0,
   "metadata": {
    "application/vnd.databricks.v1+cell": {
     "cellMetadata": {
      "byteLimit": 2048000,
      "rowLimit": 10000
     },
     "inputWidgets": {},
     "nuid": "5d649c95-0d5c-4151-8dc8-e8e4875b2c0b",
     "showTitle": false,
     "tableResultSettingsMap": {},
     "title": ""
    }
   },
   "outputs": [],
   "source": [
    "USE CATALOG retail_uc;\n",
    "USE SCHEMA bronze;"
   ]
  },
  {
   "cell_type": "code",
   "execution_count": 0,
   "metadata": {
    "application/vnd.databricks.v1+cell": {
     "cellMetadata": {
      "byteLimit": 2048000,
      "rowLimit": 10000
     },
     "inputWidgets": {},
     "nuid": "f8444f06-b24e-4cf5-8e2d-12f57ceb7d4e",
     "showTitle": false,
     "tableResultSettingsMap": {},
     "title": ""
    }
   },
   "outputs": [
    {
     "output_type": "display_data",
     "data": {
      "text/html": [
       "<style scoped>\n",
       "  .table-result-container {\n",
       "    max-height: 300px;\n",
       "    overflow: auto;\n",
       "  }\n",
       "  table, th, td {\n",
       "    border: 1px solid black;\n",
       "    border-collapse: collapse;\n",
       "  }\n",
       "  th, td {\n",
       "    padding: 5px;\n",
       "  }\n",
       "  th {\n",
       "    text-align: left;\n",
       "  }\n",
       "</style><div class='table-result-container'><table class='table-result'><thead style='background-color: white'><tr><th>num_affected_rows</th><th>num_inserted_rows</th></tr></thead><tbody></tbody></table></div>"
      ]
     },
     "metadata": {
      "application/vnd.databricks.v1+output": {
       "addedWidgets": {},
       "aggData": [],
       "aggError": "",
       "aggOverflow": false,
       "aggSchema": [],
       "aggSeriesLimitReached": false,
       "aggType": "",
       "arguments": {},
       "columnCustomDisplayInfos": {},
       "data": [],
       "datasetInfos": [
        {
         "name": "_sqldf",
         "schema": {
          "fields": [
           {
            "metadata": {},
            "name": "num_affected_rows",
            "nullable": true,
            "type": "long"
           },
           {
            "metadata": {},
            "name": "num_inserted_rows",
            "nullable": true,
            "type": "long"
           }
          ],
          "type": "struct"
         },
         "tableIdentifier": null,
         "typeStr": "pyspark.sql.connect.dataframe.DataFrame"
        }
       ],
       "dbfsResultPath": null,
       "isJsonSchema": true,
       "metadata": {
        "createTempViewForImplicitDf": true,
        "dataframeName": "_sqldf",
        "executionCount": 76
       },
       "overflow": false,
       "plotOptions": {
        "customPlotOptions": {},
        "displayType": "table",
        "pivotAggregation": null,
        "pivotColumns": null,
        "xColumns": null,
        "yColumns": null
       },
       "removedWidgets": [],
       "schema": [
        {
         "metadata": "{}",
         "name": "num_affected_rows",
         "type": "\"long\""
        },
        {
         "metadata": "{}",
         "name": "num_inserted_rows",
         "type": "\"long\""
        }
       ],
       "type": "table"
      }
     },
     "output_type": "display_data"
    }
   ],
   "source": [
    "CREATE OR REPLACE TABLE transactions AS\n",
    "SELECT * FROM VALUES\n",
    "  (101, 1, '2025-08-01',  120.50, 'online',  'APAC'),\n",
    "  (102, 1, '2025-08-02',   75.00, 'store',   'APAC'),\n",
    "  (103, 2, '2025-08-01',  210.00, 'online',  'APAC'),\n",
    "  (104, 3, '2025-08-01',  330.00, 'store',   'EMEA'),\n",
    "  (105, 4, '2025-08-03',   55.90, 'online',  'AMER'),\n",
    "  (106, 5, '2025-08-03',  499.00, 'store',   'APAC')\n",
    "AS t(txn_id, customer_id, txn_date, amount, channel, region);"
   ]
  },
  {
   "cell_type": "code",
   "execution_count": 0,
   "metadata": {
    "application/vnd.databricks.v1+cell": {
     "cellMetadata": {
      "byteLimit": 2048000,
      "rowLimit": 10000
     },
     "inputWidgets": {},
     "nuid": "62af2ec8-04b0-4775-886d-6543d785d5ca",
     "showTitle": false,
     "tableResultSettingsMap": {},
     "title": ""
    }
   },
   "outputs": [
    {
     "output_type": "display_data",
     "data": {
      "text/html": [
       "<style scoped>\n",
       "  .table-result-container {\n",
       "    max-height: 300px;\n",
       "    overflow: auto;\n",
       "  }\n",
       "  table, th, td {\n",
       "    border: 1px solid black;\n",
       "    border-collapse: collapse;\n",
       "  }\n",
       "  th, td {\n",
       "    padding: 5px;\n",
       "  }\n",
       "  th {\n",
       "    text-align: left;\n",
       "  }\n",
       "</style><div class='table-result-container'><table class='table-result'><thead style='background-color: white'><tr><th>customer_id</th><th>customer_name</th><th>region</th><th>email</th><th>phone</th></tr></thead><tbody><tr><td>1</td><td>Asha</td><td>APAC</td><td>asha@example.com</td><td>+91-90000-00001</td></tr><tr><td>2</td><td>Ravi</td><td>APAC</td><td>ravi@example.com</td><td>+91-90000-00002</td></tr><tr><td>3</td><td>Chloe</td><td>EMEA</td><td>chloe@example.co.uk</td><td>+44-7000-000003</td></tr><tr><td>4</td><td>Diego</td><td>AMER</td><td>diego@example.com</td><td>+1-202-000-0004</td></tr><tr><td>5</td><td>Meera</td><td>APAC</td><td>meera@example.com</td><td>+91-90000-00005</td></tr></tbody></table></div>"
      ]
     },
     "metadata": {
      "application/vnd.databricks.v1+output": {
       "addedWidgets": {},
       "aggData": [],
       "aggError": "",
       "aggOverflow": false,
       "aggSchema": [],
       "aggSeriesLimitReached": false,
       "aggType": "",
       "arguments": {},
       "columnCustomDisplayInfos": {},
       "data": [
        [
         1,
         "Asha",
         "APAC",
         "asha@example.com",
         "+91-90000-00001"
        ],
        [
         2,
         "Ravi",
         "APAC",
         "ravi@example.com",
         "+91-90000-00002"
        ],
        [
         3,
         "Chloe",
         "EMEA",
         "chloe@example.co.uk",
         "+44-7000-000003"
        ],
        [
         4,
         "Diego",
         "AMER",
         "diego@example.com",
         "+1-202-000-0004"
        ],
        [
         5,
         "Meera",
         "APAC",
         "meera@example.com",
         "+91-90000-00005"
        ]
       ],
       "datasetInfos": [
        {
         "name": "_sqldf",
         "schema": {
          "fields": [
           {
            "metadata": {},
            "name": "customer_id",
            "nullable": true,
            "type": "integer"
           },
           {
            "metadata": {},
            "name": "customer_name",
            "nullable": true,
            "type": "string"
           },
           {
            "metadata": {},
            "name": "region",
            "nullable": true,
            "type": "string"
           },
           {
            "metadata": {},
            "name": "email",
            "nullable": true,
            "type": "string"
           },
           {
            "metadata": {},
            "name": "phone",
            "nullable": true,
            "type": "string"
           }
          ],
          "type": "struct"
         },
         "tableIdentifier": null,
         "typeStr": "pyspark.sql.connect.dataframe.DataFrame"
        }
       ],
       "dbfsResultPath": null,
       "isJsonSchema": true,
       "metadata": {
        "createTempViewForImplicitDf": true,
        "dataframeName": "_sqldf",
        "executionCount": 68
       },
       "overflow": false,
       "plotOptions": {
        "customPlotOptions": {},
        "displayType": "table",
        "pivotAggregation": null,
        "pivotColumns": null,
        "xColumns": null,
        "yColumns": null
       },
       "removedWidgets": [],
       "schema": [
        {
         "metadata": "{}",
         "name": "customer_id",
         "type": "\"integer\""
        },
        {
         "metadata": "{}",
         "name": "customer_name",
         "type": "\"string\""
        },
        {
         "metadata": "{}",
         "name": "region",
         "type": "\"string\""
        },
        {
         "metadata": "{}",
         "name": "email",
         "type": "\"string\""
        },
        {
         "metadata": "{}",
         "name": "phone",
         "type": "\"string\""
        }
       ],
       "type": "table"
      }
     },
     "output_type": "display_data"
    }
   ],
   "source": [
    "SELECT * FROM retail_uc.bronze.customers;"
   ]
  },
  {
   "cell_type": "code",
   "execution_count": 0,
   "metadata": {
    "application/vnd.databricks.v1+cell": {
     "cellMetadata": {
      "byteLimit": 2048000,
      "rowLimit": 10000
     },
     "inputWidgets": {},
     "nuid": "9dc1a8f7-19ec-4b10-88c0-2bf3f37d72c0",
     "showTitle": false,
     "tableResultSettingsMap": {},
     "title": ""
    }
   },
   "outputs": [
    {
     "output_type": "display_data",
     "data": {
      "text/html": [
       "<style scoped>\n",
       "  .table-result-container {\n",
       "    max-height: 300px;\n",
       "    overflow: auto;\n",
       "  }\n",
       "  table, th, td {\n",
       "    border: 1px solid black;\n",
       "    border-collapse: collapse;\n",
       "  }\n",
       "  th, td {\n",
       "    padding: 5px;\n",
       "  }\n",
       "  th {\n",
       "    text-align: left;\n",
       "  }\n",
       "</style><div class='table-result-container'><table class='table-result'><thead style='background-color: white'><tr><th>txn_id</th><th>customer_id</th><th>txn_date</th><th>amount</th><th>channel</th><th>region</th></tr></thead><tbody><tr><td>101</td><td>1</td><td>2025-08-01</td><td>120.50</td><td>online</td><td>APAC</td></tr><tr><td>102</td><td>1</td><td>2025-08-02</td><td>75.00</td><td>store</td><td>APAC</td></tr><tr><td>103</td><td>2</td><td>2025-08-01</td><td>210.00</td><td>online</td><td>APAC</td></tr><tr><td>104</td><td>3</td><td>2025-08-01</td><td>330.00</td><td>store</td><td>EMEA</td></tr><tr><td>105</td><td>4</td><td>2025-08-03</td><td>55.90</td><td>online</td><td>AMER</td></tr><tr><td>106</td><td>5</td><td>2025-08-03</td><td>499.00</td><td>store</td><td>APAC</td></tr></tbody></table></div>"
      ]
     },
     "metadata": {
      "application/vnd.databricks.v1+output": {
       "addedWidgets": {},
       "aggData": [],
       "aggError": "",
       "aggOverflow": false,
       "aggSchema": [],
       "aggSeriesLimitReached": false,
       "aggType": "",
       "arguments": {},
       "columnCustomDisplayInfos": {},
       "data": [
        [
         101,
         1,
         "2025-08-01",
         "120.50",
         "online",
         "APAC"
        ],
        [
         102,
         1,
         "2025-08-02",
         "75.00",
         "store",
         "APAC"
        ],
        [
         103,
         2,
         "2025-08-01",
         "210.00",
         "online",
         "APAC"
        ],
        [
         104,
         3,
         "2025-08-01",
         "330.00",
         "store",
         "EMEA"
        ],
        [
         105,
         4,
         "2025-08-03",
         "55.90",
         "online",
         "AMER"
        ],
        [
         106,
         5,
         "2025-08-03",
         "499.00",
         "store",
         "APAC"
        ]
       ],
       "datasetInfos": [
        {
         "name": "_sqldf",
         "schema": {
          "fields": [
           {
            "metadata": {},
            "name": "txn_id",
            "nullable": true,
            "type": "integer"
           },
           {
            "metadata": {},
            "name": "customer_id",
            "nullable": true,
            "type": "integer"
           },
           {
            "metadata": {},
            "name": "txn_date",
            "nullable": true,
            "type": "string"
           },
           {
            "metadata": {},
            "name": "amount",
            "nullable": true,
            "type": "decimal(5,2)"
           },
           {
            "metadata": {},
            "name": "channel",
            "nullable": true,
            "type": "string"
           },
           {
            "metadata": {},
            "name": "region",
            "nullable": true,
            "type": "string"
           }
          ],
          "type": "struct"
         },
         "tableIdentifier": null,
         "typeStr": "pyspark.sql.connect.dataframe.DataFrame"
        }
       ],
       "dbfsResultPath": null,
       "isJsonSchema": true,
       "metadata": {
        "createTempViewForImplicitDf": true,
        "dataframeName": "_sqldf",
        "executionCount": 77
       },
       "overflow": false,
       "plotOptions": {
        "customPlotOptions": {},
        "displayType": "table",
        "pivotAggregation": null,
        "pivotColumns": null,
        "xColumns": null,
        "yColumns": null
       },
       "removedWidgets": [],
       "schema": [
        {
         "metadata": "{}",
         "name": "txn_id",
         "type": "\"integer\""
        },
        {
         "metadata": "{}",
         "name": "customer_id",
         "type": "\"integer\""
        },
        {
         "metadata": "{}",
         "name": "txn_date",
         "type": "\"string\""
        },
        {
         "metadata": "{}",
         "name": "amount",
         "type": "\"decimal(5,2)\""
        },
        {
         "metadata": "{}",
         "name": "channel",
         "type": "\"string\""
        },
        {
         "metadata": "{}",
         "name": "region",
         "type": "\"string\""
        }
       ],
       "type": "table"
      }
     },
     "output_type": "display_data"
    }
   ],
   "source": [
    "SELECT * FROM retail_uc.bronze.transactions;"
   ]
  },
  {
   "cell_type": "code",
   "execution_count": 0,
   "metadata": {
    "application/vnd.databricks.v1+cell": {
     "cellMetadata": {
      "byteLimit": 2048000,
      "rowLimit": 10000
     },
     "inputWidgets": {},
     "nuid": "b6378f6f-3fbe-4e10-bf91-9e1189ac50c4",
     "showTitle": false,
     "tableResultSettingsMap": {},
     "title": ""
    }
   },
   "outputs": [],
   "source": [
    "COMMENT ON TABLE transactions IS 'Bronze transactions.';"
   ]
  },
  {
   "cell_type": "code",
   "execution_count": 0,
   "metadata": {
    "application/vnd.databricks.v1+cell": {
     "cellMetadata": {
      "byteLimit": 2048000,
      "rowLimit": 10000
     },
     "inputWidgets": {},
     "nuid": "ac3a5741-d78e-4fbc-bef3-42ecf3cbe561",
     "showTitle": false,
     "tableResultSettingsMap": {},
     "title": ""
    }
   },
   "outputs": [],
   "source": [
    "ALTER TABLE transactions SET TBLPROPERTIES ('quality'='raw');"
   ]
  },
  {
   "cell_type": "markdown",
   "metadata": {
    "application/vnd.databricks.v1+cell": {
     "cellMetadata": {},
     "inputWidgets": {},
     "nuid": "2a79c09f-312a-4e89-bb0c-443a4c42bc16",
     "showTitle": false,
     "tableResultSettingsMap": {},
     "title": ""
    }
   },
   "source": [
    "Quality constraint example (no negative amounts)"
   ]
  },
  {
   "cell_type": "code",
   "execution_count": 0,
   "metadata": {
    "application/vnd.databricks.v1+cell": {
     "cellMetadata": {
      "byteLimit": 2048000,
      "rowLimit": 10000
     },
     "inputWidgets": {},
     "nuid": "4dd88ef5-5da2-4e06-a355-45b082da51fc",
     "showTitle": false,
     "tableResultSettingsMap": {},
     "title": ""
    }
   },
   "outputs": [],
   "source": [
    "ALTER TABLE transactions ADD CONSTRAINT chk_amount_nonneg CHECK (amount >= 0);"
   ]
  },
  {
   "cell_type": "code",
   "execution_count": 0,
   "metadata": {
    "application/vnd.databricks.v1+cell": {
     "cellMetadata": {
      "byteLimit": 2048000,
      "rowLimit": 10000
     },
     "inputWidgets": {},
     "nuid": "78865654-b995-4aca-9842-aa593a75e331",
     "showTitle": false,
     "tableResultSettingsMap": {},
     "title": ""
    }
   },
   "outputs": [],
   "source": [
    "GRANT SELECT ON TABLE customers   TO `ragavivenugopal123@gmail.com`;\n",
    "GRANT SELECT ON TABLE transactions TO `ragavivenugopal123@gmail.com`; \n",
    "GRANT MODIFY ON TABLE transactions TO `ragavivenugopal123@gmail.com`;"
   ]
  },
  {
   "cell_type": "markdown",
   "metadata": {
    "application/vnd.databricks.v1+cell": {
     "cellMetadata": {},
     "inputWidgets": {},
     "nuid": "9dba63de-7791-4eab-bbec-d19c60d05422",
     "showTitle": false,
     "tableResultSettingsMap": {},
     "title": ""
    }
   },
   "source": [
    "Curate to Silver (cleansed/denormalized)"
   ]
  },
  {
   "cell_type": "code",
   "execution_count": 0,
   "metadata": {
    "application/vnd.databricks.v1+cell": {
     "cellMetadata": {
      "byteLimit": 2048000,
      "rowLimit": 10000
     },
     "inputWidgets": {},
     "nuid": "1ae1021b-594b-434e-94a3-6f4cc1a8896f",
     "showTitle": false,
     "tableResultSettingsMap": {},
     "title": ""
    }
   },
   "outputs": [],
   "source": [
    "USE CATALOG retail_uc;\n",
    "USE SCHEMA bronze;"
   ]
  },
  {
   "cell_type": "code",
   "execution_count": 0,
   "metadata": {
    "application/vnd.databricks.v1+cell": {
     "cellMetadata": {
      "byteLimit": 2048000,
      "rowLimit": 10000
     },
     "inputWidgets": {},
     "nuid": "fdb9b663-6187-4628-9e34-b92252380d46",
     "showTitle": false,
     "tableResultSettingsMap": {},
     "title": ""
    }
   },
   "outputs": [
    {
     "output_type": "display_data",
     "data": {
      "text/html": [
       "<style scoped>\n",
       "  .table-result-container {\n",
       "    max-height: 300px;\n",
       "    overflow: auto;\n",
       "  }\n",
       "  table, th, td {\n",
       "    border: 1px solid black;\n",
       "    border-collapse: collapse;\n",
       "  }\n",
       "  th, td {\n",
       "    padding: 5px;\n",
       "  }\n",
       "  th {\n",
       "    text-align: left;\n",
       "  }\n",
       "</style><div class='table-result-container'><table class='table-result'><thead style='background-color: white'><tr><th>current_catalog()</th><th>current_schema()</th></tr></thead><tbody><tr><td>retail_uc</td><td>silver</td></tr></tbody></table></div>"
      ]
     },
     "metadata": {
      "application/vnd.databricks.v1+output": {
       "addedWidgets": {},
       "aggData": [],
       "aggError": "",
       "aggOverflow": false,
       "aggSchema": [],
       "aggSeriesLimitReached": false,
       "aggType": "",
       "arguments": {},
       "columnCustomDisplayInfos": {},
       "data": [
        [
         "retail_uc",
         "silver"
        ]
       ],
       "datasetInfos": [
        {
         "name": "_sqldf",
         "schema": {
          "fields": [
           {
            "metadata": {},
            "name": "current_catalog()",
            "nullable": false,
            "type": "string"
           },
           {
            "metadata": {},
            "name": "current_schema()",
            "nullable": false,
            "type": "string"
           }
          ],
          "type": "struct"
         },
         "tableIdentifier": null,
         "typeStr": "pyspark.sql.connect.dataframe.DataFrame"
        }
       ],
       "dbfsResultPath": null,
       "isJsonSchema": true,
       "metadata": {
        "createTempViewForImplicitDf": true,
        "dataframeName": "_sqldf",
        "executionCount": 57
       },
       "overflow": false,
       "plotOptions": {
        "customPlotOptions": {},
        "displayType": "table",
        "pivotAggregation": null,
        "pivotColumns": null,
        "xColumns": null,
        "yColumns": null
       },
       "removedWidgets": [],
       "schema": [
        {
         "metadata": "{}",
         "name": "current_catalog()",
         "type": "\"string\""
        },
        {
         "metadata": "{}",
         "name": "current_schema()",
         "type": "\"string\""
        }
       ],
       "type": "table"
      }
     },
     "output_type": "display_data"
    }
   ],
   "source": [
    "SELECT current_catalog(), current_schema();"
   ]
  },
  {
   "cell_type": "code",
   "execution_count": 0,
   "metadata": {
    "application/vnd.databricks.v1+cell": {
     "cellMetadata": {
      "byteLimit": 2048000,
      "rowLimit": 10000
     },
     "inputWidgets": {},
     "nuid": "0fa277f3-c94c-4bbd-ba97-f5421d808e48",
     "showTitle": false,
     "tableResultSettingsMap": {},
     "title": ""
    }
   },
   "outputs": [
    {
     "output_type": "display_data",
     "data": {
      "text/html": [
       "<style scoped>\n",
       "  .table-result-container {\n",
       "    max-height: 300px;\n",
       "    overflow: auto;\n",
       "  }\n",
       "  table, th, td {\n",
       "    border: 1px solid black;\n",
       "    border-collapse: collapse;\n",
       "  }\n",
       "  th, td {\n",
       "    padding: 5px;\n",
       "  }\n",
       "  th {\n",
       "    text-align: left;\n",
       "  }\n",
       "</style><div class='table-result-container'><table class='table-result'><thead style='background-color: white'><tr><th>catalog</th></tr></thead><tbody><tr><td>retail_uc</td></tr><tr><td>samples</td></tr><tr><td>system</td></tr><tr><td>workspace</td></tr></tbody></table></div>"
      ]
     },
     "metadata": {
      "application/vnd.databricks.v1+output": {
       "addedWidgets": {},
       "aggData": [],
       "aggError": "",
       "aggOverflow": false,
       "aggSchema": [],
       "aggSeriesLimitReached": false,
       "aggType": "",
       "arguments": {},
       "columnCustomDisplayInfos": {},
       "data": [
        [
         "retail_uc"
        ],
        [
         "samples"
        ],
        [
         "system"
        ],
        [
         "workspace"
        ]
       ],
       "datasetInfos": [
        {
         "name": "_sqldf",
         "schema": {
          "fields": [
           {
            "metadata": {},
            "name": "catalog",
            "nullable": false,
            "type": "string"
           }
          ],
          "type": "struct"
         },
         "tableIdentifier": null,
         "typeStr": "pyspark.sql.connect.dataframe.DataFrame"
        }
       ],
       "dbfsResultPath": null,
       "isJsonSchema": true,
       "metadata": {
        "createTempViewForImplicitDf": true,
        "dataframeName": "_sqldf",
        "executionCount": 24
       },
       "overflow": false,
       "plotOptions": {
        "customPlotOptions": {},
        "displayType": "table",
        "pivotAggregation": null,
        "pivotColumns": null,
        "xColumns": null,
        "yColumns": null
       },
       "removedWidgets": [],
       "schema": [
        {
         "metadata": "{}",
         "name": "catalog",
         "type": "\"string\""
        }
       ],
       "type": "table"
      }
     },
     "output_type": "display_data"
    }
   ],
   "source": [
    "SHOW CATALOGS;"
   ]
  },
  {
   "cell_type": "code",
   "execution_count": 0,
   "metadata": {
    "application/vnd.databricks.v1+cell": {
     "cellMetadata": {
      "byteLimit": 2048000,
      "rowLimit": 10000
     },
     "inputWidgets": {},
     "nuid": "a553dd00-4084-4ded-94e5-13ff987393cd",
     "showTitle": false,
     "tableResultSettingsMap": {},
     "title": ""
    }
   },
   "outputs": [
    {
     "output_type": "display_data",
     "data": {
      "text/html": [
       "<style scoped>\n",
       "  .table-result-container {\n",
       "    max-height: 300px;\n",
       "    overflow: auto;\n",
       "  }\n",
       "  table, th, td {\n",
       "    border: 1px solid black;\n",
       "    border-collapse: collapse;\n",
       "  }\n",
       "  th, td {\n",
       "    padding: 5px;\n",
       "  }\n",
       "  th {\n",
       "    text-align: left;\n",
       "  }\n",
       "</style><div class='table-result-container'><table class='table-result'><thead style='background-color: white'><tr><th>databaseName</th></tr></thead><tbody><tr><td>bronze</td></tr><tr><td>default</td></tr><tr><td>gold</td></tr><tr><td>information_schema</td></tr><tr><td>secure</td></tr><tr><td>silver</td></tr></tbody></table></div>"
      ]
     },
     "metadata": {
      "application/vnd.databricks.v1+output": {
       "addedWidgets": {},
       "aggData": [],
       "aggError": "",
       "aggOverflow": false,
       "aggSchema": [],
       "aggSeriesLimitReached": false,
       "aggType": "",
       "arguments": {},
       "columnCustomDisplayInfos": {},
       "data": [
        [
         "bronze"
        ],
        [
         "default"
        ],
        [
         "gold"
        ],
        [
         "information_schema"
        ],
        [
         "secure"
        ],
        [
         "silver"
        ]
       ],
       "datasetInfos": [
        {
         "name": "_sqldf",
         "schema": {
          "fields": [
           {
            "metadata": {},
            "name": "databaseName",
            "nullable": false,
            "type": "string"
           }
          ],
          "type": "struct"
         },
         "tableIdentifier": null,
         "typeStr": "pyspark.sql.connect.dataframe.DataFrame"
        }
       ],
       "dbfsResultPath": null,
       "isJsonSchema": true,
       "metadata": {
        "createTempViewForImplicitDf": true,
        "dataframeName": "_sqldf",
        "executionCount": 25
       },
       "overflow": false,
       "plotOptions": {
        "customPlotOptions": {},
        "displayType": "table",
        "pivotAggregation": null,
        "pivotColumns": null,
        "xColumns": null,
        "yColumns": null
       },
       "removedWidgets": [],
       "schema": [
        {
         "metadata": "{}",
         "name": "databaseName",
         "type": "\"string\""
        }
       ],
       "type": "table"
      }
     },
     "output_type": "display_data"
    }
   ],
   "source": [
    "SHOW SCHEMAS IN retail_uc;"
   ]
  },
  {
   "cell_type": "code",
   "execution_count": 0,
   "metadata": {
    "application/vnd.databricks.v1+cell": {
     "cellMetadata": {
      "byteLimit": 2048000,
      "rowLimit": 10000
     },
     "inputWidgets": {},
     "nuid": "b554045a-4124-4e07-9cfa-24316014a2fe",
     "showTitle": false,
     "tableResultSettingsMap": {},
     "title": ""
    }
   },
   "outputs": [
    {
     "output_type": "display_data",
     "data": {
      "text/html": [
       "<style scoped>\n",
       "  .table-result-container {\n",
       "    max-height: 300px;\n",
       "    overflow: auto;\n",
       "  }\n",
       "  table, th, td {\n",
       "    border: 1px solid black;\n",
       "    border-collapse: collapse;\n",
       "  }\n",
       "  th, td {\n",
       "    padding: 5px;\n",
       "  }\n",
       "  th {\n",
       "    text-align: left;\n",
       "  }\n",
       "</style><div class='table-result-container'><table class='table-result'><thead style='background-color: white'><tr><th>database</th><th>tableName</th><th>isTemporary</th></tr></thead><tbody><tr><td>bronze</td><td>transactions</td><td>false</td></tr><tr><td></td><td>_sqldf</td><td>true</td></tr></tbody></table></div>"
      ]
     },
     "metadata": {
      "application/vnd.databricks.v1+output": {
       "addedWidgets": {},
       "aggData": [],
       "aggError": "",
       "aggOverflow": false,
       "aggSchema": [],
       "aggSeriesLimitReached": false,
       "aggType": "",
       "arguments": {},
       "columnCustomDisplayInfos": {},
       "data": [
        [
         "bronze",
         "transactions",
         false
        ],
        [
         "",
         "_sqldf",
         true
        ]
       ],
       "datasetInfos": [
        {
         "name": "_sqldf",
         "schema": {
          "fields": [
           {
            "metadata": {},
            "name": "database",
            "nullable": false,
            "type": "string"
           },
           {
            "metadata": {},
            "name": "tableName",
            "nullable": false,
            "type": "string"
           },
           {
            "metadata": {},
            "name": "isTemporary",
            "nullable": false,
            "type": "boolean"
           }
          ],
          "type": "struct"
         },
         "tableIdentifier": null,
         "typeStr": "pyspark.sql.connect.dataframe.DataFrame"
        }
       ],
       "dbfsResultPath": null,
       "isJsonSchema": true,
       "metadata": {
        "createTempViewForImplicitDf": true,
        "dataframeName": "_sqldf",
        "executionCount": 29
       },
       "overflow": false,
       "plotOptions": {
        "customPlotOptions": {},
        "displayType": "table",
        "pivotAggregation": null,
        "pivotColumns": null,
        "xColumns": null,
        "yColumns": null
       },
       "removedWidgets": [],
       "schema": [
        {
         "metadata": "{}",
         "name": "database",
         "type": "\"string\""
        },
        {
         "metadata": "{}",
         "name": "tableName",
         "type": "\"string\""
        },
        {
         "metadata": "{}",
         "name": "isTemporary",
         "type": "\"boolean\""
        }
       ],
       "type": "table"
      }
     },
     "output_type": "display_data"
    }
   ],
   "source": [
    "SHOW TABLES IN retail_uc.bronze;"
   ]
  },
  {
   "cell_type": "code",
   "execution_count": 0,
   "metadata": {
    "application/vnd.databricks.v1+cell": {
     "cellMetadata": {
      "byteLimit": 2048000,
      "rowLimit": 10000
     },
     "inputWidgets": {},
     "nuid": "59892b4b-c143-45b9-988c-b598ecc671a1",
     "showTitle": false,
     "tableResultSettingsMap": {},
     "title": ""
    }
   },
   "outputs": [],
   "source": [
    "USE CATALOG retail_uc;\n",
    "USE SCHEMA silver;"
   ]
  },
  {
   "cell_type": "code",
   "execution_count": 0,
   "metadata": {
    "application/vnd.databricks.v1+cell": {
     "cellMetadata": {
      "byteLimit": 2048000,
      "rowLimit": 10000
     },
     "inputWidgets": {},
     "nuid": "5373ddf5-0430-4635-bbb3-82a6ebc5516e",
     "showTitle": false,
     "tableResultSettingsMap": {},
     "title": ""
    }
   },
   "outputs": [
    {
     "output_type": "display_data",
     "data": {
      "text/html": [
       "<style scoped>\n",
       "  .table-result-container {\n",
       "    max-height: 300px;\n",
       "    overflow: auto;\n",
       "  }\n",
       "  table, th, td {\n",
       "    border: 1px solid black;\n",
       "    border-collapse: collapse;\n",
       "  }\n",
       "  th, td {\n",
       "    padding: 5px;\n",
       "  }\n",
       "  th {\n",
       "    text-align: left;\n",
       "  }\n",
       "</style><div class='table-result-container'><table class='table-result'><thead style='background-color: white'><tr><th>num_affected_rows</th><th>num_inserted_rows</th></tr></thead><tbody></tbody></table></div>"
      ]
     },
     "metadata": {
      "application/vnd.databricks.v1+output": {
       "addedWidgets": {},
       "aggData": [],
       "aggError": "",
       "aggOverflow": false,
       "aggSchema": [],
       "aggSeriesLimitReached": false,
       "aggType": "",
       "arguments": {},
       "columnCustomDisplayInfos": {},
       "data": [],
       "datasetInfos": [
        {
         "name": "_sqldf",
         "schema": {
          "fields": [
           {
            "metadata": {},
            "name": "num_affected_rows",
            "nullable": true,
            "type": "long"
           },
           {
            "metadata": {},
            "name": "num_inserted_rows",
            "nullable": true,
            "type": "long"
           }
          ],
          "type": "struct"
         },
         "tableIdentifier": null,
         "typeStr": "pyspark.sql.connect.dataframe.DataFrame"
        }
       ],
       "dbfsResultPath": null,
       "isJsonSchema": true,
       "metadata": {
        "createTempViewForImplicitDf": true,
        "dataframeName": "_sqldf",
        "executionCount": 91
       },
       "overflow": false,
       "plotOptions": {
        "customPlotOptions": {},
        "displayType": "table",
        "pivotAggregation": null,
        "pivotColumns": null,
        "xColumns": null,
        "yColumns": null
       },
       "removedWidgets": [],
       "schema": [
        {
         "metadata": "{}",
         "name": "num_affected_rows",
         "type": "\"long\""
        },
        {
         "metadata": "{}",
         "name": "num_inserted_rows",
         "type": "\"long\""
        }
       ],
       "type": "table"
      }
     },
     "output_type": "display_data"
    }
   ],
   "source": [
    "CREATE OR REPLACE TABLE sales AS\n",
    "SELECT\n",
    "  t.txn_id,\n",
    "  t.txn_date,\n",
    "  t.amount,\n",
    "  t.channel,\n",
    "  t.region,\n",
    "  c.customer_id,\n",
    "  c.customer_name\n",
    "FROM retail_uc.bronze.transactions t\n",
    "JOIN retail_uc.bronze.customers c\n",
    "  ON c.customer_id = t.customer_id;"
   ]
  },
  {
   "cell_type": "code",
   "execution_count": 0,
   "metadata": {
    "application/vnd.databricks.v1+cell": {
     "cellMetadata": {
      "byteLimit": 2048000,
      "rowLimit": 10000
     },
     "inputWidgets": {},
     "nuid": "f5c5fcbc-54c7-425a-9445-6050fdc34dd8",
     "showTitle": false,
     "tableResultSettingsMap": {},
     "title": ""
    }
   },
   "outputs": [
    {
     "output_type": "display_data",
     "data": {
      "text/html": [
       "<style scoped>\n",
       "  .table-result-container {\n",
       "    max-height: 300px;\n",
       "    overflow: auto;\n",
       "  }\n",
       "  table, th, td {\n",
       "    border: 1px solid black;\n",
       "    border-collapse: collapse;\n",
       "  }\n",
       "  th, td {\n",
       "    padding: 5px;\n",
       "  }\n",
       "  th {\n",
       "    text-align: left;\n",
       "  }\n",
       "</style><div class='table-result-container'><table class='table-result'><thead style='background-color: white'><tr><th>current_catalog()</th><th>current_schema()</th></tr></thead><tbody><tr><td>retail_uc</td><td>silver</td></tr></tbody></table></div>"
      ]
     },
     "metadata": {
      "application/vnd.databricks.v1+output": {
       "addedWidgets": {},
       "aggData": [],
       "aggError": "",
       "aggOverflow": false,
       "aggSchema": [],
       "aggSeriesLimitReached": false,
       "aggType": "",
       "arguments": {},
       "columnCustomDisplayInfos": {},
       "data": [
        [
         "retail_uc",
         "silver"
        ]
       ],
       "datasetInfos": [
        {
         "name": "_sqldf",
         "schema": {
          "fields": [
           {
            "metadata": {},
            "name": "current_catalog()",
            "nullable": false,
            "type": "string"
           },
           {
            "metadata": {},
            "name": "current_schema()",
            "nullable": false,
            "type": "string"
           }
          ],
          "type": "struct"
         },
         "tableIdentifier": null,
         "typeStr": "pyspark.sql.connect.dataframe.DataFrame"
        }
       ],
       "dbfsResultPath": null,
       "isJsonSchema": true,
       "metadata": {
        "createTempViewForImplicitDf": true,
        "dataframeName": "_sqldf",
        "executionCount": 62
       },
       "overflow": false,
       "plotOptions": {
        "customPlotOptions": {},
        "displayType": "table",
        "pivotAggregation": null,
        "pivotColumns": null,
        "xColumns": null,
        "yColumns": null
       },
       "removedWidgets": [],
       "schema": [
        {
         "metadata": "{}",
         "name": "current_catalog()",
         "type": "\"string\""
        },
        {
         "metadata": "{}",
         "name": "current_schema()",
         "type": "\"string\""
        }
       ],
       "type": "table"
      }
     },
     "output_type": "display_data"
    }
   ],
   "source": [
    "SELECT current_catalog(), current_schema();\n"
   ]
  },
  {
   "cell_type": "code",
   "execution_count": 0,
   "metadata": {
    "application/vnd.databricks.v1+cell": {
     "cellMetadata": {
      "byteLimit": 2048000,
      "rowLimit": 10000
     },
     "inputWidgets": {},
     "nuid": "3e5b57d9-ea1e-4854-b3c7-1bf1aba82948",
     "showTitle": false,
     "tableResultSettingsMap": {},
     "title": ""
    }
   },
   "outputs": [
    {
     "output_type": "display_data",
     "data": {
      "text/html": [
       "<style scoped>\n",
       "  .table-result-container {\n",
       "    max-height: 300px;\n",
       "    overflow: auto;\n",
       "  }\n",
       "  table, th, td {\n",
       "    border: 1px solid black;\n",
       "    border-collapse: collapse;\n",
       "  }\n",
       "  th, td {\n",
       "    padding: 5px;\n",
       "  }\n",
       "  th {\n",
       "    text-align: left;\n",
       "  }\n",
       "</style><div class='table-result-container'><table class='table-result'><thead style='background-color: white'><tr><th>database</th><th>tableName</th><th>isTemporary</th></tr></thead><tbody><tr><td>bronze</td><td>customers</td><td>false</td></tr><tr><td></td><td>_sqldf</td><td>true</td></tr></tbody></table></div>"
      ]
     },
     "metadata": {
      "application/vnd.databricks.v1+output": {
       "addedWidgets": {},
       "aggData": [],
       "aggError": "",
       "aggOverflow": false,
       "aggSchema": [],
       "aggSeriesLimitReached": false,
       "aggType": "",
       "arguments": {},
       "columnCustomDisplayInfos": {},
       "data": [
        [
         "bronze",
         "customers",
         false
        ],
        [
         "",
         "_sqldf",
         true
        ]
       ],
       "datasetInfos": [
        {
         "name": "_sqldf",
         "schema": {
          "fields": [
           {
            "metadata": {},
            "name": "database",
            "nullable": false,
            "type": "string"
           },
           {
            "metadata": {},
            "name": "tableName",
            "nullable": false,
            "type": "string"
           },
           {
            "metadata": {},
            "name": "isTemporary",
            "nullable": false,
            "type": "boolean"
           }
          ],
          "type": "struct"
         },
         "tableIdentifier": null,
         "typeStr": "pyspark.sql.connect.dataframe.DataFrame"
        }
       ],
       "dbfsResultPath": null,
       "isJsonSchema": true,
       "metadata": {
        "createTempViewForImplicitDf": true,
        "dataframeName": "_sqldf",
        "executionCount": 66
       },
       "overflow": false,
       "plotOptions": {
        "customPlotOptions": {},
        "displayType": "table",
        "pivotAggregation": null,
        "pivotColumns": null,
        "xColumns": null,
        "yColumns": null
       },
       "removedWidgets": [],
       "schema": [
        {
         "metadata": "{}",
         "name": "database",
         "type": "\"string\""
        },
        {
         "metadata": "{}",
         "name": "tableName",
         "type": "\"string\""
        },
        {
         "metadata": "{}",
         "name": "isTemporary",
         "type": "\"boolean\""
        }
       ],
       "type": "table"
      }
     },
     "output_type": "display_data"
    }
   ],
   "source": [
    "SHOW TABLES IN retail_uc.bronze;\n"
   ]
  },
  {
   "cell_type": "code",
   "execution_count": 0,
   "metadata": {
    "application/vnd.databricks.v1+cell": {
     "cellMetadata": {
      "byteLimit": 2048000,
      "rowLimit": 10000
     },
     "inputWidgets": {},
     "nuid": "299f842a-1638-4fd9-91db-b0d645e127ae",
     "showTitle": false,
     "tableResultSettingsMap": {},
     "title": ""
    }
   },
   "outputs": [],
   "source": [
    "\n",
    "COMMENT ON TABLE sales IS 'Silver: joined and cleaned transactions with customer names.';"
   ]
  },
  {
   "cell_type": "markdown",
   "metadata": {
    "application/vnd.databricks.v1+cell": {
     "cellMetadata": {},
     "inputWidgets": {},
     "nuid": "0ef96712-27a7-48bb-9542-27db2d0726f4",
     "showTitle": false,
     "tableResultSettingsMap": {},
     "title": ""
    }
   },
   "source": [
    "Aggregate to Gold (business-ready marts)"
   ]
  },
  {
   "cell_type": "code",
   "execution_count": 0,
   "metadata": {
    "application/vnd.databricks.v1+cell": {
     "cellMetadata": {
      "byteLimit": 2048000,
      "rowLimit": 10000
     },
     "inputWidgets": {},
     "nuid": "66bfa578-d4d5-465e-a451-b1a188881de4",
     "showTitle": false,
     "tableResultSettingsMap": {},
     "title": ""
    }
   },
   "outputs": [],
   "source": [
    "USE CATALOG retail_uc;\n",
    "USE SCHEMA gold;"
   ]
  },
  {
   "cell_type": "markdown",
   "metadata": {
    "application/vnd.databricks.v1+cell": {
     "cellMetadata": {},
     "inputWidgets": {},
     "nuid": "f47cdd87-1f5d-47b7-b890-cf16dee31dc4",
     "showTitle": false,
     "tableResultSettingsMap": {},
     "title": ""
    }
   },
   "source": [
    "Daily totals"
   ]
  },
  {
   "cell_type": "code",
   "execution_count": 0,
   "metadata": {
    "application/vnd.databricks.v1+cell": {
     "cellMetadata": {
      "byteLimit": 2048000,
      "rowLimit": 10000
     },
     "inputWidgets": {},
     "nuid": "ee5c415f-4a9c-40b7-887f-3386c51a9135",
     "showTitle": false,
     "tableResultSettingsMap": {},
     "title": ""
    }
   },
   "outputs": [
    {
     "output_type": "display_data",
     "data": {
      "text/html": [
       "<style scoped>\n",
       "  .table-result-container {\n",
       "    max-height: 300px;\n",
       "    overflow: auto;\n",
       "  }\n",
       "  table, th, td {\n",
       "    border: 1px solid black;\n",
       "    border-collapse: collapse;\n",
       "  }\n",
       "  th, td {\n",
       "    padding: 5px;\n",
       "  }\n",
       "  th {\n",
       "    text-align: left;\n",
       "  }\n",
       "</style><div class='table-result-container'><table class='table-result'><thead style='background-color: white'><tr><th>num_affected_rows</th><th>num_inserted_rows</th></tr></thead><tbody></tbody></table></div>"
      ]
     },
     "metadata": {
      "application/vnd.databricks.v1+output": {
       "addedWidgets": {},
       "aggData": [],
       "aggError": "",
       "aggOverflow": false,
       "aggSchema": [],
       "aggSeriesLimitReached": false,
       "aggType": "",
       "arguments": {},
       "columnCustomDisplayInfos": {},
       "data": [],
       "datasetInfos": [
        {
         "name": "_sqldf",
         "schema": {
          "fields": [
           {
            "metadata": {},
            "name": "num_affected_rows",
            "nullable": true,
            "type": "long"
           },
           {
            "metadata": {},
            "name": "num_inserted_rows",
            "nullable": true,
            "type": "long"
           }
          ],
          "type": "struct"
         },
         "tableIdentifier": null,
         "typeStr": "pyspark.sql.connect.dataframe.DataFrame"
        }
       ],
       "dbfsResultPath": null,
       "isJsonSchema": true,
       "metadata": {
        "createTempViewForImplicitDf": true,
        "dataframeName": "_sqldf",
        "executionCount": 93
       },
       "overflow": false,
       "plotOptions": {
        "customPlotOptions": {},
        "displayType": "table",
        "pivotAggregation": null,
        "pivotColumns": null,
        "xColumns": null,
        "yColumns": null
       },
       "removedWidgets": [],
       "schema": [
        {
         "metadata": "{}",
         "name": "num_affected_rows",
         "type": "\"long\""
        },
        {
         "metadata": "{}",
         "name": "num_inserted_rows",
         "type": "\"long\""
        }
       ],
       "type": "table"
      }
     },
     "output_type": "display_data"
    }
   ],
   "source": [
    "CREATE OR REPLACE TABLE daily_sales AS\n",
    "SELECT\n",
    "  DATE(txn_date) AS date,\n",
    "  SUM(amount)    AS total_amount,\n",
    "  COUNT(*)       AS txn_count\n",
    "FROM retail_uc.silver.sales\n",
    "GROUP BY DATE(txn_date);"
   ]
  },
  {
   "cell_type": "code",
   "execution_count": 0,
   "metadata": {
    "application/vnd.databricks.v1+cell": {
     "cellMetadata": {
      "byteLimit": 2048000,
      "rowLimit": 10000
     },
     "inputWidgets": {},
     "nuid": "15ffadea-1819-423e-af1e-8f08446a5e59",
     "showTitle": false,
     "tableResultSettingsMap": {},
     "title": ""
    }
   },
   "outputs": [],
   "source": [
    "COMMENT ON TABLE daily_sales IS 'Gold: daily rollups';"
   ]
  },
  {
   "cell_type": "markdown",
   "metadata": {
    "application/vnd.databricks.v1+cell": {
     "cellMetadata": {},
     "inputWidgets": {},
     "nuid": "ef6f30a0-1d99-4073-a35d-42bf872e7645",
     "showTitle": false,
     "tableResultSettingsMap": {},
     "title": ""
    }
   },
   "source": [
    "Region KPI"
   ]
  },
  {
   "cell_type": "code",
   "execution_count": 0,
   "metadata": {
    "application/vnd.databricks.v1+cell": {
     "cellMetadata": {
      "byteLimit": 2048000,
      "rowLimit": 10000
     },
     "inputWidgets": {},
     "nuid": "05d6ed95-3ace-4835-8323-f97053308f58",
     "showTitle": false,
     "tableResultSettingsMap": {},
     "title": ""
    }
   },
   "outputs": [
    {
     "output_type": "display_data",
     "data": {
      "text/html": [
       "<style scoped>\n",
       "  .table-result-container {\n",
       "    max-height: 300px;\n",
       "    overflow: auto;\n",
       "  }\n",
       "  table, th, td {\n",
       "    border: 1px solid black;\n",
       "    border-collapse: collapse;\n",
       "  }\n",
       "  th, td {\n",
       "    padding: 5px;\n",
       "  }\n",
       "  th {\n",
       "    text-align: left;\n",
       "  }\n",
       "</style><div class='table-result-container'><table class='table-result'><thead style='background-color: white'><tr><th>num_affected_rows</th><th>num_inserted_rows</th></tr></thead><tbody></tbody></table></div>"
      ]
     },
     "metadata": {
      "application/vnd.databricks.v1+output": {
       "addedWidgets": {},
       "aggData": [],
       "aggError": "",
       "aggOverflow": false,
       "aggSchema": [],
       "aggSeriesLimitReached": false,
       "aggType": "",
       "arguments": {},
       "columnCustomDisplayInfos": {},
       "data": [],
       "datasetInfos": [
        {
         "name": "_sqldf",
         "schema": {
          "fields": [
           {
            "metadata": {},
            "name": "num_affected_rows",
            "nullable": true,
            "type": "long"
           },
           {
            "metadata": {},
            "name": "num_inserted_rows",
            "nullable": true,
            "type": "long"
           }
          ],
          "type": "struct"
         },
         "tableIdentifier": null,
         "typeStr": "pyspark.sql.connect.dataframe.DataFrame"
        }
       ],
       "dbfsResultPath": null,
       "isJsonSchema": true,
       "metadata": {
        "createTempViewForImplicitDf": true,
        "dataframeName": "_sqldf",
        "executionCount": 96
       },
       "overflow": false,
       "plotOptions": {
        "customPlotOptions": {},
        "displayType": "table",
        "pivotAggregation": null,
        "pivotColumns": null,
        "xColumns": null,
        "yColumns": null
       },
       "removedWidgets": [],
       "schema": [
        {
         "metadata": "{}",
         "name": "num_affected_rows",
         "type": "\"long\""
        },
        {
         "metadata": "{}",
         "name": "num_inserted_rows",
         "type": "\"long\""
        }
       ],
       "type": "table"
      }
     },
     "output_type": "display_data"
    }
   ],
   "source": [
    "CREATE OR REPLACE TABLE region_kpis AS\n",
    "SELECT\n",
    "  region,\n",
    "  SUM(amount)         AS total_amount,\n",
    "  AVG(amount)         AS avg_ticket,\n",
    "  COUNT(DISTINCT customer_id) AS unique_customers\n",
    "FROM retail_uc.silver.sales\n",
    "GROUP BY region;"
   ]
  },
  {
   "cell_type": "code",
   "execution_count": 0,
   "metadata": {
    "application/vnd.databricks.v1+cell": {
     "cellMetadata": {
      "byteLimit": 2048000,
      "rowLimit": 10000
     },
     "inputWidgets": {},
     "nuid": "1788995c-2964-4068-95c2-6af12486b6df",
     "showTitle": false,
     "tableResultSettingsMap": {},
     "title": ""
    }
   },
   "outputs": [],
   "source": [
    "COMMENT ON TABLE region_kpis IS 'Gold: region-level KPIs';"
   ]
  },
  {
   "cell_type": "markdown",
   "metadata": {
    "application/vnd.databricks.v1+cell": {
     "cellMetadata": {},
     "inputWidgets": {},
     "nuid": "e45d2d18-81dd-4213-b2d0-8c49e3d044a7",
     "showTitle": false,
     "tableResultSettingsMap": {},
     "title": ""
    }
   },
   "source": [
    "Data masking & row-level security (Secure schema)"
   ]
  },
  {
   "cell_type": "code",
   "execution_count": 0,
   "metadata": {
    "application/vnd.databricks.v1+cell": {
     "cellMetadata": {
      "byteLimit": 2048000,
      "rowLimit": 10000
     },
     "inputWidgets": {},
     "nuid": "07aa0857-0a8c-49b6-9317-c01fe369e926",
     "showTitle": false,
     "tableResultSettingsMap": {},
     "title": ""
    }
   },
   "outputs": [],
   "source": [
    "USE CATALOG retail_uc;\n",
    "USE SCHEMA secure;"
   ]
  },
  {
   "cell_type": "markdown",
   "metadata": {
    "application/vnd.databricks.v1+cell": {
     "cellMetadata": {},
     "inputWidgets": {},
     "nuid": "b5f8b3e0-97f9-4e80-9db8-3a7c1590aba4",
     "showTitle": false,
     "tableResultSettingsMap": {},
     "title": ""
    }
   },
   "source": [
    "Column masking dynamic view"
   ]
  },
  {
   "cell_type": "code",
   "execution_count": 0,
   "metadata": {
    "application/vnd.databricks.v1+cell": {
     "cellMetadata": {
      "byteLimit": 2048000,
      "rowLimit": 10000
     },
     "inputWidgets": {},
     "nuid": "5660a184-5278-4a70-8407-28d94142cde1",
     "showTitle": false,
     "tableResultSettingsMap": {},
     "title": ""
    }
   },
   "outputs": [],
   "source": [
    "CREATE OR REPLACE VIEW customers_masked AS\n",
    "SELECT\n",
    "  customer_id,\n",
    "  customer_name,\n",
    "  region,\n",
    "  CASE\n",
    "    WHEN is_account_group_member('data_stewards') OR is_account_group_member('data_scientists')\n",
    "      THEN email\n",
    "    ELSE 'REDACTED'\n",
    "  END AS email,\n",
    "  CASE\n",
    "    WHEN is_account_group_member('data_stewards') OR is_account_group_member('data_scientists')\n",
    "      THEN phone\n",
    "    ELSE 'REDACTED'\n",
    "  END AS phone\n",
    "FROM retail_uc.bronze.customers;"
   ]
  },
  {
   "cell_type": "code",
   "execution_count": 0,
   "metadata": {
    "application/vnd.databricks.v1+cell": {
     "cellMetadata": {
      "byteLimit": 2048000,
      "rowLimit": 10000
     },
     "inputWidgets": {},
     "nuid": "be42114c-5d31-438e-9064-06baad69eddd",
     "showTitle": false,
     "tableResultSettingsMap": {},
     "title": ""
    }
   },
   "outputs": [],
   "source": [
    "COMMENT ON VIEW customers_masked IS 'Masks PII for non-privileged users';"
   ]
  },
  {
   "cell_type": "markdown",
   "metadata": {
    "application/vnd.databricks.v1+cell": {
     "cellMetadata": {},
     "inputWidgets": {},
     "nuid": "29906797-6ab0-41a0-93a8-8ba6cb11ccca",
     "showTitle": false,
     "tableResultSettingsMap": {},
     "title": ""
    }
   },
   "source": [
    "Row-level security dynamic view on sales"
   ]
  },
  {
   "cell_type": "code",
   "execution_count": 0,
   "metadata": {
    "application/vnd.databricks.v1+cell": {
     "cellMetadata": {
      "byteLimit": 2048000,
      "rowLimit": 10000
     },
     "inputWidgets": {},
     "nuid": "c4d13de7-9fe2-4ac7-9d72-23bd203c534b",
     "showTitle": false,
     "tableResultSettingsMap": {},
     "title": ""
    }
   },
   "outputs": [],
   "source": [
    "CREATE OR REPLACE VIEW sales_rls AS\n",
    "SELECT *\n",
    "FROM retail_uc.silver.sales\n",
    "WHERE\n",
    "  -- Admins and stewards see all\n",
    "  is_account_group_member('data_stewards')\n",
    "  OR\n",
    "  -- APAC analysts see APAC rows, EMEA → EMEA, AMER → AMER\n",
    "  (is_account_group_member('analysts') AND region IN (\n",
    "      CASE\n",
    "        WHEN is_account_group_member('region_apac') THEN 'APAC'\n",
    "        WHEN is_account_group_member('region_emea') THEN 'EMEA'\n",
    "        WHEN is_account_group_member('region_amer') THEN 'AMER'\n",
    "      END\n",
    "  ))\n",
    "  OR\n",
    "  -- Data scientists see all regions\n",
    "  is_account_group_member('data_scientists');"
   ]
  },
  {
   "cell_type": "code",
   "execution_count": 0,
   "metadata": {
    "application/vnd.databricks.v1+cell": {
     "cellMetadata": {
      "byteLimit": 2048000,
      "rowLimit": 10000
     },
     "inputWidgets": {},
     "nuid": "c97daf71-a7bb-490f-8ddc-de20c0598fdb",
     "showTitle": false,
     "tableResultSettingsMap": {},
     "title": ""
    }
   },
   "outputs": [],
   "source": [
    "COMMENT ON VIEW sales_rls IS 'Row-level security by region using account groups';"
   ]
  },
  {
   "cell_type": "markdown",
   "metadata": {
    "application/vnd.databricks.v1+cell": {
     "cellMetadata": {},
     "inputWidgets": {},
     "nuid": "09f38778-3e00-42d1-a5a1-164b5b3d6699",
     "showTitle": false,
     "tableResultSettingsMap": {},
     "title": ""
    }
   },
   "source": [
    "Lineage (create a fresh derived asset)"
   ]
  },
  {
   "cell_type": "code",
   "execution_count": 0,
   "metadata": {
    "application/vnd.databricks.v1+cell": {
     "cellMetadata": {
      "byteLimit": 2048000,
      "rowLimit": 10000
     },
     "inputWidgets": {},
     "nuid": "df1d3e42-1527-400c-8c4c-0701240b509f",
     "showTitle": false,
     "tableResultSettingsMap": {},
     "title": ""
    }
   },
   "outputs": [],
   "source": [
    "USE CATALOG retail_uc;\n",
    "USE SCHEMA gold;"
   ]
  },
  {
   "cell_type": "code",
   "execution_count": 0,
   "metadata": {
    "application/vnd.databricks.v1+cell": {
     "cellMetadata": {
      "byteLimit": 2048000,
      "rowLimit": 10000
     },
     "inputWidgets": {},
     "nuid": "b6bf2df3-b038-4dd1-a0ca-9e30020243f7",
     "showTitle": false,
     "tableResultSettingsMap": {},
     "title": ""
    }
   },
   "outputs": [
    {
     "output_type": "display_data",
     "data": {
      "text/html": [
       "<style scoped>\n",
       "  .table-result-container {\n",
       "    max-height: 300px;\n",
       "    overflow: auto;\n",
       "  }\n",
       "  table, th, td {\n",
       "    border: 1px solid black;\n",
       "    border-collapse: collapse;\n",
       "  }\n",
       "  th, td {\n",
       "    padding: 5px;\n",
       "  }\n",
       "  th {\n",
       "    text-align: left;\n",
       "  }\n",
       "</style><div class='table-result-container'><table class='table-result'><thead style='background-color: white'><tr><th>num_affected_rows</th><th>num_inserted_rows</th></tr></thead><tbody></tbody></table></div>"
      ]
     },
     "metadata": {
      "application/vnd.databricks.v1+output": {
       "addedWidgets": {},
       "aggData": [],
       "aggError": "",
       "aggOverflow": false,
       "aggSchema": [],
       "aggSeriesLimitReached": false,
       "aggType": "",
       "arguments": {},
       "columnCustomDisplayInfos": {},
       "data": [],
       "datasetInfos": [
        {
         "name": "_sqldf",
         "schema": {
          "fields": [
           {
            "metadata": {},
            "name": "num_affected_rows",
            "nullable": true,
            "type": "long"
           },
           {
            "metadata": {},
            "name": "num_inserted_rows",
            "nullable": true,
            "type": "long"
           }
          ],
          "type": "struct"
         },
         "tableIdentifier": null,
         "typeStr": "pyspark.sql.connect.dataframe.DataFrame"
        }
       ],
       "dbfsResultPath": null,
       "isJsonSchema": true,
       "metadata": {
        "createTempViewForImplicitDf": true,
        "dataframeName": "_sqldf",
        "executionCount": 108
       },
       "overflow": false,
       "plotOptions": {
        "customPlotOptions": {},
        "displayType": "table",
        "pivotAggregation": null,
        "pivotColumns": null,
        "xColumns": null,
        "yColumns": null
       },
       "removedWidgets": [],
       "schema": [
        {
         "metadata": "{}",
         "name": "num_affected_rows",
         "type": "\"long\""
        },
        {
         "metadata": "{}",
         "name": "num_inserted_rows",
         "type": "\"long\""
        }
       ],
       "type": "table"
      }
     },
     "output_type": "display_data"
    }
   ],
   "source": [
    "CREATE OR REPLACE TABLE top_customers AS\n",
    "SELECT\n",
    "  customer_id,\n",
    "  customer_name,\n",
    "  SUM(amount) AS lifetime_value\n",
    "FROM retail_uc.silver.sales\n",
    "GROUP BY customer_id, customer_name\n",
    "ORDER BY lifetime_value DESC;"
   ]
  },
  {
   "cell_type": "code",
   "execution_count": 0,
   "metadata": {
    "application/vnd.databricks.v1+cell": {
     "cellMetadata": {
      "byteLimit": 2048000,
      "rowLimit": 10000
     },
     "inputWidgets": {},
     "nuid": "92878dcd-0178-433c-8151-5ea5572a2bbe",
     "showTitle": false,
     "tableResultSettingsMap": {},
     "title": ""
    }
   },
   "outputs": [],
   "source": [
    "COMMENT ON TABLE top_customers IS 'Gold: top customers by LTV';"
   ]
  },
  {
   "cell_type": "markdown",
   "metadata": {
    "application/vnd.databricks.v1+cell": {
     "cellMetadata": {},
     "inputWidgets": {},
     "nuid": "4d32b1ac-cd0f-4244-9867-3a00c648dc5b",
     "showTitle": false,
     "tableResultSettingsMap": {},
     "title": ""
    }
   },
   "source": [
    "Discovery & audit examples (INFORMATION_SCHEMA)"
   ]
  },
  {
   "cell_type": "markdown",
   "metadata": {
    "application/vnd.databricks.v1+cell": {
     "cellMetadata": {},
     "inputWidgets": {},
     "nuid": "afb18186-fae5-46f4-b28c-5e431dfe5e4a",
     "showTitle": false,
     "tableResultSettingsMap": {},
     "title": ""
    }
   },
   "source": [
    "List all tables in the catalog"
   ]
  },
  {
   "cell_type": "code",
   "execution_count": 0,
   "metadata": {
    "application/vnd.databricks.v1+cell": {
     "cellMetadata": {
      "byteLimit": 2048000,
      "rowLimit": 10000
     },
     "inputWidgets": {},
     "nuid": "d05e8e68-bdd0-4087-85d1-12069f2ee648",
     "showTitle": false,
     "tableResultSettingsMap": {},
     "title": ""
    }
   },
   "outputs": [
    {
     "output_type": "display_data",
     "data": {
      "text/html": [
       "<style scoped>\n",
       "  .table-result-container {\n",
       "    max-height: 300px;\n",
       "    overflow: auto;\n",
       "  }\n",
       "  table, th, td {\n",
       "    border: 1px solid black;\n",
       "    border-collapse: collapse;\n",
       "  }\n",
       "  th, td {\n",
       "    padding: 5px;\n",
       "  }\n",
       "  th {\n",
       "    text-align: left;\n",
       "  }\n",
       "</style><div class='table-result-container'><table class='table-result'><thead style='background-color: white'><tr><th>table_catalog</th><th>table_schema</th><th>table_name</th><th>table_type</th></tr></thead><tbody><tr><td>retail_uc</td><td>bronze</td><td>customers</td><td>MANAGED</td></tr><tr><td>retail_uc</td><td>bronze</td><td>sales</td><td>MANAGED</td></tr><tr><td>retail_uc</td><td>bronze</td><td>transactions</td><td>MANAGED</td></tr><tr><td>retail_uc</td><td>gold</td><td>daily_sales</td><td>MANAGED</td></tr><tr><td>retail_uc</td><td>gold</td><td>region_kpis</td><td>MANAGED</td></tr><tr><td>retail_uc</td><td>gold</td><td>top_customers</td><td>MANAGED</td></tr><tr><td>retail_uc</td><td>information_schema</td><td>catalog_privileges</td><td>VIEW</td></tr><tr><td>retail_uc</td><td>information_schema</td><td>catalog_tags</td><td>VIEW</td></tr><tr><td>retail_uc</td><td>information_schema</td><td>catalogs</td><td>VIEW</td></tr><tr><td>retail_uc</td><td>information_schema</td><td>check_constraints</td><td>VIEW</td></tr><tr><td>retail_uc</td><td>information_schema</td><td>column_masks</td><td>VIEW</td></tr><tr><td>retail_uc</td><td>information_schema</td><td>column_tags</td><td>VIEW</td></tr><tr><td>retail_uc</td><td>information_schema</td><td>columns</td><td>VIEW</td></tr><tr><td>retail_uc</td><td>information_schema</td><td>constraint_column_usage</td><td>VIEW</td></tr><tr><td>retail_uc</td><td>information_schema</td><td>constraint_table_usage</td><td>VIEW</td></tr><tr><td>retail_uc</td><td>information_schema</td><td>information_schema_catalog_name</td><td>VIEW</td></tr><tr><td>retail_uc</td><td>information_schema</td><td>key_column_usage</td><td>VIEW</td></tr><tr><td>retail_uc</td><td>information_schema</td><td>parameters</td><td>VIEW</td></tr><tr><td>retail_uc</td><td>information_schema</td><td>referential_constraints</td><td>VIEW</td></tr><tr><td>retail_uc</td><td>information_schema</td><td>routine_columns</td><td>VIEW</td></tr><tr><td>retail_uc</td><td>information_schema</td><td>routine_privileges</td><td>VIEW</td></tr><tr><td>retail_uc</td><td>information_schema</td><td>routines</td><td>VIEW</td></tr><tr><td>retail_uc</td><td>information_schema</td><td>row_filters</td><td>VIEW</td></tr><tr><td>retail_uc</td><td>information_schema</td><td>schema_privileges</td><td>VIEW</td></tr><tr><td>retail_uc</td><td>information_schema</td><td>schema_tags</td><td>VIEW</td></tr><tr><td>retail_uc</td><td>information_schema</td><td>schemata</td><td>VIEW</td></tr><tr><td>retail_uc</td><td>information_schema</td><td>table_constraints</td><td>VIEW</td></tr><tr><td>retail_uc</td><td>information_schema</td><td>table_privileges</td><td>VIEW</td></tr><tr><td>retail_uc</td><td>information_schema</td><td>table_tags</td><td>VIEW</td></tr><tr><td>retail_uc</td><td>information_schema</td><td>tables</td><td>VIEW</td></tr><tr><td>retail_uc</td><td>information_schema</td><td>views</td><td>VIEW</td></tr><tr><td>retail_uc</td><td>information_schema</td><td>volume_privileges</td><td>VIEW</td></tr><tr><td>retail_uc</td><td>information_schema</td><td>volume_tags</td><td>VIEW</td></tr><tr><td>retail_uc</td><td>information_schema</td><td>volumes</td><td>VIEW</td></tr><tr><td>retail_uc</td><td>secure</td><td>customers_masked</td><td>VIEW</td></tr><tr><td>retail_uc</td><td>secure</td><td>sales_rls</td><td>VIEW</td></tr><tr><td>retail_uc</td><td>silver</td><td>sales</td><td>MANAGED</td></tr><tr><td>retail_uc</td><td>silver</td><td>transactions</td><td>MANAGED</td></tr></tbody></table></div>"
      ]
     },
     "metadata": {
      "application/vnd.databricks.v1+output": {
       "addedWidgets": {},
       "aggData": [],
       "aggError": "",
       "aggOverflow": false,
       "aggSchema": [],
       "aggSeriesLimitReached": false,
       "aggType": "",
       "arguments": {},
       "columnCustomDisplayInfos": {},
       "data": [
        [
         "retail_uc",
         "bronze",
         "customers",
         "MANAGED"
        ],
        [
         "retail_uc",
         "bronze",
         "sales",
         "MANAGED"
        ],
        [
         "retail_uc",
         "bronze",
         "transactions",
         "MANAGED"
        ],
        [
         "retail_uc",
         "gold",
         "daily_sales",
         "MANAGED"
        ],
        [
         "retail_uc",
         "gold",
         "region_kpis",
         "MANAGED"
        ],
        [
         "retail_uc",
         "gold",
         "top_customers",
         "MANAGED"
        ],
        [
         "retail_uc",
         "information_schema",
         "catalog_privileges",
         "VIEW"
        ],
        [
         "retail_uc",
         "information_schema",
         "catalog_tags",
         "VIEW"
        ],
        [
         "retail_uc",
         "information_schema",
         "catalogs",
         "VIEW"
        ],
        [
         "retail_uc",
         "information_schema",
         "check_constraints",
         "VIEW"
        ],
        [
         "retail_uc",
         "information_schema",
         "column_masks",
         "VIEW"
        ],
        [
         "retail_uc",
         "information_schema",
         "column_tags",
         "VIEW"
        ],
        [
         "retail_uc",
         "information_schema",
         "columns",
         "VIEW"
        ],
        [
         "retail_uc",
         "information_schema",
         "constraint_column_usage",
         "VIEW"
        ],
        [
         "retail_uc",
         "information_schema",
         "constraint_table_usage",
         "VIEW"
        ],
        [
         "retail_uc",
         "information_schema",
         "information_schema_catalog_name",
         "VIEW"
        ],
        [
         "retail_uc",
         "information_schema",
         "key_column_usage",
         "VIEW"
        ],
        [
         "retail_uc",
         "information_schema",
         "parameters",
         "VIEW"
        ],
        [
         "retail_uc",
         "information_schema",
         "referential_constraints",
         "VIEW"
        ],
        [
         "retail_uc",
         "information_schema",
         "routine_columns",
         "VIEW"
        ],
        [
         "retail_uc",
         "information_schema",
         "routine_privileges",
         "VIEW"
        ],
        [
         "retail_uc",
         "information_schema",
         "routines",
         "VIEW"
        ],
        [
         "retail_uc",
         "information_schema",
         "row_filters",
         "VIEW"
        ],
        [
         "retail_uc",
         "information_schema",
         "schema_privileges",
         "VIEW"
        ],
        [
         "retail_uc",
         "information_schema",
         "schema_tags",
         "VIEW"
        ],
        [
         "retail_uc",
         "information_schema",
         "schemata",
         "VIEW"
        ],
        [
         "retail_uc",
         "information_schema",
         "table_constraints",
         "VIEW"
        ],
        [
         "retail_uc",
         "information_schema",
         "table_privileges",
         "VIEW"
        ],
        [
         "retail_uc",
         "information_schema",
         "table_tags",
         "VIEW"
        ],
        [
         "retail_uc",
         "information_schema",
         "tables",
         "VIEW"
        ],
        [
         "retail_uc",
         "information_schema",
         "views",
         "VIEW"
        ],
        [
         "retail_uc",
         "information_schema",
         "volume_privileges",
         "VIEW"
        ],
        [
         "retail_uc",
         "information_schema",
         "volume_tags",
         "VIEW"
        ],
        [
         "retail_uc",
         "information_schema",
         "volumes",
         "VIEW"
        ],
        [
         "retail_uc",
         "secure",
         "customers_masked",
         "VIEW"
        ],
        [
         "retail_uc",
         "secure",
         "sales_rls",
         "VIEW"
        ],
        [
         "retail_uc",
         "silver",
         "sales",
         "MANAGED"
        ],
        [
         "retail_uc",
         "silver",
         "transactions",
         "MANAGED"
        ]
       ],
       "datasetInfos": [
        {
         "name": "_sqldf",
         "schema": {
          "fields": [
           {
            "metadata": {
             "comment": "Catalog that contains the relation."
            },
            "name": "table_catalog",
            "nullable": false,
            "type": "string"
           },
           {
            "metadata": {
             "comment": "Schema that contains the relation."
            },
            "name": "table_schema",
            "nullable": false,
            "type": "string"
           },
           {
            "metadata": {
             "comment": "Name of the relation."
            },
            "name": "table_name",
            "nullable": false,
            "type": "string"
           },
           {
            "metadata": {
             "comment": "Type of the table such as 'MANAGED', 'FOREIGN', 'VIEW', etc."
            },
            "name": "table_type",
            "nullable": false,
            "type": "string"
           }
          ],
          "type": "struct"
         },
         "tableIdentifier": null,
         "typeStr": "pyspark.sql.connect.dataframe.DataFrame"
        }
       ],
       "dbfsResultPath": null,
       "isJsonSchema": true,
       "metadata": {
        "createTempViewForImplicitDf": true,
        "dataframeName": "_sqldf",
        "executionCount": 112
       },
       "overflow": false,
       "plotOptions": {
        "customPlotOptions": {},
        "displayType": "table",
        "pivotAggregation": null,
        "pivotColumns": null,
        "xColumns": null,
        "yColumns": null
       },
       "removedWidgets": [],
       "schema": [
        {
         "metadata": "{\"comment\": \"Catalog that contains the relation.\"}",
         "name": "table_catalog",
         "type": "\"string\""
        },
        {
         "metadata": "{\"comment\": \"Schema that contains the relation.\"}",
         "name": "table_schema",
         "type": "\"string\""
        },
        {
         "metadata": "{\"comment\": \"Name of the relation.\"}",
         "name": "table_name",
         "type": "\"string\""
        },
        {
         "metadata": "{\"comment\": \"Type of the table such as 'MANAGED', 'FOREIGN', 'VIEW', etc.\"}",
         "name": "table_type",
         "type": "\"string\""
        }
       ],
       "type": "table"
      }
     },
     "output_type": "display_data"
    }
   ],
   "source": [
    "SELECT table_catalog, table_schema, table_name, table_type\n",
    "FROM retail_uc.INFORMATION_SCHEMA.TABLES\n",
    "ORDER BY table_schema, table_name;"
   ]
  },
  {
   "cell_type": "markdown",
   "metadata": {
    "application/vnd.databricks.v1+cell": {
     "cellMetadata": {},
     "inputWidgets": {},
     "nuid": "854c12db-e162-4eb1-9d76-8c8252ad1376",
     "showTitle": false,
     "tableResultSettingsMap": {},
     "title": ""
    }
   },
   "source": [
    "See column definitions"
   ]
  },
  {
   "cell_type": "code",
   "execution_count": 0,
   "metadata": {
    "application/vnd.databricks.v1+cell": {
     "cellMetadata": {
      "byteLimit": 2048000,
      "rowLimit": 10000
     },
     "inputWidgets": {},
     "nuid": "c074a2da-a5ba-4a97-847e-8d47f723d1d4",
     "showTitle": false,
     "tableResultSettingsMap": {},
     "title": ""
    }
   },
   "outputs": [
    {
     "output_type": "display_data",
     "data": {
      "text/html": [
       "<style scoped>\n",
       "  .table-result-container {\n",
       "    max-height: 300px;\n",
       "    overflow: auto;\n",
       "  }\n",
       "  table, th, td {\n",
       "    border: 1px solid black;\n",
       "    border-collapse: collapse;\n",
       "  }\n",
       "  th, td {\n",
       "    padding: 5px;\n",
       "  }\n",
       "  th {\n",
       "    text-align: left;\n",
       "  }\n",
       "</style><div class='table-result-container'><table class='table-result'><thead style='background-color: white'><tr><th>table_schema</th><th>table_name</th><th>column_name</th><th>data_type</th></tr></thead><tbody><tr><td>bronze</td><td>customers</td><td>customer_id</td><td>INT</td></tr><tr><td>bronze</td><td>customers</td><td>customer_name</td><td>STRING</td></tr><tr><td>bronze</td><td>customers</td><td>region</td><td>STRING</td></tr><tr><td>bronze</td><td>customers</td><td>email</td><td>STRING</td></tr><tr><td>bronze</td><td>customers</td><td>phone</td><td>STRING</td></tr><tr><td>bronze</td><td>sales</td><td>txn_id</td><td>INT</td></tr><tr><td>bronze</td><td>sales</td><td>txn_date</td><td>STRING</td></tr><tr><td>bronze</td><td>sales</td><td>amount</td><td>DECIMAL</td></tr><tr><td>bronze</td><td>sales</td><td>channel</td><td>STRING</td></tr><tr><td>bronze</td><td>sales</td><td>region</td><td>STRING</td></tr><tr><td>bronze</td><td>sales</td><td>customer_id</td><td>INT</td></tr><tr><td>bronze</td><td>sales</td><td>customer_name</td><td>STRING</td></tr><tr><td>bronze</td><td>transactions</td><td>txn_id</td><td>INT</td></tr><tr><td>bronze</td><td>transactions</td><td>customer_id</td><td>INT</td></tr><tr><td>bronze</td><td>transactions</td><td>txn_date</td><td>STRING</td></tr><tr><td>bronze</td><td>transactions</td><td>amount</td><td>DECIMAL</td></tr><tr><td>bronze</td><td>transactions</td><td>channel</td><td>STRING</td></tr><tr><td>bronze</td><td>transactions</td><td>region</td><td>STRING</td></tr><tr><td>gold</td><td>daily_sales</td><td>date</td><td>DATE</td></tr><tr><td>gold</td><td>daily_sales</td><td>total_amount</td><td>DECIMAL</td></tr><tr><td>gold</td><td>daily_sales</td><td>txn_count</td><td>LONG</td></tr><tr><td>gold</td><td>region_kpis</td><td>region</td><td>STRING</td></tr><tr><td>gold</td><td>region_kpis</td><td>total_amount</td><td>DECIMAL</td></tr><tr><td>gold</td><td>region_kpis</td><td>avg_ticket</td><td>DECIMAL</td></tr><tr><td>gold</td><td>region_kpis</td><td>unique_customers</td><td>LONG</td></tr><tr><td>gold</td><td>top_customers</td><td>customer_id</td><td>INT</td></tr><tr><td>gold</td><td>top_customers</td><td>customer_name</td><td>STRING</td></tr><tr><td>gold</td><td>top_customers</td><td>lifetime_value</td><td>DECIMAL</td></tr><tr><td>information_schema</td><td>catalog_privileges</td><td>grantor</td><td>STRING</td></tr><tr><td>information_schema</td><td>catalog_privileges</td><td>grantee</td><td>STRING</td></tr><tr><td>information_schema</td><td>catalog_privileges</td><td>catalog_name</td><td>STRING</td></tr><tr><td>information_schema</td><td>catalog_privileges</td><td>privilege_type</td><td>STRING</td></tr><tr><td>information_schema</td><td>catalog_privileges</td><td>is_grantable</td><td>STRING</td></tr><tr><td>information_schema</td><td>catalog_privileges</td><td>inherited_from</td><td>STRING</td></tr><tr><td>information_schema</td><td>catalog_tags</td><td>catalog_name</td><td>STRING</td></tr><tr><td>information_schema</td><td>catalog_tags</td><td>tag_name</td><td>STRING</td></tr><tr><td>information_schema</td><td>catalog_tags</td><td>tag_value</td><td>STRING</td></tr><tr><td>information_schema</td><td>catalogs</td><td>catalog_name</td><td>STRING</td></tr><tr><td>information_schema</td><td>catalogs</td><td>catalog_owner</td><td>STRING</td></tr><tr><td>information_schema</td><td>catalogs</td><td>comment</td><td>STRING</td></tr><tr><td>information_schema</td><td>catalogs</td><td>created</td><td>TIMESTAMP</td></tr><tr><td>information_schema</td><td>catalogs</td><td>created_by</td><td>STRING</td></tr><tr><td>information_schema</td><td>catalogs</td><td>last_altered</td><td>TIMESTAMP</td></tr><tr><td>information_schema</td><td>catalogs</td><td>last_altered_by</td><td>STRING</td></tr><tr><td>information_schema</td><td>catalogs</td><td>url</td><td>STRING</td></tr><tr><td>information_schema</td><td>catalogs</td><td>custom_max_retention_hours</td><td>LONG</td></tr><tr><td>information_schema</td><td>check_constraints</td><td>constraint_catalog</td><td>STRING</td></tr><tr><td>information_schema</td><td>check_constraints</td><td>constraint_schema</td><td>STRING</td></tr><tr><td>information_schema</td><td>check_constraints</td><td>constraint_name</td><td>STRING</td></tr><tr><td>information_schema</td><td>check_constraints</td><td>check_clause</td><td>STRING</td></tr><tr><td>information_schema</td><td>check_constraints</td><td>sql_path</td><td>STRING</td></tr><tr><td>information_schema</td><td>check_constraints</td><td>comment</td><td>STRING</td></tr><tr><td>information_schema</td><td>column_masks</td><td>table_catalog</td><td>STRING</td></tr><tr><td>information_schema</td><td>column_masks</td><td>table_schema</td><td>STRING</td></tr><tr><td>information_schema</td><td>column_masks</td><td>table_name</td><td>STRING</td></tr><tr><td>information_schema</td><td>column_masks</td><td>column_name</td><td>STRING</td></tr><tr><td>information_schema</td><td>column_masks</td><td>mask_name</td><td>STRING</td></tr><tr><td>information_schema</td><td>column_masks</td><td>using_columns</td><td>STRING</td></tr><tr><td>information_schema</td><td>column_tags</td><td>catalog_name</td><td>STRING</td></tr><tr><td>information_schema</td><td>column_tags</td><td>schema_name</td><td>STRING</td></tr><tr><td>information_schema</td><td>column_tags</td><td>table_name</td><td>STRING</td></tr><tr><td>information_schema</td><td>column_tags</td><td>column_name</td><td>STRING</td></tr><tr><td>information_schema</td><td>column_tags</td><td>tag_name</td><td>STRING</td></tr><tr><td>information_schema</td><td>column_tags</td><td>tag_value</td><td>STRING</td></tr><tr><td>information_schema</td><td>columns</td><td>table_catalog</td><td>STRING</td></tr><tr><td>information_schema</td><td>columns</td><td>table_schema</td><td>STRING</td></tr><tr><td>information_schema</td><td>columns</td><td>table_name</td><td>STRING</td></tr><tr><td>information_schema</td><td>columns</td><td>column_name</td><td>STRING</td></tr><tr><td>information_schema</td><td>columns</td><td>ordinal_position</td><td>INT</td></tr><tr><td>information_schema</td><td>columns</td><td>column_default</td><td>STRING</td></tr><tr><td>information_schema</td><td>columns</td><td>is_nullable</td><td>STRING</td></tr><tr><td>information_schema</td><td>columns</td><td>full_data_type</td><td>STRING</td></tr><tr><td>information_schema</td><td>columns</td><td>data_type</td><td>STRING</td></tr><tr><td>information_schema</td><td>columns</td><td>character_maximum_length</td><td>LONG</td></tr><tr><td>information_schema</td><td>columns</td><td>character_octet_length</td><td>LONG</td></tr><tr><td>information_schema</td><td>columns</td><td>numeric_precision</td><td>INT</td></tr><tr><td>information_schema</td><td>columns</td><td>numeric_precision_radix</td><td>INT</td></tr><tr><td>information_schema</td><td>columns</td><td>numeric_scale</td><td>INT</td></tr><tr><td>information_schema</td><td>columns</td><td>datetime_precision</td><td>INT</td></tr><tr><td>information_schema</td><td>columns</td><td>interval_type</td><td>STRING</td></tr><tr><td>information_schema</td><td>columns</td><td>interval_precision</td><td>INT</td></tr><tr><td>information_schema</td><td>columns</td><td>maximum_cardinality</td><td>LONG</td></tr><tr><td>information_schema</td><td>columns</td><td>is_identity</td><td>STRING</td></tr><tr><td>information_schema</td><td>columns</td><td>identity_generation</td><td>STRING</td></tr><tr><td>information_schema</td><td>columns</td><td>identity_start</td><td>STRING</td></tr><tr><td>information_schema</td><td>columns</td><td>identity_increment</td><td>STRING</td></tr><tr><td>information_schema</td><td>columns</td><td>identity_maximum</td><td>STRING</td></tr><tr><td>information_schema</td><td>columns</td><td>identity_minimum</td><td>STRING</td></tr><tr><td>information_schema</td><td>columns</td><td>identity_cycle</td><td>STRING</td></tr><tr><td>information_schema</td><td>columns</td><td>is_generated</td><td>STRING</td></tr><tr><td>information_schema</td><td>columns</td><td>generation_expression</td><td>STRING</td></tr><tr><td>information_schema</td><td>columns</td><td>is_system_time_period_start</td><td>STRING</td></tr><tr><td>information_schema</td><td>columns</td><td>is_system_time_period_end</td><td>STRING</td></tr><tr><td>information_schema</td><td>columns</td><td>system_time_period_timestamp_generation</td><td>STRING</td></tr><tr><td>information_schema</td><td>columns</td><td>is_updatable</td><td>STRING</td></tr><tr><td>information_schema</td><td>columns</td><td>partition_index</td><td>INT</td></tr><tr><td>information_schema</td><td>columns</td><td>comment</td><td>STRING</td></tr><tr><td>information_schema</td><td>constraint_column_usage</td><td>table_catalog</td><td>STRING</td></tr><tr><td>information_schema</td><td>constraint_column_usage</td><td>table_schema</td><td>STRING</td></tr><tr><td>information_schema</td><td>constraint_column_usage</td><td>table_name</td><td>STRING</td></tr><tr><td>information_schema</td><td>constraint_column_usage</td><td>column_name</td><td>STRING</td></tr><tr><td>information_schema</td><td>constraint_column_usage</td><td>constraint_catalog</td><td>STRING</td></tr><tr><td>information_schema</td><td>constraint_column_usage</td><td>constraint_schema</td><td>STRING</td></tr><tr><td>information_schema</td><td>constraint_column_usage</td><td>constraint_name</td><td>STRING</td></tr><tr><td>information_schema</td><td>constraint_table_usage</td><td>table_catalog</td><td>STRING</td></tr><tr><td>information_schema</td><td>constraint_table_usage</td><td>table_schema</td><td>STRING</td></tr><tr><td>information_schema</td><td>constraint_table_usage</td><td>table_name</td><td>STRING</td></tr><tr><td>information_schema</td><td>constraint_table_usage</td><td>constraint_catalog</td><td>STRING</td></tr><tr><td>information_schema</td><td>constraint_table_usage</td><td>constraint_schema</td><td>STRING</td></tr><tr><td>information_schema</td><td>constraint_table_usage</td><td>constraint_name</td><td>STRING</td></tr><tr><td>information_schema</td><td>information_schema_catalog_name</td><td>catalog_name</td><td>STRING</td></tr><tr><td>information_schema</td><td>key_column_usage</td><td>constraint_catalog</td><td>STRING</td></tr><tr><td>information_schema</td><td>key_column_usage</td><td>constraint_schema</td><td>STRING</td></tr><tr><td>information_schema</td><td>key_column_usage</td><td>constraint_name</td><td>STRING</td></tr><tr><td>information_schema</td><td>key_column_usage</td><td>table_catalog</td><td>STRING</td></tr><tr><td>information_schema</td><td>key_column_usage</td><td>table_schema</td><td>STRING</td></tr><tr><td>information_schema</td><td>key_column_usage</td><td>table_name</td><td>STRING</td></tr><tr><td>information_schema</td><td>key_column_usage</td><td>column_name</td><td>STRING</td></tr><tr><td>information_schema</td><td>key_column_usage</td><td>ordinal_position</td><td>INT</td></tr><tr><td>information_schema</td><td>key_column_usage</td><td>position_in_unique_constraint</td><td>INT</td></tr><tr><td>information_schema</td><td>parameters</td><td>specific_catalog</td><td>STRING</td></tr><tr><td>information_schema</td><td>parameters</td><td>specific_schema</td><td>STRING</td></tr><tr><td>information_schema</td><td>parameters</td><td>specific_name</td><td>STRING</td></tr><tr><td>information_schema</td><td>parameters</td><td>ordinal_position</td><td>INT</td></tr><tr><td>information_schema</td><td>parameters</td><td>parameter_mode</td><td>STRING</td></tr><tr><td>information_schema</td><td>parameters</td><td>is_result</td><td>STRING</td></tr><tr><td>information_schema</td><td>parameters</td><td>as_locator</td><td>STRING</td></tr><tr><td>information_schema</td><td>parameters</td><td>parameter_name</td><td>STRING</td></tr><tr><td>information_schema</td><td>parameters</td><td>data_type</td><td>STRING</td></tr><tr><td>information_schema</td><td>parameters</td><td>full_data_type</td><td>STRING</td></tr><tr><td>information_schema</td><td>parameters</td><td>character_maximum_length</td><td>LONG</td></tr><tr><td>information_schema</td><td>parameters</td><td>character_octet_length</td><td>LONG</td></tr><tr><td>information_schema</td><td>parameters</td><td>numeric_precision</td><td>INT</td></tr><tr><td>information_schema</td><td>parameters</td><td>numeric_precision_radix</td><td>INT</td></tr><tr><td>information_schema</td><td>parameters</td><td>numeric_scale</td><td>INT</td></tr><tr><td>information_schema</td><td>parameters</td><td>datetime_precision</td><td>INT</td></tr><tr><td>information_schema</td><td>parameters</td><td>interval_type</td><td>STRING</td></tr><tr><td>information_schema</td><td>parameters</td><td>interval_precision</td><td>INT</td></tr><tr><td>information_schema</td><td>parameters</td><td>maximum_cardinality</td><td>LONG</td></tr><tr><td>information_schema</td><td>parameters</td><td>parameter_default</td><td>STRING</td></tr><tr><td>information_schema</td><td>parameters</td><td>comment</td><td>STRING</td></tr><tr><td>information_schema</td><td>referential_constraints</td><td>constraint_catalog</td><td>STRING</td></tr><tr><td>information_schema</td><td>referential_constraints</td><td>constraint_schema</td><td>STRING</td></tr><tr><td>information_schema</td><td>referential_constraints</td><td>constraint_name</td><td>STRING</td></tr><tr><td>information_schema</td><td>referential_constraints</td><td>unique_constraint_catalog</td><td>STRING</td></tr><tr><td>information_schema</td><td>referential_constraints</td><td>unique_constraint_schema</td><td>STRING</td></tr><tr><td>information_schema</td><td>referential_constraints</td><td>unique_constraint_name</td><td>STRING</td></tr><tr><td>information_schema</td><td>referential_constraints</td><td>match_option</td><td>STRING</td></tr><tr><td>information_schema</td><td>referential_constraints</td><td>update_rule</td><td>STRING</td></tr><tr><td>information_schema</td><td>referential_constraints</td><td>delete_rule</td><td>STRING</td></tr><tr><td>information_schema</td><td>routine_columns</td><td>specific_catalog</td><td>STRING</td></tr><tr><td>information_schema</td><td>routine_columns</td><td>specific_schema</td><td>STRING</td></tr><tr><td>information_schema</td><td>routine_columns</td><td>specific_name</td><td>STRING</td></tr><tr><td>information_schema</td><td>routine_columns</td><td>ordinal_position</td><td>INT</td></tr><tr><td>information_schema</td><td>routine_columns</td><td>column_name</td><td>STRING</td></tr><tr><td>information_schema</td><td>routine_columns</td><td>data_type</td><td>STRING</td></tr><tr><td>information_schema</td><td>routine_columns</td><td>full_data_type</td><td>STRING</td></tr><tr><td>information_schema</td><td>routine_columns</td><td>character_maximum_length</td><td>LONG</td></tr><tr><td>information_schema</td><td>routine_columns</td><td>character_octet_length</td><td>LONG</td></tr><tr><td>information_schema</td><td>routine_columns</td><td>numeric_precision</td><td>INT</td></tr><tr><td>information_schema</td><td>routine_columns</td><td>numeric_precision_radix</td><td>INT</td></tr><tr><td>information_schema</td><td>routine_columns</td><td>numeric_scale</td><td>INT</td></tr><tr><td>information_schema</td><td>routine_columns</td><td>datetime_precision</td><td>INT</td></tr><tr><td>information_schema</td><td>routine_columns</td><td>interval_type</td><td>STRING</td></tr><tr><td>information_schema</td><td>routine_columns</td><td>interval_precision</td><td>INT</td></tr><tr><td>information_schema</td><td>routine_columns</td><td>maximum_cardinality</td><td>LONG</td></tr><tr><td>information_schema</td><td>routine_columns</td><td>comment</td><td>STRING</td></tr><tr><td>information_schema</td><td>routine_privileges</td><td>grantor</td><td>STRING</td></tr><tr><td>information_schema</td><td>routine_privileges</td><td>grantee</td><td>STRING</td></tr><tr><td>information_schema</td><td>routine_privileges</td><td>specific_catalog</td><td>STRING</td></tr><tr><td>information_schema</td><td>routine_privileges</td><td>specific_schema</td><td>STRING</td></tr><tr><td>information_schema</td><td>routine_privileges</td><td>specific_name</td><td>STRING</td></tr><tr><td>information_schema</td><td>routine_privileges</td><td>routine_catalog</td><td>STRING</td></tr><tr><td>information_schema</td><td>routine_privileges</td><td>routine_schema</td><td>STRING</td></tr><tr><td>information_schema</td><td>routine_privileges</td><td>routine_name</td><td>STRING</td></tr><tr><td>information_schema</td><td>routine_privileges</td><td>privilege_type</td><td>STRING</td></tr><tr><td>information_schema</td><td>routine_privileges</td><td>is_grantable</td><td>STRING</td></tr><tr><td>information_schema</td><td>routine_privileges</td><td>inherited_from</td><td>STRING</td></tr><tr><td>information_schema</td><td>routines</td><td>specific_catalog</td><td>STRING</td></tr><tr><td>information_schema</td><td>routines</td><td>specific_schema</td><td>STRING</td></tr><tr><td>information_schema</td><td>routines</td><td>specific_name</td><td>STRING</td></tr><tr><td>information_schema</td><td>routines</td><td>routine_catalog</td><td>STRING</td></tr><tr><td>information_schema</td><td>routines</td><td>routine_schema</td><td>STRING</td></tr><tr><td>information_schema</td><td>routines</td><td>routine_name</td><td>STRING</td></tr><tr><td>information_schema</td><td>routines</td><td>routine_owner</td><td>STRING</td></tr><tr><td>information_schema</td><td>routines</td><td>routine_type</td><td>STRING</td></tr><tr><td>information_schema</td><td>routines</td><td>data_type</td><td>STRING</td></tr><tr><td>information_schema</td><td>routines</td><td>full_data_type</td><td>STRING</td></tr><tr><td>information_schema</td><td>routines</td><td>character_maximum_length</td><td>LONG</td></tr><tr><td>information_schema</td><td>routines</td><td>character_octet_length</td><td>LONG</td></tr><tr><td>information_schema</td><td>routines</td><td>numeric_precision</td><td>INT</td></tr><tr><td>information_schema</td><td>routines</td><td>numeric_precision_radix</td><td>INT</td></tr><tr><td>information_schema</td><td>routines</td><td>numeric_scale</td><td>INT</td></tr><tr><td>information_schema</td><td>routines</td><td>datetime_precision</td><td>INT</td></tr><tr><td>information_schema</td><td>routines</td><td>interval_type</td><td>STRING</td></tr><tr><td>information_schema</td><td>routines</td><td>interval_precision</td><td>INT</td></tr><tr><td>information_schema</td><td>routines</td><td>maximum_cardinality</td><td>LONG</td></tr><tr><td>information_schema</td><td>routines</td><td>routine_body</td><td>STRING</td></tr><tr><td>information_schema</td><td>routines</td><td>routine_definition</td><td>STRING</td></tr><tr><td>information_schema</td><td>routines</td><td>external_name</td><td>STRING</td></tr><tr><td>information_schema</td><td>routines</td><td>external_language</td><td>STRING</td></tr><tr><td>information_schema</td><td>routines</td><td>parameter_style</td><td>STRING</td></tr><tr><td>information_schema</td><td>routines</td><td>is_deterministic</td><td>STRING</td></tr><tr><td>information_schema</td><td>routines</td><td>sql_data_access</td><td>STRING</td></tr><tr><td>information_schema</td><td>routines</td><td>is_null_call</td><td>STRING</td></tr><tr><td>information_schema</td><td>routines</td><td>security_type</td><td>STRING</td></tr><tr><td>information_schema</td><td>routines</td><td>sql_path</td><td>STRING</td></tr><tr><td>information_schema</td><td>routines</td><td>comment</td><td>STRING</td></tr><tr><td>information_schema</td><td>routines</td><td>created</td><td>TIMESTAMP</td></tr><tr><td>information_schema</td><td>routines</td><td>created_by</td><td>STRING</td></tr><tr><td>information_schema</td><td>routines</td><td>last_altered</td><td>TIMESTAMP</td></tr><tr><td>information_schema</td><td>routines</td><td>last_altered_by</td><td>STRING</td></tr><tr><td>information_schema</td><td>row_filters</td><td>table_catalog</td><td>STRING</td></tr><tr><td>information_schema</td><td>row_filters</td><td>table_schema</td><td>STRING</td></tr><tr><td>information_schema</td><td>row_filters</td><td>table_name</td><td>STRING</td></tr><tr><td>information_schema</td><td>row_filters</td><td>filter_name</td><td>STRING</td></tr><tr><td>information_schema</td><td>row_filters</td><td>target_columns</td><td>STRING</td></tr><tr><td>information_schema</td><td>schema_privileges</td><td>grantor</td><td>STRING</td></tr><tr><td>information_schema</td><td>schema_privileges</td><td>grantee</td><td>STRING</td></tr><tr><td>information_schema</td><td>schema_privileges</td><td>catalog_name</td><td>STRING</td></tr><tr><td>information_schema</td><td>schema_privileges</td><td>schema_name</td><td>STRING</td></tr><tr><td>information_schema</td><td>schema_privileges</td><td>privilege_type</td><td>STRING</td></tr><tr><td>information_schema</td><td>schema_privileges</td><td>is_grantable</td><td>STRING</td></tr><tr><td>information_schema</td><td>schema_privileges</td><td>inherited_from</td><td>STRING</td></tr><tr><td>information_schema</td><td>schema_tags</td><td>catalog_name</td><td>STRING</td></tr><tr><td>information_schema</td><td>schema_tags</td><td>schema_name</td><td>STRING</td></tr><tr><td>information_schema</td><td>schema_tags</td><td>tag_name</td><td>STRING</td></tr><tr><td>information_schema</td><td>schema_tags</td><td>tag_value</td><td>STRING</td></tr><tr><td>information_schema</td><td>schemata</td><td>catalog_name</td><td>STRING</td></tr><tr><td>information_schema</td><td>schemata</td><td>schema_name</td><td>STRING</td></tr><tr><td>information_schema</td><td>schemata</td><td>schema_owner</td><td>STRING</td></tr><tr><td>information_schema</td><td>schemata</td><td>comment</td><td>STRING</td></tr><tr><td>information_schema</td><td>schemata</td><td>created</td><td>TIMESTAMP</td></tr><tr><td>information_schema</td><td>schemata</td><td>created_by</td><td>STRING</td></tr><tr><td>information_schema</td><td>schemata</td><td>last_altered</td><td>TIMESTAMP</td></tr><tr><td>information_schema</td><td>schemata</td><td>last_altered_by</td><td>STRING</td></tr><tr><td>information_schema</td><td>schemata</td><td>url</td><td>STRING</td></tr><tr><td>information_schema</td><td>schemata</td><td>custom_max_retention_hours</td><td>LONG</td></tr><tr><td>information_schema</td><td>table_constraints</td><td>constraint_catalog</td><td>STRING</td></tr><tr><td>information_schema</td><td>table_constraints</td><td>constraint_schema</td><td>STRING</td></tr><tr><td>information_schema</td><td>table_constraints</td><td>constraint_name</td><td>STRING</td></tr><tr><td>information_schema</td><td>table_constraints</td><td>table_catalog</td><td>STRING</td></tr><tr><td>information_schema</td><td>table_constraints</td><td>table_schema</td><td>STRING</td></tr><tr><td>information_schema</td><td>table_constraints</td><td>table_name</td><td>STRING</td></tr><tr><td>information_schema</td><td>table_constraints</td><td>constraint_type</td><td>STRING</td></tr><tr><td>information_schema</td><td>table_constraints</td><td>is_deferrable</td><td>STRING</td></tr><tr><td>information_schema</td><td>table_constraints</td><td>initially_deferred</td><td>STRING</td></tr><tr><td>information_schema</td><td>table_constraints</td><td>enforced</td><td>STRING</td></tr><tr><td>information_schema</td><td>table_privileges</td><td>grantor</td><td>STRING</td></tr><tr><td>information_schema</td><td>table_privileges</td><td>grantee</td><td>STRING</td></tr><tr><td>information_schema</td><td>table_privileges</td><td>table_catalog</td><td>STRING</td></tr><tr><td>information_schema</td><td>table_privileges</td><td>table_schema</td><td>STRING</td></tr><tr><td>information_schema</td><td>table_privileges</td><td>table_name</td><td>STRING</td></tr><tr><td>information_schema</td><td>table_privileges</td><td>privilege_type</td><td>STRING</td></tr><tr><td>information_schema</td><td>table_privileges</td><td>is_grantable</td><td>STRING</td></tr><tr><td>information_schema</td><td>table_privileges</td><td>inherited_from</td><td>STRING</td></tr><tr><td>information_schema</td><td>table_tags</td><td>catalog_name</td><td>STRING</td></tr><tr><td>information_schema</td><td>table_tags</td><td>schema_name</td><td>STRING</td></tr><tr><td>information_schema</td><td>table_tags</td><td>table_name</td><td>STRING</td></tr><tr><td>information_schema</td><td>table_tags</td><td>tag_name</td><td>STRING</td></tr><tr><td>information_schema</td><td>table_tags</td><td>tag_value</td><td>STRING</td></tr><tr><td>information_schema</td><td>tables</td><td>table_catalog</td><td>STRING</td></tr><tr><td>information_schema</td><td>tables</td><td>table_schema</td><td>STRING</td></tr><tr><td>information_schema</td><td>tables</td><td>table_name</td><td>STRING</td></tr><tr><td>information_schema</td><td>tables</td><td>table_type</td><td>STRING</td></tr><tr><td>information_schema</td><td>tables</td><td>is_insertable_into</td><td>STRING</td></tr><tr><td>information_schema</td><td>tables</td><td>commit_action</td><td>STRING</td></tr><tr><td>information_schema</td><td>tables</td><td>table_owner</td><td>STRING</td></tr><tr><td>information_schema</td><td>tables</td><td>comment</td><td>STRING</td></tr><tr><td>information_schema</td><td>tables</td><td>created</td><td>TIMESTAMP</td></tr><tr><td>information_schema</td><td>tables</td><td>created_by</td><td>STRING</td></tr><tr><td>information_schema</td><td>tables</td><td>last_altered</td><td>TIMESTAMP</td></tr><tr><td>information_schema</td><td>tables</td><td>last_altered_by</td><td>STRING</td></tr><tr><td>information_schema</td><td>tables</td><td>data_source_format</td><td>STRING</td></tr><tr><td>information_schema</td><td>tables</td><td>storage_sub_directory</td><td>STRING</td></tr><tr><td>information_schema</td><td>tables</td><td>storage_path</td><td>STRING</td></tr><tr><td>information_schema</td><td>views</td><td>table_catalog</td><td>STRING</td></tr><tr><td>information_schema</td><td>views</td><td>table_schema</td><td>STRING</td></tr><tr><td>information_schema</td><td>views</td><td>table_name</td><td>STRING</td></tr><tr><td>information_schema</td><td>views</td><td>view_definition</td><td>STRING</td></tr><tr><td>information_schema</td><td>views</td><td>check_option</td><td>STRING</td></tr><tr><td>information_schema</td><td>views</td><td>is_updatable</td><td>STRING</td></tr><tr><td>information_schema</td><td>views</td><td>is_insertable_into</td><td>STRING</td></tr><tr><td>information_schema</td><td>views</td><td>sql_path</td><td>STRING</td></tr><tr><td>information_schema</td><td>views</td><td>is_materialized</td><td>STRING</td></tr><tr><td>information_schema</td><td>volume_privileges</td><td>grantor</td><td>STRING</td></tr><tr><td>information_schema</td><td>volume_privileges</td><td>grantee</td><td>STRING</td></tr><tr><td>information_schema</td><td>volume_privileges</td><td>volume_catalog</td><td>STRING</td></tr><tr><td>information_schema</td><td>volume_privileges</td><td>volume_schema</td><td>STRING</td></tr><tr><td>information_schema</td><td>volume_privileges</td><td>volume_name</td><td>STRING</td></tr><tr><td>information_schema</td><td>volume_privileges</td><td>privilege_type</td><td>STRING</td></tr><tr><td>information_schema</td><td>volume_privileges</td><td>is_grantable</td><td>STRING</td></tr><tr><td>information_schema</td><td>volume_privileges</td><td>inherited_from</td><td>STRING</td></tr><tr><td>information_schema</td><td>volume_tags</td><td>catalog_name</td><td>STRING</td></tr><tr><td>information_schema</td><td>volume_tags</td><td>schema_name</td><td>STRING</td></tr><tr><td>information_schema</td><td>volume_tags</td><td>volume_name</td><td>STRING</td></tr><tr><td>information_schema</td><td>volume_tags</td><td>tag_name</td><td>STRING</td></tr><tr><td>information_schema</td><td>volume_tags</td><td>tag_value</td><td>STRING</td></tr><tr><td>information_schema</td><td>volumes</td><td>volume_catalog</td><td>STRING</td></tr><tr><td>information_schema</td><td>volumes</td><td>volume_schema</td><td>STRING</td></tr><tr><td>information_schema</td><td>volumes</td><td>volume_name</td><td>STRING</td></tr><tr><td>information_schema</td><td>volumes</td><td>volume_type</td><td>STRING</td></tr><tr><td>information_schema</td><td>volumes</td><td>volume_owner</td><td>STRING</td></tr><tr><td>information_schema</td><td>volumes</td><td>comment</td><td>STRING</td></tr><tr><td>information_schema</td><td>volumes</td><td>storage_location</td><td>STRING</td></tr><tr><td>information_schema</td><td>volumes</td><td>created</td><td>TIMESTAMP</td></tr><tr><td>information_schema</td><td>volumes</td><td>created_by</td><td>STRING</td></tr><tr><td>information_schema</td><td>volumes</td><td>last_altered</td><td>TIMESTAMP</td></tr><tr><td>information_schema</td><td>volumes</td><td>last_altered_by</td><td>STRING</td></tr><tr><td>secure</td><td>customers_masked</td><td>customer_id</td><td>INT</td></tr><tr><td>secure</td><td>customers_masked</td><td>customer_name</td><td>STRING</td></tr><tr><td>secure</td><td>customers_masked</td><td>region</td><td>STRING</td></tr><tr><td>secure</td><td>customers_masked</td><td>email</td><td>STRING</td></tr><tr><td>secure</td><td>customers_masked</td><td>phone</td><td>STRING</td></tr><tr><td>secure</td><td>sales_rls</td><td>txn_id</td><td>INT</td></tr><tr><td>secure</td><td>sales_rls</td><td>txn_date</td><td>STRING</td></tr><tr><td>secure</td><td>sales_rls</td><td>amount</td><td>DECIMAL</td></tr><tr><td>secure</td><td>sales_rls</td><td>channel</td><td>STRING</td></tr><tr><td>secure</td><td>sales_rls</td><td>region</td><td>STRING</td></tr><tr><td>secure</td><td>sales_rls</td><td>customer_id</td><td>INT</td></tr><tr><td>secure</td><td>sales_rls</td><td>customer_name</td><td>STRING</td></tr><tr><td>silver</td><td>sales</td><td>txn_id</td><td>INT</td></tr><tr><td>silver</td><td>sales</td><td>txn_date</td><td>STRING</td></tr><tr><td>silver</td><td>sales</td><td>amount</td><td>DECIMAL</td></tr><tr><td>silver</td><td>sales</td><td>channel</td><td>STRING</td></tr><tr><td>silver</td><td>sales</td><td>region</td><td>STRING</td></tr><tr><td>silver</td><td>sales</td><td>customer_id</td><td>INT</td></tr><tr><td>silver</td><td>sales</td><td>customer_name</td><td>STRING</td></tr><tr><td>silver</td><td>transactions</td><td>txn_id</td><td>INT</td></tr><tr><td>silver</td><td>transactions</td><td>customer_id</td><td>INT</td></tr><tr><td>silver</td><td>transactions</td><td>txn_date</td><td>STRING</td></tr><tr><td>silver</td><td>transactions</td><td>amount</td><td>DECIMAL</td></tr><tr><td>silver</td><td>transactions</td><td>channel</td><td>STRING</td></tr><tr><td>silver</td><td>transactions</td><td>region</td><td>STRING</td></tr></tbody></table></div>"
      ]
     },
     "metadata": {
      "application/vnd.databricks.v1+output": {
       "addedWidgets": {},
       "aggData": [],
       "aggError": "",
       "aggOverflow": false,
       "aggSchema": [],
       "aggSeriesLimitReached": false,
       "aggType": "",
       "arguments": {},
       "columnCustomDisplayInfos": {},
       "data": [
        [
         "bronze",
         "customers",
         "customer_id",
         "INT"
        ],
        [
         "bronze",
         "customers",
         "customer_name",
         "STRING"
        ],
        [
         "bronze",
         "customers",
         "region",
         "STRING"
        ],
        [
         "bronze",
         "customers",
         "email",
         "STRING"
        ],
        [
         "bronze",
         "customers",
         "phone",
         "STRING"
        ],
        [
         "bronze",
         "sales",
         "txn_id",
         "INT"
        ],
        [
         "bronze",
         "sales",
         "txn_date",
         "STRING"
        ],
        [
         "bronze",
         "sales",
         "amount",
         "DECIMAL"
        ],
        [
         "bronze",
         "sales",
         "channel",
         "STRING"
        ],
        [
         "bronze",
         "sales",
         "region",
         "STRING"
        ],
        [
         "bronze",
         "sales",
         "customer_id",
         "INT"
        ],
        [
         "bronze",
         "sales",
         "customer_name",
         "STRING"
        ],
        [
         "bronze",
         "transactions",
         "txn_id",
         "INT"
        ],
        [
         "bronze",
         "transactions",
         "customer_id",
         "INT"
        ],
        [
         "bronze",
         "transactions",
         "txn_date",
         "STRING"
        ],
        [
         "bronze",
         "transactions",
         "amount",
         "DECIMAL"
        ],
        [
         "bronze",
         "transactions",
         "channel",
         "STRING"
        ],
        [
         "bronze",
         "transactions",
         "region",
         "STRING"
        ],
        [
         "gold",
         "daily_sales",
         "date",
         "DATE"
        ],
        [
         "gold",
         "daily_sales",
         "total_amount",
         "DECIMAL"
        ],
        [
         "gold",
         "daily_sales",
         "txn_count",
         "LONG"
        ],
        [
         "gold",
         "region_kpis",
         "region",
         "STRING"
        ],
        [
         "gold",
         "region_kpis",
         "total_amount",
         "DECIMAL"
        ],
        [
         "gold",
         "region_kpis",
         "avg_ticket",
         "DECIMAL"
        ],
        [
         "gold",
         "region_kpis",
         "unique_customers",
         "LONG"
        ],
        [
         "gold",
         "top_customers",
         "customer_id",
         "INT"
        ],
        [
         "gold",
         "top_customers",
         "customer_name",
         "STRING"
        ],
        [
         "gold",
         "top_customers",
         "lifetime_value",
         "DECIMAL"
        ],
        [
         "information_schema",
         "catalog_privileges",
         "grantor",
         "STRING"
        ],
        [
         "information_schema",
         "catalog_privileges",
         "grantee",
         "STRING"
        ],
        [
         "information_schema",
         "catalog_privileges",
         "catalog_name",
         "STRING"
        ],
        [
         "information_schema",
         "catalog_privileges",
         "privilege_type",
         "STRING"
        ],
        [
         "information_schema",
         "catalog_privileges",
         "is_grantable",
         "STRING"
        ],
        [
         "information_schema",
         "catalog_privileges",
         "inherited_from",
         "STRING"
        ],
        [
         "information_schema",
         "catalog_tags",
         "catalog_name",
         "STRING"
        ],
        [
         "information_schema",
         "catalog_tags",
         "tag_name",
         "STRING"
        ],
        [
         "information_schema",
         "catalog_tags",
         "tag_value",
         "STRING"
        ],
        [
         "information_schema",
         "catalogs",
         "catalog_name",
         "STRING"
        ],
        [
         "information_schema",
         "catalogs",
         "catalog_owner",
         "STRING"
        ],
        [
         "information_schema",
         "catalogs",
         "comment",
         "STRING"
        ],
        [
         "information_schema",
         "catalogs",
         "created",
         "TIMESTAMP"
        ],
        [
         "information_schema",
         "catalogs",
         "created_by",
         "STRING"
        ],
        [
         "information_schema",
         "catalogs",
         "last_altered",
         "TIMESTAMP"
        ],
        [
         "information_schema",
         "catalogs",
         "last_altered_by",
         "STRING"
        ],
        [
         "information_schema",
         "catalogs",
         "url",
         "STRING"
        ],
        [
         "information_schema",
         "catalogs",
         "custom_max_retention_hours",
         "LONG"
        ],
        [
         "information_schema",
         "check_constraints",
         "constraint_catalog",
         "STRING"
        ],
        [
         "information_schema",
         "check_constraints",
         "constraint_schema",
         "STRING"
        ],
        [
         "information_schema",
         "check_constraints",
         "constraint_name",
         "STRING"
        ],
        [
         "information_schema",
         "check_constraints",
         "check_clause",
         "STRING"
        ],
        [
         "information_schema",
         "check_constraints",
         "sql_path",
         "STRING"
        ],
        [
         "information_schema",
         "check_constraints",
         "comment",
         "STRING"
        ],
        [
         "information_schema",
         "column_masks",
         "table_catalog",
         "STRING"
        ],
        [
         "information_schema",
         "column_masks",
         "table_schema",
         "STRING"
        ],
        [
         "information_schema",
         "column_masks",
         "table_name",
         "STRING"
        ],
        [
         "information_schema",
         "column_masks",
         "column_name",
         "STRING"
        ],
        [
         "information_schema",
         "column_masks",
         "mask_name",
         "STRING"
        ],
        [
         "information_schema",
         "column_masks",
         "using_columns",
         "STRING"
        ],
        [
         "information_schema",
         "column_tags",
         "catalog_name",
         "STRING"
        ],
        [
         "information_schema",
         "column_tags",
         "schema_name",
         "STRING"
        ],
        [
         "information_schema",
         "column_tags",
         "table_name",
         "STRING"
        ],
        [
         "information_schema",
         "column_tags",
         "column_name",
         "STRING"
        ],
        [
         "information_schema",
         "column_tags",
         "tag_name",
         "STRING"
        ],
        [
         "information_schema",
         "column_tags",
         "tag_value",
         "STRING"
        ],
        [
         "information_schema",
         "columns",
         "table_catalog",
         "STRING"
        ],
        [
         "information_schema",
         "columns",
         "table_schema",
         "STRING"
        ],
        [
         "information_schema",
         "columns",
         "table_name",
         "STRING"
        ],
        [
         "information_schema",
         "columns",
         "column_name",
         "STRING"
        ],
        [
         "information_schema",
         "columns",
         "ordinal_position",
         "INT"
        ],
        [
         "information_schema",
         "columns",
         "column_default",
         "STRING"
        ],
        [
         "information_schema",
         "columns",
         "is_nullable",
         "STRING"
        ],
        [
         "information_schema",
         "columns",
         "full_data_type",
         "STRING"
        ],
        [
         "information_schema",
         "columns",
         "data_type",
         "STRING"
        ],
        [
         "information_schema",
         "columns",
         "character_maximum_length",
         "LONG"
        ],
        [
         "information_schema",
         "columns",
         "character_octet_length",
         "LONG"
        ],
        [
         "information_schema",
         "columns",
         "numeric_precision",
         "INT"
        ],
        [
         "information_schema",
         "columns",
         "numeric_precision_radix",
         "INT"
        ],
        [
         "information_schema",
         "columns",
         "numeric_scale",
         "INT"
        ],
        [
         "information_schema",
         "columns",
         "datetime_precision",
         "INT"
        ],
        [
         "information_schema",
         "columns",
         "interval_type",
         "STRING"
        ],
        [
         "information_schema",
         "columns",
         "interval_precision",
         "INT"
        ],
        [
         "information_schema",
         "columns",
         "maximum_cardinality",
         "LONG"
        ],
        [
         "information_schema",
         "columns",
         "is_identity",
         "STRING"
        ],
        [
         "information_schema",
         "columns",
         "identity_generation",
         "STRING"
        ],
        [
         "information_schema",
         "columns",
         "identity_start",
         "STRING"
        ],
        [
         "information_schema",
         "columns",
         "identity_increment",
         "STRING"
        ],
        [
         "information_schema",
         "columns",
         "identity_maximum",
         "STRING"
        ],
        [
         "information_schema",
         "columns",
         "identity_minimum",
         "STRING"
        ],
        [
         "information_schema",
         "columns",
         "identity_cycle",
         "STRING"
        ],
        [
         "information_schema",
         "columns",
         "is_generated",
         "STRING"
        ],
        [
         "information_schema",
         "columns",
         "generation_expression",
         "STRING"
        ],
        [
         "information_schema",
         "columns",
         "is_system_time_period_start",
         "STRING"
        ],
        [
         "information_schema",
         "columns",
         "is_system_time_period_end",
         "STRING"
        ],
        [
         "information_schema",
         "columns",
         "system_time_period_timestamp_generation",
         "STRING"
        ],
        [
         "information_schema",
         "columns",
         "is_updatable",
         "STRING"
        ],
        [
         "information_schema",
         "columns",
         "partition_index",
         "INT"
        ],
        [
         "information_schema",
         "columns",
         "comment",
         "STRING"
        ],
        [
         "information_schema",
         "constraint_column_usage",
         "table_catalog",
         "STRING"
        ],
        [
         "information_schema",
         "constraint_column_usage",
         "table_schema",
         "STRING"
        ],
        [
         "information_schema",
         "constraint_column_usage",
         "table_name",
         "STRING"
        ],
        [
         "information_schema",
         "constraint_column_usage",
         "column_name",
         "STRING"
        ],
        [
         "information_schema",
         "constraint_column_usage",
         "constraint_catalog",
         "STRING"
        ],
        [
         "information_schema",
         "constraint_column_usage",
         "constraint_schema",
         "STRING"
        ],
        [
         "information_schema",
         "constraint_column_usage",
         "constraint_name",
         "STRING"
        ],
        [
         "information_schema",
         "constraint_table_usage",
         "table_catalog",
         "STRING"
        ],
        [
         "information_schema",
         "constraint_table_usage",
         "table_schema",
         "STRING"
        ],
        [
         "information_schema",
         "constraint_table_usage",
         "table_name",
         "STRING"
        ],
        [
         "information_schema",
         "constraint_table_usage",
         "constraint_catalog",
         "STRING"
        ],
        [
         "information_schema",
         "constraint_table_usage",
         "constraint_schema",
         "STRING"
        ],
        [
         "information_schema",
         "constraint_table_usage",
         "constraint_name",
         "STRING"
        ],
        [
         "information_schema",
         "information_schema_catalog_name",
         "catalog_name",
         "STRING"
        ],
        [
         "information_schema",
         "key_column_usage",
         "constraint_catalog",
         "STRING"
        ],
        [
         "information_schema",
         "key_column_usage",
         "constraint_schema",
         "STRING"
        ],
        [
         "information_schema",
         "key_column_usage",
         "constraint_name",
         "STRING"
        ],
        [
         "information_schema",
         "key_column_usage",
         "table_catalog",
         "STRING"
        ],
        [
         "information_schema",
         "key_column_usage",
         "table_schema",
         "STRING"
        ],
        [
         "information_schema",
         "key_column_usage",
         "table_name",
         "STRING"
        ],
        [
         "information_schema",
         "key_column_usage",
         "column_name",
         "STRING"
        ],
        [
         "information_schema",
         "key_column_usage",
         "ordinal_position",
         "INT"
        ],
        [
         "information_schema",
         "key_column_usage",
         "position_in_unique_constraint",
         "INT"
        ],
        [
         "information_schema",
         "parameters",
         "specific_catalog",
         "STRING"
        ],
        [
         "information_schema",
         "parameters",
         "specific_schema",
         "STRING"
        ],
        [
         "information_schema",
         "parameters",
         "specific_name",
         "STRING"
        ],
        [
         "information_schema",
         "parameters",
         "ordinal_position",
         "INT"
        ],
        [
         "information_schema",
         "parameters",
         "parameter_mode",
         "STRING"
        ],
        [
         "information_schema",
         "parameters",
         "is_result",
         "STRING"
        ],
        [
         "information_schema",
         "parameters",
         "as_locator",
         "STRING"
        ],
        [
         "information_schema",
         "parameters",
         "parameter_name",
         "STRING"
        ],
        [
         "information_schema",
         "parameters",
         "data_type",
         "STRING"
        ],
        [
         "information_schema",
         "parameters",
         "full_data_type",
         "STRING"
        ],
        [
         "information_schema",
         "parameters",
         "character_maximum_length",
         "LONG"
        ],
        [
         "information_schema",
         "parameters",
         "character_octet_length",
         "LONG"
        ],
        [
         "information_schema",
         "parameters",
         "numeric_precision",
         "INT"
        ],
        [
         "information_schema",
         "parameters",
         "numeric_precision_radix",
         "INT"
        ],
        [
         "information_schema",
         "parameters",
         "numeric_scale",
         "INT"
        ],
        [
         "information_schema",
         "parameters",
         "datetime_precision",
         "INT"
        ],
        [
         "information_schema",
         "parameters",
         "interval_type",
         "STRING"
        ],
        [
         "information_schema",
         "parameters",
         "interval_precision",
         "INT"
        ],
        [
         "information_schema",
         "parameters",
         "maximum_cardinality",
         "LONG"
        ],
        [
         "information_schema",
         "parameters",
         "parameter_default",
         "STRING"
        ],
        [
         "information_schema",
         "parameters",
         "comment",
         "STRING"
        ],
        [
         "information_schema",
         "referential_constraints",
         "constraint_catalog",
         "STRING"
        ],
        [
         "information_schema",
         "referential_constraints",
         "constraint_schema",
         "STRING"
        ],
        [
         "information_schema",
         "referential_constraints",
         "constraint_name",
         "STRING"
        ],
        [
         "information_schema",
         "referential_constraints",
         "unique_constraint_catalog",
         "STRING"
        ],
        [
         "information_schema",
         "referential_constraints",
         "unique_constraint_schema",
         "STRING"
        ],
        [
         "information_schema",
         "referential_constraints",
         "unique_constraint_name",
         "STRING"
        ],
        [
         "information_schema",
         "referential_constraints",
         "match_option",
         "STRING"
        ],
        [
         "information_schema",
         "referential_constraints",
         "update_rule",
         "STRING"
        ],
        [
         "information_schema",
         "referential_constraints",
         "delete_rule",
         "STRING"
        ],
        [
         "information_schema",
         "routine_columns",
         "specific_catalog",
         "STRING"
        ],
        [
         "information_schema",
         "routine_columns",
         "specific_schema",
         "STRING"
        ],
        [
         "information_schema",
         "routine_columns",
         "specific_name",
         "STRING"
        ],
        [
         "information_schema",
         "routine_columns",
         "ordinal_position",
         "INT"
        ],
        [
         "information_schema",
         "routine_columns",
         "column_name",
         "STRING"
        ],
        [
         "information_schema",
         "routine_columns",
         "data_type",
         "STRING"
        ],
        [
         "information_schema",
         "routine_columns",
         "full_data_type",
         "STRING"
        ],
        [
         "information_schema",
         "routine_columns",
         "character_maximum_length",
         "LONG"
        ],
        [
         "information_schema",
         "routine_columns",
         "character_octet_length",
         "LONG"
        ],
        [
         "information_schema",
         "routine_columns",
         "numeric_precision",
         "INT"
        ],
        [
         "information_schema",
         "routine_columns",
         "numeric_precision_radix",
         "INT"
        ],
        [
         "information_schema",
         "routine_columns",
         "numeric_scale",
         "INT"
        ],
        [
         "information_schema",
         "routine_columns",
         "datetime_precision",
         "INT"
        ],
        [
         "information_schema",
         "routine_columns",
         "interval_type",
         "STRING"
        ],
        [
         "information_schema",
         "routine_columns",
         "interval_precision",
         "INT"
        ],
        [
         "information_schema",
         "routine_columns",
         "maximum_cardinality",
         "LONG"
        ],
        [
         "information_schema",
         "routine_columns",
         "comment",
         "STRING"
        ],
        [
         "information_schema",
         "routine_privileges",
         "grantor",
         "STRING"
        ],
        [
         "information_schema",
         "routine_privileges",
         "grantee",
         "STRING"
        ],
        [
         "information_schema",
         "routine_privileges",
         "specific_catalog",
         "STRING"
        ],
        [
         "information_schema",
         "routine_privileges",
         "specific_schema",
         "STRING"
        ],
        [
         "information_schema",
         "routine_privileges",
         "specific_name",
         "STRING"
        ],
        [
         "information_schema",
         "routine_privileges",
         "routine_catalog",
         "STRING"
        ],
        [
         "information_schema",
         "routine_privileges",
         "routine_schema",
         "STRING"
        ],
        [
         "information_schema",
         "routine_privileges",
         "routine_name",
         "STRING"
        ],
        [
         "information_schema",
         "routine_privileges",
         "privilege_type",
         "STRING"
        ],
        [
         "information_schema",
         "routine_privileges",
         "is_grantable",
         "STRING"
        ],
        [
         "information_schema",
         "routine_privileges",
         "inherited_from",
         "STRING"
        ],
        [
         "information_schema",
         "routines",
         "specific_catalog",
         "STRING"
        ],
        [
         "information_schema",
         "routines",
         "specific_schema",
         "STRING"
        ],
        [
         "information_schema",
         "routines",
         "specific_name",
         "STRING"
        ],
        [
         "information_schema",
         "routines",
         "routine_catalog",
         "STRING"
        ],
        [
         "information_schema",
         "routines",
         "routine_schema",
         "STRING"
        ],
        [
         "information_schema",
         "routines",
         "routine_name",
         "STRING"
        ],
        [
         "information_schema",
         "routines",
         "routine_owner",
         "STRING"
        ],
        [
         "information_schema",
         "routines",
         "routine_type",
         "STRING"
        ],
        [
         "information_schema",
         "routines",
         "data_type",
         "STRING"
        ],
        [
         "information_schema",
         "routines",
         "full_data_type",
         "STRING"
        ],
        [
         "information_schema",
         "routines",
         "character_maximum_length",
         "LONG"
        ],
        [
         "information_schema",
         "routines",
         "character_octet_length",
         "LONG"
        ],
        [
         "information_schema",
         "routines",
         "numeric_precision",
         "INT"
        ],
        [
         "information_schema",
         "routines",
         "numeric_precision_radix",
         "INT"
        ],
        [
         "information_schema",
         "routines",
         "numeric_scale",
         "INT"
        ],
        [
         "information_schema",
         "routines",
         "datetime_precision",
         "INT"
        ],
        [
         "information_schema",
         "routines",
         "interval_type",
         "STRING"
        ],
        [
         "information_schema",
         "routines",
         "interval_precision",
         "INT"
        ],
        [
         "information_schema",
         "routines",
         "maximum_cardinality",
         "LONG"
        ],
        [
         "information_schema",
         "routines",
         "routine_body",
         "STRING"
        ],
        [
         "information_schema",
         "routines",
         "routine_definition",
         "STRING"
        ],
        [
         "information_schema",
         "routines",
         "external_name",
         "STRING"
        ],
        [
         "information_schema",
         "routines",
         "external_language",
         "STRING"
        ],
        [
         "information_schema",
         "routines",
         "parameter_style",
         "STRING"
        ],
        [
         "information_schema",
         "routines",
         "is_deterministic",
         "STRING"
        ],
        [
         "information_schema",
         "routines",
         "sql_data_access",
         "STRING"
        ],
        [
         "information_schema",
         "routines",
         "is_null_call",
         "STRING"
        ],
        [
         "information_schema",
         "routines",
         "security_type",
         "STRING"
        ],
        [
         "information_schema",
         "routines",
         "sql_path",
         "STRING"
        ],
        [
         "information_schema",
         "routines",
         "comment",
         "STRING"
        ],
        [
         "information_schema",
         "routines",
         "created",
         "TIMESTAMP"
        ],
        [
         "information_schema",
         "routines",
         "created_by",
         "STRING"
        ],
        [
         "information_schema",
         "routines",
         "last_altered",
         "TIMESTAMP"
        ],
        [
         "information_schema",
         "routines",
         "last_altered_by",
         "STRING"
        ],
        [
         "information_schema",
         "row_filters",
         "table_catalog",
         "STRING"
        ],
        [
         "information_schema",
         "row_filters",
         "table_schema",
         "STRING"
        ],
        [
         "information_schema",
         "row_filters",
         "table_name",
         "STRING"
        ],
        [
         "information_schema",
         "row_filters",
         "filter_name",
         "STRING"
        ],
        [
         "information_schema",
         "row_filters",
         "target_columns",
         "STRING"
        ],
        [
         "information_schema",
         "schema_privileges",
         "grantor",
         "STRING"
        ],
        [
         "information_schema",
         "schema_privileges",
         "grantee",
         "STRING"
        ],
        [
         "information_schema",
         "schema_privileges",
         "catalog_name",
         "STRING"
        ],
        [
         "information_schema",
         "schema_privileges",
         "schema_name",
         "STRING"
        ],
        [
         "information_schema",
         "schema_privileges",
         "privilege_type",
         "STRING"
        ],
        [
         "information_schema",
         "schema_privileges",
         "is_grantable",
         "STRING"
        ],
        [
         "information_schema",
         "schema_privileges",
         "inherited_from",
         "STRING"
        ],
        [
         "information_schema",
         "schema_tags",
         "catalog_name",
         "STRING"
        ],
        [
         "information_schema",
         "schema_tags",
         "schema_name",
         "STRING"
        ],
        [
         "information_schema",
         "schema_tags",
         "tag_name",
         "STRING"
        ],
        [
         "information_schema",
         "schema_tags",
         "tag_value",
         "STRING"
        ],
        [
         "information_schema",
         "schemata",
         "catalog_name",
         "STRING"
        ],
        [
         "information_schema",
         "schemata",
         "schema_name",
         "STRING"
        ],
        [
         "information_schema",
         "schemata",
         "schema_owner",
         "STRING"
        ],
        [
         "information_schema",
         "schemata",
         "comment",
         "STRING"
        ],
        [
         "information_schema",
         "schemata",
         "created",
         "TIMESTAMP"
        ],
        [
         "information_schema",
         "schemata",
         "created_by",
         "STRING"
        ],
        [
         "information_schema",
         "schemata",
         "last_altered",
         "TIMESTAMP"
        ],
        [
         "information_schema",
         "schemata",
         "last_altered_by",
         "STRING"
        ],
        [
         "information_schema",
         "schemata",
         "url",
         "STRING"
        ],
        [
         "information_schema",
         "schemata",
         "custom_max_retention_hours",
         "LONG"
        ],
        [
         "information_schema",
         "table_constraints",
         "constraint_catalog",
         "STRING"
        ],
        [
         "information_schema",
         "table_constraints",
         "constraint_schema",
         "STRING"
        ],
        [
         "information_schema",
         "table_constraints",
         "constraint_name",
         "STRING"
        ],
        [
         "information_schema",
         "table_constraints",
         "table_catalog",
         "STRING"
        ],
        [
         "information_schema",
         "table_constraints",
         "table_schema",
         "STRING"
        ],
        [
         "information_schema",
         "table_constraints",
         "table_name",
         "STRING"
        ],
        [
         "information_schema",
         "table_constraints",
         "constraint_type",
         "STRING"
        ],
        [
         "information_schema",
         "table_constraints",
         "is_deferrable",
         "STRING"
        ],
        [
         "information_schema",
         "table_constraints",
         "initially_deferred",
         "STRING"
        ],
        [
         "information_schema",
         "table_constraints",
         "enforced",
         "STRING"
        ],
        [
         "information_schema",
         "table_privileges",
         "grantor",
         "STRING"
        ],
        [
         "information_schema",
         "table_privileges",
         "grantee",
         "STRING"
        ],
        [
         "information_schema",
         "table_privileges",
         "table_catalog",
         "STRING"
        ],
        [
         "information_schema",
         "table_privileges",
         "table_schema",
         "STRING"
        ],
        [
         "information_schema",
         "table_privileges",
         "table_name",
         "STRING"
        ],
        [
         "information_schema",
         "table_privileges",
         "privilege_type",
         "STRING"
        ],
        [
         "information_schema",
         "table_privileges",
         "is_grantable",
         "STRING"
        ],
        [
         "information_schema",
         "table_privileges",
         "inherited_from",
         "STRING"
        ],
        [
         "information_schema",
         "table_tags",
         "catalog_name",
         "STRING"
        ],
        [
         "information_schema",
         "table_tags",
         "schema_name",
         "STRING"
        ],
        [
         "information_schema",
         "table_tags",
         "table_name",
         "STRING"
        ],
        [
         "information_schema",
         "table_tags",
         "tag_name",
         "STRING"
        ],
        [
         "information_schema",
         "table_tags",
         "tag_value",
         "STRING"
        ],
        [
         "information_schema",
         "tables",
         "table_catalog",
         "STRING"
        ],
        [
         "information_schema",
         "tables",
         "table_schema",
         "STRING"
        ],
        [
         "information_schema",
         "tables",
         "table_name",
         "STRING"
        ],
        [
         "information_schema",
         "tables",
         "table_type",
         "STRING"
        ],
        [
         "information_schema",
         "tables",
         "is_insertable_into",
         "STRING"
        ],
        [
         "information_schema",
         "tables",
         "commit_action",
         "STRING"
        ],
        [
         "information_schema",
         "tables",
         "table_owner",
         "STRING"
        ],
        [
         "information_schema",
         "tables",
         "comment",
         "STRING"
        ],
        [
         "information_schema",
         "tables",
         "created",
         "TIMESTAMP"
        ],
        [
         "information_schema",
         "tables",
         "created_by",
         "STRING"
        ],
        [
         "information_schema",
         "tables",
         "last_altered",
         "TIMESTAMP"
        ],
        [
         "information_schema",
         "tables",
         "last_altered_by",
         "STRING"
        ],
        [
         "information_schema",
         "tables",
         "data_source_format",
         "STRING"
        ],
        [
         "information_schema",
         "tables",
         "storage_sub_directory",
         "STRING"
        ],
        [
         "information_schema",
         "tables",
         "storage_path",
         "STRING"
        ],
        [
         "information_schema",
         "views",
         "table_catalog",
         "STRING"
        ],
        [
         "information_schema",
         "views",
         "table_schema",
         "STRING"
        ],
        [
         "information_schema",
         "views",
         "table_name",
         "STRING"
        ],
        [
         "information_schema",
         "views",
         "view_definition",
         "STRING"
        ],
        [
         "information_schema",
         "views",
         "check_option",
         "STRING"
        ],
        [
         "information_schema",
         "views",
         "is_updatable",
         "STRING"
        ],
        [
         "information_schema",
         "views",
         "is_insertable_into",
         "STRING"
        ],
        [
         "information_schema",
         "views",
         "sql_path",
         "STRING"
        ],
        [
         "information_schema",
         "views",
         "is_materialized",
         "STRING"
        ],
        [
         "information_schema",
         "volume_privileges",
         "grantor",
         "STRING"
        ],
        [
         "information_schema",
         "volume_privileges",
         "grantee",
         "STRING"
        ],
        [
         "information_schema",
         "volume_privileges",
         "volume_catalog",
         "STRING"
        ],
        [
         "information_schema",
         "volume_privileges",
         "volume_schema",
         "STRING"
        ],
        [
         "information_schema",
         "volume_privileges",
         "volume_name",
         "STRING"
        ],
        [
         "information_schema",
         "volume_privileges",
         "privilege_type",
         "STRING"
        ],
        [
         "information_schema",
         "volume_privileges",
         "is_grantable",
         "STRING"
        ],
        [
         "information_schema",
         "volume_privileges",
         "inherited_from",
         "STRING"
        ],
        [
         "information_schema",
         "volume_tags",
         "catalog_name",
         "STRING"
        ],
        [
         "information_schema",
         "volume_tags",
         "schema_name",
         "STRING"
        ],
        [
         "information_schema",
         "volume_tags",
         "volume_name",
         "STRING"
        ],
        [
         "information_schema",
         "volume_tags",
         "tag_name",
         "STRING"
        ],
        [
         "information_schema",
         "volume_tags",
         "tag_value",
         "STRING"
        ],
        [
         "information_schema",
         "volumes",
         "volume_catalog",
         "STRING"
        ],
        [
         "information_schema",
         "volumes",
         "volume_schema",
         "STRING"
        ],
        [
         "information_schema",
         "volumes",
         "volume_name",
         "STRING"
        ],
        [
         "information_schema",
         "volumes",
         "volume_type",
         "STRING"
        ],
        [
         "information_schema",
         "volumes",
         "volume_owner",
         "STRING"
        ],
        [
         "information_schema",
         "volumes",
         "comment",
         "STRING"
        ],
        [
         "information_schema",
         "volumes",
         "storage_location",
         "STRING"
        ],
        [
         "information_schema",
         "volumes",
         "created",
         "TIMESTAMP"
        ],
        [
         "information_schema",
         "volumes",
         "created_by",
         "STRING"
        ],
        [
         "information_schema",
         "volumes",
         "last_altered",
         "TIMESTAMP"
        ],
        [
         "information_schema",
         "volumes",
         "last_altered_by",
         "STRING"
        ],
        [
         "secure",
         "customers_masked",
         "customer_id",
         "INT"
        ],
        [
         "secure",
         "customers_masked",
         "customer_name",
         "STRING"
        ],
        [
         "secure",
         "customers_masked",
         "region",
         "STRING"
        ],
        [
         "secure",
         "customers_masked",
         "email",
         "STRING"
        ],
        [
         "secure",
         "customers_masked",
         "phone",
         "STRING"
        ],
        [
         "secure",
         "sales_rls",
         "txn_id",
         "INT"
        ],
        [
         "secure",
         "sales_rls",
         "txn_date",
         "STRING"
        ],
        [
         "secure",
         "sales_rls",
         "amount",
         "DECIMAL"
        ],
        [
         "secure",
         "sales_rls",
         "channel",
         "STRING"
        ],
        [
         "secure",
         "sales_rls",
         "region",
         "STRING"
        ],
        [
         "secure",
         "sales_rls",
         "customer_id",
         "INT"
        ],
        [
         "secure",
         "sales_rls",
         "customer_name",
         "STRING"
        ],
        [
         "silver",
         "sales",
         "txn_id",
         "INT"
        ],
        [
         "silver",
         "sales",
         "txn_date",
         "STRING"
        ],
        [
         "silver",
         "sales",
         "amount",
         "DECIMAL"
        ],
        [
         "silver",
         "sales",
         "channel",
         "STRING"
        ],
        [
         "silver",
         "sales",
         "region",
         "STRING"
        ],
        [
         "silver",
         "sales",
         "customer_id",
         "INT"
        ],
        [
         "silver",
         "sales",
         "customer_name",
         "STRING"
        ],
        [
         "silver",
         "transactions",
         "txn_id",
         "INT"
        ],
        [
         "silver",
         "transactions",
         "customer_id",
         "INT"
        ],
        [
         "silver",
         "transactions",
         "txn_date",
         "STRING"
        ],
        [
         "silver",
         "transactions",
         "amount",
         "DECIMAL"
        ],
        [
         "silver",
         "transactions",
         "channel",
         "STRING"
        ],
        [
         "silver",
         "transactions",
         "region",
         "STRING"
        ]
       ],
       "datasetInfos": [
        {
         "name": "_sqldf",
         "schema": {
          "fields": [
           {
            "metadata": {
             "comment": "Schema that contains the relation."
            },
            "name": "table_schema",
            "nullable": false,
            "type": "string"
           },
           {
            "metadata": {
             "comment": "Name of the relation the column is part of."
            },
            "name": "table_name",
            "nullable": false,
            "type": "string"
           },
           {
            "metadata": {
             "comment": "Name of the column."
            },
            "name": "column_name",
            "nullable": false,
            "type": "string"
           },
           {
            "metadata": {
             "comment": "The simple data type name of the column, or STRUCT, or ARRAY."
            },
            "name": "data_type",
            "nullable": false,
            "type": "string"
           }
          ],
          "type": "struct"
         },
         "tableIdentifier": null,
         "typeStr": "pyspark.sql.connect.dataframe.DataFrame"
        }
       ],
       "dbfsResultPath": null,
       "isJsonSchema": true,
       "metadata": {
        "createTempViewForImplicitDf": true,
        "dataframeName": "_sqldf",
        "executionCount": 113
       },
       "overflow": false,
       "plotOptions": {
        "customPlotOptions": {},
        "displayType": "table",
        "pivotAggregation": null,
        "pivotColumns": null,
        "xColumns": null,
        "yColumns": null
       },
       "removedWidgets": [],
       "schema": [
        {
         "metadata": "{\"comment\": \"Schema that contains the relation.\"}",
         "name": "table_schema",
         "type": "\"string\""
        },
        {
         "metadata": "{\"comment\": \"Name of the relation the column is part of.\"}",
         "name": "table_name",
         "type": "\"string\""
        },
        {
         "metadata": "{\"comment\": \"Name of the column.\"}",
         "name": "column_name",
         "type": "\"string\""
        },
        {
         "metadata": "{\"comment\": \"The simple data type name of the column, or STRUCT, or ARRAY.\"}",
         "name": "data_type",
         "type": "\"string\""
        }
       ],
       "type": "table"
      }
     },
     "output_type": "display_data"
    }
   ],
   "source": [
    "SELECT table_schema, table_name, column_name, data_type\n",
    "FROM retail_uc.INFORMATION_SCHEMA.COLUMNS\n",
    "ORDER BY table_schema, table_name, ordinal_position;"
   ]
  },
  {
   "cell_type": "markdown",
   "metadata": {
    "application/vnd.databricks.v1+cell": {
     "cellMetadata": {},
     "inputWidgets": {},
     "nuid": "90f6e7c2-0c50-4ea3-810c-dc85db5f7548",
     "showTitle": false,
     "tableResultSettingsMap": {},
     "title": ""
    }
   },
   "source": [
    "Show who has what on a specific table"
   ]
  },
  {
   "cell_type": "code",
   "execution_count": 0,
   "metadata": {
    "application/vnd.databricks.v1+cell": {
     "cellMetadata": {
      "byteLimit": 2048000,
      "rowLimit": 10000
     },
     "inputWidgets": {},
     "nuid": "a35f3eda-fcd0-4381-8a94-6d915a1ca7e3",
     "showTitle": false,
     "tableResultSettingsMap": {},
     "title": ""
    }
   },
   "outputs": [
    {
     "output_type": "display_data",
     "data": {
      "text/html": [
       "<style scoped>\n",
       "  .table-result-container {\n",
       "    max-height: 300px;\n",
       "    overflow: auto;\n",
       "  }\n",
       "  table, th, td {\n",
       "    border: 1px solid black;\n",
       "    border-collapse: collapse;\n",
       "  }\n",
       "  th, td {\n",
       "    padding: 5px;\n",
       "  }\n",
       "  th {\n",
       "    text-align: left;\n",
       "  }\n",
       "</style><div class='table-result-container'><table class='table-result'><thead style='background-color: white'><tr><th>Principal</th><th>ActionType</th><th>ObjectType</th><th>ObjectKey</th></tr></thead><tbody></tbody></table></div>"
      ]
     },
     "metadata": {
      "application/vnd.databricks.v1+output": {
       "addedWidgets": {},
       "aggData": [],
       "aggError": "",
       "aggOverflow": false,
       "aggSchema": [],
       "aggSeriesLimitReached": false,
       "aggType": "",
       "arguments": {},
       "columnCustomDisplayInfos": {},
       "data": [],
       "datasetInfos": [
        {
         "name": "_sqldf",
         "schema": {
          "fields": [
           {
            "metadata": {},
            "name": "Principal",
            "nullable": false,
            "type": "string"
           },
           {
            "metadata": {},
            "name": "ActionType",
            "nullable": false,
            "type": "string"
           },
           {
            "metadata": {},
            "name": "ObjectType",
            "nullable": false,
            "type": "string"
           },
           {
            "metadata": {},
            "name": "ObjectKey",
            "nullable": false,
            "type": "string"
           }
          ],
          "type": "struct"
         },
         "tableIdentifier": null,
         "typeStr": "pyspark.sql.connect.dataframe.DataFrame"
        }
       ],
       "dbfsResultPath": null,
       "isJsonSchema": true,
       "metadata": {
        "createTempViewForImplicitDf": true,
        "dataframeName": "_sqldf",
        "executionCount": 115
       },
       "overflow": false,
       "plotOptions": {
        "customPlotOptions": {},
        "displayType": "table",
        "pivotAggregation": null,
        "pivotColumns": null,
        "xColumns": null,
        "yColumns": null
       },
       "removedWidgets": [],
       "schema": [
        {
         "metadata": "{}",
         "name": "Principal",
         "type": "\"string\""
        },
        {
         "metadata": "{}",
         "name": "ActionType",
         "type": "\"string\""
        },
        {
         "metadata": "{}",
         "name": "ObjectType",
         "type": "\"string\""
        },
        {
         "metadata": "{}",
         "name": "ObjectKey",
         "type": "\"string\""
        }
       ],
       "type": "table"
      }
     },
     "output_type": "display_data"
    }
   ],
   "source": [
    "SHOW GRANTS ON TABLE retail_uc.bronze.customers;"
   ]
  },
  {
   "cell_type": "markdown",
   "metadata": {
    "application/vnd.databricks.v1+cell": {
     "cellMetadata": {},
     "inputWidgets": {},
     "nuid": "8cf13622-8d50-4190-b0c9-fc52c23311bd",
     "showTitle": false,
     "tableResultSettingsMap": {},
     "title": ""
    }
   },
   "source": [
    "Find objects marked as PII"
   ]
  },
  {
   "cell_type": "code",
   "execution_count": 0,
   "metadata": {
    "application/vnd.databricks.v1+cell": {
     "cellMetadata": {
      "byteLimit": 2048000,
      "rowLimit": 10000
     },
     "inputWidgets": {},
     "nuid": "37b9b70a-890f-42ab-ad78-0e0cfbfc4575",
     "showTitle": false,
     "tableResultSettingsMap": {},
     "title": ""
    }
   },
   "outputs": [
    {
     "output_type": "display_data",
     "data": {
      "text/html": [
       "<style scoped>\n",
       "  .table-result-container {\n",
       "    max-height: 300px;\n",
       "    overflow: auto;\n",
       "  }\n",
       "  table, th, td {\n",
       "    border: 1px solid black;\n",
       "    border-collapse: collapse;\n",
       "  }\n",
       "  th, td {\n",
       "    padding: 5px;\n",
       "  }\n",
       "  th {\n",
       "    text-align: left;\n",
       "  }\n",
       "</style><div class='table-result-container'><table class='table-result'><thead style='background-color: white'><tr><th>table_schema</th><th>table_name</th><th>table_type</th></tr></thead><tbody><tr><td>information_schema</td><td>tables</td><td>VIEW</td></tr><tr><td>information_schema</td><td>schema_tags</td><td>VIEW</td></tr><tr><td>information_schema</td><td>table_constraints</td><td>VIEW</td></tr><tr><td>information_schema</td><td>routine_privileges</td><td>VIEW</td></tr><tr><td>information_schema</td><td>information_schema_catalog_name</td><td>VIEW</td></tr><tr><td>gold</td><td>daily_sales</td><td>MANAGED</td></tr><tr><td>bronze</td><td>transactions</td><td>MANAGED</td></tr><tr><td>bronze</td><td>sales</td><td>MANAGED</td></tr><tr><td>information_schema</td><td>row_filters</td><td>VIEW</td></tr><tr><td>information_schema</td><td>routine_columns</td><td>VIEW</td></tr><tr><td>information_schema</td><td>volume_tags</td><td>VIEW</td></tr><tr><td>information_schema</td><td>columns</td><td>VIEW</td></tr><tr><td>silver</td><td>transactions</td><td>MANAGED</td></tr><tr><td>gold</td><td>top_customers</td><td>MANAGED</td></tr><tr><td>information_schema</td><td>parameters</td><td>VIEW</td></tr><tr><td>information_schema</td><td>catalog_tags</td><td>VIEW</td></tr><tr><td>gold</td><td>region_kpis</td><td>MANAGED</td></tr><tr><td>information_schema</td><td>volume_privileges</td><td>VIEW</td></tr><tr><td>information_schema</td><td>views</td><td>VIEW</td></tr><tr><td>information_schema</td><td>catalog_privileges</td><td>VIEW</td></tr><tr><td>silver</td><td>sales</td><td>MANAGED</td></tr><tr><td>information_schema</td><td>column_masks</td><td>VIEW</td></tr><tr><td>secure</td><td>sales_rls</td><td>VIEW</td></tr><tr><td>information_schema</td><td>check_constraints</td><td>VIEW</td></tr><tr><td>information_schema</td><td>routines</td><td>VIEW</td></tr><tr><td>bronze</td><td>customers</td><td>MANAGED</td></tr><tr><td>information_schema</td><td>column_tags</td><td>VIEW</td></tr><tr><td>information_schema</td><td>constraint_table_usage</td><td>VIEW</td></tr><tr><td>information_schema</td><td>volumes</td><td>VIEW</td></tr><tr><td>information_schema</td><td>table_tags</td><td>VIEW</td></tr><tr><td>information_schema</td><td>table_privileges</td><td>VIEW</td></tr><tr><td>information_schema</td><td>referential_constraints</td><td>VIEW</td></tr><tr><td>information_schema</td><td>constraint_column_usage</td><td>VIEW</td></tr><tr><td>secure</td><td>customers_masked</td><td>VIEW</td></tr><tr><td>information_schema</td><td>schema_privileges</td><td>VIEW</td></tr><tr><td>information_schema</td><td>catalogs</td><td>VIEW</td></tr><tr><td>information_schema</td><td>schemata</td><td>VIEW</td></tr><tr><td>information_schema</td><td>key_column_usage</td><td>VIEW</td></tr></tbody></table></div>"
      ]
     },
     "metadata": {
      "application/vnd.databricks.v1+output": {
       "addedWidgets": {},
       "aggData": [],
       "aggError": "",
       "aggOverflow": false,
       "aggSchema": [],
       "aggSeriesLimitReached": false,
       "aggType": "",
       "arguments": {},
       "columnCustomDisplayInfos": {},
       "data": [
        [
         "information_schema",
         "tables",
         "VIEW"
        ],
        [
         "information_schema",
         "schema_tags",
         "VIEW"
        ],
        [
         "information_schema",
         "table_constraints",
         "VIEW"
        ],
        [
         "information_schema",
         "routine_privileges",
         "VIEW"
        ],
        [
         "information_schema",
         "information_schema_catalog_name",
         "VIEW"
        ],
        [
         "gold",
         "daily_sales",
         "MANAGED"
        ],
        [
         "bronze",
         "transactions",
         "MANAGED"
        ],
        [
         "bronze",
         "sales",
         "MANAGED"
        ],
        [
         "information_schema",
         "row_filters",
         "VIEW"
        ],
        [
         "information_schema",
         "routine_columns",
         "VIEW"
        ],
        [
         "information_schema",
         "volume_tags",
         "VIEW"
        ],
        [
         "information_schema",
         "columns",
         "VIEW"
        ],
        [
         "silver",
         "transactions",
         "MANAGED"
        ],
        [
         "gold",
         "top_customers",
         "MANAGED"
        ],
        [
         "information_schema",
         "parameters",
         "VIEW"
        ],
        [
         "information_schema",
         "catalog_tags",
         "VIEW"
        ],
        [
         "gold",
         "region_kpis",
         "MANAGED"
        ],
        [
         "information_schema",
         "volume_privileges",
         "VIEW"
        ],
        [
         "information_schema",
         "views",
         "VIEW"
        ],
        [
         "information_schema",
         "catalog_privileges",
         "VIEW"
        ],
        [
         "silver",
         "sales",
         "MANAGED"
        ],
        [
         "information_schema",
         "column_masks",
         "VIEW"
        ],
        [
         "secure",
         "sales_rls",
         "VIEW"
        ],
        [
         "information_schema",
         "check_constraints",
         "VIEW"
        ],
        [
         "information_schema",
         "routines",
         "VIEW"
        ],
        [
         "bronze",
         "customers",
         "MANAGED"
        ],
        [
         "information_schema",
         "column_tags",
         "VIEW"
        ],
        [
         "information_schema",
         "constraint_table_usage",
         "VIEW"
        ],
        [
         "information_schema",
         "volumes",
         "VIEW"
        ],
        [
         "information_schema",
         "table_tags",
         "VIEW"
        ],
        [
         "information_schema",
         "table_privileges",
         "VIEW"
        ],
        [
         "information_schema",
         "referential_constraints",
         "VIEW"
        ],
        [
         "information_schema",
         "constraint_column_usage",
         "VIEW"
        ],
        [
         "secure",
         "customers_masked",
         "VIEW"
        ],
        [
         "information_schema",
         "schema_privileges",
         "VIEW"
        ],
        [
         "information_schema",
         "catalogs",
         "VIEW"
        ],
        [
         "information_schema",
         "schemata",
         "VIEW"
        ],
        [
         "information_schema",
         "key_column_usage",
         "VIEW"
        ]
       ],
       "datasetInfos": [
        {
         "name": "_sqldf",
         "schema": {
          "fields": [
           {
            "metadata": {
             "comment": "Schema that contains the relation."
            },
            "name": "table_schema",
            "nullable": false,
            "type": "string"
           },
           {
            "metadata": {
             "comment": "Name of the relation."
            },
            "name": "table_name",
            "nullable": false,
            "type": "string"
           },
           {
            "metadata": {
             "comment": "Type of the table such as 'MANAGED', 'FOREIGN', 'VIEW', etc."
            },
            "name": "table_type",
            "nullable": false,
            "type": "string"
           }
          ],
          "type": "struct"
         },
         "tableIdentifier": null,
         "typeStr": "pyspark.sql.connect.dataframe.DataFrame"
        }
       ],
       "dbfsResultPath": null,
       "isJsonSchema": true,
       "metadata": {
        "createTempViewForImplicitDf": true,
        "dataframeName": "_sqldf",
        "executionCount": 118
       },
       "overflow": false,
       "plotOptions": {
        "customPlotOptions": {},
        "displayType": "table",
        "pivotAggregation": null,
        "pivotColumns": null,
        "xColumns": null,
        "yColumns": null
       },
       "removedWidgets": [],
       "schema": [
        {
         "metadata": "{\"comment\": \"Schema that contains the relation.\"}",
         "name": "table_schema",
         "type": "\"string\""
        },
        {
         "metadata": "{\"comment\": \"Name of the relation.\"}",
         "name": "table_name",
         "type": "\"string\""
        },
        {
         "metadata": "{\"comment\": \"Type of the table such as 'MANAGED', 'FOREIGN', 'VIEW', etc.\"}",
         "name": "table_type",
         "type": "\"string\""
        }
       ],
       "type": "table"
      }
     },
     "output_type": "display_data"
    }
   ],
   "source": [
    "SELECT table_schema, table_name, table_type\n",
    "FROM retail_uc.INFORMATION_SCHEMA.TABLES\n",
    "WHERE table_catalog = 'retail_uc';"
   ]
  },
  {
   "cell_type": "markdown",
   "metadata": {
    "application/vnd.databricks.v1+cell": {
     "cellMetadata": {},
     "inputWidgets": {},
     "nuid": "6097737e-7699-4932-abd2-363784b66340",
     "showTitle": false,
     "tableResultSettingsMap": {},
     "title": ""
    }
   },
   "source": []
  }
 ],
 "metadata": {
  "application/vnd.databricks.v1+notebook": {
   "computePreferences": null,
   "dashboards": [],
   "environmentMetadata": {
    "base_environment": "",
    "environment_version": "2"
   },
   "inputWidgetPreferences": null,
   "language": "sql",
   "notebookMetadata": {
    "mostRecentlyExecutedCommandWithImplicitDF": {
     "commandId": -1,
     "dataframes": [
      "_sqldf"
     ]
    },
    "pythonIndentUnit": 4
   },
   "notebookName": "Unity Catalog",
   "widgets": {}
  },
  "language_info": {
   "name": "sql"
  }
 },
 "nbformat": 4,
 "nbformat_minor": 0
}