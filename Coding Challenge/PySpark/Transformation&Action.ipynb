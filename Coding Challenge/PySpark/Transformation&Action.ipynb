{
  "nbformat": 4,
  "nbformat_minor": 0,
  "metadata": {
    "colab": {
      "provenance": []
    },
    "kernelspec": {
      "name": "python3",
      "display_name": "Python 3"
    },
    "language_info": {
      "name": "python"
    }
  },
  "cells": [
    {
      "cell_type": "markdown",
      "source": [
        "# PySpark Transformations & Actions"
      ],
      "metadata": {
        "id": "jjMHk1ecl9eN"
      }
    },
    {
      "cell_type": "markdown",
      "source": [
        "---"
      ],
      "metadata": {
        "id": "nUAHyPLNmD5O"
      }
    },
    {
      "cell_type": "markdown",
      "source": [
        "#### Import necessary libraries"
      ],
      "metadata": {
        "id": "RkzTowdLmCxh"
      }
    },
    {
      "cell_type": "code",
      "execution_count": 1,
      "metadata": {
        "id": "dO9oPCnhl7Cl"
      },
      "outputs": [],
      "source": [
        "from pyspark.sql import SparkSession\n",
        "from pyspark.sql.functions import col, sum, avg, count, row_number\n",
        "from pyspark.sql.window import Window"
      ]
    },
    {
      "cell_type": "markdown",
      "source": [
        "#### Create SparkSession"
      ],
      "metadata": {
        "id": "ihyOYiMXmRHX"
      }
    },
    {
      "cell_type": "code",
      "source": [
        "spark = SparkSession.builder.appName(\"TransformationsExample\").getOrCreate()"
      ],
      "metadata": {
        "id": "0Zqzh9esmXHy"
      },
      "execution_count": 2,
      "outputs": []
    },
    {
      "cell_type": "markdown",
      "source": [
        "#### Sample DataFrames"
      ],
      "metadata": {
        "id": "JIhWu36emcIN"
      }
    },
    {
      "cell_type": "code",
      "source": [
        "data1 = [\n",
        "    (1, \"Alice\", \"HR\", 3000),\n",
        "    (2, \"Bob\", \"IT\", 4000),\n",
        "    (3, \"Charlie\", \"HR\", 3500),\n",
        "    (4, \"David\", \"IT\", 4500),\n",
        "    (5, \"Eve\", \"Finance\", 5000)\n",
        "]\n",
        "columns1 = [\"id\", \"name\", \"dept\", \"salary\"]"
      ],
      "metadata": {
        "id": "1skE42R7mf5g"
      },
      "execution_count": 3,
      "outputs": []
    },
    {
      "cell_type": "code",
      "source": [
        "data2 = [\n",
        "    (1, \"Chennai\"),\n",
        "    (2, \"Bangalore\"),\n",
        "    (3, \"Delhi\"),\n",
        "    (6, \"Mumbai\")\n",
        "]\n",
        "columns2 = [\"id\", \"city\"]"
      ],
      "metadata": {
        "id": "pDxWUCeHmiOo"
      },
      "execution_count": 4,
      "outputs": []
    },
    {
      "cell_type": "code",
      "source": [
        "df1 = spark.createDataFrame(data1, columns1)"
      ],
      "metadata": {
        "id": "3QOH7vaGmj_U"
      },
      "execution_count": 5,
      "outputs": []
    },
    {
      "cell_type": "code",
      "source": [
        "df2 = spark.createDataFrame(data2, columns2)"
      ],
      "metadata": {
        "id": "F6qFBn73mli1"
      },
      "execution_count": 6,
      "outputs": []
    },
    {
      "cell_type": "markdown",
      "source": [
        "1. Filter Transformation"
      ],
      "metadata": {
        "id": "BGoQUpjBmoKe"
      }
    },
    {
      "cell_type": "code",
      "source": [
        "print(\"Filter: Employees with salary > 4000\")\n",
        "df1.filter(col(\"salary\") > 4000).show()"
      ],
      "metadata": {
        "colab": {
          "base_uri": "https://localhost:8080/"
        },
        "id": "-6vID9SJmsUI",
        "outputId": "acee93a6-7be6-4c5d-851c-43405ba31cdb"
      },
      "execution_count": 7,
      "outputs": [
        {
          "output_type": "stream",
          "name": "stdout",
          "text": [
            "Filter: Employees with salary > 4000\n",
            "+---+-----+-------+------+\n",
            "| id| name|   dept|salary|\n",
            "+---+-----+-------+------+\n",
            "|  4|David|     IT|  4500|\n",
            "|  5|  Eve|Finance|  5000|\n",
            "+---+-----+-------+------+\n",
            "\n"
          ]
        }
      ]
    },
    {
      "cell_type": "markdown",
      "source": [
        "2. Join Transformation"
      ],
      "metadata": {
        "id": "-Svm-_40oHP0"
      }
    },
    {
      "cell_type": "code",
      "source": [
        "print(\"Join: Left join with employee location\")\n",
        "df_join = df1.join(df2, on=\"id\", how=\"left\")\n",
        "df_join.show()"
      ],
      "metadata": {
        "colab": {
          "base_uri": "https://localhost:8080/"
        },
        "id": "0EfuEBWYof6g",
        "outputId": "3887598b-6eea-4cca-dbd3-f8d97d7dcd00"
      },
      "execution_count": 8,
      "outputs": [
        {
          "output_type": "stream",
          "name": "stdout",
          "text": [
            "Join: Left join with employee location\n",
            "+---+-------+-------+------+---------+\n",
            "| id|   name|   dept|salary|     city|\n",
            "+---+-------+-------+------+---------+\n",
            "|  1|  Alice|     HR|  3000|  Chennai|\n",
            "|  2|    Bob|     IT|  4000|Bangalore|\n",
            "|  5|    Eve|Finance|  5000|     NULL|\n",
            "|  3|Charlie|     HR|  3500|    Delhi|\n",
            "|  4|  David|     IT|  4500|     NULL|\n",
            "+---+-------+-------+------+---------+\n",
            "\n"
          ]
        }
      ]
    },
    {
      "cell_type": "markdown",
      "source": [
        "3. GroupBy and Aggregation"
      ],
      "metadata": {
        "id": "1toJoYosoi8M"
      }
    },
    {
      "cell_type": "code",
      "source": [
        "print(\"GroupBy: Total and Average Salary by Department\")\n",
        "df1.groupBy(\"dept\").agg(\n",
        "    sum(\"salary\").alias(\"total_salary\"),\n",
        "    avg(\"salary\").alias(\"avg_salary\")\n",
        ").show()"
      ],
      "metadata": {
        "colab": {
          "base_uri": "https://localhost:8080/"
        },
        "id": "Xk6jq1thokX-",
        "outputId": "67ae5519-f5cb-454a-a380-6c8379095902"
      },
      "execution_count": 9,
      "outputs": [
        {
          "output_type": "stream",
          "name": "stdout",
          "text": [
            "GroupBy: Total and Average Salary by Department\n",
            "+-------+------------+----------+\n",
            "|   dept|total_salary|avg_salary|\n",
            "+-------+------------+----------+\n",
            "|     HR|        6500|    3250.0|\n",
            "|     IT|        8500|    4250.0|\n",
            "|Finance|        5000|    5000.0|\n",
            "+-------+------------+----------+\n",
            "\n"
          ]
        }
      ]
    },
    {
      "cell_type": "markdown",
      "source": [
        "4. Window Functions"
      ],
      "metadata": {
        "id": "w-iNUwpsomet"
      }
    },
    {
      "cell_type": "code",
      "source": [
        "print(\"Window Function: Row number by department ordered by salary descending\")\n",
        "windowSpec = Window.partitionBy(\"dept\").orderBy(col(\"salary\").desc())\n",
        "\n",
        "df_window = df1.withColumn(\"row_number\", row_number().over(windowSpec))\n",
        "df_window.show()"
      ],
      "metadata": {
        "colab": {
          "base_uri": "https://localhost:8080/"
        },
        "id": "l73tU-NTooSU",
        "outputId": "7abb22f8-fe1a-44f4-d514-d63c6ac0f4a9"
      },
      "execution_count": 10,
      "outputs": [
        {
          "output_type": "stream",
          "name": "stdout",
          "text": [
            "Window Function: Row number by department ordered by salary descending\n",
            "+---+-------+-------+------+----------+\n",
            "| id|   name|   dept|salary|row_number|\n",
            "+---+-------+-------+------+----------+\n",
            "|  5|    Eve|Finance|  5000|         1|\n",
            "|  3|Charlie|     HR|  3500|         1|\n",
            "|  1|  Alice|     HR|  3000|         2|\n",
            "|  4|  David|     IT|  4500|         1|\n",
            "|  2|    Bob|     IT|  4000|         2|\n",
            "+---+-------+-------+------+----------+\n",
            "\n"
          ]
        }
      ]
    },
    {
      "cell_type": "markdown",
      "source": [
        "5. Select"
      ],
      "metadata": {
        "id": "mwHqjPE8pBAi"
      }
    },
    {
      "cell_type": "code",
      "source": [
        "print(\"Select: Selecting specific columns\")\n",
        "df1.select(\"name\", \"salary\").show()"
      ],
      "metadata": {
        "colab": {
          "base_uri": "https://localhost:8080/"
        },
        "id": "UP-w0a23pDNQ",
        "outputId": "b8178201-0a83-46f4-f087-e5f496e23e89"
      },
      "execution_count": 12,
      "outputs": [
        {
          "output_type": "stream",
          "name": "stdout",
          "text": [
            "Select: Selecting specific columns\n",
            "+-------+------+\n",
            "|   name|salary|\n",
            "+-------+------+\n",
            "|  Alice|  3000|\n",
            "|    Bob|  4000|\n",
            "|Charlie|  3500|\n",
            "|  David|  4500|\n",
            "|    Eve|  5000|\n",
            "+-------+------+\n",
            "\n"
          ]
        }
      ]
    },
    {
      "cell_type": "markdown",
      "source": [
        "6. WithColumn"
      ],
      "metadata": {
        "id": "VUhp4632pGVS"
      }
    },
    {
      "cell_type": "code",
      "source": [
        "from pyspark.sql.functions import expr\n",
        "\n",
        "print(\"WithColumn: Add bonus (10% of salary)\")\n",
        "df1.withColumn(\"bonus\", col(\"salary\") * 0.10).show()"
      ],
      "metadata": {
        "colab": {
          "base_uri": "https://localhost:8080/"
        },
        "id": "-3NLyZ0upIr1",
        "outputId": "cbe958be-2b3b-45a5-f0e5-654548621201"
      },
      "execution_count": 13,
      "outputs": [
        {
          "output_type": "stream",
          "name": "stdout",
          "text": [
            "WithColumn: Add bonus (10% of salary)\n",
            "+---+-------+-------+------+-----+\n",
            "| id|   name|   dept|salary|bonus|\n",
            "+---+-------+-------+------+-----+\n",
            "|  1|  Alice|     HR|  3000|300.0|\n",
            "|  2|    Bob|     IT|  4000|400.0|\n",
            "|  3|Charlie|     HR|  3500|350.0|\n",
            "|  4|  David|     IT|  4500|450.0|\n",
            "|  5|    Eve|Finance|  5000|500.0|\n",
            "+---+-------+-------+------+-----+\n",
            "\n"
          ]
        }
      ]
    },
    {
      "cell_type": "markdown",
      "source": [
        "7. Drop"
      ],
      "metadata": {
        "id": "uYQDZ636pLca"
      }
    },
    {
      "cell_type": "code",
      "source": [
        "print(\"Drop: Removing a column\")\n",
        "df1.drop(\"dept\").show()"
      ],
      "metadata": {
        "colab": {
          "base_uri": "https://localhost:8080/"
        },
        "id": "LCcU3xShpNJg",
        "outputId": "a00af669-4730-43f7-d31b-9151967f2f2d"
      },
      "execution_count": 14,
      "outputs": [
        {
          "output_type": "stream",
          "name": "stdout",
          "text": [
            "Drop: Removing a column\n",
            "+---+-------+------+\n",
            "| id|   name|salary|\n",
            "+---+-------+------+\n",
            "|  1|  Alice|  3000|\n",
            "|  2|    Bob|  4000|\n",
            "|  3|Charlie|  3500|\n",
            "|  4|  David|  4500|\n",
            "|  5|    Eve|  5000|\n",
            "+---+-------+------+\n",
            "\n"
          ]
        }
      ]
    },
    {
      "cell_type": "markdown",
      "source": [
        "8. Distinct"
      ],
      "metadata": {
        "id": "uLZ_a26BpPMx"
      }
    },
    {
      "cell_type": "code",
      "source": [
        "print(\"Distinct: Unique departments\")\n",
        "df1.select(\"dept\").distinct().show()"
      ],
      "metadata": {
        "colab": {
          "base_uri": "https://localhost:8080/"
        },
        "id": "iABNx6vCpSPm",
        "outputId": "6628ef8a-014d-4e41-fd45-c53246e7ac0f"
      },
      "execution_count": 15,
      "outputs": [
        {
          "output_type": "stream",
          "name": "stdout",
          "text": [
            "Distinct: Unique departments\n",
            "+-------+\n",
            "|   dept|\n",
            "+-------+\n",
            "|     HR|\n",
            "|     IT|\n",
            "|Finance|\n",
            "+-------+\n",
            "\n"
          ]
        }
      ]
    },
    {
      "cell_type": "markdown",
      "source": [
        "9. OrderBy / Sort"
      ],
      "metadata": {
        "id": "bMDtf_i4pVIa"
      }
    },
    {
      "cell_type": "code",
      "source": [
        "print(\"OrderBy: Employees sorted by salary descending\")\n",
        "df1.orderBy(col(\"salary\").desc()).show()"
      ],
      "metadata": {
        "colab": {
          "base_uri": "https://localhost:8080/"
        },
        "id": "7v8oNrtYpXI4",
        "outputId": "6d68c4d5-8a36-4e67-f17e-2da6fbce3b06"
      },
      "execution_count": 16,
      "outputs": [
        {
          "output_type": "stream",
          "name": "stdout",
          "text": [
            "OrderBy: Employees sorted by salary descending\n",
            "+---+-------+-------+------+\n",
            "| id|   name|   dept|salary|\n",
            "+---+-------+-------+------+\n",
            "|  5|    Eve|Finance|  5000|\n",
            "|  4|  David|     IT|  4500|\n",
            "|  2|    Bob|     IT|  4000|\n",
            "|  3|Charlie|     HR|  3500|\n",
            "|  1|  Alice|     HR|  3000|\n",
            "+---+-------+-------+------+\n",
            "\n"
          ]
        }
      ]
    },
    {
      "cell_type": "markdown",
      "source": [
        "10. Limit"
      ],
      "metadata": {
        "id": "ToYNj2eNpZBC"
      }
    },
    {
      "cell_type": "code",
      "source": [
        "print(\"Limit: Top 3 salaries\")\n",
        "df1.orderBy(col(\"salary\").desc()).limit(3).show()"
      ],
      "metadata": {
        "colab": {
          "base_uri": "https://localhost:8080/"
        },
        "id": "q1ZyR-t7pbWK",
        "outputId": "65c0c5c4-d600-4ac4-f50d-a72a605c6041"
      },
      "execution_count": 17,
      "outputs": [
        {
          "output_type": "stream",
          "name": "stdout",
          "text": [
            "Limit: Top 3 salaries\n",
            "+---+-----+-------+------+\n",
            "| id| name|   dept|salary|\n",
            "+---+-----+-------+------+\n",
            "|  5|  Eve|Finance|  5000|\n",
            "|  4|David|     IT|  4500|\n",
            "|  2|  Bob|     IT|  4000|\n",
            "+---+-----+-------+------+\n",
            "\n"
          ]
        }
      ]
    },
    {
      "cell_type": "markdown",
      "source": [
        "11. Union"
      ],
      "metadata": {
        "id": "VHX2fnwApd2P"
      }
    },
    {
      "cell_type": "code",
      "source": [
        "print(\"Union: Combine two DataFrames (schema must match)\")\n",
        "dfA = df1.select(\"id\", \"name\")\n",
        "dfB = df1.select(\"id\", \"name\")\n",
        "dfA.union(dfB).show()"
      ],
      "metadata": {
        "colab": {
          "base_uri": "https://localhost:8080/"
        },
        "id": "81LmhfqWphVl",
        "outputId": "0abd5f63-6656-466a-ba39-e045db2f473f"
      },
      "execution_count": 18,
      "outputs": [
        {
          "output_type": "stream",
          "name": "stdout",
          "text": [
            "Union: Combine two DataFrames (schema must match)\n",
            "+---+-------+\n",
            "| id|   name|\n",
            "+---+-------+\n",
            "|  1|  Alice|\n",
            "|  2|    Bob|\n",
            "|  3|Charlie|\n",
            "|  4|  David|\n",
            "|  5|    Eve|\n",
            "|  1|  Alice|\n",
            "|  2|    Bob|\n",
            "|  3|Charlie|\n",
            "|  4|  David|\n",
            "|  5|    Eve|\n",
            "+---+-------+\n",
            "\n"
          ]
        }
      ]
    },
    {
      "cell_type": "markdown",
      "source": [
        "12. DropDuplicates"
      ],
      "metadata": {
        "id": "m3eow6K9pkCG"
      }
    },
    {
      "cell_type": "code",
      "source": [
        "print(\"DropDuplicates: Remove duplicate rows\")\n",
        "df1_dup = df1.union(df1)  # introduce duplicates\n",
        "df1_dup.dropDuplicates().show()"
      ],
      "metadata": {
        "colab": {
          "base_uri": "https://localhost:8080/"
        },
        "id": "8M1t7wlApmTv",
        "outputId": "fc353fdb-3b43-4fd3-d6c0-f62f84c43df2"
      },
      "execution_count": 19,
      "outputs": [
        {
          "output_type": "stream",
          "name": "stdout",
          "text": [
            "DropDuplicates: Remove duplicate rows\n",
            "+---+-------+-------+------+\n",
            "| id|   name|   dept|salary|\n",
            "+---+-------+-------+------+\n",
            "|  2|    Bob|     IT|  4000|\n",
            "|  1|  Alice|     HR|  3000|\n",
            "|  3|Charlie|     HR|  3500|\n",
            "|  4|  David|     IT|  4500|\n",
            "|  5|    Eve|Finance|  5000|\n",
            "+---+-------+-------+------+\n",
            "\n"
          ]
        }
      ]
    },
    {
      "cell_type": "markdown",
      "source": [
        "13. Replace / FillNA / DropNA"
      ],
      "metadata": {
        "id": "er-Ruf5cppLA"
      }
    },
    {
      "cell_type": "code",
      "source": [
        "print(\"FillNA: Fill missing city values with 'Unknown'\")\n",
        "df_join.fillna(\"Unknown\").show()\n",
        "\n",
        "print(\"DropNA: Remove rows with null values\")\n",
        "df_join.dropna().show()"
      ],
      "metadata": {
        "colab": {
          "base_uri": "https://localhost:8080/"
        },
        "id": "BLSHXiNqprnc",
        "outputId": "5b034622-3f3d-4a32-9b07-d74c68ab183d"
      },
      "execution_count": 20,
      "outputs": [
        {
          "output_type": "stream",
          "name": "stdout",
          "text": [
            "FillNA: Fill missing city values with 'Unknown'\n",
            "+---+-------+-------+------+---------+\n",
            "| id|   name|   dept|salary|     city|\n",
            "+---+-------+-------+------+---------+\n",
            "|  1|  Alice|     HR|  3000|  Chennai|\n",
            "|  2|    Bob|     IT|  4000|Bangalore|\n",
            "|  5|    Eve|Finance|  5000|  Unknown|\n",
            "|  3|Charlie|     HR|  3500|    Delhi|\n",
            "|  4|  David|     IT|  4500|  Unknown|\n",
            "+---+-------+-------+------+---------+\n",
            "\n",
            "DropNA: Remove rows with null values\n",
            "+---+-------+----+------+---------+\n",
            "| id|   name|dept|salary|     city|\n",
            "+---+-------+----+------+---------+\n",
            "|  1|  Alice|  HR|  3000|  Chennai|\n",
            "|  2|    Bob|  IT|  4000|Bangalore|\n",
            "|  3|Charlie|  HR|  3500|    Delhi|\n",
            "+---+-------+----+------+---------+\n",
            "\n"
          ]
        }
      ]
    },
    {
      "cell_type": "markdown",
      "source": [
        "14. Explode (for nested data/arrays)"
      ],
      "metadata": {
        "id": "LRfUz1JUpwgh"
      }
    },
    {
      "cell_type": "code",
      "source": [
        "from pyspark.sql.functions import explode\n",
        "\n",
        "array_df = spark.createDataFrame([\n",
        "    (1, [\"Python\", \"Spark\"]),\n",
        "    (2, [\"Java\"]),\n",
        "    (3, [])\n",
        "], [\"id\", \"skills\"])\n",
        "\n",
        "print(\"Explode: Flatten array column\")\n",
        "array_df.withColumn(\"skill\", explode(col(\"skills\"))).show()"
      ],
      "metadata": {
        "colab": {
          "base_uri": "https://localhost:8080/"
        },
        "id": "LgkXNGm1pzVW",
        "outputId": "8d4684f3-0d48-499d-a0bd-c8cc4786100f"
      },
      "execution_count": 21,
      "outputs": [
        {
          "output_type": "stream",
          "name": "stdout",
          "text": [
            "Explode: Flatten array column\n",
            "+---+---------------+------+\n",
            "| id|         skills| skill|\n",
            "+---+---------------+------+\n",
            "|  1|[Python, Spark]|Python|\n",
            "|  1|[Python, Spark]| Spark|\n",
            "|  2|         [Java]|  Java|\n",
            "+---+---------------+------+\n",
            "\n"
          ]
        }
      ]
    },
    {
      "cell_type": "markdown",
      "source": [
        "### Actions"
      ],
      "metadata": {
        "id": "WJAYTOuusTuM"
      }
    },
    {
      "cell_type": "markdown",
      "source": [
        "15. first()"
      ],
      "metadata": {
        "id": "OqLJiA00p3nF"
      }
    },
    {
      "cell_type": "code",
      "source": [
        "print(\"First: Get the first row\")\n",
        "print(df1.first())"
      ],
      "metadata": {
        "colab": {
          "base_uri": "https://localhost:8080/"
        },
        "id": "_tZozej0p542",
        "outputId": "79fa84c8-976a-490d-f452-e7b81cde3f9c"
      },
      "execution_count": 22,
      "outputs": [
        {
          "output_type": "stream",
          "name": "stdout",
          "text": [
            "First: Get the first row\n",
            "Row(id=1, name='Alice', dept='HR', salary=3000)\n"
          ]
        }
      ]
    },
    {
      "cell_type": "markdown",
      "source": [
        "16. head(n)"
      ],
      "metadata": {
        "id": "qfhGym6Hp7V2"
      }
    },
    {
      "cell_type": "code",
      "source": [
        "print(\"Head: First 3 rows\")\n",
        "print(df1.head(3))"
      ],
      "metadata": {
        "colab": {
          "base_uri": "https://localhost:8080/"
        },
        "id": "QF6Utf8Op9_F",
        "outputId": "4ed70cb2-87f2-4522-928c-d82cd4731dbc"
      },
      "execution_count": 23,
      "outputs": [
        {
          "output_type": "stream",
          "name": "stdout",
          "text": [
            "Head: First 3 rows\n",
            "[Row(id=1, name='Alice', dept='HR', salary=3000), Row(id=2, name='Bob', dept='IT', salary=4000), Row(id=3, name='Charlie', dept='HR', salary=3500)]\n"
          ]
        }
      ]
    },
    {
      "cell_type": "markdown",
      "source": [
        "17. take(n)"
      ],
      "metadata": {
        "id": "xbljbWdop_i5"
      }
    },
    {
      "cell_type": "code",
      "source": [
        "print(\"Take: Take 2 rows as list\")\n",
        "print(df1.take(2))"
      ],
      "metadata": {
        "colab": {
          "base_uri": "https://localhost:8080/"
        },
        "id": "l03NONQ1qBAu",
        "outputId": "65dd26d2-d164-4e21-a9ef-b210aab2b72e"
      },
      "execution_count": 24,
      "outputs": [
        {
          "output_type": "stream",
          "name": "stdout",
          "text": [
            "Take: Take 2 rows as list\n",
            "[Row(id=1, name='Alice', dept='HR', salary=3000), Row(id=2, name='Bob', dept='IT', salary=4000)]\n"
          ]
        }
      ]
    },
    {
      "cell_type": "markdown",
      "source": [
        "18. Show, count, collect"
      ],
      "metadata": {
        "id": "oFVliuLeorgs"
      }
    },
    {
      "cell_type": "code",
      "source": [
        "print(\"Count Action: Total number of employees =\", df1.count())\n",
        "print(\"Collect Action: Collect all employee names =\", [row[\"name\"] for row in df1.select(\"name\").collect()])"
      ],
      "metadata": {
        "colab": {
          "base_uri": "https://localhost:8080/"
        },
        "id": "OeQNfTm7ot1R",
        "outputId": "dd9a9ddd-17ef-4910-d0cb-1b532c64f775"
      },
      "execution_count": 11,
      "outputs": [
        {
          "output_type": "stream",
          "name": "stdout",
          "text": [
            "Count Action: Total number of employees = 5\n",
            "Collect Action: Collect all employee names = ['Alice', 'Bob', 'Charlie', 'David', 'Eve']\n"
          ]
        }
      ]
    },
    {
      "cell_type": "markdown",
      "source": [
        "19. write()"
      ],
      "metadata": {
        "id": "UNFnRUo9qPl1"
      }
    },
    {
      "cell_type": "code",
      "source": [
        "print(\"Write: Save as CSV (uncomment to run)\")\n",
        "# df1.write.csv(\"output/employees.csv\", header=True)"
      ],
      "metadata": {
        "colab": {
          "base_uri": "https://localhost:8080/"
        },
        "id": "1x0xlO8AqQvV",
        "outputId": "52b14fe2-de99-4fe9-f3ac-f13165664ba2"
      },
      "execution_count": 25,
      "outputs": [
        {
          "output_type": "stream",
          "name": "stdout",
          "text": [
            "Write: Save as CSV (uncomment to run)\n"
          ]
        }
      ]
    }
  ]
}